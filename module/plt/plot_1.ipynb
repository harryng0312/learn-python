{
 "cells": [
  {
   "cell_type": "code",
   "execution_count": 26,
   "id": "initial_id",
   "metadata": {
    "ExecuteTime": {
     "end_time": "2024-11-03T12:31:37.719279Z",
     "start_time": "2024-11-03T12:31:36.828696Z"
    },
    "collapsed": true
   },
   "outputs": [],
   "source": [
    "import matplotlib.pyplot as plt\n",
    "import numpy as np\n",
    "import pandas as pd\n",
    "import seaborn as sns\n",
    "\n",
    "%matplotlib inline\n",
    "# %matplotlib qt"
   ]
  },
  {
   "cell_type": "code",
   "execution_count": 27,
   "id": "a7de89681e75bad3",
   "metadata": {
    "ExecuteTime": {
     "end_time": "2024-11-03T12:31:40.644215Z",
     "start_time": "2024-11-03T12:31:40.638755Z"
    }
   },
   "outputs": [],
   "source": [
    "x = np.linspace(-10, 10, 200)\n",
    "y = np.linspace(-10, 10, 200)\n",
    "X, Y = np.meshgrid(x, y)\n",
    "\n",
    "Z = np.sin(np.sqrt(X**2 + Y**2))"
   ]
  },
  {
   "cell_type": "code",
   "execution_count": null,
   "id": "61b9ca87925090ba",
   "metadata": {
    "ExecuteTime": {
     "end_time": "2024-11-03T12:31:43.072038Z",
     "start_time": "2024-11-03T12:31:42.861070Z"
    }
   },
   "outputs": [],
   "source": [
    "# plt.rcParams['text.usetex'] = True\n",
    "cmaps = (\"viridis\", \"cividis\", \"plasma\", \"binary\", \"turbo\")\n",
    "plt.contour(X, Y, Z, levels=50, cmap=cmaps[4])\n",
    "plt.colorbar()\n",
    "# plt.colorbar(orientation='vertical', shrink=0.8)\n",
    "plt.title(\"Contour Plot of $\\sin(\\sqrt{x^2 + y^2})$\")\n",
    "plt.xlabel(\"X\")\n",
    "plt.ylabel(\"Y\")\n",
    "\n",
    "plt.show()"
   ]
  },
  {
   "cell_type": "code",
   "execution_count": 29,
   "id": "dfaa9a1691fabfbc",
   "metadata": {
    "ExecuteTime": {
     "end_time": "2024-11-03T12:31:57.064329Z",
     "start_time": "2024-11-03T12:31:57.062320Z"
    }
   },
   "outputs": [],
   "source": [
    "from mpl_toolkits.mplot3d import Axes3D\n",
    "from matplotlib.gridspec import GridSpec"
   ]
  },
  {
   "cell_type": "code",
   "execution_count": null,
   "id": "46fe34d503a8c648",
   "metadata": {
    "ExecuteTime": {
     "end_time": "2024-11-03T12:31:58.509070Z",
     "start_time": "2024-11-03T12:31:58.290983Z"
    }
   },
   "outputs": [],
   "source": [
    "fig = plt.figure(figsize=(16, 8))\n",
    "gs = GridSpec(1, 5, figure=fig)\n",
    "# ax_1 = fig.add_subplot(121)\n",
    "# ax_2 = fig.add_subplot(122, projection=\"3d\")\n",
    "ax_1 = fig.add_subplot(gs[:,:3])\n",
    "ax_2 = fig.add_subplot(gs[:,3:], projection=\"3d\")\n",
    "\n",
    "ax_1.set_title(\"Contour Plot of $\\sin(\\sqrt{x^2 + y^2})$\")\n",
    "ax_1.set_xlabel(\"X\")\n",
    "ax_1.set_ylabel(\"Y\")\n",
    "ax_2.set_title(\"3D Plot of $\\sin(\\sqrt{x^2 + y^2})$\")\n",
    "ax_2.set_xlabel(\"X\")\n",
    "ax_2.set_ylabel(\"Y\")\n",
    "ax_2.set_zlabel(\"Z\")\n",
    "\n",
    "cmaps = (\"viridis\", \"cividis\", \"plasma\", \"binary\", \"turbo\", \"Blues\", \"grays\")\n",
    "cmap = cmaps[4]\n",
    "samples = 100\n",
    "\n",
    "contour = ax_1.contour(X, Y, Z, levels=samples, cmap=cmap)\n",
    "fig.colorbar(contour, ax=ax_1, shrink=1.)\n",
    "\n",
    "ax_2.plot_surface(X, Y, Z, rcount= samples, ccount=samples,  cmap=cmap)\n",
    "# ax_2.scatter(X, Y, Z, rcount= samples, ccount=samples,  cmap=cmap)\n",
    "\n",
    "plt.tight_layout()\n",
    "plt.show()"
   ]
  },
  {
   "cell_type": "code",
   "execution_count": 7,
   "id": "dbf9d62aea0e082b",
   "metadata": {
    "ExecuteTime": {
     "end_time": "2024-11-03T04:04:41.950450Z",
     "start_time": "2024-11-03T04:04:41.947788Z"
    }
   },
   "outputs": [
    {
     "data": {
      "text/plain": [
       "0.9877659459927356"
      ]
     },
     "execution_count": 7,
     "metadata": {},
     "output_type": "execute_result"
    }
   ],
   "source": [
    "np.sin(np.sqrt((1)**2 + (1)**2))"
   ]
  }
 ],
 "metadata": {
  "kernelspec": {
   "display_name": "Python 3",
   "language": "python",
   "name": "python3"
  },
  "language_info": {
   "codemirror_mode": {
    "name": "ipython",
    "version": 2
   },
   "file_extension": ".py",
   "mimetype": "text/x-python",
   "name": "python",
   "nbconvert_exporter": "python",
   "pygments_lexer": "ipython2",
   "version": "2.7.6"
  }
 },
 "nbformat": 4,
 "nbformat_minor": 5
}
