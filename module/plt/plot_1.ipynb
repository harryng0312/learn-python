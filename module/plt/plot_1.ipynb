{
 "cells": [
  {
   "cell_type": "code",
   "id": "initial_id",
   "metadata": {
    "collapsed": true,
    "ExecuteTime": {
     "end_time": "2024-11-03T12:31:37.719279Z",
     "start_time": "2024-11-03T12:31:36.828696Z"
    }
   },
   "source": [
    "import matplotlib.pyplot as plt\n",
    "import numpy as np\n",
    "import pandas as pd\n",
    "import seaborn as sns\n",
    "\n",
    "%matplotlib inline\n",
    "# %matplotlib qt"
   ],
   "outputs": [],
   "execution_count": 26
  },
  {
   "metadata": {
    "ExecuteTime": {
     "end_time": "2024-11-03T12:31:40.644215Z",
     "start_time": "2024-11-03T12:31:40.638755Z"
    }
   },
   "cell_type": "code",
   "source": [
    "x = np.linspace(-10, 10, 200)\n",
    "y = np.linspace(-10, 10, 200)\n",
    "X, Y = np.meshgrid(x, y)\n",
    "\n",
    "Z = np.sin(np.sqrt(X**2 + Y**2))"
   ],
   "id": "a7de89681e75bad3",
   "outputs": [],
   "execution_count": 27
  },
  {
   "metadata": {
    "ExecuteTime": {
     "end_time": "2024-11-03T12:27:03.023685Z",
     "start_time": "2024-11-03T12:27:03.018572Z"
    }
   },
   "cell_type": "code",
   "source": "X",
   "id": "8ae14f3f653470f5",
   "outputs": [
    {
     "data": {
      "text/plain": [
       "array([[-10.        ,  -9.89949749,  -9.79899497, ...,   9.79899497,\n",
       "          9.89949749,  10.        ],\n",
       "       [-10.        ,  -9.89949749,  -9.79899497, ...,   9.79899497,\n",
       "          9.89949749,  10.        ],\n",
       "       [-10.        ,  -9.89949749,  -9.79899497, ...,   9.79899497,\n",
       "          9.89949749,  10.        ],\n",
       "       ...,\n",
       "       [-10.        ,  -9.89949749,  -9.79899497, ...,   9.79899497,\n",
       "          9.89949749,  10.        ],\n",
       "       [-10.        ,  -9.89949749,  -9.79899497, ...,   9.79899497,\n",
       "          9.89949749,  10.        ],\n",
       "       [-10.        ,  -9.89949749,  -9.79899497, ...,   9.79899497,\n",
       "          9.89949749,  10.        ]])"
      ]
     },
     "execution_count": 10,
     "metadata": {},
     "output_type": "execute_result"
    }
   ],
   "execution_count": 10
  },
  {
   "metadata": {
    "ExecuteTime": {
     "end_time": "2024-11-03T12:31:43.072038Z",
     "start_time": "2024-11-03T12:31:42.861070Z"
    }
   },
   "cell_type": "code",
   "source": [
    "# plt.rcParams['text.usetex'] = True\n",
    "cmaps = (\"viridis\", \"cividis\", \"plasma\", \"binary\", \"turbo\")\n",
    "plt.contour(X, Y, Z, levels=50, cmap=cmaps[4])\n",
    "plt.colorbar()\n",
    "# plt.colorbar(orientation='vertical', shrink=0.8)\n",
    "plt.title(r\"Contour Plot of $\\sin(\\sqrt{x^2 + y^2})$\")\n",
    "plt.xlabel(\"X\")\n",
    "plt.ylabel(\"Y\")\n",
    "\n",
    "plt.show()"
   ],
   "id": "61b9ca87925090ba",
   "outputs": [],
   "execution_count": 28
  },
  {
   "metadata": {
    "ExecuteTime": {
     "end_time": "2024-11-03T12:31:57.064329Z",
     "start_time": "2024-11-03T12:31:57.062320Z"
    }
   },
   "cell_type": "code",
   "source": [
    "from mpl_toolkits.mplot3d import Axes3D\n",
    "from matplotlib.gridspec import GridSpec"
   ],
   "id": "dfaa9a1691fabfbc",
   "outputs": [],
   "execution_count": 29
  },
  {
   "metadata": {
    "ExecuteTime": {
     "end_time": "2024-11-03T12:31:58.509070Z",
     "start_time": "2024-11-03T12:31:58.290983Z"
    }
   },
   "cell_type": "code",
   "source": [
    "fig = plt.figure(figsize=(16, 8))\n",
    "gs = GridSpec(1, 5, figure=fig)\n",
    "# ax_1 = fig.add_subplot(121)\n",
    "# ax_2 = fig.add_subplot(122, projection=\"3d\")\n",
    "ax_1 = fig.add_subplot(gs[:,:3])\n",
    "ax_2 = fig.add_subplot(gs[:,3:], projection=\"3d\")\n",
    "\n",
    "ax_1.set_title(\"Contour Plot of $sin(\\sqrt{x^2 + y^2})$\")\n",
    "ax_1.set_xlabel(\"X\")\n",
    "ax_1.set_ylabel(\"Y\")\n",
    "ax_2.set_title(\"3D Plot of $sin(\\sqrt{x^2 + y^2})$\")\n",
    "ax_2.set_xlabel(\"X\")\n",
    "ax_2.set_ylabel(\"Y\")\n",
    "ax_2.set_zlabel(\"Z\")\n",
    "\n",
    "cmaps = (\"viridis\", \"cividis\", \"plasma\", \"binary\", \"turbo\", \"Blues\", \"grays\")\n",
    "cmap = cmaps[4]\n",
    "samples = 100\n",
    "\n",
    "contour = ax_1.contour(X, Y, Z, levels=samples, cmap=cmap)\n",
    "fig.colorbar(contour, ax=ax_1, shrink=1.)\n",
    "\n",
    "ax_2.plot_surface(X, Y, Z, rcount= samples, ccount=samples,  cmap=cmap)\n",
    "# ax_2.scatter(X, Y, Z, rcount= samples, ccount=samples,  cmap=cmap)\n",
    "\n",
    "plt.tight_layout()\n",
    "plt.show()"
   ],
   "id": "46fe34d503a8c648",
   "outputs": [],
   "execution_count": 30
  },
  {
   "metadata": {
    "ExecuteTime": {
     "end_time": "2024-11-03T04:04:41.950450Z",
     "start_time": "2024-11-03T04:04:41.947788Z"
    }
   },
   "cell_type": "code",
   "source": "np.sin(np.sqrt((1)**2 + (1)**2))",
   "id": "dbf9d62aea0e082b",
   "outputs": [
    {
     "data": {
      "text/plain": [
       "0.9877659459927356"
      ]
     },
     "execution_count": 7,
     "metadata": {},
     "output_type": "execute_result"
    }
   ],
   "execution_count": 7
  },
  {
   "metadata": {
    "ExecuteTime": {
     "end_time": "2024-11-03T04:04:42.019767Z",
     "start_time": "2024-11-03T04:04:42.018226Z"
    }
   },
   "cell_type": "code",
   "source": "",
   "id": "86c2f107bd30df0",
   "outputs": [],
   "execution_count": null
  }
 ],
 "metadata": {
  "kernelspec": {
   "display_name": "Python 3",
   "language": "python",
   "name": "python3"
  },
  "language_info": {
   "codemirror_mode": {
    "name": "ipython",
    "version": 2
   },
   "file_extension": ".py",
   "mimetype": "text/x-python",
   "name": "python",
   "nbconvert_exporter": "python",
   "pygments_lexer": "ipython2",
   "version": "2.7.6"
  }
 },
 "nbformat": 4,
 "nbformat_minor": 5
}
