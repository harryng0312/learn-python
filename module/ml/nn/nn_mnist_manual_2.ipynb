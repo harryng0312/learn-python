{
 "cells": [
  {
   "cell_type": "code",
   "metadata": {
    "ExecuteTime": {
     "end_time": "2024-10-09T16:34:40.374975Z",
     "start_time": "2024-10-09T16:34:38.678637Z"
    }
   },
   "source": [
    "from typing import List\n",
    "\n",
    "import matplotlib\n",
    "import numpy as np\n",
    "import matplotlib.pyplot as plt\n",
    "import matplotlib.lines as mlines\n",
    "import matplotlib.animation as animation\n",
    "import time\n",
    "import struct\n",
    "import tensorflow as tf\n",
    "import random as rd\n",
    "\n",
    "from math import *\n",
    "from array import array\n",
    "\n",
    "# import keras._tf_keras.keras as keras \n",
    "# from keras._tf_keras.keras\n",
    "from sklearn.metrics import accuracy_score, f1_score\n",
    "from sklearn.model_selection import train_test_split\n",
    "from sklearn.preprocessing import MinMaxScaler, StandardScaler\n",
    "from sklearn.linear_model import LogisticRegression\n",
    "from tensorflow.python.ops.init_ops_v2 import glorot_uniform\n",
    "\n",
    "# my project\n",
    "from module.conf import PROJECT_DIR\n",
    "\n",
    "# matplotlib.use(\"QTAgg\")\n",
    "%matplotlib inline"
   ],
   "outputs": [],
   "execution_count": 1
  },
  {
   "cell_type": "markdown",
   "metadata": {},
   "source": [
    "Load data:\n",
    "- Train data: 60k 28x28 images\n",
    "- Test data: "
   ]
  },
  {
   "cell_type": "code",
   "metadata": {
    "ExecuteTime": {
     "end_time": "2024-10-09T16:34:40.466100Z",
     "start_time": "2024-10-09T16:34:40.382948Z"
    }
   },
   "source": [
    "mnist_path = \"/data/sample/mnist\"\n",
    "training_images_filepath = \"\".join([PROJECT_DIR, mnist_path, \"/train-images.idx3-ubyte\"])\n",
    "training_labels_filepath = \"\".join([PROJECT_DIR, mnist_path, \"/train-labels.idx1-ubyte\"])\n",
    "test_images_filepath = \"\".join([PROJECT_DIR, mnist_path, \"/t10k-images.idx3-ubyte\"])\n",
    "test_labels_filepath = \"\".join([PROJECT_DIR, mnist_path, \"/t10k-labels.idx1-ubyte\"])\n",
    "\n",
    "def read_images_labels(images_filepath, labels_filepath) -> tuple:\n",
    "    labels = []\n",
    "    with open(labels_filepath, 'rb') as file:\n",
    "        magic, size = struct.unpack(\">II\", file.read(8))\n",
    "        if magic != 2049:\n",
    "            raise ValueError('Magic number mismatch, expected 2049, got {}'.format(magic))\n",
    "        # labels = array(\"B\", file.read())\n",
    "        labels = array(\"B\", file.read())\n",
    "\n",
    "    with open(images_filepath, 'rb') as file:\n",
    "        magic, size, rows, cols = struct.unpack(\">IIII\", file.read(16))\n",
    "        if magic != 2051:\n",
    "            raise ValueError('Magic number mismatch, expected 2051, got {}'.format(magic))\n",
    "        image_data = array(\"B\", file.read())       \n",
    "     \n",
    "    images = []\n",
    "    # for i in range(size):\n",
    "    #     images.append([0] * rows * cols)\n",
    "    for i in range(size):\n",
    "        img = np.array(image_data[i * rows * cols:(i + 1) * rows * cols])\n",
    "        img = img.reshape(28, 28)\n",
    "        # images[i][:] = img\n",
    "        images.append(img)\n",
    "    \n",
    "    return images, labels\n",
    "\n",
    "def load_data() -> tuple:\n",
    "    x_train, y_train = read_images_labels(training_images_filepath, training_labels_filepath)\n",
    "    x_test, y_test = read_images_labels(test_images_filepath, test_labels_filepath)\n",
    "    return (x_train, y_train),(x_test, y_test)\n",
    "\n",
    "(X_train, y_train), (X_test, y_test) = load_data()"
   ],
   "outputs": [],
   "execution_count": 2
  },
  {
   "cell_type": "code",
   "metadata": {
    "ExecuteTime": {
     "end_time": "2024-10-09T16:34:40.502842Z",
     "start_time": "2024-10-09T16:34:40.501140Z"
    }
   },
   "source": [
    "# print(f\"{type(X_train[0])}\")\n",
    "# mnist = tf.keras.datasets.mnist\n",
    "\n",
    "# (x_train, y_train), (x_test, y_test) = mnist.load_data()\n"
   ],
   "outputs": [],
   "execution_count": 3
  },
  {
   "cell_type": "code",
   "metadata": {
    "ExecuteTime": {
     "end_time": "2024-10-09T16:34:40.542329Z",
     "start_time": "2024-10-09T16:34:40.509657Z"
    }
   },
   "source": [
    "X_train = np.asarray(X_train)\n",
    "y_train = np.asarray(y_train)\n",
    "X_test  = np.asarray(X_test)\n",
    "y_test  = np.asarray(y_test)"
   ],
   "outputs": [],
   "execution_count": 4
  },
  {
   "cell_type": "markdown",
   "metadata": {},
   "source": [
    "## 1. Activation functions:"
   ]
  },
  {
   "cell_type": "markdown",
   "metadata": {},
   "source": [
    "### 1.1. Linear:\n",
    "$ \\begin{align}\n",
    "f(\\mathbf z) &= \\mathbf z \\\\\n",
    "\\rightarrow \\frac{\\partial f(\\mathbf z)}{\\partial \\mathbf z} &=\\mathbf 1 \\\\ \n",
    "\\end{align} $"
   ]
  },
  {
   "cell_type": "code",
   "metadata": {
    "ExecuteTime": {
     "end_time": "2024-10-09T16:34:40.551107Z",
     "start_time": "2024-10-09T16:34:40.548962Z"
    }
   },
   "source": [
    "def linear(z): return z\n",
    "def grad_linear(z): return 1"
   ],
   "outputs": [],
   "execution_count": 5
  },
  {
   "cell_type": "markdown",
   "metadata": {},
   "source": [
    "### 1.2. ReLU:\n",
    "$\\begin{align}\n",
    "ReLU(\\mathbf z) &= \\max(\\mathbf z, \\mathbf 0) \\\\\n",
    "\\rightarrow \\frac{\\partial ReLU(\\mathbf z)}{\\partial \\mathbf z} &= \\begin{cases}\n",
    "z_i = 1 \\text{ if } z_i > 0 \\\\\n",
    "z_i = 0 \\text{ if } z_i \\leqslant 0 \\\\\n",
    "\\end{cases} \\\\\n",
    "\\end{align}$"
   ]
  },
  {
   "cell_type": "code",
   "metadata": {
    "ExecuteTime": {
     "end_time": "2024-10-09T16:34:40.559149Z",
     "start_time": "2024-10-09T16:34:40.557290Z"
    }
   },
   "source": [
    "def relu(z): return np.maximum(0, z)\n",
    "def grad_relu(z): return np.where(z > 0, 1, 0) # (x > 0).astype(float) # np.array([1 if z_i > 0 else 0 for z_i in z])"
   ],
   "outputs": [],
   "execution_count": 6
  },
  {
   "cell_type": "code",
   "metadata": {
    "ExecuteTime": {
     "end_time": "2024-10-09T16:34:40.567757Z",
     "start_time": "2024-10-09T16:34:40.565060Z"
    }
   },
   "source": [
    "z = np.array([1,-6, 3, 4, 0])\n",
    "relu_z = relu(z)\n",
    "relu_z\n",
    "grad_relu_z = grad_relu(relu_z)\n",
    "grad_relu_z"
   ],
   "outputs": [
    {
     "data": {
      "text/plain": [
       "array([1, 0, 1, 1, 0])"
      ]
     },
     "execution_count": 7,
     "metadata": {},
     "output_type": "execute_result"
    }
   ],
   "execution_count": 7
  },
  {
   "cell_type": "markdown",
   "metadata": {},
   "source": [
    "### 1.2. Sigmoid:\n",
    "$\\begin{align}\n",
    "\\sigma(\\mathbf z) &= \\frac{1}{1 + e^{-z}} \\\\\n",
    "\\rightarrow \\frac{\\partial\\sigma(\\mathbf z)}{\\partial \\mathbf z} &= \\sigma(\\mathbf z)\\cdot\\left(1 - \\sigma(\\mathbf z)\\right) \\\\ \n",
    "\\end{align} $"
   ]
  },
  {
   "cell_type": "code",
   "metadata": {
    "ExecuteTime": {
     "end_time": "2024-10-09T16:34:40.583548Z",
     "start_time": "2024-10-09T16:34:40.580974Z"
    }
   },
   "source": [
    "def sigmoid(z): return 1/(1 + np.exp(-z))\n",
    "def grad_sigmoid(z): return sigmoid(z) * (1 - sigmoid(z))    "
   ],
   "outputs": [],
   "execution_count": 8
  },
  {
   "cell_type": "code",
   "metadata": {
    "ExecuteTime": {
     "end_time": "2024-10-09T16:34:40.593454Z",
     "start_time": "2024-10-09T16:34:40.590675Z"
    }
   },
   "source": [
    "z = np.array([1,-6, 3, 4, 0])\n",
    "sigmoid(z)\n",
    "grad_sigmoid(z)"
   ],
   "outputs": [
    {
     "data": {
      "text/plain": [
       "array([0.19661193, 0.00246651, 0.04517666, 0.01766271, 0.25      ])"
      ]
     },
     "execution_count": 9,
     "metadata": {},
     "output_type": "execute_result"
    }
   ],
   "execution_count": 9
  },
  {
   "cell_type": "markdown",
   "metadata": {},
   "source": [
    "### 1.3. Softmax:\n",
    "$\\begin{align}\n",
    "\\sigma(\\mathbf z) &= \\frac{e^{\\mathbf z}}{\\sum_{i=1}^{C}e^{z_i}} \\\\\n",
    "\\rightarrow \\frac{\\partial \\sigma(\\mathbf z)}{\\partial \\mathbf z} &= \\sigma(z_i) \\cdot (\\delta_{ij} - \\sigma(z_j)) \n",
    "\\rightarrow \\delta_{ij} = \\begin{cases} \n",
    "1 \\text{ if } i = j \\\\\n",
    "0 \\text{ if } i \\neq j  \n",
    "\\end{cases} \\\\\n",
    "&= diag(\\mathbf z) - \\mathbf z * \\mathbf z^T \\\\\n",
    "C &\\text{ is number of class} \\\\\n",
    "diag &\\text{ is diagonal matrix }\n",
    "\\end{align}$"
   ]
  },
  {
   "cell_type": "code",
   "metadata": {
    "ExecuteTime": {
     "end_time": "2024-10-09T16:34:40.608157Z",
     "start_time": "2024-10-09T16:34:40.605249Z"
    }
   },
   "source": [
    "# def softmax(z): return np.exp(z)/np.sum(np.exp(z))\n",
    "# def grad_softmax(z): return np.diag(z) - np.outer(z,z)\n",
    "def softmax(Z):\n",
    "    Z_max = np.max(Z, axis=0, keepdims=True)\n",
    "    Z_exp = np.exp(Z - Z_max)\n",
    "    Z_sum = np.sum(Z_exp, axis=0, keepdims=True)\n",
    "    return Z_exp / Z_sum\n",
    "    # e_x = np.exp(Z - np.max(Z, axis=-1, keepdims=True))\n",
    "    # return e_x / np.sum(e_x, axis=-1, keepdims=True)\n",
    "\n",
    "def grad_softmax(Z):\n",
    "    S = softmax(Z)  # Tính softmax cho Z\n",
    "    batch_size, num_classes = S.shape\n",
    "    # Init Jacobian matrix: gradient foreach row\n",
    "    dSoftmax = np.zeros((batch_size, num_classes, num_classes))\n",
    "    for i in range(batch_size):\n",
    "        # S_i is softmax for i-row\n",
    "        s_i = S[i].reshape(-1, 1)  # Transpose to Column vector\n",
    "        # Jacobian matrix for i-row\n",
    "        # dSoftmax[i] = np.diagflat(s_i) - np.dot(s_i, s_i.T)\n",
    "        dSoftmax[i] = np.diagflat(s_i) - s_i @ s_i.T\n",
    "    # dSoftmax in hidden layer - transpose of Jacobian matrix    \n",
    "    return dSoftmax.transpose()"
   ],
   "outputs": [],
   "execution_count": 10
  },
  {
   "cell_type": "code",
   "metadata": {
    "ExecuteTime": {
     "end_time": "2024-10-09T16:34:40.617433Z",
     "start_time": "2024-10-09T16:34:40.614775Z"
    }
   },
   "source": [
    "z = np.array([[1,-6, 3, 4, 0],\n",
    "              [1,-6, 3, 7, 0]])\n",
    "# softmax(z)\n",
    "z_max = np.max(z, axis=z.ndim-1, keepdims=True)\n",
    "z_max\n",
    "# np.exp(z-z_max)\n",
    "# grad_softmax(z)"
   ],
   "outputs": [
    {
     "data": {
      "text/plain": [
       "array([[4],\n",
       "       [7]])"
      ]
     },
     "execution_count": 11,
     "metadata": {},
     "output_type": "execute_result"
    }
   ],
   "execution_count": 11
  },
  {
   "cell_type": "markdown",
   "metadata": {},
   "source": [
    "## 2. Loss function:"
   ]
  },
  {
   "cell_type": "markdown",
   "metadata": {},
   "source": [
    "### 2.1. Cross Entropy:\n",
    "$\\begin{align}\n",
    "CrossEntropy = - \\log(\\hat{y}_{true})\\\\\n",
    "\\end{align}$"
   ]
  },
  {
   "cell_type": "markdown",
   "metadata": {},
   "source": [
    "### 2.2. Categorical Crossentropy:\n",
    "$\\begin{align}\n",
    "Y &\\text{ is label in one-hot matrix } N \\times C  \\\\\n",
    "\\hat{Y} &\\text{ is predicted matrix } N \\times C \\\\\n",
    "C &\\text{ is number of classes}\\\\\n",
    "L &= -\\sum_{i=1}^{C} Y_i \\log(\\hat{Y}_{i}) \\\\\n",
    "\\hat{Y}_{i,j} &= \\frac{exp(Z_{i,j})}{\\sum_{k=1}^{C} exp(Z_{i,k})} \\\\\n",
    "\\rightarrow \\mathcal L &= -\\frac{1}{N} \\sum_{i=1}^{N}\\sum_{j=1}^{C} Y_{i,j} \\log(\\hat{Y}_{i,j}) \\\\\n",
    "&= -\\frac{1}{N} \\sum_{i=1}^{N} \\log(\\hat{Y}_{i,true}) \\\\\n",
    "\\hat{Y}_{i,true} &\\text{ is predicted result corresponding to one-hot is 1}\n",
    "\\end{align}$\n",
    "\n",
    "Gradient:\n",
    "$\\begin{align}\n",
    "\\frac{\\partial L}{\\partial Z} &= \\hat{Y}_{i,j} - Y_{i,j} \\\\\n",
    "\\end{align}$"
   ]
  },
  {
   "cell_type": "markdown",
   "metadata": {},
   "source": [
    "### 2.3. Sparse Categorical Crossentropy:\n",
    "$ \\begin{align}\n",
    "\\hat{Y} &= A_n = softmax(Z) \\\\\n",
    "Z &\\text{ is } n \\times C \\text{ matrix. n is number of samples, C is number of classes} \\\\\n",
    "CrossEntropy_i &= -\\log(\\hat{y}_{i, y_{sparse}}) \\\\\n",
    "CrossEntropy &\\text{ is a vector size n} \\\\\n",
    "\\rightarrow \\frac{\\partial L}{\\partial Z_{i,j}} &= \\hat{Y}_{i,j} - \\delta(j, y_{sparse,i}) \n",
    "\\rightarrow \\delta(j, y_{sparse,i}) = \\begin{cases}\n",
    "1 \\text{ if } j = y_{sparse,i} \\\\\n",
    "0 \\text{ if } j \\neq y_{sparse,i}\\\\\n",
    "\\end{cases} \\\\\n",
    "\\rightarrow \\frac{\\partial L}{\\partial Z_n} &= \\hat{Y} - Y = \\hat{Y} - SparseLabels \\\\\n",
    "SparseLabels &\\text{ can be considered as one-hot matrix}\n",
    "\\end{align} $"
   ]
  },
  {
   "cell_type": "code",
   "metadata": {
    "ExecuteTime": {
     "end_time": "2024-10-09T16:34:40.648024Z",
     "start_time": "2024-10-09T16:34:40.644518Z"
    }
   },
   "source": [
    "# should apply the Vectorization\n",
    "def delta_kronecker_matrix(y_train, mY_pred):\n",
    "    \"\"\"\n",
    "    Transform to one-hot encoding\n",
    "    y_train: a vector size n\n",
    "    mY_pred: a matrix (C, n)\n",
    "    \"\"\"\n",
    "    mY_train = np.zeros(shape=mY_pred.T.shape)\n",
    "    for i in range(len(y_train)): mY_train[i][y_train[i]] = 1\n",
    "    return mY_train\n",
    "\n",
    "def sparse_categorical_crossentropy_Z(y_train, mY_pred):\n",
    "    y_pred = np.array([mY_pred[i][y_train[i]] for i in range(len(y_train))])\n",
    "    return -np.sum(np.log(y_pred))\n",
    "\n",
    "def grad_sparse_categorical_crossentropy_Z(y_train, mY_pred):\n",
    "    return mY_pred - delta_kronecker_matrix(y_train=y_train, mY_pred=mY_pred)\n",
    "\n",
    "def sparse_categorical_crossentropy(y_true, y_pred):\n",
    "    batch_size = y_true.shape[0]\n",
    "    y_true_indices = (y_true, np.arange(batch_size))\n",
    "    correct_class_probabilities = y_pred[y_true_indices]\n",
    "    loss = -np.log(correct_class_probabilities + 1e-7).mean()\n",
    "    return loss\n",
    "\n",
    "def grad_sparse_categorical_crossentropy(y_true, y_pred):\n",
    "    # Grad\n",
    "    grad = np.zeros_like(y_pred)\n",
    "    grad[:y_pred.shape[0], y_true] = -1 / y_pred[:y_pred.shape[0], y_true]  # Grad for true-class\n",
    "    return grad"
   ],
   "outputs": [],
   "execution_count": 12
  },
  {
   "cell_type": "code",
   "metadata": {
    "ExecuteTime": {
     "end_time": "2024-10-09T16:34:40.682875Z",
     "start_time": "2024-10-09T16:34:40.678406Z"
    }
   },
   "source": [
    "import numpy as np\n",
    "from scipy.sparse import csr_matrix\n",
    "# ex\n",
    "# [[0, 0, 0, 0],\n",
    "#  [5, 8, 0, 0],\n",
    "#  [0, 0, 3, 0],\n",
    "#  [0, 6, 0, 0]]\n",
    "#\n",
    "\n",
    "data = np.array([5, 8, 3, 6, 7])        # values\n",
    "indices = np.array([0, 1, 2, 1, 0])     # col index for each value\n",
    "indptr = np.array([0, 2, 3, 4, 5])      # start - end in data values\n",
    "csr_m = csr_matrix((data, indices, indptr), shape=(4, 4))\n",
    "csr_m.toarray()\n"
   ],
   "outputs": [
    {
     "data": {
      "text/plain": [
       "array([[5, 8, 0, 0],\n",
       "       [0, 0, 3, 0],\n",
       "       [0, 6, 0, 0],\n",
       "       [7, 0, 0, 0]])"
      ]
     },
     "execution_count": 13,
     "metadata": {},
     "output_type": "execute_result"
    }
   ],
   "execution_count": 13
  },
  {
   "cell_type": "markdown",
   "metadata": {},
   "source": [
    "## 3. Optimizers: "
   ]
  },
  {
   "cell_type": "code",
   "metadata": {
    "ExecuteTime": {
     "end_time": "2024-10-09T16:34:40.727885Z",
     "start_time": "2024-10-09T16:34:40.725021Z"
    }
   },
   "source": [
    "def optimize_basicGD(w:np.ndarray, b:np.ndarray, grad_w: np.ndarray, grad_b: np.ndarray, learning_rate=1e-2):\n",
    "    w -= learning_rate * grad_w\n",
    "    b -= learning_rate * grad_b\n",
    "    return w, b"
   ],
   "outputs": [],
   "execution_count": 14
  },
  {
   "cell_type": "markdown",
   "metadata": {},
   "source": [
    "### 3.1. SGD\n",
    "$\\begin{align}\n",
    "\\theta &= \\theta - \\eta \\cdot \\nabla_{\\theta} L(\\theta, x_i, y_i) \\\\\n",
    "\\theta &\\text{ is weight}\\\\\n",
    "\\eta &\\text{ is learning rate}\\\\\n",
    "\\nabla_{\\theta} L(\\theta, x_i, y_i) &\\text{ is gradient respect to }\\theta \\text{ of }(x_i, y_i) \\\\\n",
    "\\end{align}$"
   ]
  },
  {
   "cell_type": "markdown",
   "metadata": {},
   "source": [
    "### 3.2. RMSProps:\n",
    "$\\begin{align}\n",
    "v_{t} &= \\beta v_{t-1} + (1 + \\beta)g_t^2 \\\\\n",
    "\\\\\n",
    "\\theta_t &= \\theta_{t-1} - \\frac{\\eta}{\\sqrt{v_t} + \\epsilon} g_t \\\\\n",
    "\\eta &\\text{ is learning rate} \\\\\n",
    "v_t &\\text{ is velocity at } t \\text{ time} \\\\\n",
    "g_t &\\text{ is gradient at } t \\text{ time} \\\\\n",
    "\\epsilon &\\text{ is very small number - avoid device by 0} \\\\\n",
    "\\theta &\\text{ is weight matrix or bias vector} \\\\\n",
    "\\end{align}$"
   ]
  },
  {
   "cell_type": "code",
   "metadata": {
    "ExecuteTime": {
     "end_time": "2024-10-09T16:34:40.766026Z",
     "start_time": "2024-10-09T16:34:40.761190Z"
    }
   },
   "source": [
    "def optimize_RMSProps(w: np.ndarray, b: np.ndarray, grad_w: np.ndarray, grad_b: np.ndarray, v_w:np.ndarray=None, v_b:np.ndarray=None,\n",
    "                      learning_rate=0.01, beta=0.9, epsilon=1e-7):\n",
    "    # if v_w is None: v_w = np.zeros_like(w)\n",
    "    # if v_b is None: v_b = np.zeros_like(b)\n",
    "    v_w = beta * v_w + (1 - beta) * grad_w ** 2\n",
    "    v_b = beta * v_b + (1 - beta) * grad_b ** 2\n",
    "    # print(f\"v_w: {v_w.shape} v_b: {v_b.shape}\")\n",
    "    w -= learning_rate * grad_w / (np.sqrt(v_w) + epsilon)\n",
    "    b -= learning_rate * grad_b / (np.sqrt(v_b) + epsilon)\n",
    "    return w, b, v_w, v_b\n",
    "\n",
    "def optimize_RMSPropsL1(w: np.ndarray, b: np.ndarray, grad_w: np.ndarray, grad_b: np.ndarray, v_w:np.ndarray=None, v_b:np.ndarray=None,\n",
    "                      learning_rate=0.01, beta=0.9, epsilon=1e-7, lambda_l1 = 1e-2, loss=0.0):\n",
    "    # l1_loss = lambda_l1 * np.sum(np.abs(w))\n",
    "    l1_loss = lambda_l1 * np.sum(w**2)\n",
    "    loss += l1_loss\n",
    "    grad_w += lambda_l1 * np.sign(w)\n",
    "    # grad_b += lambda_l1 * np.sign(b)\n",
    "    v_w = beta * v_w + (1 - beta) * grad_w ** 2\n",
    "    v_b = beta * v_b + (1 - beta) * grad_b ** 2\n",
    "    # print(f\"v_w: {v_w.shape} v_b: {v_b.shape}\")\n",
    "    w -= learning_rate * grad_w / (np.sqrt(v_w) + epsilon)\n",
    "    b -= learning_rate * grad_b / (np.sqrt(v_b) + epsilon)\n",
    "    return w, b, v_w, v_b, loss + l1_loss"
   ],
   "outputs": [],
   "execution_count": 15
  },
  {
   "cell_type": "markdown",
   "metadata": {},
   "source": [
    "### 3.3. Adagrad\n",
    "$\\begin{align}\n",
    "G_t &= G_{t-1} + g_t^2 \\\\\n",
    "\\theta_t &= \\theta_{t-1} - \\frac{\\eta}{\\sqrt{G_t - \\epsilon}} \\cdot g_t \\\\\n",
    "\\eta &\\text{ is learning rate} \\\\\n",
    "g_t &\\text{ is gradient at } t \\text{ time} \\\\\n",
    "\\epsilon &\\text{ is very small number - avoid device by 0} \\\\\n",
    "\\theta &\\text{ is weight matrix or bias vector} \\\\\n",
    "G &\\text{ sum of square of gradient} \\\\\n",
    "\\end{align}$"
   ]
  },
  {
   "cell_type": "markdown",
   "metadata": {},
   "source": [
    "### 3.4. Adaprops:"
   ]
  },
  {
   "cell_type": "markdown",
   "metadata": {},
   "source": [
    "### 3.5. Adamax:"
   ]
  },
  {
   "cell_type": "markdown",
   "metadata": {},
   "source": [
    "### 3.6.Adam: "
   ]
  },
  {
   "cell_type": "markdown",
   "metadata": {},
   "source": [
    "### 5. Demo NN\n"
   ]
  },
  {
   "cell_type": "markdown",
   "metadata": {},
   "source": [
    "### 5.1. Load/Prepare data"
   ]
  },
  {
   "cell_type": "markdown",
   "metadata": {},
   "source": [
    "### 5.2. Neural network manually:\n",
    "- Flat 28 x 28 data\n",
    "- There are 03 layers: `[32, \"relu\"] [128, \"sigmoid\"] [10, \"softmax\"]`\n",
    "- Loss func: `SparseCategoricalCrossentropy`, `digits = False`\n",
    "- Optimizer: `RMSProp` with `learning_rate=1e-3`\n",
    "- **(opt)** metrics: `accuracy`"
   ]
  },
  {
   "cell_type": "markdown",
   "metadata": {},
   "source": [
    "### 5.3. Flat input data:"
   ]
  },
  {
   "cell_type": "code",
   "metadata": {
    "ExecuteTime": {
     "end_time": "2024-10-09T16:34:40.786536Z",
     "start_time": "2024-10-09T16:34:40.782655Z"
    }
   },
   "source": [
    "def flat_data(imp_data: np.ndarray) -> np.ndarray:\n",
    "    \"\"\"\n",
    "    Flat data from 02 dim matrix to vector\n",
    "    :param imp_data: (n, m_0, m_1) matrix, n is number of rows \n",
    "    :return: matrix: (n, m_0 * m_1)\n",
    "    \"\"\"\n",
    "    scaler = MinMaxScaler(feature_range=(0, 1))\n",
    "    if len(imp_data.shape) < 3 : return scaler.fit_transform(imp_data)\n",
    "    return scaler.fit_transform(imp_data.reshape((-1, imp_data.shape[1] * imp_data.shape[2])))"
   ],
   "outputs": [],
   "execution_count": 16
  },
  {
   "cell_type": "markdown",
   "metadata": {},
   "source": [
    "### 5.4. Loop"
   ]
  },
  {
   "cell_type": "code",
   "metadata": {
    "ExecuteTime": {
     "end_time": "2024-10-09T16:34:40.809621Z",
     "start_time": "2024-10-09T16:34:40.802818Z"
    }
   },
   "source": [
    "class DenseLayer (object):\n",
    "    activation_map = {\"linear\": linear, \"relu\": relu, \"sigmoid\": sigmoid, \"softmax\": softmax}\n",
    "    grad_map = {\"linear\": grad_linear, \"relu\": grad_relu, \"sigmoid\": grad_sigmoid, \"softmax\": grad_softmax}\n",
    "\n",
    "    def glorot_normal(self, shape, n_in, n_out):\n",
    "        stddev = np.sqrt(2 / (n_in + n_out))\n",
    "        return np.random.normal(loc=0, scale=stddev, size=shape)\n",
    "\n",
    "    def glorot_uniform(self, shape, n_in, n_out):\n",
    "        limit = np.sqrt(6 / (n_in + n_out))\n",
    "        return np.random.uniform(low=-limit, high=limit, size=shape)\n",
    "\n",
    "    def __init__(self, input_size, output_size, activation = 'linear'):\n",
    "        self._activation_func = self.activation_map['linear']\n",
    "        self._grad_func = self.grad_map['linear']\n",
    "        self._activation = activation.lower()\n",
    "        # self._weights = np.random.rand(output_size, input_size) * 1e-2\n",
    "        # self._weights = np.random.randn(output_size, input_size) * np.sqrt(2 / input_size)\n",
    "        self._weights = self.glorot_uniform(shape=(output_size, input_size), n_in=input_size, n_out=output_size)\n",
    "        # self._bias = np.random.rand(output_size, 1)\n",
    "        # self._bias = np.random.randn(output_size, 1) * np.sqrt(2 / input_size)\n",
    "        self._bias = np.zeros(shape=(output_size, 1))\n",
    "        self._cache_w = [np.zeros_like(self._weights), np.zeros_like(self._weights)]\n",
    "        self._cache_b = [np.zeros_like(self._bias), np.zeros_like(self._bias)]\n",
    "        self._init()\n",
    "        return\n",
    "    \n",
    "    def _init(self) -> None:\n",
    "        self._activation_func = DenseLayer.activation_map[self._activation] if self._activation in DenseLayer.activation_map else DenseLayer.activation_map['linear']\n",
    "        self._grad_func = DenseLayer.grad_map[self._activation] if self._activation in DenseLayer.grad_map else DenseLayer.grad_map['linear']\n",
    "        return None\n",
    "\n",
    "    @property\n",
    "    def activation_func(self):\n",
    "        return self._activation_func\n",
    "    @property\n",
    "    def grad_func(self):\n",
    "        return self._grad_func\n",
    "\n",
    "    @property\n",
    "    def weights(self) -> np.ndarray:\n",
    "        return self._weights\n",
    "    @weights.setter\n",
    "    def weights(self, val):\n",
    "        self._weights = val\n",
    "    @property\n",
    "    def bias(self) -> np.ndarray:\n",
    "        return self._bias\n",
    "    @bias.setter\n",
    "    def bias(self, val):\n",
    "        self._bias = val\n",
    "\n",
    "    @property\n",
    "    def cache_w(self):\n",
    "        return self._cache_w\n",
    "    @cache_w.setter\n",
    "    def cache_w(self, val):\n",
    "        self._cache_w = val\n",
    "    @property\n",
    "    def cache_b(self):\n",
    "        return self._cache_b\n",
    "    @cache_b.setter\n",
    "    def cache_b(self, val):\n",
    "        self._cache_b = val\n",
    "\n",
    "    pass"
   ],
   "outputs": [],
   "execution_count": 17
  },
  {
   "cell_type": "code",
   "metadata": {
    "ExecuteTime": {
     "end_time": "2024-10-09T16:34:40.833389Z",
     "start_time": "2024-10-09T16:34:40.819765Z"
    }
   },
   "source": [
    "class NNClassification(object):\n",
    "    \"\"\"\n",
    "    Layers:\n",
    "    - (units=32, activation=tf.keras.activations.relu),\n",
    "    - (units=128, activation=tf.keras.activations.relu),\n",
    "    - (units=10, activation=tf.keras.activations.linear)\n",
    "    Loss: softmax + SparseCategoricalCrossEntropy\n",
    "    Optimizer: Adam\n",
    "    \"\"\"\n",
    "    def __init__(self, input_size: int, output_size: int, learning_rate=1e-3):\n",
    "        self.Z = []\n",
    "        self.A = []\n",
    "        self.learning_rate = learning_rate\n",
    "        self.layers: list[DenseLayer] = [None, # dont count\n",
    "            DenseLayer(input_size=input_size, output_size=128, activation='relu'),\n",
    "            DenseLayer(input_size=128, output_size=64, activation='relu'),\n",
    "            DenseLayer(input_size=64, output_size=10, activation='softmax')]\n",
    "        # - (units=32, activation=tf.keras.activations.relu),\n",
    "        # - (units=128, activation=tf.keras.activations.relu),\n",
    "        # - (units=10, activation=tf.keras.activations.linear)\n",
    "        return\n",
    "    \n",
    "    def glorot_normal(self, shape, n_in, n_out):\n",
    "        stddev = np.sqrt(2 / (n_in + n_out))\n",
    "        return np.random.normal(loc=0, scale=stddev, size=shape)\n",
    "\n",
    "    def glorot_uniform(self, shape, n_in, n_out):\n",
    "        limit = np.sqrt(6 / (n_in + n_out))\n",
    "        return np.random.uniform(low=-limit, high=limit, size=shape)\n",
    "\n",
    "    def linear(self, x): return x\n",
    "\n",
    "    def relu(self, x): return np.maximum(0, x)\n",
    "\n",
    "    def grad_relu(self, x): return np.where(x > 0, 1, 0) #return x > 0\n",
    "\n",
    "    def softmax(self, x):\n",
    "        x_max = np.max(x, axis=-1, keepdims=True)\n",
    "        x_exp = np.exp(x - x_max)\n",
    "        x_sum = np.sum(x_exp, axis=-1, keepdims=True)\n",
    "        return x_exp / x_sum\n",
    "\n",
    "    def optimize_Adam(self, w: np.ndarray, b: np.ndarray, grad_w: np.ndarray, grad_b: np.ndarray,\n",
    "                      cache_w: list[np.ndarray], cache_b:list[np.ndarray],\n",
    "                      learning_rate=0.01, beta1=0.9, beta2=0.999, epsilon=1e-8):\n",
    "        if cache_w is None: cache_w = [np.zeros_like(w), np.zeros_like(w)]\n",
    "        if cache_b is None: cache_b = [np.zeros_like(b), np.zeros_like(b)]\n",
    "        cache_w[1] = beta1 * cache_w[1] + (1 - beta1) * grad_w\n",
    "        cache_b[1] = beta1 * cache_b[1] + (1 - beta1) * grad_b\n",
    "        cache_w[0] = beta2 * cache_w[0] + (1 - beta2) * grad_w ** 2\n",
    "        cache_b[0] = beta2 * cache_b[0] + (1 - beta2) * grad_b ** 2\n",
    "        m_w_hat = cache_w[1] / (1 - beta1)\n",
    "        m_b_hat = cache_b[1] / (1 - beta1)\n",
    "        v_w_hat = cache_w[0] / (1 - beta2)\n",
    "        v_b_hat = cache_b[0] / (1 - beta2)\n",
    "        updated_w = w - learning_rate * m_w_hat / (np.sqrt(v_w_hat) + epsilon)\n",
    "        updated_b = b - learning_rate * m_b_hat / (np.sqrt(v_b_hat) + epsilon)\n",
    "        return updated_w, updated_b, cache_w, cache_b\n",
    "\n",
    "    def compute_loss(self, y_true: np.ndarray, y_pred: np.ndarray):\n",
    "        samples = y_true.shape[0]\n",
    "        correct_logprobs = -np.log(y_pred[y_true, range(samples)])\n",
    "        return np.mean(correct_logprobs)\n",
    "    \n",
    "    def forward_propagate(self, epoch, X) -> np.ndarray:\n",
    "        \"\"\"\n",
    "        forward propagation\n",
    "        :param X: (n, m) training data \n",
    "        :return: last value\n",
    "        \"\"\"\n",
    "        self.A.clear()\n",
    "        self.Z.clear()\n",
    "        self.A.append(X)\n",
    "        self.Z.append(None)\n",
    "        \n",
    "        for idx in range(1, len(self.layers)):\n",
    "            layer = self.layers[idx]\n",
    "            tmp_z = layer.weights @ self.A[idx - 1] + layer.bias\n",
    "            tmp_a = layer.activation_func(tmp_z)\n",
    "            self.Z.append(tmp_z)\n",
    "            self.A.append(tmp_a)\n",
    "            pass\n",
    "        return self.A[-1]\n",
    "    \n",
    "    def backward_propagate(self, epoch, y) -> None:\n",
    "        \"\"\"\n",
    "        backward propagation\n",
    "        :param X: (n, m) n features, m samples\n",
    "        :param y: (n) labels\n",
    "        :return:\n",
    "        \"\"\"\n",
    "        dA = [None] * len(self.layers)\n",
    "        dZ = [None] * len(self.layers)\n",
    "        dW = [None] * len(self.layers)\n",
    "        db = [None] * len(self.layers)\n",
    "        \n",
    "        no_of_samples = y.shape[0] # X.shape[1]\n",
    "        \n",
    "        # calculate dL/dZ[-1] = y_pred - y = A[-1] - y\n",
    "        dZ[-1] = self.A[-1]\n",
    "        dZ[-1][y, range(no_of_samples)] -= 1\n",
    "        dZ[-1] /= no_of_samples\n",
    "        \n",
    "        # dW[-1] = dL/dZ[-1] @ dZ[-1]/dW[-1] = dZ[-1] @ A[-2]\n",
    "        dW[-1] = dZ[-1] @ self.A[-2].T\n",
    "        db[-1] = np.sum(dZ[-1], axis=1, keepdims=True) # dZ[-1] @ np.ones((dZ[-1].shape[1], 1))\n",
    "        dWb = [None] * len(self.layers)\n",
    "        dWb[-1] = (dW[-1], db[-1])\n",
    "        for idx in range(len(self.layers) - 2, 0, -1):\n",
    "            layer = self.layers[idx]\n",
    "            # calculate dA, dZ, dW, db\n",
    "            dA[idx] = self.layers[idx + 1].weights.T @ dZ[idx + 1]\n",
    "            dZ[idx] = dA[idx] * layer.grad_func(self.Z[idx])\n",
    "            dW[idx] = dZ[idx] @ self.A[idx - 1].T\n",
    "            db[idx] = np.sum(dZ[idx], axis=1, keepdims=True)\n",
    "            dWb[idx]= (dW[idx], db[idx])\n",
    "            pass\n",
    "        # update W, b\n",
    "        # for idx in range(1, len(self.layers)):\n",
    "        #     layer = self.layers[idx]\n",
    "        #     layer.weights, layer.bias, layer.cache_w, layer.cache_b = self.optimize_Adam(\n",
    "        #         w=layer.weights, b=layer.bias,\n",
    "        #         grad_w=dWb[idx][0], grad_b=dWb[idx][1],\n",
    "        #         cache_w=layer.cache_w, cache_b=layer.cache_b,\n",
    "        #         learning_rate=self.learning_rate, beta1=0.9, beta2=0.999)\n",
    "        #     pass\n",
    "        for idx, (layer, dWb_itm) in enumerate(zip(self.layers[1:], dWb[1:])):\n",
    "            # layer = self.layers[idx]\n",
    "            layer.weights, layer.bias, layer.cache_w, layer.cache_b = self.optimize_Adam(\n",
    "                w=layer.weights, b=layer.bias,\n",
    "                grad_w=dWb_itm[0], grad_b=dWb_itm[1],\n",
    "                cache_w=layer.cache_w, cache_b=layer.cache_b,\n",
    "                learning_rate=self.learning_rate, beta1=0.9, beta2=0.999, epsilon=1e-7)\n",
    "            pass\n",
    "        return\n",
    "    \n",
    "    def fit(self, X: np.ndarray, Y: np.ndarray, epochs: int=1) -> list[DenseLayer]:\n",
    "        \"\"\"\n",
    "        :param X_train: matrix(n, m) n - features, m - number of samples\n",
    "        :param Y_train: vector(n), - labels in sparse\n",
    "        :param epochs: epochs\n",
    "        :return: list of weight matrix, from 0\n",
    "        \"\"\"\n",
    "        \n",
    "        # read and normalize data\n",
    "        for epoch in range(epochs):\n",
    "            # forward\n",
    "            Y_pred = self.forward_propagate(epoch, X)\n",
    "            # calculate cost and accuracy\n",
    "            loss = self.compute_loss(Y, Y_pred)\n",
    "            Y_pred = np.argmax(Y_pred, axis=0, keepdims=False)\n",
    "            accuracy = accuracy_score(Y, Y_pred)\n",
    "            # backward\n",
    "            self.backward_propagate(epoch, Y)\n",
    "            # print result\n",
    "            if (epoch + 1) % 10 == 0:\n",
    "                print(f\"Loss: {loss:4f} - Accuracy: {accuracy:6f}\")\n",
    "                pass\n",
    "            pass\n",
    "        return self.layers[1:]\n",
    "\n",
    "    def predict(self, X: np.ndarray) -> np.ndarray:\n",
    "        \"\"\"\n",
    "        \n",
    "        :param X: (n, m) n features, m samples \n",
    "        :return: (n) y_pred\n",
    "        \"\"\"\n",
    "        return self.forward_propagate(0, X)\n",
    "\n",
    "    def evaluate(self, X_test, Y_test):\n",
    "        \"\"\"\n",
    "        :param X_test: matrix(n, m) n - number of features, m - number of samples\n",
    "        :param Y_test: vector(n), labels in sparse\n",
    "        :return: [lost, accuracy] \n",
    "        \"\"\"\n",
    "        Y_pred = self.predict(X_test)\n",
    "        loss = self.compute_loss(Y_test, Y_pred)\n",
    "        Y_ans = np.argmax(Y_pred, axis=0, keepdims=False)\n",
    "        accuracy = accuracy_score(Y_test, Y_ans)\n",
    "        return loss, accuracy\n",
    "    \n",
    "    pass"
   ],
   "outputs": [],
   "execution_count": 18
  },
  {
   "cell_type": "code",
   "metadata": {
    "ExecuteTime": {
     "end_time": "2024-10-09T16:34:40.859999Z",
     "start_time": "2024-10-09T16:34:40.842515Z"
    }
   },
   "source": [
    "# split the train data\n",
    "X_train_20 = train_test_split(X_train, test_size=0.2, random_state=42)[1]\n",
    "Y_train_20 = train_test_split(y_train, test_size=0.2, random_state=42)[1]\n",
    "\n",
    "len(X_train_20)\n",
    "X_train_20.shape"
   ],
   "outputs": [
    {
     "data": {
      "text/plain": [
       "(12000, 28, 28)"
      ]
     },
     "execution_count": 19,
     "metadata": {},
     "output_type": "execute_result"
    }
   ],
   "execution_count": 19
  },
  {
   "cell_type": "code",
   "metadata": {
    "ExecuteTime": {
     "end_time": "2024-10-09T16:36:06.696420Z",
     "start_time": "2024-10-09T16:34:40.870212Z"
    }
   },
   "source": [
    "train_X = flat_data(X_train_20).T\n",
    "n = train_X.shape[0]\n",
    "m = train_X.shape[1]\n",
    "nn = NNClassification(input_size=n, output_size=10, learning_rate=1e-3)\n",
    "rs1 = nn.fit(train_X, Y_train_20, epochs=50)"
   ],
   "outputs": [
    {
     "name": "stdout",
     "output_type": "stream",
     "text": [
      "Loss: 0.973476 - Accuracy: 0.764417\n",
      "Loss: 0.415538 - Accuracy: 0.882917\n",
      "Loss: 0.296754 - Accuracy: 0.916417\n",
      "Loss: 0.238056 - Accuracy: 0.930500\n",
      "Loss: 0.199164 - Accuracy: 0.942667\n"
     ]
    }
   ],
   "execution_count": 20
  },
  {
   "cell_type": "code",
   "metadata": {
    "ExecuteTime": {
     "end_time": "2024-10-09T16:36:06.724370Z",
     "start_time": "2024-10-09T16:36:06.706444Z"
    }
   },
   "source": [
    "# split the train data\n",
    "rand_seed = np.random.randint(low=0, high=1000)\n",
    "X_test_20 = train_test_split(X_train, test_size=0.1, random_state=rand_seed)[1]\n",
    "Y_test_20 = train_test_split(y_train, test_size=0.1, random_state=rand_seed)[1]"
   ],
   "outputs": [],
   "execution_count": 21
  },
  {
   "cell_type": "code",
   "metadata": {
    "ExecuteTime": {
     "end_time": "2024-10-09T16:36:07.434736Z",
     "start_time": "2024-10-09T16:36:06.758489Z"
    }
   },
   "source": [
    "test_X = flat_data(X_test_20).T\n",
    "nn.evaluate(test_X, Y_test_20)"
   ],
   "outputs": [
    {
     "data": {
      "text/plain": [
       "(0.23976955876277248, 0.9298333333333333)"
      ]
     },
     "execution_count": 22,
     "metadata": {},
     "output_type": "execute_result"
    }
   ],
   "execution_count": 22
  },
  {
   "cell_type": "markdown",
   "metadata": {},
   "source": [
    "\\begin{align}\n",
    "\\frac{\\partial \\mathcal{L} }{ \\partial W^{[2]} } &= \n",
    "\\frac{1}{m}\\left(A^{[2]}-Y\\right)\\left(A^{[1]}\\right)^T,\\\\\n",
    "\\frac{\\partial \\mathcal{L} }{ \\partial b^{[2]} } &= \n",
    "\\frac{1}{m}\\left(A^{[2]}-Y\\right)\\mathbf{1},\\\\\n",
    "\\frac{\\partial \\mathcal{L} }{ \\partial W^{[1]}} &= \\frac{1}{m}\\left(\\left(W^{[2]}\\right)^T \\left(A^{[2]} - Y\\right)\\cdot \\left(A^{[1]}\\cdot\\left(1-A^{[1]}\\right)\\right)\\right)X^T,\\\\\n",
    "\\frac{\\partial \\mathcal{L} }{ \\partial b^{[1]}} &= \\frac{1}{m}\\left(\\left(W^{[2]}\\right)^T \\left(A^{[2]} - Y\\right)\\cdot \\left(A^{[1]}\\cdot\\left(1-A^{[1]}\\right)\\right)\\right)\\mathbf{1},\\\\\n",
    "\\tag{15}\n",
    "\\end{align}"
   ]
  },
  {
   "cell_type": "code",
   "metadata": {
    "ExecuteTime": {
     "end_time": "2024-10-09T16:36:07.578194Z",
     "start_time": "2024-10-09T16:36:07.534652Z"
    }
   },
   "source": [
    "# Sample\n",
    "model = tf.keras.models.Sequential(layers=[\n",
    "    tf.keras.layers.Flatten(input_shape=(28, 28,)),\n",
    "    tf.keras.layers.Dense(units=128, activation=tf.keras.activations.relu),\n",
    "    tf.keras.layers.Dense(units=64, activation=tf.keras.activations.relu),\n",
    "    # tf.keras.layers.Dropout(rate=0.2),\n",
    "    # tf.keras.layers.Dense(units=10, activation=tf.keras.activations.linear)\n",
    "    tf.keras.layers.Dense(units=10, activation=tf.keras.activations.softmax)\n",
    "])\n",
    "loss_fn = tf.keras.losses.SparseCategoricalCrossentropy(from_logits=False)\n",
    "# loss_fn = tf.keras.losses.SparseCategoricalCrossentropy(from_logits=False)\n",
    "# model.compile(optimizer=tf.keras.optimizers.SGD(learning_rate=1e-3), #tf.keras.optimizers.RMSprop(learning_rate=1e-3),\n",
    "#               loss=loss_fn,\n",
    "#               metrics=[\"accuracy\"])\n",
    "# model.compile(optimizer=tf.keras.optimizers.RMSprop(learning_rate=1e-3), #tf.keras.optimizers.RMSprop(learning_rate=1e-3),\n",
    "#               loss=loss_fn,\n",
    "#               metrics=[\"accuracy\"])\n",
    "model.compile(optimizer=tf.keras.optimizers.Adam(learning_rate=1e-3), #tf.keras.optimizers.RMSprop(learning_rate=1e-3),\n",
    "              loss=loss_fn,\n",
    "              metrics=[\"accuracy\"])"
   ],
   "outputs": [],
   "execution_count": 23
  },
  {
   "cell_type": "code",
   "metadata": {
    "ExecuteTime": {
     "end_time": "2024-10-09T16:36:08.940345Z",
     "start_time": "2024-10-09T16:36:07.587656Z"
    }
   },
   "source": "model.fit(x=X_train_20, y=Y_train_20, epochs=50, batch_size=X_train_20.shape[0], workers=8, use_multiprocessing=True)",
   "outputs": [
    {
     "name": "stdout",
     "output_type": "stream",
     "text": [
      "Epoch 1/50\n"
     ]
    },
    {
     "name": "stderr",
     "output_type": "stream",
     "text": [
      "2024-10-09 23:36:07.607565: W tensorflow/tsl/platform/profile_utils/cpu_utils.cc:128] Failed to get CPU frequency: 0 Hz\n"
     ]
    },
    {
     "name": "stdout",
     "output_type": "stream",
     "text": [
      "1/1 [==============================] - 0s 211ms/step - loss: 151.4775 - accuracy: 0.1231\n",
      "Epoch 2/50\n",
      "1/1 [==============================] - 0s 24ms/step - loss: 96.9203 - accuracy: 0.1764\n",
      "Epoch 3/50\n",
      "1/1 [==============================] - 0s 21ms/step - loss: 62.0617 - accuracy: 0.2604\n",
      "Epoch 4/50\n",
      "1/1 [==============================] - 0s 19ms/step - loss: 40.7873 - accuracy: 0.3358\n",
      "Epoch 5/50\n",
      "1/1 [==============================] - 0s 21ms/step - loss: 30.3317 - accuracy: 0.3798\n",
      "Epoch 6/50\n",
      "1/1 [==============================] - 0s 22ms/step - loss: 25.8016 - accuracy: 0.4160\n",
      "Epoch 7/50\n",
      "1/1 [==============================] - 0s 22ms/step - loss: 20.5553 - accuracy: 0.4803\n",
      "Epoch 8/50\n",
      "1/1 [==============================] - 0s 24ms/step - loss: 16.3043 - accuracy: 0.5435\n",
      "Epoch 9/50\n",
      "1/1 [==============================] - 0s 20ms/step - loss: 14.0508 - accuracy: 0.5892\n",
      "Epoch 10/50\n",
      "1/1 [==============================] - 0s 22ms/step - loss: 12.5405 - accuracy: 0.6294\n",
      "Epoch 11/50\n",
      "1/1 [==============================] - 0s 22ms/step - loss: 11.0087 - accuracy: 0.6677\n",
      "Epoch 12/50\n",
      "1/1 [==============================] - 0s 21ms/step - loss: 9.5706 - accuracy: 0.7016\n",
      "Epoch 13/50\n",
      "1/1 [==============================] - 0s 21ms/step - loss: 8.5060 - accuracy: 0.7313\n",
      "Epoch 14/50\n",
      "1/1 [==============================] - 0s 21ms/step - loss: 7.9011 - accuracy: 0.7503\n",
      "Epoch 15/50\n",
      "1/1 [==============================] - 0s 21ms/step - loss: 7.6175 - accuracy: 0.7572\n",
      "Epoch 16/50\n",
      "1/1 [==============================] - 0s 20ms/step - loss: 7.4203 - accuracy: 0.7624\n",
      "Epoch 17/50\n",
      "1/1 [==============================] - 0s 20ms/step - loss: 7.1555 - accuracy: 0.7690\n",
      "Epoch 18/50\n",
      "1/1 [==============================] - 0s 21ms/step - loss: 6.7469 - accuracy: 0.7775\n",
      "Epoch 19/50\n",
      "1/1 [==============================] - 0s 20ms/step - loss: 6.2343 - accuracy: 0.7891\n",
      "Epoch 20/50\n",
      "1/1 [==============================] - 0s 21ms/step - loss: 5.7088 - accuracy: 0.7977\n",
      "Epoch 21/50\n",
      "1/1 [==============================] - 0s 20ms/step - loss: 5.2446 - accuracy: 0.8080\n",
      "Epoch 22/50\n",
      "1/1 [==============================] - 0s 22ms/step - loss: 4.9094 - accuracy: 0.8160\n",
      "Epoch 23/50\n",
      "1/1 [==============================] - 0s 22ms/step - loss: 4.6729 - accuracy: 0.8196\n",
      "Epoch 24/50\n",
      "1/1 [==============================] - 0s 22ms/step - loss: 4.5114 - accuracy: 0.8247\n",
      "Epoch 25/50\n",
      "1/1 [==============================] - 0s 21ms/step - loss: 4.3715 - accuracy: 0.8276\n",
      "Epoch 26/50\n",
      "1/1 [==============================] - 0s 21ms/step - loss: 4.2203 - accuracy: 0.8304\n",
      "Epoch 27/50\n",
      "1/1 [==============================] - 0s 22ms/step - loss: 4.0596 - accuracy: 0.8361\n",
      "Epoch 28/50\n",
      "1/1 [==============================] - 0s 21ms/step - loss: 3.8902 - accuracy: 0.8402\n",
      "Epoch 29/50\n",
      "1/1 [==============================] - 0s 22ms/step - loss: 3.7197 - accuracy: 0.8447\n",
      "Epoch 30/50\n",
      "1/1 [==============================] - 0s 22ms/step - loss: 3.5546 - accuracy: 0.8497\n",
      "Epoch 31/50\n",
      "1/1 [==============================] - 0s 22ms/step - loss: 3.4036 - accuracy: 0.8528\n",
      "Epoch 32/50\n",
      "1/1 [==============================] - 0s 21ms/step - loss: 3.2719 - accuracy: 0.8551\n",
      "Epoch 33/50\n",
      "1/1 [==============================] - 0s 22ms/step - loss: 3.1584 - accuracy: 0.8572\n",
      "Epoch 34/50\n",
      "1/1 [==============================] - 0s 23ms/step - loss: 3.0579 - accuracy: 0.8612\n",
      "Epoch 35/50\n",
      "1/1 [==============================] - 0s 22ms/step - loss: 2.9646 - accuracy: 0.8628\n",
      "Epoch 36/50\n",
      "1/1 [==============================] - 0s 21ms/step - loss: 2.8738 - accuracy: 0.8656\n",
      "Epoch 37/50\n",
      "1/1 [==============================] - 0s 22ms/step - loss: 2.7821 - accuracy: 0.8681\n",
      "Epoch 38/50\n",
      "1/1 [==============================] - 0s 21ms/step - loss: 2.6918 - accuracy: 0.8717\n",
      "Epoch 39/50\n",
      "1/1 [==============================] - 0s 21ms/step - loss: 2.6053 - accuracy: 0.8731\n",
      "Epoch 40/50\n",
      "1/1 [==============================] - 0s 21ms/step - loss: 2.5246 - accuracy: 0.8745\n",
      "Epoch 41/50\n",
      "1/1 [==============================] - 0s 21ms/step - loss: 2.4528 - accuracy: 0.8770\n",
      "Epoch 42/50\n",
      "1/1 [==============================] - 0s 21ms/step - loss: 2.3874 - accuracy: 0.8797\n",
      "Epoch 43/50\n",
      "1/1 [==============================] - 0s 22ms/step - loss: 2.3255 - accuracy: 0.8815\n",
      "Epoch 44/50\n",
      "1/1 [==============================] - 0s 20ms/step - loss: 2.2653 - accuracy: 0.8823\n",
      "Epoch 45/50\n",
      "1/1 [==============================] - 0s 23ms/step - loss: 2.2057 - accuracy: 0.8844\n",
      "Epoch 46/50\n",
      "1/1 [==============================] - 0s 29ms/step - loss: 2.1461 - accuracy: 0.8873\n",
      "Epoch 47/50\n",
      "1/1 [==============================] - 0s 24ms/step - loss: 2.0863 - accuracy: 0.8892\n",
      "Epoch 48/50\n",
      "1/1 [==============================] - 0s 24ms/step - loss: 2.0278 - accuracy: 0.8913\n",
      "Epoch 49/50\n",
      "1/1 [==============================] - 0s 21ms/step - loss: 1.9717 - accuracy: 0.8923\n",
      "Epoch 50/50\n",
      "1/1 [==============================] - 0s 22ms/step - loss: 1.9194 - accuracy: 0.8945\n"
     ]
    },
    {
     "data": {
      "text/plain": [
       "<keras.callbacks.History at 0x1602cc310>"
      ]
     },
     "execution_count": 24,
     "metadata": {},
     "output_type": "execute_result"
    }
   ],
   "execution_count": 24
  },
  {
   "cell_type": "code",
   "metadata": {
    "ExecuteTime": {
     "end_time": "2024-10-09T16:36:09.081956Z",
     "start_time": "2024-10-09T16:36:08.949318Z"
    }
   },
   "source": [
    "rs3 = model.evaluate(X_test_20, Y_test_20, verbose=0)\n",
    "rs3  # [lost, accuracy]"
   ],
   "outputs": [
    {
     "data": {
      "text/plain": [
       "[2.785999298095703, 0.8676666617393494]"
      ]
     },
     "execution_count": 25,
     "metadata": {},
     "output_type": "execute_result"
    }
   ],
   "execution_count": 25
  },
  {
   "cell_type": "markdown",
   "metadata": {},
   "source": []
  },
  {
   "cell_type": "code",
   "metadata": {
    "ExecuteTime": {
     "end_time": "2024-10-09T16:40:31.924194Z",
     "start_time": "2024-10-09T16:40:31.866493Z"
    }
   },
   "source": [
    "def show_image(img_data: np.ndarray) -> tuple:\n",
    "    fig, axes = plt.subplots(figsize=(1.60, 1.20))\n",
    "    axes.imshow(X=img_data, cmap=\"gray\")\n",
    "    return fig, axes\n",
    "\n",
    "# print(y_test[5854])\n",
    "show_image(X_test[4823])\n",
    "plt.show()"
   ],
   "outputs": [
    {
     "data": {
      "text/plain": [
       "<Figure size 160x120 with 1 Axes>"
      ],
      "image/png": "[encoded data removed]"
     },
     "metadata": {},
     "output_type": "display_data"
    }
   ],
   "execution_count": 26
  },
  {
   "cell_type": "code",
   "metadata": {},
   "source": [
    "show_image(X_train[0])"
   ],
   "outputs": [],
   "execution_count": null
  },
  {
   "cell_type": "markdown",
   "metadata": {},
   "source": []
  },
  {
   "cell_type": "markdown",
   "metadata": {},
   "source": [
    "### 5.2. Linear and Activation Function:"
   ]
  },
  {
   "cell_type": "markdown",
   "metadata": {},
   "source": [
    "### 5.3. Loss/Cost Function"
   ]
  },
  {
   "cell_type": "markdown",
   "metadata": {},
   "source": [
    "### 5.4. Optimizer"
   ]
  },
  {
   "cell_type": "code",
   "metadata": {},
   "source": [
    "import tensorflow as tf\n",
    "print(\"Num GPUs Available: \", len(tf.config.list_physical_devices('GPU')))\n",
    "\n",
    "# resolver = tf.distribute.cluster_resolver.TPUClusterResolver(tpu='')\n",
    "# tf.config.experimental_connect_to_cluster(resolver)\n",
    "# # This is the TPU initialization code that has to be at the beginning.\n",
    "# tf.tpu.experimental.initialize_tpu_system(resolver)\n",
    "# print(\"All devices: \", tf.config.list_logical_devices('TPU'))"
   ],
   "outputs": [],
   "execution_count": null
  },
  {
   "cell_type": "code",
   "metadata": {},
   "source": [],
   "outputs": [],
   "execution_count": null
  },
  {
   "cell_type": "code",
   "metadata": {},
   "source": [],
   "outputs": [],
   "execution_count": null
  }
 ],
 "metadata": {
  "kernelspec": {
   "display_name": "learn-python",
   "language": "python",
   "name": "python3"
  },
  "language_info": {
   "codemirror_mode": {
    "name": "ipython",
    "version": 3
   },
   "file_extension": ".py",
   "mimetype": "text/x-python",
   "name": "python",
   "nbconvert_exporter": "python",
   "pygments_lexer": "ipython3",
   "version": "3.10.13"
  },
  "orig_nbformat": 4
 },
 "nbformat": 4,
 "nbformat_minor": 2
}
