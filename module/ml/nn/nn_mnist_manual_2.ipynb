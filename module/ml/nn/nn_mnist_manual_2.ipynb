{
 "cells": [
  {
   "cell_type": "code",
   "metadata": {
    "ExecuteTime": {
     "end_time": "2024-10-15T16:44:48.908628Z",
     "start_time": "2024-10-15T16:44:46.788543Z"
    }
   },
   "source": [
    "from typing import List\n",
    "\n",
    "import matplotlib\n",
    "import numpy as np\n",
    "import matplotlib.pyplot as plt\n",
    "import matplotlib.lines as mlines\n",
    "import matplotlib.animation as animation\n",
    "import time\n",
    "import struct\n",
    "import tensorflow as tf\n",
    "import random as rd\n",
    "\n",
    "from math import *\n",
    "from array import array\n",
    "\n",
    "# import keras._tf_keras.keras as keras \n",
    "# from keras._tf_keras.keras\n",
    "from sklearn.metrics import accuracy_score, f1_score\n",
    "from sklearn.model_selection import train_test_split\n",
    "from sklearn.preprocessing import MinMaxScaler, StandardScaler\n",
    "from sklearn.linear_model import LogisticRegression\n",
    "from tensorflow.python.ops.init_ops_v2 import glorot_uniform\n",
    "\n",
    "# my project\n",
    "from module.conf import PROJECT_DIR\n",
    "\n",
    "# matplotlib.use(\"QTAgg\")\n",
    "%matplotlib inline"
   ],
   "outputs": [],
   "execution_count": 1
  },
  {
   "cell_type": "markdown",
   "metadata": {},
   "source": [
    "Load data:\n",
    "- Train data: 60k 28x28 images\n",
    "- Test data: "
   ]
  },
  {
   "cell_type": "code",
   "metadata": {
    "ExecuteTime": {
     "end_time": "2024-10-15T16:44:48.995435Z",
     "start_time": "2024-10-15T16:44:48.914466Z"
    }
   },
   "source": [
    "mnist_path = \"/data/sample/mnist\"\n",
    "training_images_filepath = \"\".join([PROJECT_DIR, mnist_path, \"/train-images.idx3-ubyte\"])\n",
    "training_labels_filepath = \"\".join([PROJECT_DIR, mnist_path, \"/train-labels.idx1-ubyte\"])\n",
    "test_images_filepath = \"\".join([PROJECT_DIR, mnist_path, \"/t10k-images.idx3-ubyte\"])\n",
    "test_labels_filepath = \"\".join([PROJECT_DIR, mnist_path, \"/t10k-labels.idx1-ubyte\"])\n",
    "\n",
    "def read_images_labels(images_filepath, labels_filepath) -> tuple:\n",
    "    labels = []\n",
    "    with open(labels_filepath, 'rb') as file:\n",
    "        magic, size = struct.unpack(\">II\", file.read(8))\n",
    "        if magic != 2049:\n",
    "            raise ValueError('Magic number mismatch, expected 2049, got {}'.format(magic))\n",
    "        # labels = array(\"B\", file.read())\n",
    "        labels = array(\"B\", file.read())\n",
    "\n",
    "    with open(images_filepath, 'rb') as file:\n",
    "        magic, size, rows, cols = struct.unpack(\">IIII\", file.read(16))\n",
    "        if magic != 2051:\n",
    "            raise ValueError('Magic number mismatch, expected 2051, got {}'.format(magic))\n",
    "        image_data = array(\"B\", file.read())       \n",
    "     \n",
    "    images = []\n",
    "    # for i in range(size):\n",
    "    #     images.append([0] * rows * cols)\n",
    "    for i in range(size):\n",
    "        img = np.array(image_data[i * rows * cols:(i + 1) * rows * cols])\n",
    "        img = img.reshape(28, 28)\n",
    "        # images[i][:] = img\n",
    "        images.append(img)\n",
    "    \n",
    "    return images, labels\n",
    "\n",
    "def load_data() -> tuple:\n",
    "    x_train, y_train = read_images_labels(training_images_filepath, training_labels_filepath)\n",
    "    x_test, y_test = read_images_labels(test_images_filepath, test_labels_filepath)\n",
    "    return (x_train, y_train),(x_test, y_test)\n",
    "\n",
    "(X_train, y_train), (X_test, y_test) = load_data()"
   ],
   "outputs": [],
   "execution_count": 2
  },
  {
   "cell_type": "code",
   "metadata": {
    "ExecuteTime": {
     "end_time": "2024-10-15T16:44:49.034464Z",
     "start_time": "2024-10-15T16:44:49.032879Z"
    }
   },
   "source": [
    "# print(f\"{type(X_train[0])}\")\n",
    "# mnist = tf.keras.datasets.mnist\n",
    "\n",
    "# (x_train, y_train), (x_test, y_test) = mnist.load_data()\n"
   ],
   "outputs": [],
   "execution_count": 3
  },
  {
   "cell_type": "code",
   "metadata": {
    "ExecuteTime": {
     "end_time": "2024-10-15T16:44:49.126019Z",
     "start_time": "2024-10-15T16:44:49.041634Z"
    }
   },
   "source": [
    "X_train = np.asarray(X_train) / 255\n",
    "y_train = np.asarray(y_train)\n",
    "X_test  = np.asarray(X_test) / 255\n",
    "y_test  = np.asarray(y_test)"
   ],
   "outputs": [],
   "execution_count": 4
  },
  {
   "cell_type": "markdown",
   "metadata": {},
   "source": [
    "## 1. Activation functions:"
   ]
  },
  {
   "cell_type": "markdown",
   "metadata": {},
   "source": [
    "### 1.1. Linear:\n",
    "$ \\begin{align}\n",
    "f(\\mathbf z) &= \\mathbf z \\\\\n",
    "\\rightarrow \\frac{\\partial f(\\mathbf z)}{\\partial \\mathbf z} &=\\mathbf 1 \\\\ \n",
    "\\end{align} $"
   ]
  },
  {
   "cell_type": "code",
   "metadata": {
    "ExecuteTime": {
     "end_time": "2024-10-15T16:44:49.135222Z",
     "start_time": "2024-10-15T16:44:49.133334Z"
    }
   },
   "source": [
    "def linear(z): return z\n",
    "def grad_linear(z): return 1"
   ],
   "outputs": [],
   "execution_count": 5
  },
  {
   "cell_type": "markdown",
   "metadata": {},
   "source": [
    "### 1.2. ReLU:\n",
    "$\\begin{align}\n",
    "ReLU(\\mathbf z) &= \\max(\\mathbf z, \\mathbf 0) \\\\\n",
    "\\rightarrow \\frac{\\partial ReLU(\\mathbf z)}{\\partial \\mathbf z} &= \\begin{cases}\n",
    "z_i = 1 \\text{ if } z_i > 0 \\\\\n",
    "z_i = 0 \\text{ if } z_i \\leqslant 0 \\\\\n",
    "\\end{cases} \\\\\n",
    "\\end{align}$"
   ]
  },
  {
   "cell_type": "code",
   "metadata": {
    "ExecuteTime": {
     "end_time": "2024-10-15T16:44:49.143571Z",
     "start_time": "2024-10-15T16:44:49.141808Z"
    }
   },
   "source": [
    "def relu(z): return np.maximum(0, z)\n",
    "def grad_relu(z): return np.where(z > 0, 1, 0) # (x > 0).astype(float) # np.array([1 if z_i > 0 else 0 for z_i in z])"
   ],
   "outputs": [],
   "execution_count": 6
  },
  {
   "cell_type": "code",
   "metadata": {
    "ExecuteTime": {
     "end_time": "2024-10-15T16:44:49.153624Z",
     "start_time": "2024-10-15T16:44:49.150463Z"
    }
   },
   "source": [
    "z = np.array([1,-6, 3, 4, 0])\n",
    "relu_z = relu(z)\n",
    "relu_z\n",
    "grad_relu_z = grad_relu(relu_z)\n",
    "grad_relu_z"
   ],
   "outputs": [
    {
     "data": {
      "text/plain": [
       "array([1, 0, 1, 1, 0])"
      ]
     },
     "execution_count": 7,
     "metadata": {},
     "output_type": "execute_result"
    }
   ],
   "execution_count": 7
  },
  {
   "cell_type": "markdown",
   "metadata": {},
   "source": [
    "### 1.2. Sigmoid:\n",
    "$\\begin{align}\n",
    "\\sigma(\\mathbf z) &= \\frac{1}{1 + e^{-z}} \\\\\n",
    "\\rightarrow \\frac{\\partial\\sigma(\\mathbf z)}{\\partial \\mathbf z} &= \\sigma(\\mathbf z)\\cdot\\left(1 - \\sigma(\\mathbf z)\\right) \\\\ \n",
    "\\end{align} $"
   ]
  },
  {
   "cell_type": "code",
   "metadata": {
    "ExecuteTime": {
     "end_time": "2024-10-15T16:44:49.180176Z",
     "start_time": "2024-10-15T16:44:49.178139Z"
    }
   },
   "source": [
    "def sigmoid(z): return 1/(1 + np.exp(-z))\n",
    "def grad_sigmoid(z): return sigmoid(z) * (1 - sigmoid(z))    "
   ],
   "outputs": [],
   "execution_count": 8
  },
  {
   "cell_type": "code",
   "metadata": {
    "ExecuteTime": {
     "end_time": "2024-10-15T16:44:49.191603Z",
     "start_time": "2024-10-15T16:44:49.188992Z"
    }
   },
   "source": [
    "z = np.array([1,-6, 3, 4, 0])\n",
    "sigmoid(z)\n",
    "grad_sigmoid(z)"
   ],
   "outputs": [
    {
     "data": {
      "text/plain": [
       "array([0.19661193, 0.00246651, 0.04517666, 0.01766271, 0.25      ])"
      ]
     },
     "execution_count": 9,
     "metadata": {},
     "output_type": "execute_result"
    }
   ],
   "execution_count": 9
  },
  {
   "cell_type": "markdown",
   "metadata": {},
   "source": [
    "### 1.3. Softmax:\n",
    "$\\begin{align}\n",
    "\\sigma(\\mathbf z) &= \\frac{e^{\\mathbf z}}{\\sum_{i=1}^{C}e^{z_i}} \\\\\n",
    "\\rightarrow \\frac{\\partial \\sigma(\\mathbf z)}{\\partial \\mathbf z} &= \\sigma(z_i) \\cdot (\\delta_{ij} - \\sigma(z_j)) \n",
    "\\rightarrow \\delta_{ij} = \\begin{cases} \n",
    "1 \\text{ if } i = j \\\\\n",
    "0 \\text{ if } i \\neq j  \n",
    "\\end{cases} \\\\\n",
    "&= diag(\\mathbf z) - \\mathbf z * \\mathbf z^T \\\\\n",
    "C &\\text{ is number of class} \\\\\n",
    "diag &\\text{ is diagonal matrix }\n",
    "\\end{align}$"
   ]
  },
  {
   "cell_type": "code",
   "metadata": {
    "ExecuteTime": {
     "end_time": "2024-10-15T16:44:49.221012Z",
     "start_time": "2024-10-15T16:44:49.218211Z"
    }
   },
   "source": [
    "# def softmax(z): return np.exp(z)/np.sum(np.exp(z))\n",
    "# def grad_softmax(z): return np.diag(z) - np.outer(z,z)\n",
    "def softmax(Z):\n",
    "    Z_max = np.max(Z, axis=0, keepdims=True)\n",
    "    Z_exp = np.exp(Z - Z_max)\n",
    "    Z_sum = np.sum(Z_exp, axis=0, keepdims=True)\n",
    "    return Z_exp / Z_sum\n",
    "    # e_x = np.exp(Z - np.max(Z, axis=-1, keepdims=True))\n",
    "    # return e_x / np.sum(e_x, axis=-1, keepdims=True)\n",
    "\n",
    "def grad_softmax(Z):\n",
    "    S = softmax(Z)  # Tính softmax cho Z\n",
    "    batch_size, num_classes = S.shape\n",
    "    # Init Jacobian matrix: gradient foreach row\n",
    "    dSoftmax = np.zeros((batch_size, num_classes, num_classes))\n",
    "    for i in range(batch_size):\n",
    "        # S_i is softmax for i-row\n",
    "        s_i = S[i].reshape(-1, 1)  # Transpose to Column vector\n",
    "        # Jacobian matrix for i-row\n",
    "        # dSoftmax[i] = np.diagflat(s_i) - np.dot(s_i, s_i.T)\n",
    "        dSoftmax[i] = np.diagflat(s_i) - s_i @ s_i.T\n",
    "    # dSoftmax in hidden layer - transpose of Jacobian matrix    \n",
    "    return dSoftmax.transpose()"
   ],
   "outputs": [],
   "execution_count": 10
  },
  {
   "cell_type": "code",
   "metadata": {
    "ExecuteTime": {
     "end_time": "2024-10-15T16:44:49.231273Z",
     "start_time": "2024-10-15T16:44:49.228579Z"
    }
   },
   "source": [
    "z = np.array([[1,-6, 3, 4, 0],\n",
    "              [1,-6, 3, 7, 0]])\n",
    "# softmax(z)\n",
    "z_max = np.max(z, axis=z.ndim-1, keepdims=True)\n",
    "z_max\n",
    "# np.exp(z-z_max)\n",
    "# grad_softmax(z)"
   ],
   "outputs": [
    {
     "data": {
      "text/plain": [
       "array([[4],\n",
       "       [7]])"
      ]
     },
     "execution_count": 11,
     "metadata": {},
     "output_type": "execute_result"
    }
   ],
   "execution_count": 11
  },
  {
   "cell_type": "markdown",
   "metadata": {},
   "source": [
    "## 2. Loss function:"
   ]
  },
  {
   "cell_type": "markdown",
   "metadata": {},
   "source": [
    "### 2.1. Cross Entropy:\n",
    "$\\begin{align}\n",
    "CrossEntropy = - \\log(\\hat{y}_{true})\\\\\n",
    "\\end{align}$"
   ]
  },
  {
   "cell_type": "markdown",
   "metadata": {},
   "source": [
    "### 2.2. Categorical Crossentropy:\n",
    "$\\begin{align}\n",
    "Y &\\text{ is label in one-hot matrix } N \\times C  \\\\\n",
    "\\hat{Y} &\\text{ is predicted matrix } N \\times C \\\\\n",
    "C &\\text{ is number of classes}\\\\\n",
    "L &= -\\sum_{i=1}^{C} Y_i \\log(\\hat{Y}_{i}) \\\\\n",
    "\\hat{Y}_{i,j} &= \\frac{exp(Z_{i,j})}{\\sum_{k=1}^{C} exp(Z_{i,k})} \\\\\n",
    "\\rightarrow \\mathcal L &= -\\frac{1}{N} \\sum_{i=1}^{N}\\sum_{j=1}^{C} Y_{i,j} \\log(\\hat{Y}_{i,j}) \\\\\n",
    "&= -\\frac{1}{N} \\sum_{i=1}^{N} \\log(\\hat{Y}_{i,true}) \\\\\n",
    "\\hat{Y}_{i,true} &\\text{ is predicted result corresponding to one-hot is 1}\n",
    "\\end{align}$\n",
    "\n",
    "Gradient:\n",
    "$\\begin{align}\n",
    "\\frac{\\partial L}{\\partial Z} &= \\hat{Y}_{i,j} - Y_{i,j} \\\\\n",
    "\\end{align}$"
   ]
  },
  {
   "cell_type": "markdown",
   "metadata": {},
   "source": [
    "### 2.3. Sparse Categorical Crossentropy:\n",
    "$ \\begin{align}\n",
    "\\hat{Y} &= A_n = softmax(Z) \\\\\n",
    "Z &\\text{ is } n \\times C \\text{ matrix. n is number of samples, C is number of classes} \\\\\n",
    "CrossEntropy_i &= -\\log(\\hat{y}_{i, y_{sparse}}) \\\\\n",
    "CrossEntropy &\\text{ is a vector size n} \\\\\n",
    "\\rightarrow \\frac{\\partial L}{\\partial Z_{i,j}} &= \\hat{Y}_{i,j} - \\delta(j, y_{sparse,i}) \n",
    "\\rightarrow \\delta(j, y_{sparse,i}) = \\begin{cases}\n",
    "1 \\text{ if } j = y_{sparse,i} \\\\\n",
    "0 \\text{ if } j \\neq y_{sparse,i}\\\\\n",
    "\\end{cases} \\\\\n",
    "\\rightarrow \\frac{\\partial L}{\\partial Z_n} &= \\hat{Y} - Y = \\hat{Y} - SparseLabels \\\\\n",
    "SparseLabels &\\text{ can be considered as one-hot matrix}\n",
    "\\end{align} $"
   ]
  },
  {
   "cell_type": "code",
   "metadata": {
    "ExecuteTime": {
     "end_time": "2024-10-15T16:44:49.268120Z",
     "start_time": "2024-10-15T16:44:49.264482Z"
    }
   },
   "source": [
    "# should apply the Vectorization\n",
    "def delta_kronecker_matrix(y_train, mY_pred):\n",
    "    \"\"\"\n",
    "    Transform to one-hot encoding\n",
    "    y_train: a vector size n\n",
    "    mY_pred: a matrix (C, n)\n",
    "    \"\"\"\n",
    "    mY_train = np.zeros(shape=mY_pred.T.shape)\n",
    "    for i in range(len(y_train)): mY_train[i][y_train[i]] = 1\n",
    "    return mY_train\n",
    "\n",
    "def sparse_categorical_crossentropy_Z(y_train, mY_pred):\n",
    "    y_pred = np.array([mY_pred[i][y_train[i]] for i in range(len(y_train))])\n",
    "    return -np.sum(np.log(y_pred))\n",
    "\n",
    "def grad_sparse_categorical_crossentropy_Z(y_train, mY_pred):\n",
    "    return mY_pred - delta_kronecker_matrix(y_train=y_train, mY_pred=mY_pred)\n",
    "\n",
    "def sparse_categorical_crossentropy(y_true, y_pred):\n",
    "    batch_size = y_true.shape[0]\n",
    "    y_true_indices = (y_true, np.arange(batch_size))\n",
    "    correct_class_probabilities = y_pred[y_true_indices]\n",
    "    loss = -np.log(correct_class_probabilities + 1e-7).mean()\n",
    "    return loss\n",
    "\n",
    "def grad_sparse_categorical_crossentropy(y_true, y_pred):\n",
    "    # Grad\n",
    "    grad = np.zeros_like(y_pred)\n",
    "    grad[:y_pred.shape[0], y_true] = -1 / y_pred[:y_pred.shape[0], y_true]  # Grad for true-class\n",
    "    return grad"
   ],
   "outputs": [],
   "execution_count": 12
  },
  {
   "cell_type": "code",
   "metadata": {
    "ExecuteTime": {
     "end_time": "2024-10-15T16:44:49.285372Z",
     "start_time": "2024-10-15T16:44:49.281553Z"
    }
   },
   "source": [
    "import numpy as np\n",
    "from scipy.sparse import csr_matrix\n",
    "# ex\n",
    "# [[0, 0, 0, 0],\n",
    "#  [5, 8, 0, 0],\n",
    "#  [0, 0, 3, 0],\n",
    "#  [0, 6, 0, 0]]\n",
    "#\n",
    "\n",
    "data = np.array([5, 8, 3, 6, 7])        # values\n",
    "indices = np.array([0, 1, 2, 1, 0])     # col index for each value\n",
    "indptr = np.array([0, 2, 3, 4, 5])      # start - end in data values\n",
    "csr_m = csr_matrix((data, indices, indptr), shape=(4, 4))\n",
    "csr_m.toarray()\n"
   ],
   "outputs": [
    {
     "data": {
      "text/plain": [
       "array([[5, 8, 0, 0],\n",
       "       [0, 0, 3, 0],\n",
       "       [0, 6, 0, 0],\n",
       "       [7, 0, 0, 0]])"
      ]
     },
     "execution_count": 13,
     "metadata": {},
     "output_type": "execute_result"
    }
   ],
   "execution_count": 13
  },
  {
   "cell_type": "markdown",
   "metadata": {},
   "source": [
    "## 3. Optimizers: "
   ]
  },
  {
   "cell_type": "code",
   "metadata": {
    "ExecuteTime": {
     "end_time": "2024-10-15T16:44:49.320772Z",
     "start_time": "2024-10-15T16:44:49.318778Z"
    }
   },
   "source": [
    "def optimize_basicGD(w:np.ndarray, b:np.ndarray, grad_w: np.ndarray, grad_b: np.ndarray, learning_rate=1e-2):\n",
    "    w -= learning_rate * grad_w\n",
    "    b -= learning_rate * grad_b\n",
    "    return w, b"
   ],
   "outputs": [],
   "execution_count": 14
  },
  {
   "cell_type": "markdown",
   "metadata": {},
   "source": [
    "### 3.1. SGD\n",
    "$\\begin{align}\n",
    "\\theta &= \\theta - \\eta \\cdot \\nabla_{\\theta} L(\\theta, x_i, y_i) \\\\\n",
    "\\theta &\\text{ is weight}\\\\\n",
    "\\eta &\\text{ is learning rate}\\\\\n",
    "\\nabla_{\\theta} L(\\theta, x_i, y_i) &\\text{ is gradient respect to }\\theta \\text{ of }(x_i, y_i) \\\\\n",
    "\\end{align}$"
   ]
  },
  {
   "cell_type": "markdown",
   "metadata": {},
   "source": [
    "### 3.2. RMSProps:\n",
    "$\\begin{align}\n",
    "v_{t} &= \\beta v_{t-1} + (1 - \\beta)g_t^2 \\\\\n",
    "\\\\\n",
    "\\theta_t &= \\theta_{t-1} - \\frac{\\eta}{\\sqrt{v_t} + \\epsilon} g_t \\\\\n",
    "\\eta &\\text{ is learning rate} \\\\\n",
    "v_t &\\text{ is velocity at } t \\text{ time} \\\\\n",
    "g_t &\\text{ is gradient at } t \\text{ time} \\\\\n",
    "\\epsilon &\\text{ is very small number - avoid device by 0} \\\\\n",
    "\\theta &\\text{ is weight matrix or bias vector} \\\\\n",
    "\\end{align}$"
   ]
  },
  {
   "cell_type": "code",
   "metadata": {
    "ExecuteTime": {
     "end_time": "2024-10-15T16:44:49.365099Z",
     "start_time": "2024-10-15T16:44:49.360988Z"
    }
   },
   "source": [
    "def optimize_RMSProps(w: np.ndarray, b: np.ndarray, grad_w: np.ndarray, grad_b: np.ndarray, v_w:np.ndarray=None, v_b:np.ndarray=None,\n",
    "                      learning_rate=0.01, beta=0.9, epsilon=1e-7):\n",
    "    # if v_w is None: v_w = np.zeros_like(w)\n",
    "    # if v_b is None: v_b = np.zeros_like(b)\n",
    "    v_w = beta * v_w + (1 - beta) * grad_w ** 2\n",
    "    v_b = beta * v_b + (1 - beta) * grad_b ** 2\n",
    "    # print(f\"v_w: {v_w.shape} v_b: {v_b.shape}\")\n",
    "    w -= learning_rate * grad_w / (np.sqrt(v_w) + epsilon)\n",
    "    b -= learning_rate * grad_b / (np.sqrt(v_b) + epsilon)\n",
    "    return w, b, v_w, v_b\n",
    "\n",
    "def optimize_RMSPropsL1(w: np.ndarray, b: np.ndarray, grad_w: np.ndarray, grad_b: np.ndarray, v_w:np.ndarray=None, v_b:np.ndarray=None,\n",
    "                      learning_rate=0.01, beta=0.9, epsilon=1e-7, lambda_l1 = 1e-2, loss=0.0):\n",
    "    # l1_loss = lambda_l1 * np.sum(np.abs(w))\n",
    "    l1_loss = lambda_l1 * np.sum(w**2)\n",
    "    loss += l1_loss\n",
    "    grad_w += lambda_l1 * np.sign(w)\n",
    "    # grad_b += lambda_l1 * np.sign(b)\n",
    "    v_w = beta * v_w + (1 - beta) * grad_w ** 2\n",
    "    v_b = beta * v_b + (1 - beta) * grad_b ** 2\n",
    "    # print(f\"v_w: {v_w.shape} v_b: {v_b.shape}\")\n",
    "    w -= learning_rate * grad_w / (np.sqrt(v_w) + epsilon)\n",
    "    b -= learning_rate * grad_b / (np.sqrt(v_b) + epsilon)\n",
    "    return w, b, v_w, v_b, loss + l1_loss"
   ],
   "outputs": [],
   "execution_count": 15
  },
  {
   "cell_type": "markdown",
   "metadata": {},
   "source": [
    "### 3.3. Adagrad\n",
    "$\\begin{align}\n",
    "G_t &= G_{t-1} + g_t^2 \\\\\n",
    "\\theta_t &= \\theta_{t-1} - \\frac{\\eta}{\\sqrt{G_t - \\epsilon}} \\cdot g_t \\\\\n",
    "\\eta &\\text{ is learning rate} \\\\\n",
    "g_t &\\text{ is gradient at } t \\text{ time} \\\\\n",
    "\\epsilon &\\text{ is very small number - avoid device by 0} \\\\\n",
    "\\theta &\\text{ is weight matrix or bias vector} \\\\\n",
    "G &\\text{ sum of square of gradient} \\\\\n",
    "\\end{align}$"
   ]
  },
  {
   "cell_type": "markdown",
   "metadata": {},
   "source": [
    "### 3.4. Adaprops:"
   ]
  },
  {
   "cell_type": "markdown",
   "metadata": {},
   "source": [
    "### 3.5. Adamax:"
   ]
  },
  {
   "cell_type": "markdown",
   "metadata": {},
   "source": [
    "### 3.6.Adam: \n",
    "$\\begin{align}\n",
    "m_t &= \\beta_1 m_{t-1} + (1 - \\beta_1) g_t \\\\\n",
    "v_t &= \\beta_2 v_{t-1} + (1 - \\beta_2) g_t^2 \\\\\n",
    "\\hat m_t &= \\frac{m_t}{1 - \\beta_1^t} \\\\\n",
    "\\hat v_t &= \\frac{v_t}{1 - \\beta_2^t} \\\\\n",
    "\\theta_t &= \\theta_{t-1} - \\alpha \\frac{\\hat{m}_t}{\\sqrt{\\hat{v}_t} + \\epsilon} \\\\\n",
    "g_t &\\text{ is gradient at } t \\text{ time} \\\\\n",
    "\\epsilon &\\text{ is very small number - avoid device by 0} \\\\\n",
    "\\theta &\\text{ is weight matrix or bias vector} \\\\\n",
    "G &\\text{ sum of square of gradient} \\\\\n",
    "\\end{align}$"
   ]
  },
  {
   "cell_type": "markdown",
   "metadata": {},
   "source": [
    "### 5. Demo NN\n"
   ]
  },
  {
   "cell_type": "markdown",
   "metadata": {},
   "source": [
    "### 5.1. Load/Prepare data"
   ]
  },
  {
   "cell_type": "markdown",
   "metadata": {},
   "source": [
    "### 5.2. Neural network manually:\n",
    "- Flat 28 x 28 data\n",
    "- There are 03 layers: `[32, \"relu\"] [128, \"sigmoid\"] [10, \"softmax\"]`\n",
    "- Loss func: `SparseCategoricalCrossentropy`, `digits = False`\n",
    "- Optimizer: `RMSProp` with `learning_rate=1e-3`\n",
    "- **(opt)** metrics: `accuracy`"
   ]
  },
  {
   "cell_type": "markdown",
   "metadata": {},
   "source": [
    "### 5.3. Flat input data:"
   ]
  },
  {
   "cell_type": "code",
   "metadata": {
    "ExecuteTime": {
     "end_time": "2024-10-15T16:44:49.394357Z",
     "start_time": "2024-10-15T16:44:49.391131Z"
    }
   },
   "source": [
    "def flat_data(imp_data: np.ndarray) -> np.ndarray:\n",
    "    \"\"\"\n",
    "    Flat data from 02 dim matrix to vector\n",
    "    :param imp_data: (n, m_0, m_1) matrix, n is number of rows \n",
    "    :return: matrix: (n, m_0 * m_1)\n",
    "    \"\"\"\n",
    "    # scaler = MinMaxScaler(feature_range=(0, 1)) --> better accuracy, faster convergence\n",
    "    # scaler = StandardScaler(with_mean=True, with_std=True) --> better accuracy, faster convergence\n",
    "    scaler = StandardScaler(with_mean=False, with_std=False) # dont substract mean, dont devide by std ~ X, not scale\n",
    "    if len(imp_data.shape) < 3 : return scaler.fit_transform(imp_data)\n",
    "    return scaler.fit_transform(imp_data.reshape((-1, imp_data.shape[1] * imp_data.shape[2])).T).T"
   ],
   "outputs": [],
   "execution_count": 16
  },
  {
   "cell_type": "markdown",
   "metadata": {},
   "source": [
    "### 5.4. Loop"
   ]
  },
  {
   "cell_type": "code",
   "metadata": {
    "ExecuteTime": {
     "end_time": "2024-10-15T16:44:49.443547Z",
     "start_time": "2024-10-15T16:44:49.438075Z"
    }
   },
   "source": [
    "class DenseLayer (object):\n",
    "    activation_map = {\"linear\": linear, \"relu\": relu, \"sigmoid\": sigmoid, \"softmax\": softmax}\n",
    "    grad_map = {\"linear\": grad_linear, \"relu\": grad_relu, \"sigmoid\": grad_sigmoid, \"softmax\": grad_softmax}\n",
    "\n",
    "    def glorot_normal(self, shape, n_in, n_out):\n",
    "        stddev = np.sqrt(2 / (n_in + n_out))\n",
    "        return np.random.normal(loc=0, scale=stddev, size=shape)\n",
    "\n",
    "    def glorot_uniform(self, shape, n_in, n_out):\n",
    "        limit = np.sqrt(6 / (n_in + n_out))\n",
    "        return np.random.uniform(low=-limit, high=limit, size=shape)\n",
    "\n",
    "    def __init__(self, input_size, output_size, activation = 'linear'):\n",
    "        self._activation_func = self.activation_map['linear']\n",
    "        self._grad_func = self.grad_map['linear']\n",
    "        self._activation = activation.lower()\n",
    "        # self._weights = np.random.rand(output_size, input_size) * 1e-2\n",
    "        # self._weights = np.random.randn(output_size, input_size) * np.sqrt(2 / input_size)\n",
    "        self._weights = self.glorot_uniform(shape=(output_size, input_size), n_in=input_size, n_out=output_size)\n",
    "        # self._bias = np.random.rand(output_size, 1)\n",
    "        # self._bias = np.random.randn(output_size, 1) * np.sqrt(2 / input_size)\n",
    "        self._bias = np.zeros(shape=(output_size, 1))\n",
    "        self._cache_w = [np.zeros_like(self._weights), np.zeros_like(self._weights)]\n",
    "        self._cache_b = [np.zeros_like(self._bias), np.zeros_like(self._bias)]\n",
    "        self._init()\n",
    "        return\n",
    "    \n",
    "    def _init(self) -> None:\n",
    "        self._activation_func = DenseLayer.activation_map[self._activation] if self._activation in DenseLayer.activation_map else DenseLayer.activation_map['linear']\n",
    "        self._grad_func = DenseLayer.grad_map[self._activation] if self._activation in DenseLayer.grad_map else DenseLayer.grad_map['linear']\n",
    "        return None\n",
    "\n",
    "    @property\n",
    "    def activation_func(self):\n",
    "        return self._activation_func\n",
    "    @property\n",
    "    def grad_func(self):\n",
    "        return self._grad_func\n",
    "\n",
    "    @property\n",
    "    def weights(self) -> np.ndarray:\n",
    "        return self._weights\n",
    "    @weights.setter\n",
    "    def weights(self, val):\n",
    "        self._weights = val\n",
    "    @property\n",
    "    def bias(self) -> np.ndarray:\n",
    "        return self._bias\n",
    "    @bias.setter\n",
    "    def bias(self, val):\n",
    "        self._bias = val\n",
    "\n",
    "    @property\n",
    "    def cache_w(self):\n",
    "        return self._cache_w\n",
    "    @cache_w.setter\n",
    "    def cache_w(self, val):\n",
    "        self._cache_w = val\n",
    "    @property\n",
    "    def cache_b(self):\n",
    "        return self._cache_b\n",
    "    @cache_b.setter\n",
    "    def cache_b(self, val):\n",
    "        self._cache_b = val\n",
    "\n",
    "    pass"
   ],
   "outputs": [],
   "execution_count": 17
  },
  {
   "cell_type": "code",
   "metadata": {
    "ExecuteTime": {
     "end_time": "2024-10-15T16:44:49.486225Z",
     "start_time": "2024-10-15T16:44:49.471232Z"
    }
   },
   "source": [
    "class NNClassification(object):\n",
    "    \"\"\"\n",
    "    Layers:\n",
    "    - (units=32, activation=tf.keras.activations.relu),\n",
    "    - (units=128, activation=tf.keras.activations.relu),\n",
    "    - (units=10, activation=tf.keras.activations.linear)\n",
    "    Loss: softmax + SparseCategoricalCrossEntropy\n",
    "    Optimizer: Adam\n",
    "    \"\"\"\n",
    "    def __init__(self, input_size: int, output_size: int, learning_rate=1e-3, lambda_ = 1e-3):\n",
    "        self.Z = []\n",
    "        self.A = []\n",
    "        self.learning_rate = learning_rate\n",
    "        self.lambda_ = lambda_\n",
    "        self.layers: list[DenseLayer] = [None, # dont count\n",
    "            DenseLayer(input_size=input_size, output_size=128, activation='relu'),\n",
    "            DenseLayer(input_size=128, output_size=64, activation='relu'),\n",
    "            DenseLayer(input_size=64, output_size=10, activation='softmax')]\n",
    "        # - (units=32, activation=tf.keras.activations.relu),\n",
    "        # - (units=128, activation=tf.keras.activations.relu),\n",
    "        # - (units=10, activation=tf.keras.activations.linear)\n",
    "        return\n",
    "    \n",
    "    def glorot_normal(self, shape, n_in, n_out):\n",
    "        stddev = np.sqrt(2 / (n_in + n_out))\n",
    "        return np.random.normal(loc=0, scale=stddev, size=shape)\n",
    "\n",
    "    def glorot_uniform(self, shape, n_in, n_out):\n",
    "        limit = np.sqrt(6 / (n_in + n_out))\n",
    "        return np.random.uniform(low=-limit, high=limit, size=shape)\n",
    "\n",
    "    def linear(self, x): return x\n",
    "\n",
    "    def relu(self, x): return np.maximum(0, x)\n",
    "\n",
    "    def grad_relu(self, x): return np.where(x > 0, 1, 0) #return x > 0\n",
    "\n",
    "    def softmax(self, x):\n",
    "        x_max = np.max(x, axis=-1, keepdims=True)\n",
    "        x_exp = np.exp(x - x_max)\n",
    "        x_sum = np.sum(x_exp, axis=-1, keepdims=True)\n",
    "        return x_exp / x_sum\n",
    "\n",
    "    def optimize_Adam(self, w: np.ndarray, b: np.ndarray, grad_w: np.ndarray, grad_b: np.ndarray,\n",
    "                      cache_w: list[np.ndarray], cache_b:list[np.ndarray],\n",
    "                      learning_rate=0.01, beta1=0.9, beta2=0.999, epsilon=1e-8):\n",
    "        if cache_w is None: cache_w = [np.zeros_like(w), np.zeros_like(w)]\n",
    "        if cache_b is None: cache_b = [np.zeros_like(b), np.zeros_like(b)]\n",
    "        grad_w += self.lambda_ * w\n",
    "        cache_w[1] = beta1 * cache_w[1] + (1 - beta1) * grad_w\n",
    "        cache_b[1] = beta1 * cache_b[1] + (1 - beta1) * grad_b\n",
    "        cache_w[0] = beta2 * cache_w[0] + (1 - beta2) * grad_w ** 2\n",
    "        cache_b[0] = beta2 * cache_b[0] + (1 - beta2) * grad_b ** 2\n",
    "        m_w_hat = cache_w[1] / (1 - beta1)\n",
    "        m_b_hat = cache_b[1] / (1 - beta1)\n",
    "        v_w_hat = cache_w[0] / (1 - beta2)\n",
    "        v_b_hat = cache_b[0] / (1 - beta2)\n",
    "        updated_w = w - learning_rate * m_w_hat / (np.sqrt(v_w_hat) + epsilon)\n",
    "        updated_b = b - learning_rate * m_b_hat / (np.sqrt(v_b_hat) + epsilon)\n",
    "        return updated_w, updated_b, cache_w, cache_b\n",
    "\n",
    "    def compute_loss(self, y_true: np.ndarray, y_pred: np.ndarray):\n",
    "        samples = y_true.shape[0]\n",
    "        correct_logprobs = -np.log(y_pred[y_true, range(samples)])\n",
    "        return np.mean(correct_logprobs) + self.lambda_/(2*samples) * np.sum(np.square(self.layers[-1].weights))\n",
    "    \n",
    "    def forward_propagate(self, epoch, X) -> np.ndarray:\n",
    "        \"\"\"\n",
    "        forward propagation\n",
    "        :param X: (n, m) training data \n",
    "        :return: last value\n",
    "        \"\"\"\n",
    "        self.A.clear()\n",
    "        self.Z.clear()\n",
    "        self.A.append(X)\n",
    "        self.Z.append(None)\n",
    "        \n",
    "        for idx in range(1, len(self.layers)):\n",
    "            layer = self.layers[idx]\n",
    "            tmp_z = layer.weights @ self.A[idx - 1] + layer.bias\n",
    "            tmp_a = layer.activation_func(tmp_z)\n",
    "            self.Z.append(tmp_z)\n",
    "            self.A.append(tmp_a)\n",
    "            pass\n",
    "        return self.A[-1]\n",
    "    \n",
    "    def backward_propagate(self, epoch, y) -> np.ndarray:\n",
    "        \"\"\"\n",
    "        backward propagation\n",
    "        :param X: (n, m) n features, m samples\n",
    "        :param y: (n) labels\n",
    "        :return:\n",
    "        \"\"\"\n",
    "        dA = [None] * len(self.layers)\n",
    "        dZ = [None] * len(self.layers)\n",
    "        dW = [None] * len(self.layers)\n",
    "        db = [None] * len(self.layers)\n",
    "        \n",
    "        no_of_samples = y.shape[0] # X.shape[1]\n",
    "        \n",
    "        # calculate dL/dZ[-1] = y_pred - y = A[-1] - y\n",
    "        dZ[-1] = self.A[-1]\n",
    "        dZ[-1][y, range(no_of_samples)] -= 1\n",
    "        dZ[-1] /= no_of_samples\n",
    "        \n",
    "        # dW[-1] = dL/dZ[-1] @ dZ[-1]/dW[-1] = dZ[-1] @ A[-2]\n",
    "        dW[-1] = dZ[-1] @ self.A[-2].T\n",
    "        db[-1] = np.sum(dZ[-1], axis=1, keepdims=True) # dZ[-1] @ np.ones((dZ[-1].shape[1], 1))\n",
    "        dWb = [None] * len(self.layers)\n",
    "        dWb[-1] = (dW[-1], db[-1])\n",
    "        for idx in range(len(self.layers) - 2, 0, -1):\n",
    "            layer = self.layers[idx]\n",
    "            # calculate dA, dZ, dW, db\n",
    "            dA[idx] = self.layers[idx + 1].weights.T @ dZ[idx + 1]\n",
    "            dZ[idx] = dA[idx] * layer.grad_func(self.Z[idx])\n",
    "            dW[idx] = dZ[idx] @ self.A[idx - 1].T\n",
    "            db[idx] = np.sum(dZ[idx], axis=1, keepdims=True)\n",
    "            dWb[idx]= (dW[idx], db[idx])\n",
    "            pass\n",
    "        return dWb\n",
    "    \n",
    "    def update_weights(self, dWb: np.ndarray, no_of_samples: int) -> None:\n",
    "        if dWb is None: return\n",
    "        for idx, (layer, dWb_itm) in enumerate(zip(self.layers[1:], dWb[1:])):\n",
    "            #     layer = self.layers[idx]\n",
    "            # layer.weights, layer.bias, layer.cache_w, layer.cache_b = self.optimize_Adam(\n",
    "            #     w=layer.weights, b=layer.bias,\n",
    "            #     grad_w=dWb[idx][0], grad_b=dWb[idx][1],\n",
    "            #     cache_w=layer.cache_w, cache_b=layer.cache_b,\n",
    "            #     learning_rate=self.learning_rate, beta1=0.9, beta2=0.999)\n",
    "            \n",
    "            layer.weights, layer.bias, layer.cache_w, layer.cache_b = self.optimize_Adam(\n",
    "                w=layer.weights, b=layer.bias,\n",
    "                grad_w=dWb_itm[0], grad_b=dWb_itm[1],\n",
    "                cache_w=layer.cache_w, cache_b=layer.cache_b,\n",
    "                learning_rate=self.learning_rate, beta1=0.9, beta2=0.999, epsilon=1e-7)\n",
    "            pass\n",
    "        return\n",
    "    \n",
    "    def fit(self, X: np.ndarray, Y: np.ndarray, epochs: int=1, batch_size: int=32, min_delta:float = -1) -> None:\n",
    "        \"\"\"\n",
    "        \n",
    "        :param X_train: matrix(n, m) n - features, m - number of samples\n",
    "        :param Y_train: vector(n), - labels in sparse\n",
    "        :param epochs: epochs\n",
    "        :param batch_size:\n",
    "        :param min_delta:\n",
    "        :return: list of weight matrix, from 0\n",
    "        \"\"\"\n",
    "        # read and normalize data\n",
    "        noOfSamples = X.shape[1]\n",
    "        loss = 0.0\n",
    "        accuracy = 0.0\n",
    "        for epoch in range(epochs):\n",
    "            permu = np.random.permutation(noOfSamples)\n",
    "            X_shuffled = X[:, permu]\n",
    "            Y_shuffled = Y[permu]\n",
    "            last_loss = loss\n",
    "            last_accuracy = accuracy\n",
    "            for idx in range(0, noOfSamples, batch_size):\n",
    "                X_batch = X_shuffled[:, idx:idx + batch_size]\n",
    "                Y_batch = Y_shuffled[idx:idx + batch_size]\n",
    "                # forward\n",
    "                Y_pred = self.forward_propagate(epoch, X_batch)\n",
    "                # calculate cost and accuracy\n",
    "                # last_accuracy = accuracy\n",
    "                loss = self.compute_loss(Y_batch, Y_pred)\n",
    "                accuracy = accuracy_score(Y_batch, np.argmax(Y_pred, axis=0, keepdims=False))\n",
    "                # backward\n",
    "                dWb = self.backward_propagate(epoch, Y_batch)\n",
    "                # update weight\n",
    "                self.update_weights(dWb, X_batch.shape[1])\n",
    "            # print result\n",
    "            if np.abs(accuracy) > 1 - min_delta:\n",
    "                print(f\"Epochs[{epoch+1}] Loss: {loss:4f} - Accuracy: {accuracy:6f}, Prev Accuracy: {last_accuracy:6f}\")\n",
    "                return\n",
    "            if (epoch + 1) % 1 == 0:\n",
    "                print(f\"Epochs[{epoch+1}] Loss: {loss:4f} - Accuracy: {accuracy:6f}\")\n",
    "                pass\n",
    "            pass\n",
    "        return\n",
    "\n",
    "    def predict(self, X: np.ndarray) -> np.ndarray:\n",
    "        \"\"\"\n",
    "        \n",
    "        :param X: (n, m) n features, m samples \n",
    "        :return: (n) y_pred\n",
    "        \"\"\"\n",
    "        return self.forward_propagate(0, X)\n",
    "\n",
    "    def evaluate(self, X_test, Y_test):\n",
    "        \"\"\"\n",
    "        :param X_test: matrix(n, m) n - number of features, m - number of samples\n",
    "        :param Y_test: vector(n), labels in sparse\n",
    "        :return: [lost, accuracy] \n",
    "        \"\"\"\n",
    "        Y_pred = self.predict(X_test)\n",
    "        loss = self.compute_loss(Y_test, Y_pred)\n",
    "        accuracy = accuracy_score(Y_test, np.argmax(Y_pred, axis=0, keepdims=False))\n",
    "        return loss, accuracy\n",
    "    \n",
    "    pass"
   ],
   "outputs": [],
   "execution_count": 18
  },
  {
   "cell_type": "code",
   "metadata": {
    "ExecuteTime": {
     "end_time": "2024-10-15T16:44:49.587666Z",
     "start_time": "2024-10-15T16:44:49.498957Z"
    }
   },
   "source": [
    "# split the train data\n",
    "X_train_20 = train_test_split(X_train, test_size=0.2, random_state=42)[1]\n",
    "Y_train_20 = train_test_split(y_train, test_size=0.2, random_state=42)[1]\n",
    "\n",
    "len(X_train_20)\n",
    "X_train_20.shape"
   ],
   "outputs": [
    {
     "data": {
      "text/plain": [
       "(12000, 28, 28)"
      ]
     },
     "execution_count": 19,
     "metadata": {},
     "output_type": "execute_result"
    }
   ],
   "execution_count": 19
  },
  {
   "cell_type": "code",
   "metadata": {
    "ExecuteTime": {
     "end_time": "2024-10-15T16:46:15.070845Z",
     "start_time": "2024-10-15T16:44:49.652965Z"
    }
   },
   "source": [
    "train_X = flat_data(X_train_20).T\n",
    "n = train_X.shape[0]\n",
    "m = train_X.shape[1]\n",
    "nn = NNClassification(input_size=n, output_size=10, learning_rate=1e-3)\n",
    "# rs1 = nn.fit(train_X, Y_train_20, epochs=50, batch_size=64, min_delta=1e-3)\n",
    "nn.fit(train_X, Y_train_20, epochs=50, batch_size=m)"
   ],
   "outputs": [
    {
     "name": "stdout",
     "output_type": "stream",
     "text": [
      "Epochs[1] Loss: 2.407372 - Accuracy: 0.096167\n",
      "Epochs[2] Loss: 2.270193 - Accuracy: 0.168333\n",
      "Epochs[3] Loss: 2.134895 - Accuracy: 0.331667\n",
      "Epochs[4] Loss: 2.005205 - Accuracy: 0.496417\n",
      "Epochs[5] Loss: 1.865669 - Accuracy: 0.580917\n",
      "Epochs[6] Loss: 1.711652 - Accuracy: 0.627750\n",
      "Epochs[7] Loss: 1.546908 - Accuracy: 0.675833\n",
      "Epochs[8] Loss: 1.380574 - Accuracy: 0.705583\n",
      "Epochs[9] Loss: 1.220956 - Accuracy: 0.733667\n",
      "Epochs[10] Loss: 1.072214 - Accuracy: 0.764083\n",
      "Epochs[11] Loss: 0.938053 - Accuracy: 0.795250\n",
      "Epochs[12] Loss: 0.825166 - Accuracy: 0.816083\n",
      "Epochs[13] Loss: 0.735680 - Accuracy: 0.826500\n",
      "Epochs[14] Loss: 0.662328 - Accuracy: 0.834583\n",
      "Epochs[15] Loss: 0.599693 - Accuracy: 0.844333\n",
      "Epochs[16] Loss: 0.550133 - Accuracy: 0.851250\n",
      "Epochs[17] Loss: 0.512432 - Accuracy: 0.857750\n",
      "Epochs[18] Loss: 0.481503 - Accuracy: 0.864333\n",
      "Epochs[19] Loss: 0.454767 - Accuracy: 0.872000\n",
      "Epochs[20] Loss: 0.431135 - Accuracy: 0.878667\n",
      "Epochs[21] Loss: 0.412042 - Accuracy: 0.882750\n",
      "Epochs[22] Loss: 0.396564 - Accuracy: 0.886333\n",
      "Epochs[23] Loss: 0.382187 - Accuracy: 0.890250\n",
      "Epochs[24] Loss: 0.369456 - Accuracy: 0.893083\n",
      "Epochs[25] Loss: 0.358072 - Accuracy: 0.895917\n",
      "Epochs[26] Loss: 0.347561 - Accuracy: 0.899833\n",
      "Epochs[27] Loss: 0.338011 - Accuracy: 0.903167\n",
      "Epochs[28] Loss: 0.329096 - Accuracy: 0.906500\n",
      "Epochs[29] Loss: 0.320768 - Accuracy: 0.909417\n",
      "Epochs[30] Loss: 0.313175 - Accuracy: 0.910750\n",
      "Epochs[31] Loss: 0.305859 - Accuracy: 0.913000\n",
      "Epochs[32] Loss: 0.298956 - Accuracy: 0.914750\n",
      "Epochs[33] Loss: 0.292648 - Accuracy: 0.915833\n",
      "Epochs[34] Loss: 0.286566 - Accuracy: 0.918083\n",
      "Epochs[35] Loss: 0.280827 - Accuracy: 0.919833\n",
      "Epochs[36] Loss: 0.275371 - Accuracy: 0.921583\n",
      "Epochs[37] Loss: 0.270162 - Accuracy: 0.923667\n",
      "Epochs[38] Loss: 0.265323 - Accuracy: 0.924667\n",
      "Epochs[39] Loss: 0.260747 - Accuracy: 0.925833\n",
      "Epochs[40] Loss: 0.256379 - Accuracy: 0.926917\n",
      "Epochs[41] Loss: 0.252225 - Accuracy: 0.927667\n",
      "Epochs[42] Loss: 0.248261 - Accuracy: 0.928417\n",
      "Epochs[43] Loss: 0.244435 - Accuracy: 0.929000\n",
      "Epochs[44] Loss: 0.240804 - Accuracy: 0.930583\n",
      "Epochs[45] Loss: 0.237304 - Accuracy: 0.931667\n",
      "Epochs[46] Loss: 0.233884 - Accuracy: 0.932750\n",
      "Epochs[47] Loss: 0.230626 - Accuracy: 0.933917\n",
      "Epochs[48] Loss: 0.227512 - Accuracy: 0.935000\n",
      "Epochs[49] Loss: 0.224488 - Accuracy: 0.935667\n",
      "Epochs[50] Loss: 0.221584 - Accuracy: 0.936417\n"
     ]
    }
   ],
   "execution_count": 20
  },
  {
   "cell_type": "code",
   "metadata": {
    "ExecuteTime": {
     "end_time": "2024-10-15T16:46:15.147616Z",
     "start_time": "2024-10-15T16:46:15.079350Z"
    }
   },
   "source": [
    "# split the train data\n",
    "rand_seed = np.random.randint(low=0, high=1000)\n",
    "X_test_20 = train_test_split(X_train, test_size=0.1, random_state=rand_seed)[1]\n",
    "Y_test_20 = train_test_split(y_train, test_size=0.1, random_state=rand_seed)[1]"
   ],
   "outputs": [],
   "execution_count": 21
  },
  {
   "cell_type": "code",
   "metadata": {
    "ExecuteTime": {
     "end_time": "2024-10-15T16:46:15.821184Z",
     "start_time": "2024-10-15T16:46:15.157112Z"
    }
   },
   "source": "nn.evaluate(flat_data(X_test_20).T, Y_test_20)",
   "outputs": [
    {
     "data": {
      "text/plain": [
       "(0.25661975374959756, 0.9228333333333333)"
      ]
     },
     "execution_count": 22,
     "metadata": {},
     "output_type": "execute_result"
    }
   ],
   "execution_count": 22
  },
  {
   "cell_type": "markdown",
   "metadata": {},
   "source": [
    "\\begin{align}\n",
    "\\frac{\\partial \\mathcal{L} }{ \\partial W^{[2]} } &= \n",
    "\\frac{1}{m}\\left(A^{[2]}-Y\\right)\\left(A^{[1]}\\right)^T,\\\\\n",
    "\\frac{\\partial \\mathcal{L} }{ \\partial b^{[2]} } &= \n",
    "\\frac{1}{m}\\left(A^{[2]}-Y\\right)\\mathbf{1},\\\\\n",
    "\\frac{\\partial \\mathcal{L} }{ \\partial W^{[1]}} &= \\frac{1}{m}\\left(\\left(W^{[2]}\\right)^T \\left(A^{[2]} - Y\\right)\\cdot \\left(A^{[1]}\\cdot\\left(1-A^{[1]}\\right)\\right)\\right)X^T,\\\\\n",
    "\\frac{\\partial \\mathcal{L} }{ \\partial b^{[1]}} &= \\frac{1}{m}\\left(\\left(W^{[2]}\\right)^T \\left(A^{[2]} - Y\\right)\\cdot \\left(A^{[1]}\\cdot\\left(1-A^{[1]}\\right)\\right)\\right)\\mathbf{1},\\\\\n",
    "\\tag{15}\n",
    "\\end{align}"
   ]
  },
  {
   "cell_type": "code",
   "metadata": {
    "ExecuteTime": {
     "end_time": "2024-10-15T16:46:15.952146Z",
     "start_time": "2024-10-15T16:46:15.895054Z"
    }
   },
   "source": [
    "# Sample\n",
    "model = tf.keras.models.Sequential(layers=[\n",
    "    tf.keras.layers.Flatten(input_shape=(28, 28,)),\n",
    "    tf.keras.layers.Dense(units=128, activation=tf.keras.activations.relu),\n",
    "    tf.keras.layers.Dense(units=64, activation=tf.keras.activations.relu),\n",
    "    # tf.keras.layers.Dropout(rate=0.2),\n",
    "    # tf.keras.layers.Dense(units=10, activation=tf.keras.activations.linear)\n",
    "    tf.keras.layers.Dense(units=10, activation=tf.keras.activations.softmax)\n",
    "])\n",
    "loss_fn = tf.keras.losses.SparseCategoricalCrossentropy(from_logits=False)\n",
    "# loss_fn = tf.keras.losses.SparseCategoricalCrossentropy(from_logits=False)\n",
    "# model.compile(optimizer=tf.keras.optimizers.SGD(learning_rate=1e-3), #tf.keras.optimizers.RMSprop(learning_rate=1e-3),\n",
    "#               loss=loss_fn,\n",
    "#               metrics=[\"accuracy\"])\n",
    "# model.compile(optimizer=tf.keras.optimizers.RMSprop(learning_rate=1e-3), #tf.keras.optimizers.RMSprop(learning_rate=1e-3),\n",
    "#               loss=loss_fn,\n",
    "#               metrics=[\"accuracy\"])\n",
    "model.compile(optimizer=tf.keras.optimizers.Adam(learning_rate=1e-3), #tf.keras.optimizers.RMSprop(learning_rate=1e-3),\n",
    "              loss=loss_fn,\n",
    "              metrics=[\"accuracy\"])"
   ],
   "outputs": [],
   "execution_count": 23
  },
  {
   "cell_type": "code",
   "metadata": {
    "ExecuteTime": {
     "end_time": "2024-10-15T16:46:17.302472Z",
     "start_time": "2024-10-15T16:46:15.961219Z"
    }
   },
   "source": [
    "#\n",
    "# model.fit(x=X_train_20, y=Y_train_20, epochs=50, batch_size=32, workers=8, use_multiprocessing=True)\n",
    "model.fit(x=X_train_20, y=Y_train_20, epochs=50, batch_size=X_train_20.shape[0], workers=8, use_multiprocessing=True)"
   ],
   "outputs": [
    {
     "name": "stdout",
     "output_type": "stream",
     "text": [
      "Epoch 1/50\n"
     ]
    },
    {
     "name": "stderr",
     "output_type": "stream",
     "text": [
      "2024-10-15 23:46:15.988569: W tensorflow/tsl/platform/profile_utils/cpu_utils.cc:128] Failed to get CPU frequency: 0 Hz\n"
     ]
    },
    {
     "name": "stdout",
     "output_type": "stream",
     "text": [
      "1/1 [==============================] - 0s 230ms/step - loss: 2.3868 - accuracy: 0.0887\n",
      "Epoch 2/50\n",
      "1/1 [==============================] - 0s 23ms/step - loss: 2.2458 - accuracy: 0.1262\n",
      "Epoch 3/50\n",
      "1/1 [==============================] - 0s 21ms/step - loss: 2.1356 - accuracy: 0.2546\n",
      "Epoch 4/50\n",
      "1/1 [==============================] - 0s 22ms/step - loss: 2.0373 - accuracy: 0.3998\n",
      "Epoch 5/50\n",
      "1/1 [==============================] - 0s 23ms/step - loss: 1.9414 - accuracy: 0.5003\n",
      "Epoch 6/50\n",
      "1/1 [==============================] - 0s 25ms/step - loss: 1.8443 - accuracy: 0.5665\n",
      "Epoch 7/50\n",
      "1/1 [==============================] - 0s 26ms/step - loss: 1.7462 - accuracy: 0.6086\n",
      "Epoch 8/50\n",
      "1/1 [==============================] - 0s 23ms/step - loss: 1.6484 - accuracy: 0.6374\n",
      "Epoch 9/50\n",
      "1/1 [==============================] - 0s 24ms/step - loss: 1.5516 - accuracy: 0.6544\n",
      "Epoch 10/50\n",
      "1/1 [==============================] - 0s 22ms/step - loss: 1.4560 - accuracy: 0.6761\n",
      "Epoch 11/50\n",
      "1/1 [==============================] - 0s 22ms/step - loss: 1.3617 - accuracy: 0.6977\n",
      "Epoch 12/50\n",
      "1/1 [==============================] - 0s 20ms/step - loss: 1.2696 - accuracy: 0.7171\n",
      "Epoch 13/50\n",
      "1/1 [==============================] - 0s 19ms/step - loss: 1.1813 - accuracy: 0.7373\n",
      "Epoch 14/50\n",
      "1/1 [==============================] - 0s 21ms/step - loss: 1.0979 - accuracy: 0.7555\n",
      "Epoch 15/50\n",
      "1/1 [==============================] - 0s 19ms/step - loss: 1.0202 - accuracy: 0.7719\n",
      "Epoch 16/50\n",
      "1/1 [==============================] - 0s 19ms/step - loss: 0.9484 - accuracy: 0.7862\n",
      "Epoch 17/50\n",
      "1/1 [==============================] - 0s 18ms/step - loss: 0.8827 - accuracy: 0.7983\n",
      "Epoch 18/50\n",
      "1/1 [==============================] - 0s 21ms/step - loss: 0.8229 - accuracy: 0.8081\n",
      "Epoch 19/50\n",
      "1/1 [==============================] - 0s 21ms/step - loss: 0.7690 - accuracy: 0.8185\n",
      "Epoch 20/50\n",
      "1/1 [==============================] - 0s 20ms/step - loss: 0.7210 - accuracy: 0.8258\n",
      "Epoch 21/50\n",
      "1/1 [==============================] - 0s 18ms/step - loss: 0.6780 - accuracy: 0.8316\n",
      "Epoch 22/50\n",
      "1/1 [==============================] - 0s 49ms/step - loss: 0.6392 - accuracy: 0.8378\n",
      "Epoch 23/50\n",
      "1/1 [==============================] - 0s 26ms/step - loss: 0.6040 - accuracy: 0.8434\n",
      "Epoch 24/50\n",
      "1/1 [==============================] - 0s 18ms/step - loss: 0.5725 - accuracy: 0.8483\n",
      "Epoch 25/50\n",
      "1/1 [==============================] - 0s 19ms/step - loss: 0.5445 - accuracy: 0.8524\n",
      "Epoch 26/50\n",
      "1/1 [==============================] - 0s 20ms/step - loss: 0.5196 - accuracy: 0.8568\n",
      "Epoch 27/50\n",
      "1/1 [==============================] - 0s 20ms/step - loss: 0.4976 - accuracy: 0.8618\n",
      "Epoch 28/50\n",
      "1/1 [==============================] - 0s 21ms/step - loss: 0.4778 - accuracy: 0.8673\n",
      "Epoch 29/50\n",
      "1/1 [==============================] - 0s 19ms/step - loss: 0.4600 - accuracy: 0.8717\n",
      "Epoch 30/50\n",
      "1/1 [==============================] - 0s 20ms/step - loss: 0.4437 - accuracy: 0.8752\n",
      "Epoch 31/50\n",
      "1/1 [==============================] - 0s 20ms/step - loss: 0.4289 - accuracy: 0.8800\n",
      "Epoch 32/50\n",
      "1/1 [==============================] - 0s 19ms/step - loss: 0.4154 - accuracy: 0.8847\n",
      "Epoch 33/50\n",
      "1/1 [==============================] - 0s 18ms/step - loss: 0.4030 - accuracy: 0.8873\n",
      "Epoch 34/50\n",
      "1/1 [==============================] - 0s 18ms/step - loss: 0.3914 - accuracy: 0.8901\n",
      "Epoch 35/50\n",
      "1/1 [==============================] - 0s 18ms/step - loss: 0.3808 - accuracy: 0.8939\n",
      "Epoch 36/50\n",
      "1/1 [==============================] - 0s 19ms/step - loss: 0.3710 - accuracy: 0.8972\n",
      "Epoch 37/50\n",
      "1/1 [==============================] - 0s 19ms/step - loss: 0.3618 - accuracy: 0.9002\n",
      "Epoch 38/50\n",
      "1/1 [==============================] - 0s 18ms/step - loss: 0.3533 - accuracy: 0.9029\n",
      "Epoch 39/50\n",
      "1/1 [==============================] - 0s 20ms/step - loss: 0.3453 - accuracy: 0.9050\n",
      "Epoch 40/50\n",
      "1/1 [==============================] - 0s 19ms/step - loss: 0.3378 - accuracy: 0.9069\n",
      "Epoch 41/50\n",
      "1/1 [==============================] - 0s 17ms/step - loss: 0.3307 - accuracy: 0.9088\n",
      "Epoch 42/50\n",
      "1/1 [==============================] - 0s 19ms/step - loss: 0.3241 - accuracy: 0.9101\n",
      "Epoch 43/50\n",
      "1/1 [==============================] - 0s 20ms/step - loss: 0.3179 - accuracy: 0.9120\n",
      "Epoch 44/50\n",
      "1/1 [==============================] - 0s 17ms/step - loss: 0.3120 - accuracy: 0.9135\n",
      "Epoch 45/50\n",
      "1/1 [==============================] - 0s 17ms/step - loss: 0.3064 - accuracy: 0.9143\n",
      "Epoch 46/50\n",
      "1/1 [==============================] - 0s 18ms/step - loss: 0.3012 - accuracy: 0.9161\n",
      "Epoch 47/50\n",
      "1/1 [==============================] - 0s 18ms/step - loss: 0.2961 - accuracy: 0.9185\n",
      "Epoch 48/50\n",
      "1/1 [==============================] - 0s 18ms/step - loss: 0.2913 - accuracy: 0.9195\n",
      "Epoch 49/50\n",
      "1/1 [==============================] - 0s 18ms/step - loss: 0.2867 - accuracy: 0.9212\n",
      "Epoch 50/50\n",
      "1/1 [==============================] - 0s 19ms/step - loss: 0.2824 - accuracy: 0.9218\n"
     ]
    },
    {
     "data": {
      "text/plain": [
       "<keras.callbacks.History at 0x176c01210>"
      ]
     },
     "execution_count": 24,
     "metadata": {},
     "output_type": "execute_result"
    }
   ],
   "execution_count": 24
  },
  {
   "cell_type": "code",
   "metadata": {
    "ExecuteTime": {
     "end_time": "2024-10-15T16:46:17.455656Z",
     "start_time": "2024-10-15T16:46:17.311674Z"
    }
   },
   "source": [
    "rs3 = model.evaluate(X_test_20, Y_test_20, verbose=0)\n",
    "rs3  # [lost, accuracy]"
   ],
   "outputs": [
    {
     "data": {
      "text/plain": [
       "[0.30647942423820496, 0.9079999923706055]"
      ]
     },
     "execution_count": 25,
     "metadata": {},
     "output_type": "execute_result"
    }
   ],
   "execution_count": 25
  },
  {
   "cell_type": "markdown",
   "metadata": {},
   "source": []
  },
  {
   "cell_type": "code",
   "metadata": {
    "ExecuteTime": {
     "end_time": "2024-10-15T16:46:17.510726Z",
     "start_time": "2024-10-15T16:46:17.464396Z"
    }
   },
   "source": [
    "def show_image(img_data: np.ndarray) -> tuple:\n",
    "    fig, axes = plt.subplots(figsize=(1.60, 1.20))\n",
    "    axes.imshow(X=img_data, cmap=\"gray\")\n",
    "    return fig, axes\n",
    "\n",
    "# print(y_test[5854])\n",
    "# show_image(X_test[4823])\n",
    "fig, axes = show_image(X_test[5854])\n",
    "plt.show()"
   ],
   "outputs": [
    {
     "data": {
      "text/plain": [
       "<Figure size 160x120 with 1 Axes>"
      ],
      "image/png": "[encoded data removed]"
     },
     "metadata": {},
     "output_type": "display_data"
    }
   ],
   "execution_count": 26
  },
  {
   "metadata": {
    "ExecuteTime": {
     "end_time": "2024-10-15T16:46:17.525646Z",
     "start_time": "2024-10-15T16:46:17.520386Z"
    }
   },
   "cell_type": "code",
   "source": [
    "test_sample = flat_data(X_test[1200:1201]).T\n",
    "# print(X_test[1200:1201].reshape((-1, X_test[1200:1201].shape[1] * X_test[1200:1201].shape[2])))\n",
    "# print(test_sample.T)\n",
    "nnpredict = nn.predict(test_sample)\n",
    "nnpred = np.argmax(nnpredict, axis=0)\n",
    "print(nnpred)\n",
    "\n",
    "test_sample = flat_data(X_test[1203:1204]).T\n",
    "# print(test_sample.T)\n",
    "nnpredict = nn.predict(test_sample)\n",
    "nnpred = np.argmax(nnpredict, axis=0, keepdims=False)\n",
    "print(nnpred)\n",
    "# print(f\"{nn.predict(flat_data(X_test[1000:1001]).T).T} \\n {nn.predict(flat_data(X_test[1000:1001]).T).T}\")\n",
    "\n",
    "# nn.evaluate(flat_data(X_test_20).T, Y_test_20)\n",
    "# print(f\"{nn.predict(flat_data(X_test[1000:1001]).T).T} \\n {nn.predict(flat_data(X_test[1000:1001]).T).T}\")\n",
    "\n",
    "# nn.evaluate(flat_data(X_test_20).T, Y_test_20)"
   ],
   "outputs": [
    {
     "name": "stdout",
     "output_type": "stream",
     "text": [
      "[3]\n",
      "[0]\n"
     ]
    }
   ],
   "execution_count": 27
  },
  {
   "metadata": {
    "ExecuteTime": {
     "end_time": "2024-10-15T16:46:17.607416Z",
     "start_time": "2024-10-15T16:46:17.547435Z"
    }
   },
   "cell_type": "code",
   "source": [
    "tfpredict = model.predict(X_test[1200:1201], verbose=0)\n",
    "tfpred = np.argmax(tfpredict, axis=1, keepdims=False)\n",
    "print(tfpred)\n",
    "\n",
    "tfpredict = model.predict(X_test[1203:1204], verbose=0)\n",
    "tfpred = np.argmax(tfpredict, axis=1, keepdims=False)\n",
    "print(tfpred)"
   ],
   "outputs": [
    {
     "name": "stdout",
     "output_type": "stream",
     "text": [
      "[3]\n",
      "[0]\n"
     ]
    }
   ],
   "execution_count": 28
  },
  {
   "cell_type": "markdown",
   "metadata": {},
   "source": []
  },
  {
   "metadata": {
    "ExecuteTime": {
     "end_time": "2024-10-15T16:47:07.863293Z",
     "start_time": "2024-10-15T16:47:07.842964Z"
    }
   },
   "cell_type": "code",
   "source": [
    "# np.array([y_test[1201]])\n",
    "nn.evaluate(flat_data(X_test[1201:1301]).T, np.array(y_test[1201:1301]))"
   ],
   "outputs": [
    {
     "data": {
      "text/plain": [
       "(0.5420430845133548, 0.82)"
      ]
     },
     "execution_count": 32,
     "metadata": {},
     "output_type": "execute_result"
    }
   ],
   "execution_count": 32
  },
  {
   "metadata": {
    "ExecuteTime": {
     "end_time": "2024-10-15T16:47:09.392203Z",
     "start_time": "2024-10-15T16:47:09.353563Z"
    }
   },
   "cell_type": "code",
   "source": "model.evaluate(X_test[1201:1301], y_test[1201:1301], verbose=0)",
   "outputs": [
    {
     "data": {
      "text/plain": [
       "[0.6572191119194031, 0.7799999713897705]"
      ]
     },
     "execution_count": 33,
     "metadata": {},
     "output_type": "execute_result"
    }
   ],
   "execution_count": 33
  },
  {
   "cell_type": "markdown",
   "metadata": {},
   "source": "### 5.2. Linear and Activation Function:"
  },
  {
   "cell_type": "markdown",
   "metadata": {},
   "source": [
    "### 5.3. Loss/Cost Function"
   ]
  },
  {
   "cell_type": "markdown",
   "metadata": {},
   "source": [
    "### 5.4. Optimizer"
   ]
  },
  {
   "cell_type": "code",
   "metadata": {
    "ExecuteTime": {
     "end_time": "2024-10-15T16:46:17.687086Z",
     "start_time": "2024-10-15T16:46:17.684759Z"
    }
   },
   "source": [
    "import tensorflow as tf\n",
    "print(\"Num GPUs Available: \", len(tf.config.list_physical_devices('GPU')))\n",
    "\n",
    "# resolver = tf.distribute.cluster_resolver.TPUClusterResolver(tpu='')\n",
    "# tf.config.experimental_connect_to_cluster(resolver)\n",
    "# # This is the TPU initialization code that has to be at the beginning.\n",
    "# tf.tpu.experimental.initialize_tpu_system(resolver)\n",
    "# print(\"All devices: \", tf.config.list_logical_devices('TPU'))"
   ],
   "outputs": [
    {
     "name": "stdout",
     "output_type": "stream",
     "text": [
      "Num GPUs Available:  0\n"
     ]
    }
   ],
   "execution_count": 31
  }
 ],
 "metadata": {
  "kernelspec": {
   "display_name": "learn-python",
   "language": "python",
   "name": "python3"
  },
  "language_info": {
   "codemirror_mode": {
    "name": "ipython",
    "version": 3
   },
   "file_extension": ".py",
   "mimetype": "text/x-python",
   "name": "python",
   "nbconvert_exporter": "python",
   "pygments_lexer": "ipython3",
   "version": "3.10.13"
  },
  "orig_nbformat": 4
 },
 "nbformat": 4,
 "nbformat_minor": 2
}
