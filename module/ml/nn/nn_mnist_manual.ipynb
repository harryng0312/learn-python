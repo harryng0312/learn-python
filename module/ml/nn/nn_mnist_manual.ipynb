{
 "cells": [
  {
   "cell_type": "code",
   "metadata": {
    "ExecuteTime": {
     "end_time": "2024-09-28T03:51:22.258733Z",
     "start_time": "2024-09-28T03:51:22.254480Z"
    }
   },
   "source": [
    "import matplotlib\n",
    "import numpy as np\n",
    "import matplotlib.pyplot as plt\n",
    "import matplotlib.lines as mlines\n",
    "import matplotlib.animation as animation\n",
    "import time\n",
    "import struct\n",
    "import tensorflow as tf\n",
    "import random as rd\n",
    "\n",
    "from math import *\n",
    "from array import array\n",
    "\n",
    "from anyio.abc import value\n",
    "from keras.src.ops import shape\n",
    "# import keras._tf_keras.keras as keras \n",
    "# from keras._tf_keras.keras\n",
    "from sklearn.metrics import accuracy_score, f1_score\n",
    "from sklearn.model_selection import train_test_split\n",
    "from sklearn.preprocessing import MinMaxScaler, StandardScaler\n",
    "from sklearn.linear_model import LogisticRegression\n",
    "\n",
    "# my project\n",
    "from module.conf import PROJECT_DIR\n",
    "\n",
    "# matplotlib.use(\"QTAgg\")\n",
    "%matplotlib inline"
   ],
   "outputs": [],
   "execution_count": 25
  },
  {
   "cell_type": "markdown",
   "metadata": {},
   "source": [
    "Load data:\n",
    "- Train data: 60k 28x28 images\n",
    "- Test data: "
   ]
  },
  {
   "cell_type": "code",
   "metadata": {
    "ExecuteTime": {
     "end_time": "2024-09-28T03:51:22.394672Z",
     "start_time": "2024-09-28T03:51:22.280055Z"
    }
   },
   "source": [
    "mnist_path = \"/data/sample/mnist\"\n",
    "training_images_filepath = \"\".join([PROJECT_DIR, mnist_path, \"/train-images.idx3-ubyte\"])\n",
    "training_labels_filepath = \"\".join([PROJECT_DIR, mnist_path, \"/train-labels.idx1-ubyte\"])\n",
    "test_images_filepath = \"\".join([PROJECT_DIR, mnist_path, \"/t10k-images.idx3-ubyte\"])\n",
    "test_labels_filepath = \"\".join([PROJECT_DIR, mnist_path, \"/t10k-labels.idx1-ubyte\"])\n",
    "\n",
    "def read_images_labels(images_filepath, labels_filepath) -> tuple:\n",
    "    labels = []\n",
    "    with open(labels_filepath, 'rb') as file:\n",
    "        magic, size = struct.unpack(\">II\", file.read(8))\n",
    "        if magic != 2049:\n",
    "            raise ValueError('Magic number mismatch, expected 2049, got {}'.format(magic))\n",
    "        # labels = array(\"B\", file.read())\n",
    "        labels = array(\"B\", file.read())\n",
    "\n",
    "    with open(images_filepath, 'rb') as file:\n",
    "        magic, size, rows, cols = struct.unpack(\">IIII\", file.read(16))\n",
    "        if magic != 2051:\n",
    "            raise ValueError('Magic number mismatch, expected 2051, got {}'.format(magic))\n",
    "        image_data = array(\"B\", file.read())       \n",
    "     \n",
    "    images = []\n",
    "    # for i in range(size):\n",
    "    #     images.append([0] * rows * cols)\n",
    "    for i in range(size):\n",
    "        img = np.array(image_data[i * rows * cols:(i + 1) * rows * cols])\n",
    "        img = img.reshape(28, 28)\n",
    "        # images[i][:] = img\n",
    "        images.append(img)\n",
    "    \n",
    "    return images, labels\n",
    "\n",
    "def load_data() -> tuple:\n",
    "    x_train, y_train = read_images_labels(training_images_filepath, training_labels_filepath)\n",
    "    x_test, y_test = read_images_labels(test_images_filepath, test_labels_filepath)\n",
    "    return (x_train, y_train),(x_test, y_test)\n",
    "\n",
    "(X_train, y_train), (X_test, y_test) = load_data()"
   ],
   "outputs": [],
   "execution_count": 26
  },
  {
   "cell_type": "code",
   "metadata": {
    "ExecuteTime": {
     "end_time": "2024-09-28T03:51:22.412387Z",
     "start_time": "2024-09-28T03:51:22.410109Z"
    }
   },
   "source": [
    "# print(f\"{type(X_train[0])}\")\n",
    "# mnist = tf.keras.datasets.mnist\n",
    "\n",
    "# (x_train, y_train), (x_test, y_test) = mnist.load_data()\n"
   ],
   "outputs": [],
   "execution_count": 27
  },
  {
   "cell_type": "code",
   "metadata": {
    "ExecuteTime": {
     "end_time": "2024-09-28T03:51:22.531464Z",
     "start_time": "2024-09-28T03:51:22.434483Z"
    }
   },
   "source": [
    "X_train = np.asarray(X_train)/255\n",
    "y_train = np.asarray(y_train)\n",
    "X_test  = np.asarray(X_test)/255\n",
    "y_test  = np.asarray(y_test)"
   ],
   "outputs": [],
   "execution_count": 28
  },
  {
   "cell_type": "markdown",
   "metadata": {},
   "source": [
    "## 1. Activation functions:"
   ]
  },
  {
   "cell_type": "markdown",
   "metadata": {},
   "source": [
    "### 1.1. Linear:\n",
    "$ \\begin{align}\n",
    "f(\\mathbf z) &= \\mathbf z \\\\\n",
    "\\rightarrow \\frac{\\partial f(\\mathbf z)}{\\partial \\mathbf z} &=\\mathbf 1 \\\\ \n",
    "\\end{align} $"
   ]
  },
  {
   "cell_type": "code",
   "metadata": {
    "ExecuteTime": {
     "end_time": "2024-09-28T03:51:22.543960Z",
     "start_time": "2024-09-28T03:51:22.541313Z"
    }
   },
   "source": [
    "def linear(z): return z\n",
    "def grad_linear(z): return 1"
   ],
   "outputs": [],
   "execution_count": 29
  },
  {
   "cell_type": "markdown",
   "metadata": {},
   "source": [
    "### 1.2. ReLU:\n",
    "$\\begin{align}\n",
    "ReLU(\\mathbf z) &= \\max(\\mathbf z, \\mathbf 0) \\\\\n",
    "\\rightarrow \\frac{\\partial ReLU(\\mathbf z)}{\\partial \\mathbf z} &= \\begin{cases}\n",
    "z_i = 1 \\text{ if } z_i > 0 \\\\\n",
    "z_i = 0 \\text{ if } z_i \\leqslant 0 \\\\\n",
    "\\end{cases} \\\\\n",
    "\\end{align}$"
   ]
  },
  {
   "cell_type": "code",
   "metadata": {
    "ExecuteTime": {
     "end_time": "2024-09-28T03:51:22.560567Z",
     "start_time": "2024-09-28T03:51:22.556872Z"
    }
   },
   "source": [
    "def relu(z): return np.maximum(0, z)\n",
    "def grad_relu(z): return np.array([1 if z_i > 0 else 0 for z_i in z])"
   ],
   "outputs": [],
   "execution_count": 30
  },
  {
   "cell_type": "code",
   "metadata": {
    "ExecuteTime": {
     "end_time": "2024-09-28T03:51:22.577144Z",
     "start_time": "2024-09-28T03:51:22.574817Z"
    }
   },
   "source": [
    "z = np.array([1,-6, 3, 4, 0])\n",
    "relu_z = relu(z)\n",
    "relu_z\n",
    "grad_relu_z = grad_relu(relu_z)\n",
    "grad_relu_z"
   ],
   "outputs": [
    {
     "data": {
      "text/plain": [
       "array([1, 0, 1, 1, 0])"
      ]
     },
     "execution_count": 31,
     "metadata": {},
     "output_type": "execute_result"
    }
   ],
   "execution_count": 31
  },
  {
   "cell_type": "markdown",
   "metadata": {},
   "source": [
    "### 1.2. Sigmoid:\n",
    "$\\begin{align}\n",
    "\\sigma(\\mathbf z) &= \\frac{1}{1 + e^{-z}} \\\\\n",
    "\\rightarrow \\frac{\\partial\\sigma(\\mathbf z)}{\\partial \\mathbf z} &= \\sigma(\\mathbf z)\\cdot\\left(1 - \\sigma(\\mathbf z)\\right) \\\\ \n",
    "\\end{align} $"
   ]
  },
  {
   "cell_type": "code",
   "metadata": {
    "ExecuteTime": {
     "end_time": "2024-09-28T03:51:22.611691Z",
     "start_time": "2024-09-28T03:51:22.609713Z"
    }
   },
   "source": [
    "def sigmoid(z): return 1/(1 + np.exp(-z))\n",
    "def grad_sigmoid(z): return sigmoid(z) * (1 - sigmoid(z))    "
   ],
   "outputs": [],
   "execution_count": 32
  },
  {
   "cell_type": "code",
   "metadata": {
    "ExecuteTime": {
     "end_time": "2024-09-28T03:51:22.635698Z",
     "start_time": "2024-09-28T03:51:22.630350Z"
    }
   },
   "source": [
    "z = np.array([1,-6, 3, 4, 0])\n",
    "sigmoid(z)\n",
    "grad_sigmoid(z)"
   ],
   "outputs": [
    {
     "data": {
      "text/plain": [
       "array([0.19661193, 0.00246651, 0.04517666, 0.01766271, 0.25      ])"
      ]
     },
     "execution_count": 33,
     "metadata": {},
     "output_type": "execute_result"
    }
   ],
   "execution_count": 33
  },
  {
   "metadata": {},
   "cell_type": "markdown",
   "source": [
    "### 1.3. Softmax:\n",
    "$\\begin{align}\n",
    "\\sigma(\\mathbf z) &= \\frac{e^{\\mathbf z}}{\\sum_{i=1}^{C}e^{z_i}} \\\\\n",
    "\\rightarrow \\frac{\\partial \\sigma(\\mathbf z)}{\\partial \\mathbf z} &= \\sigma(z_i) \\cdot (\\delta_{ij} - \\sigma(z_j)) \n",
    "\\rightarrow \\delta_{ij} = \\begin{cases} \n",
    "1 \\text{ if } i = j \\\\\n",
    "0 \\text{ if } i \\neq j  \n",
    "\\end{cases} \\\\\n",
    "&= diag(\\mathbf z) - \\mathbf z * \\mathbf z^T \\\\\n",
    "C &\\text{ is number of class} \\\\\n",
    "diag &\\text{ is diagonal matrix }\n",
    "\\end{align}$"
   ]
  },
  {
   "cell_type": "code",
   "metadata": {
    "ExecuteTime": {
     "end_time": "2024-09-28T03:51:22.667893Z",
     "start_time": "2024-09-28T03:51:22.663986Z"
    }
   },
   "source": [
    "# def softmax(z): return np.exp(z)/np.sum(np.exp(z))\n",
    "# def grad_softmax(z): return np.diag(z) - np.outer(z,z)\n",
    "def softmax(Z):\n",
    "    Z_max = np.max(Z, axis=Z.ndim-1, keepdims=True)\n",
    "    Z_exp = np.exp(Z - Z_max)\n",
    "    Z_sum = np.sum(Z_exp, axis=Z.ndim-1, keepdims=True)\n",
    "    return Z_exp / Z_sum\n",
    "\n",
    "def grad_softmax(Z):\n",
    "    S = softmax(Z)  # Tính softmax cho Z\n",
    "    batch_size, num_classes = S.shape\n",
    "    # Init Jacobian matrix: gradient foreach row\n",
    "    dSoftmax = np.zeros((batch_size, num_classes, num_classes))\n",
    "    for i in range(batch_size):\n",
    "        # S_i is softmax for i-row\n",
    "        s_i = S[i].reshape(-1, 1)  # Transpose to Column vector\n",
    "        # Jacobian matrix for i-row\n",
    "        # dSoftmax[i] = np.diagflat(s_i) - np.dot(s_i, s_i.T)\n",
    "        dSoftmax[i] = np.diagflat(s_i) - s_i @ s_i.T\n",
    "    # dSoftmax in hidden layer - transpose of Jacobian matrix    \n",
    "    return dSoftmax.transpose()"
   ],
   "outputs": [],
   "execution_count": 34
  },
  {
   "cell_type": "code",
   "metadata": {
    "ExecuteTime": {
     "end_time": "2024-09-28T03:51:22.682762Z",
     "start_time": "2024-09-28T03:51:22.679767Z"
    }
   },
   "source": [
    "z = np.array([[1,-6, 3, 4, 0],\n",
    "              [1,-6, 3, 4, 0]])\n",
    "softmax(z)\n",
    "grad_softmax(z)"
   ],
   "outputs": [
    {
     "data": {
      "text/plain": [
       "array([[[ 3.34679867e-02,  3.34679867e-02],\n",
       "        [-1.09608994e-06, -1.09608994e-06],\n",
       "        [-8.88170879e-03, -8.88170879e-03],\n",
       "        [-2.41429876e-02, -2.41429876e-02],\n",
       "        [-4.42194243e-04, -4.42194243e-04]],\n",
       "\n",
       "       [[-1.09608994e-06, -1.09608994e-06],\n",
       "        [ 3.16139440e-05,  3.16139440e-05],\n",
       "        [-8.09907007e-06, -8.09907007e-06],\n",
       "        [-2.20155550e-05, -2.20155550e-05],\n",
       "        [-4.03228955e-07, -4.03228955e-07]],\n",
       "\n",
       "       [[-8.88170879e-03, -8.88170879e-03],\n",
       "        [-8.09907007e-06, -8.09907007e-06],\n",
       "        [ 1.90551096e-01,  1.90551096e-01],\n",
       "        [-1.78393890e-01, -1.78393890e-01],\n",
       "        [-3.26739807e-03, -3.26739807e-03]],\n",
       "\n",
       "       [[-2.41429876e-02, -2.41429876e-02],\n",
       "        [-2.20155550e-05, -2.20155550e-05],\n",
       "        [-1.78393890e-01, -1.78393890e-01],\n",
       "        [ 2.11440602e-01,  2.11440602e-01],\n",
       "        [-8.88170879e-03, -8.88170879e-03]],\n",
       "\n",
       "       [[-4.42194243e-04, -4.42194243e-04],\n",
       "        [-4.03228955e-07, -4.03228955e-07],\n",
       "        [-3.26739807e-03, -3.26739807e-03],\n",
       "        [-8.88170879e-03, -8.88170879e-03],\n",
       "        [ 1.25917043e-02,  1.25917043e-02]]])"
      ]
     },
     "execution_count": 35,
     "metadata": {},
     "output_type": "execute_result"
    }
   ],
   "execution_count": 35
  },
  {
   "cell_type": "markdown",
   "metadata": {},
   "source": [
    "## 2. Loss function:"
   ]
  },
  {
   "cell_type": "markdown",
   "metadata": {},
   "source": [
    "### 2.1. Cross Entropy:\n",
    "$\\begin{align}\n",
    "CrossEntropy = - \\log(\\hat{y}_{true})\\\\\n",
    "\\end{align}$"
   ]
  },
  {
   "cell_type": "markdown",
   "metadata": {},
   "source": [
    "### 2.2. Categorical Crossentropy:\n",
    "$\\begin{align}\n",
    "Y &\\text{ is label in one-hot matrix } N \\times C  \\\\\n",
    "\\hat{Y} &\\text{ is predicted matrix } N \\times C \\\\\n",
    "C &\\text{ is number of classes}\\\\\n",
    "L &= -\\sum_{i=1}^{C} Y_i \\log(\\hat{Y}_{i}) \\\\\n",
    "\\hat{Y}_{i,j} &= \\frac{exp(Z_{i,j})}{\\sum_{k=1}^{C} exp(Z_{i,k})} \\\\\n",
    "\\rightarrow \\mathcal L &= -\\frac{1}{N} \\sum_{i=1}^{N}\\sum_{j=1}^{C} Y_{i,j} \\log(\\hat{Y}_{i,j}) \\\\\n",
    "&= -\\frac{1}{N} \\sum_{i=1}^{N} \\log(\\hat{Y}_{i,true}) \\\\\n",
    "\\hat{Y}_{i,true} &\\text{ is predicted result corresponding to one-hot is 1}\n",
    "\\end{align}$\n",
    "\n",
    "Gradient:\n",
    "$\\begin{align}\n",
    "\\frac{\\partial L}{\\partial Z} &= \\hat{Y}_{i,j} - Y_{i,j} \\\\\n",
    "\\end{align}$"
   ]
  },
  {
   "cell_type": "markdown",
   "metadata": {},
   "source": [
    "### 2.3. Sparse Categorical Crossentropy:\n",
    "$ \\begin{align}\n",
    "\\hat{Y} &= A_n = softmax(Z) \\\\\n",
    "Z &\\text{ is } n \\times C \\text{ matrix. n is number of samples, C is number of classes} \\\\\n",
    "CrossEntropy_i &= -\\log(\\hat{y}_{i, y_{sparse}}) \\\\\n",
    "CrossEntropy &\\text{ is a vector size n} \\\\\n",
    "\\rightarrow \\frac{\\partial L}{\\partial Z_{i,j}} &= \\hat{Y}_{i,j} - \\delta(j, y_{sparse,i}) \n",
    "\\rightarrow \\delta(j, y_{sparse,i}) = \\begin{cases}\n",
    "1 \\text{ if } j = y_{sparse,i} \\\\\n",
    "0 \\text{ if } j \\neq y_{sparse,i}\\\\\n",
    "\\end{cases} \\\\\n",
    "\\rightarrow \\frac{\\partial L}{\\partial Z_n} &= \\hat{Y} - Y = \\hat{Y} - SparseLabels \\\\\n",
    "SparseLabels &\\text{ can be considered as one-hot matrix}\n",
    "\\end{align} $"
   ]
  },
  {
   "cell_type": "code",
   "metadata": {
    "ExecuteTime": {
     "end_time": "2024-09-28T03:51:22.708628Z",
     "start_time": "2024-09-28T03:51:22.704548Z"
    }
   },
   "source": [
    "# should apply the Vectorization\n",
    "def delta_kronecker_matrix(y_train, mY_pred):\n",
    "    \"\"\"\n",
    "    Transform to one-hot encoding\n",
    "    y_train: a vector size n\n",
    "    mY_pred: a matrix (C, n)\n",
    "    \"\"\"\n",
    "    mY_train = np.zeros(shape=mY_pred.shape)\n",
    "    for i in range(len(y_train)): mY_train[i][y_train[i]] = 1\n",
    "    return mY_train\n",
    "\n",
    "def sparse_categorical_crossentropy_Z(y_train, mY_pred):\n",
    "    y_pred = np.array([mY_pred[i][y_train[i]] for i in range(len(y_train))])\n",
    "    return -np.sum(np.log(y_pred))\n",
    "\n",
    "def grad_sparse_categorical_crossentropy_Z(y_train, mY_pred):\n",
    "    return mY_pred - delta_kronecker_matrix(y_train=y_train, mY_pred=mY_pred)\n",
    "\n",
    "def sparse_categorical_crossentropy(y_true, y_pred):\n",
    "    # Loss func\n",
    "    loss = -np.log(y_pred[range(len(y_pred)), y_true])\n",
    "    return loss\n",
    "\n",
    "def grad_sparse_categorical_crossentropy(y_true, y_pred):\n",
    "    # Grad\n",
    "    grad = np.zeros_like(y_pred)\n",
    "    grad[range(len(y_pred)), y_true] = -1 / y_pred[range(len(y_pred)), y_true]  # Grad for true-class\n",
    "    return grad"
   ],
   "outputs": [],
   "execution_count": 36
  },
  {
   "metadata": {
    "ExecuteTime": {
     "end_time": "2024-09-28T03:51:22.745703Z",
     "start_time": "2024-09-28T03:51:22.742593Z"
    }
   },
   "cell_type": "code",
   "source": [
    "# test detal_kronecker_matrix\n",
    "y_train_validate = np.array([0, 2, 2, 1, 0])\n",
    "mY_pred = np.array([[0.2, 0.1 , 0.3],\n",
    "                    [0.3, 0.2, 0.7],\n",
    "                    [0.3, 0.2, 0.7],\n",
    "                    [0.3, 0.2, 0.2],\n",
    "                    [0.3, 0.2, 0.4]])\n",
    "delta = delta_kronecker_matrix(y_train_validate, mY_pred)\n",
    "delta"
   ],
   "outputs": [
    {
     "data": {
      "text/plain": [
       "array([[1., 0., 0.],\n",
       "       [0., 0., 1.],\n",
       "       [0., 0., 1.],\n",
       "       [0., 1., 0.],\n",
       "       [1., 0., 0.]])"
      ]
     },
     "execution_count": 37,
     "metadata": {},
     "output_type": "execute_result"
    }
   ],
   "execution_count": 37
  },
  {
   "metadata": {
    "ExecuteTime": {
     "end_time": "2024-09-28T03:51:22.791350Z",
     "start_time": "2024-09-28T03:51:22.778415Z"
    }
   },
   "cell_type": "code",
   "source": [
    "cross_entropy = sparse_categorical_crossentropy(y_train_validate, mY_pred)\n",
    "print(\"%.15f\" % cross_entropy)"
   ],
   "outputs": [
    {
     "ename": "TypeError",
     "evalue": "only length-1 arrays can be converted to Python scalars",
     "output_type": "error",
     "traceback": [
      "\u001B[0;31m---------------------------------------------------------------------------\u001B[0m",
      "\u001B[0;31mTypeError\u001B[0m                                 Traceback (most recent call last)",
      "Cell \u001B[0;32mIn[38], line 2\u001B[0m\n\u001B[1;32m      1\u001B[0m cross_entropy \u001B[38;5;241m=\u001B[39m sparse_categorical_crossentropy(y_train_validate, mY_pred)\n\u001B[0;32m----> 2\u001B[0m \u001B[38;5;28mprint\u001B[39m(\u001B[38;5;124;43m\"\u001B[39;49m\u001B[38;5;132;43;01m%.15f\u001B[39;49;00m\u001B[38;5;124;43m\"\u001B[39;49m\u001B[43m \u001B[49m\u001B[38;5;241;43m%\u001B[39;49m\u001B[43m \u001B[49m\u001B[43mcross_entropy\u001B[49m)\n",
      "\u001B[0;31mTypeError\u001B[0m: only length-1 arrays can be converted to Python scalars"
     ]
    }
   ],
   "execution_count": 38
  },
  {
   "cell_type": "code",
   "metadata": {
    "ExecuteTime": {
     "end_time": "2024-09-28T03:51:22.850236Z",
     "start_time": "2024-09-26T15:01:03.970829Z"
    }
   },
   "source": [
    "import numpy as np\n",
    "from scipy.sparse import csr_matrix\n",
    "# ex\n",
    "# [[0, 0, 0, 0],\n",
    "#  [5, 8, 0, 0],\n",
    "#  [0, 0, 3, 0],\n",
    "#  [0, 6, 0, 0]]\n",
    "#\n",
    "\n",
    "data = np.array([5, 8, 3, 6, 7])        # values\n",
    "indices = np.array([0, 1, 2, 1, 0])     # col index for each value\n",
    "indptr = np.array([0, 2, 3, 4, 5])      # start - end in data values\n",
    "csr_m = csr_matrix((data, indices, indptr), shape=(4, 4))\n",
    "csr_m.toarray()\n"
   ],
   "outputs": [
    {
     "data": {
      "text/plain": [
       "array([[5, 8, 0, 0],\n",
       "       [0, 0, 3, 0],\n",
       "       [0, 6, 0, 0],\n",
       "       [7, 0, 0, 0]])"
      ]
     },
     "execution_count": 16,
     "metadata": {},
     "output_type": "execute_result"
    }
   ],
   "execution_count": 16
  },
  {
   "metadata": {},
   "cell_type": "markdown",
   "source": "## 3. Optimizers: "
  },
  {
   "metadata": {},
   "cell_type": "markdown",
   "source": [
    "### 3.1. SGD\n",
    "$\\begin{align}\n",
    "\\theta &= \\theta - \\eta \\cdot \\nabla_{\\theta} L(\\theta, x_i, y_i) \\\\\n",
    "\\theta &\\text{ is weight}\\\\\n",
    "\\eta &\\text{ is learning rate}\\\\\n",
    "\\nabla_{\\theta} L(\\theta, x_i, y_i) &\\text{ is gradient respect to }\\theta \\text{ of }(x_i, y_i) \\\\\n",
    "\\end{align}$"
   ]
  },
  {
   "metadata": {},
   "cell_type": "markdown",
   "source": [
    "### 3.2. RMSProps:\n",
    "$\\begin{align}\n",
    "v_{t-1} &= \\beta v_{t-1} + (1 + \\beta)g_t^2 \\\\\n",
    "\\\\\n",
    "\\theta_t &= \\theta_{t-1} - \\frac{\\eta}{\\sqrt{v_t} + \\epsilon} g_t \\\\\n",
    "\\eta &\\text{ is learning rate} \\\\\n",
    "v_t &\\text{ is velocity at } t \\text{ time} \\\\\n",
    "g_t &\\text{ is gradient at } t \\text{ time} \\\\\n",
    "\\epsilon &\\text{ is very small number - avoid device by 0} \\\\\n",
    "\\theta &\\text{ is weight matrix or bias vector} \\\\\n",
    "\\end{align}$"
   ]
  },
  {
   "metadata": {
    "ExecuteTime": {
     "end_time": "2024-09-28T03:51:22.850481Z",
     "start_time": "2024-09-28T02:35:45.430211Z"
    }
   },
   "cell_type": "code",
   "source": [
    "def optimize_RMSProps(w: np.ndarray, learning_rate=0.01, beta=0.99, epsilon=1e-7, loss=None, gradient=None):\n",
    "    \"\"\"\n",
    "    update weight matrix or bias\n",
    "    :param w: weight matrix or bias\n",
    "    :param learning_rate: \n",
    "    :param beta: \n",
    "    :param epsilon: default\n",
    "    :param loss: \n",
    "    :param gradient: \n",
    "    :return: None\n",
    "    \"\"\"\n",
    "    v = 0 \n",
    "    epochs = 1000\n",
    "    \n",
    "    # RMSProp\n",
    "    for epoch in range(epochs):\n",
    "        g = gradient(w)\n",
    "        v = beta * v + (1 - beta) * g ** 2\n",
    "        w = w - learning_rate * g / (np.sqrt(v) + epsilon)\n",
    "    \n",
    "        if epoch % 100 == 0:\n",
    "            print(f'Epoch {epoch}: w = {w}, Loss = {loss(w)}')\n",
    "    print(f'Final w: {w}, Final Loss: {loss(w)}')"
   ],
   "outputs": [],
   "execution_count": 16
  },
  {
   "metadata": {},
   "cell_type": "markdown",
   "source": [
    "### 3.3. Adagrad\n",
    "$\\begin{align}\n",
    "G_t &= G_{t-1} + g_t^2 \\\\\n",
    "\\theta_t &= \\theta_{t-1} - \\frac{\\eta}{\\sqrt{G_t - \\epsilon}} \\cdot g_t \\\\\n",
    "\\eta &\\text{ is learning rate} \\\\\n",
    "g_t &\\text{ is gradient at } t \\text{ time} \\\\\n",
    "\\epsilon &\\text{ is very small number - avoid device by 0} \\\\\n",
    "\\theta &\\text{ is weight matrix or bias vector} \\\\\n",
    "G &\\text{ sum of square of gradient} \\\\\n",
    "\\end{align}$"
   ]
  },
  {
   "metadata": {},
   "cell_type": "markdown",
   "source": "### 3.4. Adaprops:"
  },
  {
   "metadata": {},
   "cell_type": "markdown",
   "source": "### 3.5. Adamax:"
  },
  {
   "metadata": {},
   "cell_type": "markdown",
   "source": "### 3.6.Adam: "
  },
  {
   "metadata": {},
   "cell_type": "markdown",
   "source": "### 5. Demo NN\n"
  },
  {
   "metadata": {},
   "cell_type": "markdown",
   "source": "### 5.1. Load/Prepare data"
  },
  {
   "metadata": {},
   "cell_type": "markdown",
   "source": [
    "### 5.2. Neural network manually:\n",
    "- Flat 28 x 28 data\n",
    "- There are 03 layers: `[32, \"relu\"] [128, \"sigmoid\"] [10, \"softmax\"]`\n",
    "- Loss func: `SparseCategoricalCrossentropy`, `digits = False`\n",
    "- Optimizer: `RMSProp` with `learning_rate=1e-3`\n",
    "- **(opt)** metrics: `accuracy`"
   ]
  },
  {
   "metadata": {},
   "cell_type": "markdown",
   "source": "### 5.3. Flat input data:"
  },
  {
   "metadata": {
    "ExecuteTime": {
     "end_time": "2024-09-28T03:51:35.775425Z",
     "start_time": "2024-09-28T03:51:35.772856Z"
    }
   },
   "cell_type": "code",
   "source": [
    "def flat_data(imp_data: np.ndarray) -> np.ndarray:\n",
    "    \"\"\"\n",
    "    Flat data from 02 dim matrix to vector\n",
    "    :param imp_data: (n, m_0, m_1) matrix, n is number of rows \n",
    "    :return: matrix: (n, m_0 * m_1)\n",
    "    \"\"\"\n",
    "    return imp_data.reshape((imp_data.shape[0],imp_data.shape[1]* imp_data.shape[2]))"
   ],
   "outputs": [],
   "execution_count": 39
  },
  {
   "metadata": {
    "ExecuteTime": {
     "end_time": "2024-09-28T02:35:49.807097Z",
     "start_time": "2024-09-28T02:35:49.802455Z"
    }
   },
   "cell_type": "code",
   "source": [
    "marr = np.array([[[1, 2, 3, 3],[4, 5, 6, 6],[7, 8, 9, 9]],\n",
    "        [[1, 2, 3, 3],[4, 5, 6, 6],[7, 8, 9, 9]],\n",
    "        [[1, 2, 3, 3],[4, 5, 6, 6],[7, 8, 9, 9]],\n",
    "        [[1, 2, 3, 3],[4, 5, 6, 6],[7, 8, 9, 9]],\n",
    "        [[1, 2, 3, 3],[4, 5, 6, 6],[7, 8, 9, 9]]])\n",
    "x_0 = flat_data(marr)\n",
    "x_0\n",
    "# marr.shape\n",
    "# X_train.shape\n",
    "x_1 = X_train[:5].copy()\n",
    "# x_1.shape\n",
    "x_1 = x_1.reshape((x_1.shape[0], x_1.shape[1] * x_1.shape[2]))\n",
    "x_1.shape"
   ],
   "outputs": [
    {
     "data": {
      "text/plain": [
       "(5, 784)"
      ]
     },
     "execution_count": 18,
     "metadata": {},
     "output_type": "execute_result"
    }
   ],
   "execution_count": 18
  },
  {
   "metadata": {},
   "cell_type": "markdown",
   "source": "### 5.4. Loop"
  },
  {
   "metadata": {
    "ExecuteTime": {
     "end_time": "2024-09-28T04:29:24.660270Z",
     "start_time": "2024-09-28T04:29:24.646828Z"
    }
   },
   "cell_type": "code",
   "source": [
    "class DenseLayer (object):\n",
    "    activation_map = {\"linear\": linear, \"relu\": relu, \"sigmoid\": sigmoid, \"softmax\": softmax}\n",
    "    grad_map = {\"linear\": grad_linear, \"relu\": grad_relu, \"sigmoid\": grad_sigmoid, \"softmax\": grad_softmax}\n",
    "    # weights = None;\n",
    "    # bias = None;\n",
    "    \n",
    "    def __init__(self, input_size, output_size, activation = 'linear'):\n",
    "        self._activation_func = self.activation_map['linear']\n",
    "        self._grad_func = self.grad_map['linear']\n",
    "        self._activation = activation.lower()\n",
    "        self._weights = np.random.rand(output_size, input_size)\n",
    "        self._bias = np.random.random()\n",
    "        self._init()\n",
    "        return\n",
    "    def _init(self) -> None:\n",
    "        self._activation_func = DenseLayer.activation_map[self._activation] if self._activation in DenseLayer.activation_map else DenseLayer.activation_map['linear']\n",
    "        self._grad_func = DenseLayer.grad_map[self._activation] if self._activation in DenseLayer.grad_map else DenseLayer.grad_map['linear']\n",
    "        return None\n",
    "\n",
    "    @property\n",
    "    def activation_func(self):\n",
    "        return self._activation_func\n",
    "    @property\n",
    "    def grad_func(self):\n",
    "        return self._grad_func\n",
    "\n",
    "    @property\n",
    "    def weights(self):\n",
    "        return self._weights\n",
    "    @weights.setter\n",
    "    def weights(self, val):\n",
    "        self._weights = val\n",
    "    @property\n",
    "    def bias(self):\n",
    "        return self._bias\n",
    "    @bias.setter\n",
    "    def bias(self, val):\n",
    "        self._bias = val\n",
    "    \n",
    "    pass\n",
    "\n",
    "def fit(X_train, Y_train, epochs=1, learning_rate=1e-3) -> list[np.ndarray] | None:\n",
    "    \"\"\"\n",
    "    :param X_train: matrix(n, m) n - number of rows, m - features\n",
    "    :param Y_train: vector(n)\n",
    "    :param epoch: \n",
    "    :return: list of weight matrix, from 0\n",
    "    \"\"\"\n",
    "    model = list[DenseLayer]\n",
    "    # [32, \"relu\"] [128, \"sigmoid\"] [10, \"softmax\"]\n",
    "    # X_treated shape [m, n]\n",
    "    X_treated = flat_data(X_train).transpose()\n",
    "    if X_treated is not None and len(X_treated) > 0:\n",
    "        input_size = X_treated.shape[0]\n",
    "        denses: list[DenseLayer] = [DenseLayer(input_size=input_size, output_size=32, activation='relu'),\n",
    "                  DenseLayer(input_size=32, output_size=128, activation='relu'),\n",
    "                  DenseLayer(input_size=128, output_size=10, activation='linear')]\n",
    "        A = X_treated\n",
    "        fwd_A = [np.ndarray, len(denses)]   # ndarray(m, n)\n",
    "        fwd_Z = [np.ndarray, len(denses)]   # ndarray(m, n)\n",
    "        # fwd_b = [float, len(denses)]        # bias\n",
    "\n",
    "        grad_A = [np.ndarray, len(denses)]\n",
    "        grad_Z = [np.ndarray, len(denses)]\n",
    "        grad_W = [np.ndarray, len(denses)]\n",
    "        grad_b = [float, len(denses)]\n",
    "        # fwd_A.append(A)\n",
    "        print(f\"denses: {len(denses)}\")\n",
    "        for i in range(epochs):\n",
    "            # Forward propagation\n",
    "            for dense in denses:\n",
    "                # calculate linear\n",
    "                Z = A\n",
    "                print(f\"dense.weights:{dense.weights.shape} Z:{Z.shape}\")\n",
    "                Z = dense.weights @ Z + dense.bias\n",
    "                # apply activation function\n",
    "                A = dense.activation_func(Z)    # return ndarray\n",
    "                fwd_A.append(A.copy())\n",
    "                fwd_Z.append(Z.copy())\n",
    "                # fwd_b.append(dense.bias.copy())\n",
    "                pass\n",
    "            # Calculate Cost function\n",
    "            # Here, A has shape(input_size)\n",
    "            cost = sparse_categorical_crossentropy(Y_train, A).mean()\n",
    "            print(f\"Cost {i}: {cost}\")\n",
    "            # grad_cost = grad_sparse_categorical_crossentropy(Y_train, A)\n",
    "            # Combine the grad_sparse_categorical_crossentropy and softmax (~ from_digit = True)\n",
    "            # dL/dZ = dA/dZ @ dL/dA = Y_pred - Y_train\n",
    "            grad_A[-1] = grad_Z[-1] = fwd_A[-1] - y_train\n",
    "            grad_W[-1] = grad_Z[-1] @ fwd_Z[-1]\n",
    "            grad_b[-1] = grad_Z[-1] @ 1\n",
    "            # Back propagation            \n",
    "            for idx, dense in reversed(list(enumerate(denses))):\n",
    "                # pass last layer\n",
    "                if idx >= len(denses) - 1: continue\n",
    "                # calculate grad of activation function\n",
    "                # calculate dA/dZ = grad_func(A[idx])\n",
    "                # grad_dA_dZ = dense.grad_func(fwd_Z[idx])\n",
    "                # calculate dL/dA = dZ[idx + 1]/dA @ dL/dZ[idx + 1]\n",
    "                grad_A[idx] = fwd_Z[idx] @ grad_Z[idx + 1]\n",
    "                # calculate dL/dZ = dA/dZ @ dL/dA\n",
    "                grad_Z[idx] = dense.grad_func(fwd_Z[idx]) @ grad_A[idx]\n",
    "                # calculate dZ/dW = grad_func(W[idx])\n",
    "                grad_dZ_dW = grad_Z[idx] @ fwd_Z[idx-1] if idx > 0 else X_treated\n",
    "                # calculate dZ/db = grad_func(b[idx])\n",
    "                grad_dZ_db = grad_Z[idx] if idx > 0 else np.ones_like(X_treated)\n",
    "                # calculate grad of linear\n",
    "                # grad_Z = \n",
    "                # update W\n",
    "                # fwd_A[idx] -= learning_rate * grad_dZ_dW \n",
    "                dense.weights -= learning_rate * grad_dZ_dW\n",
    "                # update bias\n",
    "                dense.bias -= learning_rate * grad_dZ_db\n",
    "                pass\n",
    "            pass\n",
    "        model.extend(denses)\n",
    "    return model"
   ],
   "outputs": [],
   "execution_count": 102
  },
  {
   "metadata": {
    "ExecuteTime": {
     "end_time": "2024-09-28T04:29:24.819522Z",
     "start_time": "2024-09-28T04:29:24.816283Z"
    }
   },
   "cell_type": "code",
   "source": [
    "def evaluate(model: list[np.ndarray], X_test, Y_test):\n",
    "    \"\"\"\n",
    "    :param X_test: matrix(n, m) n - number of rows, m - features\n",
    "    :param Y_test: \n",
    "    :return: [lost, accuracy] \n",
    "    \"\"\"\n",
    "    loss = 0.0\n",
    "    accuracy = 0.0\n",
    "    rs = [loss, accuracy]\n",
    "    return rs"
   ],
   "outputs": [],
   "execution_count": 103
  },
  {
   "metadata": {
    "ExecuteTime": {
     "end_time": "2024-09-28T04:29:25.053101Z",
     "start_time": "2024-09-28T04:29:24.984933Z"
    }
   },
   "cell_type": "code",
   "source": [
    "# split the train data\n",
    "X_train_20 = train_test_split(X_train, test_size=0.2, random_state=42)[1]\n",
    "Y_train_20 = train_test_split(y_train, test_size=0.2, random_state=42)[1]\n",
    "\n",
    "len(X_train_20)"
   ],
   "outputs": [
    {
     "data": {
      "text/plain": [
       "12000"
      ]
     },
     "execution_count": 104,
     "metadata": {},
     "output_type": "execute_result"
    }
   ],
   "execution_count": 104
  },
  {
   "metadata": {
    "ExecuteTime": {
     "end_time": "2024-09-28T04:29:26.385572Z",
     "start_time": "2024-09-28T04:29:25.964374Z"
    }
   },
   "cell_type": "code",
   "source": "rs = fit(X_train_20, Y_train_20, epochs=50)",
   "outputs": [
    {
     "name": "stdout",
     "output_type": "stream",
     "text": [
      "denses: 3\n",
      "dense.weights:(32, 784) Z:(784, 12000)\n",
      "dense.weights:(128, 32) Z:(32, 12000)\n",
      "dense.weights:(10, 128) Z:(128, 12000)\n"
     ]
    },
    {
     "ename": "IndexError",
     "evalue": "shape mismatch: indexing arrays could not be broadcast together with shapes (10,) (12000,) ",
     "output_type": "error",
     "traceback": [
      "\u001B[0;31m---------------------------------------------------------------------------\u001B[0m",
      "\u001B[0;31mIndexError\u001B[0m                                Traceback (most recent call last)",
      "Cell \u001B[0;32mIn[105], line 1\u001B[0m\n\u001B[0;32m----> 1\u001B[0m rs \u001B[38;5;241m=\u001B[39m \u001B[43mfit\u001B[49m\u001B[43m(\u001B[49m\u001B[43mX_train_20\u001B[49m\u001B[43m,\u001B[49m\u001B[43m \u001B[49m\u001B[43mY_train_20\u001B[49m\u001B[43m,\u001B[49m\u001B[43m \u001B[49m\u001B[43mepochs\u001B[49m\u001B[38;5;241;43m=\u001B[39;49m\u001B[38;5;241;43m50\u001B[39;49m\u001B[43m)\u001B[49m\n",
      "Cell \u001B[0;32mIn[102], line 84\u001B[0m, in \u001B[0;36mfit\u001B[0;34m(X_train, Y_train, epochs, learning_rate)\u001B[0m\n\u001B[1;32m     81\u001B[0m     \u001B[38;5;28;01mpass\u001B[39;00m\n\u001B[1;32m     82\u001B[0m \u001B[38;5;66;03m# Calculate Cost function\u001B[39;00m\n\u001B[1;32m     83\u001B[0m \u001B[38;5;66;03m# Here, A has shape(input_size)\u001B[39;00m\n\u001B[0;32m---> 84\u001B[0m cost \u001B[38;5;241m=\u001B[39m \u001B[43msparse_categorical_crossentropy\u001B[49m\u001B[43m(\u001B[49m\u001B[43mY_train\u001B[49m\u001B[43m,\u001B[49m\u001B[43m \u001B[49m\u001B[43mA\u001B[49m\u001B[43m)\u001B[49m\u001B[38;5;241m.\u001B[39mmean()\n\u001B[1;32m     85\u001B[0m \u001B[38;5;28mprint\u001B[39m(\u001B[38;5;124mf\u001B[39m\u001B[38;5;124m\"\u001B[39m\u001B[38;5;124mCost \u001B[39m\u001B[38;5;132;01m{\u001B[39;00mi\u001B[38;5;132;01m}\u001B[39;00m\u001B[38;5;124m: \u001B[39m\u001B[38;5;132;01m{\u001B[39;00mcost\u001B[38;5;132;01m}\u001B[39;00m\u001B[38;5;124m\"\u001B[39m)\n\u001B[1;32m     86\u001B[0m \u001B[38;5;66;03m# grad_cost = grad_sparse_categorical_crossentropy(Y_train, A)\u001B[39;00m\n\u001B[1;32m     87\u001B[0m \u001B[38;5;66;03m# Combine the grad_sparse_categorical_crossentropy and softmax (~ from_digit = True)\u001B[39;00m\n\u001B[1;32m     88\u001B[0m \u001B[38;5;66;03m# dL/dZ = dA/dZ @ dL/dA = Y_pred - Y_train\u001B[39;00m\n",
      "Cell \u001B[0;32mIn[36], line 21\u001B[0m, in \u001B[0;36msparse_categorical_crossentropy\u001B[0;34m(y_true, y_pred)\u001B[0m\n\u001B[1;32m     19\u001B[0m \u001B[38;5;28;01mdef\u001B[39;00m \u001B[38;5;21msparse_categorical_crossentropy\u001B[39m(y_true, y_pred):\n\u001B[1;32m     20\u001B[0m     \u001B[38;5;66;03m# Loss func\u001B[39;00m\n\u001B[0;32m---> 21\u001B[0m     loss \u001B[38;5;241m=\u001B[39m \u001B[38;5;241m-\u001B[39mnp\u001B[38;5;241m.\u001B[39mlog(\u001B[43my_pred\u001B[49m\u001B[43m[\u001B[49m\u001B[38;5;28;43mrange\u001B[39;49m\u001B[43m(\u001B[49m\u001B[38;5;28;43mlen\u001B[39;49m\u001B[43m(\u001B[49m\u001B[43my_pred\u001B[49m\u001B[43m)\u001B[49m\u001B[43m)\u001B[49m\u001B[43m,\u001B[49m\u001B[43m \u001B[49m\u001B[43my_true\u001B[49m\u001B[43m]\u001B[49m)\n\u001B[1;32m     22\u001B[0m     \u001B[38;5;28;01mreturn\u001B[39;00m loss\n",
      "\u001B[0;31mIndexError\u001B[0m: shape mismatch: indexing arrays could not be broadcast together with shapes (10,) (12000,) "
     ]
    }
   ],
   "execution_count": 105
  },
  {
   "metadata": {},
   "cell_type": "markdown",
   "source": "#### Draft:"
  },
  {
   "metadata": {
    "ExecuteTime": {
     "end_time": "2024-09-28T03:51:46.712975Z",
     "start_time": "2024-09-28T03:51:46.689639Z"
    }
   },
   "cell_type": "code",
   "source": [
    "# Sample\n",
    "model = tf.keras.models.Sequential(layers=[\n",
    "    tf.keras.layers.Flatten(input_shape=(28, 28,)),\n",
    "    tf.keras.layers.Dense(units=32, activation=tf.keras.activations.relu),\n",
    "    tf.keras.layers.Dense(units=128, activation=tf.keras.activations.relu),\n",
    "    # tf.keras.layers.Dropout(rate=0.2),\n",
    "    tf.keras.layers.Dense(units=10, activation=tf.keras.activations.linear)\n",
    "    # tf.keras.layers.Dense(units=10, activation=tf.keras.activations.softmax)\n",
    "])\n",
    "loss_fn = tf.keras.losses.SparseCategoricalCrossentropy(from_logits=True)\n",
    "# loss_fn = tf.keras.losses.SparseCategoricalCrossentropy(from_logits=False)\n",
    "model.compile(optimizer=tf.keras.optimizers.RMSprop(learning_rate=1e-3),\n",
    "              loss=loss_fn,\n",
    "              metrics=[\"accuracy\"])"
   ],
   "outputs": [],
   "execution_count": 40
  },
  {
   "metadata": {
    "ExecuteTime": {
     "end_time": "2024-09-28T03:51:48.284051Z",
     "start_time": "2024-09-28T03:51:48.210622Z"
    }
   },
   "cell_type": "code",
   "source": [
    "# split the train data\n",
    "X_train_20 = train_test_split(X_train, test_size=0.2, random_state=42)[1]\n",
    "Y_train_20 = train_test_split(y_train, test_size=0.2, random_state=42)[1]\n",
    "\n",
    "len(X_train_20)"
   ],
   "outputs": [
    {
     "data": {
      "text/plain": [
       "12000"
      ]
     },
     "execution_count": 41,
     "metadata": {},
     "output_type": "execute_result"
    }
   ],
   "execution_count": 41
  },
  {
   "metadata": {
    "ExecuteTime": {
     "end_time": "2024-09-28T03:51:54.711439Z",
     "start_time": "2024-09-28T03:51:52.074343Z"
    }
   },
   "cell_type": "code",
   "source": "rs = model.fit(x=X_train_20, y=Y_train_20, epochs=50, batch_size=600, workers=8, use_multiprocessing=False)",
   "outputs": [
    {
     "name": "stdout",
     "output_type": "stream",
     "text": [
      "Epoch 1/50\n",
      "20/20 [==============================] - 0s 4ms/step - loss: 1.6093 - accuracy: 0.6123\n",
      "Epoch 2/50\n",
      "20/20 [==============================] - 0s 2ms/step - loss: 0.7144 - accuracy: 0.8318\n",
      "Epoch 3/50\n",
      "20/20 [==============================] - 0s 2ms/step - loss: 0.4780 - accuracy: 0.8762\n",
      "Epoch 4/50\n",
      "20/20 [==============================] - 0s 2ms/step - loss: 0.3891 - accuracy: 0.8929\n",
      "Epoch 5/50\n",
      "20/20 [==============================] - 0s 2ms/step - loss: 0.3361 - accuracy: 0.9048\n",
      "Epoch 6/50\n",
      "20/20 [==============================] - 0s 2ms/step - loss: 0.3033 - accuracy: 0.9139\n",
      "Epoch 7/50\n",
      "20/20 [==============================] - 0s 2ms/step - loss: 0.2786 - accuracy: 0.9218\n",
      "Epoch 8/50\n",
      "20/20 [==============================] - 0s 2ms/step - loss: 0.2586 - accuracy: 0.9232\n",
      "Epoch 9/50\n",
      "20/20 [==============================] - 0s 2ms/step - loss: 0.2421 - accuracy: 0.9312\n",
      "Epoch 10/50\n",
      "20/20 [==============================] - 0s 3ms/step - loss: 0.2286 - accuracy: 0.9326\n",
      "Epoch 11/50\n",
      "20/20 [==============================] - 0s 2ms/step - loss: 0.2160 - accuracy: 0.9373\n",
      "Epoch 12/50\n",
      "20/20 [==============================] - 0s 3ms/step - loss: 0.2050 - accuracy: 0.9405\n",
      "Epoch 13/50\n",
      "20/20 [==============================] - 0s 2ms/step - loss: 0.1948 - accuracy: 0.9423\n",
      "Epoch 14/50\n",
      "20/20 [==============================] - 0s 2ms/step - loss: 0.1854 - accuracy: 0.9472\n",
      "Epoch 15/50\n",
      "20/20 [==============================] - 0s 3ms/step - loss: 0.1777 - accuracy: 0.9466\n",
      "Epoch 16/50\n",
      "20/20 [==============================] - 0s 3ms/step - loss: 0.1678 - accuracy: 0.9507\n",
      "Epoch 17/50\n",
      "20/20 [==============================] - 0s 4ms/step - loss: 0.1638 - accuracy: 0.9519\n",
      "Epoch 18/50\n",
      "20/20 [==============================] - 0s 3ms/step - loss: 0.1525 - accuracy: 0.9552\n",
      "Epoch 19/50\n",
      "20/20 [==============================] - 0s 4ms/step - loss: 0.1492 - accuracy: 0.9548\n",
      "Epoch 20/50\n",
      "20/20 [==============================] - 0s 2ms/step - loss: 0.1397 - accuracy: 0.9600\n",
      "Epoch 21/50\n",
      "20/20 [==============================] - 0s 2ms/step - loss: 0.1365 - accuracy: 0.9600\n",
      "Epoch 22/50\n",
      "20/20 [==============================] - 0s 2ms/step - loss: 0.1288 - accuracy: 0.9629\n",
      "Epoch 23/50\n",
      "20/20 [==============================] - 0s 2ms/step - loss: 0.1266 - accuracy: 0.9638\n",
      "Epoch 24/50\n",
      "20/20 [==============================] - 0s 2ms/step - loss: 0.1190 - accuracy: 0.9664\n",
      "Epoch 25/50\n",
      "20/20 [==============================] - 0s 2ms/step - loss: 0.1140 - accuracy: 0.9666\n",
      "Epoch 26/50\n",
      "20/20 [==============================] - 0s 2ms/step - loss: 0.1122 - accuracy: 0.9671\n",
      "Epoch 27/50\n",
      "20/20 [==============================] - 0s 2ms/step - loss: 0.1035 - accuracy: 0.9707\n",
      "Epoch 28/50\n",
      "20/20 [==============================] - 0s 2ms/step - loss: 0.1023 - accuracy: 0.9707\n",
      "Epoch 29/50\n",
      "20/20 [==============================] - 0s 2ms/step - loss: 0.0970 - accuracy: 0.9734\n",
      "Epoch 30/50\n",
      "20/20 [==============================] - 0s 2ms/step - loss: 0.0938 - accuracy: 0.9732\n",
      "Epoch 31/50\n",
      "20/20 [==============================] - 0s 3ms/step - loss: 0.0884 - accuracy: 0.9753\n",
      "Epoch 32/50\n",
      "20/20 [==============================] - 0s 2ms/step - loss: 0.0877 - accuracy: 0.9746\n",
      "Epoch 33/50\n",
      "20/20 [==============================] - 0s 2ms/step - loss: 0.0828 - accuracy: 0.9780\n",
      "Epoch 34/50\n",
      "20/20 [==============================] - 0s 2ms/step - loss: 0.0793 - accuracy: 0.9781\n",
      "Epoch 35/50\n",
      "20/20 [==============================] - 0s 3ms/step - loss: 0.0775 - accuracy: 0.9783\n",
      "Epoch 36/50\n",
      "20/20 [==============================] - 0s 2ms/step - loss: 0.0714 - accuracy: 0.9814\n",
      "Epoch 37/50\n",
      "20/20 [==============================] - 0s 2ms/step - loss: 0.0711 - accuracy: 0.9812\n",
      "Epoch 38/50\n",
      "20/20 [==============================] - 0s 2ms/step - loss: 0.0665 - accuracy: 0.9837\n",
      "Epoch 39/50\n",
      "20/20 [==============================] - 0s 2ms/step - loss: 0.0666 - accuracy: 0.9810\n",
      "Epoch 40/50\n",
      "20/20 [==============================] - 0s 2ms/step - loss: 0.0636 - accuracy: 0.9822\n",
      "Epoch 41/50\n",
      "20/20 [==============================] - 0s 2ms/step - loss: 0.0582 - accuracy: 0.9847\n",
      "Epoch 42/50\n",
      "20/20 [==============================] - 0s 2ms/step - loss: 0.0593 - accuracy: 0.9834\n",
      "Epoch 43/50\n",
      "20/20 [==============================] - 0s 2ms/step - loss: 0.0534 - accuracy: 0.9868\n",
      "Epoch 44/50\n",
      "20/20 [==============================] - 0s 2ms/step - loss: 0.0536 - accuracy: 0.9859\n",
      "Epoch 45/50\n",
      "20/20 [==============================] - 0s 2ms/step - loss: 0.0504 - accuracy: 0.9875\n",
      "Epoch 46/50\n",
      "20/20 [==============================] - 0s 2ms/step - loss: 0.0498 - accuracy: 0.9869\n",
      "Epoch 47/50\n",
      "20/20 [==============================] - 0s 2ms/step - loss: 0.0466 - accuracy: 0.9871\n",
      "Epoch 48/50\n",
      "20/20 [==============================] - 0s 2ms/step - loss: 0.0450 - accuracy: 0.9882\n",
      "Epoch 49/50\n",
      "20/20 [==============================] - 0s 2ms/step - loss: 0.0420 - accuracy: 0.9905\n",
      "Epoch 50/50\n",
      "20/20 [==============================] - 0s 2ms/step - loss: 0.0412 - accuracy: 0.9906\n"
     ]
    }
   ],
   "execution_count": 42
  },
  {
   "metadata": {
    "ExecuteTime": {
     "end_time": "2024-09-28T03:51:57.819569Z",
     "start_time": "2024-09-28T03:51:57.750175Z"
    }
   },
   "cell_type": "code",
   "source": [
    "X_test_20 = train_test_split(X_train, test_size=0.8, random_state=42)[1]\n",
    "Y_test_20 = train_test_split(y_train, test_size=0.8, random_state=42)[1]"
   ],
   "outputs": [],
   "execution_count": 43
  },
  {
   "metadata": {
    "ExecuteTime": {
     "end_time": "2024-09-28T03:57:47.299238Z",
     "start_time": "2024-09-28T03:57:46.565651Z"
    }
   },
   "cell_type": "code",
   "source": [
    "rs = model.evaluate(X_test_20,  Y_test_20, verbose=2)\n",
    "rs  # [lost, accuracy]"
   ],
   "outputs": [
    {
     "name": "stdout",
     "output_type": "stream",
     "text": [
      "1500/1500 - 1s - loss: 0.1766 - accuracy: 0.9539 - 695ms/epoch - 463us/step\n"
     ]
    },
    {
     "data": {
      "text/plain": [
       "[0.17658545076847076, 0.9539374709129333]"
      ]
     },
     "execution_count": 47,
     "metadata": {},
     "output_type": "execute_result"
    }
   ],
   "execution_count": 47
  },
  {
   "metadata": {},
   "cell_type": "markdown",
   "source": ""
  },
  {
   "metadata": {},
   "cell_type": "code",
   "outputs": [],
   "execution_count": null,
   "source": ""
  },
  {
   "cell_type": "code",
   "metadata": {
    "ExecuteTime": {
     "end_time": "2024-08-18T04:26:36.389440Z",
     "start_time": "2024-08-18T04:26:36.329514Z"
    }
   },
   "source": [
    "def show_image(img_data: np.ndarray) -> tuple:\n",
    "    fig, axes = plt.subplots(figsize=(1.60, 1.20))\n",
    "    axes.imshow(X=img_data, cmap=\"gray\")\n",
    "    return fig, axes\n",
    "\n",
    "# print(y_test[5854])\n",
    "show_image(X_test[4823])\n",
    "plt.show()"
   ],
   "outputs": [
    {
     "data": {
      "text/plain": [
       "<Figure size 160x120 with 1 Axes>"
      ],
      "image/png": "[encoded data removed]"
     },
     "metadata": {},
     "output_type": "display_data"
    }
   ],
   "execution_count": 10
  },
  {
   "metadata": {
    "ExecuteTime": {
     "end_time": "2024-08-18T04:27:19.525614Z",
     "start_time": "2024-08-18T04:27:19.406120Z"
    }
   },
   "cell_type": "code",
   "source": "show_image(X_train[0])",
   "outputs": [
    {
     "data": {
      "text/plain": [
       "(<Figure size 160x120 with 1 Axes>, <Axes: >)"
      ]
     },
     "execution_count": 11,
     "metadata": {},
     "output_type": "execute_result"
    },
    {
     "data": {
      "text/plain": [
       "<Figure size 160x120 with 1 Axes>"
      ],
      "image/png": "[encoded data removed]"
     },
     "metadata": {},
     "output_type": "display_data"
    }
   ],
   "execution_count": 11
  },
  {
   "metadata": {},
   "cell_type": "markdown",
   "source": "### 5.2. Linear and Activation Function:"
  },
  {
   "metadata": {},
   "cell_type": "markdown",
   "source": "### 5.3. Loss/Cost Function"
  },
  {
   "metadata": {},
   "cell_type": "markdown",
   "source": "### 5.4. Optimizer"
  },
  {
   "cell_type": "code",
   "metadata": {
    "ExecuteTime": {
     "end_time": "2024-08-15T17:38:20.402447Z",
     "start_time": "2024-08-15T17:38:20.396792Z"
    }
   },
   "source": [
    "import tensorflow as tf\n",
    "print(\"Num GPUs Available: \", len(tf.config.list_physical_devices('GPU')))\n",
    "\n",
    "# resolver = tf.distribute.cluster_resolver.TPUClusterResolver(tpu='')\n",
    "# tf.config.experimental_connect_to_cluster(resolver)\n",
    "# # This is the TPU initialization code that has to be at the beginning.\n",
    "# tf.tpu.experimental.initialize_tpu_system(resolver)\n",
    "# print(\"All devices: \", tf.config.list_logical_devices('TPU'))"
   ],
   "outputs": [
    {
     "name": "stdout",
     "output_type": "stream",
     "text": [
      "Num GPUs Available:  0\n"
     ]
    }
   ],
   "execution_count": 30
  },
  {
   "cell_type": "code",
   "execution_count": null,
   "metadata": {},
   "outputs": [],
   "source": []
  },
  {
   "cell_type": "code",
   "execution_count": null,
   "metadata": {},
   "outputs": [],
   "source": []
  }
 ],
 "metadata": {
  "kernelspec": {
   "display_name": "learn-python",
   "language": "python",
   "name": "python3"
  },
  "language_info": {
   "codemirror_mode": {
    "name": "ipython",
    "version": 3
   },
   "file_extension": ".py",
   "mimetype": "text/x-python",
   "name": "python",
   "nbconvert_exporter": "python",
   "pygments_lexer": "ipython3",
   "version": "3.10.13"
  },
  "orig_nbformat": 4
 },
 "nbformat": 4,
 "nbformat_minor": 2
}
