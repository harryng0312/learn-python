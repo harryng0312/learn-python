{
 "cells": [
  {
   "cell_type": "code",
   "execution_count": 1,
   "metadata": {
    "ExecuteTime": {
     "end_time": "2024-10-01T17:02:03.426749Z",
     "start_time": "2024-10-01T17:02:03.422138Z"
    }
   },
   "outputs": [],
   "source": [
    "from typing import List\n",
    "\n",
    "import matplotlib\n",
    "import numpy as np\n",
    "import matplotlib.pyplot as plt\n",
    "import matplotlib.lines as mlines\n",
    "import matplotlib.animation as animation\n",
    "import time\n",
    "import struct\n",
    "import tensorflow as tf\n",
    "import random as rd\n",
    "\n",
    "from math import *\n",
    "from array import array\n",
    "\n",
    "# import keras._tf_keras.keras as keras \n",
    "# from keras._tf_keras.keras\n",
    "from sklearn.metrics import accuracy_score, f1_score\n",
    "from sklearn.model_selection import train_test_split\n",
    "from sklearn.preprocessing import MinMaxScaler, StandardScaler\n",
    "from sklearn.linear_model import LogisticRegression\n",
    "\n",
    "# my project\n",
    "from module.conf import PROJECT_DIR\n",
    "\n",
    "# matplotlib.use(\"QTAgg\")\n",
    "%matplotlib inline"
   ]
  },
  {
   "cell_type": "markdown",
   "metadata": {},
   "source": [
    "Load data:\n",
    "- Train data: 60k 28x28 images\n",
    "- Test data: "
   ]
  },
  {
   "cell_type": "code",
   "execution_count": 2,
   "metadata": {
    "ExecuteTime": {
     "end_time": "2024-10-01T17:02:03.526026Z",
     "start_time": "2024-10-01T17:02:03.437095Z"
    }
   },
   "outputs": [],
   "source": [
    "mnist_path = \"/data/sample/mnist\"\n",
    "training_images_filepath = \"\".join([PROJECT_DIR, mnist_path, \"/train-images.idx3-ubyte\"])\n",
    "training_labels_filepath = \"\".join([PROJECT_DIR, mnist_path, \"/train-labels.idx1-ubyte\"])\n",
    "test_images_filepath = \"\".join([PROJECT_DIR, mnist_path, \"/t10k-images.idx3-ubyte\"])\n",
    "test_labels_filepath = \"\".join([PROJECT_DIR, mnist_path, \"/t10k-labels.idx1-ubyte\"])\n",
    "\n",
    "def read_images_labels(images_filepath, labels_filepath) -> tuple:\n",
    "    labels = []\n",
    "    with open(labels_filepath, 'rb') as file:\n",
    "        magic, size = struct.unpack(\">II\", file.read(8))\n",
    "        if magic != 2049:\n",
    "            raise ValueError('Magic number mismatch, expected 2049, got {}'.format(magic))\n",
    "        # labels = array(\"B\", file.read())\n",
    "        labels = array(\"B\", file.read())\n",
    "\n",
    "    with open(images_filepath, 'rb') as file:\n",
    "        magic, size, rows, cols = struct.unpack(\">IIII\", file.read(16))\n",
    "        if magic != 2051:\n",
    "            raise ValueError('Magic number mismatch, expected 2051, got {}'.format(magic))\n",
    "        image_data = array(\"B\", file.read())       \n",
    "     \n",
    "    images = []\n",
    "    # for i in range(size):\n",
    "    #     images.append([0] * rows * cols)\n",
    "    for i in range(size):\n",
    "        img = np.array(image_data[i * rows * cols:(i + 1) * rows * cols])\n",
    "        img = img.reshape(28, 28)\n",
    "        # images[i][:] = img\n",
    "        images.append(img)\n",
    "    \n",
    "    return images, labels\n",
    "\n",
    "def load_data() -> tuple:\n",
    "    x_train, y_train = read_images_labels(training_images_filepath, training_labels_filepath)\n",
    "    x_test, y_test = read_images_labels(test_images_filepath, test_labels_filepath)\n",
    "    return (x_train, y_train),(x_test, y_test)\n",
    "\n",
    "(X_train, y_train), (X_test, y_test) = load_data()"
   ]
  },
  {
   "cell_type": "code",
   "execution_count": 3,
   "metadata": {
    "ExecuteTime": {
     "end_time": "2024-10-01T17:02:03.536273Z",
     "start_time": "2024-10-01T17:02:03.534801Z"
    }
   },
   "outputs": [],
   "source": [
    "# print(f\"{type(X_train[0])}\")\n",
    "# mnist = tf.keras.datasets.mnist\n",
    "\n",
    "# (x_train, y_train), (x_test, y_test) = mnist.load_data()\n"
   ]
  },
  {
   "cell_type": "code",
   "execution_count": 4,
   "metadata": {
    "ExecuteTime": {
     "end_time": "2024-10-01T17:02:03.630311Z",
     "start_time": "2024-10-01T17:02:03.544258Z"
    }
   },
   "outputs": [],
   "source": [
    "X_train = np.asarray(X_train) / 255\n",
    "y_train = np.asarray(y_train)\n",
    "X_test  = np.asarray(X_test) / 255\n",
    "y_test  = np.asarray(y_test)"
   ]
  },
  {
   "cell_type": "markdown",
   "metadata": {},
   "source": [
    "## 1. Activation functions:"
   ]
  },
  {
   "cell_type": "markdown",
   "metadata": {},
   "source": [
    "### 1.1. Linear:\n",
    "$ \\begin{align}\n",
    "f(\\mathbf z) &= \\mathbf z \\\\\n",
    "\\rightarrow \\frac{\\partial f(\\mathbf z)}{\\partial \\mathbf z} &=\\mathbf 1 \\\\ \n",
    "\\end{align} $"
   ]
  },
  {
   "cell_type": "code",
   "execution_count": 5,
   "metadata": {
    "ExecuteTime": {
     "end_time": "2024-10-01T17:02:03.640971Z",
     "start_time": "2024-10-01T17:02:03.639336Z"
    }
   },
   "outputs": [],
   "source": [
    "def linear(z): return z\n",
    "def grad_linear(z): return 1"
   ]
  },
  {
   "cell_type": "markdown",
   "metadata": {},
   "source": [
    "### 1.2. ReLU:\n",
    "$\\begin{align}\n",
    "ReLU(\\mathbf z) &= \\max(\\mathbf z, \\mathbf 0) \\\\\n",
    "\\rightarrow \\frac{\\partial ReLU(\\mathbf z)}{\\partial \\mathbf z} &= \\begin{cases}\n",
    "z_i = 1 \\text{ if } z_i > 0 \\\\\n",
    "z_i = 0 \\text{ if } z_i \\leqslant 0 \\\\\n",
    "\\end{cases} \\\\\n",
    "\\end{align}$"
   ]
  },
  {
   "cell_type": "code",
   "execution_count": 6,
   "metadata": {
    "ExecuteTime": {
     "end_time": "2024-10-01T17:02:03.652040Z",
     "start_time": "2024-10-01T17:02:03.649866Z"
    }
   },
   "outputs": [],
   "source": [
    "def relu(z): return np.maximum(0, z)\n",
    "def grad_relu(z): return np.where(z > 0, 1, 0) # (x > 0).astype(float) # np.array([1 if z_i > 0 else 0 for z_i in z])"
   ]
  },
  {
   "cell_type": "code",
   "execution_count": 7,
   "metadata": {
    "ExecuteTime": {
     "end_time": "2024-10-01T17:02:03.674098Z",
     "start_time": "2024-10-01T17:02:03.671312Z"
    }
   },
   "outputs": [
    {
     "data": {
      "text/plain": [
       "array([1, 0, 1, 1, 0])"
      ]
     },
     "execution_count": 7,
     "metadata": {},
     "output_type": "execute_result"
    }
   ],
   "source": [
    "z = np.array([1,-6, 3, 4, 0])\n",
    "relu_z = relu(z)\n",
    "relu_z\n",
    "grad_relu_z = grad_relu(relu_z)\n",
    "grad_relu_z"
   ]
  },
  {
   "cell_type": "markdown",
   "metadata": {},
   "source": [
    "### 1.2. Sigmoid:\n",
    "$\\begin{align}\n",
    "\\sigma(\\mathbf z) &= \\frac{1}{1 + e^{-z}} \\\\\n",
    "\\rightarrow \\frac{\\partial\\sigma(\\mathbf z)}{\\partial \\mathbf z} &= \\sigma(\\mathbf z)\\cdot\\left(1 - \\sigma(\\mathbf z)\\right) \\\\ \n",
    "\\end{align} $"
   ]
  },
  {
   "cell_type": "code",
   "execution_count": 8,
   "metadata": {
    "ExecuteTime": {
     "end_time": "2024-10-01T17:02:03.699599Z",
     "start_time": "2024-10-01T17:02:03.697662Z"
    }
   },
   "outputs": [],
   "source": [
    "def sigmoid(z): return 1/(1 + np.exp(-z))\n",
    "def grad_sigmoid(z): return sigmoid(z) * (1 - sigmoid(z))    "
   ]
  },
  {
   "cell_type": "code",
   "execution_count": 9,
   "metadata": {
    "ExecuteTime": {
     "end_time": "2024-10-01T17:02:03.720253Z",
     "start_time": "2024-10-01T17:02:03.717680Z"
    }
   },
   "outputs": [
    {
     "data": {
      "text/plain": [
       "array([0.19661193, 0.00246651, 0.04517666, 0.01766271, 0.25      ])"
      ]
     },
     "execution_count": 9,
     "metadata": {},
     "output_type": "execute_result"
    }
   ],
   "source": [
    "z = np.array([1,-6, 3, 4, 0])\n",
    "sigmoid(z)\n",
    "grad_sigmoid(z)"
   ]
  },
  {
   "cell_type": "markdown",
   "metadata": {},
   "source": [
    "### 1.3. Softmax:\n",
    "$\\begin{align}\n",
    "\\sigma(\\mathbf z) &= \\frac{e^{\\mathbf z}}{\\sum_{i=1}^{C}e^{z_i}} \\\\\n",
    "\\rightarrow \\frac{\\partial \\sigma(\\mathbf z)}{\\partial \\mathbf z} &= \\sigma(z_i) \\cdot (\\delta_{ij} - \\sigma(z_j)) \n",
    "\\rightarrow \\delta_{ij} = \\begin{cases} \n",
    "1 \\text{ if } i = j \\\\\n",
    "0 \\text{ if } i \\neq j  \n",
    "\\end{cases} \\\\\n",
    "&= diag(\\mathbf z) - \\mathbf z * \\mathbf z^T \\\\\n",
    "C &\\text{ is number of class} \\\\\n",
    "diag &\\text{ is diagonal matrix }\n",
    "\\end{align}$"
   ]
  },
  {
   "cell_type": "code",
   "execution_count": 10,
   "metadata": {
    "ExecuteTime": {
     "end_time": "2024-10-01T17:02:03.734387Z",
     "start_time": "2024-10-01T17:02:03.731642Z"
    }
   },
   "outputs": [],
   "source": [
    "# def softmax(z): return np.exp(z)/np.sum(np.exp(z))\n",
    "# def grad_softmax(z): return np.diag(z) - np.outer(z,z)\n",
    "def softmax(Z):\n",
    "    Z_max = np.max(Z, axis=Z.ndim-1, keepdims=True)\n",
    "    Z_exp = np.exp(Z - Z_max)\n",
    "    Z_sum = np.sum(Z_exp, axis=Z.ndim-1, keepdims=True)\n",
    "    return Z_exp / Z_sum\n",
    "    # e_x = np.exp(Z - np.max(Z, axis=-1, keepdims=True))\n",
    "    # return e_x / np.sum(e_x, axis=-1, keepdims=True)\n",
    "\n",
    "def grad_softmax(Z):\n",
    "    S = softmax(Z)  # Tính softmax cho Z\n",
    "    batch_size, num_classes = S.shape\n",
    "    # Init Jacobian matrix: gradient foreach row\n",
    "    dSoftmax = np.zeros((batch_size, num_classes, num_classes))\n",
    "    for i in range(batch_size):\n",
    "        # S_i is softmax for i-row\n",
    "        s_i = S[i].reshape(-1, 1)  # Transpose to Column vector\n",
    "        # Jacobian matrix for i-row\n",
    "        # dSoftmax[i] = np.diagflat(s_i) - np.dot(s_i, s_i.T)\n",
    "        dSoftmax[i] = np.diagflat(s_i) - s_i @ s_i.T\n",
    "    # dSoftmax in hidden layer - transpose of Jacobian matrix    \n",
    "    return dSoftmax.transpose()"
   ]
  },
  {
   "cell_type": "code",
   "execution_count": 11,
   "metadata": {
    "ExecuteTime": {
     "end_time": "2024-10-01T17:02:03.762539Z",
     "start_time": "2024-10-01T17:02:03.759658Z"
    }
   },
   "outputs": [
    {
     "data": {
      "text/plain": [
       "array([[4],\n",
       "       [7]])"
      ]
     },
     "execution_count": 11,
     "metadata": {},
     "output_type": "execute_result"
    }
   ],
   "source": [
    "z = np.array([[1,-6, 3, 4, 0],\n",
    "              [1,-6, 3, 7, 0]])\n",
    "# softmax(z)\n",
    "z_max = np.max(z, axis=z.ndim-1, keepdims=True)\n",
    "z_max\n",
    "# np.exp(z-z_max)\n",
    "# grad_softmax(z)"
   ]
  },
  {
   "cell_type": "markdown",
   "metadata": {},
   "source": [
    "## 2. Loss function:"
   ]
  },
  {
   "cell_type": "markdown",
   "metadata": {},
   "source": [
    "### 2.1. Cross Entropy:\n",
    "$\\begin{align}\n",
    "CrossEntropy = - \\log(\\hat{y}_{true})\\\\\n",
    "\\end{align}$"
   ]
  },
  {
   "cell_type": "markdown",
   "metadata": {},
   "source": [
    "### 2.2. Categorical Crossentropy:\n",
    "$\\begin{align}\n",
    "Y &\\text{ is label in one-hot matrix } N \\times C  \\\\\n",
    "\\hat{Y} &\\text{ is predicted matrix } N \\times C \\\\\n",
    "C &\\text{ is number of classes}\\\\\n",
    "L &= -\\sum_{i=1}^{C} Y_i \\log(\\hat{Y}_{i}) \\\\\n",
    "\\hat{Y}_{i,j} &= \\frac{exp(Z_{i,j})}{\\sum_{k=1}^{C} exp(Z_{i,k})} \\\\\n",
    "\\rightarrow \\mathcal L &= -\\frac{1}{N} \\sum_{i=1}^{N}\\sum_{j=1}^{C} Y_{i,j} \\log(\\hat{Y}_{i,j}) \\\\\n",
    "&= -\\frac{1}{N} \\sum_{i=1}^{N} \\log(\\hat{Y}_{i,true}) \\\\\n",
    "\\hat{Y}_{i,true} &\\text{ is predicted result corresponding to one-hot is 1}\n",
    "\\end{align}$\n",
    "\n",
    "Gradient:\n",
    "$\\begin{align}\n",
    "\\frac{\\partial L}{\\partial Z} &= \\hat{Y}_{i,j} - Y_{i,j} \\\\\n",
    "\\end{align}$"
   ]
  },
  {
   "cell_type": "markdown",
   "metadata": {},
   "source": [
    "### 2.3. Sparse Categorical Crossentropy:\n",
    "$ \\begin{align}\n",
    "\\hat{Y} &= A_n = softmax(Z) \\\\\n",
    "Z &\\text{ is } n \\times C \\text{ matrix. n is number of samples, C is number of classes} \\\\\n",
    "CrossEntropy_i &= -\\log(\\hat{y}_{i, y_{sparse}}) \\\\\n",
    "CrossEntropy &\\text{ is a vector size n} \\\\\n",
    "\\rightarrow \\frac{\\partial L}{\\partial Z_{i,j}} &= \\hat{Y}_{i,j} - \\delta(j, y_{sparse,i}) \n",
    "\\rightarrow \\delta(j, y_{sparse,i}) = \\begin{cases}\n",
    "1 \\text{ if } j = y_{sparse,i} \\\\\n",
    "0 \\text{ if } j \\neq y_{sparse,i}\\\\\n",
    "\\end{cases} \\\\\n",
    "\\rightarrow \\frac{\\partial L}{\\partial Z_n} &= \\hat{Y} - Y = \\hat{Y} - SparseLabels \\\\\n",
    "SparseLabels &\\text{ can be considered as one-hot matrix}\n",
    "\\end{align} $"
   ]
  },
  {
   "cell_type": "code",
   "execution_count": 12,
   "metadata": {
    "ExecuteTime": {
     "end_time": "2024-10-01T18:20:19.885600Z",
     "start_time": "2024-10-01T18:20:19.879006Z"
    }
   },
   "outputs": [],
   "source": [
    "# should apply the Vectorization\n",
    "def delta_kronecker_matrix(y_train, mY_pred):\n",
    "    \"\"\"\n",
    "    Transform to one-hot encoding\n",
    "    y_train: a vector size n\n",
    "    mY_pred: a matrix (C, n)\n",
    "    \"\"\"\n",
    "    mY_train = np.zeros(shape=mY_pred.T.shape)\n",
    "    for i in range(len(y_train)): mY_train[i][y_train[i]] = 1\n",
    "    return mY_train\n",
    "\n",
    "def sparse_categorical_crossentropy_Z(y_train, mY_pred):\n",
    "    y_pred = np.array([mY_pred[i][y_train[i]] for i in range(len(y_train))])\n",
    "    return -np.sum(np.log(y_pred))\n",
    "\n",
    "def grad_sparse_categorical_crossentropy_Z(y_train, mY_pred):\n",
    "    return mY_pred - delta_kronecker_matrix(y_train=y_train, mY_pred=mY_pred)\n",
    "\n",
    "def sparse_categorical_crossentropy(y_true, y_pred):\n",
    "    # Loss func\n",
    "    # batch_size = y_pred.shape[0]\n",
    "    # y_true_indices = (np.arange(batch_size), y_true)\n",
    "    # correct_class_probabilities = y_pred[y_true_indices]\n",
    "    # loss = -np.log(correct_class_probabilities + 1e-9)\n",
    "    # loss = -np.log(y_pred[:y_pred.shape[0], y_true] + 1e-9)\n",
    "    # return loss\n",
    "    batch_size = y_true.shape[0]\n",
    "    y_true_indices = (y_true, np.arange(batch_size))\n",
    "    correct_class_probabilities = y_pred[y_true_indices]\n",
    "    # loss = -np.sum(np.log(correct_class_probabilities + 1e-9)) / batch_size\n",
    "    loss = -np.log(correct_class_probabilities + 1e-7).mean()\n",
    "    return loss\n",
    "\n",
    "def grad_sparse_categorical_crossentropy(y_true, y_pred):\n",
    "    # Grad\n",
    "    grad = np.zeros_like(y_pred)\n",
    "    grad[:y_pred.shape[0], y_true] = -1 / y_pred[:y_pred.shape[0], y_true]  # Grad for true-class\n",
    "    return grad"
   ]
  },
  {
   "cell_type": "code",
   "execution_count": 13,
   "metadata": {
    "ExecuteTime": {
     "end_time": "2024-10-01T17:02:03.837572Z",
     "start_time": "2024-10-01T17:02:03.835220Z"
    }
   },
   "outputs": [],
   "source": [
    "# test detal_kronecker_matrix\n",
    "y_train_validate = np.array([0, 2, 2, 1, 0])\n",
    "mY_pred = np.array([[0.2, 0.1 , 0.3],\n",
    "                    [0.3, 0.2, 0.7],\n",
    "                    [0.3, 0.2, 0.7],\n",
    "                    [0.3, 0.2, 0.2],\n",
    "                    [0.3, 0.2, 0.4]]).T\n",
    "delta = delta_kronecker_matrix(y_train_validate, mY_pred)\n",
    "# mY_pred[:mY_pred.shape[0], [1, 2]]"
   ]
  },
  {
   "cell_type": "code",
   "execution_count": 14,
   "metadata": {
    "ExecuteTime": {
     "end_time": "2024-10-01T17:02:03.861539Z",
     "start_time": "2024-10-01T17:02:03.858162Z"
    }
   },
   "outputs": [
    {
     "name": "stdout",
     "output_type": "stream",
     "text": [
      "1.0272393796048616\n"
     ]
    }
   ],
   "source": [
    "cross_entropy = sparse_categorical_crossentropy(y_train_validate, mY_pred)\n",
    "print(cross_entropy)"
   ]
  },
  {
   "cell_type": "code",
   "execution_count": 15,
   "metadata": {
    "ExecuteTime": {
     "end_time": "2024-10-01T17:02:03.895941Z",
     "start_time": "2024-10-01T17:02:03.892826Z"
    }
   },
   "outputs": [
    {
     "data": {
      "text/plain": [
       "array([[5, 8, 0, 0],\n",
       "       [0, 0, 3, 0],\n",
       "       [0, 6, 0, 0],\n",
       "       [7, 0, 0, 0]])"
      ]
     },
     "execution_count": 15,
     "metadata": {},
     "output_type": "execute_result"
    }
   ],
   "source": [
    "import numpy as np\n",
    "from scipy.sparse import csr_matrix\n",
    "# ex\n",
    "# [[0, 0, 0, 0],\n",
    "#  [5, 8, 0, 0],\n",
    "#  [0, 0, 3, 0],\n",
    "#  [0, 6, 0, 0]]\n",
    "#\n",
    "\n",
    "data = np.array([5, 8, 3, 6, 7])        # values\n",
    "indices = np.array([0, 1, 2, 1, 0])     # col index for each value\n",
    "indptr = np.array([0, 2, 3, 4, 5])      # start - end in data values\n",
    "csr_m = csr_matrix((data, indices, indptr), shape=(4, 4))\n",
    "csr_m.toarray()\n"
   ]
  },
  {
   "cell_type": "markdown",
   "metadata": {},
   "source": [
    "## 3. Optimizers: "
   ]
  },
  {
   "cell_type": "code",
   "execution_count": 48,
   "metadata": {},
   "outputs": [],
   "source": [
    "def optimize_basicGD(w:np.ndarray, b:np.ndarray, grad_w: np.ndarray, grad_b: np.ndarray, learning_rate=1e-2):\n",
    "    w -= learning_rate * grad_w\n",
    "    b -= learning_rate * grad_b\n",
    "    return w, b"
   ]
  },
  {
   "cell_type": "markdown",
   "metadata": {},
   "source": [
    "### 3.1. SGD\n",
    "$\\begin{align}\n",
    "\\theta &= \\theta - \\eta \\cdot \\nabla_{\\theta} L(\\theta, x_i, y_i) \\\\\n",
    "\\theta &\\text{ is weight}\\\\\n",
    "\\eta &\\text{ is learning rate}\\\\\n",
    "\\nabla_{\\theta} L(\\theta, x_i, y_i) &\\text{ is gradient respect to }\\theta \\text{ of }(x_i, y_i) \\\\\n",
    "\\end{align}$"
   ]
  },
  {
   "cell_type": "markdown",
   "metadata": {},
   "source": [
    "### 3.2. RMSProps:\n",
    "$\\begin{align}\n",
    "v_{t} &= \\beta v_{t-1} + (1 + \\beta)g_t^2 \\\\\n",
    "\\\\\n",
    "\\theta_t &= \\theta_{t-1} - \\frac{\\eta}{\\sqrt{v_t} + \\epsilon} g_t \\\\\n",
    "\\eta &\\text{ is learning rate} \\\\\n",
    "v_t &\\text{ is velocity at } t \\text{ time} \\\\\n",
    "g_t &\\text{ is gradient at } t \\text{ time} \\\\\n",
    "\\epsilon &\\text{ is very small number - avoid device by 0} \\\\\n",
    "\\theta &\\text{ is weight matrix or bias vector} \\\\\n",
    "\\end{align}$"
   ]
  },
  {
   "cell_type": "code",
   "execution_count": 57,
   "metadata": {
    "ExecuteTime": {
     "end_time": "2024-10-01T17:02:03.929040Z",
     "start_time": "2024-10-01T17:02:03.926442Z"
    }
   },
   "outputs": [],
   "source": [
    "# def optimize_RMSProps(w: np.ndarray, learning_rate=0.01, beta=0.99, epsilon=1e-7, loss=None, gradient=None):\n",
    "    # \"\"\"\n",
    "    # update weight matrix or bias\n",
    "    # :param w: weight matrix or bias\n",
    "    # :param learning_rate: \n",
    "    # :param beta: \n",
    "    # :param epsilon: default\n",
    "    # :param loss: \n",
    "    # :param gradient: \n",
    "    # :return: None\n",
    "    # \"\"\"\n",
    "    # v = 0 \n",
    "    # epochs = 1000\n",
    "    \n",
    "    # RMSProp\n",
    "    # for epoch in range(epochs):\n",
    "        # g = gradient(w)\n",
    "        # v = beta * v + (1 - beta) * g ** 2\n",
    "        # w = w - learning_rate * g / (np.sqrt(v) + epsilon)\n",
    "    \n",
    "        # if epoch % 100 == 0:\n",
    "        #     print(f'Epoch {epoch}: w = {w}, Loss = {loss(w)}')\n",
    "    # print(f'Final w: {w}, Final Loss: {loss(w)}')\n",
    "\n",
    "def optimize_RMSProps(w: np.ndarray, b: np.ndarray, grad_w: np.ndarray, grad_b: np.ndarray, v_w:np.ndarray=None, v_b:np.ndarray=None,\n",
    "                      learning_rate=0.01, beta=0.99, epsilon=1e-7):\n",
    "    # if v_w is None: v_w = np.zeros_like(w)\n",
    "    # if v_b is None: v_b = np.zeros_like(b)\n",
    "    v_w = beta * v_w + (1 - beta) * grad_w ** 2\n",
    "    v_b = beta * v_b + (1 - beta) * grad_b ** 2\n",
    "    # print(f\"v_w: {v_w.shape} v_b: {v_b.shape}\")\n",
    "    w -= learning_rate * grad_w / (np.sqrt(v_w) + epsilon)\n",
    "    b -= learning_rate * grad_b / (np.sqrt(v_b) + epsilon)\n",
    "    return w, b, v_w, v_b"
   ]
  },
  {
   "cell_type": "markdown",
   "metadata": {},
   "source": [
    "### 3.3. Adagrad\n",
    "$\\begin{align}\n",
    "G_t &= G_{t-1} + g_t^2 \\\\\n",
    "\\theta_t &= \\theta_{t-1} - \\frac{\\eta}{\\sqrt{G_t - \\epsilon}} \\cdot g_t \\\\\n",
    "\\eta &\\text{ is learning rate} \\\\\n",
    "g_t &\\text{ is gradient at } t \\text{ time} \\\\\n",
    "\\epsilon &\\text{ is very small number - avoid device by 0} \\\\\n",
    "\\theta &\\text{ is weight matrix or bias vector} \\\\\n",
    "G &\\text{ sum of square of gradient} \\\\\n",
    "\\end{align}$"
   ]
  },
  {
   "cell_type": "markdown",
   "metadata": {},
   "source": [
    "### 3.4. Adaprops:"
   ]
  },
  {
   "cell_type": "markdown",
   "metadata": {},
   "source": [
    "### 3.5. Adamax:"
   ]
  },
  {
   "cell_type": "markdown",
   "metadata": {},
   "source": [
    "### 3.6.Adam: "
   ]
  },
  {
   "cell_type": "markdown",
   "metadata": {},
   "source": [
    "### 5. Demo NN\n"
   ]
  },
  {
   "cell_type": "markdown",
   "metadata": {},
   "source": [
    "### 5.1. Load/Prepare data"
   ]
  },
  {
   "cell_type": "markdown",
   "metadata": {},
   "source": [
    "### 5.2. Neural network manually:\n",
    "- Flat 28 x 28 data\n",
    "- There are 03 layers: `[32, \"relu\"] [128, \"sigmoid\"] [10, \"softmax\"]`\n",
    "- Loss func: `SparseCategoricalCrossentropy`, `digits = False`\n",
    "- Optimizer: `RMSProp` with `learning_rate=1e-3`\n",
    "- **(opt)** metrics: `accuracy`"
   ]
  },
  {
   "cell_type": "markdown",
   "metadata": {},
   "source": [
    "### 5.3. Flat input data:"
   ]
  },
  {
   "cell_type": "code",
   "execution_count": 69,
   "metadata": {
    "ExecuteTime": {
     "end_time": "2024-10-01T17:02:03.979551Z",
     "start_time": "2024-10-01T17:02:03.977528Z"
    }
   },
   "outputs": [],
   "source": [
    "def flat_data(imp_data: np.ndarray) -> np.ndarray:\n",
    "    \"\"\"\n",
    "    Flat data from 02 dim matrix to vector\n",
    "    :param imp_data: (n, m_0, m_1) matrix, n is number of rows \n",
    "    :return: matrix: (n, m_0 * m_1)\n",
    "    \"\"\"\n",
    "    if len(imp_data.shape) < 3 : return imp_data\n",
    "    return imp_data.reshape((imp_data.shape[0], imp_data.shape[1]* imp_data.shape[2]))"
   ]
  },
  {
   "cell_type": "code",
   "execution_count": 19,
   "metadata": {
    "ExecuteTime": {
     "end_time": "2024-10-01T17:02:04.016345Z",
     "start_time": "2024-10-01T17:02:04.011896Z"
    }
   },
   "outputs": [
    {
     "data": {
      "text/plain": [
       "array([[0., 0., 0., ..., 0., 0., 0.],\n",
       "       [0., 0., 0., ..., 0., 0., 0.],\n",
       "       [0., 0., 0., ..., 0., 0., 0.],\n",
       "       [0., 0., 0., ..., 0., 0., 0.],\n",
       "       [0., 0., 0., ..., 0., 0., 0.]])"
      ]
     },
     "execution_count": 19,
     "metadata": {},
     "output_type": "execute_result"
    }
   ],
   "source": [
    "marr = np.array([[[1, 2, 3, 3],[4, 5, 6, 6],[7, 8, 9, 9]],\n",
    "        [[1, 2, 3, 3],[4, 5, 6, 6],[7, 8, 9, 9]],\n",
    "        [[1, 2, 3, 3],[4, 5, 6, 6],[7, 8, 9, 9]],\n",
    "        [[1, 2, 3, 3],[4, 5, 6, 6],[7, 8, 9, 9]],\n",
    "        [[1, 2, 3, 3],[4, 5, 6, 6],[7, 8, 9, 9]]])\n",
    "x_0 = flat_data(marr)\n",
    "x_0\n",
    "# marr.shape\n",
    "# X_train.shape\n",
    "x_1 = X_train[:5].copy()\n",
    "x_1.shape\n",
    "x_1 = x_1.reshape((x_1.shape[0], x_1.shape[1] * x_1.shape[2]))\n",
    "x_1"
   ]
  },
  {
   "cell_type": "markdown",
   "metadata": {},
   "source": [
    "### 5.4. Loop"
   ]
  },
  {
   "cell_type": "code",
   "execution_count": 39,
   "metadata": {
    "ExecuteTime": {
     "end_time": "2024-10-01T17:02:04.062104Z",
     "start_time": "2024-10-01T17:02:04.056222Z"
    }
   },
   "outputs": [],
   "source": [
    "class DenseLayer (object):\n",
    "    activation_map = {\"linear\": linear, \"relu\": relu, \"sigmoid\": sigmoid, \"softmax\": softmax}\n",
    "    grad_map = {\"linear\": grad_linear, \"relu\": grad_relu, \"sigmoid\": grad_sigmoid, \"softmax\": grad_softmax}\n",
    "    # weights = None;\n",
    "    # bias = None;\n",
    "\n",
    "    def __init__(self, input_size, output_size, activation = 'linear'):\n",
    "        self._activation_func = self.activation_map['linear']\n",
    "        self._grad_func = self.grad_map['linear']\n",
    "        self._activation = activation.lower()\n",
    "        # self._weights = np.random.rand(output_size, input_size)\n",
    "        # self._weights = np.random.randn(output_size, input_size) * np.sqrt(2 / input_size)\n",
    "        self._weights = np.random.randn(output_size, input_size) * 1e-2\n",
    "        # self._bias = np.random.rand(output_size, 1)\n",
    "        # self._bias = np.random.randn(output_size, 1) * np.sqrt(2 / input_size)\n",
    "        self._bias = np.random.randn(output_size, 1) * 1e-2\n",
    "        self._cache_w = np.zeros_like(self._weights)\n",
    "        self._cache_b = np.zeros_like(self._bias)\n",
    "        self._init()\n",
    "        return\n",
    "    def _init(self) -> None:\n",
    "        self._activation_func = DenseLayer.activation_map[self._activation] if self._activation in DenseLayer.activation_map else DenseLayer.activation_map['linear']\n",
    "        self._grad_func = DenseLayer.grad_map[self._activation] if self._activation in DenseLayer.grad_map else DenseLayer.grad_map['linear']\n",
    "        return None\n",
    "\n",
    "    @property\n",
    "    def activation_func(self):\n",
    "        return self._activation_func\n",
    "    @property\n",
    "    def grad_func(self):\n",
    "        return self._grad_func\n",
    "\n",
    "    @property\n",
    "    def weights(self):\n",
    "        return self._weights\n",
    "    @weights.setter\n",
    "    def weights(self, val):\n",
    "        self._weights = val\n",
    "    @property\n",
    "    def bias(self):\n",
    "        return self._bias\n",
    "    @bias.setter\n",
    "    def bias(self, val):\n",
    "        self._bias = val\n",
    "\n",
    "    @property\n",
    "    def cache_w(self):\n",
    "        return self._cache_w\n",
    "    @cache_w.setter\n",
    "    def cache_w(self, val):\n",
    "        self._cache_w = val\n",
    "    @property\n",
    "    def cache_b(self):\n",
    "        return self._cache_b\n",
    "    @cache_b.setter\n",
    "    def cache_b(self, val):\n",
    "        self._cache_b = val\n",
    "\n",
    "    pass"
   ]
  },
  {
   "cell_type": "code",
   "execution_count": 87,
   "metadata": {
    "ExecuteTime": {
     "end_time": "2024-10-01T18:20:27.399973Z",
     "start_time": "2024-10-01T18:20:27.388136Z"
    }
   },
   "outputs": [],
   "source": [
    "def fit(X_train, Y_train, epochs=1, learning_rate=1e-3) -> list[DenseLayer]:\n",
    "    \"\"\"\n",
    "    :param X_train: matrix(n, m) n - number of rows, m - features\n",
    "    :param Y_train: vector(n)\n",
    "    :param epoch: \n",
    "    :return: list of weight matrix, from 0\n",
    "    \"\"\"\n",
    "    model: list[DenseLayer] = []\n",
    "    # [32, \"relu\"] [128, \"sigmoid\"] [10, \"softmax\"]\n",
    "    # X_treated shape [m, n]\n",
    "    X_treated = flat_data(X_train).transpose()\n",
    "    if X_treated is not None and len(X_treated) > 0:\n",
    "        input_size = X_treated.shape[0]\n",
    "        denses: list[DenseLayer] = [DenseLayer(input_size=input_size, output_size=32, activation='relu'),\n",
    "                  DenseLayer(input_size=32, output_size=128, activation='relu'),\n",
    "                  DenseLayer(input_size=128, output_size=10, activation='linear')]\n",
    "        # denses: list[DenseLayer] = [DenseLayer(input_size=input_size, output_size=3, activation='relu'),\n",
    "        #         #   DenseLayer(input_size=32, output_size=128, activation='relu'),\n",
    "        #           DenseLayer(input_size=3, output_size=2, activation='linear')]\n",
    "        fwd_A = [np.ndarray, len(denses)]   # ndarray(m, n)\n",
    "        fwd_Z = [np.ndarray, len(denses)]   # ndarray(m, n)\n",
    "        # fwd_b = [float, len(denses)]        # bias\n",
    "\n",
    "        grad_A: list[np.ndarray] = [np.zeros(shape=(1,1))] * len(denses)\n",
    "        grad_Z: list[np.ndarray] = [np.zeros(shape=(1,1))] * len(denses)\n",
    "        # grad_W: list[np.ndarray] = [np.zeros(shape=(1,1))] * len(denses)\n",
    "        # grad_b: list[np.ndarray] = [np.zeros(shape=(1,))] * len(denses)\n",
    "        # fwd_A.append(A)\n",
    "        # print(f\"denses: {len(denses)}\")\n",
    "        for epoch in range(epochs):\n",
    "            fwd_A.clear()\n",
    "            fwd_Z.clear()\n",
    "            A = X_treated\n",
    "            # fwd_Z.append(X_treated)\n",
    "            # Forward propagation\n",
    "            for dense in denses:\n",
    "                # calculate linear\n",
    "                Z = A\n",
    "                # print(f\"dense.weights:{dense.weights.shape} Z:{Z.shape} bias:{dense.bias.shape}\")\n",
    "                Z = dense.weights @ Z + dense.bias\n",
    "                # print(f\"fwd {idx}: {Z}\")\n",
    "                # apply activation function\n",
    "                A = dense.activation_func(Z)    # return ndarray\n",
    "                fwd_A.append(A)\n",
    "                fwd_Z.append(Z)\n",
    "                # fwd_b.append(dense.bias.copy())\n",
    "                pass\n",
    "            # Calculate Cost function\n",
    "            # Here, A has shape(C, input_size)\n",
    "            A = softmax(A)\n",
    "            loss = sparse_categorical_crossentropy(Y_train, A)\n",
    "            if (epoch+1) % 100 == 0:\n",
    "                print(f\"Cost {epoch+1:4d}: {loss}\")\n",
    "                pass\n",
    "            # grad_cost = grad_sparse_categorical_crossentropy(Y_train, A)\n",
    "            # Combine the grad_sparse_categorical_crossentropy and softmax (~ from_digit = True)\n",
    "            # dL/dZ = dA/dZ @ dL/dA = Y_pred - Y_train\n",
    "            # grad_A[-1] = grad_Z[-1] = (fwd_A[-1] - Y_train)/m\n",
    "            # print(f\"grad_Z:{fwd_A[-1].shape} - {Y_train.shape}\")\n",
    "            # grad_Z[-1] = (fwd_A[-1] - Y_train) / Y_train.shape[0]\n",
    "            batch_size = Y_train.shape[0]\n",
    "            grad_Z[-1] = A\n",
    "            grad_Z[-1][Y_train, np.arange(batch_size)] -= 1\n",
    "            grad_Z[-1] /= batch_size\n",
    "            \n",
    "            last_Z = fwd_A[-2] if len(fwd_A) > 1 else X_treated\n",
    "            # print(f\"grad_Z[-1] @ last_Z:{grad_Z[-1].shape} @ {last_Z.shape}\")\n",
    "            denses[-1].weights -= learning_rate * (grad_Z[-1] @ last_Z.T)\n",
    "            denses[-1].bias -= learning_rate * (grad_Z[-1] @ np.ones(shape=(grad_Z[-1].shape[1], 1)))\n",
    "            # denses[-1].weights = (grad_Z[-1] @ last_Z.T)\n",
    "            # denses[-1].bias = (grad_Z[-1] @ np.ones(shape=(grad_Z[-1].shape[1], 1)))\n",
    "            # print(f\"len(grad_Z): {len(grad_Z)}\")\n",
    "            # Back propagation\n",
    "            for idx, dense in reversed(list(enumerate(denses))):\n",
    "                # ignore the last layer\n",
    "                if idx >= len(denses) - 1: continue\n",
    "                # calculate grad of activation function\n",
    "                # calculate dA/dZ = grad_func(A[idx])\n",
    "                # grad_dA_dZ = dense.grad_func(fwd_Z[idx])\n",
    "                # calculate dL/dA = dZ[idx + 1]/dA @ dL/dZ[idx + 1]\n",
    "                # print(f\"in {idx}: {fwd_Z[idx].shape} @ {grad_Z[idx + 1].shape}\")\n",
    "                # grad_A[idx] = fwd_Z[idx] @ grad_Z[idx + 1]\n",
    "                # print(f\"in {idx} weights: {denses[idx+1].weights.shape} grad_Z:{grad_Z[idx + 1].shape}\")\n",
    "                grad_A[idx] = denses[idx+1].weights.T @ grad_Z[idx + 1]\n",
    "                # calculate dL/dZ = dA/dZ @ dL/dA\n",
    "                # print(f\"in {idx} grad_A * grad_func = {grad_A[idx].shape} * {dense.grad_func(fwd_Z[idx]).shape}\")\n",
    "                grad_Z[idx] = grad_A[idx] * dense.grad_func(fwd_Z[idx]) # dense.grad_func(fwd_Z[idx]).T @ grad_A[idx]\n",
    "                # calculate dZ/dW = grad_func(W[idx])\n",
    "                last_Z = fwd_Z[idx-1] if idx > 0 else X_treated\n",
    "                # print(f\"in {idx} grad_dZ_dW = {grad_Z[idx].shape} @ {last_Z.shape}\")\n",
    "                grad_dZ_dW = grad_Z[idx] @ last_Z.T\n",
    "                # calculate dZ/db = grad_func(b[idx])\n",
    "                grad_dZ_db = grad_Z[idx] @ np.ones(shape=(grad_Z[idx].shape[1], 1))\n",
    "                # calculate grad of linear\n",
    "                # grad_Z = \n",
    "                # update W\n",
    "                # print(f\"in {idx} grad_dZ_dW:{grad_dZ_dW.shape}, grad_dZ_db:{grad_dZ_db.shape}\")\n",
    "                # fwd_A[idx] -= learning_rate * grad_dZ_dW \n",
    "                dense.weights, dense.bias = optimize_basicGD(w=dense.weights, b=dense.bias,\n",
    "                    grad_w=grad_dZ_dW, grad_b=grad_dZ_db, learning_rate=learning_rate)\n",
    "                # dense.weights, dense.bias, dense.cache_w, dense.cache_b = optimize_RMSProps(w=dense.weights, b=dense.bias,\n",
    "                #     grad_w=grad_dZ_dW, grad_b=grad_dZ_db, v_w=dense.cache_w, v_b=dense.cache_b,\n",
    "                #     learning_rate=learning_rate, beta=0.9)\n",
    "                # dense.weights -= learning_rate * grad_dZ_dW\n",
    "                # dense.weights -= dw\n",
    "                # update bias\n",
    "                # print(f\"in {idx} dense.bias: {dense.bias.shape}\")\n",
    "                # dense.bias -= learning_rate * grad_dZ_db\n",
    "                # dense.bias -= db\n",
    "                # dense.cache_w, dense.cache_b = v_w, v_b\n",
    "                pass\n",
    "            pass\n",
    "        model.extend(denses)\n",
    "    return model"
   ]
  },
  {
   "cell_type": "code",
   "execution_count": 75,
   "metadata": {
    "ExecuteTime": {
     "end_time": "2024-10-01T18:11:04.934902Z",
     "start_time": "2024-10-01T18:11:04.931990Z"
    }
   },
   "outputs": [],
   "source": [
    "def evaluate(model: list[DenseLayer], X_test, Y_test):\n",
    "    \"\"\"\n",
    "    :param X_test: matrix(n, m) n - number of rows, m - features\n",
    "    :param Y_test: vector(n,)\n",
    "    :return: [lost, accuracy] \n",
    "    \"\"\"\n",
    "    loss = 0.0\n",
    "    accuracy = 0.0\n",
    "    X_test = flat_data(X_test).transpose()\n",
    "    A = X_test\n",
    "    # print(f\"A:{A.shape}\")\n",
    "    for dense in model:\n",
    "        Z = A\n",
    "        Z = dense.weights @ Z + dense.bias\n",
    "        A = dense.activation_func(Z)\n",
    "        pass\n",
    "    Y_pred = softmax(A)\n",
    "    loss = sparse_categorical_crossentropy(Y_test, Y_pred)\n",
    "    # print(f\"{Y_test.shape} {np.argmax(Y_pred[Y_test, np.arange(Y_test.shape[0])], keepdims=True)}\")\n",
    "    Y_ans = np.argmax(Y_pred, axis=0, keepdims=False)\n",
    "    # print(f\"Y_ans:{Y_ans.shape}\")\n",
    "    accuracy = accuracy_score(Y_test, Y_ans)\n",
    "    rs = [loss, accuracy]\n",
    "    return rs"
   ]
  },
  {
   "cell_type": "code",
   "execution_count": 76,
   "metadata": {
    "ExecuteTime": {
     "end_time": "2024-10-01T18:01:17.624058Z",
     "start_time": "2024-10-01T18:01:17.546161Z"
    }
   },
   "outputs": [
    {
     "data": {
      "text/plain": [
       "(12000, 28, 28)"
      ]
     },
     "execution_count": 76,
     "metadata": {},
     "output_type": "execute_result"
    }
   ],
   "source": [
    "# split the train data\n",
    "X_train_20 = train_test_split(X_train, test_size=0.2, random_state=42)[1]\n",
    "Y_train_20 = train_test_split(y_train, test_size=0.2, random_state=42)[1]\n",
    "\n",
    "len(X_train_20)\n",
    "X_train_20.shape"
   ]
  },
  {
   "cell_type": "code",
   "execution_count": 88,
   "metadata": {
    "ExecuteTime": {
     "end_time": "2024-10-01T18:22:00.390410Z",
     "start_time": "2024-10-01T18:20:45.524826Z"
    }
   },
   "outputs": [
    {
     "name": "stdout",
     "output_type": "stream",
     "text": [
      "Cost  100: 9.391463316137688\n",
      "Cost  200: 9.391461008295714\n",
      "Cost  300: 9.391458864851666\n",
      "Cost  400: 9.391456795259208\n",
      "Cost  500: 9.39145476392912\n"
     ]
    }
   ],
   "source": [
    "rs = fit(X_train_20, Y_train_20, epochs=500, learning_rate=1e-3)"
   ]
  },
  {
   "cell_type": "code",
   "execution_count": 42,
   "metadata": {
    "ExecuteTime": {
     "end_time": "2024-10-01T18:01:19.934512Z",
     "start_time": "2024-10-01T18:01:19.861307Z"
    }
   },
   "outputs": [],
   "source": [
    "# split the train data\n",
    "rand_seed = np.random.randint(low=0, high=1000)\n",
    "X_test_20 = train_test_split(X_train, test_size=0.1, random_state=rand_seed)[1]\n",
    "Y_test_20 = train_test_split(y_train, test_size=0.1, random_state=rand_seed)[1]"
   ]
  },
  {
   "cell_type": "code",
   "execution_count": 43,
   "metadata": {
    "ExecuteTime": {
     "end_time": "2024-10-01T18:11:07.680829Z",
     "start_time": "2024-10-01T18:11:07.478667Z"
    }
   },
   "outputs": [
    {
     "data": {
      "text/plain": [
       "[16.115409301666492, 0.08866666666666667]"
      ]
     },
     "execution_count": 43,
     "metadata": {},
     "output_type": "execute_result"
    }
   ],
   "source": [
    "evaluate(rs, X_test_20, Y_test_20)"
   ]
  },
  {
   "cell_type": "markdown",
   "metadata": {},
   "source": [
    "#### Draft:"
   ]
  },
  {
   "cell_type": "code",
   "execution_count": 94,
   "metadata": {},
   "outputs": [],
   "source": [
    "def ManualNN (object):\n",
    "    \"\"\"\n",
    "    Layers:\n",
    "    - (units=32, activation=tf.keras.activations.relu),\n",
    "    - (units=128, activation=tf.keras.activations.relu),\n",
    "    - (units=10, activation=tf.keras.activations.linear)\n",
    "    Loss: softmax + SparseCategoricalCrossEntropy\n",
    "    Optimizer: basicGD\n",
    "    \"\"\"\n",
    "    def __init__(self,input_size, output_size, learning_rate=0.01):\n",
    "        self.list_W = []\n",
    "        self.list_b = []\n",
    "        self.learning_rate = learning_rate\n",
    "        # - (units=32, activation=tf.keras.activations.relu),\n",
    "        W1 = np.random.randn(output_size, input_size) * 1e-2\n",
    "        # - (units=128, activation=tf.keras.activations.relu),\n",
    "        # - (units=10, activation=tf.keras.activations.linear)\n",
    "        return\n",
    "\n",
    "    def linear(self, x): x\n",
    "\n",
    "    def relu(self, x):\n",
    "        return np.maximum(0, x)\n",
    "\n",
    "    def softmax(self, x):\n",
    "        exp_x = np.exp(x - np.max(x, axis=1, keepdims=True))\n",
    "        return exp_x / np.sum(exp_x, axis=1, keepdims=True)\n",
    "    \n",
    "    def forward(self, X):\n",
    "        self.a = []\n",
    "        self.z = [0]    # default z0 is not use\n",
    "        # input layer: a[0] = X\n",
    "        self.a.append(X)\n",
    "        # layer 1\n",
    "        z1 = np.dot(X, self.W1) + self.b1\n",
    "        a1 = self.relu(self.z1)\n",
    "        self.z.append(z1)\n",
    "        self.a.append(a1)\n",
    "        # layer 2\n",
    "        # layer 3\n",
    "        return self._a[0]\n",
    "    \n",
    "    def compute_loss(self, y_true, y_pred):\n",
    "        loss = -np.log(y_pred[range(len(y_true)), y_true])\n",
    "        return np.mean(loss)\n",
    "    \n",
    "    def fit(self, X: np.ndarray, y: np.ndarray, epochs=1, learning_rate=1e-2):\n",
    "        \"\"\"\n",
    "        \n",
    "        \"\"\"\n",
    "        for epoch in range(epochs):\n",
    "            y_pred = self.forward(X_treated)\n",
    "            loss = self.compute_loss(y, y_pred)\n",
    "            self.backward(X, y, y_pred)\n",
    "            if epoch % 100 == 0:\n",
    "                print(f\"Epoch {epoch}, Loss: {loss}\")\n",
    "            pass\n",
    "        return\n",
    "    pass"
   ]
  },
  {
   "cell_type": "code",
   "execution_count": null,
   "metadata": {},
   "outputs": [],
   "source": [
    "X_treated = flat_data(X_train).transpose()\n",
    "nn = ManualNN(inpu)\n",
    "nn.fit(X_treated, Y_train_20, epochs=50, learning_rate=1e-3)"
   ]
  },
  {
   "cell_type": "markdown",
   "metadata": {},
   "source": [
    "\\begin{align}\n",
    "\\frac{\\partial \\mathcal{L} }{ \\partial W^{[2]} } &= \n",
    "\\frac{1}{m}\\left(A^{[2]}-Y\\right)\\left(A^{[1]}\\right)^T,\\\\\n",
    "\\frac{\\partial \\mathcal{L} }{ \\partial b^{[2]} } &= \n",
    "\\frac{1}{m}\\left(A^{[2]}-Y\\right)\\mathbf{1},\\\\\n",
    "\\frac{\\partial \\mathcal{L} }{ \\partial W^{[1]}} &= \\frac{1}{m}\\left(\\left(W^{[2]}\\right)^T \\left(A^{[2]} - Y\\right)\\cdot \\left(A^{[1]}\\cdot\\left(1-A^{[1]}\\right)\\right)\\right)X^T,\\\\\n",
    "\\frac{\\partial \\mathcal{L} }{ \\partial b^{[1]}} &= \\frac{1}{m}\\left(\\left(W^{[2]}\\right)^T \\left(A^{[2]} - Y\\right)\\cdot \\left(A^{[1]}\\cdot\\left(1-A^{[1]}\\right)\\right)\\right)\\mathbf{1},\\\\\n",
    "\\tag{15}\n",
    "\\end{align}"
   ]
  },
  {
   "cell_type": "code",
   "execution_count": null,
   "metadata": {
    "ExecuteTime": {
     "end_time": "2024-10-01T17:25:35.678897Z",
     "start_time": "2024-10-01T17:25:35.675421Z"
    }
   },
   "outputs": [],
   "source": [
    "a = np.array([[1, 2, 3, 3],\n",
    "              [4, 5, 6, 6],\n",
    "              [7, 8, 9, 9]])\n",
    "b = np.array([1, 2, 3])\n",
    "a[np.arange(a.shape[0]), b]\n",
    "# a"
   ]
  },
  {
   "cell_type": "code",
   "execution_count": 89,
   "metadata": {},
   "outputs": [],
   "source": [
    "# Sample\n",
    "model = tf.keras.models.Sequential(layers=[\n",
    "    tf.keras.layers.Flatten(input_shape=(28, 28,)),\n",
    "    tf.keras.layers.Dense(units=32, activation=tf.keras.activations.relu),\n",
    "    tf.keras.layers.Dense(units=128, activation=tf.keras.activations.relu),\n",
    "    # tf.keras.layers.Dropout(rate=0.2),\n",
    "    tf.keras.layers.Dense(units=10, activation=tf.keras.activations.linear)\n",
    "    # tf.keras.layers.Dense(units=10, activation=tf.keras.activations.softmax)\n",
    "])\n",
    "loss_fn = tf.keras.losses.SparseCategoricalCrossentropy(from_logits=True)\n",
    "# loss_fn = tf.keras.losses.SparseCategoricalCrossentropy(from_logits=False)\n",
    "model.compile(optimizer=tf.keras.optimizers.RMSprop(learning_rate=1e-3),\n",
    "              loss=loss_fn,\n",
    "              metrics=[\"accuracy\"])"
   ]
  },
  {
   "cell_type": "code",
   "execution_count": 90,
   "metadata": {},
   "outputs": [
    {
     "data": {
      "text/plain": [
       "12000"
      ]
     },
     "execution_count": 90,
     "metadata": {},
     "output_type": "execute_result"
    }
   ],
   "source": [
    "# split the train data\n",
    "X_train_20 = train_test_split(X_train, test_size=0.2, random_state=42)[1]\n",
    "Y_train_20 = train_test_split(y_train, test_size=0.2, random_state=42)[1]\n",
    "\n",
    "len(X_train_20)"
   ]
  },
  {
   "cell_type": "code",
   "execution_count": 91,
   "metadata": {},
   "outputs": [
    {
     "name": "stdout",
     "output_type": "stream",
     "text": [
      "Epoch 1/50\n",
      "375/375 [==============================] - 1s 1ms/step - loss: 0.5738 - accuracy: 0.8436\n",
      "Epoch 2/50\n",
      "375/375 [==============================] - 1s 1ms/step - loss: 0.2751 - accuracy: 0.9199\n",
      "Epoch 3/50\n",
      "375/375 [==============================] - 1s 2ms/step - loss: 0.2132 - accuracy: 0.9373\n",
      "Epoch 4/50\n",
      "375/375 [==============================] - 1s 2ms/step - loss: 0.1741 - accuracy: 0.9488\n",
      "Epoch 5/50\n",
      "375/375 [==============================] - 1s 1ms/step - loss: 0.1460 - accuracy: 0.9544\n",
      "Epoch 6/50\n",
      "375/375 [==============================] - 1s 1ms/step - loss: 0.1259 - accuracy: 0.9610\n",
      "Epoch 7/50\n",
      "375/375 [==============================] - 1s 1ms/step - loss: 0.1060 - accuracy: 0.9672\n",
      "Epoch 8/50\n",
      "375/375 [==============================] - 1s 2ms/step - loss: 0.0930 - accuracy: 0.9711\n",
      "Epoch 9/50\n",
      "375/375 [==============================] - 1s 1ms/step - loss: 0.0799 - accuracy: 0.9737\n",
      "Epoch 10/50\n",
      "375/375 [==============================] - 1s 1ms/step - loss: 0.0701 - accuracy: 0.9782\n",
      "Epoch 11/50\n",
      "375/375 [==============================] - 1s 1ms/step - loss: 0.0611 - accuracy: 0.9801\n",
      "Epoch 12/50\n",
      "375/375 [==============================] - 1s 2ms/step - loss: 0.0519 - accuracy: 0.9830\n",
      "Epoch 13/50\n",
      "375/375 [==============================] - 1s 1ms/step - loss: 0.0460 - accuracy: 0.9855\n",
      "Epoch 14/50\n",
      "375/375 [==============================] - 1s 2ms/step - loss: 0.0395 - accuracy: 0.9877\n",
      "Epoch 15/50\n",
      "375/375 [==============================] - 1s 1ms/step - loss: 0.0351 - accuracy: 0.9893\n",
      "Epoch 16/50\n",
      "375/375 [==============================] - 1s 2ms/step - loss: 0.0305 - accuracy: 0.9909\n",
      "Epoch 17/50\n",
      "375/375 [==============================] - 1s 1ms/step - loss: 0.0252 - accuracy: 0.9916\n",
      "Epoch 18/50\n",
      "375/375 [==============================] - 1s 1ms/step - loss: 0.0216 - accuracy: 0.9935\n",
      "Epoch 19/50\n",
      "375/375 [==============================] - 0s 1ms/step - loss: 0.0182 - accuracy: 0.9937\n",
      "Epoch 20/50\n",
      "375/375 [==============================] - 1s 1ms/step - loss: 0.0157 - accuracy: 0.9951\n",
      "Epoch 21/50\n",
      "375/375 [==============================] - 1s 1ms/step - loss: 0.0135 - accuracy: 0.9961\n",
      "Epoch 22/50\n",
      "375/375 [==============================] - 1s 1ms/step - loss: 0.0116 - accuracy: 0.9965\n",
      "Epoch 23/50\n",
      "375/375 [==============================] - 1s 1ms/step - loss: 0.0110 - accuracy: 0.9964\n",
      "Epoch 24/50\n",
      "375/375 [==============================] - 1s 1ms/step - loss: 0.0077 - accuracy: 0.9981\n",
      "Epoch 25/50\n",
      "375/375 [==============================] - 1s 2ms/step - loss: 0.0103 - accuracy: 0.9974\n",
      "Epoch 26/50\n",
      "375/375 [==============================] - 1s 2ms/step - loss: 0.0068 - accuracy: 0.9981\n",
      "Epoch 27/50\n",
      "375/375 [==============================] - 1s 1ms/step - loss: 0.0054 - accuracy: 0.9983\n",
      "Epoch 28/50\n",
      "375/375 [==============================] - 0s 1ms/step - loss: 0.0057 - accuracy: 0.9983\n",
      "Epoch 29/50\n",
      "375/375 [==============================] - 1s 1ms/step - loss: 0.0044 - accuracy: 0.9987\n",
      "Epoch 30/50\n",
      "375/375 [==============================] - 1s 2ms/step - loss: 0.0039 - accuracy: 0.9992\n",
      "Epoch 31/50\n",
      "375/375 [==============================] - 1s 2ms/step - loss: 0.0049 - accuracy: 0.9983\n",
      "Epoch 32/50\n",
      "375/375 [==============================] - 1s 2ms/step - loss: 0.0030 - accuracy: 0.9991\n",
      "Epoch 33/50\n",
      "375/375 [==============================] - 1s 3ms/step - loss: 0.0031 - accuracy: 0.9992\n",
      "Epoch 34/50\n",
      "375/375 [==============================] - 1s 3ms/step - loss: 0.0019 - accuracy: 0.9994\n",
      "Epoch 35/50\n",
      "375/375 [==============================] - 1s 2ms/step - loss: 0.0039 - accuracy: 0.9991\n",
      "Epoch 36/50\n",
      "375/375 [==============================] - 1s 2ms/step - loss: 0.0031 - accuracy: 0.9989\n",
      "Epoch 37/50\n",
      "375/375 [==============================] - 1s 2ms/step - loss: 0.0016 - accuracy: 0.9994\n",
      "Epoch 38/50\n",
      "375/375 [==============================] - 1s 2ms/step - loss: 0.0024 - accuracy: 0.9993\n",
      "Epoch 39/50\n",
      "375/375 [==============================] - 1s 2ms/step - loss: 0.0026 - accuracy: 0.9992\n",
      "Epoch 40/50\n",
      "375/375 [==============================] - 1s 2ms/step - loss: 0.0025 - accuracy: 0.9993\n",
      "Epoch 41/50\n",
      "375/375 [==============================] - 1s 2ms/step - loss: 0.0022 - accuracy: 0.9993\n",
      "Epoch 42/50\n",
      "375/375 [==============================] - 1s 2ms/step - loss: 8.6722e-04 - accuracy: 0.9998\n",
      "Epoch 43/50\n",
      "375/375 [==============================] - 1s 2ms/step - loss: 0.0013 - accuracy: 0.9995\n",
      "Epoch 44/50\n",
      "375/375 [==============================] - 1s 2ms/step - loss: 0.0021 - accuracy: 0.9994\n",
      "Epoch 45/50\n",
      "375/375 [==============================] - 1s 3ms/step - loss: 0.0018 - accuracy: 0.9994\n",
      "Epoch 46/50\n",
      "375/375 [==============================] - 1s 2ms/step - loss: 6.2923e-04 - accuracy: 0.9998\n",
      "Epoch 47/50\n",
      "375/375 [==============================] - 1s 2ms/step - loss: 0.0022 - accuracy: 0.9993\n",
      "Epoch 48/50\n",
      "375/375 [==============================] - 1s 2ms/step - loss: 8.0261e-04 - accuracy: 0.9998\n",
      "Epoch 49/50\n",
      "375/375 [==============================] - 1s 3ms/step - loss: 0.0014 - accuracy: 0.9995\n",
      "Epoch 50/50\n",
      "375/375 [==============================] - 1s 3ms/step - loss: 0.0011 - accuracy: 0.9997\n"
     ]
    }
   ],
   "source": [
    "rs = model.fit(x=X_train_20, y=Y_train_20, epochs=50, batch_size=None, workers=1, use_multiprocessing=False)"
   ]
  },
  {
   "cell_type": "code",
   "execution_count": 92,
   "metadata": {},
   "outputs": [],
   "source": [
    "rand_seed = np.random.randint(low=0, high=1000)\n",
    "X_test_20 = train_test_split(X_train, test_size=0.8, random_state=rand_seed)[1]\n",
    "Y_test_20 = train_test_split(y_train, test_size=0.8, random_state=rand_seed)[1]"
   ]
  },
  {
   "cell_type": "code",
   "execution_count": 93,
   "metadata": {},
   "outputs": [
    {
     "name": "stdout",
     "output_type": "stream",
     "text": [
      "1500/1500 - 2s - loss: 0.4582 - accuracy: 0.9595 - 2s/epoch - 1ms/step\n"
     ]
    },
    {
     "data": {
      "text/plain": [
       "[0.458222895860672, 0.9595416784286499]"
      ]
     },
     "execution_count": 93,
     "metadata": {},
     "output_type": "execute_result"
    }
   ],
   "source": [
    "rs = model.evaluate(X_test_20,  Y_test_20, verbose=2)\n",
    "rs  # [lost, accuracy]"
   ]
  },
  {
   "cell_type": "markdown",
   "metadata": {},
   "source": []
  },
  {
   "cell_type": "code",
   "execution_count": null,
   "metadata": {},
   "outputs": [],
   "source": [
    "def show_image(img_data: np.ndarray) -> tuple:\n",
    "    fig, axes = plt.subplots(figsize=(1.60, 1.20))\n",
    "    axes.imshow(X=img_data, cmap=\"gray\")\n",
    "    return fig, axes\n",
    "\n",
    "# print(y_test[5854])\n",
    "show_image(X_test[4823])\n",
    "plt.show()"
   ]
  },
  {
   "cell_type": "code",
   "execution_count": null,
   "metadata": {},
   "outputs": [],
   "source": [
    "show_image(X_train[0])"
   ]
  },
  {
   "cell_type": "markdown",
   "metadata": {},
   "source": []
  },
  {
   "cell_type": "markdown",
   "metadata": {},
   "source": [
    "### 5.2. Linear and Activation Function:"
   ]
  },
  {
   "cell_type": "markdown",
   "metadata": {},
   "source": [
    "### 5.3. Loss/Cost Function"
   ]
  },
  {
   "cell_type": "markdown",
   "metadata": {},
   "source": [
    "### 5.4. Optimizer"
   ]
  },
  {
   "cell_type": "code",
   "execution_count": null,
   "metadata": {},
   "outputs": [],
   "source": [
    "import tensorflow as tf\n",
    "print(\"Num GPUs Available: \", len(tf.config.list_physical_devices('GPU')))\n",
    "\n",
    "# resolver = tf.distribute.cluster_resolver.TPUClusterResolver(tpu='')\n",
    "# tf.config.experimental_connect_to_cluster(resolver)\n",
    "# # This is the TPU initialization code that has to be at the beginning.\n",
    "# tf.tpu.experimental.initialize_tpu_system(resolver)\n",
    "# print(\"All devices: \", tf.config.list_logical_devices('TPU'))"
   ]
  },
  {
   "cell_type": "code",
   "execution_count": null,
   "metadata": {},
   "outputs": [],
   "source": []
  },
  {
   "cell_type": "code",
   "execution_count": null,
   "metadata": {},
   "outputs": [],
   "source": []
  }
 ],
 "metadata": {
  "kernelspec": {
   "display_name": "learn-python",
   "language": "python",
   "name": "python3"
  },
  "language_info": {
   "codemirror_mode": {
    "name": "ipython",
    "version": 3
   },
   "file_extension": ".py",
   "mimetype": "text/x-python",
   "name": "python",
   "nbconvert_exporter": "python",
   "pygments_lexer": "ipython3",
   "version": "3.10.13"
  },
  "orig_nbformat": 4
 },
 "nbformat": 4,
 "nbformat_minor": 2
}
