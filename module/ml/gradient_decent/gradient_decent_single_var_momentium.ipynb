{
 "cells": [
  {
   "attachments": {},
   "cell_type": "markdown",
   "metadata": {},
   "source": [
    "# Gradient decent"
   ]
  },
  {
   "cell_type": "code",
   "execution_count": 11,
   "metadata": {},
   "outputs": [],
   "source": [
    "import math\n",
    "import numpy as np\n",
    "import matplotlib.pyplot as plt\n",
    "import time\n",
    "from IPython import display"
   ]
  },
  {
   "attachments": {},
   "cell_type": "markdown",
   "metadata": {},
   "source": [
    "## 1. Declare function\n",
    "- Cost funtion: $J(x)=0.15x^2+{\\pi sin(x)\\over3}$\n",
    "- Gradient: $J'(x)=0.3x+{\\pi cos(x)\\over3}$\n",
    "- At *i-th* step: $x[i+1]=x[i]-\\alpha*0.3x+{\\pi cos(x)\\over3}$"
   ]
  },
  {
   "cell_type": "code",
   "execution_count": 12,
   "metadata": {
    "ExecuteTime": {
     "end_time": "2023-07-06T19:15:05.238089Z",
     "start_time": "2023-07-06T19:15:05.237052Z"
    },
    "collapsed": false
   },
   "outputs": [],
   "source": [
    "def cost(x: float) -> float:\n",
    "    return 0.15 * x**2 + math.pi*math.sin(x)/3"
   ]
  },
  {
   "cell_type": "code",
   "execution_count": 13,
   "metadata": {
    "ExecuteTime": {
     "end_time": "2023-07-06T19:16:06.852980Z",
     "start_time": "2023-07-06T19:16:06.840633Z"
    },
    "collapsed": false
   },
   "outputs": [],
   "source": [
    "def grad_normal(x: float) -> float:\n",
    "    return 0.3 * x + math.pi * math.cos(x)/3\n",
    "\n",
    "def grad(x: float) -> float:\n",
    "    return grad_normal(x)"
   ]
  },
  {
   "cell_type": "code",
   "execution_count": 14,
   "metadata": {
    "ExecuteTime": {
     "end_time": "2023-07-06T19:30:53.717291Z",
     "start_time": "2023-07-06T19:30:53.711327Z"
    },
    "collapsed": false
   },
   "outputs": [],
   "source": [
    "def plot(x: np.ndarray, y: np.ndarray, x0: float, y0: float, x1: float, y1: float) -> None:\n",
    "    plt.plot(x, y, 'b-', x0, y0, 'ro', x1, y1, 'yo', [x0, x1], [y0, y1], 'g-')\n",
    "    return"
   ]
  },
  {
   "attachments": {},
   "cell_type": "markdown",
   "metadata": {},
   "source": [
    "### 1. Normal Gradient Descent"
   ]
  },
  {
   "cell_type": "code",
   "execution_count": 15,
   "metadata": {
    "ExecuteTime": {
     "end_time": "2023-07-06T20:00:51.927994Z",
     "start_time": "2023-07-06T20:00:51.924755Z"
    },
    "collapsed": false
   },
   "outputs": [],
   "source": [
    "def grad_desc_normal(eta, x0):\n",
    "    stop_threadhold = 0.001\n",
    "    x = [x0]\n",
    "    it = 0\n",
    "    y = [cost(x0)]\n",
    "    x_ = np.arange(-16, 16, 0.01)\n",
    "    y_ = np.asarray([cost(i) for i in x_], dtype=float)\n",
    "    plt.ion()\n",
    "    for it in range(101):\n",
    "        x_new= x[-1] - eta*grad(x[-1])\n",
    "        \n",
    "        if abs(grad(x_new)) < stop_threadhold:#1e-3:\n",
    "            break\n",
    "        x.append(x_new)\n",
    "        y.append(cost(x_new))\n",
    "\n",
    "    for i in range(1, len(x)):\n",
    "        plt.clf()\n",
    "        plot(x_, y_, x[i-1], y[i-1], x[i], y[i])\n",
    "        display.clear_output(wait=True)\n",
    "        display.display(plt.gcf())\n",
    "        time.sleep(0.1)\n",
    "        pass\n",
    "    plt.close()\n",
    "    return x, it"
   ]
  },
  {
   "attachments": {},
   "cell_type": "markdown",
   "metadata": {},
   "source": [
    "### 2. Momentium Gradient Descent"
   ]
  },
  {
   "cell_type": "code",
   "execution_count": 16,
   "metadata": {
    "ExecuteTime": {
     "end_time": "2023-07-06T20:03:12.102586Z",
     "start_time": "2023-07-06T20:03:12.087653Z"
    },
    "collapsed": false
   },
   "outputs": [],
   "source": [
    "def grad_desc_momentium(eta, x0):\n",
    "    stop_threadhold = 0.001\n",
    "    gamma = 0.9\n",
    "    x = [x0]\n",
    "    it = 0\n",
    "    y = [cost(x0)]\n",
    "    x_ = np.arange(-16, 16, 0.01)\n",
    "    y_ = np.asarray([cost(i) for i in x_], dtype=float)\n",
    "    plt.ion()\n",
    "    for it in range(101):\n",
    "        if len(x) > 1:\n",
    "            # normal momentium\n",
    "            # x_new= x[-1] - (gamma*abs(x[-1] - x[-2]) + eta*grad(x[-1]))\n",
    "            # with Nesterov accelerated gradient NAG\n",
    "            x_new= x[-1] - (gamma*abs(x[-1] - x[-2]) + eta*grad(x[-1] - gamma*abs(x[-1] - x[-2])))\n",
    "        else:\n",
    "            x_new=x[-1] - gamma * eta*grad(x[-1])\n",
    "        # x_new = gamma * x[-1] - (np.sign(x[-1]))*math.pow(math.e, math.log(eta) + math.log(abs(grad(x[-1]))) )\n",
    "        # if (len(x) > 1 and abs(grad(x_new)) < (abs(grad(x[-1])) - abs(grad(x[-2])))/2) or abs(grad(x_new)) < stop_threadhold: #1e-3:\n",
    "        if abs(grad(x_new)) < stop_threadhold: #1e-3:\n",
    "            break\n",
    "        x.append(x_new)\n",
    "        y.append(cost(x_new))\n",
    "    \n",
    "    for i in range(1, len(x)):\n",
    "        plt.clf()\n",
    "        plot(x_, y_, x[i-1], y[i-1], x[i], y[i])\n",
    "        display.clear_output(wait=True)\n",
    "        display.display(plt.gcf())\n",
    "        time.sleep(0.05)\n",
    "        pass\n",
    "    plt.close()\n",
    "    return x, it"
   ]
  },
  {
   "attachments": {},
   "cell_type": "markdown",
   "metadata": {
    "collapsed": false
   },
   "source": [
    "## 2.Test"
   ]
  },
  {
   "attachments": {},
   "cell_type": "markdown",
   "metadata": {},
   "source": [
    "### 1. Normal"
   ]
  },
  {
   "cell_type": "code",
   "execution_count": 17,
   "metadata": {},
   "outputs": [
    {
     "data": {
      "image/png": "[encoded data removed]",
      "text/plain": [
       "<Figure size 640x480 with 1 Axes>"
      ]
     },
     "metadata": {},
     "output_type": "display_data"
    },
    {
     "name": "stdout",
     "output_type": "stream",
     "text": [
      "Normal x1 = -1.216007, cost = -0.760177, obtained after 35 iterations\n",
      "Normal x2 = 3.388386, cost = 1.466348, obtained after 43 iterations\n"
     ]
    }
   ],
   "source": [
    "eta = .3\n",
    "x0=-15\n",
    "(x1, it1) = grad_desc_normal(eta=eta, x0=x0)\n",
    "# plt.show()\n",
    "time.sleep(3)\n",
    "x0=15\n",
    "(x2, it2) = grad_desc_normal(eta=eta, x0=x0)\n",
    "# plt.show()\n",
    "print('Normal x1 = %f, cost = %f, obtained after %d iterations'%(x1[-1], cost(x1[-1]), it1))\n",
    "print('Normal x2 = %f, cost = %f, obtained after %d iterations'%(x2[-1], cost(x2[-1]), it2))"
   ]
  },
  {
   "attachments": {},
   "cell_type": "markdown",
   "metadata": {},
   "source": [
    "### 2. Momentium"
   ]
  },
  {
   "cell_type": "code",
   "execution_count": 18,
   "metadata": {
    "collapsed": false
   },
   "outputs": [
    {
     "data": {
      "image/png": "[encoded data removed]",
      "text/plain": [
       "<Figure size 640x480 with 1 Axes>"
      ]
     },
     "metadata": {},
     "output_type": "display_data"
    },
    {
     "name": "stdout",
     "output_type": "stream",
     "text": [
      "Momentium x1 = -1.216077, cost = -0.760177, obtained after 66 iterations\n",
      "Momentium x2 = -1.216082, cost = -0.760177, obtained after 48 iterations\n"
     ]
    }
   ],
   "source": [
    "eta =.3\n",
    "x0=-15\n",
    "(x1, it1) = grad_desc_momentium(eta=eta, x0=x0)\n",
    "# plt.show()\n",
    "x0=15\n",
    "(x2, it2) = grad_desc_momentium(eta=eta, x0=x0)\n",
    "# plt.show()\n",
    "print('Momentium x1 = %f, cost = %f, obtained after %d iterations'%(x1[-1], cost(x1[-1]), it1))\n",
    "print('Momentium x2 = %f, cost = %f, obtained after %d iterations'%(x2[-1], cost(x2[-1]), it2))"
   ]
  }
 ],
 "metadata": {
  "kernelspec": {
   "display_name": "learn-python",
   "language": "python",
   "name": "python3"
  },
  "language_info": {
   "codemirror_mode": {
    "name": "ipython",
    "version": 3
   },
   "file_extension": ".py",
   "mimetype": "text/x-python",
   "name": "python",
   "nbconvert_exporter": "python",
   "pygments_lexer": "ipython3",
   "version": "3.11.3"
  },
  "orig_nbformat": 4
 },
 "nbformat": 4,
 "nbformat_minor": 2
}
