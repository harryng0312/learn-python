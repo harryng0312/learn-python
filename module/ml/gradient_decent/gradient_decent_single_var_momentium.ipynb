{
 "cells": [
  {
   "attachments": {},
   "cell_type": "markdown",
   "metadata": {},
   "source": [
    "# Gradient decent"
   ]
  },
  {
   "cell_type": "code",
   "execution_count": 2,
   "metadata": {
    "ExecuteTime": {
     "end_time": "2023-07-08T14:53:42.079674Z",
     "start_time": "2023-07-08T14:53:41.738726Z"
    }
   },
   "outputs": [],
   "source": [
    "import math\n",
    "import numpy as np\n",
    "import matplotlib\n",
    "import matplotlib.pyplot as plt\n",
    "import matplotlib.animation as animation\n",
    "import time\n",
    "from IPython import display\n",
    "matplotlib.use(\"TkAgg\")"
   ]
  },
  {
   "attachments": {},
   "cell_type": "markdown",
   "metadata": {},
   "source": [
    "## 1. Declare function\n",
    "- Cost funtion: $J(x)=0.15x^2+{\\pi sin(x)\\over3}$\n",
    "- Gradient: $J'(x)=0.3x+{\\pi cos(x)\\over3}$\n",
    "- At *i-th* step: $x[i+1]=x[i]-\\alpha*0.3x+{\\pi cos(x)\\over3}$"
   ]
  },
  {
   "cell_type": "code",
   "execution_count": 3,
   "metadata": {
    "ExecuteTime": {
     "end_time": "2023-07-08T14:53:42.084111Z",
     "start_time": "2023-07-08T14:53:42.080693Z"
    },
    "collapsed": false
   },
   "outputs": [],
   "source": [
    "def cost(x: float) -> float:\n",
    "    return 0.15 * x**2 + math.pi*math.sin(x)/3"
   ]
  },
  {
   "cell_type": "code",
   "execution_count": 4,
   "metadata": {
    "ExecuteTime": {
     "end_time": "2023-07-08T14:53:42.086549Z",
     "start_time": "2023-07-08T14:53:42.083901Z"
    },
    "collapsed": false
   },
   "outputs": [],
   "source": [
    "def grad_normal(x: float) -> float:\n",
    "    return 0.3 * x + math.pi * math.cos(x)/3\n",
    "\n",
    "def grad(x: float) -> float:\n",
    "    return grad_normal(x)"
   ]
  },
  {
   "attachments": {},
   "cell_type": "markdown",
   "metadata": {},
   "source": [
    "### 1. Normal Gradient Descent"
   ]
  },
  {
   "cell_type": "code",
   "execution_count": 5,
   "metadata": {
    "ExecuteTime": {
     "end_time": "2023-07-08T15:57:54.254321Z",
     "start_time": "2023-07-08T15:57:54.251022Z"
    },
    "collapsed": false
   },
   "outputs": [],
   "source": [
    "def grad_desc_normal(eta, x0) -> tuple:\n",
    "    stop_threadhold = 0.001\n",
    "    x = [x0]\n",
    "    it = 0\n",
    "    y = [cost(x0)]\n",
    "    for it in range(101):\n",
    "        x_new= x[-1] - eta*grad(x[-1])\n",
    "        if abs(grad(x_new)) < stop_threadhold:#1e-3:\n",
    "            break\n",
    "        x.append(x_new)\n",
    "        y.append(cost(x_new))\n",
    "    return x, y, it"
   ]
  },
  {
   "attachments": {},
   "cell_type": "markdown",
   "metadata": {},
   "source": [
    "### 2. Momentium Gradient Descent"
   ]
  },
  {
   "cell_type": "code",
   "execution_count": 6,
   "metadata": {
    "ExecuteTime": {
     "end_time": "2023-07-08T15:29:47.039195Z",
     "start_time": "2023-07-08T15:29:47.035911Z"
    },
    "collapsed": false
   },
   "outputs": [],
   "source": [
    "def grad_desc_momentium(eta, x0) -> tuple:\n",
    "    stop_threadhold = 0.001\n",
    "    gamma = 0.9\n",
    "    x = [x0]\n",
    "    it = 0\n",
    "    y = [cost(x0)]\n",
    "    for it in range(101):\n",
    "        if len(x) > 1:\n",
    "            # normal momentium\n",
    "            # x_new= x[-1] - (gamma*abs(x[-1] - x[-2]) + eta*grad(x[-1]))\n",
    "            # with Nesterov accelerated gradient NAG\n",
    "            x_new= x[-1] - (gamma*abs(x[-1] - x[-2]) + eta*grad(x[-1] - gamma*abs(x[-1] - x[-2])))\n",
    "        else:\n",
    "            x_new=x[-1] - gamma * eta*grad(x[-1])\n",
    "        # x_new = gamma * x[-1] - (np.sign(x[-1]))*math.pow(math.e, math.log(eta) + math.log(abs(grad(x[-1]))) )\n",
    "        # if (len(x) > 1 and abs(grad(x_new)) < (abs(grad(x[-1])) - abs(grad(x[-2])))/2) or abs(grad(x_new)) < stop_threadhold: #1e-3:\n",
    "        if abs(grad(x_new)) < stop_threadhold: #1e-3:\n",
    "            break\n",
    "        x.append(x_new)\n",
    "        y.append(cost(x_new))\n",
    "    return x, y, it"
   ]
  },
  {
   "attachments": {},
   "cell_type": "markdown",
   "metadata": {
    "collapsed": false
   },
   "source": [
    "## 2.Test"
   ]
  },
  {
   "cell_type": "code",
   "execution_count": 7,
   "metadata": {
    "ExecuteTime": {
     "end_time": "2023-07-08T15:51:44.098928Z",
     "start_time": "2023-07-08T15:51:44.097105Z"
    },
    "collapsed": false
   },
   "outputs": [],
   "source": [
    "def update_line(i: int, artist: plt.Line2D, x: tuple, y: tuple) -> None:\n",
    "    artist.set_xdata(x)\n",
    "    artist.set_ydata(y)\n",
    "    return"
   ]
  },
  {
   "attachments": {},
   "cell_type": "markdown",
   "metadata": {},
   "source": [
    "### 1. Normal"
   ]
  },
  {
   "cell_type": "code",
   "execution_count": 8,
   "metadata": {
    "ExecuteTime": {
     "end_time": "2023-07-08T16:03:19.748605Z",
     "start_time": "2023-07-08T16:03:19.725826Z"
    }
   },
   "outputs": [
    {
     "name": "stdout",
     "output_type": "stream",
     "text": [
      "Normal x1 = -1.216007, cost = -0.760177, obtained after 35 iterations\n",
      "Normal x2 = 3.388386, cost = 1.466348, obtained after 43 iterations\n"
     ]
    }
   ],
   "source": [
    "eta =.3\n",
    "x0_1=-15\n",
    "(x1, y1, it1) = grad_desc_normal(eta=eta, x0=x0_1)\n",
    "x0_2=15\n",
    "(x2, y2, it2) = grad_desc_normal(eta=eta, x0=x0_2)\n",
    "x_ = np.arange(-16, 16, 0.01)\n",
    "y_ = np.asarray([cost(i) for i in x_], dtype=float)\n",
    "# plotting\n",
    "fig, axes = plt.subplots(nrows=1, ncols=2, figsize=(12.80, 4.80))\n",
    "lines1 = axes[0].plot(x_, y_, 'b-', x1[0], y1[0], 'ro', x1[1], y1[1], 'yo', [x1[0], x1[1]], [y1[0], y1[1]], 'y-')\n",
    "lines2 = axes[1].plot(x_, y_, 'b-', x2[0], y2[0], 'ro', x2[1], y2[1], 'yo', [x2[0], x2[1]], [y2[0], y2[1]], 'y-')\n",
    "\n",
    "def update1(i: int) -> None:\n",
    "    update_line(i, lines1[1], (x1[i],), (y1[i],))\n",
    "    update_line(i, lines1[2], (x1[i+1],), (y1[i+1],))\n",
    "    update_line(i, lines1[3], (x1[i], x1[i+1],), (y1[i], y1[i+1],))\n",
    "    return\n",
    "\n",
    "def update2(i: int) -> None:\n",
    "    update_line(i, lines2[1], (x2[i],), (y2[i],))\n",
    "    update_line(i, lines2[2], (x2[i+1],), (y2[i+1],))\n",
    "    update_line(i, lines2[3], (x2[i], x2[i+1],), (y2[i], y2[i+1],))\n",
    "    return\n",
    "\n",
    "ani1 = animation.FuncAnimation(fig=fig, func=update1, frames=len(x1)-1, interval=100, repeat=False)\n",
    "ani2 = animation.FuncAnimation(fig=fig, func=update2, frames=len(x2)-1, interval=100, repeat=False)\n",
    "plt.show()\n",
    "print('Normal x1 = %f, cost = %f, obtained after %d iterations'%(x1[-1], cost(x1[-1]), it1))\n",
    "print('Normal x2 = %f, cost = %f, obtained after %d iterations'%(x2[-1], cost(x2[-1]), it2))"
   ]
  },
  {
   "attachments": {},
   "cell_type": "markdown",
   "metadata": {},
   "source": [
    "### 2. Momentium"
   ]
  },
  {
   "cell_type": "code",
   "execution_count": 9,
   "metadata": {
    "ExecuteTime": {
     "end_time": "2023-07-08T16:05:26.734865Z",
     "start_time": "2023-07-08T16:05:26.674940Z"
    },
    "collapsed": false
   },
   "outputs": [
    {
     "name": "stdout",
     "output_type": "stream",
     "text": [
      "Momentium x1 = -1.216077, cost = -0.760177, obtained after 66 iterations\n",
      "Momentium x2 = -1.216082, cost = -0.760177, obtained after 48 iterations\n"
     ]
    }
   ],
   "source": [
    "eta =.3\n",
    "x0_1=-15\n",
    "(x1, y1, it1) = grad_desc_momentium(eta=eta, x0=x0_1)\n",
    "x0_2=15\n",
    "(x2, y2, it2) = grad_desc_momentium(eta=eta, x0=x0_2)\n",
    "x_ = np.arange(-16, 16, 0.01)\n",
    "y_ = np.asarray([cost(i) for i in x_], dtype=float)\n",
    "# plotting\n",
    "fig, axes = plt.subplots(nrows=1, ncols=2, figsize=(12.80, 4.80))\n",
    "lines1 = axes[0].plot(x_, y_, 'b-', x1[0], y1[0], 'ro', x1[1], y1[1], 'yo', (x1[0], x1[1],), (y1[0], y1[1],), 'y-')\n",
    "lines2 = axes[1].plot(x_, y_, 'b-', x2[0], y2[0], 'ro', x2[1], y2[1], 'yo', (x2[0], x2[1],), (y2[0], y2[1],), 'y-')\n",
    "\n",
    "def update1(i: int) -> None:\n",
    "    update_line(i, lines1[1], (x1[i],), (y1[i],))\n",
    "    update_line(i, lines1[2], (x1[i+1],), (y1[i+1],))\n",
    "    update_line(i, lines1[3], (x1[i], x1[i+1],), (y1[i], y1[i+1],))\n",
    "    return\n",
    "\n",
    "def update2(i: int) -> None:\n",
    "    update_line(i, lines2[1], (x2[i],), (y2[i],))\n",
    "    update_line(i, lines2[2], (x2[i+1],), (y2[i+1],))\n",
    "    update_line(i, lines2[3], (x2[i], x2[i+1],), (y2[i], y2[i+1],))\n",
    "    return\n",
    "\n",
    "ani1 = animation.FuncAnimation(fig=fig, func=update1, frames=len(x1)-1, interval=100, repeat=False)\n",
    "ani2 = animation.FuncAnimation(fig=fig, func=update2, frames=len(x2)-1, interval=100, repeat=False)\n",
    "plt.show()\n",
    "print('Momentium x1 = %f, cost = %f, obtained after %d iterations'%(x1[-1], cost(x1[-1]), it1))\n",
    "print('Momentium x2 = %f, cost = %f, obtained after %d iterations'%(x2[-1], cost(x2[-1]), it2))"
   ]
  }
 ],
 "metadata": {
  "kernelspec": {
   "display_name": "learn-python",
   "language": "python",
   "name": "python3"
  },
  "language_info": {
   "codemirror_mode": {
    "name": "ipython",
    "version": 3
   },
   "file_extension": ".py",
   "mimetype": "text/x-python",
   "name": "python",
   "nbconvert_exporter": "python",
   "pygments_lexer": "ipython3",
   "version": "3.11.3"
  },
  "orig_nbformat": 4
 },
 "nbformat": 4,
 "nbformat_minor": 2
}
