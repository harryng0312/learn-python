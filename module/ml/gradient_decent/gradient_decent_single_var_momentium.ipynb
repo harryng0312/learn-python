{
 "cells": [
  {
   "cell_type": "markdown",
   "metadata": {},
   "source": [
    "# Gradient decent"
   ]
  },
  {
   "cell_type": "code",
   "execution_count": 13,
   "metadata": {
    "ExecuteTime": {
     "end_time": "2023-07-08T14:53:42.079674Z",
     "start_time": "2023-07-08T14:53:41.738726Z"
    }
   },
   "outputs": [
    {
     "ename": "ImportError",
     "evalue": "Cannot load backend 'TkCairo' which requires the 'tk' interactive framework, as 'wx' is currently running",
     "output_type": "error",
     "traceback": [
      "\u001b[0;31m---------------------------------------------------------------------------\u001b[0m",
      "\u001b[0;31mImportError\u001b[0m                               Traceback (most recent call last)",
      "Cell \u001b[0;32mIn[13], line 15\u001b[0m\n\u001b[1;32m      5\u001b[0m \u001b[39mimport\u001b[39;00m \u001b[39mmatplotlib\u001b[39;00m\u001b[39m.\u001b[39;00m\u001b[39manimation\u001b[39;00m \u001b[39mas\u001b[39;00m \u001b[39manimation\u001b[39;00m\n\u001b[1;32m      7\u001b[0m \u001b[39m# matplotlib.use(\"QTAgg\")\u001b[39;00m\n\u001b[1;32m      8\u001b[0m \u001b[39m# matplotlib.use(\"WebAgg\")\u001b[39;00m\n\u001b[1;32m      9\u001b[0m \u001b[39m# matplotlib.use(\"ipympl\")\u001b[39;00m\n\u001b[0;32m   (...)\u001b[0m\n\u001b[1;32m     13\u001b[0m \n\u001b[1;32m     14\u001b[0m \u001b[39m# matplotlib.use(\"QTCairo\")\u001b[39;00m\n\u001b[0;32m---> 15\u001b[0m matplotlib\u001b[39m.\u001b[39muse(\u001b[39m\"\u001b[39m\u001b[39mTkCairo\u001b[39m\u001b[39m\"\u001b[39m)\n",
      "File \u001b[0;32m~/conda/envs/learn-python/lib/python3.11/site-packages/matplotlib/__init__.py:1233\u001b[0m, in \u001b[0;36muse\u001b[0;34m(backend, force)\u001b[0m\n\u001b[1;32m   1228\u001b[0m \u001b[39mif\u001b[39;00m plt \u001b[39mis\u001b[39;00m \u001b[39mnot\u001b[39;00m \u001b[39mNone\u001b[39;00m:\n\u001b[1;32m   1229\u001b[0m     \u001b[39mtry\u001b[39;00m:\n\u001b[1;32m   1230\u001b[0m         \u001b[39m# we need this import check here to re-raise if the\u001b[39;00m\n\u001b[1;32m   1231\u001b[0m         \u001b[39m# user does not have the libraries to support their\u001b[39;00m\n\u001b[1;32m   1232\u001b[0m         \u001b[39m# chosen backend installed.\u001b[39;00m\n\u001b[0;32m-> 1233\u001b[0m         plt\u001b[39m.\u001b[39mswitch_backend(name)\n\u001b[1;32m   1234\u001b[0m     \u001b[39mexcept\u001b[39;00m \u001b[39mImportError\u001b[39;00m:\n\u001b[1;32m   1235\u001b[0m         \u001b[39mif\u001b[39;00m force:\n",
      "File \u001b[0;32m~/conda/envs/learn-python/lib/python3.11/site-packages/matplotlib/pyplot.py:279\u001b[0m, in \u001b[0;36mswitch_backend\u001b[0;34m(newbackend)\u001b[0m\n\u001b[1;32m    276\u001b[0m     current_framework \u001b[39m=\u001b[39m cbook\u001b[39m.\u001b[39m_get_running_interactive_framework()\n\u001b[1;32m    277\u001b[0m     \u001b[39mif\u001b[39;00m (current_framework \u001b[39mand\u001b[39;00m required_framework\n\u001b[1;32m    278\u001b[0m             \u001b[39mand\u001b[39;00m current_framework \u001b[39m!=\u001b[39m required_framework):\n\u001b[0;32m--> 279\u001b[0m         \u001b[39mraise\u001b[39;00m \u001b[39mImportError\u001b[39;00m(\n\u001b[1;32m    280\u001b[0m             \u001b[39m\"\u001b[39m\u001b[39mCannot load backend \u001b[39m\u001b[39m{!r}\u001b[39;00m\u001b[39m which requires the \u001b[39m\u001b[39m{!r}\u001b[39;00m\u001b[39m interactive \u001b[39m\u001b[39m\"\u001b[39m\n\u001b[1;32m    281\u001b[0m             \u001b[39m\"\u001b[39m\u001b[39mframework, as \u001b[39m\u001b[39m{!r}\u001b[39;00m\u001b[39m is currently running\u001b[39m\u001b[39m\"\u001b[39m\u001b[39m.\u001b[39mformat(\n\u001b[1;32m    282\u001b[0m                 newbackend, required_framework, current_framework))\n\u001b[1;32m    284\u001b[0m \u001b[39m# Load the new_figure_manager() and show() functions from the backend.\u001b[39;00m\n\u001b[1;32m    285\u001b[0m \n\u001b[1;32m    286\u001b[0m \u001b[39m# Classically, backends can directly export these functions.  This should\u001b[39;00m\n\u001b[1;32m    287\u001b[0m \u001b[39m# keep working for backcompat.\u001b[39;00m\n\u001b[1;32m    288\u001b[0m new_figure_manager \u001b[39m=\u001b[39m \u001b[39mgetattr\u001b[39m(backend_mod, \u001b[39m\"\u001b[39m\u001b[39mnew_figure_manager\u001b[39m\u001b[39m\"\u001b[39m, \u001b[39mNone\u001b[39;00m)\n",
      "\u001b[0;31mImportError\u001b[0m: Cannot load backend 'TkCairo' which requires the 'tk' interactive framework, as 'wx' is currently running"
     ]
    }
   ],
   "source": [
    "import math\n",
    "import numpy as np\n",
    "import matplotlib\n",
    "import matplotlib.pyplot as plt\n",
    "import matplotlib.animation as animation\n",
    "\n",
    "# matplotlib.use(\"QTAgg\")\n",
    "# matplotlib.use(\"WebAgg\")\n",
    "# matplotlib.use(\"ipympl\")\n",
    "# matplotlib.use(\"TkAgg\")\n",
    "# matplotlib.use(\"nbAgg\")\n",
    "# matplotlib.use(\"wxAgg\")\n",
    "\n",
    "matplotlib.use(\"QTCairo\")"
   ]
  },
  {
   "cell_type": "markdown",
   "metadata": {},
   "source": [
    "## 1. Declare function\n",
    "- Cost funtion: $J(x)=0.15x^2+{\\pi sin(x)\\over3}$\n",
    "- Gradient: $J'(x)=0.3x+{\\pi cos(x)\\over3}$\n",
    "- At *i-th* step: $x[i+1]=x[i]-\\alpha*0.3x+{\\pi cos(x)\\over3}$"
   ]
  },
  {
   "cell_type": "code",
   "execution_count": 7,
   "metadata": {
    "ExecuteTime": {
     "end_time": "2023-07-08T14:53:42.084111Z",
     "start_time": "2023-07-08T14:53:42.080693Z"
    }
   },
   "outputs": [],
   "source": [
    "def cost(x: float) -> float:\n",
    "    return 0.15 * x**2 + math.pi*math.sin(x)/3"
   ]
  },
  {
   "cell_type": "code",
   "execution_count": 8,
   "metadata": {
    "ExecuteTime": {
     "end_time": "2023-07-08T14:53:42.086549Z",
     "start_time": "2023-07-08T14:53:42.083901Z"
    }
   },
   "outputs": [],
   "source": [
    "def grad_normal(x: float) -> float:\n",
    "    return 0.3 * x + math.pi * math.cos(x)/3\n",
    "\n",
    "def grad(x: float) -> float:\n",
    "    return grad_normal(x)"
   ]
  },
  {
   "cell_type": "markdown",
   "metadata": {},
   "source": [
    "### 1. Normal Gradient Descent"
   ]
  },
  {
   "cell_type": "code",
   "execution_count": 9,
   "metadata": {
    "ExecuteTime": {
     "end_time": "2023-07-08T15:57:54.254321Z",
     "start_time": "2023-07-08T15:57:54.251022Z"
    }
   },
   "outputs": [],
   "source": [
    "def grad_desc_normal(eta, x0) -> tuple:\n",
    "    stop_threadhold = 0.001\n",
    "    x = [x0]\n",
    "    it = 0\n",
    "    y = [cost(x0)]\n",
    "    for it in range(101):\n",
    "        x_new= x[-1] - eta*grad(x[-1])\n",
    "        if abs(grad(x_new)) < stop_threadhold:#1e-3:\n",
    "            break\n",
    "        x.append(x_new)\n",
    "        y.append(cost(x_new))\n",
    "    return x, y, it"
   ]
  },
  {
   "cell_type": "markdown",
   "metadata": {},
   "source": [
    "### 2. Momentium Gradient Descent"
   ]
  },
  {
   "cell_type": "code",
   "execution_count": 10,
   "metadata": {
    "ExecuteTime": {
     "end_time": "2023-07-08T15:29:47.039195Z",
     "start_time": "2023-07-08T15:29:47.035911Z"
    }
   },
   "outputs": [],
   "source": [
    "def grad_desc_momentium(eta, x0) -> tuple:\n",
    "    stop_threadhold = 0.001\n",
    "    gamma = 0.9\n",
    "    x = [x0]\n",
    "    it = 0\n",
    "    y = [cost(x0)]\n",
    "    for it in range(101):\n",
    "        if len(x) > 1:\n",
    "            # normal momentium\n",
    "            # x_new= x[-1] - (gamma*abs(x[-1] - x[-2]) + eta*grad(x[-1]))\n",
    "            # with Nesterov accelerated gradient NAG\n",
    "            x_new= x[-1] - (gamma*abs(x[-1] - x[-2]) + eta*grad(x[-1] - gamma*abs(x[-1] - x[-2])))\n",
    "        else:\n",
    "            x_new=x[-1] - gamma * eta*grad(x[-1])\n",
    "        # x_new = gamma * x[-1] - (np.sign(x[-1]))*math.pow(math.e, math.log(eta) + math.log(abs(grad(x[-1]))) )\n",
    "        # if (len(x) > 1 and abs(grad(x_new)) < (abs(grad(x[-1])) - abs(grad(x[-2])))/2) or abs(grad(x_new)) < stop_threadhold: #1e-3:\n",
    "        if abs(grad(x_new)) < stop_threadhold: #1e-3:\n",
    "            break\n",
    "        x.append(x_new)\n",
    "        y.append(cost(x_new))\n",
    "    return x, y, it"
   ]
  },
  {
   "cell_type": "markdown",
   "metadata": {},
   "source": [
    "## 2.Test"
   ]
  },
  {
   "cell_type": "code",
   "execution_count": 11,
   "metadata": {
    "ExecuteTime": {
     "end_time": "2023-07-08T15:51:44.098928Z",
     "start_time": "2023-07-08T15:51:44.097105Z"
    }
   },
   "outputs": [],
   "source": [
    "def update_line(i: int, artist: plt.Line2D, x: tuple, y: tuple) -> None:\n",
    "    artist.set_xdata(x)\n",
    "    artist.set_ydata(y)\n",
    "    return"
   ]
  },
  {
   "cell_type": "markdown",
   "metadata": {},
   "source": [
    "### 1. Normal"
   ]
  },
  {
   "cell_type": "code",
   "execution_count": null,
   "metadata": {
    "ExecuteTime": {
     "end_time": "2023-07-08T16:03:19.748605Z",
     "start_time": "2023-07-08T16:03:19.725826Z"
    }
   },
   "outputs": [],
   "source": [
    "eta =.3\n",
    "x0_1=-15\n",
    "(x1, y1, it1) = grad_desc_normal(eta=eta, x0=x0_1)\n",
    "x0_2=15\n",
    "(x2, y2, it2) = grad_desc_normal(eta=eta, x0=x0_2)\n",
    "x_ = np.arange(-16, 16, 0.01)\n",
    "y_ = np.asarray([cost(i) for i in x_], dtype=float)\n",
    "# plotting\n",
    "fig, axes = plt.subplots(nrows=1, ncols=2, figsize=(12.80, 4.80))\n",
    "lines1 = axes[0].plot(x_, y_, 'b-', x1[0], y1[0], 'ro', x1[1], y1[1], 'yo', [x1[0], x1[1]], [y1[0], y1[1]], 'y-')\n",
    "lines2 = axes[1].plot(x_, y_, 'b-', x2[0], y2[0], 'ro', x2[1], y2[1], 'yo', [x2[0], x2[1]], [y2[0], y2[1]], 'y-')\n",
    "\n",
    "def update1(i: int) -> None:\n",
    "    update_line(i, lines1[1], (x1[i],), (y1[i],))\n",
    "    update_line(i, lines1[2], (x1[i+1],), (y1[i+1],))\n",
    "    update_line(i, lines1[3], (x1[i], x1[i+1],), (y1[i], y1[i+1],))\n",
    "    return\n",
    "\n",
    "def update2(i: int) -> None:\n",
    "    update_line(i, lines2[1], (x2[i],), (y2[i],))\n",
    "    update_line(i, lines2[2], (x2[i+1],), (y2[i+1],))\n",
    "    update_line(i, lines2[3], (x2[i], x2[i+1],), (y2[i], y2[i+1],))\n",
    "    return\n",
    "\n",
    "ani1 = animation.FuncAnimation(fig=fig, func=update1, frames=len(x1)-1, interval=100, repeat=False)\n",
    "ani2 = animation.FuncAnimation(fig=fig, func=update2, frames=len(x2)-1, interval=100, repeat=False)\n",
    "plt.show()\n",
    "print('Normal x1 = %f, cost = %f, obtained after %d iterations'%(x1[-1], cost(x1[-1]), it1))\n",
    "print('Normal x2 = %f, cost = %f, obtained after %d iterations'%(x2[-1], cost(x2[-1]), it2))"
   ]
  },
  {
   "cell_type": "markdown",
   "metadata": {},
   "source": [
    "### 2. Momentium"
   ]
  },
  {
   "cell_type": "code",
   "execution_count": 12,
   "metadata": {
    "ExecuteTime": {
     "end_time": "2023-07-08T16:05:26.734865Z",
     "start_time": "2023-07-08T16:05:26.674940Z"
    }
   },
   "outputs": [
    {
     "ename": "SystemExit",
     "evalue": "This program needs access to the screen. Please run with a\nFramework build of python, and only when you are logged in\non the main display of your Mac.",
     "output_type": "error",
     "traceback": [
      "An exception has occurred, use %tb to see the full traceback.\n",
      "\u001b[0;31mSystemExit\u001b[0m\u001b[0;31m:\u001b[0m This program needs access to the screen. Please run with a\nFramework build of python, and only when you are logged in\non the main display of your Mac.\n"
     ]
    },
    {
     "name": "stderr",
     "output_type": "stream",
     "text": [
      "/Users/hiepnq/conda/envs/learn-python/lib/python3.11/site-packages/IPython/core/interactiveshell.py:3513: UserWarning: To exit: use 'exit', 'quit', or Ctrl-D.\n",
      "  warn(\"To exit: use 'exit', 'quit', or Ctrl-D.\", stacklevel=1)\n"
     ]
    }
   ],
   "source": [
    "eta =.3\n",
    "x0_1=-15\n",
    "(x1, y1, it1) = grad_desc_momentium(eta=eta, x0=x0_1)\n",
    "x0_2=15\n",
    "(x2, y2, it2) = grad_desc_momentium(eta=eta, x0=x0_2)\n",
    "x_ = np.arange(-16, 16, 0.01)\n",
    "y_ = np.asarray([cost(i) for i in x_], dtype=float)\n",
    "# plotting\n",
    "fig, axes = plt.subplots(nrows=1, ncols=2, figsize=(12.80, 4.80))\n",
    "lines1 = axes[0].plot(x_, y_, 'b-', x1[0], y1[0], 'ro', x1[1], y1[1], 'yo', (x1[0], x1[1],), (y1[0], y1[1],), 'y-')\n",
    "lines2 = axes[1].plot(x_, y_, 'b-', x2[0], y2[0], 'ro', x2[1], y2[1], 'yo', (x2[0], x2[1],), (y2[0], y2[1],), 'y-')\n",
    "\n",
    "def update1(i: int) -> None:\n",
    "    update_line(i, lines1[1], (x1[i],), (y1[i],))\n",
    "    update_line(i, lines1[2], (x1[i+1],), (y1[i+1],))\n",
    "    update_line(i, lines1[3], (x1[i], x1[i+1],), (y1[i], y1[i+1],))\n",
    "    return\n",
    "\n",
    "def update2(i: int) -> None:\n",
    "    update_line(i, lines2[1], (x2[i],), (y2[i],))\n",
    "    update_line(i, lines2[2], (x2[i+1],), (y2[i+1],))\n",
    "    update_line(i, lines2[3], (x2[i], x2[i+1],), (y2[i], y2[i+1],))\n",
    "    return\n",
    "\n",
    "ani1 = animation.FuncAnimation(fig=fig, func=update1, frames=len(x1)-1, interval=100, repeat=False)\n",
    "ani2 = animation.FuncAnimation(fig=fig, func=update2, frames=len(x2)-1, interval=100, repeat=False)\n",
    "plt.show()\n",
    "print('Momentium x1 = %f, cost = %f, obtained after %d iterations'%(x1[-1], cost(x1[-1]), it1))\n",
    "print('Momentium x2 = %f, cost = %f, obtained after %d iterations'%(x2[-1], cost(x2[-1]), it2))"
   ]
  }
 ],
 "metadata": {
  "kernelspec": {
   "display_name": "Python 3 (ipykernel)",
   "language": "python",
   "name": "python3"
  },
  "language_info": {
   "codemirror_mode": {
    "name": "ipython",
    "version": 3
   },
   "file_extension": ".py",
   "mimetype": "text/x-python",
   "name": "python",
   "nbconvert_exporter": "python",
   "pygments_lexer": "ipython3",
   "version": "3.11.4"
  }
 },
 "nbformat": 4,
 "nbformat_minor": 2
}
