{
 "cells": [
  {
   "cell_type": "markdown",
   "metadata": {},
   "source": [
    "# Gradient decent"
   ]
  },
  {
   "cell_type": "code",
   "metadata": {
    "ExecuteTime": {
     "end_time": "2024-08-12T13:42:31.885870Z",
     "start_time": "2024-08-12T13:42:29.901476Z"
    }
   },
   "source": [
    "import math\n",
    "import numpy as np\n",
    "import matplotlib\n",
    "import matplotlib.pyplot as plt\n",
    "import matplotlib.animation as animation\n",
    "\n",
    "from module.conf import PROJECT_DIR\n",
    "\n",
    "# matplotlib.use(\"QTAgg\")\n",
    "# matplotlib.use(\"WebAgg\")\n",
    "# matplotlib.use(\"ipympl\")\n",
    "# matplotlib.use(\"TkAgg\")\n",
    "# matplotlib.use(\"nbAgg\")\n",
    "# matplotlib.use(\"wxAgg\")\n",
    "\n",
    "matplotlib.use(\"QTCairo\")"
   ],
   "outputs": [],
   "execution_count": 1
  },
  {
   "cell_type": "markdown",
   "metadata": {},
   "source": [
    "## 1. Declare function\n",
    "- Cost funtion: $J(x)=0.15x^2+{\\pi sin(x)\\over3}$\n",
    "- Gradient: $J'(x)=0.3x+{\\pi cos(x)\\over3}$\n",
    "- At *i-th* step: $x[i+1]=x[i]-\\alpha*0.3x+{\\pi cos(x)\\over3}$"
   ]
  },
  {
   "cell_type": "code",
   "metadata": {
    "ExecuteTime": {
     "end_time": "2024-08-12T13:42:31.888874Z",
     "start_time": "2024-08-12T13:42:31.886963Z"
    }
   },
   "source": [
    "def cost(x: float) -> float:\n",
    "    return 0.15 * x**2 + math.pi*math.sin(x)/3"
   ],
   "outputs": [],
   "execution_count": 2
  },
  {
   "cell_type": "code",
   "metadata": {
    "ExecuteTime": {
     "end_time": "2024-08-12T13:42:31.892173Z",
     "start_time": "2024-08-12T13:42:31.889489Z"
    }
   },
   "source": [
    "def grad_normal(x: float) -> float:\n",
    "    return 0.3 * x + math.pi * math.cos(x)/3\n",
    "\n",
    "def grad(x: float) -> float:\n",
    "    return grad_normal(x)"
   ],
   "outputs": [],
   "execution_count": 3
  },
  {
   "cell_type": "markdown",
   "metadata": {},
   "source": [
    "### 1. Normal Gradient Descent"
   ]
  },
  {
   "cell_type": "code",
   "metadata": {
    "ExecuteTime": {
     "end_time": "2024-08-12T13:42:31.897014Z",
     "start_time": "2024-08-12T13:42:31.894024Z"
    }
   },
   "source": [
    "def grad_desc_normal(eta, x0) -> tuple:\n",
    "    stop_threadhold = 0.001\n",
    "    x = [x0]\n",
    "    it = 0\n",
    "    y = [cost(x0)]\n",
    "    for it in range(101):\n",
    "        x_new= x[-1] - eta*grad(x[-1])\n",
    "        if abs(grad(x_new)) < stop_threadhold:#1e-3:\n",
    "            break\n",
    "        x.append(x_new)\n",
    "        y.append(cost(x_new))\n",
    "    return x, y, it"
   ],
   "outputs": [],
   "execution_count": 4
  },
  {
   "cell_type": "markdown",
   "metadata": {},
   "source": [
    "### 2. Momentium Gradient Descent"
   ]
  },
  {
   "cell_type": "code",
   "metadata": {
    "ExecuteTime": {
     "end_time": "2024-08-12T13:42:31.900884Z",
     "start_time": "2024-08-12T13:42:31.897558Z"
    }
   },
   "source": [
    "def grad_desc_momentium(eta, x0) -> tuple:\n",
    "    stop_threadhold = 0.001\n",
    "    gamma = 0.9\n",
    "    x = [x0]\n",
    "    it = 0\n",
    "    y = [cost(x0)]\n",
    "    for it in range(101):\n",
    "        if len(x) > 1:\n",
    "            # normal momentium\n",
    "            # x_new= x[-1] - (gamma*abs(x[-1] - x[-2]) + eta*grad(x[-1]))\n",
    "            # with Nesterov accelerated gradient NAG\n",
    "            x_new= x[-1] - (gamma*abs(x[-1] - x[-2]) + eta*grad(x[-1] - gamma*abs(x[-1] - x[-2])))\n",
    "        else:\n",
    "            x_new=x[-1] - gamma * eta*grad(x[-1])\n",
    "        # x_new = gamma * x[-1] - (np.sign(x[-1]))*math.pow(math.e, math.log(eta) + math.log(abs(grad(x[-1]))) )\n",
    "        # if (len(x) > 1 and abs(grad(x_new)) < (abs(grad(x[-1])) - abs(grad(x[-2])))/2) or abs(grad(x_new)) < stop_threadhold: #1e-3:\n",
    "        if abs(grad(x_new)) < stop_threadhold: #1e-3:\n",
    "            break\n",
    "        x.append(x_new)\n",
    "        y.append(cost(x_new))\n",
    "    return x, y, it"
   ],
   "outputs": [],
   "execution_count": 5
  },
  {
   "cell_type": "markdown",
   "metadata": {},
   "source": [
    "## 2.Test"
   ]
  },
  {
   "cell_type": "code",
   "metadata": {
    "ExecuteTime": {
     "end_time": "2024-08-12T13:42:31.904382Z",
     "start_time": "2024-08-12T13:42:31.901952Z"
    }
   },
   "source": [
    "def update_line(i: int, artist: plt.Line2D, x: tuple, y: tuple) -> None:\n",
    "    artist.set_xdata(x)\n",
    "    artist.set_ydata(y)\n",
    "    return"
   ],
   "outputs": [],
   "execution_count": 6
  },
  {
   "cell_type": "markdown",
   "metadata": {},
   "source": [
    "### 1. Normal"
   ]
  },
  {
   "cell_type": "code",
   "metadata": {
    "ExecuteTime": {
     "end_time": "2024-08-12T13:42:42.609121Z",
     "start_time": "2024-08-12T13:42:31.904997Z"
    }
   },
   "source": [
    "eta =.3\n",
    "x0_1=-7\n",
    "(x1, y1, it1) = grad_desc_normal(eta=eta, x0=x0_1)\n",
    "x0_2=7\n",
    "(x2, y2, it2) = grad_desc_normal(eta=eta, x0=x0_2)\n",
    "x_ = np.arange(-8, 8, 0.01)\n",
    "y_ = np.asarray([cost(i) for i in x_], dtype=float)\n",
    "# plotting\n",
    "fig, axes = plt.subplots(nrows=1, ncols=2, figsize=(12.80, 4.80))\n",
    "lines0 = axes[0].plot(x_, y_, 'b-')\n",
    "lines0 = axes[1].plot(x_, y_, 'b-')\n",
    "lines1 = axes[0].plot(x1[0], y1[0], 'ro', x1[1], y1[1], 'yo', [x1[0], x1[1]], [y1[0], y1[1]], 'y-')\n",
    "lines2 = axes[1].plot(x2[0], y2[0], 'r^', x2[1], y2[1], 'y^', [x2[0], x2[1]], [y2[0], y2[1]], 'y-')\n",
    "\n",
    "def update1(i: int) -> None:\n",
    "    update_line(i, lines1[0], (x1[i],), (y1[i],))\n",
    "    update_line(i, lines1[1], (x1[i+1],), (y1[i+1],))\n",
    "    update_line(i, lines1[2], (x1[i], x1[i+1],), (y1[i], y1[i+1],))\n",
    "    return\n",
    "\n",
    "def update2(i: int) -> None:\n",
    "    update_line(i, lines2[0], (x2[i],), (y2[i],))\n",
    "    update_line(i, lines2[1], (x2[i+1],), (y2[i+1],))\n",
    "    update_line(i, lines2[2], (x2[i], x2[i+1],), (y2[i], y2[i+1],))\n",
    "    return\n",
    "\n",
    "ani1 = animation.FuncAnimation(fig=fig, func=update1, frames=len(x1)-1, interval=100, repeat=False)\n",
    "ani2 = animation.FuncAnimation(fig=fig, func=update2, frames=len(x2)-1, interval=100, repeat=False)\n",
    "plt.show()\n",
    "print('Normal x1 = %f, cost = %f, obtained after %d iterations'%(x1[-1], cost(x1[-1]), it1))\n",
    "print('Normal x2 = %f, cost = %f, obtained after %d iterations'%(x2[-1], cost(x2[-1]), it2))"
   ],
   "outputs": [
    {
     "name": "stdout",
     "output_type": "stream",
     "text": [
      "Normal x1 = -1.216032, cost = -0.760177, obtained after 27 iterations\n",
      "Normal x2 = 3.388374, cost = 1.466348, obtained after 34 iterations\n"
     ]
    }
   ],
   "execution_count": 7
  },
  {
   "cell_type": "markdown",
   "metadata": {},
   "source": [
    "### 2. Momentium"
   ]
  },
  {
   "cell_type": "code",
   "metadata": {
    "ExecuteTime": {
     "end_time": "2024-08-12T13:42:47.969044Z",
     "start_time": "2024-08-12T13:42:42.610645Z"
    }
   },
   "source": [
    "eta =.1\n",
    "x0_1=-7\n",
    "(x1, y1, it1) = grad_desc_momentium(eta=eta, x0=x0_1)\n",
    "x0_2=7\n",
    "(x2, y2, it2) = grad_desc_momentium(eta=eta, x0=x0_2)\n",
    "x_ = np.arange(-8, 8, 0.01)\n",
    "y_ = np.asarray([cost(i) for i in x_], dtype=float)\n",
    "# plotting\n",
    "# fig, axes = plt.subplots(nrows=1, ncols=2, figsize=(12.80, 4.80))\n",
    "fig, axes = plt.subplots(nrows=1, ncols=1, figsize=(10.24, 7.68))\n",
    "lines0 = axes.plot(x_, y_, 'b-')\n",
    "lines1 = axes.plot(x1[0], y1[0], 'ro', x1[1], y1[1], 'yo', (x1[0], x1[1],), (y1[0], y1[1],), 'y-')\n",
    "lines2 = axes.plot(x2[0], y2[0], 'r^', x2[1], y2[1], 'y^', (x2[0], x2[1],), (y2[0], y2[1],), 'y-')\n",
    "\n",
    "def update1(i: int) -> None:\n",
    "    update_line(i, lines1[0], (x1[i],), (y1[i],))\n",
    "    update_line(i, lines1[1], (x1[i+1],), (y1[i+1],))\n",
    "    update_line(i, lines1[2], (x1[i], x1[i+1],), (y1[i], y1[i+1],))\n",
    "    return\n",
    "\n",
    "def update2(i: int) -> None:\n",
    "    update_line(i, lines2[0], (x2[i],), (y2[i],))\n",
    "    update_line(i, lines2[1], (x2[i+1],), (y2[i+1],))\n",
    "    update_line(i, lines2[2], (x2[i], x2[i+1],), (y2[i], y2[i+1],))\n",
    "    return\n",
    "\n",
    "ani1 = animation.FuncAnimation(fig=fig, func=update1, frames=len(x1)-1, interval=1000, repeat=False)\n",
    "ani2 = animation.FuncAnimation(fig=fig, func=update2, frames=len(x2)-1, interval=1000, repeat=False)\n",
    "plt.show()\n",
    "\n",
    "# try:\n",
    "#     print(f\"Saving...\")\n",
    "#     ani1.save(filename=PROJECT_DIR+\"/data/gd-momentium.gif\")\n",
    "#     print(f\"Saved\")\n",
    "# except Exception as ex: pass\n",
    "\n",
    "print('Momentium x1 = %f, cost = %f, obtained after %d iterations'%(x1[-1], cost(x1[-1]), it1))\n",
    "print('Momentium x2 = %f, cost = %f, obtained after %d iterations'%(x2[-1], cost(x2[-1]), it2))"
   ],
   "outputs": [
    {
     "name": "stdout",
     "output_type": "stream",
     "text": [
      "Momentium x1 = -1.325580, cost = -0.752296, obtained after 100 iterations\n",
      "Momentium x2 = -1.217153, cost = -0.760175, obtained after 100 iterations\n"
     ]
    }
   ],
   "execution_count": 8
  }
 ],
 "metadata": {
  "kernelspec": {
   "display_name": "Python 3 (ipykernel)",
   "language": "python",
   "name": "python3"
  },
  "language_info": {
   "codemirror_mode": {
    "name": "ipython",
    "version": 3
   },
   "file_extension": ".py",
   "mimetype": "text/x-python",
   "name": "python",
   "nbconvert_exporter": "python",
   "pygments_lexer": "ipython3",
   "version": "3.11.4"
  }
 },
 "nbformat": 4,
 "nbformat_minor": 2
}
