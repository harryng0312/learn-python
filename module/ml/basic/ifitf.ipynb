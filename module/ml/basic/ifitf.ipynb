{
 "cells": [
  {
   "cell_type": "code",
   "id": "initial_id",
   "metadata": {
    "collapsed": true,
    "ExecuteTime": {
     "end_time": "2025-02-26T12:47:44.986329Z",
     "start_time": "2025-02-26T12:47:40.412853Z"
    }
   },
   "source": [
    "import nltk\n",
    "import numpy as np\n",
    "import pandas as pd\n",
    "import tensorflow as tf\n",
    "from tensorflow.keras.models import Sequential\n",
    "from tensorflow.keras.layers import Dense, Dropout\n",
    "from sklearn.model_selection import train_test_split\n",
    "from sklearn.feature_extraction.text import TfidfVectorizer\n",
    "from sklearn.preprocessing import LabelEncoder\n",
    "\n",
    "# my project\n",
    "from module.conf import PROJECT_DIR"
   ],
   "outputs": [],
   "execution_count": 6
  },
  {
   "metadata": {},
   "cell_type": "code",
   "source": [
    "data = pd.read_csv(PROJECT_DIR + \"/data/basic/email/spam.csv\", encoding=\"utf-8\")[['Category', 'Message']]  # v1 = label, v2 = text\n",
    "data.columns = ['label', 'text']"
   ],
   "id": "460425ae63c0d70d",
   "outputs": [],
   "execution_count": null
  },
  {
   "metadata": {},
   "cell_type": "code",
   "source": [
    "# convert label Spam/Ham to number (Spam = 1, Ham = 0)\n",
    "label_encoder = LabelEncoder()\n",
    "data['label'] = label_encoder.fit_transform(data['label'])\n",
    "\n",
    "# split train/test\n",
    "X_train, X_test, y_train, y_test = train_test_split(data['text'], data['label'], test_size=0.2, random_state=42)"
   ],
   "id": "a02c7cc9bb3fe954",
   "outputs": [],
   "execution_count": null
  },
  {
   "metadata": {},
   "cell_type": "code",
   "source": "len(X_train)",
   "id": "5611240d7b449f4c",
   "outputs": [],
   "execution_count": null
  },
  {
   "metadata": {},
   "cell_type": "code",
   "source": "sum(y_train)",
   "id": "6560c3e62ecb1064",
   "outputs": [],
   "execution_count": null
  },
  {
   "metadata": {},
   "cell_type": "code",
   "source": [
    "vectorizer = TfidfVectorizer(max_features=5000)  # get the 5000 most popular words\n",
    "# vectorizer = TfidfVectorizer(max_features=10_000)  # get all words\n",
    "X_train_tfidf = vectorizer.fit_transform(X_train).toarray()\n",
    "X_test_tfidf = vectorizer.transform(X_test).toarray()"
   ],
   "id": "72d45fe8d5b7e452",
   "outputs": [],
   "execution_count": null
  },
  {
   "metadata": {},
   "cell_type": "code",
   "source": "len(vectorizer.vocabulary_)",
   "id": "df655ad0f242bc0d",
   "outputs": [],
   "execution_count": null
  },
  {
   "metadata": {},
   "cell_type": "code",
   "source": "X_train_tfidf.shape",
   "id": "bc2ac0886d30fde3",
   "outputs": [],
   "execution_count": null
  },
  {
   "metadata": {},
   "cell_type": "code",
   "source": "X_test_tfidf",
   "id": "cc6fec97af8a5283",
   "outputs": [],
   "execution_count": null
  },
  {
   "metadata": {},
   "cell_type": "markdown",
   "source": "LSTM",
   "id": "c5b1bb195ae3960b"
  },
  {
   "metadata": {},
   "cell_type": "markdown",
   "source": [
    "1. DF (Inverse Document Frequency): in TF-IDF.\n",
    "\n",
    "$$IDF(t) = \\log\\left(\\frac{N}{1 + DF(t)}\\right)$$\n",
    "\n",
    "- N: number of document.\n",
    "- IDF(t): number of document what contains t.\n",
    "- Add 1 to avoid devide by 0 error.\n",
    "\n",
    "2. TF (Term Frequency): another version of IDF, apply to process a word appear more times in a corpus.\n",
    "\n",
    "$$TF(t, d) = \\log\\left(\\frac{|d|}{1 + TF(t, d)}\\right)$$\n",
    "\n",
    "- |d|: number of words in corpus.\n",
    "- TF(t, d): the number of times word t appears in corpus d."
   ],
   "id": "99912128cc12e341"
  },
  {
   "metadata": {
    "ExecuteTime": {
     "end_time": "2025-02-26T12:47:15.661770Z",
     "start_time": "2025-02-26T12:47:15.657806Z"
    }
   },
   "cell_type": "code",
   "source": "from collections import Counter",
   "id": "f58f8148d655b1ea",
   "outputs": [],
   "execution_count": 1
  },
  {
   "metadata": {
    "ExecuteTime": {
     "end_time": "2025-02-26T12:47:15.671078Z",
     "start_time": "2025-02-26T12:47:15.669360Z"
    }
   },
   "cell_type": "code",
   "source": [
    "documents = [\n",
    "    \"học máy là một nhánh của trí tuệ nhân tạo\",\n",
    "    \"học sâu là một phần của học máy\",\n",
    "    \"trí tuệ nhân tạo có nhiều ứng dụng trong đời sống\"\n",
    "]"
   ],
   "id": "4f449e99f47fbf41",
   "outputs": [],
   "execution_count": 2
  },
  {
   "metadata": {
    "ExecuteTime": {
     "end_time": "2025-02-26T12:47:17.324202Z",
     "start_time": "2025-02-26T12:47:17.321103Z"
    }
   },
   "cell_type": "code",
   "source": [
    "def compute_idf(corpus):\n",
    "    \"\"\" Calculate IDF \"\"\"\n",
    "    N = len(corpus)\n",
    "    word_doc_count = Counter()\n",
    "    for doc in corpus:\n",
    "        # uni_words = nltk.word_tokenize(doc)\n",
    "        unique_words = set(doc.split())\n",
    "        for word in unique_words:\n",
    "            word_doc_count[word] += 1\n",
    "            pass\n",
    "        pass\n",
    "    rs = {word : np.log(N / (1 + count)) for word, count in word_doc_count.items()}\n",
    "    return rs"
   ],
   "id": "70b84fc14cda96b7",
   "outputs": [],
   "execution_count": 3
  },
  {
   "metadata": {
    "ExecuteTime": {
     "end_time": "2025-02-26T13:05:19.384580Z",
     "start_time": "2025-02-26T13:05:19.380600Z"
    }
   },
   "cell_type": "code",
   "source": [
    "def compute_tf(document):\n",
    "    \"\"\" Calculate ITF \"\"\"\n",
    "    words = document.split()\n",
    "    total_words = len(words)\n",
    "    word_count = Counter(words)\n",
    "\n",
    "    # TF\n",
    "    tf_scores = {word: np.log(total_words / (1 + count)) for word, count in word_count.items()}\n",
    "    return tf_scores"
   ],
   "id": "b10fba79afd5710d",
   "outputs": [],
   "execution_count": 26
  },
  {
   "metadata": {
    "ExecuteTime": {
     "end_time": "2025-02-26T13:00:45.167722Z",
     "start_time": "2025-02-26T13:00:45.164372Z"
    }
   },
   "cell_type": "code",
   "source": [
    "def compute_tfidf(corpus):\n",
    "    \"\"\" Calculate TF-IDF \"\"\"\n",
    "    N = len(corpus)\n",
    "    word_doc_count = Counter()\n",
    "    word_corpus_count = Counter()\n",
    "    for doc in corpus:\n",
    "        for word in doc.split():\n",
    "            word_corpus_count[word] += 1\n",
    "            pass\n",
    "        pass\n",
    "    rs = []\n",
    "    for doc in corpus:\n",
    "\n",
    "        for word, count in word_corpus_count.items():\n",
    "\n",
    "            pass\n",
    "        pass\n",
    "\n",
    "    return word_corpus_count"
   ],
   "id": "c7c010f5e0f0a542",
   "outputs": [],
   "execution_count": 24
  },
  {
   "metadata": {
    "ExecuteTime": {
     "end_time": "2025-02-26T13:07:07.132251Z",
     "start_time": "2025-02-26T13:07:07.127015Z"
    }
   },
   "cell_type": "code",
   "source": "compute_idf(documents)",
   "id": "ced6228bd4d50f8f",
   "outputs": [
    {
     "data": {
      "text/plain": [
       "{'của': 0.0,\n",
       " 'tạo': 0.0,\n",
       " 'trí': 0.0,\n",
       " 'nhánh': 0.4054651081081644,\n",
       " 'học': 0.0,\n",
       " 'tuệ': 0.0,\n",
       " 'là': 0.0,\n",
       " 'nhân': 0.0,\n",
       " 'máy': 0.0,\n",
       " 'một': 0.0,\n",
       " 'phần': 0.4054651081081644,\n",
       " 'sâu': 0.4054651081081644,\n",
       " 'ứng': 0.4054651081081644,\n",
       " 'dụng': 0.4054651081081644,\n",
       " 'đời': 0.4054651081081644,\n",
       " 'có': 0.4054651081081644,\n",
       " 'sống': 0.4054651081081644,\n",
       " 'trong': 0.4054651081081644,\n",
       " 'nhiều': 0.4054651081081644}"
      ]
     },
     "execution_count": 28,
     "metadata": {},
     "output_type": "execute_result"
    }
   ],
   "execution_count": 28
  },
  {
   "metadata": {
    "ExecuteTime": {
     "end_time": "2025-02-26T13:00:46.481306Z",
     "start_time": "2025-02-26T13:00:46.477599Z"
    }
   },
   "cell_type": "code",
   "source": "compute_tfidf(documents)",
   "id": "d22200ecd97f4019",
   "outputs": [
    {
     "data": {
      "text/plain": [
       "Counter({'học': 3,\n",
       "         'máy': 2,\n",
       "         'là': 2,\n",
       "         'một': 2,\n",
       "         'của': 2,\n",
       "         'trí': 2,\n",
       "         'tuệ': 2,\n",
       "         'nhân': 2,\n",
       "         'tạo': 2,\n",
       "         'nhánh': 1,\n",
       "         'sâu': 1,\n",
       "         'phần': 1,\n",
       "         'có': 1,\n",
       "         'nhiều': 1,\n",
       "         'ứng': 1,\n",
       "         'dụng': 1,\n",
       "         'trong': 1,\n",
       "         'đời': 1,\n",
       "         'sống': 1})"
      ]
     },
     "execution_count": 25,
     "metadata": {},
     "output_type": "execute_result"
    }
   ],
   "execution_count": 25
  },
  {
   "metadata": {
    "ExecuteTime": {
     "end_time": "2025-02-26T12:48:57.095056Z",
     "start_time": "2025-02-26T12:48:57.090151Z"
    }
   },
   "cell_type": "code",
   "source": [
    "vectorizer1 = TfidfVectorizer()\n",
    "vectorizer1.fit(documents)\n",
    "X_train_tfidf_1 = vectorizer1.transform(documents).toarray()\n",
    "# X_train_tfidf_1 = vectorizer1.fit_transform(documents).toarray()\n",
    "# X_test_tfidf_2 = vectorizer.transform(documents).toarray()"
   ],
   "id": "d948dd80c1fcfdee",
   "outputs": [],
   "execution_count": 12
  },
  {
   "metadata": {
    "ExecuteTime": {
     "end_time": "2025-02-26T12:48:57.481411Z",
     "start_time": "2025-02-26T12:48:57.477879Z"
    }
   },
   "cell_type": "code",
   "source": "X_train_tfidf_1",
   "id": "14a64b05dd45670",
   "outputs": [
    {
     "data": {
      "text/plain": [
       "array([[0.        , 0.30529678, 0.        , 0.30529678, 0.30529678,\n",
       "        0.30529678, 0.30529678, 0.        , 0.40142857, 0.30529678,\n",
       "        0.        , 0.        , 0.        , 0.        , 0.30529678,\n",
       "        0.30529678, 0.30529678, 0.        , 0.        ],\n",
       "       [0.        , 0.29542622, 0.        , 0.59085245, 0.29542622,\n",
       "        0.29542622, 0.29542622, 0.        , 0.        , 0.        ,\n",
       "        0.38844998, 0.38844998, 0.        , 0.        , 0.        ,\n",
       "        0.        , 0.        , 0.        , 0.        ],\n",
       "       [0.32767345, 0.        , 0.32767345, 0.        , 0.        ,\n",
       "        0.        , 0.        , 0.32767345, 0.        , 0.24920411,\n",
       "        0.        , 0.        , 0.32767345, 0.32767345, 0.24920411,\n",
       "        0.24920411, 0.24920411, 0.32767345, 0.32767345]])"
      ]
     },
     "execution_count": 13,
     "metadata": {},
     "output_type": "execute_result"
    }
   ],
   "execution_count": 13
  },
  {
   "metadata": {
    "ExecuteTime": {
     "end_time": "2025-02-26T15:33:46.298789Z",
     "start_time": "2025-02-26T15:33:46.295712Z"
    }
   },
   "cell_type": "code",
   "source": [
    "df = pd.DataFrame(X_train_tfidf_1)\n",
    "df.columns = vectorizer1.get_feature_names_out()"
   ],
   "id": "c562dda39aa68d72",
   "outputs": [],
   "execution_count": 33
  },
  {
   "metadata": {
    "ExecuteTime": {
     "end_time": "2025-02-26T15:33:48.591750Z",
     "start_time": "2025-02-26T15:33:48.581691Z"
    }
   },
   "cell_type": "code",
   "source": "df",
   "id": "44386e61a72f09f2",
   "outputs": [
    {
     "data": {
      "text/plain": [
       "         có       của      dụng       học        là       máy       một  \\\n",
       "0  0.000000  0.305297  0.000000  0.305297  0.305297  0.305297  0.305297   \n",
       "1  0.000000  0.295426  0.000000  0.590852  0.295426  0.295426  0.295426   \n",
       "2  0.327673  0.000000  0.327673  0.000000  0.000000  0.000000  0.000000   \n",
       "\n",
       "      nhiều     nhánh      nhân     phần      sâu      sống     trong  \\\n",
       "0  0.000000  0.401429  0.305297  0.00000  0.00000  0.000000  0.000000   \n",
       "1  0.000000  0.000000  0.000000  0.38845  0.38845  0.000000  0.000000   \n",
       "2  0.327673  0.000000  0.249204  0.00000  0.00000  0.327673  0.327673   \n",
       "\n",
       "        trí       tuệ       tạo       đời       ứng  \n",
       "0  0.305297  0.305297  0.305297  0.000000  0.000000  \n",
       "1  0.000000  0.000000  0.000000  0.000000  0.000000  \n",
       "2  0.249204  0.249204  0.249204  0.327673  0.327673  "
      ],
      "text/html": [
       "<div>\n",
       "<style scoped>\n",
       "    .dataframe tbody tr th:only-of-type {\n",
       "        vertical-align: middle;\n",
       "    }\n",
       "\n",
       "    .dataframe tbody tr th {\n",
       "        vertical-align: top;\n",
       "    }\n",
       "\n",
       "    .dataframe thead th {\n",
       "        text-align: right;\n",
       "    }\n",
       "</style>\n",
       "<table border=\"1\" class=\"dataframe\">\n",
       "  <thead>\n",
       "    <tr style=\"text-align: right;\">\n",
       "      <th></th>\n",
       "      <th>có</th>\n",
       "      <th>của</th>\n",
       "      <th>dụng</th>\n",
       "      <th>học</th>\n",
       "      <th>là</th>\n",
       "      <th>máy</th>\n",
       "      <th>một</th>\n",
       "      <th>nhiều</th>\n",
       "      <th>nhánh</th>\n",
       "      <th>nhân</th>\n",
       "      <th>phần</th>\n",
       "      <th>sâu</th>\n",
       "      <th>sống</th>\n",
       "      <th>trong</th>\n",
       "      <th>trí</th>\n",
       "      <th>tuệ</th>\n",
       "      <th>tạo</th>\n",
       "      <th>đời</th>\n",
       "      <th>ứng</th>\n",
       "    </tr>\n",
       "  </thead>\n",
       "  <tbody>\n",
       "    <tr>\n",
       "      <th>0</th>\n",
       "      <td>0.000000</td>\n",
       "      <td>0.305297</td>\n",
       "      <td>0.000000</td>\n",
       "      <td>0.305297</td>\n",
       "      <td>0.305297</td>\n",
       "      <td>0.305297</td>\n",
       "      <td>0.305297</td>\n",
       "      <td>0.000000</td>\n",
       "      <td>0.401429</td>\n",
       "      <td>0.305297</td>\n",
       "      <td>0.00000</td>\n",
       "      <td>0.00000</td>\n",
       "      <td>0.000000</td>\n",
       "      <td>0.000000</td>\n",
       "      <td>0.305297</td>\n",
       "      <td>0.305297</td>\n",
       "      <td>0.305297</td>\n",
       "      <td>0.000000</td>\n",
       "      <td>0.000000</td>\n",
       "    </tr>\n",
       "    <tr>\n",
       "      <th>1</th>\n",
       "      <td>0.000000</td>\n",
       "      <td>0.295426</td>\n",
       "      <td>0.000000</td>\n",
       "      <td>0.590852</td>\n",
       "      <td>0.295426</td>\n",
       "      <td>0.295426</td>\n",
       "      <td>0.295426</td>\n",
       "      <td>0.000000</td>\n",
       "      <td>0.000000</td>\n",
       "      <td>0.000000</td>\n",
       "      <td>0.38845</td>\n",
       "      <td>0.38845</td>\n",
       "      <td>0.000000</td>\n",
       "      <td>0.000000</td>\n",
       "      <td>0.000000</td>\n",
       "      <td>0.000000</td>\n",
       "      <td>0.000000</td>\n",
       "      <td>0.000000</td>\n",
       "      <td>0.000000</td>\n",
       "    </tr>\n",
       "    <tr>\n",
       "      <th>2</th>\n",
       "      <td>0.327673</td>\n",
       "      <td>0.000000</td>\n",
       "      <td>0.327673</td>\n",
       "      <td>0.000000</td>\n",
       "      <td>0.000000</td>\n",
       "      <td>0.000000</td>\n",
       "      <td>0.000000</td>\n",
       "      <td>0.327673</td>\n",
       "      <td>0.000000</td>\n",
       "      <td>0.249204</td>\n",
       "      <td>0.00000</td>\n",
       "      <td>0.00000</td>\n",
       "      <td>0.327673</td>\n",
       "      <td>0.327673</td>\n",
       "      <td>0.249204</td>\n",
       "      <td>0.249204</td>\n",
       "      <td>0.249204</td>\n",
       "      <td>0.327673</td>\n",
       "      <td>0.327673</td>\n",
       "    </tr>\n",
       "  </tbody>\n",
       "</table>\n",
       "</div>"
      ]
     },
     "execution_count": 34,
     "metadata": {},
     "output_type": "execute_result"
    }
   ],
   "execution_count": 34
  },
  {
   "metadata": {
    "ExecuteTime": {
     "end_time": "2025-02-26T15:33:16.444794Z",
     "start_time": "2025-02-26T15:33:16.440540Z"
    }
   },
   "cell_type": "code",
   "source": "vectorizer1.get_feature_names_out(0)",
   "id": "31f417b6ba834e91",
   "outputs": [
    {
     "data": {
      "text/plain": [
       "array(['có', 'của', 'dụng', 'học', 'là', 'máy', 'một', 'nhiều', 'nhánh',\n",
       "       'nhân', 'phần', 'sâu', 'sống', 'trong', 'trí', 'tuệ', 'tạo', 'đời',\n",
       "       'ứng'], dtype=object)"
      ]
     },
     "execution_count": 31,
     "metadata": {},
     "output_type": "execute_result"
    }
   ],
   "execution_count": 31
  },
  {
   "metadata": {},
   "cell_type": "code",
   "outputs": [],
   "execution_count": null,
   "source": "",
   "id": "94b446680325e4b4"
  }
 ],
 "metadata": {
  "kernelspec": {
   "display_name": "Python 3",
   "language": "python",
   "name": "python3"
  },
  "language_info": {
   "codemirror_mode": {
    "name": "ipython",
    "version": 2
   },
   "file_extension": ".py",
   "mimetype": "text/x-python",
   "name": "python",
   "nbconvert_exporter": "python",
   "pygments_lexer": "ipython2",
   "version": "2.7.6"
  }
 },
 "nbformat": 4,
 "nbformat_minor": 5
}
