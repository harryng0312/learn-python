{
 "cells": [
  {
   "cell_type": "code",
   "id": "initial_id",
   "metadata": {
    "collapsed": true
   },
   "source": [
    "import tensorflow as tf\n",
    "import keras\n",
    "import numpy as np\n",
    "import struct\n",
    "import gzip\n",
    "# import matplotlib\n",
    "import matplotlib.pyplot as plt\n",
    "from array import array\n",
    "\n",
    "from flatbuffers.packer import float32\n",
    "from tensorflow.python.data.experimental.ops.distribute import batch_sizes_for_worker\n",
    "\n",
    "# my project\n",
    "from module.conf import PROJECT_DIR\n",
    "# matplotlib.use(\"QTAgg\")\n",
    "%matplotlib inline"
   ],
   "outputs": [],
   "execution_count": null
  },
  {
   "cell_type": "code",
   "id": "46a34ed3147f3e27",
   "metadata": {},
   "source": [
    "tf.config.list_physical_devices()"
   ],
   "outputs": [],
   "execution_count": null
  },
  {
   "cell_type": "code",
   "id": "83ef0e6b437d2e3b",
   "metadata": {},
   "source": [
    "# tf.config.list_physical_devices('GPU')\n",
    "tf.config.set_visible_devices(tf.config.list_physical_devices('GPU')[0], 'GPU')"
   ],
   "outputs": [],
   "execution_count": null
  },
  {
   "metadata": {},
   "cell_type": "code",
   "source": [
    "# dataset = tf.data.Dataset.from_tensor_slices(X_train).shuffle(60000).batch(128)\n",
    "(x_train, _), (_, _) = keras.datasets.cifar10.load_data()\n",
    "x_train = (x_train.astype(\"float64\") - 127.5) / 127.5  # Standartize to [-1, 1]"
   ],
   "id": "20efd734449ba11c",
   "outputs": [],
   "execution_count": null
  },
  {
   "metadata": {},
   "cell_type": "code",
   "source": [
    "dataset = tf.data.Dataset.from_tensor_slices(x_train).shuffle(x_train.shape[0]).batch(256)\n",
    "# dataset = x_train"
   ],
   "id": "e685068f06ce409",
   "outputs": [],
   "execution_count": null
  },
  {
   "cell_type": "code",
   "id": "7ee833de1e78d45b",
   "metadata": {},
   "source": [
    "class Generator(keras.Model):\n",
    "    def __init__(self, noise_dim=100):\n",
    "        super(Generator, self).__init__()\n",
    "        self.noise_dim = noise_dim\n",
    "        self.dense = keras.layers.Dense(4 * 4 * 256, use_bias=False)\n",
    "        self.bn1 = keras.layers.BatchNormalization()\n",
    "        self.reshape = keras.layers.Reshape((4, 4, 256))\n",
    "\n",
    "        self.conv1 = keras.layers.Conv2DTranspose(128, (4, 4), strides=(2, 2), padding=\"same\", use_bias=False)\n",
    "        self.bn2 = keras.layers.BatchNormalization()\n",
    "\n",
    "        self.conv2 = keras.layers.Conv2DTranspose(64, (4, 4), strides=(2, 2), padding=\"same\", use_bias=False)\n",
    "        self.bn3 = keras.layers.BatchNormalization()\n",
    "\n",
    "        self.conv3 = keras.layers.Conv2DTranspose(3, (4, 4), strides=(2, 2), padding=\"same\", activation=\"tanh\")\n",
    "\n",
    "    def call(self, inputs, training=True):\n",
    "        x = self.dense(inputs)\n",
    "        x = self.bn1(x, training=training)\n",
    "        x = tf.nn.relu(x)\n",
    "        x = self.reshape(x)\n",
    "\n",
    "        x = self.conv1(x)\n",
    "        x = self.bn2(x, training=training)\n",
    "        x = tf.nn.relu(x)\n",
    "\n",
    "        x = self.conv2(x)\n",
    "        x = self.bn3(x, training=training)\n",
    "        x = tf.nn.relu(x)\n",
    "\n",
    "        x = self.conv3(x)\n",
    "        return x"
   ],
   "outputs": [],
   "execution_count": null
  },
  {
   "metadata": {},
   "cell_type": "code",
   "source": [
    "class Discriminator(keras.Model):\n",
    "    def __init__(self):\n",
    "        super(Discriminator, self).__init__()\n",
    "        self.conv1 = keras.layers.Conv2D(64, (4, 4), strides=(2, 2), padding=\"same\")\n",
    "        self.lrelu1 = keras.layers.LeakyReLU(alpha=0.2)\n",
    "        self.dropout1 = keras.layers.Dropout(0.3)\n",
    "\n",
    "        self.conv2 = keras.layers.Conv2D(128, (4, 4), strides=(2, 2), padding=\"same\")\n",
    "        self.lrelu2 = keras.layers.LeakyReLU(alpha=0.2)\n",
    "        self.dropout2 = keras.layers.Dropout(0.3)\n",
    "\n",
    "        self.flatten = keras.layers.Flatten()\n",
    "        self.fc = keras.layers.Dense(1, activation=\"sigmoid\")\n",
    "\n",
    "    def call(self, inputs, training=True):\n",
    "        x = self.conv1(inputs)\n",
    "        x = self.lrelu1(x)\n",
    "        x = self.dropout1(x, training=training)\n",
    "\n",
    "        x = self.conv2(x)\n",
    "        x = self.lrelu2(x)\n",
    "        x = self.dropout2(x, training=training)\n",
    "\n",
    "        x = self.flatten(x)\n",
    "        x = self.fc(x)\n",
    "        return x"
   ],
   "id": "c0337691f964a4d7",
   "outputs": [],
   "execution_count": null
  },
  {
   "cell_type": "code",
   "id": "88136ad4222ee512",
   "metadata": {},
   "source": [
    "noise_dim = 100\n",
    "generator = Generator(noise_dim)\n",
    "discriminator = Discriminator()\n",
    "\n",
    "# Optimizers\n",
    "gen_optimizer = keras.optimizers.Adam(learning_rate=0.0002, beta_1=0.5)\n",
    "disc_optimizer = keras.optimizers.Adam(learning_rate=0.0002, beta_1=0.5)\n",
    "\n",
    "# Loss function\n",
    "cross_entropy = keras.losses.BinaryCrossentropy(from_logits=True)"
   ],
   "outputs": [],
   "execution_count": null
  },
  {
   "metadata": {},
   "cell_type": "code",
   "source": [
    "@tf.function\n",
    "def train_step(real_images):\n",
    "    noise = tf.random.normal([32, noise_dim])\n",
    "\n",
    "    # Huấn luyện Discriminator\n",
    "    with tf.GradientTape() as disc_tape:\n",
    "        fake_images = generator(noise, training=True)\n",
    "        real_output = discriminator(real_images, training=True)\n",
    "        fake_output = discriminator(fake_images, training=True)\n",
    "\n",
    "        real_loss = cross_entropy(tf.ones_like(real_output), real_output)\n",
    "        fake_loss = cross_entropy(tf.zeros_like(fake_output), fake_output)\n",
    "        disc_loss = real_loss + fake_loss\n",
    "\n",
    "    grads_disc = disc_tape.gradient(disc_loss, discriminator.trainable_variables)\n",
    "    disc_optimizer.apply_gradients(zip(grads_disc, discriminator.trainable_variables))\n",
    "\n",
    "    # Huấn luyện Generator\n",
    "    with tf.GradientTape() as gen_tape:\n",
    "        fake_images = generator(noise, training=True)\n",
    "        fake_output = discriminator(fake_images, training=True)\n",
    "        gen_loss = cross_entropy(tf.ones_like(fake_output), fake_output)\n",
    "\n",
    "    grads_gen = gen_tape.gradient(gen_loss, generator.trainable_variables)\n",
    "    gen_optimizer.apply_gradients(zip(grads_gen, generator.trainable_variables))\n",
    "\n",
    "    return gen_loss, disc_loss"
   ],
   "id": "2182c24171481697",
   "outputs": [],
   "execution_count": null
  },
  {
   "metadata": {},
   "cell_type": "code",
   "source": [
    "def train(dataset, epochs):\n",
    "    for epoch in range(epochs):\n",
    "        for batch, real_images in enumerate(dataset):\n",
    "            gen_loss, disc_loss = train_step(real_images)\n",
    "\n",
    "        print(f\"Epoch {epoch+1}, Generator Loss: {gen_loss.numpy()}, Discriminator Loss: {disc_loss.numpy()}\")\n",
    "\n",
    "        if (epoch + 1) % 10 == 0:\n",
    "            generate_and_save_images(generator, epoch+1)\n",
    "\n",
    "def generate_and_save_images(model, epoch):\n",
    "    noise = tf.random.normal([16, noise_dim])\n",
    "    generated_images = model(noise, training=False)\n",
    "\n",
    "    fig, axes = plt.subplots(4, 4, figsize=(4, 4))\n",
    "    for i, ax in enumerate(axes.flat):\n",
    "        ax.imshow((generated_images[i] + 1) / 2)\n",
    "        ax.axis(\"off\")\n",
    "    plt.savefig(f\"gan_cifar10_epoch_{epoch}.png\")\n",
    "    plt.show()\n",
    "\n",
    "# Train GAN\n",
    "train(dataset, epochs=50)"
   ],
   "id": "33452a0cd42f17fd",
   "outputs": [],
   "execution_count": null
  }
 ],
 "metadata": {
  "kernelspec": {
   "display_name": "learn-ml",
   "language": "python",
   "name": "python3"
  },
  "language_info": {
   "codemirror_mode": {
    "name": "ipython",
    "version": 3
   },
   "file_extension": ".py",
   "mimetype": "text/x-python",
   "name": "python",
   "nbconvert_exporter": "python",
   "pygments_lexer": "ipython3",
   "version": "3.9.18"
  }
 },
 "nbformat": 4,
 "nbformat_minor": 5
}
