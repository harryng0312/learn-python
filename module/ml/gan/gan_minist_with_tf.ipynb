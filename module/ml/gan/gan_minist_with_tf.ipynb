{
 "cells": [
  {
   "cell_type": "code",
   "id": "initial_id",
   "metadata": {
    "collapsed": true
   },
   "source": [
    "import tensorflow as tf\n",
    "import numpy as np\n",
    "import struct\n",
    "# import matplotlib\n",
    "import matplotlib.pyplot as plt\n",
    "from array import array\n",
    "\n",
    "from flatbuffers.packer import float32\n",
    "from tensorflow.python.data.experimental.ops.distribute import batch_sizes_for_worker\n",
    "\n",
    "# my project\n",
    "from module.conf import PROJECT_DIR\n",
    "# matplotlib.use(\"QTAgg\")\n",
    "%matplotlib inline"
   ],
   "outputs": [],
   "execution_count": null
  },
  {
   "metadata": {},
   "cell_type": "code",
   "source": "x = tf.Variable(3.0)",
   "id": "6e86800c1131820f",
   "outputs": [],
   "execution_count": null
  },
  {
   "metadata": {},
   "cell_type": "code",
   "source": [
    "with tf.GradientTape() as tape:\n",
    "    y = x ** 2\n",
    "    pass\n",
    "grad = tape.gradient(y, x)"
   ],
   "id": "c3ff03a24b102b0b",
   "outputs": [],
   "execution_count": null
  },
  {
   "metadata": {},
   "cell_type": "code",
   "source": "type(grad.numpy())",
   "id": "3afceb6a03df8e61",
   "outputs": [],
   "execution_count": null
  },
  {
   "metadata": {},
   "cell_type": "code",
   "source": "del tape",
   "id": "3df45eb7f7141fa7",
   "outputs": [],
   "execution_count": null
  },
  {
   "metadata": {},
   "cell_type": "code",
   "source": [
    "mnist_path = \"/data/sample/mnist\"\n",
    "training_images_filepath = \"\".join([PROJECT_DIR, mnist_path, \"/train-images.idx3-ubyte\"])\n",
    "training_labels_filepath = \"\".join([PROJECT_DIR, mnist_path, \"/train-labels.idx1-ubyte\"])\n",
    "test_images_filepath = \"\".join([PROJECT_DIR, mnist_path, \"/t10k-images.idx3-ubyte\"])\n",
    "test_labels_filepath = \"\".join([PROJECT_DIR, mnist_path, \"/t10k-labels.idx1-ubyte\"])\n",
    "\n",
    "def read_images_labels(images_filepath, labels_filepath) -> tuple:\n",
    "    labels = []\n",
    "    with open(labels_filepath, 'rb') as file:\n",
    "        magic, size = struct.unpack(\">II\", file.read(8))\n",
    "        if magic != 2049:\n",
    "            raise ValueError('Magic number mismatch, expected 2049, got {}'.format(magic))\n",
    "        # labels = array(\"B\", file.read())\n",
    "        labels = array(\"B\", file.read())\n",
    "\n",
    "    with open(images_filepath, 'rb') as file:\n",
    "        magic, size, rows, cols = struct.unpack(\">IIII\", file.read(16))\n",
    "        if magic != 2051:\n",
    "            raise ValueError('Magic number mismatch, expected 2051, got {}'.format(magic))\n",
    "        image_data = array(\"B\", file.read())\n",
    "\n",
    "    images = []\n",
    "    # for i in range(size):\n",
    "    #     images.append([0] * rows * cols)\n",
    "    for i in range(size):\n",
    "        img = np.array(image_data[i * rows * cols:(i + 1) * rows * cols])\n",
    "        img = img.reshape(28, 28)\n",
    "        # images[i][:] = img\n",
    "        images.append(img)\n",
    "\n",
    "    return images, labels\n",
    "\n",
    "def load_data() -> tuple:\n",
    "    x_train, y_train = read_images_labels(training_images_filepath, training_labels_filepath)\n",
    "    x_test, y_test = read_images_labels(test_images_filepath, test_labels_filepath)\n",
    "    return (x_train, y_train),(x_test, y_test)\n",
    "\n",
    "(X_train, y_train), (X_test, y_test) = load_data()"
   ],
   "id": "f6f975506f50e1",
   "outputs": [],
   "execution_count": null
  },
  {
   "metadata": {},
   "cell_type": "code",
   "source": [
    "# X_train = (np.asarray(X_train)  - 127.5)/ 127.5\n",
    "X_train = np.asarray(X_train)\n",
    "y_train = np.asarray(y_train)\n",
    "# X_test  = (np.asarray(X_test) - 127.5) / 127.5\n",
    "X_test  = np.asarray(X_test)\n",
    "y_test  = np.asarray(y_test)"
   ],
   "id": "15c39ac70fa4e25b",
   "outputs": [],
   "execution_count": null
  },
  {
   "metadata": {},
   "cell_type": "code",
   "source": "tf.config.list_physical_devices()",
   "id": "46a34ed3147f3e27",
   "outputs": [],
   "execution_count": null
  },
  {
   "metadata": {},
   "cell_type": "code",
   "source": [
    "# tf.config.list_physical_devices('GPU')\n",
    "tf.config.list_physical_devices()\n",
    "tf.config.set_visible_devices(tf.config.list_physical_devices('GPU')[0], 'GPU')"
   ],
   "id": "83ef0e6b437d2e3b",
   "outputs": [],
   "execution_count": null
  },
  {
   "metadata": {},
   "cell_type": "code",
   "source": [
    "class Generator(tf.keras.Model):\n",
    "    def __init__(self, noise_dim: int, target_shape: tuple):\n",
    "        super(Generator, self).__init__()\n",
    "        self.model = tf.keras.Sequential(layers= [\n",
    "            tf.keras.layers.InputLayer(input_shape=(noise_dim,)),\n",
    "            tf.keras.layers.Dense(units=256, activation=tf.nn.leaky_relu),\n",
    "            tf.keras.layers.BatchNormalization(),\n",
    "            tf.keras.layers.Dense(units=512, activation=tf.nn.leaky_relu),\n",
    "            tf.keras.layers.BatchNormalization(),\n",
    "            tf.keras.layers.Dense(units=1024, activation=tf.nn.leaky_relu),\n",
    "            tf.keras.layers.BatchNormalization(),\n",
    "            tf.keras.layers.Dense(units=(target_shape[0] * target_shape[1]), activation=tf.nn.tanh),\n",
    "            tf.keras.layers.Reshape(target_shape=target_shape)\n",
    "        ])\n",
    "        return\n",
    "\n",
    "    def call(self, inputs, training=False):\n",
    "        return self.model(inputs, training=training)\n",
    "\n",
    "class Discriminator(tf.keras.Model):\n",
    "    def __init__(self, target_shape: tuple):\n",
    "        super(Discriminator, self).__init__()\n",
    "        self.model = tf.keras.Sequential(layers=[\n",
    "            # tf.keras.layers.InputLayer(shape=target_shape),\n",
    "            tf.keras.layers.Flatten(input_shape=target_shape),\n",
    "            tf.keras.layers.Dense(units=1024, activation=tf.nn.leaky_relu),\n",
    "            tf.keras.layers.Dropout(rate=0.3),\n",
    "            tf.keras.layers.Dense(units=512, activation=tf.nn.leaky_relu),\n",
    "            tf.keras.layers.Dropout(rate=0.3),\n",
    "            tf.keras.layers.Dense(units=256, activation=tf.nn.leaky_relu),\n",
    "            tf.keras.layers.Dropout(rate=0.3),\n",
    "            tf.keras.layers.Dense(units=1, activation=tf.nn.sigmoid),\n",
    "        ])\n",
    "\n",
    "    def call(self, inputs, training=False):\n",
    "        return self.model(inputs, training=training)\n"
   ],
   "id": "7ee833de1e78d45b",
   "outputs": [],
   "execution_count": null
  },
  {
   "metadata": {},
   "cell_type": "code",
   "source": [
    "class GAN(tf.keras.Model):\n",
    "    def __init__(self, noise_dim=100, target_shape=[28, 28]):\n",
    "        super(GAN, self).__init__()\n",
    "        self.gen_optimizer = None\n",
    "        self.disc_optimizer = None\n",
    "        self.loss_fn = None\n",
    "        self.noise_dim = noise_dim\n",
    "        self.target_shape = target_shape\n",
    "        self.generator = Generator(self.noise_dim, self.target_shape)\n",
    "        self.discriminator = Discriminator(self.target_shape)\n",
    "\n",
    "    def compile(self, gen_optimizer, disc_optimizer, loss_fn):\n",
    "        super(GAN, self).compile()\n",
    "        self.gen_optimizer = gen_optimizer\n",
    "        self.disc_optimizer = disc_optimizer\n",
    "        self.loss_fn = loss_fn\n",
    "        pass\n",
    "\n",
    "    def train_step(self, batch):\n",
    "        batch_sizes = tf.shape(batch)[0]\n",
    "        # random noise\n",
    "        noise = tf.random.normal(shape=(batch_sizes, self.noise_dim))\n",
    "        # gen fake img by Generator\n",
    "        fake_images = self.generator(noise, training=True)\n",
    "        # 1 - real image, 0 - fake image\n",
    "        real_labels = tf.ones((batch_sizes, 1))\n",
    "        fake_labels = tf.zeros((batch_sizes, 1))\n",
    "\n",
    "        # train Discriminator\n",
    "        with tf.GradientTape() as disc_tape:\n",
    "            real_preds = self.discriminator(batch, training=True)\n",
    "            fake_preds = self.discriminator(fake_images, training=True)\n",
    "\n",
    "            real_loss = self.loss_fn(real_labels, real_preds)\n",
    "            fake_loss = self.loss_fn(fake_labels, fake_preds)\n",
    "\n",
    "            disc_loss = (real_loss + fake_loss) / 2\n",
    "            pass\n",
    "        grad = disc_tape.gradient(disc_loss, self.discriminator.trainable_variables)\n",
    "        self.disc_optimizer.apply_gradients(zip(grad, self.discriminator.trainable_variables))\n",
    "\n",
    "        # train Generator\n",
    "        with tf.GradientTape() as gen_tape:\n",
    "            fake_images = self.generator(noise, training=True)\n",
    "            fake_preds = self.discriminator(fake_images, training=True)\n",
    "            gen_loss = self.loss_fn(real_labels, fake_preds)\n",
    "            pass\n",
    "        grad = gen_tape.gradient(gen_loss, self.generator.trainable_variables)\n",
    "        self.gen_optimizer.apply_gradients(zip(grad, self.generator.trainable_variables))\n",
    "        return {\"gen_loss\": gen_loss, \"disc_loss\": disc_loss}"
   ],
   "id": "88136ad4222ee512",
   "outputs": [],
   "execution_count": null
  },
  {
   "metadata": {},
   "cell_type": "code",
   "source": "# dataset = tf.reshape(X_train, [-1, 784]).numpy().shape",
   "id": "13074a697a4a0a86",
   "outputs": [],
   "execution_count": null
  },
  {
   "metadata": {
    "ExecuteTime": {
     "end_time": "2025-03-01T15:04:22.870805Z",
     "start_time": "2025-03-01T15:04:20.621163Z"
    }
   },
   "cell_type": "code",
   "source": [
    "# dataset = tf.data.Dataset.from_tensor_slices(X_train).shuffle(60000).batch(128)\n",
    "(x_train, _), (_, _) = tf.keras.datasets.mnist.load_data()\n",
    "x_train = (x_train.astype(\"float64\") - 127.5) / 127.5  # Standartize to [-1, 1]\n",
    "dataset = tf.data.Dataset.from_tensor_slices(x_train).shuffle(60000).batch(128)"
   ],
   "id": "c3c90ba77d20602d",
   "outputs": [
    {
     "name": "stdout",
     "output_type": "stream",
     "text": [
      "Downloading data from https://storage.googleapis.com/tensorflow/tf-keras-datasets/mnist.npz\n",
      "\u001B[1m11490434/11490434\u001B[0m \u001B[32m━━━━━━━━━━━━━━━━━━━━\u001B[0m\u001B[37m\u001B[0m \u001B[1m2s\u001B[0m 0us/step\n"
     ]
    }
   ],
   "execution_count": 17
  },
  {
   "metadata": {},
   "cell_type": "code",
   "source": [
    "# plt.imshow(X_train[0], cmap=\"gray\")\n",
    "# plt.axis(\"off\")\n",
    "# plt.show()"
   ],
   "id": "99de60a6dacec455",
   "outputs": [],
   "execution_count": null
  },
  {
   "metadata": {},
   "cell_type": "code",
   "source": [
    "# x_train = (X_train.astype(\"float32\") - 127.5) / 127.5\n",
    "# dataset = tf.data.Dataset.from_tensor_slices(x_train).shuffle(60_000).batch(128)"
   ],
   "id": "e6574196ad2f18f7",
   "outputs": [],
   "execution_count": null
  },
  {
   "metadata": {},
   "cell_type": "code",
   "source": [
    "gan = GAN(noise_dim=128)\n",
    "\n",
    "gan.compile(\n",
    "    # gen_optimizer=tf.keras.optimizers.Adam(0.0002, 0.5),\n",
    "    # disc_optimizer=tf.keras.optimizers.Adam(0.0002, 0.5),\n",
    "    # loss_fn=tf.keras.losses.BinaryCrossentropy()\n",
    "    # gen_optimizer=tf.keras.optimizers.Adam(learning_rate=0.001, beta_1=0.9),\n",
    "    # disc_optimizer=tf.keras.optimizers.Adam(learning_rate=0.001, beta_1=0.9),\n",
    "    # loss_fn=tf.keras.losses.BinaryCrossentropy()\n",
    "    gen_optimizer=tf.keras.optimizers.Adam(learning_rate=0.0002),\n",
    "    disc_optimizer=tf.keras.optimizers.Adam(learning_rate=0.0002),\n",
    "    loss_fn=tf.keras.losses.BinaryCrossentropy()\n",
    ")\n",
    "\n",
    "# gan.fit(dataset, epochs=10000)\n",
    "gan.fit(dataset, epochs=50)"
   ],
   "id": "4e7ba3aec4f5cfba",
   "outputs": [],
   "execution_count": null
  },
  {
   "metadata": {},
   "cell_type": "code",
   "source": "gan.save(PROJECT_DIR + \"/data/models/mnist_gan_50.h5\")",
   "id": "322a10cbd78a6418",
   "outputs": [],
   "execution_count": null
  },
  {
   "metadata": {},
   "cell_type": "code",
   "source": [
    "import matplotlib.pyplot as plt\n",
    "\n",
    "def generate_and_show_images(generator, num_examples=10):\n",
    "    noise = tf.random.normal(shape=(num_examples, 100))\n",
    "    images = generator(noise, training=False)\n",
    "    images = (images + 1) / 2.0  # standardize to [0, 1]\n",
    "\n",
    "    fig, axes = plt.subplots(nrows=2, ncols=num_examples//2, figsize=(10, 5))\n",
    "    for i in range(num_examples):\n",
    "        axes[i].imshow(images[i], cmap=\"gray\")\n",
    "        axes[i].axis(\"off\")\n",
    "    plt.show()\n",
    "\n",
    "generate_and_show_images(gan.generator)"
   ],
   "id": "d95b4831dfe7d66c",
   "outputs": [],
   "execution_count": null
  }
 ],
 "metadata": {
  "kernelspec": {
   "display_name": "Python 3",
   "language": "python",
   "name": "python3"
  },
  "language_info": {
   "codemirror_mode": {
    "name": "ipython",
    "version": 2
   },
   "file_extension": ".py",
   "mimetype": "text/x-python",
   "name": "python",
   "nbconvert_exporter": "python",
   "pygments_lexer": "ipython2",
   "version": "2.7.6"
  }
 },
 "nbformat": 4,
 "nbformat_minor": 5
}
