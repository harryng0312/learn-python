{
 "cells": [
  {
   "cell_type": "code",
   "execution_count": null,
   "id": "initial_id",
   "metadata": {
    "ExecuteTime": {
     "end_time": "2025-02-27T14:53:28.642314Z",
     "start_time": "2025-02-27T14:53:28.637954Z"
    },
    "collapsed": true
   },
   "outputs": [],
   "source": [
    "import tensorflow as tf\n",
    "# import numpy as np\n",
    "import struct\n",
    "from array import array\n",
    "\n",
    "from flatbuffers.packer import float32\n",
    "from tensorflow.python.data.experimental.ops.distribute import batch_sizes_for_worker\n",
    "\n",
    "# my project\n",
    "from module.conf import PROJECT_DIR\n",
    "# matplotlib.use(\"QTAgg\")\n",
    "%matplotlib inline"
   ]
  },
  {
   "cell_type": "code",
   "execution_count": null,
   "id": "fa172d85",
   "metadata": {},
   "outputs": [],
   "source": [
    "# tf.config.list_physical_devices('GPU')\n",
    "tf.config.list_physical_devices()"
   ]
  },
  {
   "cell_type": "code",
   "execution_count": null,
   "id": "3f0c525d",
   "metadata": {},
   "outputs": [],
   "source": [
    "tf.config.set_visible_devices(tf.config.list_physical_devices('GPU'), 'GPU')\n",
    "with tf.device(\"/device:CPU:0\"):\n",
    "    pass"
   ]
  },
  {
   "cell_type": "code",
   "execution_count": null,
   "id": "525cb21c",
   "metadata": {},
   "outputs": [],
   "source": [
    "tf.test.gpu_device_name()"
   ]
  },
  {
   "cell_type": "code",
   "execution_count": null,
   "id": "6e86800c1131820f",
   "metadata": {
    "ExecuteTime": {
     "end_time": "2025-02-27T14:53:28.782018Z",
     "start_time": "2025-02-27T14:53:28.779530Z"
    }
   },
   "outputs": [],
   "source": [
    "x = tf.Variable(3.0)"
   ]
  },
  {
   "cell_type": "code",
   "execution_count": null,
   "id": "c3ff03a24b102b0b",
   "metadata": {
    "ExecuteTime": {
     "end_time": "2025-02-27T14:53:29.120088Z",
     "start_time": "2025-02-27T14:53:29.115944Z"
    }
   },
   "outputs": [],
   "source": [
    "with tf.GradientTape() as tape:\n",
    "    y = x ** 2\n",
    "    pass\n",
    "grad = tape.gradient(y, x)"
   ]
  },
  {
   "cell_type": "code",
   "execution_count": null,
   "id": "3afceb6a03df8e61",
   "metadata": {
    "ExecuteTime": {
     "end_time": "2025-02-27T14:53:29.287811Z",
     "start_time": "2025-02-27T14:53:29.285144Z"
    }
   },
   "outputs": [],
   "source": [
    "type(grad.numpy())"
   ]
  },
  {
   "cell_type": "code",
   "execution_count": null,
   "id": "3df45eb7f7141fa7",
   "metadata": {
    "ExecuteTime": {
     "end_time": "2025-02-27T14:53:29.435033Z",
     "start_time": "2025-02-27T14:53:29.433029Z"
    }
   },
   "outputs": [],
   "source": [
    "del tape"
   ]
  },
  {
   "cell_type": "code",
   "execution_count": null,
   "id": "f6f975506f50e1",
   "metadata": {
    "ExecuteTime": {
     "end_time": "2025-02-27T14:53:29.650169Z",
     "start_time": "2025-02-27T14:53:29.567621Z"
    }
   },
   "outputs": [],
   "source": [
    "# mnist_path = \"/data/sample/mnist\"\n",
    "# training_images_filepath = \"\".join([PROJECT_DIR, mnist_path, \"/train-images.idx3-ubyte\"])\n",
    "# training_labels_filepath = \"\".join([PROJECT_DIR, mnist_path, \"/train-labels.idx1-ubyte\"])\n",
    "# test_images_filepath = \"\".join([PROJECT_DIR, mnist_path, \"/t10k-images.idx3-ubyte\"])\n",
    "# test_labels_filepath = \"\".join([PROJECT_DIR, mnist_path, \"/t10k-labels.idx1-ubyte\"])\n",
    "\n",
    "# def read_images_labels(images_filepath, labels_filepath) -> tuple:\n",
    "#     labels = []\n",
    "#     with open(labels_filepath, 'rb') as file:\n",
    "#         magic, size = struct.unpack(\">II\", file.read(8))\n",
    "#         if magic != 2049:\n",
    "#             raise ValueError('Magic number mismatch, expected 2049, got {}'.format(magic))\n",
    "#         # labels = array(\"B\", file.read())\n",
    "#         labels = array(\"B\", file.read())\n",
    "\n",
    "#     with open(images_filepath, 'rb') as file:\n",
    "#         magic, size, rows, cols = struct.unpack(\">IIII\", file.read(16))\n",
    "#         if magic != 2051:\n",
    "#             raise ValueError('Magic number mismatch, expected 2051, got {}'.format(magic))\n",
    "#         image_data = array(\"B\", file.read())\n",
    "\n",
    "#     images = []\n",
    "#     # for i in range(size):\n",
    "#     #     images.append([0] * rows * cols)\n",
    "#     for i in range(size):\n",
    "#         img = np.array(image_data[i * rows * cols:(i + 1) * rows * cols])\n",
    "#         img = img.reshape(28, 28)\n",
    "#         # images[i][:] = img\n",
    "#         images.append(img)\n",
    "\n",
    "#     return images, labels\n",
    "\n",
    "# def load_data() -> tuple:\n",
    "#     x_train, y_train = read_images_labels(training_images_filepath, training_labels_filepath)\n",
    "#     x_test, y_test = read_images_labels(test_images_filepath, test_labels_filepath)\n",
    "#     return (x_train, y_train),(x_test, y_test)\n",
    "\n",
    "# (X_train, y_train), (X_test, y_test) = load_data()"
   ]
  },
  {
   "cell_type": "code",
   "execution_count": null,
   "id": "15c39ac70fa4e25b",
   "metadata": {
    "ExecuteTime": {
     "end_time": "2025-02-27T16:04:50.138868Z",
     "start_time": "2025-02-27T16:04:50.063265Z"
    }
   },
   "outputs": [],
   "source": [
    "# X_train = np.asarray(X_train-127.5) / 127.5\n",
    "# y_train = np.asarray(y_train)\n",
    "# X_test  = np.asarray(X_test-127.5) / 127.5\n",
    "# y_test  = np.asarray(y_test)"
   ]
  },
  {
   "cell_type": "code",
   "execution_count": null,
   "id": "7ee833de1e78d45b",
   "metadata": {
    "ExecuteTime": {
     "end_time": "2025-02-27T15:57:40.111271Z",
     "start_time": "2025-02-27T15:57:40.103377Z"
    }
   },
   "outputs": [],
   "source": [
    "class Generator(tf.keras.Model):\n",
    "    def __init__(self, noise_dim=100):\n",
    "        super(Generator, self).__init__()\n",
    "        self.model = tf.keras.Sequential(layers= [\n",
    "            tf.keras.layers.InputLayer(input_shape=(noise_dim,)),\n",
    "            tf.keras.layers.Dense(units=256, activation=tf.nn.leaky_relu),\n",
    "            tf.keras.layers.BatchNormalization(),\n",
    "            tf.keras.layers.Dense(units=512, activation=tf.nn.leaky_relu),\n",
    "            tf.keras.layers.BatchNormalization(),\n",
    "            tf.keras.layers.Dense(units=1024, activation=tf.nn.leaky_relu),\n",
    "            tf.keras.layers.BatchNormalization(),\n",
    "            tf.keras.layers.Dense(units=28 * 28, activation=tf.nn.tanh),\n",
    "            tf.keras.layers.Reshape(target_shape=(28, 28)),\n",
    "        ])\n",
    "        return\n",
    "\n",
    "    def call(self, inputs, training=False):\n",
    "        return self.model(inputs, training=training)\n",
    "\n",
    "class Discriminator(tf.keras.Model):\n",
    "    def __init__(self):\n",
    "        super(Discriminator, self).__init__()\n",
    "        self.model = tf.keras.Sequential(layers=[\n",
    "            tf.keras.layers.InputLayer(input_shape=(28, 28)),\n",
    "            tf.keras.layers.Dense(units=1024, activation=tf.nn.leaky_relu),\n",
    "            tf.keras.layers.Dropout(rate=0.3),\n",
    "            tf.keras.layers.Dense(units=512, activation=tf.nn.leaky_relu),\n",
    "            tf.keras.layers.Dropout(rate=0.3),\n",
    "            tf.keras.layers.Dense(units=256, activation=tf.nn.leaky_relu),\n",
    "            tf.keras.layers.Dropout(rate=0.3),\n",
    "            tf.keras.layers.Dense(units=1, activation=tf.nn.sigmoid),\n",
    "        ])\n",
    "\n",
    "    def call(self, inputs, training=False):\n",
    "        return self.model(inputs, training=training)\n"
   ]
  },
  {
   "cell_type": "code",
   "execution_count": null,
   "id": "88136ad4222ee512",
   "metadata": {
    "ExecuteTime": {
     "end_time": "2025-02-27T15:59:57.500668Z",
     "start_time": "2025-02-27T15:59:57.492635Z"
    }
   },
   "outputs": [],
   "source": [
    "class GAN(tf.keras.Model):\n",
    "    def __init__(self, noise_dim=100):\n",
    "        super(GAN, self).__init__()\n",
    "        self.noise_dim = noise_dim\n",
    "        self.generator = Generator()\n",
    "        self.discriminator = Discriminator()\n",
    "\n",
    "    def compile(self, gen_optimizer, disc_optimizer, loss_fn):\n",
    "        super(GAN, self).compile()\n",
    "        self.gen_optimizer = gen_optimizer\n",
    "        self.disc_optimizer = disc_optimizer\n",
    "        self.loss_fn = loss_fn\n",
    "        pass\n",
    "\n",
    "    def train_step(self, batch):\n",
    "        batch_sizes = tf.shape(batch)[0]\n",
    "        # random noise\n",
    "        noise = tf.random.normal(shape=(batch_sizes, self.noise_dim))\n",
    "        # gen fake img by Generator\n",
    "        fake_images = self.generator(noise, training=True)\n",
    "        # 1 - real image, 0 - fake image\n",
    "        real_labels = tf.ones((batch_sizes, 1))\n",
    "        fake_labels = tf.zeros((batch_sizes, 1))\n",
    "\n",
    "        # train Discriminator\n",
    "        with tf.GradientTape() as disc_tape:\n",
    "            real_preds = self.discriminator(batch, training=True)\n",
    "            fake_preds = self.discriminator(fake_images, training=True)\n",
    "\n",
    "            real_loss = self.loss_fn(real_labels, real_preds)\n",
    "            fake_loss = self.loss_fn(fake_labels, fake_preds)\n",
    "\n",
    "            disc_loss = (real_loss + fake_loss) / 2\n",
    "            pass\n",
    "        grad = disc_tape.gradient(disc_loss, self.discriminator.trainable_variables)\n",
    "        self.disc_optimizer.apply_gradients(zip(grad, self.discriminator.trainable_variables))\n",
    "\n",
    "        # train Generator\n",
    "        with tf.GradientTape() as gen_tape:\n",
    "            fake_images = self.generator(noise, training=True)\n",
    "            fake_preds = self.discriminator(fake_images, training=True)\n",
    "            gen_loss = self.loss_fn(real_labels, fake_preds)\n",
    "            pass\n",
    "        grad = gen_tape.gradient(gen_loss, self.generator.trainable_variables)\n",
    "        self.gen_optimizer.apply_gradients(zip(grad, self.generator.trainable_variables))\n",
    "        return {\"gen_loss\": gen_loss, \"disc_loss\": disc_loss}"
   ]
  },
  {
   "cell_type": "code",
   "execution_count": null,
   "id": "13074a697a4a0a86",
   "metadata": {
    "ExecuteTime": {
     "end_time": "2025-02-27T15:59:58.135054Z",
     "start_time": "2025-02-27T15:59:58.094004Z"
    }
   },
   "outputs": [],
   "source": [
    "# tf.reshape(X_train, [-1, 784]).numpy().shape"
   ]
  },
  {
   "cell_type": "code",
   "execution_count": null,
   "id": "c3c90ba77d20602d",
   "metadata": {
    "ExecuteTime": {
     "end_time": "2025-02-27T15:59:58.884645Z",
     "start_time": "2025-02-27T15:59:58.879743Z"
    }
   },
   "outputs": [],
   "source": [
    "# dataset = tf.data.Dataset.from_tensor_slices(X_train).shuffle(60000).batch(128)\n",
    "(x_train, _), (_, _) = tf.keras.datasets.mnist.load_data()\n",
    "x_train = (x_train.astype(\"float32\") - 127.5) / 127.5  # Standartize to [-1, 1]\n",
    "dataset = tf.data.Dataset.from_tensor_slices(x_train).shuffle(60000).batch(128)"
   ]
  },
  {
   "cell_type": "code",
   "execution_count": null,
   "id": "4e7ba3aec4f5cfba",
   "metadata": {
    "ExecuteTime": {
     "end_time": "2025-02-27T16:02:10.554892Z",
     "start_time": "2025-02-27T15:59:59.892188Z"
    }
   },
   "outputs": [],
   "source": [
    "gan = GAN(noise_dim=100)\n",
    "\n",
    "gan.compile(\n",
    "    gen_optimizer=tf.keras.optimizers.Adam(0.0002, 0.5),\n",
    "    disc_optimizer=tf.keras.optimizers.Adam(0.0002, 0.5),\n",
    "    loss_fn=tf.keras.losses.BinaryCrossentropy()\n",
    ")\n",
    "\n",
    "gan.fit(dataset, epochs=10000)"
   ]
  },
  {
   "cell_type": "code",
   "execution_count": null,
   "id": "322a10cbd78a6418",
   "metadata": {
    "ExecuteTime": {
     "end_time": "2025-02-27T16:02:44.993533Z",
     "start_time": "2025-02-27T16:02:44.990304Z"
    }
   },
   "outputs": [],
   "source": []
  },
  {
   "cell_type": "code",
   "execution_count": null,
   "id": "d95b4831dfe7d66c",
   "metadata": {},
   "outputs": [],
   "source": [
    "import matplotlib.pyplot as plt\n",
    "\n",
    "def generate_and_show_images(generator, num_examples=10):\n",
    "    noise = tf.random.normal(shape=(num_examples, 100))\n",
    "    images = generator(noise, training=False)\n",
    "    images = (images + 1) / 2.0  # standardize to [0, 1]\n",
    "\n",
    "    fig, axes = plt.subplots(1, num_examples, figsize=(10, 2))\n",
    "    for i in range(num_examples):\n",
    "        axes[i].imshow(images[i], cmap=\"gray\")\n",
    "        axes[i].axis(\"off\")\n",
    "    plt.show()\n",
    "\n",
    "generate_and_show_images(gan.generator)"
   ]
  }
 ],
 "metadata": {
  "kernelspec": {
   "display_name": "learn-ml",
   "language": "python",
   "name": "python3"
  },
  "language_info": {
   "codemirror_mode": {
    "name": "ipython",
    "version": 3
   },
   "file_extension": ".py",
   "mimetype": "text/x-python",
   "name": "python",
   "nbconvert_exporter": "python",
   "pygments_lexer": "ipython3",
   "version": "3.9.21"
  }
 },
 "nbformat": 4,
 "nbformat_minor": 5
}
