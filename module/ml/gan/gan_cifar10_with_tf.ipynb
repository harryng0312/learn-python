{
 "cells": [
  {
   "cell_type": "code",
   "id": "initial_id",
   "metadata": {
    "collapsed": true,
    "ExecuteTime": {
     "end_time": "2025-03-03T14:28:25.152819Z",
     "start_time": "2025-03-03T14:28:22.087356Z"
    }
   },
   "source": [
    "import tensorflow as tf\n",
    "import keras\n",
    "import numpy as np\n",
    "import struct\n",
    "import gzip\n",
    "# import matplotlib\n",
    "import matplotlib.pyplot as plt\n",
    "from array import array\n",
    "\n",
    "from flatbuffers.packer import float32\n",
    "from tensorflow.python.data.experimental.ops.distribute import batch_sizes_for_worker\n",
    "\n",
    "# my project\n",
    "from module.conf import PROJECT_DIR\n",
    "# matplotlib.use(\"QTAgg\")\n",
    "%matplotlib inline"
   ],
   "outputs": [],
   "execution_count": 1
  },
  {
   "cell_type": "code",
   "id": "46a34ed3147f3e27",
   "metadata": {
    "ExecuteTime": {
     "end_time": "2025-03-03T14:28:25.158998Z",
     "start_time": "2025-03-03T14:28:25.156101Z"
    }
   },
   "source": [
    "tf.config.list_physical_devices()"
   ],
   "outputs": [
    {
     "data": {
      "text/plain": [
       "[PhysicalDevice(name='/physical_device:CPU:0', device_type='CPU'),\n",
       " PhysicalDevice(name='/physical_device:GPU:0', device_type='GPU')]"
      ]
     },
     "execution_count": 2,
     "metadata": {},
     "output_type": "execute_result"
    }
   ],
   "execution_count": 2
  },
  {
   "cell_type": "code",
   "id": "83ef0e6b437d2e3b",
   "metadata": {
    "ExecuteTime": {
     "end_time": "2025-03-03T14:28:25.224814Z",
     "start_time": "2025-03-03T14:28:25.222765Z"
    }
   },
   "source": [
    "# tf.config.list_physical_devices('GPU')\n",
    "tf.config.set_visible_devices(tf.config.list_physical_devices('GPU')[0], 'GPU')"
   ],
   "outputs": [],
   "execution_count": 3
  },
  {
   "metadata": {
    "ExecuteTime": {
     "end_time": "2025-03-03T14:30:40.997865Z",
     "start_time": "2025-03-03T14:30:39.725858Z"
    }
   },
   "cell_type": "code",
   "source": [
    "# dataset = tf.data.Dataset.from_tensor_slices(X_train).shuffle(60000).batch(128)\n",
    "(x_train, _), (_, _) = keras.datasets.cifar10.load_data()\n",
    "x_train = (x_train.astype(\"float64\") - 127.5) / 127.5  # Standartize to [-1, 1]"
   ],
   "id": "20efd734449ba11c",
   "outputs": [],
   "execution_count": 15
  },
  {
   "metadata": {
    "ExecuteTime": {
     "end_time": "2025-03-03T14:30:41.985664Z",
     "start_time": "2025-03-03T14:30:41.002125Z"
    }
   },
   "cell_type": "code",
   "source": [
    "dataset = tf.data.Dataset.from_tensor_slices(x_train).shuffle(x_train.shape[0]).batch(256)\n",
    "# dataset = x_train"
   ],
   "id": "e685068f06ce409",
   "outputs": [],
   "execution_count": 16
  },
  {
   "cell_type": "code",
   "id": "7ee833de1e78d45b",
   "metadata": {},
   "source": [
    "class Generator(keras.Model):\n",
    "    def __init__(self, noise_dim: int, target_shape: tuple):\n",
    "        super(Generator, self).__init__()\n",
    "        self.model = keras.Sequential(layers= [\n",
    "            keras.layers.InputLayer(input_shape=(noise_dim,)),\n",
    "\n",
    "            keras.layers.Dense(units=8*8*256, activation=None, use_bias=False),\n",
    "            keras.layers.Reshape((8, 8, 256)),\n",
    "            keras.layers.BatchNormalization(),\n",
    "            keras.layers.ReLU(),\n",
    "\n",
    "            keras.layers.Conv2DTranspose(128, (4, 4), strides=2, padding=\"same\", use_bias=False),\n",
    "            keras.layers.BatchNormalization(),\n",
    "            keras.layers.ReLU(),\n",
    "\n",
    "            keras.layers.Conv2DTranspose(64, (4, 4), strides=2, padding=\"same\", use_bias=False),\n",
    "            keras.layers.BatchNormalization(),\n",
    "            keras.layers.Conv2DTranspose(3, (4, 4), strides=2, padding=\"same\", activation=\"tanh\")\n",
    "        ])\n",
    "        # self.fc = keras.layers.Dense(8*8*256, use_bias=False)\n",
    "        # self.bn1 = keras.layers.BatchNormalization()\n",
    "        # self.relu = keras.layers.ReLU()\n",
    "        #\n",
    "        # self.conv1 = keras.layers.Conv2DTranspose(128, (4, 4), strides=2, padding=\"same\", use_bias=False)\n",
    "        # self.bn2 = keras.layers.BatchNormalization()\n",
    "        # self.conv2 = keras.layers.Conv2DTranspose(64, (4, 4), strides=2, padding=\"same\", use_bias=False)\n",
    "        # self.bn3 = keras.layers.BatchNormalization()\n",
    "        # self.conv3 = keras.layers.Conv2DTranspose(3, (4, 4), strides=2, padding=\"same\", activation=\"tanh\")\n",
    "        return\n",
    "\n",
    "    def call(self, inputs, training=False):\n",
    "        # return self.model(inputs, training=training)\n",
    "        # x = self.fc(inputs)\n",
    "        # x = tf.reshape(x, (-1, 8, 8, 256))\n",
    "        # x = self.bn1(x, training=training)\n",
    "        # x = self.relu(x)\n",
    "        #\n",
    "        # x = self.conv1(x)\n",
    "        # x = self.bn2(x, training=training)\n",
    "        # x = self.relu(x)\n",
    "        #\n",
    "        # x = self.conv2(x)\n",
    "        # x = self.bn3(x, training=training)\n",
    "        # x = self.relu(x)\n",
    "        #\n",
    "        # x = self.conv3(x)  # Output shape: (32, 32, 3)\n",
    "        # return x\n",
    "        return self.model(inputs)\n",
    "\n",
    "class Discriminator(keras.Model):\n",
    "    def __init__(self, target_shape: tuple):\n",
    "        super(Discriminator, self).__init__()\n",
    "        # self.conv1 = keras.layers.Conv2D(64, (4, 4), strides=2, padding=\"same\")\n",
    "        # self.leaky_relu = keras.layers.LeakyReLU(0.2)\n",
    "        # self.conv2 = keras.layers.Conv2D(128, (4, 4), strides=2, padding=\"same\")\n",
    "        # self.bn = keras.layers.BatchNormalization()\n",
    "        # self.conv3 = keras.layers.Conv2D(256, (4, 4), strides=2, padding=\"same\")\n",
    "        # self.flatten = keras.layers.Flatten()\n",
    "        # self.fc = keras.layers.Dense(1, activation=\"sigmoid\")\n",
    "        self.model = keras.Sequential(layers=[\n",
    "            # keras.layers.InputLayer(shape=target_shape),\n",
    "            # keras.layers.Flatten(input_shape=target_shape),\n",
    "\n",
    "            keras.layers.Conv2D(filters=64, kernel_size=(4, 4), strides=2, padding=\"same\"),\n",
    "            keras.layers.LeakyReLU(0.2),\n",
    "            keras.layers.Conv2D(filters=128, kernel_size=(4, 4), strides=2, padding=\"same\"),\n",
    "            keras.layers.BatchNormalization(),\n",
    "            keras.layers.LeakyReLU(0.2),\n",
    "            keras.layers.Conv2D(filters=256, kernel_size=(4, 4), strides=2, padding=\"same\"),\n",
    "            keras.layers.LeakyReLU(0.2),\n",
    "            keras.layers.Flatten(),\n",
    "            keras.layers.Dense(1, activation=\"sigmoid\")\n",
    "        ])\n",
    "\n",
    "    def call(self, inputs, training=False):\n",
    "        # x = self.conv1(inputs)\n",
    "        # x = self.leaky_relu(x)\n",
    "        #\n",
    "        # x = self.conv2(x)\n",
    "        # x = self.bn(x, training=training)\n",
    "        # x = self.leaky_relu(x)\n",
    "        #\n",
    "        # x = self.conv3(x)\n",
    "        # x = self.leaky_relu(x)\n",
    "        #\n",
    "        # x = self.flatten(x)\n",
    "        # x = self.fc(x)\n",
    "        # return x\n",
    "        return self.model(inputs, training=training)\n"
   ],
   "outputs": [],
   "execution_count": null
  },
  {
   "cell_type": "code",
   "id": "88136ad4222ee512",
   "metadata": {},
   "source": [
    "class GAN(keras.Model):\n",
    "    def __init__(self, noise_dim=100, target_shape=[32, 32, 3]):\n",
    "        super(GAN, self).__init__()\n",
    "        self.gen_optimizer = None\n",
    "        self.disc_optimizer = None\n",
    "        self.loss_fn = None\n",
    "        self.noise_dim = noise_dim\n",
    "        self.target_shape = target_shape\n",
    "        self.generator = Generator(self.noise_dim, self.target_shape)\n",
    "        self.discriminator = Discriminator(self.target_shape)\n",
    "\n",
    "    def compile(self, gen_optimizer, disc_optimizer, loss_fn):\n",
    "        super(GAN, self).compile()\n",
    "        self.gen_optimizer = gen_optimizer\n",
    "        self.disc_optimizer = disc_optimizer\n",
    "        self.loss_fn = loss_fn\n",
    "        pass\n",
    "\n",
    "    @tf.function\n",
    "    def train_step(self, batch):\n",
    "        batch_sizes = tf.shape(batch)[0]\n",
    "        # random noise\n",
    "        noise = tf.random.normal(shape=(batch_sizes, self.noise_dim))\n",
    "\n",
    "        # 1 - real image, 0 - fake image\n",
    "        real_labels = tf.ones((batch_sizes, 1))\n",
    "        fake_labels = tf.zeros((batch_sizes, 1))\n",
    "\n",
    "        # train Discriminator\n",
    "        with tf.GradientTape() as disc_tape, tf.GradientTape() as gen_tape:\n",
    "            # gen fake img by Generator\n",
    "            fake_images = self.generator(noise, training=True)\n",
    "\n",
    "            real_preds = self.discriminator(batch, training=True)\n",
    "            fake_preds = self.discriminator(fake_images, training=True)\n",
    "\n",
    "            real_loss = self.loss_fn(real_labels, real_preds)\n",
    "            fake_loss = self.loss_fn(fake_labels, fake_preds)\n",
    "\n",
    "            disc_loss = (real_loss + fake_loss) / 2\n",
    "\n",
    "            fake_images = self.generator(noise, training=True)\n",
    "            fake_preds = self.discriminator(fake_images, training=True)\n",
    "            gen_loss = self.loss_fn(real_labels, fake_preds)\n",
    "            pass\n",
    "        # train Generator\n",
    "        gen_grad = gen_tape.gradient(gen_loss, self.generator.trainable_variables)\n",
    "        disc_grad = disc_tape.gradient(disc_loss, self.discriminator.trainable_variables)\n",
    "        self.gen_optimizer.apply_gradients(zip(gen_grad, self.generator.trainable_variables))\n",
    "        self.disc_optimizer.apply_gradients(zip(disc_grad, self.discriminator.trainable_variables))\n",
    "\n",
    "        return {\"gen_loss\": gen_loss, \"disc_loss\": disc_loss}"
   ],
   "outputs": [],
   "execution_count": null
  },
  {
   "cell_type": "code",
   "id": "4e7ba3aec4f5cfba",
   "metadata": {},
   "source": [
    "gan = GAN(noise_dim=512)\n",
    "\n",
    "gan.compile(\n",
    "    # gen_optimizer=keras.optimizers.Adam(0.0002, 0.5),\n",
    "    # disc_optimizer=keras.optimizers.Adam(0.0002, 0.5),\n",
    "    # loss_fn=keras.losses.BinaryCrossentropy()\n",
    "    # gen_optimizer=keras.optimizers.Adam(learning_rate=0.001, beta_1=0.9),\n",
    "    # disc_optimizer=keras.optimizers.Adam(learning_rate=0.001, beta_1=0.9),\n",
    "    # loss_fn=keras.losses.BinaryCrossentropy()\n",
    "    gen_optimizer=keras.optimizers.Adam(learning_rate=0.0002, beta_1=0.5),\n",
    "    disc_optimizer=keras.optimizers.Adam(learning_rate=0.0002, beta_1=0.5),\n",
    "    loss_fn=keras.losses.BinaryCrossentropy()\n",
    ")\n",
    "\n",
    "# gan.fit(dataset, epochs=10000)\n",
    "gan.fit(dataset, epochs=5, batch_size=256)"
   ],
   "outputs": [],
   "execution_count": null
  },
  {
   "cell_type": "code",
   "id": "322a10cbd78a6418",
   "metadata": {},
   "source": [
    "gan.save_weights(PROJECT_DIR + \"/data/models/cifar10_gan_500/model\")"
   ],
   "outputs": [],
   "execution_count": null
  },
  {
   "cell_type": "code",
   "id": "c2f35de0",
   "metadata": {},
   "source": [
    "# gan.load_weights(PROJECT_DIR + \"/data/models/fashionmnist_gan_1000_2/model\")"
   ],
   "outputs": [],
   "execution_count": null
  },
  {
   "cell_type": "code",
   "id": "d95b4831dfe7d66c",
   "metadata": {},
   "source": [
    "import matplotlib.pyplot as plt\n",
    "\n",
    "def generate_and_show_images(generator, num_examples=10):\n",
    "    noise = tf.random.normal(shape=(num_examples, 512))\n",
    "    images = generator(noise, training=False)\n",
    "    images = (images + 1) / 2.0  # standardize to [0, 1]\n",
    "    rows=4\n",
    "\n",
    "    fig, axes = plt.subplots(nrows=rows, ncols=num_examples//rows, figsize=(10, 5))\n",
    "    for i, ax in enumerate(axes.flat):\n",
    "        ax.imshow(images[i], cmap=\"gray\")\n",
    "        ax.axis(\"off\")\n",
    "    plt.show()\n",
    "\n",
    "generate_and_show_images(gan.generator, num_examples=20)"
   ],
   "outputs": [],
   "execution_count": null
  },
  {
   "cell_type": "code",
   "id": "9f513aa71e38ce84",
   "metadata": {},
   "source": [],
   "outputs": [],
   "execution_count": null
  },
  {
   "metadata": {},
   "cell_type": "code",
   "outputs": [],
   "execution_count": null,
   "source": "",
   "id": "ed251a5856cbc987"
  },
  {
   "metadata": {
    "ExecuteTime": {
     "end_time": "2025-03-03T14:29:55.255882Z",
     "start_time": "2025-03-03T14:29:55.249792Z"
    }
   },
   "cell_type": "code",
   "source": "",
   "id": "d1fd64637b7ac5c4",
   "outputs": [],
   "execution_count": 9
  },
  {
   "metadata": {
    "ExecuteTime": {
     "end_time": "2025-03-03T14:29:59.403455Z",
     "start_time": "2025-03-03T14:29:59.398600Z"
    }
   },
   "cell_type": "code",
   "source": "",
   "id": "8e8b2eddb8f150ae",
   "outputs": [],
   "execution_count": 10
  },
  {
   "metadata": {
    "ExecuteTime": {
     "end_time": "2025-03-03T14:30:14.850643Z",
     "start_time": "2025-03-03T14:30:14.822915Z"
    }
   },
   "cell_type": "code",
   "source": "",
   "id": "945fd9c34b827f7",
   "outputs": [],
   "execution_count": 12
  },
  {
   "metadata": {
    "ExecuteTime": {
     "end_time": "2025-03-03T14:30:16.868458Z",
     "start_time": "2025-03-03T14:30:16.862148Z"
    }
   },
   "cell_type": "code",
   "source": "",
   "id": "3683870d7be60515",
   "outputs": [],
   "execution_count": 13
  },
  {
   "metadata": {
    "ExecuteTime": {
     "end_time": "2025-03-03T14:30:46.370496Z",
     "start_time": "2025-03-03T14:30:46.135593Z"
    }
   },
   "cell_type": "code",
   "source": [
    "def train(dataset, epochs):\n",
    "    for epoch in range(epochs):\n",
    "        for batch, real_images in enumerate(dataset):\n",
    "            gen_loss, disc_loss = train_step(real_images)\n",
    "\n",
    "        print(f\"Epoch {epoch+1}, Generator Loss: {gen_loss.numpy()}, Discriminator Loss: {disc_loss.numpy()}\")\n",
    "\n",
    "        if (epoch + 1) % 10 == 0:\n",
    "            generate_and_save_images(generator, epoch+1)\n",
    "\n",
    "def generate_and_save_images(model, epoch):\n",
    "    noise = tf.random.normal([16, noise_dim])\n",
    "    generated_images = model(noise, training=False)\n",
    "\n",
    "    fig, axes = plt.subplots(4, 4, figsize=(4, 4))\n",
    "    for i, ax in enumerate(axes.flat):\n",
    "        ax.imshow((generated_images[i] + 1) / 2)\n",
    "        ax.axis(\"off\")\n",
    "    plt.savefig(f\"gan_cifar10_epoch_{epoch}.png\")\n",
    "    plt.show()\n",
    "\n",
    "# Train GAN\n",
    "train(dataset, epochs=50)"
   ],
   "id": "bcbfbf7a28e07216",
   "outputs": [
    {
     "ename": "NameError",
     "evalue": "in user code:\n\n    File \"/var/folders/q9/p4y2p0h12t78cf2jxpr8pvgc0000gn/T/ipykernel_51139/1769584600.py\", line 3, in train_step  *\n        noise = tf.random.normal([batch_size, noise_dim])\n\n    NameError: name 'batch_size' is not defined\n",
     "output_type": "error",
     "traceback": [
      "\u001B[0;31m---------------------------------------------------------------------------\u001B[0m",
      "\u001B[0;31mNameError\u001B[0m                                 Traceback (most recent call last)",
      "Cell \u001B[0;32mIn[17], line 23\u001B[0m\n\u001B[1;32m     20\u001B[0m     plt\u001B[38;5;241m.\u001B[39mshow()\n\u001B[1;32m     22\u001B[0m \u001B[38;5;66;03m# Train GAN\u001B[39;00m\n\u001B[0;32m---> 23\u001B[0m \u001B[43mtrain\u001B[49m\u001B[43m(\u001B[49m\u001B[43mdataset\u001B[49m\u001B[43m,\u001B[49m\u001B[43m \u001B[49m\u001B[43mepochs\u001B[49m\u001B[38;5;241;43m=\u001B[39;49m\u001B[38;5;241;43m50\u001B[39;49m\u001B[43m)\u001B[49m\n",
      "Cell \u001B[0;32mIn[17], line 4\u001B[0m, in \u001B[0;36mtrain\u001B[0;34m(dataset, epochs)\u001B[0m\n\u001B[1;32m      2\u001B[0m \u001B[38;5;28;01mfor\u001B[39;00m epoch \u001B[38;5;129;01min\u001B[39;00m \u001B[38;5;28mrange\u001B[39m(epochs):\n\u001B[1;32m      3\u001B[0m     \u001B[38;5;28;01mfor\u001B[39;00m batch, real_images \u001B[38;5;129;01min\u001B[39;00m \u001B[38;5;28menumerate\u001B[39m(dataset):\n\u001B[0;32m----> 4\u001B[0m         gen_loss, disc_loss \u001B[38;5;241m=\u001B[39m \u001B[43mtrain_step\u001B[49m\u001B[43m(\u001B[49m\u001B[43mreal_images\u001B[49m\u001B[43m)\u001B[49m\n\u001B[1;32m      6\u001B[0m     \u001B[38;5;28mprint\u001B[39m(\u001B[38;5;124mf\u001B[39m\u001B[38;5;124m\"\u001B[39m\u001B[38;5;124mEpoch \u001B[39m\u001B[38;5;132;01m{\u001B[39;00mepoch\u001B[38;5;241m+\u001B[39m\u001B[38;5;241m1\u001B[39m\u001B[38;5;132;01m}\u001B[39;00m\u001B[38;5;124m, Generator Loss: \u001B[39m\u001B[38;5;132;01m{\u001B[39;00mgen_loss\u001B[38;5;241m.\u001B[39mnumpy()\u001B[38;5;132;01m}\u001B[39;00m\u001B[38;5;124m, Discriminator Loss: \u001B[39m\u001B[38;5;132;01m{\u001B[39;00mdisc_loss\u001B[38;5;241m.\u001B[39mnumpy()\u001B[38;5;132;01m}\u001B[39;00m\u001B[38;5;124m\"\u001B[39m)\n\u001B[1;32m      8\u001B[0m     \u001B[38;5;28;01mif\u001B[39;00m (epoch \u001B[38;5;241m+\u001B[39m \u001B[38;5;241m1\u001B[39m) \u001B[38;5;241m%\u001B[39m \u001B[38;5;241m10\u001B[39m \u001B[38;5;241m==\u001B[39m \u001B[38;5;241m0\u001B[39m:\n",
      "File \u001B[0;32m~/conda/envs/learn-ml/lib/python3.10/site-packages/tensorflow/python/util/traceback_utils.py:153\u001B[0m, in \u001B[0;36mfilter_traceback.<locals>.error_handler\u001B[0;34m(*args, **kwargs)\u001B[0m\n\u001B[1;32m    151\u001B[0m \u001B[38;5;28;01mexcept\u001B[39;00m \u001B[38;5;167;01mException\u001B[39;00m \u001B[38;5;28;01mas\u001B[39;00m e:\n\u001B[1;32m    152\u001B[0m   filtered_tb \u001B[38;5;241m=\u001B[39m _process_traceback_frames(e\u001B[38;5;241m.\u001B[39m__traceback__)\n\u001B[0;32m--> 153\u001B[0m   \u001B[38;5;28;01mraise\u001B[39;00m e\u001B[38;5;241m.\u001B[39mwith_traceback(filtered_tb) \u001B[38;5;28;01mfrom\u001B[39;00m \u001B[38;5;28;01mNone\u001B[39;00m\n\u001B[1;32m    154\u001B[0m \u001B[38;5;28;01mfinally\u001B[39;00m:\n\u001B[1;32m    155\u001B[0m   \u001B[38;5;28;01mdel\u001B[39;00m filtered_tb\n",
      "File \u001B[0;32m/var/folders/q9/p4y2p0h12t78cf2jxpr8pvgc0000gn/T/__autograph_generated_fileluxc7nxc.py:10\u001B[0m, in \u001B[0;36mouter_factory.<locals>.inner_factory.<locals>.tf__train_step\u001B[0;34m(real_images)\u001B[0m\n\u001B[1;32m      8\u001B[0m do_return \u001B[38;5;241m=\u001B[39m \u001B[38;5;28;01mFalse\u001B[39;00m\n\u001B[1;32m      9\u001B[0m retval_ \u001B[38;5;241m=\u001B[39m ag__\u001B[38;5;241m.\u001B[39mUndefinedReturnValue()\n\u001B[0;32m---> 10\u001B[0m noise \u001B[38;5;241m=\u001B[39m ag__\u001B[38;5;241m.\u001B[39mconverted_call(ag__\u001B[38;5;241m.\u001B[39mld(tf)\u001B[38;5;241m.\u001B[39mrandom\u001B[38;5;241m.\u001B[39mnormal, ([ag__\u001B[38;5;241m.\u001B[39mld(\u001B[43mbatch_size\u001B[49m), ag__\u001B[38;5;241m.\u001B[39mld(noise_dim)],), \u001B[38;5;28;01mNone\u001B[39;00m, fscope)\n\u001B[1;32m     11\u001B[0m \u001B[38;5;28;01mwith\u001B[39;00m ag__\u001B[38;5;241m.\u001B[39mld(tf)\u001B[38;5;241m.\u001B[39mGradientTape() \u001B[38;5;28;01mas\u001B[39;00m disc_tape:\n\u001B[1;32m     12\u001B[0m     fake_images \u001B[38;5;241m=\u001B[39m ag__\u001B[38;5;241m.\u001B[39mconverted_call(ag__\u001B[38;5;241m.\u001B[39mld(generator), (ag__\u001B[38;5;241m.\u001B[39mld(noise),), \u001B[38;5;28mdict\u001B[39m(training\u001B[38;5;241m=\u001B[39m\u001B[38;5;28;01mTrue\u001B[39;00m), fscope)\n",
      "\u001B[0;31mNameError\u001B[0m: in user code:\n\n    File \"/var/folders/q9/p4y2p0h12t78cf2jxpr8pvgc0000gn/T/ipykernel_51139/1769584600.py\", line 3, in train_step  *\n        noise = tf.random.normal([batch_size, noise_dim])\n\n    NameError: name 'batch_size' is not defined\n"
     ]
    }
   ],
   "execution_count": 17
  },
  {
   "metadata": {},
   "cell_type": "code",
   "source": "",
   "id": "33452a0cd42f17fd",
   "outputs": [],
   "execution_count": null
  }
 ],
 "metadata": {
  "kernelspec": {
   "display_name": "learn-ml",
   "language": "python",
   "name": "python3"
  },
  "language_info": {
   "codemirror_mode": {
    "name": "ipython",
    "version": 3
   },
   "file_extension": ".py",
   "mimetype": "text/x-python",
   "name": "python",
   "nbconvert_exporter": "python",
   "pygments_lexer": "ipython3",
   "version": "3.9.18"
  }
 },
 "nbformat": 4,
 "nbformat_minor": 5
}
