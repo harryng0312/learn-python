{
 "cells": [
  {
   "cell_type": "code",
   "execution_count": 1,
   "id": "initial_id",
   "metadata": {
    "collapsed": true
   },
   "outputs": [],
   "source": [
    "import tensorflow as tf\n",
    "import numpy as np\n",
    "import struct\n",
    "import gzip\n",
    "# import matplotlib\n",
    "import matplotlib.pyplot as plt\n",
    "from array import array\n",
    "\n",
    "from flatbuffers.packer import float32\n",
    "from tensorflow.python.data.experimental.ops.distribute import batch_sizes_for_worker\n",
    "\n",
    "# my project\n",
    "from module.conf import PROJECT_DIR\n",
    "# matplotlib.use(\"QTAgg\")\n",
    "%matplotlib inline"
   ]
  },
  {
   "cell_type": "code",
   "execution_count": 2,
   "id": "6e86800c1131820f",
   "metadata": {},
   "outputs": [],
   "source": [
    "x = tf.Variable(3.0)"
   ]
  },
  {
   "cell_type": "code",
   "execution_count": 3,
   "id": "c3ff03a24b102b0b",
   "metadata": {},
   "outputs": [],
   "source": [
    "with tf.GradientTape() as tape:\n",
    "    y = x ** 2\n",
    "    pass\n",
    "grad = tape.gradient(y, x)"
   ]
  },
  {
   "cell_type": "code",
   "execution_count": 4,
   "id": "3afceb6a03df8e61",
   "metadata": {},
   "outputs": [
    {
     "data": {
      "text/plain": [
       "numpy.float32"
      ]
     },
     "execution_count": 4,
     "metadata": {},
     "output_type": "execute_result"
    }
   ],
   "source": [
    "type(grad.numpy())"
   ]
  },
  {
   "cell_type": "code",
   "execution_count": 5,
   "id": "3df45eb7f7141fa7",
   "metadata": {},
   "outputs": [],
   "source": [
    "del tape"
   ]
  },
  {
   "cell_type": "code",
   "execution_count": 6,
   "id": "f6f975506f50e1",
   "metadata": {},
   "outputs": [],
   "source": [
    "# def load_data(kind: str) -> tuple[np.ndarray, np.ndarray]:\n",
    "#     fashion_mnist_path = \"/data/sample/fashion_mnist\"\n",
    "#     images_path = \"\".join([PROJECT_DIR, fashion_mnist_path, f\"/{kind}-images-idx3-ubyte.gz\"])\n",
    "#     labels_path = \"\".join([PROJECT_DIR, fashion_mnist_path, f\"/{kind}-labels-idx1-ubyte.gz\"])\n",
    "#     with gzip.open(labels_path, 'rb') as lbpath:\n",
    "#         labels = np.frombuffer(lbpath.read(), dtype=np.uint8, offset=8)\n",
    "\n",
    "#     with gzip.open(images_path, 'rb') as imgpath:\n",
    "#         images = np.frombuffer(imgpath.read(), dtype=np.uint8, offset=16).reshape(len(labels), 28, 28)\n",
    "\n",
    "#     return np.array(images), np.array(labels)"
   ]
  },
  {
   "cell_type": "code",
   "execution_count": 7,
   "id": "15c39ac70fa4e25b",
   "metadata": {},
   "outputs": [],
   "source": [
    "# # X_train = (np.asarray(X_train)  - 127.5)/ 127.5\n",
    "# X_train = np.asarray(X_train)\n",
    "# y_train = np.asarray(y_train)\n",
    "# # X_test  = (np.asarray(X_test) - 127.5) / 127.5\n",
    "# X_test  = np.asarray(X_test)\n",
    "# y_test  = np.asarray(y_test)\n",
    "# X_train, Y_train = load_data(kind='train')\n",
    "# X_test, Y_test = load_data(kind='t10k')"
   ]
  },
  {
   "cell_type": "code",
   "execution_count": 8,
   "id": "46a34ed3147f3e27",
   "metadata": {},
   "outputs": [
    {
     "data": {
      "text/plain": [
       "[PhysicalDevice(name='/physical_device:CPU:0', device_type='CPU'),\n",
       " PhysicalDevice(name='/physical_device:GPU:0', device_type='GPU')]"
      ]
     },
     "execution_count": 8,
     "metadata": {},
     "output_type": "execute_result"
    }
   ],
   "source": [
    "tf.config.list_physical_devices()"
   ]
  },
  {
   "cell_type": "code",
   "execution_count": 9,
   "id": "83ef0e6b437d2e3b",
   "metadata": {},
   "outputs": [],
   "source": [
    "# tf.config.list_physical_devices('GPU')\n",
    "tf.config.set_visible_devices(tf.config.list_physical_devices('GPU')[0], 'GPU')"
   ]
  },
  {
   "cell_type": "code",
   "execution_count": 10,
   "id": "7ee833de1e78d45b",
   "metadata": {},
   "outputs": [],
   "source": [
    "class Generator(tf.keras.Model):\n",
    "    def __init__(self, noise_dim: int, target_shape: tuple):\n",
    "        super(Generator, self).__init__()\n",
    "        self.model = tf.keras.Sequential(layers= [\n",
    "            tf.keras.layers.InputLayer(input_shape=(noise_dim,)),\n",
    "            tf.keras.layers.Dense(units=256, activation=tf.nn.leaky_relu),\n",
    "            tf.keras.layers.BatchNormalization(),\n",
    "            tf.keras.layers.Dense(units=512, activation=tf.nn.leaky_relu),\n",
    "            tf.keras.layers.BatchNormalization(),\n",
    "            tf.keras.layers.Dense(units=1024, activation=tf.nn.leaky_relu),\n",
    "            tf.keras.layers.BatchNormalization(),\n",
    "            tf.keras.layers.Dense(units=(target_shape[0] * target_shape[1]), activation=tf.nn.tanh),\n",
    "            tf.keras.layers.Reshape(target_shape=target_shape)\n",
    "        ])\n",
    "        return\n",
    "\n",
    "    def call(self, inputs, training=False):\n",
    "        return self.model(inputs, training=training)\n",
    "\n",
    "class Discriminator(tf.keras.Model):\n",
    "    def __init__(self, target_shape: tuple):\n",
    "        super(Discriminator, self).__init__()\n",
    "        self.model = tf.keras.Sequential(layers=[\n",
    "            # tf.keras.layers.InputLayer(shape=target_shape),\n",
    "            tf.keras.layers.Flatten(input_shape=target_shape),\n",
    "            tf.keras.layers.Dense(units=1024, activation=tf.nn.leaky_relu),\n",
    "            tf.keras.layers.Dropout(rate=0.3),\n",
    "            tf.keras.layers.Dense(units=512, activation=tf.nn.leaky_relu),\n",
    "            tf.keras.layers.Dropout(rate=0.3),\n",
    "            tf.keras.layers.Dense(units=256, activation=tf.nn.leaky_relu),\n",
    "            tf.keras.layers.Dropout(rate=0.3),\n",
    "            tf.keras.layers.Dense(units=1, activation=tf.nn.sigmoid),\n",
    "        ])\n",
    "\n",
    "    def call(self, inputs, training=False):\n",
    "        return self.model(inputs, training=training)\n"
   ]
  },
  {
   "cell_type": "code",
   "execution_count": 11,
   "id": "88136ad4222ee512",
   "metadata": {},
   "outputs": [],
   "source": [
    "class GAN(tf.keras.Model):\n",
    "    def __init__(self, noise_dim=100, target_shape=[28, 28]):\n",
    "        super(GAN, self).__init__()\n",
    "        self.gen_optimizer = None\n",
    "        self.disc_optimizer = None\n",
    "        self.loss_fn = None\n",
    "        self.noise_dim = noise_dim\n",
    "        self.target_shape = target_shape\n",
    "        self.generator = Generator(self.noise_dim, self.target_shape)\n",
    "        self.discriminator = Discriminator(self.target_shape)\n",
    "\n",
    "    def compile(self, gen_optimizer, disc_optimizer, loss_fn):\n",
    "        super(GAN, self).compile()\n",
    "        self.gen_optimizer = gen_optimizer\n",
    "        self.disc_optimizer = disc_optimizer\n",
    "        self.loss_fn = loss_fn\n",
    "        pass\n",
    "\n",
    "    def train_step(self, batch):\n",
    "        batch_sizes = tf.shape(batch)[0]\n",
    "        # random noise\n",
    "        noise = tf.random.normal(shape=(batch_sizes, self.noise_dim))\n",
    "        # gen fake img by Generator\n",
    "        fake_images = self.generator(noise, training=True)\n",
    "        # 1 - real image, 0 - fake image\n",
    "        real_labels = tf.ones((batch_sizes, 1))\n",
    "        fake_labels = tf.zeros((batch_sizes, 1))\n",
    "\n",
    "        # train Discriminator\n",
    "        with tf.GradientTape() as disc_tape:\n",
    "            real_preds = self.discriminator(batch, training=True)\n",
    "            fake_preds = self.discriminator(fake_images, training=True)\n",
    "\n",
    "            real_loss = self.loss_fn(real_labels, real_preds)\n",
    "            fake_loss = self.loss_fn(fake_labels, fake_preds)\n",
    "\n",
    "            disc_loss = (real_loss + fake_loss) / 2\n",
    "            pass\n",
    "        grad = disc_tape.gradient(disc_loss, self.discriminator.trainable_variables)\n",
    "        self.disc_optimizer.apply_gradients(zip(grad, self.discriminator.trainable_variables))\n",
    "\n",
    "        # train Generator\n",
    "        with tf.GradientTape() as gen_tape:\n",
    "            fake_images = self.generator(noise, training=True)\n",
    "            fake_preds = self.discriminator(fake_images, training=True)\n",
    "            gen_loss = self.loss_fn(real_labels, fake_preds)\n",
    "            pass\n",
    "        grad = gen_tape.gradient(gen_loss, self.generator.trainable_variables)\n",
    "        self.gen_optimizer.apply_gradients(zip(grad, self.generator.trainable_variables))\n",
    "        return {\"gen_loss\": gen_loss, \"disc_loss\": disc_loss}"
   ]
  },
  {
   "cell_type": "code",
   "execution_count": 12,
   "id": "13074a697a4a0a86",
   "metadata": {},
   "outputs": [],
   "source": [
    "# dataset = tf.reshape(X_train, [-1, 784]).numpy().shape"
   ]
  },
  {
   "cell_type": "code",
   "execution_count": 13,
   "id": "c3c90ba77d20602d",
   "metadata": {},
   "outputs": [],
   "source": [
    "# dataset = tf.data.Dataset.from_tensor_slices(X_train).shuffle(60000).batch(128)\n",
    "(x_train, _), (_, _) = tf.keras.datasets.fashion_mnist.load_data()\n",
    "x_train = (x_train.astype(\"float64\") - 127.5) / 127.5  # Standartize to [-1, 1]\n",
    "dataset = tf.data.Dataset.from_tensor_slices(x_train).shuffle(60_000).batch(512)"
   ]
  },
  {
   "cell_type": "code",
   "execution_count": 14,
   "id": "99de60a6dacec455",
   "metadata": {},
   "outputs": [],
   "source": [
    "# plt.imshow(X_train[0], cmap=\"gray\")\n",
    "# plt.axis(\"off\")\n",
    "# plt.show()"
   ]
  },
  {
   "cell_type": "code",
   "execution_count": 15,
   "id": "e6574196ad2f18f7",
   "metadata": {},
   "outputs": [],
   "source": [
    "# x_train = (X_train.astype(\"float64\") - 127.5) / 127.5\n",
    "# dataset = tf.data.Dataset.from_tensor_slices(x_train).shuffle(60_000).batch(128)"
   ]
  },
  {
   "cell_type": "code",
   "execution_count": 16,
   "id": "0eede70d",
   "metadata": {},
   "outputs": [],
   "source": [
    "# tf.config.set_visible_devices()"
   ]
  },
  {
   "cell_type": "code",
   "execution_count": 17,
   "id": "4e7ba3aec4f5cfba",
   "metadata": {},
   "outputs": [],
   "source": [
    "gan = GAN(noise_dim=512)\n",
    "\n",
    "gan.compile(\n",
    "    # gen_optimizer=tf.keras.optimizers.Adam(0.0002, 0.5),\n",
    "    # disc_optimizer=tf.keras.optimizers.Adam(0.0002, 0.5),\n",
    "    # loss_fn=tf.keras.losses.BinaryCrossentropy()\n",
    "    # gen_optimizer=tf.keras.optimizers.Adam(learning_rate=0.001, beta_1=0.9),\n",
    "    # disc_optimizer=tf.keras.optimizers.Adam(learning_rate=0.001, beta_1=0.9),\n",
    "    # loss_fn=tf.keras.losses.BinaryCrossentropy()\n",
    "    gen_optimizer=tf.keras.optimizers.Adam(learning_rate=0.0002, beta_1=0.5),\n",
    "    disc_optimizer=tf.keras.optimizers.Adam(learning_rate=0.0002, beta_1=0.5),\n",
    "    loss_fn=tf.keras.losses.BinaryCrossentropy()\n",
    ")\n",
    "\n",
    "# gan.fit(dataset, epochs=10000)\n",
    "# gan.fit(dataset, epochs=1000)"
   ]
  },
  {
   "cell_type": "code",
   "execution_count": 18,
   "id": "322a10cbd78a6418",
   "metadata": {},
   "outputs": [],
   "source": [
    "# gan.save_weights(PROJECT_DIR + \"/data/models/fashionmnist_gan_1000_2/model\")"
   ]
  },
  {
   "cell_type": "code",
   "execution_count": 19,
   "id": "c2f35de0",
   "metadata": {},
   "outputs": [
    {
     "data": {
      "text/plain": [
       "<tensorflow.python.training.tracking.util.CheckpointLoadStatus at 0x1b666c60fa0>"
      ]
     },
     "execution_count": 19,
     "metadata": {},
     "output_type": "execute_result"
    }
   ],
   "source": [
    "gan.load_weights(PROJECT_DIR + \"/data/models/fashionmnist_gan_1000_2/model\")"
   ]
  },
  {
   "cell_type": "code",
   "execution_count": null,
   "id": "d95b4831dfe7d66c",
   "metadata": {},
   "outputs": [
    {
     "data": {
      "image/png": "[encoded data removed]",
      "text/plain": [
       "<Figure size 1000x500 with 15 Axes>"
      ]
     },
     "metadata": {},
     "output_type": "display_data"
    }
   ],
   "source": [
    "import matplotlib.pyplot as plt\n",
    "\n",
    "def generate_and_show_images(generator, num_examples=10):\n",
    "    noise = tf.random.normal(shape=(num_examples, 512))\n",
    "    images = generator(noise, training=False)\n",
    "    images = (images + 1) / 2.0  # standardize to [0, 1]\n",
    "    rows=4\n",
    "\n",
    "    fig, axes = plt.subplots(nrows=rows, ncols=num_examples//rows, figsize=(10, 5))\n",
    "    for i, ax in enumerate(axes.flat):\n",
    "        ax.imshow(images[i], cmap=\"gray\")\n",
    "        ax.axis(\"off\")\n",
    "    plt.show()\n",
    "\n",
    "generate_and_show_images(gan.generator, num_examples=20)"
   ]
  },
  {
   "cell_type": "code",
   "execution_count": null,
   "id": "9f513aa71e38ce84",
   "metadata": {},
   "outputs": [],
   "source": []
  }
 ],
 "metadata": {
  "kernelspec": {
   "display_name": "learn-ml",
   "language": "python",
   "name": "python3"
  },
  "language_info": {
   "codemirror_mode": {
    "name": "ipython",
    "version": 3
   },
   "file_extension": ".py",
   "mimetype": "text/x-python",
   "name": "python",
   "nbconvert_exporter": "python",
   "pygments_lexer": "ipython3",
   "version": "3.9.18"
  }
 },
 "nbformat": 4,
 "nbformat_minor": 5
}
