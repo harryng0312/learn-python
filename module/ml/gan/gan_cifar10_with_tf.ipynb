{
 "cells": [
  {
   "cell_type": "code",
   "execution_count": 1,
   "id": "initial_id",
   "metadata": {
    "ExecuteTime": {
     "end_time": "2025-03-03T14:37:22.743389Z",
     "start_time": "2025-03-03T14:37:22.737486Z"
    },
    "collapsed": true
   },
   "outputs": [],
   "source": [
    "import tensorflow as tf\n",
    "import keras\n",
    "import numpy as np\n",
    "import struct\n",
    "import gzip\n",
    "# import matplotlib\n",
    "import matplotlib.pyplot as plt\n",
    "from array import array\n",
    "\n",
    "from flatbuffers.packer import float32\n",
    "from tensorflow.python.data.experimental.ops.distribute import batch_sizes_for_worker\n",
    "\n",
    "# my project\n",
    "from module.conf import PROJECT_DIR\n",
    "# matplotlib.use(\"QTAgg\")\n",
    "%matplotlib inline"
   ]
  },
  {
   "cell_type": "code",
   "execution_count": 2,
   "id": "46a34ed3147f3e27",
   "metadata": {
    "ExecuteTime": {
     "end_time": "2025-03-03T14:37:22.757422Z",
     "start_time": "2025-03-03T14:37:22.754113Z"
    }
   },
   "outputs": [
    {
     "data": {
      "text/plain": [
       "[PhysicalDevice(name='/physical_device:CPU:0', device_type='CPU'),\n",
       " PhysicalDevice(name='/physical_device:GPU:0', device_type='GPU')]"
      ]
     },
     "execution_count": 2,
     "metadata": {},
     "output_type": "execute_result"
    }
   ],
   "source": [
    "tf.config.list_physical_devices()"
   ]
  },
  {
   "cell_type": "code",
   "execution_count": 3,
   "id": "83ef0e6b437d2e3b",
   "metadata": {
    "ExecuteTime": {
     "end_time": "2025-03-03T14:37:22.769051Z",
     "start_time": "2025-03-03T14:37:22.766686Z"
    }
   },
   "outputs": [],
   "source": [
    "# tf.config.list_physical_devices('GPU')\n",
    "tf.config.set_visible_devices(tf.config.list_physical_devices('GPU')[0], 'GPU')"
   ]
  },
  {
   "cell_type": "code",
   "execution_count": 4,
   "id": "20efd734449ba11c",
   "metadata": {
    "ExecuteTime": {
     "end_time": "2025-03-03T14:37:24.064693Z",
     "start_time": "2025-03-03T14:37:22.780859Z"
    }
   },
   "outputs": [],
   "source": [
    "# dataset = tf.data.Dataset.from_tensor_slices(X_train).shuffle(60000).batch(128)\n",
    "import keras.datasets\n",
    "import keras.datasets.cifar\n",
    "import keras.datasets.cifar10\n",
    "(x_train, _), (_, _) = keras.datasets.cifar10.load_data()\n",
    "x_train = (x_train.astype(\"float64\") - 127.5) / 127.5  # Standartize to [-1, 1]"
   ]
  },
  {
   "cell_type": "code",
   "execution_count": 5,
   "id": "e685068f06ce409",
   "metadata": {
    "ExecuteTime": {
     "end_time": "2025-03-03T14:37:25.344667Z",
     "start_time": "2025-03-03T14:37:24.072675Z"
    }
   },
   "outputs": [],
   "source": [
    "# dataset = tf.data.Dataset.from_tensor_slices(x_train) #.shuffle(x_train.shape[0]).batch(256)\n",
    "dataset = x_train"
   ]
  },
  {
   "cell_type": "code",
   "execution_count": 6,
   "id": "aeae817945ea283d",
   "metadata": {
    "ExecuteTime": {
     "end_time": "2025-03-03T16:00:10.439188Z",
     "start_time": "2025-03-03T16:00:10.431170Z"
    }
   },
   "outputs": [],
   "source": [
    "class Generator(keras.Model):\n",
    "    def __init__(self, noise_dim: int, target_shape: tuple):\n",
    "        super(Generator, self).__init__()\n",
    "        self.model = keras.Sequential(layers= [\n",
    "            keras.layers.InputLayer(input_shape=(noise_dim,)),\n",
    "\n",
    "            keras.layers.Dense(units=8*8*256, activation=None, use_bias=False),\n",
    "            keras.layers.Reshape(target_shape=(4, 4, 1024)),\n",
    "            keras.layers.BatchNormalization(),\n",
    "            keras.layers.ReLU(),\n",
    "\n",
    "            keras.layers.Conv2DTranspose(128, (4, 4), strides=2, padding=\"same\", use_bias=False),\n",
    "            keras.layers.BatchNormalization(),\n",
    "            keras.layers.ReLU(),\n",
    "\n",
    "            keras.layers.Conv2DTranspose(64, (4, 4), strides=2, padding=\"same\", use_bias=False),\n",
    "            keras.layers.BatchNormalization(),\n",
    "            keras.layers.Conv2DTranspose(3, (4, 4), strides=2, padding=\"same\", activation=\"tanh\")\n",
    "        ])\n",
    "        # self.fc = keras.layers.Dense(units=8*8*256, use_bias=False)\n",
    "        # self.bn1 = keras.layers.BatchNormalization()\n",
    "        # self.relu = keras.layers.ReLU()\n",
    "        #\n",
    "        # self.conv1 = keras.layers.Conv2DTranspose(128, (4, 4), strides=2, padding=\"same\", use_bias=False)\n",
    "        # self.bn2 = keras.layers.BatchNormalization()\n",
    "        # self.conv2 = keras.layers.Conv2DTranspose(64, (4, 4), strides=2, padding=\"same\", use_bias=False)\n",
    "        # self.bn3 = keras.layers.BatchNormalization()\n",
    "        # self.conv3 = keras.layers.Conv2DTranspose(3, (4, 4), strides=2, padding=\"same\", activation=\"tanh\")\n",
    "        return\n",
    "\n",
    "    def call(self, inputs, training=False):\n",
    "        # x = self.fc(inputs, training=training)\n",
    "        # x = tf.reshape(x, (-1, 4, 4, 1024))\n",
    "        # x = self.bn1(x, training=training)\n",
    "        # x = self.relu(x, training=training)\n",
    "        #\n",
    "        # x = self.conv1(x, training=training)\n",
    "        # x = self.bn2(x, training=training)\n",
    "        # x = self.relu(x, training=training)\n",
    "        #\n",
    "        # x = self.conv2(x, training=training)\n",
    "        # x = self.bn3(x, training=training)\n",
    "        # x = self.relu(x, training=training)\n",
    "        #\n",
    "        # x = self.conv3(x, training=training)  # Output shape: (32, 32, 3)\n",
    "        # return x\n",
    "        return self.model(inputs, training=training)"
   ]
  },
  {
   "cell_type": "code",
   "execution_count": 7,
   "id": "7ee833de1e78d45b",
   "metadata": {
    "ExecuteTime": {
     "end_time": "2025-03-03T15:59:11.803249Z",
     "start_time": "2025-03-03T15:59:11.791830Z"
    }
   },
   "outputs": [],
   "source": [
    "class Discriminator(keras.Model):\n",
    "    def __init__(self, target_shape: tuple):\n",
    "        super(Discriminator, self).__init__()\n",
    "        # self.conv1 = keras.layers.Conv2D(64, (4, 4), strides=2, padding=\"same\")\n",
    "        # self.leaky_relu = keras.layers.LeakyReLU(0.2)\n",
    "        # self.conv2 = keras.layers.Conv2D(128, (4, 4), strides=2, padding=\"same\")\n",
    "        # self.bn = keras.layers.BatchNormalization()\n",
    "        # self.conv3 = keras.layers.Conv2D(filters=256, kernel_size=(4, 4), strides=2, padding=\"same\")\n",
    "        # self.flatten = keras.layers.Flatten()\n",
    "        # self.fc = keras.layers.Dense(units=1, activation=\"sigmoid\")\n",
    "        self.model = keras.Sequential(layers=[\n",
    "            # keras.layers.InputLayer(shape=target_shape),\n",
    "            # keras.layers.Flatten(input_shape=target_shape),\n",
    "\n",
    "            keras.layers.Conv2D(filters=64, kernel_size=(4, 4), strides=2, padding=\"same\"),\n",
    "            keras.layers.LeakyReLU(0.2),\n",
    "            keras.layers.Conv2D(filters=128, kernel_size=(4, 4), strides=2, padding=\"same\"),\n",
    "            keras.layers.BatchNormalization(),\n",
    "            keras.layers.LeakyReLU(0.2),\n",
    "            keras.layers.Conv2D(filters=256, kernel_size=(4, 4), strides=2, padding=\"same\"),\n",
    "            keras.layers.LeakyReLU(0.2),\n",
    "            keras.layers.Flatten(),\n",
    "            keras.layers.Dense(1, activation=\"sigmoid\")\n",
    "        ])\n",
    "\n",
    "    def call(self, inputs, training=False):\n",
    "        # x = self.conv1(inputs, training=training)\n",
    "        # x = self.leaky_relu(x, training=training)\n",
    "        #\n",
    "        # x = self.conv2(x, training=training)\n",
    "        # x = self.bn(x, training=training)\n",
    "        # x = self.leaky_relu(x, training=training)\n",
    "        #\n",
    "        # x = self.conv3(x, training=training)\n",
    "        # x = self.leaky_relu(x, training=training)\n",
    "        #\n",
    "        # x = self.flatten(x, training=training)\n",
    "        # x = self.fc(x, training=training)\n",
    "        # return x\n",
    "        return self.model(inputs, training=training)\n"
   ]
  },
  {
   "cell_type": "code",
   "execution_count": 8,
   "id": "88136ad4222ee512",
   "metadata": {
    "ExecuteTime": {
     "end_time": "2025-03-03T15:59:12.993800Z",
     "start_time": "2025-03-03T15:59:12.981723Z"
    }
   },
   "outputs": [],
   "source": [
    "class GAN(keras.Model):\n",
    "    def __init__(self, noise_dim=100, target_shape=[32, 32, 3]):\n",
    "        super(GAN, self).__init__()\n",
    "        self.gen_optimizer = None\n",
    "        self.disc_optimizer = None\n",
    "        self.loss_fn = None\n",
    "        self.noise_dim = noise_dim\n",
    "        self.target_shape = target_shape\n",
    "        self.generator = Generator(self.noise_dim, self.target_shape)\n",
    "        self.discriminator = Discriminator(self.target_shape)\n",
    "\n",
    "    def compile(self, gen_optimizer, disc_optimizer, loss_fn):\n",
    "        super(GAN, self).compile()\n",
    "        self.gen_optimizer = gen_optimizer\n",
    "        self.disc_optimizer = disc_optimizer\n",
    "        self.loss_fn = loss_fn\n",
    "        pass\n",
    "\n",
    "    @tf.function\n",
    "    def train_step(self, batch):\n",
    "        batch_sizes = tf.shape(batch)[0]\n",
    "        # random noise\n",
    "        noise = tf.random.normal(shape=(batch_sizes, self.noise_dim))\n",
    "\n",
    "        # 1 - real image, 0 - fake image\n",
    "        real_labels = tf.ones((batch_sizes, 1))\n",
    "        fake_labels = tf.zeros((batch_sizes, 1))\n",
    "\n",
    "        # train Discriminator\n",
    "        with tf.GradientTape() as disc_tape, tf.GradientTape() as gen_tape:\n",
    "            # gen fake img by Generator\n",
    "            fake_images = self.generator(noise, training=True)\n",
    "            \n",
    "            real_preds = self.discriminator(batch, training=True)\n",
    "            fake_preds = self.discriminator(fake_images, training=True)\n",
    "\n",
    "            real_loss = self.loss_fn(real_labels, real_preds)\n",
    "            fake_loss = self.loss_fn(fake_labels, fake_preds)\n",
    "\n",
    "            gen_loss = self.loss_fn(real_labels, fake_preds)\n",
    "            disc_loss = tf.divide(tf.add(real_loss, fake_loss), 2)\n",
    "            pass\n",
    "        # train Generator\n",
    "        gen_grad = gen_tape.gradient(gen_loss, self.generator.trainable_variables)\n",
    "        disc_grad = disc_tape.gradient(disc_loss, self.discriminator.trainable_variables)\n",
    "        self.gen_optimizer.apply_gradients(zip(gen_grad, self.generator.trainable_variables))\n",
    "        self.disc_optimizer.apply_gradients(zip(disc_grad, self.discriminator.trainable_variables))\n",
    "\n",
    "        return {\"gen_loss\": gen_loss, \"disc_loss\": disc_loss}"
   ]
  },
  {
   "cell_type": "code",
   "execution_count": null,
   "id": "4e7ba3aec4f5cfba",
   "metadata": {
    "ExecuteTime": {
     "end_time": "2025-03-03T15:59:25.440984Z",
     "start_time": "2025-03-03T15:59:14.139065Z"
    }
   },
   "outputs": [],
   "source": [
    "import keras.optimizer_v2\n",
    "import keras.optimizer_v2.adam\n",
    "\n",
    "\n",
    "gan = GAN(noise_dim=512)\n",
    "\n",
    "gan.compile(\n",
    "    # gen_optimizer=keras.optimizers.Adam(0.0002, 0.5),\n",
    "    # disc_optimizer=keras.optimizers.Adam(0.0002, 0.5),\n",
    "    # loss_fn=keras.losses.BinaryCrossentropy()\n",
    "    # gen_optimizer=keras.optimizers.Adam(learning_rate=0.001, beta_1=0.9),\n",
    "    # disc_optimizer=keras.optimizers.Adam(learning_rate=0.001, beta_1=0.9),\n",
    "    # loss_fn=keras.losses.BinaryCrossentropy()\n",
    "    gen_optimizer=keras.optimizer_v2.adam.Adam(learning_rate=0.0002, beta_1=0.9),\n",
    "    disc_optimizer=keras.optimizer_v2.adam.Adam(learning_rate=0.0002, beta_1=0.9),\n",
    "    loss_fn=keras.losses.BinaryCrossentropy()\n",
    ")\n",
    "\n",
    "# gan.fit(dataset, epochs=10000)\n",
    "gan.fit(dataset, epochs=200, batch_size=128)"
   ]
  },
  {
   "cell_type": "code",
   "execution_count": null,
   "id": "322a10cbd78a6418",
   "metadata": {},
   "outputs": [],
   "source": [
    "gan.save_weights(PROJECT_DIR + \"/data/models/cifar10_gan_200/model\")"
   ]
  },
  {
   "cell_type": "code",
   "execution_count": null,
   "id": "c2f35de0",
   "metadata": {},
   "outputs": [],
   "source": [
    "# gan.load_weights(PROJECT_DIR + \"/data/models/fashionmnist_gan_1000_2/model\")"
   ]
  },
  {
   "cell_type": "code",
   "execution_count": null,
   "id": "d95b4831dfe7d66c",
   "metadata": {},
   "outputs": [],
   "source": [
    "import matplotlib.pyplot as plt\n",
    "\n",
    "def generate_and_show_images(generator, num_examples=10):\n",
    "    noise = tf.random.normal(shape=(num_examples, 512))\n",
    "    images = generator(noise, training=False)\n",
    "    images = (images + 1) / 2.0  # standardize to [0, 1]\n",
    "    rows=4\n",
    "\n",
    "    fig, axes = plt.subplots(nrows=rows, ncols=num_examples//rows, figsize=(10, 5))\n",
    "    for i, ax in enumerate(axes.flat):\n",
    "        ax.imshow(images[i], cmap=\"gray\")\n",
    "        ax.axis(\"off\")\n",
    "    plt.show()\n",
    "\n",
    "generate_and_show_images(gan.generator, num_examples=20)"
   ]
  },
  {
   "cell_type": "code",
   "execution_count": null,
   "id": "33452a0cd42f17fd",
   "metadata": {},
   "outputs": [],
   "source": []
  }
 ],
 "metadata": {
  "kernelspec": {
   "display_name": "learn-ml",
   "language": "python",
   "name": "python3"
  },
  "language_info": {
   "codemirror_mode": {
    "name": "ipython",
    "version": 3
   },
   "file_extension": ".py",
   "mimetype": "text/x-python",
   "name": "python",
   "nbconvert_exporter": "python",
   "pygments_lexer": "ipython3",
   "version": "3.9.18"
  }
 },
 "nbformat": 4,
 "nbformat_minor": 5
}
