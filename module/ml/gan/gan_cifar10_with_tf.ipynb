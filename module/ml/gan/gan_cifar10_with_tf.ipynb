{
 "cells": [
  {
   "cell_type": "code",
   "id": "initial_id",
   "metadata": {
    "collapsed": true,
    "ExecuteTime": {
     "end_time": "2025-03-03T14:37:22.743389Z",
     "start_time": "2025-03-03T14:37:22.737486Z"
    }
   },
   "source": [
    "import tensorflow as tf\n",
    "import keras\n",
    "import numpy as np\n",
    "import struct\n",
    "import gzip\n",
    "# import matplotlib\n",
    "import matplotlib.pyplot as plt\n",
    "from array import array\n",
    "\n",
    "from flatbuffers.packer import float32\n",
    "from tensorflow.python.data.experimental.ops.distribute import batch_sizes_for_worker\n",
    "\n",
    "# my project\n",
    "from module.conf import PROJECT_DIR\n",
    "# matplotlib.use(\"QTAgg\")\n",
    "%matplotlib inline"
   ],
   "outputs": [],
   "execution_count": 10
  },
  {
   "cell_type": "code",
   "id": "46a34ed3147f3e27",
   "metadata": {
    "ExecuteTime": {
     "end_time": "2025-03-03T14:37:22.757422Z",
     "start_time": "2025-03-03T14:37:22.754113Z"
    }
   },
   "source": [
    "tf.config.list_physical_devices()"
   ],
   "outputs": [
    {
     "data": {
      "text/plain": [
       "[PhysicalDevice(name='/physical_device:CPU:0', device_type='CPU'),\n",
       " PhysicalDevice(name='/physical_device:GPU:0', device_type='GPU')]"
      ]
     },
     "execution_count": 11,
     "metadata": {},
     "output_type": "execute_result"
    }
   ],
   "execution_count": 11
  },
  {
   "cell_type": "code",
   "id": "83ef0e6b437d2e3b",
   "metadata": {
    "ExecuteTime": {
     "end_time": "2025-03-03T14:37:22.769051Z",
     "start_time": "2025-03-03T14:37:22.766686Z"
    }
   },
   "source": [
    "# tf.config.list_physical_devices('GPU')\n",
    "tf.config.set_visible_devices(tf.config.list_physical_devices('GPU')[0], 'GPU')"
   ],
   "outputs": [],
   "execution_count": 12
  },
  {
   "metadata": {
    "ExecuteTime": {
     "end_time": "2025-03-03T14:37:24.064693Z",
     "start_time": "2025-03-03T14:37:22.780859Z"
    }
   },
   "cell_type": "code",
   "source": [
    "# dataset = tf.data.Dataset.from_tensor_slices(X_train).shuffle(60000).batch(128)\n",
    "(x_train, _), (_, _) = keras.datasets.cifar10.load_data()\n",
    "x_train = (x_train.astype(\"float64\") - 127.5) / 127.5  # Standartize to [-1, 1]"
   ],
   "id": "20efd734449ba11c",
   "outputs": [],
   "execution_count": 13
  },
  {
   "metadata": {
    "ExecuteTime": {
     "end_time": "2025-03-03T14:37:25.344667Z",
     "start_time": "2025-03-03T14:37:24.072675Z"
    }
   },
   "cell_type": "code",
   "source": [
    "dataset = tf.data.Dataset.from_tensor_slices(x_train).shuffle(x_train.shape[0]).batch(256)\n",
    "# dataset = x_train"
   ],
   "id": "e685068f06ce409",
   "outputs": [],
   "execution_count": 14
  },
  {
   "cell_type": "code",
   "id": "aeae817945ea283d",
   "metadata": {
    "ExecuteTime": {
     "end_time": "2025-03-03T15:07:44.866369Z",
     "start_time": "2025-03-03T15:07:44.857704Z"
    }
   },
   "source": [
    "class Generator(keras.Model):\n",
    "    def __init__(self, noise_dim: int, target_shape: tuple):\n",
    "        super(Generator, self).__init__()\n",
    "        # self.model = keras.Sequential(layers= [\n",
    "        #     keras.layers.InputLayer(input_shape=(noise_dim,)),\n",
    "        #\n",
    "        #     keras.layers.Dense(units=8*8*256, activation=None, use_bias=False),\n",
    "        #     keras.layers.Reshape((8, 8, 256)),\n",
    "        #     keras.layers.BatchNormalization(),\n",
    "        #     keras.layers.ReLU(),\n",
    "        #\n",
    "        #     keras.layers.Conv2DTranspose(128, (4, 4), strides=2, padding=\"same\", use_bias=False),\n",
    "        #     keras.layers.BatchNormalization(),\n",
    "        #     keras.layers.ReLU(),\n",
    "        #\n",
    "        #     keras.layers.Conv2DTranspose(64, (4, 4), strides=2, padding=\"same\", use_bias=False),\n",
    "        #     keras.layers.BatchNormalization(),\n",
    "        #     keras.layers.Conv2DTranspose(3, (4, 4), strides=2, padding=\"same\", activation=\"tanh\")\n",
    "        # ])\n",
    "        self.fc = keras.layers.Dense(units=8*8*256, use_bias=False)\n",
    "        self.bn1 = keras.layers.BatchNormalization()\n",
    "        self.relu = keras.layers.ReLU()\n",
    "\n",
    "        self.conv1 = keras.layers.Conv2DTranspose(128, (4, 4), strides=2, padding=\"same\", use_bias=False)\n",
    "        self.bn2 = keras.layers.BatchNormalization()\n",
    "        self.conv2 = keras.layers.Conv2DTranspose(64, (4, 4), strides=2, padding=\"same\", use_bias=False)\n",
    "        self.bn3 = keras.layers.BatchNormalization()\n",
    "        self.conv3 = keras.layers.Conv2DTranspose(3, (4, 4), strides=2, padding=\"same\", activation=\"tanh\")\n",
    "        return\n",
    "\n",
    "    def call(self, inputs, training=False):\n",
    "        x = self.fc(inputs, training=training)\n",
    "        x = tf.reshape(x, (-1, 4, 4, 1024))\n",
    "        x = self.bn1(x, training=training)\n",
    "        x = self.relu(x, training=training)\n",
    "\n",
    "        x = self.conv1(x, training=training)\n",
    "        x = self.bn2(x, training=training)\n",
    "        x = self.relu(x, training=training)\n",
    "\n",
    "        x = self.conv2(x, training=training)\n",
    "        x = self.bn3(x, training=training)\n",
    "        x = self.relu(x, training=training)\n",
    "\n",
    "        x = self.conv3(x, training=training)  # Output shape: (32, 32, 3)\n",
    "        return x\n",
    "        # return self.model(inputs, training=training)"
   ],
   "outputs": [],
   "execution_count": 89
  },
  {
   "metadata": {
    "ExecuteTime": {
     "end_time": "2025-03-03T15:07:45.364256Z",
     "start_time": "2025-03-03T15:07:45.358550Z"
    }
   },
   "cell_type": "code",
   "source": [
    "class Discriminator(keras.Model):\n",
    "    def __init__(self, target_shape: tuple):\n",
    "        super(Discriminator, self).__init__()\n",
    "        self.conv1 = keras.layers.Conv2D(64, (4, 4), strides=2, padding=\"same\")\n",
    "        self.leaky_relu = keras.layers.LeakyReLU(0.2)\n",
    "        self.conv2 = keras.layers.Conv2D(128, (4, 4), strides=2, padding=\"same\")\n",
    "        self.bn = keras.layers.BatchNormalization()\n",
    "        self.conv3 = keras.layers.Conv2D(filters=256, kernel_size=(4, 4), strides=2, padding=\"same\")\n",
    "        self.flatten = keras.layers.Flatten()\n",
    "        self.fc = keras.layers.Dense(units=1, activation=\"sigmoid\")\n",
    "        # self.model = keras.Sequential(layers=[\n",
    "        #     # keras.layers.InputLayer(shape=target_shape),\n",
    "        #     # keras.layers.Flatten(input_shape=target_shape),\n",
    "        #\n",
    "        #     keras.layers.Conv2D(filters=64, kernel_size=(4, 4), strides=2, padding=\"same\"),\n",
    "        #     keras.layers.LeakyReLU(0.2),\n",
    "        #     keras.layers.Conv2D(filters=128, kernel_size=(4, 4), strides=2, padding=\"same\"),\n",
    "        #     keras.layers.BatchNormalization(),\n",
    "        #     keras.layers.LeakyReLU(0.2),\n",
    "        #     keras.layers.Conv2D(filters=256, kernel_size=(4, 4), strides=2, padding=\"same\"),\n",
    "        #     keras.layers.LeakyReLU(0.2),\n",
    "        #     keras.layers.Flatten(),\n",
    "        #     keras.layers.Dense(1, activation=\"sigmoid\")\n",
    "        # ])\n",
    "\n",
    "    def call(self, inputs, training=False):\n",
    "        x = self.conv1(inputs, training=training)\n",
    "        x = self.leaky_relu(x, training=training)\n",
    "\n",
    "        x = self.conv2(x, training=training)\n",
    "        x = self.bn(x, training=training)\n",
    "        x = self.leaky_relu(x, training=training)\n",
    "\n",
    "        x = self.conv3(x, training=training)\n",
    "        x = self.leaky_relu(x, training=training)\n",
    "\n",
    "        x = self.flatten(x, training=training)\n",
    "        x = self.fc(x, training=training)\n",
    "        return x\n",
    "        # return self.model(inputs, training=training)\n"
   ],
   "id": "7ee833de1e78d45b",
   "outputs": [],
   "execution_count": 90
  },
  {
   "cell_type": "code",
   "id": "88136ad4222ee512",
   "metadata": {
    "ExecuteTime": {
     "end_time": "2025-03-03T15:07:46.140703Z",
     "start_time": "2025-03-03T15:07:46.131525Z"
    }
   },
   "source": [
    "class GAN(keras.Model):\n",
    "    def __init__(self, noise_dim=100, target_shape=[32, 32, 3]):\n",
    "        super(GAN, self).__init__()\n",
    "        self.gen_optimizer = None\n",
    "        self.disc_optimizer = None\n",
    "        self.loss_fn = None\n",
    "        self.noise_dim = noise_dim\n",
    "        self.target_shape = target_shape\n",
    "        self.generator = Generator(self.noise_dim, self.target_shape)\n",
    "        self.discriminator = Discriminator(self.target_shape)\n",
    "\n",
    "    def compile(self, gen_optimizer, disc_optimizer, loss_fn):\n",
    "        super(GAN, self).compile()\n",
    "        self.gen_optimizer = gen_optimizer\n",
    "        self.disc_optimizer = disc_optimizer\n",
    "        self.loss_fn = loss_fn\n",
    "        pass\n",
    "\n",
    "    @tf.function\n",
    "    def train_step(self, batch):\n",
    "        batch_sizes = tf.shape(batch)[0]\n",
    "        # random noise\n",
    "        noise = tf.random.normal(shape=(batch_sizes, self.noise_dim))\n",
    "\n",
    "        # 1 - real image, 0 - fake image\n",
    "        real_labels = tf.ones((batch_sizes, 1))\n",
    "        fake_labels = tf.zeros((batch_sizes, 1))\n",
    "\n",
    "        # train Discriminator\n",
    "        with tf.GradientTape() as disc_tape, tf.GradientTape() as gen_tape:\n",
    "            # gen fake img by Generator\n",
    "            fake_images = self.generator(noise, training=True)\n",
    "            # tf.print(f\"fake_images:{fake_images.shape}\")\n",
    "            real_preds = self.discriminator(batch, training=True)\n",
    "            fake_preds = self.discriminator(fake_images, training=True)\n",
    "\n",
    "            real_loss = self.loss_fn(real_labels, real_preds)\n",
    "            fake_loss = self.loss_fn(fake_labels, fake_preds)\n",
    "\n",
    "            disc_loss = (real_loss + fake_loss) / 2\n",
    "\n",
    "            fake_images = self.generator(noise, training=True)\n",
    "            fake_preds = self.discriminator(fake_images, training=True)\n",
    "            gen_loss = self.loss_fn(real_labels, fake_preds)\n",
    "            pass\n",
    "        # train Generator\n",
    "        gen_grad = gen_tape.gradient(gen_loss, self.generator.trainable_variables)\n",
    "        disc_grad = disc_tape.gradient(disc_loss, self.discriminator.trainable_variables)\n",
    "        self.gen_optimizer.apply_gradients(zip(gen_grad, self.generator.trainable_variables))\n",
    "        self.disc_optimizer.apply_gradients(zip(disc_grad, self.discriminator.trainable_variables))\n",
    "\n",
    "        return {\"gen_loss\": gen_loss, \"disc_loss\": disc_loss}"
   ],
   "outputs": [],
   "execution_count": 91
  },
  {
   "cell_type": "code",
   "id": "4e7ba3aec4f5cfba",
   "metadata": {
    "ExecuteTime": {
     "end_time": "2025-03-03T15:07:51.519681Z",
     "start_time": "2025-03-03T15:07:46.737943Z"
    }
   },
   "source": [
    "gan = GAN(noise_dim=512)\n",
    "\n",
    "gan.compile(\n",
    "    # gen_optimizer=keras.optimizers.Adam(0.0002, 0.5),\n",
    "    # disc_optimizer=keras.optimizers.Adam(0.0002, 0.5),\n",
    "    # loss_fn=keras.losses.BinaryCrossentropy()\n",
    "    # gen_optimizer=keras.optimizers.Adam(learning_rate=0.001, beta_1=0.9),\n",
    "    # disc_optimizer=keras.optimizers.Adam(learning_rate=0.001, beta_1=0.9),\n",
    "    # loss_fn=keras.losses.BinaryCrossentropy()\n",
    "    gen_optimizer=keras.optimizers.Adam(learning_rate=0.0002, beta_1=0.5),\n",
    "    disc_optimizer=keras.optimizers.Adam(learning_rate=0.0002, beta_1=0.5),\n",
    "    loss_fn=keras.losses.BinaryCrossentropy()\n",
    ")\n",
    "\n",
    "# gan.fit(dataset, epochs=10000)\n",
    "gan.fit(dataset, epochs=5, batch_size=256)"
   ],
   "outputs": [
    {
     "name": "stdout",
     "output_type": "stream",
     "text": [
      "Epoch 1/5\n"
     ]
    },
    {
     "name": "stderr",
     "output_type": "stream",
     "text": [
      "2025-03-03 22:07:47.577064: E tensorflow/core/grappler/optimizers/meta_optimizer.cc:961] PluggableGraphOptimizer failed: INVALID_ARGUMENT: Failed to deserialize the `graph_buf`.\n"
     ]
    },
    {
     "name": "stdout",
     "output_type": "stream",
     "text": [
      "\u001B[1m 10/196\u001B[0m \u001B[32m━\u001B[0m\u001B[37m━━━━━━━━━━━━━━━━━━━\u001B[0m \u001B[1m29s\u001B[0m 157ms/step - disc_loss: 0.6288 - gen_loss: 0.7177"
     ]
    },
    {
     "ename": "KeyboardInterrupt",
     "evalue": "",
     "output_type": "error",
     "traceback": [
      "\u001B[0;31m---------------------------------------------------------------------------\u001B[0m",
      "\u001B[0;31mKeyboardInterrupt\u001B[0m                         Traceback (most recent call last)",
      "Cell \u001B[0;32mIn[92], line 16\u001B[0m\n\u001B[1;32m      3\u001B[0m gan\u001B[38;5;241m.\u001B[39mcompile(\n\u001B[1;32m      4\u001B[0m     \u001B[38;5;66;03m# gen_optimizer=keras.optimizers.Adam(0.0002, 0.5),\u001B[39;00m\n\u001B[1;32m      5\u001B[0m     \u001B[38;5;66;03m# disc_optimizer=keras.optimizers.Adam(0.0002, 0.5),\u001B[39;00m\n\u001B[0;32m   (...)\u001B[0m\n\u001B[1;32m     12\u001B[0m     loss_fn\u001B[38;5;241m=\u001B[39mkeras\u001B[38;5;241m.\u001B[39mlosses\u001B[38;5;241m.\u001B[39mBinaryCrossentropy()\n\u001B[1;32m     13\u001B[0m )\n\u001B[1;32m     15\u001B[0m \u001B[38;5;66;03m# gan.fit(dataset, epochs=10000)\u001B[39;00m\n\u001B[0;32m---> 16\u001B[0m \u001B[43mgan\u001B[49m\u001B[38;5;241;43m.\u001B[39;49m\u001B[43mfit\u001B[49m\u001B[43m(\u001B[49m\u001B[43mdataset\u001B[49m\u001B[43m,\u001B[49m\u001B[43m \u001B[49m\u001B[43mepochs\u001B[49m\u001B[38;5;241;43m=\u001B[39;49m\u001B[38;5;241;43m5\u001B[39;49m\u001B[43m,\u001B[49m\u001B[43m \u001B[49m\u001B[43mbatch_size\u001B[49m\u001B[38;5;241;43m=\u001B[39;49m\u001B[38;5;241;43m256\u001B[39;49m\u001B[43m)\u001B[49m\n",
      "File \u001B[0;32m~/conda/envs/learn-ml/lib/python3.10/site-packages/keras/src/utils/traceback_utils.py:117\u001B[0m, in \u001B[0;36mfilter_traceback.<locals>.error_handler\u001B[0;34m(*args, **kwargs)\u001B[0m\n\u001B[1;32m    115\u001B[0m filtered_tb \u001B[38;5;241m=\u001B[39m \u001B[38;5;28;01mNone\u001B[39;00m\n\u001B[1;32m    116\u001B[0m \u001B[38;5;28;01mtry\u001B[39;00m:\n\u001B[0;32m--> 117\u001B[0m     \u001B[38;5;28;01mreturn\u001B[39;00m \u001B[43mfn\u001B[49m\u001B[43m(\u001B[49m\u001B[38;5;241;43m*\u001B[39;49m\u001B[43margs\u001B[49m\u001B[43m,\u001B[49m\u001B[43m \u001B[49m\u001B[38;5;241;43m*\u001B[39;49m\u001B[38;5;241;43m*\u001B[39;49m\u001B[43mkwargs\u001B[49m\u001B[43m)\u001B[49m\n\u001B[1;32m    118\u001B[0m \u001B[38;5;28;01mexcept\u001B[39;00m \u001B[38;5;167;01mException\u001B[39;00m \u001B[38;5;28;01mas\u001B[39;00m e:\n\u001B[1;32m    119\u001B[0m     filtered_tb \u001B[38;5;241m=\u001B[39m _process_traceback_frames(e\u001B[38;5;241m.\u001B[39m__traceback__)\n",
      "File \u001B[0;32m~/conda/envs/learn-ml/lib/python3.10/site-packages/keras/src/backend/tensorflow/trainer.py:371\u001B[0m, in \u001B[0;36mTensorFlowTrainer.fit\u001B[0;34m(self, x, y, batch_size, epochs, verbose, callbacks, validation_split, validation_data, shuffle, class_weight, sample_weight, initial_epoch, steps_per_epoch, validation_steps, validation_batch_size, validation_freq)\u001B[0m\n\u001B[1;32m    369\u001B[0m \u001B[38;5;28;01mfor\u001B[39;00m step, iterator \u001B[38;5;129;01min\u001B[39;00m epoch_iterator:\n\u001B[1;32m    370\u001B[0m     callbacks\u001B[38;5;241m.\u001B[39mon_train_batch_begin(step)\n\u001B[0;32m--> 371\u001B[0m     logs \u001B[38;5;241m=\u001B[39m \u001B[38;5;28;43mself\u001B[39;49m\u001B[38;5;241;43m.\u001B[39;49m\u001B[43mtrain_function\u001B[49m\u001B[43m(\u001B[49m\u001B[43miterator\u001B[49m\u001B[43m)\u001B[49m\n\u001B[1;32m    372\u001B[0m     callbacks\u001B[38;5;241m.\u001B[39mon_train_batch_end(step, logs)\n\u001B[1;32m    373\u001B[0m     \u001B[38;5;28;01mif\u001B[39;00m \u001B[38;5;28mself\u001B[39m\u001B[38;5;241m.\u001B[39mstop_training:\n",
      "File \u001B[0;32m~/conda/envs/learn-ml/lib/python3.10/site-packages/keras/src/backend/tensorflow/trainer.py:220\u001B[0m, in \u001B[0;36mTensorFlowTrainer._make_function.<locals>.function\u001B[0;34m(iterator)\u001B[0m\n\u001B[1;32m    216\u001B[0m \u001B[38;5;28;01mif\u001B[39;00m \u001B[38;5;28misinstance\u001B[39m(\n\u001B[1;32m    217\u001B[0m     iterator, (tf\u001B[38;5;241m.\u001B[39mdata\u001B[38;5;241m.\u001B[39mIterator, tf\u001B[38;5;241m.\u001B[39mdistribute\u001B[38;5;241m.\u001B[39mDistributedIterator)\n\u001B[1;32m    218\u001B[0m ):\n\u001B[1;32m    219\u001B[0m     opt_outputs \u001B[38;5;241m=\u001B[39m multi_step_on_iterator(iterator)\n\u001B[0;32m--> 220\u001B[0m     \u001B[38;5;28;01mif\u001B[39;00m \u001B[38;5;129;01mnot\u001B[39;00m \u001B[43mopt_outputs\u001B[49m\u001B[38;5;241;43m.\u001B[39;49m\u001B[43mhas_value\u001B[49m\u001B[43m(\u001B[49m\u001B[43m)\u001B[49m:\n\u001B[1;32m    221\u001B[0m         \u001B[38;5;28;01mraise\u001B[39;00m \u001B[38;5;167;01mStopIteration\u001B[39;00m\n\u001B[1;32m    222\u001B[0m     \u001B[38;5;28;01mreturn\u001B[39;00m opt_outputs\u001B[38;5;241m.\u001B[39mget_value()\n",
      "File \u001B[0;32m~/conda/envs/learn-ml/lib/python3.10/site-packages/tensorflow/python/data/ops/optional_ops.py:176\u001B[0m, in \u001B[0;36m_OptionalImpl.has_value\u001B[0;34m(self, name)\u001B[0m\n\u001B[1;32m    174\u001B[0m \u001B[38;5;28;01mdef\u001B[39;00m \u001B[38;5;21mhas_value\u001B[39m(\u001B[38;5;28mself\u001B[39m, name\u001B[38;5;241m=\u001B[39m\u001B[38;5;28;01mNone\u001B[39;00m):\n\u001B[1;32m    175\u001B[0m   \u001B[38;5;28;01mwith\u001B[39;00m ops\u001B[38;5;241m.\u001B[39mcolocate_with(\u001B[38;5;28mself\u001B[39m\u001B[38;5;241m.\u001B[39m_variant_tensor):\n\u001B[0;32m--> 176\u001B[0m     \u001B[38;5;28;01mreturn\u001B[39;00m \u001B[43mgen_optional_ops\u001B[49m\u001B[38;5;241;43m.\u001B[39;49m\u001B[43moptional_has_value\u001B[49m\u001B[43m(\u001B[49m\n\u001B[1;32m    177\u001B[0m \u001B[43m        \u001B[49m\u001B[38;5;28;43mself\u001B[39;49m\u001B[38;5;241;43m.\u001B[39;49m\u001B[43m_variant_tensor\u001B[49m\u001B[43m,\u001B[49m\u001B[43m \u001B[49m\u001B[43mname\u001B[49m\u001B[38;5;241;43m=\u001B[39;49m\u001B[43mname\u001B[49m\n\u001B[1;32m    178\u001B[0m \u001B[43m    \u001B[49m\u001B[43m)\u001B[49m\n",
      "File \u001B[0;32m~/conda/envs/learn-ml/lib/python3.10/site-packages/tensorflow/python/ops/gen_optional_ops.py:172\u001B[0m, in \u001B[0;36moptional_has_value\u001B[0;34m(optional, name)\u001B[0m\n\u001B[1;32m    170\u001B[0m \u001B[38;5;28;01mif\u001B[39;00m tld\u001B[38;5;241m.\u001B[39mis_eager:\n\u001B[1;32m    171\u001B[0m   \u001B[38;5;28;01mtry\u001B[39;00m:\n\u001B[0;32m--> 172\u001B[0m     _result \u001B[38;5;241m=\u001B[39m \u001B[43mpywrap_tfe\u001B[49m\u001B[38;5;241;43m.\u001B[39;49m\u001B[43mTFE_Py_FastPathExecute\u001B[49m\u001B[43m(\u001B[49m\n\u001B[1;32m    173\u001B[0m \u001B[43m      \u001B[49m\u001B[43m_ctx\u001B[49m\u001B[43m,\u001B[49m\u001B[43m \u001B[49m\u001B[38;5;124;43m\"\u001B[39;49m\u001B[38;5;124;43mOptionalHasValue\u001B[39;49m\u001B[38;5;124;43m\"\u001B[39;49m\u001B[43m,\u001B[49m\u001B[43m \u001B[49m\u001B[43mname\u001B[49m\u001B[43m,\u001B[49m\u001B[43m \u001B[49m\u001B[43moptional\u001B[49m\u001B[43m)\u001B[49m\n\u001B[1;32m    174\u001B[0m     \u001B[38;5;28;01mreturn\u001B[39;00m _result\n\u001B[1;32m    175\u001B[0m   \u001B[38;5;28;01mexcept\u001B[39;00m _core\u001B[38;5;241m.\u001B[39m_NotOkStatusException \u001B[38;5;28;01mas\u001B[39;00m e:\n",
      "\u001B[0;31mKeyboardInterrupt\u001B[0m: "
     ]
    }
   ],
   "execution_count": 92
  },
  {
   "cell_type": "code",
   "id": "322a10cbd78a6418",
   "metadata": {},
   "source": [
    "gan.save_weights(PROJECT_DIR + \"/data/models/cifar10_gan_500/model\")"
   ],
   "outputs": [],
   "execution_count": null
  },
  {
   "cell_type": "code",
   "id": "c2f35de0",
   "metadata": {},
   "source": [
    "# gan.load_weights(PROJECT_DIR + \"/data/models/fashionmnist_gan_1000_2/model\")"
   ],
   "outputs": [],
   "execution_count": null
  },
  {
   "cell_type": "code",
   "id": "d95b4831dfe7d66c",
   "metadata": {},
   "source": [
    "import matplotlib.pyplot as plt\n",
    "\n",
    "def generate_and_show_images(generator, num_examples=10):\n",
    "    noise = tf.random.normal(shape=(num_examples, 512))\n",
    "    images = generator(noise, training=False)\n",
    "    images = (images + 1) / 2.0  # standardize to [0, 1]\n",
    "    rows=4\n",
    "\n",
    "    fig, axes = plt.subplots(nrows=rows, ncols=num_examples//rows, figsize=(10, 5))\n",
    "    for i, ax in enumerate(axes.flat):\n",
    "        ax.imshow(images[i], cmap=\"gray\")\n",
    "        ax.axis(\"off\")\n",
    "    plt.show()\n",
    "\n",
    "generate_and_show_images(gan.generator, num_examples=20)"
   ],
   "outputs": [],
   "execution_count": null
  },
  {
   "metadata": {},
   "cell_type": "code",
   "source": "",
   "id": "33452a0cd42f17fd",
   "outputs": [],
   "execution_count": null
  }
 ],
 "metadata": {
  "kernelspec": {
   "display_name": "learn-ml",
   "language": "python",
   "name": "python3"
  },
  "language_info": {
   "codemirror_mode": {
    "name": "ipython",
    "version": 3
   },
   "file_extension": ".py",
   "mimetype": "text/x-python",
   "name": "python",
   "nbconvert_exporter": "python",
   "pygments_lexer": "ipython3",
   "version": "3.9.18"
  }
 },
 "nbformat": 4,
 "nbformat_minor": 5
}
