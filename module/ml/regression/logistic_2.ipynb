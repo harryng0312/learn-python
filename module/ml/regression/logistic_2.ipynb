{
 "cells": [
  {
   "cell_type": "code",
   "execution_count": 1,
   "metadata": {
    "ExecuteTime": {
     "end_time": "2023-07-16T16:19:16.021707Z",
     "start_time": "2023-07-16T16:19:15.640043Z"
    }
   },
   "outputs": [],
   "source": [
    "import numpy as np\n",
    "import matplotlib\n",
    "import matplotlib.pyplot as plt\n",
    "import module.conf as conf\n",
    "\n",
    "matplotlib.use(\"QtCairo\")\n",
    "# %matplotlib tk"
   ]
  },
  {
   "cell_type": "markdown",
   "metadata": {},
   "source": [
    "### Implement"
   ]
  },
  {
   "cell_type": "markdown",
   "metadata": {},
   "source": [
    "1. Sigmoid: $y = f(x) = {1\\over 1 + e^{-x}}$"
   ]
  },
  {
   "cell_type": "code",
   "execution_count": 2,
   "metadata": {
    "ExecuteTime": {
     "end_time": "2023-07-16T16:19:16.023758Z",
     "start_time": "2023-07-16T16:19:16.022213Z"
    }
   },
   "outputs": [],
   "source": [
    "def sigmoid(s: float) -> np.ndarray:\n",
    "    return 1/(1 + np.exp(-s))"
   ]
  },
  {
   "cell_type": "markdown",
   "metadata": {},
   "source": [
    "2. Gradient of Sigmoid: \n",
    "- $z_i = f(w^Tx_i) = sigmoid(x_i)$\n",
    "- $y_i = f(x_i) = \\sigma(x_i) = sigmoid(x_i)$\n",
    "- $\\nabla f(x_i) = \\sigma(x_i)\\sigma(1-x_i)$"
   ]
  },
  {
   "cell_type": "code",
   "execution_count": 3,
   "metadata": {
    "ExecuteTime": {
     "end_time": "2023-07-16T16:19:16.026799Z",
     "start_time": "2023-07-16T16:19:16.025453Z"
    }
   },
   "outputs": [],
   "source": [
    "def grad_sigmoid(w_prev: np.ndarray, b_prev: np.ndarray, yi: float, xi: np.ndarray) -> float:\n",
    "    # (f(w.T * x) - y) * x\n",
    "    zi = sigmoid(s=np.add(np.dot(a=w_prev, b=xi), b_prev))\n",
    "    # yi = sigmoid(x=xi)\n",
    "    # return np.dot(a=sigmoid(x=np.dot(a=w_prev.transpose(), b=xi)) - y, b=xi)\n",
    "    # return zi * yi * xi\n",
    "    diff_zi_yi = zi - yi\n",
    "    # print(f\"diff_zi_yi:{diff_zi_yi}\")\n",
    "    # print(f\"xi:{xi}\")\n",
    "    # return np.dot(a=diff_zi_yi, b=xi)\n",
    "    # return np.multiply(diff_zi_yi, xi)\n",
    "    return diff_zi_yi * xi"
   ]
  },
  {
   "cell_type": "markdown",
   "metadata": {},
   "source": [
    "- $ w_i = w_{i-1} - \\eta (z_i - y_i) x_i $"
   ]
  },
  {
   "cell_type": "code",
   "execution_count": 10,
   "metadata": {},
   "outputs": [],
   "source": [
    "def logistic_regression_sigmoid(Y: np.ndarray, w_init: np.ndarray, b_init: np.ndarray, X: np.ndarray, eta, stop_threshold: float = .0001, loop_count: int=10_000) -> tuple[list, list]:\n",
    "\n",
    "    w: list = [w_init]\n",
    "    b: list = [b_init[0]]\n",
    "    c = 0\n",
    "    dim_X = X.shape[1]\n",
    "    N = X.shape[0]\n",
    "    # ONE = np.ones(shape=(dim_X, 1))\n",
    "    while c < loop_count:\n",
    "        # mix data\n",
    "        # mixed_index = np.random.permutation(N)\n",
    "        # print(f\"c:{c}\\nmidex:{mixed_index}\")\n",
    "        mixed_index = range(N)\n",
    "        for i in mixed_index:\n",
    "            # xi = X[:, i].reshape(dim_X, 1)\n",
    "            xi = X[i].transpose()\n",
    "            yi = Y[i]\n",
    "            w_latest = w[-1]\n",
    "            b_latest = b[-1]\n",
    "            # w_new = w[-1] - eta * grad_sigmoid(w_prev=w_latest, b_prev=b_latest, yi=yi, xi=xi)\n",
    "            # b_new = b[-1] - eta * grad_sigmoid(w_prev=w_latest, b_prev=b_latest, yi=yi, xi=ONE)\n",
    "            # zi = sigmoid(np.add(np.multiply(np.dot(a=w_latest, b=xi), xi), b_latest))\n",
    "            zi = sigmoid(np.add(np.dot(a=w_latest, b=xi), b_init))\n",
    "            w_new = w[-1] - eta * (yi - zi) * xi\n",
    "            b_new = b[-1] - eta * (yi - zi)\n",
    "            print(f\"c[{c}] b_new is:{b_new[0]}\")\n",
    "            c += 1\n",
    "            if np.linalg.norm((w_new) - (w[-1])) < stop_threshold:\n",
    "                print(f\"return early\\nw:{w}\\nb{b}\")\n",
    "                return w, b\n",
    "            w.append(w_new)\n",
    "            b.append(b_new[0])\n",
    "            pass\n",
    "        pass\n",
    "    return w, b"
   ]
  },
  {
   "cell_type": "markdown",
   "metadata": {},
   "source": [
    "### Create data"
   ]
  },
  {
   "cell_type": "code",
   "execution_count": 19,
   "metadata": {},
   "outputs": [
    {
     "name": "stdout",
     "output_type": "stream",
     "text": [
      "c[0] b_new is:0.9779855119929433\n",
      "c[1] b_new is:0.9779855278039763\n",
      "return early\n",
      "w:[array([[ 1.53564761,  0.67423147, -0.83882089, -1.3731326 ,  0.62119857,\n",
      "        -0.6709411 ,  0.04119253, -0.54636285, -0.85144207, -1.36382339]]), array([[ 1.50647799,  0.65986583, -0.84689498, -1.3854815 ,  0.59700239,\n",
      "        -0.69113531,  0.03050891, -0.56428543, -0.86870373, -1.3897442 ]])]\n",
      "b[array([0.98098458]), 0.9779855119929433]\n",
      "w_list:[[ 1.50647799  0.65986583 -0.84689498 -1.3854815   0.59700239 -0.69113531\n",
      "   0.03050891 -0.56428543 -0.86870373 -1.3897442 ]]\n",
      "b_list:0.9779855119929433\n"
     ]
    }
   ],
   "source": [
    "X = []\n",
    "N = 500\n",
    "dimension = 10\n",
    "# for i in range(N):\n",
    "#     X.append(np.random.uniform(low=10.0, high=0.1, size=dimension))\n",
    "#     pass\n",
    "# X = np.array(X)\n",
    "# Y = np.random.randint(low=2, size=N)\n",
    "# w_init = np.random.randn(1, dimension)\n",
    "# b_init: float = np.random.rand(1)\n",
    "# np.save(file=conf.PROJECT_DIR + \"/data/ml/X\", arr=X, allow_pickle=False)\n",
    "# np.save(file=conf.PROJECT_DIR + \"/data/ml/Y\", arr=Y, allow_pickle=False)\n",
    "# np.save(file=conf.PROJECT_DIR + \"/data/ml/w_init\", arr=w_init, allow_pickle=False)\n",
    "# np.save(file=\"\".join((conf.PROJECT_DIR, \"/data/ml/b_init\",)), arr=b_init)\n",
    "X: np.ndarray = np.load(file=\"\".join((conf.PROJECT_DIR, \"/data/ml/X.npy\",)))\n",
    "Y: np.ndarray = np.load(file=\"\".join((conf.PROJECT_DIR, \"/data/ml/Y.npy\",)))\n",
    "w_init: np.ndarray = np.load(file=\"\".join((conf.PROJECT_DIR, \"/data/ml/w_init.npy\",)))\n",
    "b_init: np.ndarray = np.load(file=\"\".join((conf.PROJECT_DIR, \"/data/ml/b_init.npy\",)))\n",
    "\n",
    "eta = .003\n",
    "# column matrix w_init\n",
    "\n",
    "w_list, b_list = logistic_regression_sigmoid(Y=Y, w_init=w_init, b_init=b_init, X=X, eta=eta, loop_count=10_000)\n",
    "\n",
    "print(f\"w_list:{w_list[-1]}\\nb_list:{b_list[-1]}\")\n",
    "\n",
    "# lines = []\n",
    "# lines.extend((X[:, 0], Y, \"r.\",))\n",
    "# lines.extend((X[:, 1], Y, \"b.\",))\n",
    "# plt.plot(*lines)\n",
    "# plt.show()"
   ]
  },
  {
   "cell_type": "markdown",
   "metadata": {},
   "source": []
  },
  {
   "cell_type": "code",
   "execution_count": 6,
   "metadata": {
    "ExecuteTime": {
     "end_time": "2023-07-16T16:19:16.043676Z",
     "start_time": "2023-07-16T16:19:16.040403Z"
    }
   },
   "outputs": [
    {
     "data": {
      "text/plain": "array([5.25456197e-06])"
     },
     "execution_count": 6,
     "metadata": {},
     "output_type": "execute_result"
    }
   ],
   "source": [
    "sigmoid(np.dot(w_list[-1], X[1]) + b_list[-1])"
   ]
  },
  {
   "cell_type": "code",
   "execution_count": 6,
   "metadata": {
    "ExecuteTime": {
     "end_time": "2023-07-16T16:19:16.083313Z",
     "start_time": "2023-07-16T16:19:16.044014Z"
    }
   },
   "outputs": [],
   "source": []
  },
  {
   "cell_type": "markdown",
   "metadata": {},
   "source": [
    "### Test matrix"
   ]
  },
  {
   "cell_type": "code",
   "execution_count": 7,
   "metadata": {
    "ExecuteTime": {
     "end_time": "2023-07-16T16:19:16.093670Z",
     "start_time": "2023-07-16T16:19:16.046563Z"
    }
   },
   "outputs": [
    {
     "name": "stdout",
     "output_type": "stream",
     "text": [
      "x*y = [ 4.  8. 12.]\n",
      "x - 2 = [-1.  0.  1.]\n"
     ]
    }
   ],
   "source": [
    "x = np.array(object=[1, 2, 3], dtype=float)\n",
    "y = np.array(object=[4], dtype=float)\n",
    "\n",
    "print(f\"x*y = {x*y}\")\n",
    "# print(f\"x dot y = {np.dot(a=x, b=y)}\")\n",
    "print(f\"x - 2 = {x-2}\")"
   ]
  }
 ],
 "metadata": {
  "kernelspec": {
   "display_name": "learn-python",
   "language": "python",
   "name": "python3"
  },
  "language_info": {
   "codemirror_mode": {
    "name": "ipython",
    "version": 3
   },
   "file_extension": ".py",
   "mimetype": "text/x-python",
   "name": "python",
   "nbconvert_exporter": "python",
   "pygments_lexer": "ipython3",
   "version": "3.11.4"
  },
  "orig_nbformat": 4
 },
 "nbformat": 4,
 "nbformat_minor": 2
}
