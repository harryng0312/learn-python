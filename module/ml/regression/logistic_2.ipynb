{
 "cells": [
  {
   "cell_type": "code",
   "execution_count": 19,
   "metadata": {},
   "outputs": [],
   "source": [
    "import numpy as np\n",
    "import matplotlib\n",
    "import matplotlib.pyplot as plt\n",
    "\n",
    "matplotlib.use(\"QtCairo\")\n",
    "# %matplotlib tk"
   ]
  },
  {
   "cell_type": "code",
   "execution_count": 20,
   "metadata": {},
   "outputs": [],
   "source": [
    "def sigmoid(x: np.ndarray) -> np.ndarray:\n",
    "    return 1/(1 + np.exp(-x))\n",
    "\n",
    "def grad_sigmoid(w_prev: np.ndarray, xi: np.ndarray) -> float:\n",
    "    # (f(w.T * x) - y) * x\n",
    "    zi = sigmoid(x=np.dot(a=w_prev.transpose(), b=xi))\n",
    "    yi = sigmoid(x=xi)\n",
    "    # return np.dot(a=sigmoid(x=np.dot(a=w_prev.transpose(), b=xi)) - y, b=xi)\n",
    "    return zi * yi * xi"
   ]
  },
  {
   "cell_type": "code",
   "execution_count": 21,
   "metadata": {},
   "outputs": [],
   "source": [
    "# x = np.arange(-5, 5, 0.01)\n",
    "# x = np.random.random(size=(1, 10,))\n",
    "# x = np.random.uniform(low=10.0, high=0.2, size=(1, 10,))\n",
    "# y = np.random.randint(low=2, size=10)\n",
    "# y_prec = sigmoid(x=x)\n",
    "# print(f\"x:{x}\\ny:{y}\")\n",
    "# w = np.random.random(size=(1, 5, ))\n",
    "# # print(f\"{x}\\n{y}\")\n",
    "# grad_y = grad_sigmoid(w, x)\n",
    "# print(f\"{grad_y}\")\n",
    "\n",
    "# fig, axes = plt.subplots()\n",
    "# axes.plot(x[0], y, \"ro\")\n",
    "# axes.grid()\n",
    "# plt.show()"
   ]
  },
  {
   "cell_type": "markdown",
   "metadata": {},
   "source": [
    "### Create data"
   ]
  },
  {
   "cell_type": "code",
   "execution_count": 22,
   "metadata": {},
   "outputs": [],
   "source": [
    "X = []\n",
    "N = 500\n",
    "dimension = 10\n",
    "for i in range(N):\n",
    "    X.append(np.random.uniform(low=10.0, high=0.1, size=dimension))\n",
    "    pass\n",
    "X = np.array(X)\n",
    "Y = np.random.randint(low=2, size=N)\n",
    "\n",
    "Y\n",
    "\n",
    "# lines = []\n",
    "# lines.extend((X[:, 0], Y, \"r.\",))\n",
    "# lines.extend((X[:, 1], Y, \"b.\",))\n",
    "# plt.plot(*lines)\n",
    "# plt.show()"
   ]
  },
  {
   "cell_type": "markdown",
   "metadata": {},
   "source": [
    "### Do regress"
   ]
  },
  {
   "cell_type": "code",
   "execution_count": null,
   "metadata": {},
   "outputs": [],
   "source": []
  }
 ],
 "metadata": {
  "kernelspec": {
   "display_name": "learn-python",
   "language": "python",
   "name": "python3"
  },
  "language_info": {
   "codemirror_mode": {
    "name": "ipython",
    "version": 3
   },
   "file_extension": ".py",
   "mimetype": "text/x-python",
   "name": "python",
   "nbconvert_exporter": "python",
   "pygments_lexer": "ipython3",
   "version": "3.11.4"
  },
  "orig_nbformat": 4
 },
 "nbformat": 4,
 "nbformat_minor": 2
}
