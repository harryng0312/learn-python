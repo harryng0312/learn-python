{
 "cells": [
  {
   "cell_type": "code",
   "execution_count": 32,
   "metadata": {
    "ExecuteTime": {
     "end_time": "2023-07-16T16:19:16.021707Z",
     "start_time": "2023-07-16T16:19:15.640043Z"
    }
   },
   "outputs": [],
   "source": [
    "import numpy as np\n",
    "import matplotlib\n",
    "import matplotlib.pyplot as plt\n",
    "import module.conf as conf\n",
    "import sklearn.metrics  as metrics\n",
    "\n",
    "from sklearn.preprocessing import MinMaxScaler\n",
    "from sklearn.linear_model import LogisticRegression\n",
    "\n",
    "# matplotlib.use(\"QtCairo\")\n",
    "# %matplotlib tk"
   ]
  },
  {
   "cell_type": "markdown",
   "metadata": {},
   "source": [
    "### Implement"
   ]
  },
  {
   "cell_type": "markdown",
   "metadata": {},
   "source": [
    "1. Sigmoid: $y = f(x) = {1\\over 1 + e^{-x}}$"
   ]
  },
  {
   "cell_type": "code",
   "execution_count": 3,
   "metadata": {
    "ExecuteTime": {
     "end_time": "2023-07-16T16:19:16.023758Z",
     "start_time": "2023-07-16T16:19:16.022213Z"
    }
   },
   "outputs": [],
   "source": [
    "def sigmoid(s: float) -> np.ndarray:\n",
    "    return 1/(1 + np.exp(-s))"
   ]
  },
  {
   "cell_type": "markdown",
   "metadata": {},
   "source": [
    "2. Gradient of Sigmoid: \n",
    "- $z_i = f(w^Tx_i+b_i) $\n",
    "- $f(z_i)= sigmoid(w^Tx_i+b_i)$\n",
    "- $P(y|X;w,b) = \\prod\\limits_{i=1}^{N}P(y_i | x_i; w, b) = \\prod\\limits_{i=1}^{N}z_{i}^{y_i}(1-z_{i})^{1-y_i}$\n",
    "- $J(w,b) = -logP(y|X;w,b) = - \\sum\\limits_{i=1}^{N}(y_ilogz_i + (1-y_i)log(1-z_i))$\n",
    "- $ w_i = w_{i-1} - \\eta (z_i - y_i) x_i $"
   ]
  },
  {
   "cell_type": "code",
   "execution_count": 4,
   "metadata": {},
   "outputs": [],
   "source": [
    "def grad_sigmoid(w: np.ndarray, b: float, X: np.ndarray, y: np.ndarray , lambda_:float = 1.):\n",
    "    m, n = X.shape\n",
    "    grad_w = np.zeros(shape=w.shape)\n",
    "    grad_b = .0\n",
    "    for i in range(m):\n",
    "        zi = np.dot(w, X[i]) + b\n",
    "        f = sigmoid(zi)\n",
    "        delta_f_y = f - y[i]\n",
    "        for j in range(n):\n",
    "            grad_w[j] += delta_f_y * X[i, j]\n",
    "            pass\n",
    "        grad_b += delta_f_y\n",
    "        pass\n",
    "    for i in range(n):\n",
    "        grad_w[i] += lambda_ * w[i]\n",
    "\n",
    "    grad_w /= m\n",
    "    grad_b /= m\n",
    "\n",
    "    return grad_w, grad_b\n",
    "\n",
    "# grad_sigmoid(w=np.asarray([0,0,0]), b=0, X=np.asarray([[1, 2, 3], [4, 5, 6]]), y=np.asarray([0, 1]))"
   ]
  },
  {
   "cell_type": "code",
   "execution_count": 89,
   "metadata": {},
   "outputs": [],
   "source": [
    "def calc_grad_descent(X: np.ndarray, y_train: np.ndarray, w_0: np.ndarray, b_0: float, alpha: float, iter=1_000, stop_criteria:float = 1e-3):\n",
    "    w = [w_0]\n",
    "    b = [b_0]\n",
    "    m, n = X.shape\n",
    "    for _ in range(iter):\n",
    "        grad_w, grad_b = grad_sigmoid(w[-1], b[-1], X, y_train)\n",
    "        w_new = w[-1] - alpha * grad_w\n",
    "        b_new = b[-1] - alpha * grad_b\n",
    "        w.append(w_new)\n",
    "        b.append(b_new)\n",
    "        # if np.linalg.norm(grad_w) < stop_criteria:\n",
    "        #     break\n",
    "        pass\n",
    "    return w, b"
   ]
  },
  {
   "cell_type": "markdown",
   "metadata": {},
   "source": [
    "### Create data"
   ]
  },
  {
   "cell_type": "code",
   "execution_count": 90,
   "metadata": {},
   "outputs": [
    {
     "name": "stdout",
     "output_type": "stream",
     "text": [
      "w_init:[0.05518265 0.07067271 0.38425515 0.08452069 0.46458603 0.1890101\n",
      " 0.16627643 0.09777954 0.10041589 0.16446739]\n",
      "b_init:0.8114944059251061\n"
     ]
    }
   ],
   "source": [
    "X = []\n",
    "Y = []\n",
    "N = 500\n",
    "dimension = 10\n",
    "# for i in range(N//2):\n",
    "#     X.append(np.random.uniform(low=0, high=5, size=dimension))\n",
    "#     Y.append(0)\n",
    "#     pass\n",
    "# for i in range(N - N//2):\n",
    "#     X.append(np.random.uniform(low=5.5, high=10, size=dimension))\n",
    "#     Y.append(1)\n",
    "#     pass\n",
    "# X = np.asarray(X)\n",
    "# Y = np.asarray(Y)\n",
    "# w_init = np.random.randn(1, dimension)s\n",
    "# b_init: float = np.random.rand(1)\n",
    "# max_0 = X[:, 0].max()\n",
    "# w_init = X[np.any(X == max_0, axis=1)][-1]\n",
    "# b_init = np.ceil(max_0)\n",
    "# print(f\"w:{w_init}\\nb:{b_init}\")\n",
    "# np.save(file=conf.PROJECT_DIR + \"/data/ml/X\", arr=X)\n",
    "# np.save(file=conf.PROJECT_DIR + \"/data/ml/Y\", arr=Y)\n",
    "# np.save(file=conf.PROJECT_DIR + \"/data/ml/w_init\", arr=w_init)\n",
    "# np.save(file=\"\".join((conf.PROJECT_DIR, \"/data/ml/b_init\",)), arr=b_init)\n",
    "X: np.ndarray = np.load(file=\"\".join((conf.PROJECT_DIR, \"/data/ml/X.npy\",)))\n",
    "Y: np.ndarray = np.load(file=\"\".join((conf.PROJECT_DIR, \"/data/ml/Y.npy\",)))\n",
    "# w_init: np.ndarray = np.load(file=\"\".join((conf.PROJECT_DIR, \"/data/ml/w_init.npy\",)))\n",
    "# b_init: np.ndarray = np.load(file=\"\".join((conf.PROJECT_DIR, \"/data/ml/b_init.npy\",)))\n",
    "scaler = MinMaxScaler()\n",
    "scaler = scaler.fit(X)\n",
    "X = scaler.transform(X)\n",
    "# print(f\"{X}\")\n",
    "# w_init = np.random.randn(dimension)\n",
    "w_init = X[0]\n",
    "b_init = np.random.rand()\n",
    "# print(f\"X:{X}\\nY:{Y}\")\n",
    "print(f\"w_init:{w_init}\\nb_init:{(b_init)}\")"
   ]
  },
  {
   "cell_type": "code",
   "execution_count": 95,
   "metadata": {},
   "outputs": [
    {
     "name": "stdout",
     "output_type": "stream",
     "text": [
      "w_list[-1]:[1.62934205 1.66864364 1.58761432 1.69028945 1.70476269 1.64105102\n",
      " 1.62752928 1.66369331 1.61096094 1.68249927]\n",
      "b_list[-1]:-8.478864052423194 after 1000 rounds\n"
     ]
    }
   ],
   "source": [
    "alpha = 1 #6e-1\n",
    "# column matrix w_init\n",
    "w_list, b_list = calc_grad_descent(X=X, y_train=Y, w_0=w_init, b_0=b_init, alpha=alpha, iter=1_000, stop_criteria=alpha)\n",
    "# alpha = 1e-3 iter = 10_000\n",
    "# alpha = 3e-3 iter = 20_000\n",
    "# alpha = 6e-1 iter = 1_000\n",
    "print(f\"w_list[-1]:{w_list[-1]}\\nb_list[-1]:{b_list[-1]} after {len(w_list)-1} rounds\")"
   ]
  },
  {
   "cell_type": "code",
   "execution_count": 82,
   "metadata": {},
   "outputs": [
    {
     "name": "stdout",
     "output_type": "stream",
     "text": [
      "w: [[1.68589837 1.69968714 1.62737102 1.71845986 1.72266346 1.68514395\n",
      "  1.67605796 1.70975566 1.66872473 1.69144448]] b: [-8.71388667]\n"
     ]
    }
   ],
   "source": [
    "logistic_regression = LogisticRegression(tol=1e-4, max_iter=10_000)\n",
    "logistic_regression = logistic_regression.fit(X, Y)\n",
    "print(f\"w: {logistic_regression.coef_} b: {logistic_regression.intercept_}\")"
   ]
  },
  {
   "cell_type": "markdown",
   "metadata": {},
   "source": [
    "### Test"
   ]
  },
  {
   "cell_type": "code",
   "execution_count": 96,
   "metadata": {
    "ExecuteTime": {
     "end_time": "2023-07-16T16:19:16.043676Z",
     "start_time": "2023-07-16T16:19:16.040403Z"
    }
   },
   "outputs": [
    {
     "name": "stdout",
     "output_type": "stream",
     "text": [
      "MAE:0.015680199973285007 | 0.0\n",
      "APS:1.0 | 1.0\n",
      "Accuracy:1.0 |       1.0\n",
      "F1 score:1.0 |       1.0\n"
     ]
    }
   ],
   "source": [
    "# sigmoid(np.dot(w_list[-1], X[0,0]) + b_list[-1])\n",
    "# sigmoid(np.add(np.dot(w_list[-1], X[0]), b_list[-1]))\n",
    "# sigmoid(np.dot(w_list[-1], X[0]))\n",
    "# sigmoid(np.add(np.dot(w_list[-1], X[:, 0]), b_list[-1]))\n",
    "# metrics.f1_score(y_true=Y, y_pred=sigmoid(np.add(np.dot(w_list[-1], X[:, 0]), b_list[-1])))\n",
    "S: np.ndarray = sigmoid(np.dot(w_list[-1], X.T) + b_list[-1])\n",
    "# print(f\"S:{S}\")\n",
    "# MAE\n",
    "print(f\"MAE:{metrics.mean_absolute_error(y_true=Y, y_pred=S)} | {metrics.mean_absolute_error(y_true=Y, y_pred=logistic_regression.predict(X))}\")\n",
    "print(f\"APS:{metrics.average_precision_score(y_true=Y, y_score=S)} | {metrics.average_precision_score(y_true=Y, y_score=logistic_regression.predict(X))}\")\n",
    "# print(f\"CLR:{metrics.class_likelihood_ratios(y_true=Y, y_pred=np.round(S))}\")\n",
    "# Accurary Score:\n",
    "print(f\"Accuracy:{metrics.accuracy_score(y_true=Y.astype(dtype=float), y_pred=np.round(a=S, decimals=0), normalize=True)} | \\\n",
    "      {metrics.accuracy_score(y_true=Y.astype(dtype=float), y_pred=logistic_regression.predict(X), normalize=True)}\")\n",
    "# F1 Score\n",
    "print(f\"F1 score:{metrics.f1_score(y_true=Y.astype(dtype=float), y_pred=np.round(S))} | \\\n",
    "      {metrics.f1_score(y_true=Y.astype(dtype=float), y_pred=logistic_regression.predict(X))}\")"
   ]
  },
  {
   "cell_type": "markdown",
   "metadata": {},
   "source": [
    "### Plotting"
   ]
  },
  {
   "cell_type": "code",
   "execution_count": 97,
   "metadata": {
    "ExecuteTime": {
     "end_time": "2023-07-16T16:19:16.083313Z",
     "start_time": "2023-07-16T16:19:16.044014Z"
    }
   },
   "outputs": [
    {
     "name": "stdout",
     "output_type": "stream",
     "text": [
      "[5.20385762 5.08129109 5.34063215 5.01622019 4.97363305 5.16672788\n",
      " 5.20965376 5.0964105  5.2632338  5.03944591]\n"
     ]
    },
    {
     "data": {
      "image/png": "[encoded data removed]",
      "text/plain": [
       "<Figure size 640x480 with 1 Axes>"
      ]
     },
     "metadata": {},
     "output_type": "display_data"
    }
   ],
   "source": [
    "# dth = 0\n",
    "\n",
    "X0 = X[np.where(Y == 0)]\n",
    "Y0 = Y[np.where(Y == 0)]\n",
    "X1 = X[np.where(Y == 1)]\n",
    "Y1 = Y[np.where(Y == 1)]\n",
    "# print(f\"{X0.shape}\")\n",
    "\n",
    "xx = np.linspace(-2, 2, 10_000)\n",
    "xx = np.asarray([xx, xx, xx, xx, xx, xx, xx, xx, xx, xx])\n",
    "b = b_list[-1]\n",
    "w = w_list[-1]\n",
    "# print(f\"b:{b} w:{w} -b/w:{-b/w}\")\n",
    "threshold = -b/w\n",
    "\n",
    "yy = np.round(sigmoid(np.add(b, np.dot(w, xx))))\n",
    "yy_c = logistic_regression.predict(xx.T)\n",
    "\n",
    "fig, axe = plt.subplots()\n",
    "axe.plot(X0, Y0, \"ro\", markersize=4)\n",
    "axe.plot(X1, Y1, \"bs\", markersize=4)\n",
    "\n",
    "axe.axis([-2, 2, -0.5, 1.5])\n",
    "print(f\"{threshold}\")\n",
    "axe.plot(xx.transpose()[:, 0], yy, 'g-', linewidth = 2)\n",
    "axe.plot(xx.transpose()[:, 0], yy_c, 'y-', linewidth = 2)\n",
    "# axe.plot(threshold, [.5], 'y^', markersize = 8)\n",
    "# axe.xlabel('studying hours')\n",
    "# axe.ylabel('predicted probability of pass')\n",
    "axe.set_xlabel(\"x\")\n",
    "axe.set_ylabel('y')\n",
    "plt.show()"
   ]
  }
 ],
 "metadata": {
  "kernelspec": {
   "display_name": "learn-python",
   "language": "python",
   "name": "python3"
  },
  "language_info": {
   "codemirror_mode": {
    "name": "ipython",
    "version": 3
   },
   "file_extension": ".py",
   "mimetype": "text/x-python",
   "name": "python",
   "nbconvert_exporter": "python",
   "pygments_lexer": "ipython3",
   "version": "3.11.4"
  },
  "orig_nbformat": 4
 },
 "nbformat": 4,
 "nbformat_minor": 2
}
