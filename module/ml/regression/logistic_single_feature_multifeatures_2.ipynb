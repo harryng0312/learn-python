{
 "cells": [
  {
   "cell_type": "code",
   "execution_count": 2,
   "metadata": {
    "ExecuteTime": {
     "end_time": "2023-07-16T16:19:16.021707Z",
     "start_time": "2023-07-16T16:19:15.640043Z"
    }
   },
   "outputs": [],
   "source": [
    "import numpy as np\n",
    "import matplotlib\n",
    "import matplotlib.pyplot as plt\n",
    "import module.conf as conf\n",
    "import sklearn.metrics  as metrics\n",
    "\n",
    "from sklearn.preprocessing import MinMaxScaler\n",
    "\n",
    "# matplotlib.use(\"QtCairo\")\n",
    "# %matplotlib tk"
   ]
  },
  {
   "cell_type": "markdown",
   "metadata": {},
   "source": [
    "### Implement"
   ]
  },
  {
   "cell_type": "markdown",
   "metadata": {},
   "source": [
    "1. Sigmoid: $y = f(x) = {1\\over 1 + e^{-x}}$"
   ]
  },
  {
   "cell_type": "code",
   "execution_count": 3,
   "metadata": {
    "ExecuteTime": {
     "end_time": "2023-07-16T16:19:16.023758Z",
     "start_time": "2023-07-16T16:19:16.022213Z"
    }
   },
   "outputs": [],
   "source": [
    "def sigmoid(s: float) -> np.ndarray:\n",
    "    return 1/(1 + np.exp(-s))"
   ]
  },
  {
   "cell_type": "markdown",
   "metadata": {},
   "source": [
    "2. Gradient of Sigmoid: \n",
    "- $z_i = f(w^Tx_i+b_i) $\n",
    "- $f(z_i)= sigmoid(w^Tx_i+b_i)$\n",
    "- $P(y|X;w,b) = \\prod\\limits_{i=1}^{N}P(y_i | x_i; w, b) = \\prod\\limits_{i=1}^{N}z_{i}^{y_i}(1-z_{i})^{1-y_i}$\n",
    "- $J(w,b) = -logP(y|X;w,b) = - \\sum\\limits_{i=1}^{N}(y_ilogz_i + (1-y_i)log(1-z_i))$\n",
    "- $ w_i = w_{i-1} - \\eta (z_i - y_i) x_i $"
   ]
  },
  {
   "cell_type": "code",
   "execution_count": 10,
   "metadata": {},
   "outputs": [],
   "source": [
    "def grad_sigmoid(w: np.ndarray, b: float, X: np.ndarray, y: np.ndarray , lambda_:float = 1.):\n",
    "    m, n = X.shape\n",
    "    grad_w = np.zeros(shape=w.shape)\n",
    "    grad_b = .0\n",
    "    for i in range(m):\n",
    "        zi = np.dot(w, X[i]) + b\n",
    "        f = sigmoid(zi)\n",
    "        delta_f_y = f - y[i]\n",
    "        for j in range(n):\n",
    "            grad_w[j] += delta_f_y * X[i, j]\n",
    "            pass\n",
    "        grad_b += delta_f_y\n",
    "        pass\n",
    "    for i in range(n):\n",
    "        grad_w[i] += lambda_ * w[i]\n",
    "\n",
    "    grad_w /= m\n",
    "    grad_b /= m\n",
    "\n",
    "    return grad_w, grad_b\n",
    "\n",
    "# grad_sigmoid(w=np.asarray([0,0,0]), b=0, X=np.asarray([[1, 2, 3], [4, 5, 6]]), y=np.asarray([0, 1]))"
   ]
  },
  {
   "cell_type": "code",
   "execution_count": 11,
   "metadata": {},
   "outputs": [],
   "source": [
    "def calc_grad_descent(X: np.ndarray, y_train: np.ndarray, w_0: np.ndarray, b_0: float, alpha: float, iter=1_000, stop_criteria:float = 1e-3):\n",
    "    w = [w_0]\n",
    "    b = [b_0]\n",
    "    m, n = X.shape\n",
    "    for _ in range(iter):\n",
    "        grad_w, grad_b = grad_sigmoid(w[-1], b[-1], X, y_train)\n",
    "        w_new = w[-1] - alpha * grad_w\n",
    "        b_new = b[-1] - alpha * grad_b\n",
    "        w.append(w_new)\n",
    "        b.append(b_new)\n",
    "        if np.linalg.norm(grad_w) < stop_criteria:\n",
    "            break\n",
    "        pass\n",
    "    return w, b"
   ]
  },
  {
   "cell_type": "markdown",
   "metadata": {},
   "source": [
    "### Create data"
   ]
  },
  {
   "cell_type": "code",
   "execution_count": 74,
   "metadata": {},
   "outputs": [
    {
     "name": "stdout",
     "output_type": "stream",
     "text": [
      "[[0.1190577  0.11909346 0.35921148 ... 0.42143163 0.05605596 0.31083064]\n",
      " [0.41946628 0.29551103 0.33622082 ... 0.36493898 0.06238668 0.33681605]\n",
      " [0.12060993 0.2032742  0.28010393 ... 0.38096215 0.20666375 0.36529537]\n",
      " ...\n",
      " [0.8707725  0.92150225 0.81993501 ... 0.69256901 0.64501942 0.8464256 ]\n",
      " [0.63120782 0.65628484 0.74559976 ... 0.63506109 0.58407302 0.77810916]\n",
      " [0.84709824 0.65954266 0.98482699 ... 0.81576125 0.76402346 0.77799936]]\n",
      "w_init:[0.1190577  0.11909346 0.35921148 0.35671153 0.1660203  0.33961511\n",
      " 0.41708571 0.42143163 0.05605596 0.31083064]\n",
      "b_init:0.44300949373344733\n",
      "w_list[-1]:[0.29593439 0.2111857  0.47477226 0.47167261 0.2553764  0.41014304\n",
      " 0.4594747  0.48752453 0.19134119 0.38870052]\n",
      "b_list[-1]:-1.2475968086015878 after 9 rounds\n"
     ]
    }
   ],
   "source": [
    "X = []\n",
    "Y = []\n",
    "N = 500\n",
    "dimension = 10\n",
    "# for i in range(N//2):\n",
    "#     X.append(np.random.uniform(low=0, high=4.5, size=dimension))\n",
    "#     Y.append(0)\n",
    "#     pass\n",
    "# for i in range(N - N//2):\n",
    "#     X.append(np.random.uniform(low=5.5, high=10, size=dimension))\n",
    "#     Y.append(1)\n",
    "#     pass\n",
    "# X = np.asarray(X)\n",
    "# Y = np.asarray(Y)\n",
    "# w_init = np.random.randn(1, dimension)\n",
    "# b_init: float = np.random.rand(1)\n",
    "# max_0 = X[:, 0].max()\n",
    "# w_init = X[np.any(X == max_0, axis=1)][-1]\n",
    "# b_init = np.ceil(max_0)\n",
    "# print(f\"w:{w_init}\\nb:{b_init}\")\n",
    "# np.save(file=conf.PROJECT_DIR + \"/data/ml/X\", arr=X)\n",
    "# np.save(file=conf.PROJECT_DIR + \"/data/ml/Y\", arr=Y)\n",
    "# np.save(file=conf.PROJECT_DIR + \"/data/ml/w_init\", arr=w_init)\n",
    "# np.save(file=\"\".join((conf.PROJECT_DIR, \"/data/ml/b_init\",)), arr=b_init)\n",
    "X: np.ndarray = np.load(file=\"\".join((conf.PROJECT_DIR, \"/data/ml/X.npy\",)))\n",
    "Y: np.ndarray = np.load(file=\"\".join((conf.PROJECT_DIR, \"/data/ml/Y.npy\",)))\n",
    "# w_init: np.ndarray = np.load(file=\"\".join((conf.PROJECT_DIR, \"/data/ml/w_init.npy\",)))\n",
    "# b_init: np.ndarray = np.load(file=\"\".join((conf.PROJECT_DIR, \"/data/ml/b_init.npy\",)))\n",
    "scaler = MinMaxScaler()\n",
    "scaler = scaler.fit(X)\n",
    "X = scaler.transform(X)\n",
    "print(f\"{X}\")\n",
    "# w_init = np.random.randn(dimension)\n",
    "w_init = X[0]\n",
    "b_init = np.random.rand()\n",
    "# print(f\"X:{X}\\nY:{Y}\")\n",
    "print(f\"w_init:{w_init}\\nb_init:{(b_init)}\")\n",
    "\n",
    "alpha = 1e-3\n",
    "# column matrix w_init\n",
    "w_list, b_list = calc_grad_descent(X=X, y_train=Y, w_0=w_init, b_0=b_init, alpha=alpha, iter=10_000, stop_criteria=alpha)\n",
    "print(f\"w_list[-1]:{w_list[-1]}\\nb_list[-1]:{b_list[-1]} after {len(w_init)-1} rounds\")"
   ]
  },
  {
   "cell_type": "markdown",
   "metadata": {},
   "source": [
    "### Test"
   ]
  },
  {
   "cell_type": "code",
   "execution_count": 77,
   "metadata": {
    "ExecuteTime": {
     "end_time": "2023-07-16T16:19:16.043676Z",
     "start_time": "2023-07-16T16:19:16.040403Z"
    }
   },
   "outputs": [
    {
     "name": "stdout",
     "output_type": "stream",
     "text": [
      "MAE:0.2821866374382717\n",
      "APS:1.0\n",
      "Accuracy:0.998\n",
      "F1 score:0.998003992015968\n"
     ]
    }
   ],
   "source": [
    "# sigmoid(np.dot(w_list[-1], X[0,0]) + b_list[-1])\n",
    "# sigmoid(np.add(np.dot(w_list[-1], X[0]), b_list[-1]))\n",
    "# sigmoid(np.dot(w_list[-1], X[0]))\n",
    "# sigmoid(np.add(np.dot(w_list[-1], X[:, 0]), b_list[-1]))\n",
    "# metrics.f1_score(y_true=Y, y_pred=sigmoid(np.add(np.dot(w_list[-1], X[:, 0]), b_list[-1])))\n",
    "S: np.ndarray = sigmoid(np.dot(w_list[-1], X.T) + b_list[-1])\n",
    "# print(f\"S:{S}\")\n",
    "# MAE\n",
    "print(f\"MAE:{metrics.mean_absolute_error(y_true=Y, y_pred=S)}\")\n",
    "print(f\"APS:{metrics.average_precision_score(y_true=Y, y_score=S)}\")\n",
    "# print(f\"CLR:{metrics.class_likelihood_ratios(y_true=Y, y_pred=np.round(S))}\")\n",
    "# Accurary Score:\n",
    "print(f\"Accuracy:{metrics.accuracy_score(y_true=Y.astype(dtype=float), y_pred=np.round(a=S, decimals=0), normalize=True)}\")\n",
    "# F1 Score\n",
    "print(f\"F1 score:{metrics.f1_score(y_true=Y.astype(dtype=float), y_pred=np.round(S))}\")"
   ]
  },
  {
   "cell_type": "markdown",
   "metadata": {},
   "source": [
    "### Plotting"
   ]
  },
  {
   "cell_type": "code",
   "execution_count": 81,
   "metadata": {
    "ExecuteTime": {
     "end_time": "2023-07-16T16:19:16.083313Z",
     "start_time": "2023-07-16T16:19:16.044014Z"
    }
   },
   "outputs": [
    {
     "name": "stdout",
     "output_type": "stream",
     "text": [
      "[4.2157885  5.90758189 2.62777949 2.64504825 4.88532547 3.04185782\n",
      " 2.7152677  2.55904416 6.52027314 3.20966078]\n"
     ]
    },
    {
     "data": {
      "image/png": "[encoded data removed]",
      "text/plain": [
       "<Figure size 640x480 with 1 Axes>"
      ]
     },
     "metadata": {},
     "output_type": "display_data"
    }
   ],
   "source": [
    "# dth = 0\n",
    "\n",
    "X0 = X[np.where(Y == 0)]\n",
    "Y0 = Y[np.where(Y == 0)]\n",
    "X1 = X[np.where(Y == 1)]\n",
    "Y1 = Y[np.where(Y == 1)]\n",
    "# print(f\"{X0.shape}\")\n",
    "\n",
    "xx = np.linspace(-2, 2, 10_000)\n",
    "xx = np.asarray([xx, xx, xx, xx, xx, xx, xx, xx, xx, xx])\n",
    "b = b_list[-1]\n",
    "w = w_list[-1]\n",
    "# print(f\"b:{b} w:{w} -b/w:{-b/w}\")\n",
    "threshold = -b/w\n",
    "\n",
    "yy = sigmoid(np.add(b, np.dot(w, xx)))\n",
    "\n",
    "fig, axe = plt.subplots()\n",
    "axe.plot(X0, Y0, \"ro\", markersize=4)\n",
    "axe.plot(X1, Y1, \"bs\", markersize=4)\n",
    "\n",
    "axe.axis([-2, 2, -0.5, 1.5])\n",
    "print(f\"{threshold}\")\n",
    "axe.plot(xx.transpose()[:, 0], yy, 'g-', linewidth = 2)\n",
    "# axe.plot(threshold, [.5], 'y^', markersize = 8)\n",
    "# axe.xlabel('studying hours')\n",
    "# axe.ylabel('predicted probability of pass')\n",
    "axe.set_xlabel(\"x\")\n",
    "axe.set_ylabel('y')\n",
    "plt.show()"
   ]
  },
  {
   "cell_type": "markdown",
   "metadata": {},
   "source": [
    "### Test matrix"
   ]
  },
  {
   "cell_type": "code",
   "execution_count": null,
   "metadata": {
    "ExecuteTime": {
     "end_time": "2023-07-16T16:19:16.093670Z",
     "start_time": "2023-07-16T16:19:16.046563Z"
    }
   },
   "outputs": [],
   "source": [
    "x = np.array(object=[1, 2, 3], dtype=float)\n",
    "y = np.array(object=[4], dtype=float)\n",
    "\n",
    "print(f\"x*y = {x*y}\")\n",
    "# print(f\"x dot y = {np.dot(a=x, b=y)}\")\n",
    "print(f\"x - 2 = {x-2}\")"
   ]
  }
 ],
 "metadata": {
  "kernelspec": {
   "display_name": "learn-python",
   "language": "python",
   "name": "python3"
  },
  "language_info": {
   "codemirror_mode": {
    "name": "ipython",
    "version": 3
   },
   "file_extension": ".py",
   "mimetype": "text/x-python",
   "name": "python",
   "nbconvert_exporter": "python",
   "pygments_lexer": "ipython3",
   "version": "3.11.4"
  },
  "orig_nbformat": 4
 },
 "nbformat": 4,
 "nbformat_minor": 2
}
