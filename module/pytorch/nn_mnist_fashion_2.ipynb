{
 "cells": [
  {
   "cell_type": "code",
   "id": "db8d9365cceec9e7",
   "metadata": {
    "ExecuteTime": {
     "end_time": "2024-10-18T13:25:21.661730Z",
     "start_time": "2024-10-18T13:25:20.576646Z"
    }
   },
   "source": [
    "import numpy as np\n",
    "import torch\n",
    "# import os\n",
    "import gzip\n",
    "import matplotlib.pyplot as plt\n",
    "\n",
    "from torch import nn\n",
    "from torch.nn import CrossEntropyLoss\n",
    "from torch.optim import Optimizer\n",
    "from torch.utils.data import DataLoader, Dataset\n",
    "\n",
    "# from torchvision import datasets\n",
    "# from torchvision.transforms import ToTensor\n",
    "from sklearn.model_selection import train_test_split\n",
    "from sklearn.metrics import accuracy_score, f1_score\n",
    "from sklearn.preprocessing import MinMaxScaler, StandardScaler\n",
    "# my project\n",
    "from module.conf import PROJECT_DIR\n",
    "\n",
    "# matplotlib.use(\"QTAgg\")\n",
    "%matplotlib inline"
   ],
   "outputs": [],
   "execution_count": 1
  },
  {
   "cell_type": "code",
   "id": "initial_id",
   "metadata": {
    "collapsed": true,
    "ExecuteTime": {
     "end_time": "2024-10-18T13:25:21.680189Z",
     "start_time": "2024-10-18T13:25:21.665078Z"
    }
   },
   "source": [
    "# setting device on GPU if available, else CPU\n",
    "device = torch.device('cuda' if torch.cuda.is_available() else 'cpu')\n",
    "print('Using device:', device)\n",
    "#Additional Info when using cuda\n",
    "if device.type == 'cuda':\n",
    "    print(torch.cuda.get_device_name(0))\n",
    "    print('Memory Usage:')\n",
    "    print('Allocated:', round(torch.cuda.memory_allocated(0) / 1024 ** 3, 1), 'GB')\n",
    "    print('Cached:   ', round(torch.cuda.memory_reserved(0) / 1024 ** 3, 1), 'GB')\n",
    "    # torch.cuda.is_available()\n",
    "    # torch.cuda.device_count()\n",
    "    # torch.cuda.current_device()\n",
    "    # torch.cuda.device(0)\n",
    "    # torch.cuda.get_device_name(0)\n",
    "device = (\n",
    "    \"cuda\"\n",
    "    if torch.cuda.is_available()\n",
    "    else \"mps\"\n",
    "    if torch.backends.mps.is_available()\n",
    "    else \"cpu\"\n",
    ")\n",
    "# device = \"cpu\"\n",
    "print(f\"Using {device} device\")"
   ],
   "outputs": [
    {
     "name": "stdout",
     "output_type": "stream",
     "text": [
      "Using device: cpu\n",
      "Using mps device\n"
     ]
    }
   ],
   "execution_count": 2
  },
  {
   "cell_type": "markdown",
   "id": "2a9447ef65c49589",
   "metadata": {},
   "source": [
    "Each training and test example is assigned to one of the following labels:\n",
    "|Label|Description|\n",
    "|-|-----|\n",
    "|0|T-shirt/top|\n",
    "|1|Trouser|\n",
    "|2|Pullover|\n",
    "|3|Dress|\n",
    "|4|Coat|\n",
    "|5|Sandal|\n",
    "|6|Shirt|\n",
    "|7|Sneaker|\n",
    "|8|Bag|\n",
    "|9|Ankle boot|"
   ]
  },
  {
   "cell_type": "code",
   "id": "61ada92eda4fabda",
   "metadata": {
    "ExecuteTime": {
     "end_time": "2024-10-18T13:25:21.710212Z",
     "start_time": "2024-10-18T13:25:21.708246Z"
    }
   },
   "source": [
    "M_LABEL = {0: \"T-shirt/top\", 1: \"Trouser\", 2: \"Pullover\", 3: \"Dress\", 4: \"Coat\",\n",
    "           5: \"Sandal\", 6: \"Shirt\", 7: \"Sneaker\", 8: \"Bag\", 9: \"Ankle boot\"}"
   ],
   "outputs": [],
   "execution_count": 3
  },
  {
   "metadata": {
    "ExecuteTime": {
     "end_time": "2024-10-18T13:25:21.717361Z",
     "start_time": "2024-10-18T13:25:21.714879Z"
    }
   },
   "cell_type": "code",
   "source": [
    "def load_data(kind: str) -> tuple[np.ndarray, np.ndarray]:\n",
    "    fashion_mnist_path = \"/data/sample/fashion_mnist\"\n",
    "    images_path = \"\".join([PROJECT_DIR, fashion_mnist_path, f\"/{kind}-images-idx3-ubyte.gz\"])\n",
    "    labels_path = \"\".join([PROJECT_DIR, fashion_mnist_path, f\"/{kind}-labels-idx1-ubyte.gz\"])\n",
    "    with gzip.open(labels_path, 'rb') as lbpath:\n",
    "        labels = np.frombuffer(lbpath.read(), dtype=np.uint8, offset=8)\n",
    "\n",
    "    with gzip.open(images_path, 'rb') as imgpath:\n",
    "        images = np.frombuffer(imgpath.read(), dtype=np.uint8, offset=16).reshape(len(labels), 28, 28)\n",
    "\n",
    "    return images, labels"
   ],
   "id": "733011bea6f745f3",
   "outputs": [],
   "execution_count": 4
  },
  {
   "metadata": {
    "ExecuteTime": {
     "end_time": "2024-10-18T13:25:21.909701Z",
     "start_time": "2024-10-18T13:25:21.721414Z"
    }
   },
   "cell_type": "code",
   "source": [
    "X_train, Y_train = load_data(kind='train')\n",
    "X_test, Y_test = load_data(kind='t10k')"
   ],
   "id": "4cc681056cce02",
   "outputs": [],
   "execution_count": 5
  },
  {
   "metadata": {
    "ExecuteTime": {
     "end_time": "2024-10-18T13:25:21.918391Z",
     "start_time": "2024-10-18T13:25:21.916229Z"
    }
   },
   "cell_type": "code",
   "source": [
    "print(\"Training data shape:\", X_train.shape)\n",
    "print(\"Training labels shape:\", Y_train.shape)\n",
    "print(\"Test data shape:\", X_test.shape)\n",
    "print(\"Test labels shape:\", Y_test.shape)"
   ],
   "id": "346047d794239d84",
   "outputs": [
    {
     "name": "stdout",
     "output_type": "stream",
     "text": [
      "Training data shape: (60000, 28, 28)\n",
      "Training labels shape: (60000,)\n",
      "Test data shape: (10000, 28, 28)\n",
      "Test labels shape: (10000,)\n"
     ]
    }
   ],
   "execution_count": 6
  },
  {
   "metadata": {
    "ExecuteTime": {
     "end_time": "2024-10-18T13:25:21.980941Z",
     "start_time": "2024-10-18T13:25:21.924203Z"
    }
   },
   "cell_type": "code",
   "source": "X_train, X_test = X_train / 255.0, X_test / 255.0",
   "id": "a535396cc9f9cd23",
   "outputs": [],
   "execution_count": 7
  },
  {
   "metadata": {
    "ExecuteTime": {
     "end_time": "2024-10-18T13:25:22.061158Z",
     "start_time": "2024-10-18T13:25:21.987767Z"
    }
   },
   "cell_type": "code",
   "source": [
    "ind = 1\n",
    "fig, ax = plt.subplots(figsize=(1.5, 1.5))\n",
    "ax.imshow(X=X_train[ind], cmap=\"gray\")\n",
    "plt.show()\n",
    "print(f\"Y_train[{ind}]:{Y_train[ind]}: {M_LABEL[Y_train[ind]]}\")"
   ],
   "id": "c83a139854f0b4db",
   "outputs": [
    {
     "data": {
      "text/plain": [
       "<Figure size 150x150 with 1 Axes>"
      ],
      "image/png": "[encoded data removed]"
     },
     "metadata": {},
     "output_type": "display_data"
    },
    {
     "name": "stdout",
     "output_type": "stream",
     "text": [
      "Y_train[1]:0: T-shirt/top\n"
     ]
    }
   ],
   "execution_count": 8
  },
  {
   "metadata": {},
   "cell_type": "markdown",
   "source": "### 1. PyTorch",
   "id": "e0ecc555bd639849"
  },
  {
   "metadata": {},
   "cell_type": "markdown",
   "source": "#### 1.1. Define model:",
   "id": "612e594b6b09b430"
  },
  {
   "metadata": {
    "ExecuteTime": {
     "end_time": "2024-10-18T13:25:22.071074Z",
     "start_time": "2024-10-18T13:25:22.068318Z"
    }
   },
   "cell_type": "code",
   "source": [
    "class NeuralNetwork(nn.Module):\n",
    "    def __init__(self):\n",
    "        super().__init__()\n",
    "        self.flatten = nn.Flatten()\n",
    "        self.linear_relu_stack = nn.Sequential(\n",
    "            nn.Linear(in_features=28 * 28, out_features=512),\n",
    "            nn.ReLU(),\n",
    "            nn.Linear(in_features=512, out_features=128),\n",
    "            nn.ReLU(),\n",
    "            nn.Linear(in_features=128, out_features=64),\n",
    "            nn.ReLU(),\n",
    "            nn.Linear(in_features=64, out_features=10),\n",
    "            # nn.Softmax(dim=1)\n",
    "        )\n",
    "        return\n",
    "\n",
    "    def forward(self, x):\n",
    "        \"\"\"\n",
    "        Override forward pass ()\n",
    "        :param x: x input data \n",
    "        :return: \n",
    "        \"\"\"\n",
    "        x = self.flatten(x)\n",
    "        logits = self.linear_relu_stack(x)\n",
    "        return logits"
   ],
   "id": "bfaa0cd71df8840",
   "outputs": [],
   "execution_count": 9
  },
  {
   "metadata": {
    "ExecuteTime": {
     "end_time": "2024-10-18T13:25:22.089206Z",
     "start_time": "2024-10-18T13:25:22.079605Z"
    }
   },
   "cell_type": "code",
   "source": [
    "model = NeuralNetwork().to(device)\n",
    "print(model)"
   ],
   "id": "e59fe271eee98a44",
   "outputs": [
    {
     "name": "stdout",
     "output_type": "stream",
     "text": [
      "NeuralNetwork(\n",
      "  (flatten): Flatten(start_dim=1, end_dim=-1)\n",
      "  (linear_relu_stack): Sequential(\n",
      "    (0): Linear(in_features=784, out_features=512, bias=True)\n",
      "    (1): ReLU()\n",
      "    (2): Linear(in_features=512, out_features=128, bias=True)\n",
      "    (3): ReLU()\n",
      "    (4): Linear(in_features=128, out_features=64, bias=True)\n",
      "    (5): ReLU()\n",
      "    (6): Linear(in_features=64, out_features=10, bias=True)\n",
      "  )\n",
      ")\n"
     ]
    }
   ],
   "execution_count": 10
  },
  {
   "metadata": {},
   "cell_type": "markdown",
   "source": "#### 1.2. Define Train and Test functions:",
   "id": "24f2029189f18890"
  },
  {
   "metadata": {
    "ExecuteTime": {
     "end_time": "2024-10-18T13:25:22.390194Z",
     "start_time": "2024-10-18T13:25:22.157655Z"
    }
   },
   "cell_type": "code",
   "source": [
    "loss_func = nn.CrossEntropyLoss()\n",
    "optimizer_g = torch.optim.Adam(params=model.parameters(), lr=1e-3)"
   ],
   "id": "5b728651deb44a5b",
   "outputs": [],
   "execution_count": 11
  },
  {
   "metadata": {
    "ExecuteTime": {
     "end_time": "2024-10-18T13:25:22.400859Z",
     "start_time": "2024-10-18T13:25:22.397852Z"
    }
   },
   "cell_type": "code",
   "source": [
    "def train(dataloader: DataLoader, model: nn.Module, loss_fn: CrossEntropyLoss, optimizer: Optimizer) -> None:\n",
    "    size = len(dataloader.dataset)\n",
    "    model.train()\n",
    "    for batch, (X, y) in enumerate(dataloader):\n",
    "        X, y = X.to(device=device), y.to(device=device)\n",
    "        # reset grad before start new batch\n",
    "        optimizer.zero_grad()   \n",
    "        # Compute prediction error\n",
    "        pred:torch.Tensor = model(X)\n",
    "        loss:torch.Tensor = loss_fn(pred, y)\n",
    "        # Backpropagation\n",
    "        loss.backward()     # calculate the final grad to first grad\n",
    "        optimizer.step()    # update W and b\n",
    "        \n",
    "        if batch % 1000 == 0:\n",
    "            loss, current = loss.item(), (batch + 1) * len(X)\n",
    "            print(f\"loss: {loss:>7f}  [{current:>5d}/{size:>5d}]\")\n",
    "    return"
   ],
   "id": "e2e156962cfa3f84",
   "outputs": [],
   "execution_count": 12
  },
  {
   "metadata": {
    "ExecuteTime": {
     "end_time": "2024-10-18T13:25:22.410963Z",
     "start_time": "2024-10-18T13:25:22.407787Z"
    }
   },
   "cell_type": "code",
   "source": [
    "def test(dataloader: DataLoader, model: nn.Module, loss_fn: CrossEntropyLoss) -> None:\n",
    "    size = len(dataloader.dataset)\n",
    "    num_batches = len(dataloader)\n",
    "    model.eval()\n",
    "    test_loss, correct = 0, 0\n",
    "    with torch.no_grad():\n",
    "        for X, y in dataloader:\n",
    "            X, y = X.to(device=device), y.to(device=device)\n",
    "            pred = model(X)\n",
    "            test_loss += loss_fn(pred, y).item()\n",
    "            pred_probab: torch.Tensor = nn.Softmax(dim=1)(pred)\n",
    "            correct += (pred_probab.argmax(dim=1) == y).type(torch.float).sum().item()\n",
    "    test_loss /= num_batches\n",
    "    correct /= size\n",
    "    print(f\"Test Error: \\n Accuracy: {(100*correct):>0.1f}%, Avg loss: {test_loss:>8f} \\n\")\n",
    "    return"
   ],
   "id": "bda181affb4b5012",
   "outputs": [],
   "execution_count": 13
  },
  {
   "metadata": {},
   "cell_type": "markdown",
   "source": "#### 1.3. Perform train:",
   "id": "3c580d430a28a30d"
  },
  {
   "metadata": {
    "ExecuteTime": {
     "end_time": "2024-10-18T13:25:22.544184Z",
     "start_time": "2024-10-18T13:25:22.417182Z"
    }
   },
   "cell_type": "code",
   "source": [
    "rand_seed = np.random.randint(low=0, high=1000)\n",
    "X_train_20 = train_test_split(X_train, test_size=0.2, random_state=rand_seed)[1]\n",
    "Y_train_20 = train_test_split(Y_train, test_size=0.2, random_state=rand_seed)[1]\n",
    "rand_seed = np.random.randint(low=0, high=1000)\n",
    "X_test_20 = train_test_split(X_train, test_size=0.1, random_state=rand_seed)[1]\n",
    "Y_test_20 = train_test_split(Y_train, test_size=0.1, random_state=rand_seed)[1]"
   ],
   "id": "6ebfdc50a960d892",
   "outputs": [],
   "execution_count": 14
  },
  {
   "metadata": {
    "ExecuteTime": {
     "end_time": "2024-10-18T13:26:26.561671Z",
     "start_time": "2024-10-18T13:25:22.552300Z"
    }
   },
   "cell_type": "code",
   "source": [
    "epochs = 50\n",
    "batch_size = 32\n",
    "X_train_tensor, Y_train_tensor = torch.from_numpy(X_train_20).float(), torch.from_numpy(Y_train_20).long()\n",
    "X_test_tensor, Y_test_tensor = torch.from_numpy(X_test_20).float(), torch.from_numpy(Y_test_20).long()\n",
    "train_dataset = torch.utils.data.TensorDataset(X_train_tensor, Y_train_tensor )\n",
    "test_dataset = torch.utils.data.TensorDataset(X_test_tensor, Y_test_tensor)\n",
    "train_dataloader = DataLoader(dataset=train_dataset, batch_size=batch_size, shuffle=False)\n",
    "test_dataloader = DataLoader(dataset=test_dataset, batch_size=batch_size, shuffle=False)\n",
    "for t in range(epochs):\n",
    "    print(f\"Epoch {t+1}\\n-------------------------------\")\n",
    "    train(train_dataloader, model, loss_func, optimizer_g)\n",
    "    test(test_dataloader, model, loss_func)\n",
    "print(\"Done!\")"
   ],
   "id": "f6d5b9d5ef4fca2b",
   "outputs": [
    {
     "name": "stdout",
     "output_type": "stream",
     "text": [
      "Epoch 1\n",
      "-------------------------------\n",
      "loss: 2.319875  [   32/12000]\n",
      "Test Error: \n",
      " Accuracy: 78.4%, Avg loss: 0.599929 \n",
      "\n",
      "Epoch 2\n",
      "-------------------------------\n",
      "loss: 0.448947  [   32/12000]\n",
      "Test Error: \n",
      " Accuracy: 81.4%, Avg loss: 0.524661 \n",
      "\n",
      "Epoch 3\n",
      "-------------------------------\n",
      "loss: 0.376629  [   32/12000]\n",
      "Test Error: \n",
      " Accuracy: 82.4%, Avg loss: 0.480976 \n",
      "\n",
      "Epoch 4\n",
      "-------------------------------\n",
      "loss: 0.348312  [   32/12000]\n",
      "Test Error: \n",
      " Accuracy: 81.5%, Avg loss: 0.514418 \n",
      "\n",
      "Epoch 5\n",
      "-------------------------------\n",
      "loss: 0.344378  [   32/12000]\n",
      "Test Error: \n",
      " Accuracy: 83.5%, Avg loss: 0.446702 \n",
      "\n",
      "Epoch 6\n",
      "-------------------------------\n",
      "loss: 0.307631  [   32/12000]\n",
      "Test Error: \n",
      " Accuracy: 85.7%, Avg loss: 0.381618 \n",
      "\n",
      "Epoch 7\n",
      "-------------------------------\n",
      "loss: 0.334627  [   32/12000]\n",
      "Test Error: \n",
      " Accuracy: 85.5%, Avg loss: 0.408858 \n",
      "\n",
      "Epoch 8\n",
      "-------------------------------\n",
      "loss: 0.315848  [   32/12000]\n",
      "Test Error: \n",
      " Accuracy: 86.3%, Avg loss: 0.375911 \n",
      "\n",
      "Epoch 9\n",
      "-------------------------------\n",
      "loss: 0.271533  [   32/12000]\n",
      "Test Error: \n",
      " Accuracy: 87.3%, Avg loss: 0.352198 \n",
      "\n",
      "Epoch 10\n",
      "-------------------------------\n",
      "loss: 0.283260  [   32/12000]\n",
      "Test Error: \n",
      " Accuracy: 87.6%, Avg loss: 0.363727 \n",
      "\n",
      "Epoch 11\n",
      "-------------------------------\n",
      "loss: 0.242511  [   32/12000]\n",
      "Test Error: \n",
      " Accuracy: 87.5%, Avg loss: 0.366144 \n",
      "\n",
      "Epoch 12\n",
      "-------------------------------\n",
      "loss: 0.193855  [   32/12000]\n",
      "Test Error: \n",
      " Accuracy: 87.8%, Avg loss: 0.358883 \n",
      "\n",
      "Epoch 13\n",
      "-------------------------------\n",
      "loss: 0.255741  [   32/12000]\n",
      "Test Error: \n",
      " Accuracy: 87.4%, Avg loss: 0.366699 \n",
      "\n",
      "Epoch 14\n",
      "-------------------------------\n",
      "loss: 0.308280  [   32/12000]\n",
      "Test Error: \n",
      " Accuracy: 87.8%, Avg loss: 0.373547 \n",
      "\n",
      "Epoch 15\n",
      "-------------------------------\n",
      "loss: 0.204236  [   32/12000]\n",
      "Test Error: \n",
      " Accuracy: 87.1%, Avg loss: 0.396699 \n",
      "\n",
      "Epoch 16\n",
      "-------------------------------\n",
      "loss: 0.241811  [   32/12000]\n",
      "Test Error: \n",
      " Accuracy: 87.8%, Avg loss: 0.397589 \n",
      "\n",
      "Epoch 17\n",
      "-------------------------------\n",
      "loss: 0.146321  [   32/12000]\n",
      "Test Error: \n",
      " Accuracy: 87.0%, Avg loss: 0.420072 \n",
      "\n",
      "Epoch 18\n",
      "-------------------------------\n",
      "loss: 0.124337  [   32/12000]\n",
      "Test Error: \n",
      " Accuracy: 88.2%, Avg loss: 0.423172 \n",
      "\n",
      "Epoch 19\n",
      "-------------------------------\n",
      "loss: 0.137139  [   32/12000]\n",
      "Test Error: \n",
      " Accuracy: 87.8%, Avg loss: 0.429769 \n",
      "\n",
      "Epoch 20\n",
      "-------------------------------\n",
      "loss: 0.093349  [   32/12000]\n",
      "Test Error: \n",
      " Accuracy: 88.4%, Avg loss: 0.449636 \n",
      "\n",
      "Epoch 21\n",
      "-------------------------------\n",
      "loss: 0.106960  [   32/12000]\n",
      "Test Error: \n",
      " Accuracy: 88.3%, Avg loss: 0.434798 \n",
      "\n",
      "Epoch 22\n",
      "-------------------------------\n",
      "loss: 0.083104  [   32/12000]\n",
      "Test Error: \n",
      " Accuracy: 83.9%, Avg loss: 0.671653 \n",
      "\n",
      "Epoch 23\n",
      "-------------------------------\n",
      "loss: 0.202455  [   32/12000]\n",
      "Test Error: \n",
      " Accuracy: 87.2%, Avg loss: 0.478208 \n",
      "\n",
      "Epoch 24\n",
      "-------------------------------\n",
      "loss: 0.137025  [   32/12000]\n",
      "Test Error: \n",
      " Accuracy: 88.1%, Avg loss: 0.467527 \n",
      "\n",
      "Epoch 25\n",
      "-------------------------------\n",
      "loss: 0.107428  [   32/12000]\n",
      "Test Error: \n",
      " Accuracy: 88.3%, Avg loss: 0.498434 \n",
      "\n",
      "Epoch 26\n",
      "-------------------------------\n",
      "loss: 0.052762  [   32/12000]\n",
      "Test Error: \n",
      " Accuracy: 87.5%, Avg loss: 0.534527 \n",
      "\n",
      "Epoch 27\n",
      "-------------------------------\n",
      "loss: 0.061198  [   32/12000]\n",
      "Test Error: \n",
      " Accuracy: 88.0%, Avg loss: 0.527954 \n",
      "\n",
      "Epoch 28\n",
      "-------------------------------\n",
      "loss: 0.034795  [   32/12000]\n",
      "Test Error: \n",
      " Accuracy: 87.8%, Avg loss: 0.570142 \n",
      "\n",
      "Epoch 29\n",
      "-------------------------------\n",
      "loss: 0.060417  [   32/12000]\n",
      "Test Error: \n",
      " Accuracy: 87.8%, Avg loss: 0.552519 \n",
      "\n",
      "Epoch 30\n",
      "-------------------------------\n",
      "loss: 0.030056  [   32/12000]\n",
      "Test Error: \n",
      " Accuracy: 87.3%, Avg loss: 0.546651 \n",
      "\n",
      "Epoch 31\n",
      "-------------------------------\n",
      "loss: 0.082444  [   32/12000]\n",
      "Test Error: \n",
      " Accuracy: 86.2%, Avg loss: 0.596528 \n",
      "\n",
      "Epoch 32\n",
      "-------------------------------\n",
      "loss: 0.052213  [   32/12000]\n",
      "Test Error: \n",
      " Accuracy: 87.5%, Avg loss: 0.574574 \n",
      "\n",
      "Epoch 33\n",
      "-------------------------------\n",
      "loss: 0.041151  [   32/12000]\n",
      "Test Error: \n",
      " Accuracy: 87.7%, Avg loss: 0.556784 \n",
      "\n",
      "Epoch 34\n",
      "-------------------------------\n",
      "loss: 0.079134  [   32/12000]\n",
      "Test Error: \n",
      " Accuracy: 87.2%, Avg loss: 0.601195 \n",
      "\n",
      "Epoch 35\n",
      "-------------------------------\n",
      "loss: 0.026666  [   32/12000]\n",
      "Test Error: \n",
      " Accuracy: 87.0%, Avg loss: 0.627084 \n",
      "\n",
      "Epoch 36\n",
      "-------------------------------\n",
      "loss: 0.026346  [   32/12000]\n",
      "Test Error: \n",
      " Accuracy: 87.0%, Avg loss: 0.648863 \n",
      "\n",
      "Epoch 37\n",
      "-------------------------------\n",
      "loss: 0.022687  [   32/12000]\n",
      "Test Error: \n",
      " Accuracy: 87.8%, Avg loss: 0.567369 \n",
      "\n",
      "Epoch 38\n",
      "-------------------------------\n",
      "loss: 0.333557  [   32/12000]\n",
      "Test Error: \n",
      " Accuracy: 88.6%, Avg loss: 0.558303 \n",
      "\n",
      "Epoch 39\n",
      "-------------------------------\n",
      "loss: 0.020108  [   32/12000]\n",
      "Test Error: \n",
      " Accuracy: 87.4%, Avg loss: 0.634862 \n",
      "\n",
      "Epoch 40\n",
      "-------------------------------\n",
      "loss: 0.061063  [   32/12000]\n",
      "Test Error: \n",
      " Accuracy: 86.8%, Avg loss: 0.673246 \n",
      "\n",
      "Epoch 41\n",
      "-------------------------------\n",
      "loss: 0.380621  [   32/12000]\n",
      "Test Error: \n",
      " Accuracy: 88.3%, Avg loss: 0.599273 \n",
      "\n",
      "Epoch 42\n",
      "-------------------------------\n",
      "loss: 0.026066  [   32/12000]\n",
      "Test Error: \n",
      " Accuracy: 88.6%, Avg loss: 0.552875 \n",
      "\n",
      "Epoch 43\n",
      "-------------------------------\n",
      "loss: 0.045881  [   32/12000]\n",
      "Test Error: \n",
      " Accuracy: 87.5%, Avg loss: 0.693718 \n",
      "\n",
      "Epoch 44\n",
      "-------------------------------\n",
      "loss: 0.053386  [   32/12000]\n",
      "Test Error: \n",
      " Accuracy: 87.6%, Avg loss: 0.640702 \n",
      "\n",
      "Epoch 45\n",
      "-------------------------------\n",
      "loss: 0.033806  [   32/12000]\n",
      "Test Error: \n",
      " Accuracy: 87.6%, Avg loss: 0.632510 \n",
      "\n",
      "Epoch 46\n",
      "-------------------------------\n",
      "loss: 0.038659  [   32/12000]\n",
      "Test Error: \n",
      " Accuracy: 88.1%, Avg loss: 0.630762 \n",
      "\n",
      "Epoch 47\n",
      "-------------------------------\n",
      "loss: 0.024759  [   32/12000]\n",
      "Test Error: \n",
      " Accuracy: 88.3%, Avg loss: 0.612306 \n",
      "\n",
      "Epoch 48\n",
      "-------------------------------\n",
      "loss: 0.108488  [   32/12000]\n",
      "Test Error: \n",
      " Accuracy: 88.2%, Avg loss: 0.641735 \n",
      "\n",
      "Epoch 49\n",
      "-------------------------------\n",
      "loss: 0.011911  [   32/12000]\n",
      "Test Error: \n",
      " Accuracy: 87.9%, Avg loss: 0.647235 \n",
      "\n",
      "Epoch 50\n",
      "-------------------------------\n",
      "loss: 0.030844  [   32/12000]\n",
      "Test Error: \n",
      " Accuracy: 88.2%, Avg loss: 0.645067 \n",
      "\n",
      "Done!\n"
     ]
    }
   ],
   "execution_count": 15
  },
  {
   "cell_type": "code",
   "id": "5227505ea4e11eda",
   "metadata": {
    "ExecuteTime": {
     "end_time": "2024-10-18T13:26:26.602170Z",
     "start_time": "2024-10-18T13:26:26.572172Z"
    }
   },
   "source": [
    "X = torch.rand(1, 28, 28, device=device)\n",
    "logits = model(X)\n",
    "pred_probab: torch.Tensor = nn.Softmax(dim=1)(logits)\n",
    "y_pred = pred_probab.argmax(dim=1)\n",
    "print(f\"Predicted class: {y_pred}\")"
   ],
   "outputs": [
    {
     "name": "stdout",
     "output_type": "stream",
     "text": [
      "Predicted class: tensor([8], device='mps:0')\n"
     ]
    }
   ],
   "execution_count": 16
  },
  {
   "cell_type": "code",
   "id": "b490957bdc8f3c78",
   "metadata": {
    "ExecuteTime": {
     "end_time": "2024-10-18T13:26:26.917584Z",
     "start_time": "2024-10-18T13:26:26.912527Z"
    }
   },
   "source": [
    "ts = torch.from_numpy(X_test).float()\n"
   ],
   "outputs": [],
   "execution_count": 17
  },
  {
   "cell_type": "code",
   "id": "489fb15cf1d6c2e6",
   "metadata": {
    "ExecuteTime": {
     "end_time": "2024-10-18T13:26:26.923370Z",
     "start_time": "2024-10-18T13:26:26.919960Z"
    }
   },
   "source": [
    "torch.manual_seed(1729)\n",
    "r1 = torch.rand(2, 2)\n",
    "print('A random tensor:')\n",
    "print(r1)"
   ],
   "outputs": [
    {
     "name": "stdout",
     "output_type": "stream",
     "text": [
      "A random tensor:\n",
      "tensor([[0.3126, 0.3791],\n",
      "        [0.3087, 0.0736]])\n"
     ]
    }
   ],
   "execution_count": 18
  }
 ],
 "metadata": {
  "kernelspec": {
   "display_name": "learn-ml",
   "language": "python",
   "name": "python3"
  },
  "language_info": {
   "codemirror_mode": {
    "name": "ipython",
    "version": 3
   },
   "file_extension": ".py",
   "mimetype": "text/x-python",
   "name": "python",
   "nbconvert_exporter": "python",
   "pygments_lexer": "ipython3",
   "version": "3.10.13"
  }
 },
 "nbformat": 4,
 "nbformat_minor": 5
}
