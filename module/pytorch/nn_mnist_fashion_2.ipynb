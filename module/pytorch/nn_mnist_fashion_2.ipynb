{
 "cells": [
  {
   "cell_type": "code",
   "id": "2bc01a0b95cbcc4a",
   "metadata": {
    "ExecuteTime": {
     "end_time": "2024-10-21T17:01:47.243424Z",
     "start_time": "2024-10-21T17:01:45.851378Z"
    }
   },
   "source": [
    "from datetime import time, datetime\n",
    "\n",
    "import numpy as np\n",
    "import torch\n",
    "# import os\n",
    "import gzip\n",
    "import matplotlib.pyplot as plt\n",
    "import torch.nn.functional as F\n",
    "from numpy import dtype\n",
    "\n",
    "from torch import nn\n",
    "from torch.nn import CrossEntropyLoss\n",
    "from torch.optim import Optimizer\n",
    "from torch.utils.data import DataLoader, Dataset\n",
    "from torchinfo import summary\n",
    "\n",
    "from torchvision.transforms import v2\n",
    "from sklearn.model_selection import train_test_split\n",
    "from sklearn.metrics import accuracy_score, f1_score\n",
    "from sklearn.preprocessing import MinMaxScaler, StandardScaler\n",
    "# my project\n",
    "from module.conf import PROJECT_DIR\n",
    "\n",
    "# matplotlib.use(\"QTAgg\")\n",
    "%matplotlib inline"
   ],
   "outputs": [],
   "execution_count": 1
  },
  {
   "cell_type": "code",
   "id": "3536c3f9cf557f03",
   "metadata": {
    "ExecuteTime": {
     "end_time": "2024-10-21T17:01:47.263149Z",
     "start_time": "2024-10-21T17:01:47.246853Z"
    }
   },
   "source": [
    "# setting device on GPU if available, else CPU\n",
    "device = torch.device('cuda' if torch.cuda.is_available() else 'cpu')\n",
    "print('Using device:', device)\n",
    "#Additional Info when using cuda\n",
    "if device.type == 'cuda':\n",
    "    print(torch.cuda.get_device_name(0))\n",
    "    print('Memory Usage:')\n",
    "    print('Allocated:', round(torch.cuda.memory_allocated(0) / 1024 ** 3, 1), 'GB')\n",
    "    print('Cached:   ', round(torch.cuda.memory_reserved(0) / 1024 ** 3, 1), 'GB')\n",
    "    # torch.cuda.is_available()\n",
    "    # torch.cuda.device_count()\n",
    "    # torch.cuda.current_device()\n",
    "    # torch.cuda.device(0)\n",
    "    # torch.cuda.get_device_name(0)\n",
    "device = (\n",
    "    \"cuda\"\n",
    "    if torch.cuda.is_available()\n",
    "    else \"mps\"\n",
    "    if torch.backends.mps.is_available()\n",
    "    else \"cpu\"\n",
    ")\n",
    "# device = \"cpu\"\n",
    "print(f\"Using {device} device\")"
   ],
   "outputs": [
    {
     "name": "stdout",
     "output_type": "stream",
     "text": [
      "Using device: cpu\n",
      "Using mps device\n"
     ]
    }
   ],
   "execution_count": 2
  },
  {
   "cell_type": "markdown",
   "id": "bdce8d8969b7bd6e",
   "metadata": {},
   "source": [
    "Each training and test example is assigned to one of the following labels:\n",
    "|Label|Description|\n",
    "|-|-----|\n",
    "|0|T-shirt/top|\n",
    "|1|Trouser|\n",
    "|2|Pullover|\n",
    "|3|Dress|\n",
    "|4|Coat|\n",
    "|5|Sandal|\n",
    "|6|Shirt|\n",
    "|7|Sneaker|\n",
    "|8|Bag|\n",
    "|9|Ankle boot|"
   ]
  },
  {
   "cell_type": "code",
   "id": "bfc0b4f8240a79cd",
   "metadata": {
    "ExecuteTime": {
     "end_time": "2024-10-21T17:01:47.294Z",
     "start_time": "2024-10-21T17:01:47.292057Z"
    }
   },
   "source": [
    "M_LABEL = {0: \"T-shirt/top\", 1: \"Trouser\", 2: \"Pullover\", 3: \"Dress\", 4: \"Coat\",\n",
    "           5: \"Sandal\", 6: \"Shirt\", 7: \"Sneaker\", 8: \"Bag\", 9: \"Ankle boot\"}"
   ],
   "outputs": [],
   "execution_count": 3
  },
  {
   "cell_type": "code",
   "id": "1ed63a8b4011445f",
   "metadata": {
    "ExecuteTime": {
     "end_time": "2024-10-21T17:01:47.300663Z",
     "start_time": "2024-10-21T17:01:47.298220Z"
    }
   },
   "source": [
    "def load_data(kind: str) -> tuple[np.ndarray, np.ndarray]:\n",
    "    fashion_mnist_path = \"/data/sample/fashion_mnist\"\n",
    "    images_path = \"\".join([PROJECT_DIR, fashion_mnist_path, f\"/{kind}-images-idx3-ubyte.gz\"])\n",
    "    labels_path = \"\".join([PROJECT_DIR, fashion_mnist_path, f\"/{kind}-labels-idx1-ubyte.gz\"])\n",
    "    with gzip.open(labels_path, 'rb') as lbpath:\n",
    "        labels = np.frombuffer(lbpath.read(), dtype=np.uint8, offset=8)\n",
    "\n",
    "    with gzip.open(images_path, 'rb') as imgpath:\n",
    "        images = np.frombuffer(imgpath.read(), dtype=np.uint8, offset=16).reshape(len(labels), 28, 28)\n",
    "\n",
    "    return images, labels"
   ],
   "outputs": [],
   "execution_count": 4
  },
  {
   "cell_type": "code",
   "id": "3982cdc028f38a23",
   "metadata": {
    "ExecuteTime": {
     "end_time": "2024-10-21T17:01:47.491235Z",
     "start_time": "2024-10-21T17:01:47.304658Z"
    }
   },
   "source": [
    "X_train, Y_train = load_data(kind='train')\n",
    "X_test, Y_test = load_data(kind='t10k')"
   ],
   "outputs": [],
   "execution_count": 5
  },
  {
   "cell_type": "code",
   "id": "dda99fbdccf4b676",
   "metadata": {
    "ExecuteTime": {
     "end_time": "2024-10-21T17:01:47.498980Z",
     "start_time": "2024-10-21T17:01:47.497012Z"
    }
   },
   "source": [
    "print(\"Training data shape:\", X_train.shape)\n",
    "print(\"Training labels shape:\", Y_train.shape)\n",
    "print(\"Test data shape:\", X_test.shape)\n",
    "print(\"Test labels shape:\", Y_test.shape)"
   ],
   "outputs": [
    {
     "name": "stdout",
     "output_type": "stream",
     "text": [
      "Training data shape: (60000, 28, 28)\n",
      "Training labels shape: (60000,)\n",
      "Test data shape: (10000, 28, 28)\n",
      "Test labels shape: (10000,)\n"
     ]
    }
   ],
   "execution_count": 6
  },
  {
   "cell_type": "code",
   "id": "892b43b1f264c93c",
   "metadata": {
    "ExecuteTime": {
     "end_time": "2024-10-21T17:01:47.563078Z",
     "start_time": "2024-10-21T17:01:47.504495Z"
    }
   },
   "source": [
    "X_train, X_test = X_train / 255.0, X_test / 255.0"
   ],
   "outputs": [],
   "execution_count": 7
  },
  {
   "cell_type": "code",
   "id": "3fbf8efcbcf65bd9",
   "metadata": {
    "ExecuteTime": {
     "end_time": "2024-10-21T17:01:47.602064Z",
     "start_time": "2024-10-21T17:01:47.569902Z"
    }
   },
   "source": [
    "ind = 1\n",
    "fig, ax = plt.subplots(figsize=(1.5, 1.5))\n",
    "ax.imshow(X=X_train[ind], cmap=\"gray\")\n",
    "plt.show()\n",
    "print(f\"Y_train[{ind}]:{Y_train[ind]}: {M_LABEL[Y_train[ind]]}\")"
   ],
   "outputs": [
    {
     "data": {
      "text/plain": [
       "<Figure size 150x150 with 1 Axes>"
      ],
      "image/png": "[encoded data removed]"
     },
     "metadata": {},
     "output_type": "display_data"
    },
    {
     "name": "stdout",
     "output_type": "stream",
     "text": [
      "Y_train[1]:0: T-shirt/top\n"
     ]
    }
   ],
   "execution_count": 8
  },
  {
   "cell_type": "markdown",
   "id": "7c2a823bbf3db921",
   "metadata": {},
   "source": [
    "### 1. PyTorch"
   ]
  },
  {
   "cell_type": "markdown",
   "id": "53c3a182046b0dd9",
   "metadata": {},
   "source": [
    "#### 1.1. Define model:"
   ]
  },
  {
   "cell_type": "code",
   "id": "4c227b1ec030f87f",
   "metadata": {
    "ExecuteTime": {
     "end_time": "2024-10-21T17:01:47.611783Z",
     "start_time": "2024-10-21T17:01:47.609166Z"
    }
   },
   "source": [
    "class NeuralNetwork(nn.Module):\n",
    "    def __init__(self):\n",
    "        super().__init__()\n",
    "        self.flatten = nn.Flatten()\n",
    "        self.linear_relu_stack = nn.Sequential(\n",
    "            nn.Linear(in_features=28 * 28, out_features=512),\n",
    "            nn.ReLU(),\n",
    "            nn.Linear(in_features=512, out_features=128),\n",
    "            nn.ReLU(),\n",
    "            nn.Linear(in_features=128, out_features=64),\n",
    "            nn.ReLU(),\n",
    "            nn.Linear(in_features=64, out_features=10),\n",
    "            # nn.Softmax(dim=1)\n",
    "        )\n",
    "        return\n",
    "\n",
    "    def forward(self, x):\n",
    "        \"\"\"\n",
    "        Override forward pass ()\n",
    "        :param x: x input data \n",
    "        :return: \n",
    "        \"\"\"\n",
    "        x = self.flatten(x)\n",
    "        logits = self.linear_relu_stack(x)\n",
    "        return logits\n",
    "        # return F.log_softmax(logits, dim=1)"
   ],
   "outputs": [],
   "execution_count": 9
  },
  {
   "metadata": {
    "ExecuteTime": {
     "end_time": "2024-10-21T17:01:47.621646Z",
     "start_time": "2024-10-21T17:01:47.618454Z"
    }
   },
   "cell_type": "code",
   "source": [
    "class CNNModel(nn.Module):\n",
    "    def __init__(self):\n",
    "        super(CNNModel, self).__init__()\n",
    "        # self.conv1 = nn.Conv2d(1, 10, kernel_size=5)\n",
    "        # self.conv2 = nn.Conv2d(10, 20, kernel_size=5)\n",
    "        # self.fc1 = nn.Linear(320, 50)\n",
    "        # self.fc2 = nn.Linear(50, 10)\n",
    "        # self.sequence = nn.Sequential(\n",
    "        #     nn.Conv2d(in_channels=1, out_channels=16, kernel_size=5),   # by default: stride = 1\n",
    "        #     nn.ReLU(),\n",
    "        #     nn.MaxPool2d(kernel_size=2),\n",
    "        #     nn.Conv2d(in_channels=16, out_channels=128, kernel_size=5),\n",
    "        #     nn.MaxPool2d(kernel_size=2),    # by default: kernel_size = stride \n",
    "        #     nn.ReLU(),\n",
    "        #     nn.Flatten(),\n",
    "        #     nn.Linear(in_features=2048, out_features=64), # in_features = 2048 will be calculated automatically\n",
    "        #     nn.Linear(in_features=64, out_features=10),\n",
    "        #     # nn.LogSoftmax(dim=1), # ~ SparseCategoricalCrossEntropy\n",
    "        #     nn.LogSigmoid()\n",
    "        # )\n",
    "        self.conv_layers = nn.Sequential(\n",
    "            nn.Conv2d(in_channels=1, out_channels=64, kernel_size=5),   # (28-5+1) x (28-5+1) = 24 x 24\n",
    "            nn.ReLU(),\n",
    "            nn.MaxPool2d(kernel_size=2),  # (24/2) x (24/2) = 12 x 12\n",
    "            nn.Conv2d(in_channels=64, out_channels=128, kernel_size=5),  # (12-5+1) x (12-5+1) = 8 x 8\n",
    "            nn.ReLU(),\n",
    "            nn.MaxPool2d(kernel_size=2)   # (8/2) x (8/2) = 4 x 4\n",
    "        )\n",
    "        self.fc_layers = nn.Sequential(\n",
    "            nn.Flatten(),\n",
    "            nn.Linear(in_features=128 * 4 * 4, out_features=64),  # 32 channel, 4 * 4 size\n",
    "            nn.ReLU(),\n",
    "            nn.Linear(in_features=64, out_features=10)  # 10 classes (0-9) for Fashion MNIST\n",
    "        )\n",
    "\n",
    "    def forward(self, x):\n",
    "        # x = F.relu(F.max_pool2d(self.conv1(x), 2))\n",
    "        # x = F.relu(F.max_pool2d(self.conv2(x), 2))\n",
    "        # x = x.view(-1, 320)\n",
    "        # print(f\"--x.shape: {x.shape}\")\n",
    "        # x = F.relu(self.fc1(x))\n",
    "        # x = self.fc2(x)\n",
    "        # return F.log_softmax(x, dim=1)\n",
    "        # return self.sequence(x)\n",
    "        # return F.log_softmax(x(self.sequence(x)), dim=1)\n",
    "        x = self.conv_layers(x)\n",
    "        x = self.fc_layers(x)\n",
    "        return x"
   ],
   "id": "897bd03ac752d94e",
   "outputs": [],
   "execution_count": 10
  },
  {
   "cell_type": "markdown",
   "id": "3e759740ebeb2d0e",
   "metadata": {},
   "source": "#### 1.2. Define Train and Test functions:"
  },
  {
   "cell_type": "code",
   "id": "592d86018ab1c0d4",
   "metadata": {
    "ExecuteTime": {
     "end_time": "2024-10-21T17:01:47.629941Z",
     "start_time": "2024-10-21T17:01:47.627337Z"
    }
   },
   "source": [
    "def train(dataloader: DataLoader, model: nn.Module, loss_fn: CrossEntropyLoss, optimizer: Optimizer, epoch: int) -> None:\n",
    "    size = len(dataloader.dataset)\n",
    "    model.train()\n",
    "    for batch, (X, y) in enumerate(dataloader):\n",
    "        X, y = X.to(device=device), y.to(device=device)\n",
    "        # reset grad before start new batch\n",
    "        optimizer.zero_grad()   \n",
    "        # Compute prediction error\n",
    "        pred:torch.Tensor = model(X)\n",
    "        loss:torch.Tensor = loss_fn(pred, y)\n",
    "        # Backpropagation\n",
    "        loss.backward()     # calculate the final grad to first grad\n",
    "        optimizer.step()    # update W and b\n",
    "        \n",
    "        if batch % 1000 == 0:\n",
    "            loss, current = loss.item(), (batch + 1) * len(X)\n",
    "            print(f\"Train loss: {loss:>7f}  [{current:>5d}/{size:>5d}]\")\n",
    "    return"
   ],
   "outputs": [],
   "execution_count": 11
  },
  {
   "cell_type": "code",
   "id": "22280b95484495b0",
   "metadata": {
    "ExecuteTime": {
     "end_time": "2024-10-21T17:01:47.638346Z",
     "start_time": "2024-10-21T17:01:47.635665Z"
    }
   },
   "source": [
    "def test(dataloader: DataLoader, model: nn.Module, loss_fn: CrossEntropyLoss) -> None:\n",
    "    size = len(dataloader.dataset)\n",
    "    num_batches = len(dataloader)\n",
    "    model.eval()\n",
    "    test_loss, correct = 0, 0\n",
    "    with torch.no_grad():\n",
    "        for X, y in dataloader:\n",
    "            X, y = X.to(device=device), y.to(device=device)\n",
    "            pred = model(X)\n",
    "            test_loss += loss_fn(pred, y).item()\n",
    "            # pred_probab: torch.Tensor = nn.Softmax(dim=1)(pred)\n",
    "            pred_probab: torch.Tensor = F.softmax(pred, dim=1)\n",
    "            correct += (pred_probab.argmax(dim=1) == y).type(torch.float).sum().item()\n",
    "    test_loss /= num_batches\n",
    "    correct /= size\n",
    "    print(f\"Test Error:\\nAccuracy: {(100*correct):>0.1f}%, Avg loss: {test_loss:>8f}\")\n",
    "    return"
   ],
   "outputs": [],
   "execution_count": 12
  },
  {
   "cell_type": "markdown",
   "id": "7aea5ce0a0ee34bf",
   "metadata": {},
   "source": [
    "#### 1.3. Perform train:"
   ]
  },
  {
   "metadata": {
    "ExecuteTime": {
     "end_time": "2024-10-21T17:01:47.652275Z",
     "start_time": "2024-10-21T17:01:47.643918Z"
    }
   },
   "cell_type": "code",
   "source": [
    "model_nn = NeuralNetwork().to(device)\n",
    "loss_func_nn = nn.CrossEntropyLoss()\n",
    "optimizer_g_nn = torch.optim.Adam(params=model_nn.parameters(), lr=1e-3)"
   ],
   "id": "4a6f25758157939a",
   "outputs": [],
   "execution_count": 13
  },
  {
   "metadata": {
    "ExecuteTime": {
     "end_time": "2024-10-21T17:01:47.663839Z",
     "start_time": "2024-10-21T17:01:47.658334Z"
    }
   },
   "cell_type": "code",
   "source": [
    "model_cnn = CNNModel().to(device)\n",
    "loss_func_cnn = nn.CrossEntropyLoss()\n",
    "optimizer_g_cnn = torch.optim.Adam(params=model_cnn.parameters(), lr=1e-3)"
   ],
   "id": "39da2b605e9650de",
   "outputs": [],
   "execution_count": 14
  },
  {
   "cell_type": "code",
   "id": "5891aed74e3f3a1a",
   "metadata": {
    "ExecuteTime": {
     "end_time": "2024-10-21T17:01:47.718424Z",
     "start_time": "2024-10-21T17:01:47.669483Z"
    }
   },
   "source": [
    "rand_seed = np.random.randint(low=0, high=1000)\n",
    "X_train_20, X_test_20, Y_train_20, Y_test_20 = train_test_split(X_train, Y_train, train_size=0.65, test_size=0.15, random_state=rand_seed)\n",
    "# Y_train_20 = train_test_split(Y_train, test_size=0.65, random_state=rand_seed)[1]\n",
    "# rand_seed = np.random.randint(low=0, high=1000)\n",
    "# X_test_20 = train_test_split(X_train, test_size=0.65, random_state=rand_seed)[1]\n",
    "# Y_test_20 = train_test_split(Y_train, test_size=0.65, random_state=rand_seed)[1]"
   ],
   "outputs": [],
   "execution_count": 15
  },
  {
   "cell_type": "code",
   "id": "d2a2f796d4606579",
   "metadata": {
    "ExecuteTime": {
     "end_time": "2024-10-21T17:01:47.728995Z",
     "start_time": "2024-10-21T17:01:47.726569Z"
    }
   },
   "source": [
    "class TransformedTensorDataset(Dataset):\n",
    "    def __init__(self, tensor_dataset, transform=None):\n",
    "        self.tensor_dataset = tensor_dataset\n",
    "        self.transform = transform\n",
    "    def __len__(self):\n",
    "        return len(self.tensor_dataset)\n",
    "    def __getitem__(self, idx):\n",
    "        sample, label = self.tensor_dataset[idx]\n",
    "        if self.transform:\n",
    "            sample = self.transform(sample)\n",
    "            pass\n",
    "        return sample, label"
   ],
   "outputs": [],
   "execution_count": 16
  },
  {
   "cell_type": "code",
   "id": "5394cc79ac77ed9e",
   "metadata": {
    "ExecuteTime": {
     "end_time": "2024-10-21T17:03:04.332773Z",
     "start_time": "2024-10-21T17:01:47.736258Z"
    }
   },
   "source": [
    "epochs = 5\n",
    "batch_size = 32\n",
    "transform = v2.Compose([\n",
    "    # v2.ToTensor(),\n",
    "    # v2.ToPILImage(),\n",
    "    # v2.PILToTensor(),\n",
    "    v2.Normalize((0.5,), (0.5,))  # scale from [0, 1] to [-1, 1]\n",
    "])\n",
    "X_train_tensor, Y_train_tensor = torch.from_numpy(X_train_20).unsqueeze(dim=1).to(dtype=torch.float32), torch.from_numpy(Y_train_20).to(dtype=torch.int64)\n",
    "X_test_tensor, Y_test_tensor = torch.from_numpy(X_test_20).float().unsqueeze(dim=1).to(dtype=torch.float32), torch.from_numpy(Y_test_20).to(dtype=torch.int64)\n",
    "train_dataset = torch.utils.data.TensorDataset(X_train_tensor, Y_train_tensor)\n",
    "test_dataset = torch.utils.data.TensorDataset(X_test_tensor, Y_test_tensor)\n",
    "# train_dataset = TransformedTensorDataset(train_dataset, transform=transform)\n",
    "# test_dataset = TransformedTensorDataset(test_dataset, transform=transform)\n",
    "train_dataloader = DataLoader(dataset=train_dataset, batch_size=batch_size, shuffle=True, num_workers=4)\n",
    "test_dataloader = DataLoader(dataset=test_dataset, batch_size=batch_size, shuffle=False, num_workers=4)\n",
    "for t in range(epochs):\n",
    "    print(f\"\\nEpoch {t+1}\\n-------------------------------\")\n",
    "    start_nn = datetime.now()\n",
    "    train(train_dataloader, model_nn, loss_func_nn, optimizer_g_nn, t)\n",
    "    end_nn = datetime.now()\n",
    "    test(test_dataloader, model_nn, loss_func_nn)\n",
    "    print(f\"NN: {(end_nn - start_nn).total_seconds()}\")\n",
    "    start_cnn = datetime.now()\n",
    "    train(train_dataloader, model_cnn, loss_func_cnn, optimizer_g_cnn, t)\n",
    "    end_cnn = datetime.now()\n",
    "    test(test_dataloader, model_cnn, loss_func_cnn)\n",
    "    print(f\"CNN: {(end_cnn - start_cnn).total_seconds()}\")\n",
    "print(\"Done!\")"
   ],
   "outputs": [
    {
     "name": "stdout",
     "output_type": "stream",
     "text": [
      "\n",
      "Epoch 1\n",
      "-------------------------------\n",
      "Train loss: 2.317309  [   32/39000]\n",
      "Train loss: 0.408308  [32032/39000]\n",
      "Test Error:\n",
      "Accuracy: 82.8%, Avg loss: 0.450912\n",
      "NN: 4.835143\n",
      "Train loss: 2.304387  [   32/39000]\n",
      "Train loss: 0.488373  [32032/39000]\n",
      "Test Error:\n",
      "Accuracy: 86.7%, Avg loss: 0.365308\n",
      "CNN: 7.259787\n",
      "\n",
      "Epoch 2\n",
      "-------------------------------\n",
      "Train loss: 0.327711  [   32/39000]\n",
      "Train loss: 0.283376  [32032/39000]\n",
      "Test Error:\n",
      "Accuracy: 86.1%, Avg loss: 0.381558\n",
      "NN: 4.420655\n",
      "Train loss: 0.299185  [   32/39000]\n",
      "Train loss: 0.383480  [32032/39000]\n",
      "Test Error:\n",
      "Accuracy: 88.0%, Avg loss: 0.321914\n",
      "CNN: 7.428578\n",
      "\n",
      "Epoch 3\n",
      "-------------------------------\n",
      "Train loss: 0.363932  [   32/39000]\n",
      "Train loss: 0.170467  [32032/39000]\n",
      "Test Error:\n",
      "Accuracy: 86.6%, Avg loss: 0.354378\n",
      "NN: 4.291199\n",
      "Train loss: 0.288113  [   32/39000]\n",
      "Train loss: 0.118579  [32032/39000]\n",
      "Test Error:\n",
      "Accuracy: 89.4%, Avg loss: 0.284549\n",
      "CNN: 7.190116\n",
      "\n",
      "Epoch 4\n",
      "-------------------------------\n",
      "Train loss: 0.263127  [   32/39000]\n",
      "Train loss: 0.218024  [32032/39000]\n",
      "Test Error:\n",
      "Accuracy: 88.0%, Avg loss: 0.329101\n",
      "NN: 4.40293\n",
      "Train loss: 0.161654  [   32/39000]\n",
      "Train loss: 0.322286  [32032/39000]\n",
      "Test Error:\n",
      "Accuracy: 89.7%, Avg loss: 0.287941\n",
      "CNN: 6.894429\n",
      "\n",
      "Epoch 5\n",
      "-------------------------------\n",
      "Train loss: 0.541795  [   32/39000]\n",
      "Train loss: 0.166854  [32032/39000]\n",
      "Test Error:\n",
      "Accuracy: 87.3%, Avg loss: 0.348542\n",
      "NN: 4.51488\n",
      "Train loss: 0.176519  [   32/39000]\n",
      "Train loss: 0.209564  [32032/39000]\n",
      "Test Error:\n",
      "Accuracy: 90.7%, Avg loss: 0.266705\n",
      "CNN: 7.12671\n",
      "Done!\n"
     ]
    }
   ],
   "execution_count": 17
  },
  {
   "cell_type": "code",
   "id": "6d87644863f43116",
   "metadata": {
    "ExecuteTime": {
     "end_time": "2024-10-21T17:03:04.348105Z",
     "start_time": "2024-10-21T17:03:04.344729Z"
    }
   },
   "source": [
    "summary(model=model_cnn)\n",
    "# X_train_tensor.shape"
   ],
   "outputs": [
    {
     "data": {
      "text/plain": [
       "=================================================================\n",
       "Layer (type:depth-idx)                   Param #\n",
       "=================================================================\n",
       "CNNModel                                 --\n",
       "├─Sequential: 1-1                        --\n",
       "│    └─Conv2d: 2-1                       1,664\n",
       "│    └─ReLU: 2-2                         --\n",
       "│    └─MaxPool2d: 2-3                    --\n",
       "│    └─Conv2d: 2-4                       204,928\n",
       "│    └─ReLU: 2-5                         --\n",
       "│    └─MaxPool2d: 2-6                    --\n",
       "├─Sequential: 1-2                        --\n",
       "│    └─Flatten: 2-7                      --\n",
       "│    └─Linear: 2-8                       131,136\n",
       "│    └─ReLU: 2-9                         --\n",
       "│    └─Linear: 2-10                      650\n",
       "=================================================================\n",
       "Total params: 338,378\n",
       "Trainable params: 338,378\n",
       "Non-trainable params: 0\n",
       "================================================================="
      ]
     },
     "execution_count": 18,
     "metadata": {},
     "output_type": "execute_result"
    }
   ],
   "execution_count": 18
  },
  {
   "metadata": {
    "ExecuteTime": {
     "end_time": "2024-10-21T17:03:04.487008Z",
     "start_time": "2024-10-21T17:03:04.415774Z"
    }
   },
   "cell_type": "code",
   "source": [
    "ind = np.random.randint(low=0, high=10000)\n",
    "fig, ax = plt.subplots(figsize=(1, 1))\n",
    "ax.imshow(X=X_test[ind], cmap=\"gray\")\n",
    "plt.show()\n",
    "\n",
    "X_test_tensor = torch.from_numpy(X_test[ind]).unsqueeze(0).unsqueeze(0).to(dtype=torch.float32).to(device=device)\n",
    "with torch.no_grad():\n",
    "    print(f\"Y_train[{ind}]:{Y_test[ind]}: {M_LABEL[Y_test[ind]]}\")\n",
    "    print(f\"[{ind}]:{Y_test[ind]} \"\n",
    "        f\"NN:{F.softmax(model_nn(X_test_tensor), dim=1).argmax()} \"\n",
    "        f\"CNN:{F.softmax(model_cnn(X_test_tensor), dim=1).argmax()}\" )"
   ],
   "id": "17f7e3fa247a6572",
   "outputs": [
    {
     "data": {
      "text/plain": [
       "<Figure size 100x100 with 1 Axes>"
      ],
      "image/png": "[encoded data removed]"
     },
     "metadata": {},
     "output_type": "display_data"
    },
    {
     "name": "stdout",
     "output_type": "stream",
     "text": [
      "Y_train[1649]:6: Shirt\n",
      "[1649]:6 NN:6 CNN:6\n"
     ]
    }
   ],
   "execution_count": 19
  },
  {
   "cell_type": "code",
   "id": "a34f2e04149ef207",
   "metadata": {
    "ExecuteTime": {
     "end_time": "2024-10-21T17:03:04.641949Z",
     "start_time": "2024-10-21T17:03:04.637264Z"
    }
   },
   "source": "ts = torch.from_numpy(X_test).float()",
   "outputs": [],
   "execution_count": 20
  },
  {
   "cell_type": "code",
   "id": "ff80878179d77db5",
   "metadata": {
    "ExecuteTime": {
     "end_time": "2024-10-21T17:03:04.724138Z",
     "start_time": "2024-10-21T17:03:04.720275Z"
    }
   },
   "source": [
    "torch.manual_seed(1729)\n",
    "r1 = torch.rand(2, 2)\n",
    "print('A random tensor:')\n",
    "print(r1)"
   ],
   "outputs": [
    {
     "name": "stdout",
     "output_type": "stream",
     "text": [
      "A random tensor:\n",
      "tensor([[0.3126, 0.3791],\n",
      "        [0.3087, 0.0736]])\n"
     ]
    }
   ],
   "execution_count": 21
  }
 ],
 "metadata": {
  "kernelspec": {
   "display_name": "learn-ml",
   "language": "python",
   "name": "python3"
  },
  "language_info": {
   "codemirror_mode": {
    "name": "ipython",
    "version": 3
   },
   "file_extension": ".py",
   "mimetype": "text/x-python",
   "name": "python",
   "nbconvert_exporter": "python",
   "pygments_lexer": "ipython3",
   "version": "3.10.13"
  }
 },
 "nbformat": 4,
 "nbformat_minor": 5
}
