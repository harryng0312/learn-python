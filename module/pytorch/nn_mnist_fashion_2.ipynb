{
 "cells": [
  {
   "cell_type": "code",
   "id": "2bc01a0b95cbcc4a",
   "metadata": {
    "ExecuteTime": {
     "end_time": "2024-10-21T12:50:07.915141Z",
     "start_time": "2024-10-21T12:50:04.828110Z"
    }
   },
   "source": [
    "from datetime import time, datetime\n",
    "\n",
    "import numpy as np\n",
    "import torch\n",
    "# import os\n",
    "import gzip\n",
    "import matplotlib.pyplot as plt\n",
    "import torch.nn.functional as F\n",
    "from keras.layers.preprocessing.image_preprocessing import transform\n",
    "\n",
    "from torch import nn\n",
    "from torch.nn import CrossEntropyLoss\n",
    "from torch.optim import Optimizer\n",
    "from torch.utils.data import DataLoader, Dataset\n",
    "from torchinfo import summary\n",
    "\n",
    "# from torchvision import datasets\n",
    "from torchvision.transforms import v2\n",
    "from sklearn.model_selection import train_test_split\n",
    "from sklearn.metrics import accuracy_score, f1_score\n",
    "from sklearn.preprocessing import MinMaxScaler, StandardScaler\n",
    "# my project\n",
    "from module.conf import PROJECT_DIR\n",
    "\n",
    "# matplotlib.use(\"QTAgg\")\n",
    "%matplotlib inline"
   ],
   "outputs": [],
   "execution_count": 1
  },
  {
   "cell_type": "code",
   "id": "3536c3f9cf557f03",
   "metadata": {
    "ExecuteTime": {
     "end_time": "2024-10-21T12:50:07.941450Z",
     "start_time": "2024-10-21T12:50:07.919053Z"
    }
   },
   "source": [
    "# setting device on GPU if available, else CPU\n",
    "device = torch.device('cuda' if torch.cuda.is_available() else 'cpu')\n",
    "print('Using device:', device)\n",
    "#Additional Info when using cuda\n",
    "if device.type == 'cuda':\n",
    "    print(torch.cuda.get_device_name(0))\n",
    "    print('Memory Usage:')\n",
    "    print('Allocated:', round(torch.cuda.memory_allocated(0) / 1024 ** 3, 1), 'GB')\n",
    "    print('Cached:   ', round(torch.cuda.memory_reserved(0) / 1024 ** 3, 1), 'GB')\n",
    "    # torch.cuda.is_available()\n",
    "    # torch.cuda.device_count()\n",
    "    # torch.cuda.current_device()\n",
    "    # torch.cuda.device(0)\n",
    "    # torch.cuda.get_device_name(0)\n",
    "device = (\n",
    "    \"cuda\"\n",
    "    if torch.cuda.is_available()\n",
    "    else \"mps\"\n",
    "    if torch.backends.mps.is_available()\n",
    "    else \"cpu\"\n",
    ")\n",
    "# device = \"cpu\"\n",
    "print(f\"Using {device} device\")"
   ],
   "outputs": [
    {
     "name": "stdout",
     "output_type": "stream",
     "text": [
      "Using device: cpu\n",
      "Using mps device\n"
     ]
    }
   ],
   "execution_count": 2
  },
  {
   "cell_type": "markdown",
   "id": "bdce8d8969b7bd6e",
   "metadata": {},
   "source": [
    "Each training and test example is assigned to one of the following labels:\n",
    "|Label|Description|\n",
    "|-|-----|\n",
    "|0|T-shirt/top|\n",
    "|1|Trouser|\n",
    "|2|Pullover|\n",
    "|3|Dress|\n",
    "|4|Coat|\n",
    "|5|Sandal|\n",
    "|6|Shirt|\n",
    "|7|Sneaker|\n",
    "|8|Bag|\n",
    "|9|Ankle boot|"
   ]
  },
  {
   "cell_type": "code",
   "id": "bfc0b4f8240a79cd",
   "metadata": {
    "ExecuteTime": {
     "end_time": "2024-10-21T12:50:07.981257Z",
     "start_time": "2024-10-21T12:50:07.979083Z"
    }
   },
   "source": [
    "M_LABEL = {0: \"T-shirt/top\", 1: \"Trouser\", 2: \"Pullover\", 3: \"Dress\", 4: \"Coat\",\n",
    "           5: \"Sandal\", 6: \"Shirt\", 7: \"Sneaker\", 8: \"Bag\", 9: \"Ankle boot\"}"
   ],
   "outputs": [],
   "execution_count": 3
  },
  {
   "cell_type": "code",
   "id": "1ed63a8b4011445f",
   "metadata": {
    "ExecuteTime": {
     "end_time": "2024-10-21T12:50:07.988218Z",
     "start_time": "2024-10-21T12:50:07.985502Z"
    }
   },
   "source": [
    "def load_data(kind: str) -> tuple[np.ndarray, np.ndarray]:\n",
    "    fashion_mnist_path = \"/data/sample/fashion_mnist\"\n",
    "    images_path = \"\".join([PROJECT_DIR, fashion_mnist_path, f\"/{kind}-images-idx3-ubyte.gz\"])\n",
    "    labels_path = \"\".join([PROJECT_DIR, fashion_mnist_path, f\"/{kind}-labels-idx1-ubyte.gz\"])\n",
    "    with gzip.open(labels_path, 'rb') as lbpath:\n",
    "        labels = np.frombuffer(lbpath.read(), dtype=np.uint8, offset=8)\n",
    "\n",
    "    with gzip.open(images_path, 'rb') as imgpath:\n",
    "        images = np.frombuffer(imgpath.read(), dtype=np.uint8, offset=16).reshape(len(labels), 28, 28)\n",
    "\n",
    "    return images, labels"
   ],
   "outputs": [],
   "execution_count": 4
  },
  {
   "cell_type": "code",
   "id": "3982cdc028f38a23",
   "metadata": {
    "ExecuteTime": {
     "end_time": "2024-10-21T12:50:08.184731Z",
     "start_time": "2024-10-21T12:50:07.992716Z"
    }
   },
   "source": [
    "X_train, Y_train = load_data(kind='train')\n",
    "X_test, Y_test = load_data(kind='t10k')"
   ],
   "outputs": [],
   "execution_count": 5
  },
  {
   "cell_type": "code",
   "id": "dda99fbdccf4b676",
   "metadata": {
    "ExecuteTime": {
     "end_time": "2024-10-21T12:50:08.193555Z",
     "start_time": "2024-10-21T12:50:08.191296Z"
    }
   },
   "source": [
    "print(\"Training data shape:\", X_train.shape)\n",
    "print(\"Training labels shape:\", Y_train.shape)\n",
    "print(\"Test data shape:\", X_test.shape)\n",
    "print(\"Test labels shape:\", Y_test.shape)"
   ],
   "outputs": [
    {
     "name": "stdout",
     "output_type": "stream",
     "text": [
      "Training data shape: (60000, 28, 28)\n",
      "Training labels shape: (60000,)\n",
      "Test data shape: (10000, 28, 28)\n",
      "Test labels shape: (10000,)\n"
     ]
    }
   ],
   "execution_count": 6
  },
  {
   "cell_type": "code",
   "id": "892b43b1f264c93c",
   "metadata": {
    "ExecuteTime": {
     "end_time": "2024-10-21T12:50:08.259546Z",
     "start_time": "2024-10-21T12:50:08.199367Z"
    }
   },
   "source": [
    "X_train, X_test = X_train / 255.0, X_test / 255.0"
   ],
   "outputs": [],
   "execution_count": 7
  },
  {
   "cell_type": "code",
   "id": "3fbf8efcbcf65bd9",
   "metadata": {
    "ExecuteTime": {
     "end_time": "2024-10-21T12:50:08.300143Z",
     "start_time": "2024-10-21T12:50:08.266723Z"
    }
   },
   "source": [
    "ind = 1\n",
    "fig, ax = plt.subplots(figsize=(1.5, 1.5))\n",
    "ax.imshow(X=X_train[ind], cmap=\"gray\")\n",
    "plt.show()\n",
    "print(f\"Y_train[{ind}]:{Y_train[ind]}: {M_LABEL[Y_train[ind]]}\")"
   ],
   "outputs": [
    {
     "data": {
      "text/plain": [
       "<Figure size 150x150 with 1 Axes>"
      ],
      "image/png": "[encoded data removed]"
     },
     "metadata": {},
     "output_type": "display_data"
    },
    {
     "name": "stdout",
     "output_type": "stream",
     "text": [
      "Y_train[1]:0: T-shirt/top\n"
     ]
    }
   ],
   "execution_count": 8
  },
  {
   "cell_type": "markdown",
   "id": "7c2a823bbf3db921",
   "metadata": {},
   "source": [
    "### 1. PyTorch"
   ]
  },
  {
   "cell_type": "markdown",
   "id": "53c3a182046b0dd9",
   "metadata": {},
   "source": [
    "#### 1.1. Define model:"
   ]
  },
  {
   "cell_type": "code",
   "id": "4c227b1ec030f87f",
   "metadata": {
    "ExecuteTime": {
     "end_time": "2024-10-21T12:50:08.311569Z",
     "start_time": "2024-10-21T12:50:08.308770Z"
    }
   },
   "source": [
    "class NeuralNetwork(nn.Module):\n",
    "    def __init__(self):\n",
    "        super().__init__()\n",
    "        self.flatten = nn.Flatten()\n",
    "        self.linear_relu_stack = nn.Sequential(\n",
    "            nn.Linear(in_features=28 * 28, out_features=512),\n",
    "            nn.ReLU(),\n",
    "            nn.Linear(in_features=512, out_features=128),\n",
    "            nn.ReLU(),\n",
    "            nn.Linear(in_features=128, out_features=64),\n",
    "            nn.ReLU(),\n",
    "            nn.Linear(in_features=64, out_features=10),\n",
    "            # nn.Softmax(dim=1)\n",
    "        )\n",
    "        return\n",
    "\n",
    "    def forward(self, x):\n",
    "        \"\"\"\n",
    "        Override forward pass ()\n",
    "        :param x: x input data \n",
    "        :return: \n",
    "        \"\"\"\n",
    "        x = self.flatten(x)\n",
    "        logits = self.linear_relu_stack(x)\n",
    "        # return logits\n",
    "        return F.log_softmax(logits, dim=1)"
   ],
   "outputs": [],
   "execution_count": 9
  },
  {
   "cell_type": "code",
   "id": "f3f3601f50f63d36",
   "metadata": {
    "ExecuteTime": {
     "end_time": "2024-10-21T12:50:08.333442Z",
     "start_time": "2024-10-21T12:50:08.323408Z"
    }
   },
   "source": [
    "model_nn = NeuralNetwork().to(device)\n",
    "print(model_nn)"
   ],
   "outputs": [
    {
     "name": "stdout",
     "output_type": "stream",
     "text": [
      "NeuralNetwork(\n",
      "  (flatten): Flatten(start_dim=1, end_dim=-1)\n",
      "  (linear_relu_stack): Sequential(\n",
      "    (0): Linear(in_features=784, out_features=512, bias=True)\n",
      "    (1): ReLU()\n",
      "    (2): Linear(in_features=512, out_features=128, bias=True)\n",
      "    (3): ReLU()\n",
      "    (4): Linear(in_features=128, out_features=64, bias=True)\n",
      "    (5): ReLU()\n",
      "    (6): Linear(in_features=64, out_features=10, bias=True)\n",
      "  )\n",
      ")\n"
     ]
    }
   ],
   "execution_count": 10
  },
  {
   "cell_type": "markdown",
   "id": "3e759740ebeb2d0e",
   "metadata": {},
   "source": "#### 1.2. Define Train and Test functions:"
  },
  {
   "cell_type": "code",
   "id": "f86210c4ef1d2d3c",
   "metadata": {
    "ExecuteTime": {
     "end_time": "2024-10-21T12:50:08.348590Z",
     "start_time": "2024-10-21T12:50:08.346512Z"
    }
   },
   "source": [
    "loss_func = nn.CrossEntropyLoss()\n",
    "optimizer_g = torch.optim.Adam(params=model_nn.parameters(), lr=1e-3)"
   ],
   "outputs": [],
   "execution_count": 11
  },
  {
   "cell_type": "code",
   "id": "592d86018ab1c0d4",
   "metadata": {
    "ExecuteTime": {
     "end_time": "2024-10-21T12:50:08.357908Z",
     "start_time": "2024-10-21T12:50:08.355048Z"
    }
   },
   "source": [
    "def train_nn(dataloader: DataLoader, model: nn.Module, loss_fn: CrossEntropyLoss, optimizer: Optimizer) -> None:\n",
    "    size = len(dataloader.dataset)\n",
    "    model.train()\n",
    "    for batch, (X, y) in enumerate(dataloader):\n",
    "        X, y = X.to(device=device), y.to(device=device)\n",
    "        # reset grad before start new batch\n",
    "        optimizer.zero_grad()   \n",
    "        # Compute prediction error\n",
    "        pred:torch.Tensor = model(X)\n",
    "        loss:torch.Tensor = loss_fn(pred, y)\n",
    "        # Backpropagation\n",
    "        loss.backward()     # calculate the final grad to first grad\n",
    "        optimizer.step()    # update W and b\n",
    "        \n",
    "        if batch % 1000 == 0:\n",
    "            loss, current = loss.item(), (batch + 1) * len(X)\n",
    "            print(f\"loss: {loss:>7f}  [{current:>5d}/{size:>5d}]\")\n",
    "    return"
   ],
   "outputs": [],
   "execution_count": 12
  },
  {
   "cell_type": "code",
   "id": "22280b95484495b0",
   "metadata": {
    "ExecuteTime": {
     "end_time": "2024-10-21T12:50:08.366800Z",
     "start_time": "2024-10-21T12:50:08.363738Z"
    }
   },
   "source": [
    "def test_nn(dataloader: DataLoader, model: nn.Module, loss_fn: CrossEntropyLoss) -> None:\n",
    "    size = len(dataloader.dataset)\n",
    "    num_batches = len(dataloader)\n",
    "    model.eval()\n",
    "    test_loss, correct = 0, 0\n",
    "    with torch.no_grad():\n",
    "        for X, y in dataloader:\n",
    "            X, y = X.to(device=device), y.to(device=device)\n",
    "            pred = model(X)\n",
    "            test_loss += loss_fn(pred, y).item()\n",
    "            pred_probab: torch.Tensor = nn.Softmax(dim=1)(pred)\n",
    "            correct += (pred_probab.argmax(dim=1) == y).type(torch.float).sum().item()\n",
    "    test_loss /= num_batches\n",
    "    correct /= size\n",
    "    print(f\"Test Error:\\nAccuracy: {(100*correct):>0.1f}%, Avg loss: {test_loss:>8f} \\n\")\n",
    "    return"
   ],
   "outputs": [],
   "execution_count": 13
  },
  {
   "cell_type": "code",
   "id": "fb08e5d9c7f730e2",
   "metadata": {
    "ExecuteTime": {
     "end_time": "2024-10-21T12:50:08.375940Z",
     "start_time": "2024-10-21T12:50:08.372654Z"
    }
   },
   "source": [
    "class CNNModel(nn.Module):\n",
    "    def __init__(self):\n",
    "        super(CNNModel, self).__init__()\n",
    "        # self.conv1 = nn.Conv2d(1, 10, kernel_size=5)\n",
    "        # self.conv2 = nn.Conv2d(10, 20, kernel_size=5)\n",
    "        # self.fc1 = nn.Linear(320, 50)\n",
    "        # self.fc2 = nn.Linear(50, 10)\n",
    "        # self.sequence = nn.Sequential(\n",
    "        #     nn.Conv2d(in_channels=1, out_channels=16, kernel_size=5),   # by default: stride = 1\n",
    "        #     nn.ReLU(),\n",
    "        #     nn.MaxPool2d(kernel_size=2),\n",
    "        #     nn.Conv2d(in_channels=16, out_channels=128, kernel_size=5),\n",
    "        #     nn.MaxPool2d(kernel_size=2),    # by default: kernel_size = stride \n",
    "        #     nn.ReLU(),\n",
    "        #     nn.Flatten(),\n",
    "        #     nn.Linear(in_features=2048, out_features=64), # in_features = 2048 will be calculated automatically\n",
    "        #     nn.Linear(in_features=64, out_features=10),\n",
    "        #     # nn.LogSoftmax(dim=1), # ~ SparseCategoricalCrossEntropy\n",
    "        #     nn.LogSigmoid()\n",
    "        # )\n",
    "        self.conv_layers = nn.Sequential(\n",
    "            nn.Conv2d(in_channels=1, out_channels=64, kernel_size=5),   # (28-5+1) x (28-5+1) = 24 x 24\n",
    "            nn.ReLU(),\n",
    "            nn.MaxPool2d(kernel_size=2),  # (24/2) x (24/2) = 12 x 12\n",
    "            nn.Conv2d(in_channels=64, out_channels=128, kernel_size=5),  # (12-5+1) x (12-5+1) = 8 x 8\n",
    "            nn.ReLU(),\n",
    "            nn.MaxPool2d(kernel_size=2)   # (8/2) x (8/2) = 4 x 4\n",
    "        )\n",
    "        self.fc_layers = nn.Sequential(\n",
    "            nn.Flatten(),\n",
    "            nn.Linear(in_features=128 * 4 * 4, out_features=64),  # 32 channel, 4 * 4 size\n",
    "            nn.ReLU(),\n",
    "            nn.Linear(in_features=64, out_features=10)  # 10 classes (0-9) for Fashion MNIST\n",
    "        )\n",
    "\n",
    "    def forward(self, x):\n",
    "        # x = F.relu(F.max_pool2d(self.conv1(x), 2))\n",
    "        # x = F.relu(F.max_pool2d(self.conv2(x), 2))\n",
    "        # x = x.view(-1, 320)\n",
    "        # print(f\"--x.shape: {x.shape}\")\n",
    "        # x = F.relu(self.fc1(x))\n",
    "        # x = self.fc2(x)\n",
    "        # return F.log_softmax(x, dim=1)\n",
    "        # return self.sequence(x)\n",
    "        # return F.log_softmax(x(self.sequence(x)), dim=1)\n",
    "        x = self.conv_layers(x)\n",
    "        x = self.fc_layers(x)\n",
    "        return x"
   ],
   "outputs": [],
   "execution_count": 14
  },
  {
   "cell_type": "code",
   "id": "f15b53c2a6c52b35",
   "metadata": {
    "ExecuteTime": {
     "end_time": "2024-10-21T12:50:08.389252Z",
     "start_time": "2024-10-21T12:50:08.382394Z"
    }
   },
   "source": [
    "model_cnn = CNNModel().to(device)\n",
    "loss_func_cnn = nn.CrossEntropyLoss()\n",
    "optimizer_g_cnn = torch.optim.Adam(params=model_cnn.parameters(), lr=1e-3)"
   ],
   "outputs": [],
   "execution_count": 15
  },
  {
   "cell_type": "code",
   "id": "2258746510eb8252",
   "metadata": {
    "ExecuteTime": {
     "end_time": "2024-10-21T12:50:08.399324Z",
     "start_time": "2024-10-21T12:50:08.395635Z"
    }
   },
   "source": [
    "def train_cnn(train_loader, model, optimizer, epoch):\n",
    "    size = len(train_loader.dataset)\n",
    "    model.train()\n",
    "    for batch_idx, (data, target) in enumerate(train_loader):\n",
    "        data, target = data.to(device), target.to(device)\n",
    "        optimizer.zero_grad()  # Xóa gradient\n",
    "        output = model(data)  # Forward pass\n",
    "        # loss = F.nll_loss(output, target)  # Tính toán loss\n",
    "        loss = loss_func_cnn(output, target)\n",
    "        loss.backward()  # Backpropagation\n",
    "        optimizer.step()  # Cập nhật các tham số\n",
    "        if batch_idx % 1000 == 0:\n",
    "            loss, current = loss.item(), (batch_idx + 1) * len(data)\n",
    "            # print(f'Train Epoch: {epoch} [{batch_idx * len(data)}/{len(train_loader.dataset)}] Loss: {loss.item():.6f}')\n",
    "            print(f\"loss: {loss:>7f}  [{current:>5d}/{size:>5d}]\")\n",
    "\n",
    "# Kiểm tra mô hình trên tập test\n",
    "def test_cnn(test_loader, model):\n",
    "    model.eval()\n",
    "    test_loss = 0\n",
    "    correct = 0\n",
    "    with torch.no_grad():\n",
    "        for data, target in test_loader:\n",
    "            data, target = data.to(device), target.to(device)\n",
    "            output = model(data)\n",
    "            # test_loss += F.nll_loss(output, target, reduction='sum').item()\n",
    "            test_loss += loss_func(output, target)\n",
    "            pred = output.argmax(dim=1, keepdim=True)\n",
    "            correct += pred.eq(target.view_as(pred)).sum().item()\n",
    "\n",
    "    test_loss /= len(test_loader.dataset)\n",
    "    accuracy = correct / len(test_loader.dataset)\n",
    "    # print(f'\\nTest set: Average loss: {test_loss:.4f}, Accuracy: {correct}/{len(test_loader.dataset)} ({accuracy:.0f}%)\\n')\n",
    "    print(f\"Test Error:\\nAccuracy: {(100*accuracy):>0.1f}%, Avg loss: {test_loss:>8f} \\n\")"
   ],
   "outputs": [],
   "execution_count": 16
  },
  {
   "cell_type": "markdown",
   "id": "7aea5ce0a0ee34bf",
   "metadata": {},
   "source": [
    "#### 1.3. Perform train:"
   ]
  },
  {
   "cell_type": "code",
   "id": "5891aed74e3f3a1a",
   "metadata": {
    "ExecuteTime": {
     "end_time": "2024-10-21T12:50:08.539697Z",
     "start_time": "2024-10-21T12:50:08.406462Z"
    }
   },
   "source": [
    "rand_seed = np.random.randint(low=0, high=1000)\n",
    "X_train_20 = train_test_split(X_train, test_size=0.3, random_state=rand_seed)[1]\n",
    "Y_train_20 = train_test_split(Y_train, test_size=0.3, random_state=rand_seed)[1]\n",
    "rand_seed = np.random.randint(low=0, high=1000)\n",
    "X_test_20 = train_test_split(X_train, test_size=0.1, random_state=rand_seed)[1]\n",
    "Y_test_20 = train_test_split(Y_train, test_size=0.1, random_state=rand_seed)[1]"
   ],
   "outputs": [],
   "execution_count": 17
  },
  {
   "cell_type": "code",
   "id": "d2a2f796d4606579",
   "metadata": {
    "ExecuteTime": {
     "end_time": "2024-10-21T12:50:08.551269Z",
     "start_time": "2024-10-21T12:50:08.548842Z"
    }
   },
   "source": [
    "class TransformedTensorDataset(Dataset):\n",
    "    def __init__(self, tensor_dataset, transform=None):\n",
    "        self.tensor_dataset = tensor_dataset\n",
    "        self.transform = transform\n",
    "    def __len__(self):\n",
    "        return len(self.tensor_dataset)\n",
    "    def __getitem__(self, idx):\n",
    "        sample, label = self.tensor_dataset[idx]\n",
    "        if self.transform:\n",
    "            sample = self.transform(sample)\n",
    "            pass\n",
    "        return sample, label"
   ],
   "outputs": [],
   "execution_count": 18
  },
  {
   "cell_type": "code",
   "id": "5394cc79ac77ed9e",
   "metadata": {
    "jupyter": {
     "is_executing": true
    },
    "ExecuteTime": {
     "start_time": "2024-10-21T12:50:08.559485Z"
    }
   },
   "source": [
    "epochs = 50\n",
    "batch_size = 32\n",
    "transform = v2.Compose([\n",
    "    # v2.ToTensor(),\n",
    "    # v2.ToPILImage(),\n",
    "    # v2.PILToTensor(),\n",
    "    v2.Normalize((0.5,), (0.5,))  # scale from [0, 1] to [-1, 1]\n",
    "])\n",
    "X_train_tensor, Y_train_tensor = torch.from_numpy(X_train_20).unsqueeze(dim=1).to(dtype=torch.float32), torch.from_numpy(Y_train_20).to(dtype=torch.int64)\n",
    "X_test_tensor, Y_test_tensor = torch.from_numpy(X_test_20).float().unsqueeze(dim=1).to(dtype=torch.float32), torch.from_numpy(Y_test_20).to(dtype=torch.int64)\n",
    "train_dataset = torch.utils.data.TensorDataset(X_train_tensor, Y_train_tensor)\n",
    "test_dataset = torch.utils.data.TensorDataset(X_test_tensor, Y_test_tensor)\n",
    "train_dataset = TransformedTensorDataset(train_dataset, transform=transform)\n",
    "test_dataset = TransformedTensorDataset(test_dataset, transform=transform)\n",
    "train_dataloader = DataLoader(dataset=train_dataset, batch_size=batch_size, shuffle=True)\n",
    "test_dataloader = DataLoader(dataset=test_dataset, batch_size=batch_size, shuffle=False)\n",
    "for t in range(epochs):\n",
    "    print(f\"Epoch {t+1}\\n-------------------------------\")\n",
    "    start_nn = datetime.now()\n",
    "    train_nn(train_dataloader, model_nn, loss_func, optimizer_g)\n",
    "    end_nn = datetime.now()\n",
    "    test_nn(test_dataloader, model_nn, loss_func)\n",
    "    start_cnn = datetime.now()\n",
    "    train_cnn(train_dataloader, model_cnn, optimizer_g_cnn, t)\n",
    "    end_cnn = datetime.now()\n",
    "    test_cnn(test_dataloader, model_cnn)\n",
    "    print(f\"NN: {(end_nn - start_nn).total_seconds()} CNN: {(end_cnn - start_cnn).total_seconds()}\")\n",
    "print(\"Done!\")"
   ],
   "outputs": [
    {
     "name": "stdout",
     "output_type": "stream",
     "text": [
      "Epoch 1\n",
      "-------------------------------\n",
      "loss: 2.352147  [   32/18000]\n",
      "Test Error:\n",
      "Accuracy: 82.2%, Avg loss: 0.476687 \n",
      "\n",
      "loss: 2.293270  [   32/18000]\n",
      "Test Error:\n",
      "Accuracy: 84.7%, Avg loss: 0.012929 \n",
      "\n",
      "NN: 2.480881 CNN: 2.188024\n",
      "Epoch 2\n",
      "-------------------------------\n",
      "loss: 0.433144  [   32/18000]\n",
      "Test Error:\n",
      "Accuracy: 84.0%, Avg loss: 0.442862 \n",
      "\n",
      "loss: 0.314012  [   32/18000]\n",
      "Test Error:\n",
      "Accuracy: 88.0%, Avg loss: 0.010270 \n",
      "\n",
      "NN: 1.943974 CNN: 2.179568\n",
      "Epoch 3\n",
      "-------------------------------\n",
      "loss: 0.386626  [   32/18000]\n",
      "Test Error:\n",
      "Accuracy: 85.5%, Avg loss: 0.389594 \n",
      "\n",
      "loss: 0.357089  [   32/18000]\n",
      "Test Error:\n",
      "Accuracy: 89.3%, Avg loss: 0.009322 \n",
      "\n",
      "NN: 2.063825 CNN: 2.275266\n",
      "Epoch 4\n",
      "-------------------------------\n",
      "loss: 0.350931  [   32/18000]\n",
      "Test Error:\n",
      "Accuracy: 86.0%, Avg loss: 0.392945 \n",
      "\n",
      "loss: 0.365039  [   32/18000]\n",
      "Test Error:\n",
      "Accuracy: 89.8%, Avg loss: 0.009177 \n",
      "\n",
      "NN: 1.985728 CNN: 2.033294\n",
      "Epoch 5\n",
      "-------------------------------\n",
      "loss: 0.364125  [   32/18000]\n",
      "Test Error:\n",
      "Accuracy: 85.7%, Avg loss: 0.389343 \n",
      "\n",
      "loss: 0.385810  [   32/18000]\n",
      "Test Error:\n",
      "Accuracy: 89.2%, Avg loss: 0.009252 \n",
      "\n",
      "NN: 1.967047 CNN: 2.030633\n",
      "Epoch 6\n",
      "-------------------------------\n",
      "loss: 0.282350  [   32/18000]\n",
      "Test Error:\n",
      "Accuracy: 87.8%, Avg loss: 0.346425 \n",
      "\n",
      "loss: 0.116061  [   32/18000]\n",
      "Test Error:\n",
      "Accuracy: 90.0%, Avg loss: 0.008796 \n",
      "\n",
      "NN: 2.029104 CNN: 2.240438\n",
      "Epoch 7\n",
      "-------------------------------\n",
      "loss: 0.209506  [   32/18000]\n",
      "Test Error:\n",
      "Accuracy: 87.6%, Avg loss: 0.347426 \n",
      "\n",
      "loss: 0.227016  [   32/18000]\n",
      "Test Error:\n",
      "Accuracy: 89.8%, Avg loss: 0.009584 \n",
      "\n",
      "NN: 2.105661 CNN: 2.047092\n",
      "Epoch 8\n",
      "-------------------------------\n",
      "loss: 0.193775  [   32/18000]\n",
      "Test Error:\n",
      "Accuracy: 87.5%, Avg loss: 0.356663 \n",
      "\n",
      "loss: 0.261594  [   32/18000]\n",
      "Test Error:\n",
      "Accuracy: 92.1%, Avg loss: 0.007368 \n",
      "\n",
      "NN: 2.017459 CNN: 2.321667\n",
      "Epoch 9\n",
      "-------------------------------\n",
      "loss: 0.256660  [   32/18000]\n",
      "Test Error:\n",
      "Accuracy: 88.7%, Avg loss: 0.330696 \n",
      "\n",
      "loss: 0.030545  [   32/18000]\n",
      "Test Error:\n",
      "Accuracy: 90.9%, Avg loss: 0.009341 \n",
      "\n",
      "NN: 1.98965 CNN: 2.031522\n",
      "Epoch 10\n",
      "-------------------------------\n",
      "loss: 0.046155  [   32/18000]\n",
      "Test Error:\n",
      "Accuracy: 88.7%, Avg loss: 0.330382 \n",
      "\n",
      "loss: 0.120793  [   32/18000]\n",
      "Test Error:\n",
      "Accuracy: 91.6%, Avg loss: 0.008889 \n",
      "\n",
      "NN: 2.04598 CNN: 2.239757\n",
      "Epoch 11\n",
      "-------------------------------\n",
      "loss: 0.180071  [   32/18000]\n",
      "Test Error:\n",
      "Accuracy: 89.0%, Avg loss: 0.325989 \n",
      "\n",
      "loss: 0.243950  [   32/18000]\n",
      "Test Error:\n",
      "Accuracy: 91.8%, Avg loss: 0.008590 \n",
      "\n",
      "NN: 1.992499 CNN: 2.034348\n",
      "Epoch 12\n",
      "-------------------------------\n",
      "loss: 0.200678  [   32/18000]\n",
      "Test Error:\n",
      "Accuracy: 89.2%, Avg loss: 0.319397 \n",
      "\n",
      "loss: 0.052103  [   32/18000]\n",
      "Test Error:\n",
      "Accuracy: 92.0%, Avg loss: 0.009106 \n",
      "\n",
      "NN: 1.999967 CNN: 2.036194\n",
      "Epoch 13\n",
      "-------------------------------\n",
      "loss: 0.046839  [   32/18000]\n",
      "Test Error:\n",
      "Accuracy: 89.2%, Avg loss: 0.327384 \n",
      "\n",
      "loss: 0.049941  [   32/18000]\n",
      "Test Error:\n",
      "Accuracy: 92.0%, Avg loss: 0.009854 \n",
      "\n",
      "NN: 2.020299 CNN: 2.049555\n",
      "Epoch 14\n",
      "-------------------------------\n",
      "loss: 0.137121  [   32/18000]\n",
      "Test Error:\n",
      "Accuracy: 89.0%, Avg loss: 0.325645 \n",
      "\n",
      "loss: 0.056608  [   32/18000]\n",
      "Test Error:\n",
      "Accuracy: 92.5%, Avg loss: 0.010160 \n",
      "\n",
      "NN: 1.978078 CNN: 2.028092\n",
      "Epoch 15\n",
      "-------------------------------\n",
      "loss: 0.172274  [   32/18000]\n",
      "Test Error:\n",
      "Accuracy: 89.3%, Avg loss: 0.319481 \n",
      "\n",
      "loss: 0.039507  [   32/18000]\n",
      "Test Error:\n",
      "Accuracy: 92.4%, Avg loss: 0.010481 \n",
      "\n",
      "NN: 1.96635 CNN: 2.0905\n",
      "Epoch 16\n",
      "-------------------------------\n",
      "loss: 0.055532  [   32/18000]\n",
      "Test Error:\n",
      "Accuracy: 89.4%, Avg loss: 0.332976 \n",
      "\n",
      "loss: 0.026790  [   32/18000]\n",
      "Test Error:\n",
      "Accuracy: 91.8%, Avg loss: 0.011018 \n",
      "\n",
      "NN: 2.000047 CNN: 2.039905\n",
      "Epoch 17\n",
      "-------------------------------\n",
      "loss: 0.309204  [   32/18000]\n",
      "Test Error:\n",
      "Accuracy: 89.5%, Avg loss: 0.339256 \n",
      "\n",
      "loss: 0.005183  [   32/18000]\n",
      "Test Error:\n",
      "Accuracy: 91.9%, Avg loss: 0.011906 \n",
      "\n",
      "NN: 1.995664 CNN: 2.176252\n",
      "Epoch 18\n",
      "-------------------------------\n",
      "loss: 0.088157  [   32/18000]\n",
      "Test Error:\n",
      "Accuracy: 89.7%, Avg loss: 0.355842 \n",
      "\n",
      "loss: 0.003331  [   32/18000]\n",
      "Test Error:\n",
      "Accuracy: 92.0%, Avg loss: 0.010804 \n",
      "\n",
      "NN: 2.015053 CNN: 1.980716\n",
      "Epoch 19\n",
      "-------------------------------\n",
      "loss: 0.230970  [   32/18000]\n",
      "Test Error:\n",
      "Accuracy: 89.1%, Avg loss: 0.345946 \n",
      "\n",
      "loss: 0.070941  [   32/18000]\n",
      "Test Error:\n",
      "Accuracy: 92.1%, Avg loss: 0.012283 \n",
      "\n",
      "NN: 2.116705 CNN: 2.047048\n",
      "Epoch 20\n",
      "-------------------------------\n",
      "loss: 0.094615  [   32/18000]\n",
      "Test Error:\n",
      "Accuracy: 90.3%, Avg loss: 0.341136 \n",
      "\n",
      "loss: 0.019899  [   32/18000]\n",
      "Test Error:\n",
      "Accuracy: 91.5%, Avg loss: 0.013284 \n",
      "\n",
      "NN: 2.156672 CNN: 1.988093\n",
      "Epoch 21\n",
      "-------------------------------\n",
      "loss: 0.125605  [   32/18000]\n",
      "Test Error:\n",
      "Accuracy: 89.8%, Avg loss: 0.350580 \n",
      "\n",
      "loss: 0.180664  [   32/18000]\n",
      "Test Error:\n",
      "Accuracy: 92.4%, Avg loss: 0.012371 \n",
      "\n",
      "NN: 2.043793 CNN: 2.069901\n",
      "Epoch 22\n",
      "-------------------------------\n",
      "loss: 0.044864  [   32/18000]\n",
      "Test Error:\n",
      "Accuracy: 90.1%, Avg loss: 0.344572 \n",
      "\n",
      "loss: 0.016906  [   32/18000]\n",
      "Test Error:\n",
      "Accuracy: 93.0%, Avg loss: 0.012428 \n",
      "\n",
      "NN: 2.116079 CNN: 2.064784\n",
      "Epoch 23\n",
      "-------------------------------\n",
      "loss: 0.174205  [   32/18000]\n",
      "Test Error:\n",
      "Accuracy: 90.7%, Avg loss: 0.338453 \n",
      "\n",
      "loss: 0.015889  [   32/18000]\n",
      "Test Error:\n",
      "Accuracy: 92.9%, Avg loss: 0.013142 \n",
      "\n",
      "NN: 1.986818 CNN: 2.136262\n",
      "Epoch 24\n",
      "-------------------------------\n",
      "loss: 0.206249  [   32/18000]\n",
      "Test Error:\n",
      "Accuracy: 89.8%, Avg loss: 0.380311 \n",
      "\n",
      "loss: 0.030045  [   32/18000]\n"
     ]
    }
   ],
   "execution_count": null
  },
  {
   "cell_type": "code",
   "id": "6d87644863f43116",
   "metadata": {},
   "source": [
    "summary(model=model_cnn)\n",
    "# X_train_tensor.shape"
   ],
   "outputs": [],
   "execution_count": null
  },
  {
   "cell_type": "code",
   "id": "3b7533a2513e4094",
   "metadata": {},
   "source": [
    "X = torch.rand(1, 28, 28, device=device)\n",
    "logits = model_nn(X)\n",
    "pred_probab: torch.Tensor = nn.Softmax(dim=1)(logits)\n",
    "y_pred = pred_probab.argmax(dim=1)\n",
    "print(f\"Predicted class: {y_pred}\")"
   ],
   "outputs": [],
   "execution_count": null
  },
  {
   "cell_type": "code",
   "id": "a34f2e04149ef207",
   "metadata": {},
   "source": [
    "ts = torch.from_numpy(X_test).float()\n"
   ],
   "outputs": [],
   "execution_count": null
  },
  {
   "cell_type": "code",
   "id": "ff80878179d77db5",
   "metadata": {},
   "source": [
    "torch.manual_seed(1729)\n",
    "r1 = torch.rand(2, 2)\n",
    "print('A random tensor:')\n",
    "print(r1)"
   ],
   "outputs": [],
   "execution_count": null
  },
  {
   "cell_type": "code",
   "id": "2b75cb0210219d08",
   "metadata": {},
   "source": [],
   "outputs": [],
   "execution_count": null
  }
 ],
 "metadata": {
  "kernelspec": {
   "display_name": "learn-ml",
   "language": "python",
   "name": "python3"
  },
  "language_info": {
   "codemirror_mode": {
    "name": "ipython",
    "version": 3
   },
   "file_extension": ".py",
   "mimetype": "text/x-python",
   "name": "python",
   "nbconvert_exporter": "python",
   "pygments_lexer": "ipython3",
   "version": "3.10.13"
  }
 },
 "nbformat": 4,
 "nbformat_minor": 5
}
