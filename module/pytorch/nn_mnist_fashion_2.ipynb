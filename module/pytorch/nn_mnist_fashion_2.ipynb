{
 "cells": [
  {
   "cell_type": "code",
   "id": "2bc01a0b95cbcc4a",
   "metadata": {
    "ExecuteTime": {
     "end_time": "2024-10-21T15:16:20.340177Z",
     "start_time": "2024-10-21T15:16:18.829007Z"
    }
   },
   "source": [
    "from datetime import time, datetime\n",
    "\n",
    "import numpy as np\n",
    "import torch\n",
    "# import os\n",
    "import gzip\n",
    "import matplotlib.pyplot as plt\n",
    "import torch.nn.functional as F\n",
    "\n",
    "from torch import nn\n",
    "from torch.nn import CrossEntropyLoss\n",
    "from torch.optim import Optimizer\n",
    "from torch.utils.data import DataLoader, Dataset\n",
    "from torchinfo import summary\n",
    "\n",
    "from torchvision.transforms import v2\n",
    "from sklearn.model_selection import train_test_split\n",
    "from sklearn.metrics import accuracy_score, f1_score\n",
    "from sklearn.preprocessing import MinMaxScaler, StandardScaler\n",
    "# my project\n",
    "from module.conf import PROJECT_DIR\n",
    "\n",
    "# matplotlib.use(\"QTAgg\")\n",
    "%matplotlib inline"
   ],
   "outputs": [],
   "execution_count": 1
  },
  {
   "cell_type": "code",
   "id": "3536c3f9cf557f03",
   "metadata": {
    "ExecuteTime": {
     "end_time": "2024-10-21T15:16:20.361013Z",
     "start_time": "2024-10-21T15:16:20.344541Z"
    }
   },
   "source": [
    "# setting device on GPU if available, else CPU\n",
    "device = torch.device('cuda' if torch.cuda.is_available() else 'cpu')\n",
    "print('Using device:', device)\n",
    "#Additional Info when using cuda\n",
    "if device.type == 'cuda':\n",
    "    print(torch.cuda.get_device_name(0))\n",
    "    print('Memory Usage:')\n",
    "    print('Allocated:', round(torch.cuda.memory_allocated(0) / 1024 ** 3, 1), 'GB')\n",
    "    print('Cached:   ', round(torch.cuda.memory_reserved(0) / 1024 ** 3, 1), 'GB')\n",
    "    # torch.cuda.is_available()\n",
    "    # torch.cuda.device_count()\n",
    "    # torch.cuda.current_device()\n",
    "    # torch.cuda.device(0)\n",
    "    # torch.cuda.get_device_name(0)\n",
    "device = (\n",
    "    \"cuda\"\n",
    "    if torch.cuda.is_available()\n",
    "    else \"mps\"\n",
    "    if torch.backends.mps.is_available()\n",
    "    else \"cpu\"\n",
    ")\n",
    "# device = \"cpu\"\n",
    "print(f\"Using {device} device\")"
   ],
   "outputs": [
    {
     "name": "stdout",
     "output_type": "stream",
     "text": [
      "Using device: cpu\n",
      "Using mps device\n"
     ]
    }
   ],
   "execution_count": 2
  },
  {
   "cell_type": "markdown",
   "id": "bdce8d8969b7bd6e",
   "metadata": {},
   "source": [
    "Each training and test example is assigned to one of the following labels:\n",
    "|Label|Description|\n",
    "|-|-----|\n",
    "|0|T-shirt/top|\n",
    "|1|Trouser|\n",
    "|2|Pullover|\n",
    "|3|Dress|\n",
    "|4|Coat|\n",
    "|5|Sandal|\n",
    "|6|Shirt|\n",
    "|7|Sneaker|\n",
    "|8|Bag|\n",
    "|9|Ankle boot|"
   ]
  },
  {
   "cell_type": "code",
   "id": "bfc0b4f8240a79cd",
   "metadata": {
    "ExecuteTime": {
     "end_time": "2024-10-21T15:16:20.392312Z",
     "start_time": "2024-10-21T15:16:20.390341Z"
    }
   },
   "source": [
    "M_LABEL = {0: \"T-shirt/top\", 1: \"Trouser\", 2: \"Pullover\", 3: \"Dress\", 4: \"Coat\",\n",
    "           5: \"Sandal\", 6: \"Shirt\", 7: \"Sneaker\", 8: \"Bag\", 9: \"Ankle boot\"}"
   ],
   "outputs": [],
   "execution_count": 3
  },
  {
   "cell_type": "code",
   "id": "1ed63a8b4011445f",
   "metadata": {
    "ExecuteTime": {
     "end_time": "2024-10-21T15:16:20.399869Z",
     "start_time": "2024-10-21T15:16:20.397300Z"
    }
   },
   "source": [
    "def load_data(kind: str) -> tuple[np.ndarray, np.ndarray]:\n",
    "    fashion_mnist_path = \"/data/sample/fashion_mnist\"\n",
    "    images_path = \"\".join([PROJECT_DIR, fashion_mnist_path, f\"/{kind}-images-idx3-ubyte.gz\"])\n",
    "    labels_path = \"\".join([PROJECT_DIR, fashion_mnist_path, f\"/{kind}-labels-idx1-ubyte.gz\"])\n",
    "    with gzip.open(labels_path, 'rb') as lbpath:\n",
    "        labels = np.frombuffer(lbpath.read(), dtype=np.uint8, offset=8)\n",
    "\n",
    "    with gzip.open(images_path, 'rb') as imgpath:\n",
    "        images = np.frombuffer(imgpath.read(), dtype=np.uint8, offset=16).reshape(len(labels), 28, 28)\n",
    "\n",
    "    return images, labels"
   ],
   "outputs": [],
   "execution_count": 4
  },
  {
   "cell_type": "code",
   "id": "3982cdc028f38a23",
   "metadata": {
    "ExecuteTime": {
     "end_time": "2024-10-21T15:16:20.592402Z",
     "start_time": "2024-10-21T15:16:20.404549Z"
    }
   },
   "source": [
    "X_train, Y_train = load_data(kind='train')\n",
    "X_test, Y_test = load_data(kind='t10k')"
   ],
   "outputs": [],
   "execution_count": 5
  },
  {
   "cell_type": "code",
   "id": "dda99fbdccf4b676",
   "metadata": {
    "ExecuteTime": {
     "end_time": "2024-10-21T15:16:20.600850Z",
     "start_time": "2024-10-21T15:16:20.598759Z"
    }
   },
   "source": [
    "print(\"Training data shape:\", X_train.shape)\n",
    "print(\"Training labels shape:\", Y_train.shape)\n",
    "print(\"Test data shape:\", X_test.shape)\n",
    "print(\"Test labels shape:\", Y_test.shape)"
   ],
   "outputs": [
    {
     "name": "stdout",
     "output_type": "stream",
     "text": [
      "Training data shape: (60000, 28, 28)\n",
      "Training labels shape: (60000,)\n",
      "Test data shape: (10000, 28, 28)\n",
      "Test labels shape: (10000,)\n"
     ]
    }
   ],
   "execution_count": 6
  },
  {
   "cell_type": "code",
   "id": "892b43b1f264c93c",
   "metadata": {
    "ExecuteTime": {
     "end_time": "2024-10-21T15:16:20.663929Z",
     "start_time": "2024-10-21T15:16:20.606901Z"
    }
   },
   "source": [
    "X_train, X_test = X_train / 255.0, X_test / 255.0"
   ],
   "outputs": [],
   "execution_count": 7
  },
  {
   "cell_type": "code",
   "id": "3fbf8efcbcf65bd9",
   "metadata": {
    "ExecuteTime": {
     "end_time": "2024-10-21T15:16:20.701924Z",
     "start_time": "2024-10-21T15:16:20.670578Z"
    }
   },
   "source": [
    "ind = 1\n",
    "fig, ax = plt.subplots(figsize=(1.5, 1.5))\n",
    "ax.imshow(X=X_train[ind], cmap=\"gray\")\n",
    "plt.show()\n",
    "print(f\"Y_train[{ind}]:{Y_train[ind]}: {M_LABEL[Y_train[ind]]}\")"
   ],
   "outputs": [
    {
     "data": {
      "text/plain": [
       "<Figure size 150x150 with 1 Axes>"
      ],
      "image/png": "[encoded data removed]"
     },
     "metadata": {},
     "output_type": "display_data"
    },
    {
     "name": "stdout",
     "output_type": "stream",
     "text": [
      "Y_train[1]:0: T-shirt/top\n"
     ]
    }
   ],
   "execution_count": 8
  },
  {
   "cell_type": "markdown",
   "id": "7c2a823bbf3db921",
   "metadata": {},
   "source": [
    "### 1. PyTorch"
   ]
  },
  {
   "cell_type": "markdown",
   "id": "53c3a182046b0dd9",
   "metadata": {},
   "source": [
    "#### 1.1. Define model:"
   ]
  },
  {
   "cell_type": "code",
   "id": "4c227b1ec030f87f",
   "metadata": {
    "ExecuteTime": {
     "end_time": "2024-10-21T15:16:20.712406Z",
     "start_time": "2024-10-21T15:16:20.709631Z"
    }
   },
   "source": [
    "class NeuralNetwork(nn.Module):\n",
    "    def __init__(self):\n",
    "        super().__init__()\n",
    "        self.flatten = nn.Flatten()\n",
    "        self.linear_relu_stack = nn.Sequential(\n",
    "            nn.Linear(in_features=28 * 28, out_features=512),\n",
    "            nn.ReLU(),\n",
    "            nn.Linear(in_features=512, out_features=128),\n",
    "            nn.ReLU(),\n",
    "            nn.Linear(in_features=128, out_features=64),\n",
    "            nn.ReLU(),\n",
    "            nn.Linear(in_features=64, out_features=10),\n",
    "            # nn.Softmax(dim=1)\n",
    "        )\n",
    "        return\n",
    "\n",
    "    def forward(self, x):\n",
    "        \"\"\"\n",
    "        Override forward pass ()\n",
    "        :param x: x input data \n",
    "        :return: \n",
    "        \"\"\"\n",
    "        x = self.flatten(x)\n",
    "        logits = self.linear_relu_stack(x)\n",
    "        # return logits\n",
    "        return F.log_softmax(logits, dim=1)"
   ],
   "outputs": [],
   "execution_count": 9
  },
  {
   "metadata": {
    "ExecuteTime": {
     "end_time": "2024-10-21T15:16:20.725236Z",
     "start_time": "2024-10-21T15:16:20.721997Z"
    }
   },
   "cell_type": "code",
   "source": [
    "class CNNModel(nn.Module):\n",
    "    def __init__(self):\n",
    "        super(CNNModel, self).__init__()\n",
    "        # self.conv1 = nn.Conv2d(1, 10, kernel_size=5)\n",
    "        # self.conv2 = nn.Conv2d(10, 20, kernel_size=5)\n",
    "        # self.fc1 = nn.Linear(320, 50)\n",
    "        # self.fc2 = nn.Linear(50, 10)\n",
    "        # self.sequence = nn.Sequential(\n",
    "        #     nn.Conv2d(in_channels=1, out_channels=16, kernel_size=5),   # by default: stride = 1\n",
    "        #     nn.ReLU(),\n",
    "        #     nn.MaxPool2d(kernel_size=2),\n",
    "        #     nn.Conv2d(in_channels=16, out_channels=128, kernel_size=5),\n",
    "        #     nn.MaxPool2d(kernel_size=2),    # by default: kernel_size = stride \n",
    "        #     nn.ReLU(),\n",
    "        #     nn.Flatten(),\n",
    "        #     nn.Linear(in_features=2048, out_features=64), # in_features = 2048 will be calculated automatically\n",
    "        #     nn.Linear(in_features=64, out_features=10),\n",
    "        #     # nn.LogSoftmax(dim=1), # ~ SparseCategoricalCrossEntropy\n",
    "        #     nn.LogSigmoid()\n",
    "        # )\n",
    "        self.conv_layers = nn.Sequential(\n",
    "            nn.Conv2d(in_channels=1, out_channels=64, kernel_size=5),   # (28-5+1) x (28-5+1) = 24 x 24\n",
    "            nn.ReLU(),\n",
    "            nn.MaxPool2d(kernel_size=2),  # (24/2) x (24/2) = 12 x 12\n",
    "            nn.Conv2d(in_channels=64, out_channels=128, kernel_size=5),  # (12-5+1) x (12-5+1) = 8 x 8\n",
    "            nn.ReLU(),\n",
    "            nn.MaxPool2d(kernel_size=2)   # (8/2) x (8/2) = 4 x 4\n",
    "        )\n",
    "        self.fc_layers = nn.Sequential(\n",
    "            nn.Flatten(),\n",
    "            nn.Linear(in_features=128 * 4 * 4, out_features=64),  # 32 channel, 4 * 4 size\n",
    "            nn.ReLU(),\n",
    "            nn.Linear(in_features=64, out_features=10)  # 10 classes (0-9) for Fashion MNIST\n",
    "        )\n",
    "\n",
    "    def forward(self, x):\n",
    "        # x = F.relu(F.max_pool2d(self.conv1(x), 2))\n",
    "        # x = F.relu(F.max_pool2d(self.conv2(x), 2))\n",
    "        # x = x.view(-1, 320)\n",
    "        # print(f\"--x.shape: {x.shape}\")\n",
    "        # x = F.relu(self.fc1(x))\n",
    "        # x = self.fc2(x)\n",
    "        # return F.log_softmax(x, dim=1)\n",
    "        # return self.sequence(x)\n",
    "        # return F.log_softmax(x(self.sequence(x)), dim=1)\n",
    "        x = self.conv_layers(x)\n",
    "        x = self.fc_layers(x)\n",
    "        return x"
   ],
   "id": "897bd03ac752d94e",
   "outputs": [],
   "execution_count": 10
  },
  {
   "cell_type": "markdown",
   "id": "3e759740ebeb2d0e",
   "metadata": {},
   "source": "#### 1.2. Define Train and Test functions:"
  },
  {
   "cell_type": "code",
   "id": "592d86018ab1c0d4",
   "metadata": {
    "ExecuteTime": {
     "end_time": "2024-10-21T15:16:20.733935Z",
     "start_time": "2024-10-21T15:16:20.731152Z"
    }
   },
   "source": [
    "def train(dataloader: DataLoader, model: nn.Module, loss_fn: CrossEntropyLoss, optimizer: Optimizer, epoch: int) -> None:\n",
    "    size = len(dataloader.dataset)\n",
    "    model.train()\n",
    "    for batch, (X, y) in enumerate(dataloader):\n",
    "        X, y = X.to(device=device), y.to(device=device)\n",
    "        # reset grad before start new batch\n",
    "        optimizer.zero_grad()   \n",
    "        # Compute prediction error\n",
    "        pred:torch.Tensor = model(X)\n",
    "        loss:torch.Tensor = loss_fn(pred, y)\n",
    "        # Backpropagation\n",
    "        loss.backward()     # calculate the final grad to first grad\n",
    "        optimizer.step()    # update W and b\n",
    "        \n",
    "        if batch % 1000 == 0:\n",
    "            loss, current = loss.item(), (batch + 1) * len(X)\n",
    "            print(f\"Train loss: {loss:>7f}  [{current:>5d}/{size:>5d}]\")\n",
    "    return"
   ],
   "outputs": [],
   "execution_count": 11
  },
  {
   "cell_type": "code",
   "id": "22280b95484495b0",
   "metadata": {
    "ExecuteTime": {
     "end_time": "2024-10-21T15:16:20.742890Z",
     "start_time": "2024-10-21T15:16:20.740118Z"
    }
   },
   "source": [
    "def test(dataloader: DataLoader, model: nn.Module, loss_fn: CrossEntropyLoss) -> None:\n",
    "    size = len(dataloader.dataset)\n",
    "    num_batches = len(dataloader)\n",
    "    model.eval()\n",
    "    test_loss, correct = 0, 0\n",
    "    with torch.no_grad():\n",
    "        for X, y in dataloader:\n",
    "            X, y = X.to(device=device), y.to(device=device)\n",
    "            pred = model(X)\n",
    "            test_loss += loss_fn(pred, y).item()\n",
    "            pred_probab: torch.Tensor = nn.Softmax(dim=1)(pred)\n",
    "            correct += (pred_probab.argmax(dim=1) == y).type(torch.float).sum().item()\n",
    "    test_loss /= num_batches\n",
    "    correct /= size\n",
    "    print(f\"Test Error:\\nAccuracy: {(100*correct):>0.1f}%, Avg loss: {test_loss:>8f}\")\n",
    "    return"
   ],
   "outputs": [],
   "execution_count": 12
  },
  {
   "cell_type": "markdown",
   "id": "7aea5ce0a0ee34bf",
   "metadata": {},
   "source": [
    "#### 1.3. Perform train:"
   ]
  },
  {
   "metadata": {
    "ExecuteTime": {
     "end_time": "2024-10-21T15:16:20.772722Z",
     "start_time": "2024-10-21T15:16:20.763104Z"
    }
   },
   "cell_type": "code",
   "source": [
    "model_nn = NeuralNetwork().to(device)\n",
    "loss_func_nn = nn.CrossEntropyLoss()\n",
    "optimizer_g_nn = torch.optim.Adam(params=model_nn.parameters(), lr=1e-3)"
   ],
   "id": "4a6f25758157939a",
   "outputs": [],
   "execution_count": 15
  },
  {
   "metadata": {
    "ExecuteTime": {
     "end_time": "2024-10-21T15:16:20.785191Z",
     "start_time": "2024-10-21T15:16:20.779068Z"
    }
   },
   "cell_type": "code",
   "source": [
    "model_cnn = CNNModel().to(device)\n",
    "loss_func_cnn = nn.CrossEntropyLoss()\n",
    "optimizer_g_cnn = torch.optim.Adam(params=model_cnn.parameters(), lr=1e-3)"
   ],
   "id": "39da2b605e9650de",
   "outputs": [],
   "execution_count": 16
  },
  {
   "cell_type": "code",
   "id": "5891aed74e3f3a1a",
   "metadata": {
    "ExecuteTime": {
     "end_time": "2024-10-21T15:16:20.914168Z",
     "start_time": "2024-10-21T15:16:20.791922Z"
    }
   },
   "source": [
    "rand_seed = np.random.randint(low=0, high=1000)\n",
    "X_train_20 = train_test_split(X_train, test_size=0.65, random_state=rand_seed)[1]\n",
    "Y_train_20 = train_test_split(Y_train, test_size=0.65, random_state=rand_seed)[1]\n",
    "rand_seed = np.random.randint(low=0, high=1000)\n",
    "X_test_20 = train_test_split(X_train, test_size=0.65, random_state=rand_seed)[1]\n",
    "Y_test_20 = train_test_split(Y_train, test_size=0.65, random_state=rand_seed)[1]"
   ],
   "outputs": [],
   "execution_count": 17
  },
  {
   "cell_type": "code",
   "id": "d2a2f796d4606579",
   "metadata": {
    "ExecuteTime": {
     "end_time": "2024-10-21T15:16:20.924569Z",
     "start_time": "2024-10-21T15:16:20.922053Z"
    }
   },
   "source": [
    "class TransformedTensorDataset(Dataset):\n",
    "    def __init__(self, tensor_dataset, transform=None):\n",
    "        self.tensor_dataset = tensor_dataset\n",
    "        self.transform = transform\n",
    "    def __len__(self):\n",
    "        return len(self.tensor_dataset)\n",
    "    def __getitem__(self, idx):\n",
    "        sample, label = self.tensor_dataset[idx]\n",
    "        if self.transform:\n",
    "            sample = self.transform(sample)\n",
    "            pass\n",
    "        return sample, label"
   ],
   "outputs": [],
   "execution_count": 18
  },
  {
   "cell_type": "code",
   "id": "5394cc79ac77ed9e",
   "metadata": {
    "ExecuteTime": {
     "end_time": "2024-10-21T15:18:54.923309Z",
     "start_time": "2024-10-21T15:16:20.933111Z"
    }
   },
   "source": [
    "epochs = 10\n",
    "batch_size = 32\n",
    "transform = v2.Compose([\n",
    "    # v2.ToTensor(),\n",
    "    # v2.ToPILImage(),\n",
    "    # v2.PILToTensor(),\n",
    "    v2.Normalize((0.5,), (0.5,))  # scale from [0, 1] to [-1, 1]\n",
    "])\n",
    "X_train_tensor, Y_train_tensor = torch.from_numpy(X_train_20).unsqueeze(dim=1).to(dtype=torch.float32), torch.from_numpy(Y_train_20).to(dtype=torch.int64)\n",
    "X_test_tensor, Y_test_tensor = torch.from_numpy(X_test_20).float().unsqueeze(dim=1).to(dtype=torch.float32), torch.from_numpy(Y_test_20).to(dtype=torch.int64)\n",
    "train_dataset = torch.utils.data.TensorDataset(X_train_tensor, Y_train_tensor)\n",
    "test_dataset = torch.utils.data.TensorDataset(X_test_tensor, Y_test_tensor)\n",
    "train_dataset = TransformedTensorDataset(train_dataset, transform=transform)\n",
    "test_dataset = TransformedTensorDataset(test_dataset, transform=transform)\n",
    "train_dataloader = DataLoader(dataset=train_dataset, batch_size=batch_size, shuffle=True)\n",
    "test_dataloader = DataLoader(dataset=test_dataset, batch_size=batch_size, shuffle=False)\n",
    "for t in range(epochs):\n",
    "    print(f\"\\nEpoch {t+1}\\n-------------------------------\")\n",
    "    start_nn = datetime.now()\n",
    "    train(train_dataloader, model_nn, loss_func_nn, optimizer_g_nn, t)\n",
    "    end_nn = datetime.now()\n",
    "    test(test_dataloader, model_nn, loss_func_nn)\n",
    "    print(f\"NN: {(end_nn - start_nn).total_seconds()}\")\n",
    "    start_cnn = datetime.now()\n",
    "    train(train_dataloader, model_cnn, loss_func_cnn, optimizer_g_cnn, t)\n",
    "    end_cnn = datetime.now()\n",
    "    test(test_dataloader, model_cnn, loss_func_cnn)\n",
    "    print(f\"CNN: {(end_cnn - start_cnn).total_seconds()}\")\n",
    "print(\"Done!\")"
   ],
   "outputs": [
    {
     "name": "stdout",
     "output_type": "stream",
     "text": [
      "\n",
      "Epoch 1\n",
      "-------------------------------\n",
      "Train loss: 2.315271  [   32/39000]\n",
      "Train loss: 0.725329  [32032/39000]\n",
      "Test Error:\n",
      "Accuracy: 84.0%, Avg loss: 0.433715\n",
      "NN: 4.315717\n",
      "Train loss: 2.321417  [   32/39000]\n",
      "Train loss: 0.442305  [32032/39000]\n",
      "Test Error:\n",
      "Accuracy: 88.8%, Avg loss: 0.310836\n",
      "CNN: 6.052933\n",
      "\n",
      "Epoch 2\n",
      "-------------------------------\n",
      "Train loss: 0.197560  [   32/39000]\n",
      "Train loss: 0.218953  [32032/39000]\n",
      "Test Error:\n",
      "Accuracy: 86.7%, Avg loss: 0.360045\n",
      "NN: 4.114402\n",
      "Train loss: 0.276880  [   32/39000]\n",
      "Train loss: 0.290761  [32032/39000]\n",
      "Test Error:\n",
      "Accuracy: 90.0%, Avg loss: 0.277589\n",
      "CNN: 6.166145\n",
      "\n",
      "Epoch 3\n",
      "-------------------------------\n",
      "Train loss: 0.316878  [   32/39000]\n",
      "Train loss: 0.667920  [32032/39000]\n",
      "Test Error:\n",
      "Accuracy: 87.6%, Avg loss: 0.335852\n",
      "NN: 4.168205\n",
      "Train loss: 0.277144  [   32/39000]\n",
      "Train loss: 0.268160  [32032/39000]\n",
      "Test Error:\n",
      "Accuracy: 90.2%, Avg loss: 0.280069\n",
      "CNN: 6.11579\n",
      "\n",
      "Epoch 4\n",
      "-------------------------------\n",
      "Train loss: 0.162185  [   32/39000]\n",
      "Train loss: 0.389845  [32032/39000]\n",
      "Test Error:\n",
      "Accuracy: 88.1%, Avg loss: 0.319516\n",
      "NN: 4.237358\n",
      "Train loss: 0.189384  [   32/39000]\n",
      "Train loss: 0.371999  [32032/39000]\n",
      "Test Error:\n",
      "Accuracy: 92.9%, Avg loss: 0.201423\n",
      "CNN: 6.185854\n",
      "\n",
      "Epoch 5\n",
      "-------------------------------\n",
      "Train loss: 0.059112  [   32/39000]\n",
      "Train loss: 0.195453  [32032/39000]\n",
      "Test Error:\n",
      "Accuracy: 89.3%, Avg loss: 0.292986\n",
      "NN: 4.167459\n",
      "Train loss: 0.205774  [   32/39000]\n",
      "Train loss: 0.130109  [32032/39000]\n",
      "Test Error:\n",
      "Accuracy: 93.1%, Avg loss: 0.194927\n",
      "CNN: 6.402712\n",
      "\n",
      "Epoch 6\n",
      "-------------------------------\n",
      "Train loss: 0.148271  [   32/39000]\n",
      "Train loss: 0.209200  [32032/39000]\n",
      "Test Error:\n",
      "Accuracy: 89.4%, Avg loss: 0.285409\n",
      "NN: 4.239677\n",
      "Train loss: 0.282315  [   32/39000]\n",
      "Train loss: 0.116785  [32032/39000]\n",
      "Test Error:\n",
      "Accuracy: 93.7%, Avg loss: 0.182771\n",
      "CNN: 6.399308\n",
      "\n",
      "Epoch 7\n",
      "-------------------------------\n",
      "Train loss: 0.231408  [   32/39000]\n",
      "Train loss: 0.391351  [32032/39000]\n",
      "Test Error:\n",
      "Accuracy: 88.2%, Avg loss: 0.314509\n",
      "NN: 4.257406\n",
      "Train loss: 0.087245  [   32/39000]\n",
      "Train loss: 0.052495  [32032/39000]\n",
      "Test Error:\n",
      "Accuracy: 93.6%, Avg loss: 0.184848\n",
      "CNN: 5.986805\n",
      "\n",
      "Epoch 8\n",
      "-------------------------------\n",
      "Train loss: 0.245831  [   32/39000]\n",
      "Train loss: 0.144322  [32032/39000]\n",
      "Test Error:\n",
      "Accuracy: 89.0%, Avg loss: 0.288302\n",
      "NN: 4.202771\n",
      "Train loss: 0.198875  [   32/39000]\n",
      "Train loss: 0.037566  [32032/39000]\n",
      "Test Error:\n",
      "Accuracy: 94.7%, Avg loss: 0.159494\n",
      "CNN: 5.965013\n",
      "\n",
      "Epoch 9\n",
      "-------------------------------\n",
      "Train loss: 0.196141  [   32/39000]\n",
      "Train loss: 0.135361  [32032/39000]\n",
      "Test Error:\n",
      "Accuracy: 90.5%, Avg loss: 0.264675\n",
      "NN: 4.251419\n",
      "Train loss: 0.117463  [   32/39000]\n",
      "Train loss: 0.110501  [32032/39000]\n",
      "Test Error:\n",
      "Accuracy: 94.1%, Avg loss: 0.178420\n",
      "CNN: 6.05711\n",
      "\n",
      "Epoch 10\n",
      "-------------------------------\n",
      "Train loss: 0.110748  [   32/39000]\n",
      "Train loss: 0.147117  [32032/39000]\n",
      "Test Error:\n",
      "Accuracy: 90.6%, Avg loss: 0.263750\n",
      "NN: 4.257661\n",
      "Train loss: 0.124587  [   32/39000]\n",
      "Train loss: 0.154031  [32032/39000]\n",
      "Test Error:\n",
      "Accuracy: 94.8%, Avg loss: 0.168296\n",
      "CNN: 5.845534\n",
      "Done!\n"
     ]
    }
   ],
   "execution_count": 19
  },
  {
   "cell_type": "code",
   "id": "6d87644863f43116",
   "metadata": {
    "ExecuteTime": {
     "end_time": "2024-10-21T15:18:54.937076Z",
     "start_time": "2024-10-21T15:18:54.934238Z"
    }
   },
   "source": [
    "summary(model=model_cnn)\n",
    "# X_train_tensor.shape"
   ],
   "outputs": [
    {
     "data": {
      "text/plain": [
       "=================================================================\n",
       "Layer (type:depth-idx)                   Param #\n",
       "=================================================================\n",
       "CNNModel                                 --\n",
       "├─Sequential: 1-1                        --\n",
       "│    └─Conv2d: 2-1                       1,664\n",
       "│    └─ReLU: 2-2                         --\n",
       "│    └─MaxPool2d: 2-3                    --\n",
       "│    └─Conv2d: 2-4                       204,928\n",
       "│    └─ReLU: 2-5                         --\n",
       "│    └─MaxPool2d: 2-6                    --\n",
       "├─Sequential: 1-2                        --\n",
       "│    └─Flatten: 2-7                      --\n",
       "│    └─Linear: 2-8                       131,136\n",
       "│    └─ReLU: 2-9                         --\n",
       "│    └─Linear: 2-10                      650\n",
       "=================================================================\n",
       "Total params: 338,378\n",
       "Trainable params: 338,378\n",
       "Non-trainable params: 0\n",
       "================================================================="
      ]
     },
     "execution_count": 20,
     "metadata": {},
     "output_type": "execute_result"
    }
   ],
   "execution_count": 20
  },
  {
   "cell_type": "code",
   "id": "3b7533a2513e4094",
   "metadata": {
    "ExecuteTime": {
     "end_time": "2024-10-21T15:18:55.047284Z",
     "start_time": "2024-10-21T15:18:55.008836Z"
    }
   },
   "source": [
    "X = torch.rand(1, 28, 28, device=device)\n",
    "logits = model_nn(X)\n",
    "pred_probab: torch.Tensor = nn.Softmax(dim=1)(logits)\n",
    "y_pred = pred_probab.argmax(dim=1)\n",
    "print(f\"Predicted class: {y_pred}\")"
   ],
   "outputs": [
    {
     "name": "stdout",
     "output_type": "stream",
     "text": [
      "Predicted class: tensor([0], device='mps:0')\n"
     ]
    }
   ],
   "execution_count": 21
  },
  {
   "cell_type": "code",
   "id": "a34f2e04149ef207",
   "metadata": {
    "ExecuteTime": {
     "end_time": "2024-10-21T15:18:55.265802Z",
     "start_time": "2024-10-21T15:18:55.262305Z"
    }
   },
   "source": [
    "ts = torch.from_numpy(X_test).float()\n"
   ],
   "outputs": [],
   "execution_count": 22
  },
  {
   "cell_type": "code",
   "id": "ff80878179d77db5",
   "metadata": {
    "ExecuteTime": {
     "end_time": "2024-10-21T15:18:55.412374Z",
     "start_time": "2024-10-21T15:18:55.408214Z"
    }
   },
   "source": [
    "torch.manual_seed(1729)\n",
    "r1 = torch.rand(2, 2)\n",
    "print('A random tensor:')\n",
    "print(r1)"
   ],
   "outputs": [
    {
     "name": "stdout",
     "output_type": "stream",
     "text": [
      "A random tensor:\n",
      "tensor([[0.3126, 0.3791],\n",
      "        [0.3087, 0.0736]])\n"
     ]
    }
   ],
   "execution_count": 23
  },
  {
   "cell_type": "code",
   "id": "2b75cb0210219d08",
   "metadata": {
    "ExecuteTime": {
     "end_time": "2024-10-21T15:18:55.549206Z",
     "start_time": "2024-10-21T15:18:55.547835Z"
    }
   },
   "source": [],
   "outputs": [],
   "execution_count": null
  }
 ],
 "metadata": {
  "kernelspec": {
   "display_name": "learn-ml",
   "language": "python",
   "name": "python3"
  },
  "language_info": {
   "codemirror_mode": {
    "name": "ipython",
    "version": 3
   },
   "file_extension": ".py",
   "mimetype": "text/x-python",
   "name": "python",
   "nbconvert_exporter": "python",
   "pygments_lexer": "ipython3",
   "version": "3.10.13"
  }
 },
 "nbformat": 4,
 "nbformat_minor": 5
}
