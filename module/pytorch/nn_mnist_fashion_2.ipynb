{
 "cells": [
  {
   "metadata": {
    "ExecuteTime": {
     "end_time": "2024-10-19T17:51:29.870950Z",
     "start_time": "2024-10-19T17:51:27.024355Z"
    }
   },
   "cell_type": "code",
   "source": [
    "from datetime import time, datetime\n",
    "\n",
    "import numpy as np\n",
    "import torch\n",
    "# import os\n",
    "import gzip\n",
    "import matplotlib.pyplot as plt\n",
    "import torch.nn.functional as F\n",
    "from keras.layers.preprocessing.image_preprocessing import transform\n",
    "from keras.src.ops import dtype\n",
    "from tensorboard import summary\n",
    "\n",
    "from torch import nn\n",
    "from torch.nn import CrossEntropyLoss\n",
    "from torch.optim import Optimizer\n",
    "from torch.utils.data import DataLoader, Dataset\n",
    "from torchinfo import summary\n",
    "\n",
    "# from torchvision import datasets\n",
    "from torchvision.transforms import ToTensor, transforms\n",
    "from sklearn.model_selection import train_test_split\n",
    "from sklearn.metrics import accuracy_score, f1_score\n",
    "from sklearn.preprocessing import MinMaxScaler, StandardScaler\n",
    "# my project\n",
    "from module.conf import PROJECT_DIR\n",
    "\n",
    "# matplotlib.use(\"QTAgg\")\n",
    "%matplotlib inline"
   ],
   "id": "2bc01a0b95cbcc4a",
   "outputs": [],
   "execution_count": 1
  },
  {
   "metadata": {
    "ExecuteTime": {
     "end_time": "2024-10-19T17:51:29.894705Z",
     "start_time": "2024-10-19T17:51:29.874272Z"
    }
   },
   "cell_type": "code",
   "source": [
    "# setting device on GPU if available, else CPU\n",
    "device = torch.device('cuda' if torch.cuda.is_available() else 'cpu')\n",
    "print('Using device:', device)\n",
    "#Additional Info when using cuda\n",
    "if device.type == 'cuda':\n",
    "    print(torch.cuda.get_device_name(0))\n",
    "    print('Memory Usage:')\n",
    "    print('Allocated:', round(torch.cuda.memory_allocated(0) / 1024 ** 3, 1), 'GB')\n",
    "    print('Cached:   ', round(torch.cuda.memory_reserved(0) / 1024 ** 3, 1), 'GB')\n",
    "    # torch.cuda.is_available()\n",
    "    # torch.cuda.device_count()\n",
    "    # torch.cuda.current_device()\n",
    "    # torch.cuda.device(0)\n",
    "    # torch.cuda.get_device_name(0)\n",
    "device = (\n",
    "    \"cuda\"\n",
    "    if torch.cuda.is_available()\n",
    "    else \"mps\"\n",
    "    if torch.backends.mps.is_available()\n",
    "    else \"cpu\"\n",
    ")\n",
    "# device = \"cpu\"\n",
    "print(f\"Using {device} device\")"
   ],
   "id": "3536c3f9cf557f03",
   "outputs": [
    {
     "name": "stdout",
     "output_type": "stream",
     "text": [
      "Using device: cpu\n",
      "Using mps device\n"
     ]
    }
   ],
   "execution_count": 2
  },
  {
   "metadata": {},
   "cell_type": "markdown",
   "source": [
    "Each training and test example is assigned to one of the following labels:\n",
    "|Label|Description|\n",
    "|-|-----|\n",
    "|0|T-shirt/top|\n",
    "|1|Trouser|\n",
    "|2|Pullover|\n",
    "|3|Dress|\n",
    "|4|Coat|\n",
    "|5|Sandal|\n",
    "|6|Shirt|\n",
    "|7|Sneaker|\n",
    "|8|Bag|\n",
    "|9|Ankle boot|"
   ],
   "id": "bdce8d8969b7bd6e"
  },
  {
   "metadata": {
    "ExecuteTime": {
     "end_time": "2024-10-19T17:51:29.930277Z",
     "start_time": "2024-10-19T17:51:29.928292Z"
    }
   },
   "cell_type": "code",
   "source": [
    "M_LABEL = {0: \"T-shirt/top\", 1: \"Trouser\", 2: \"Pullover\", 3: \"Dress\", 4: \"Coat\",\n",
    "           5: \"Sandal\", 6: \"Shirt\", 7: \"Sneaker\", 8: \"Bag\", 9: \"Ankle boot\"}"
   ],
   "id": "bfc0b4f8240a79cd",
   "outputs": [],
   "execution_count": 3
  },
  {
   "metadata": {
    "ExecuteTime": {
     "end_time": "2024-10-19T17:51:29.937061Z",
     "start_time": "2024-10-19T17:51:29.934717Z"
    }
   },
   "cell_type": "code",
   "source": [
    "def load_data(kind: str) -> tuple[np.ndarray, np.ndarray]:\n",
    "    fashion_mnist_path = \"/data/sample/fashion_mnist\"\n",
    "    images_path = \"\".join([PROJECT_DIR, fashion_mnist_path, f\"/{kind}-images-idx3-ubyte.gz\"])\n",
    "    labels_path = \"\".join([PROJECT_DIR, fashion_mnist_path, f\"/{kind}-labels-idx1-ubyte.gz\"])\n",
    "    with gzip.open(labels_path, 'rb') as lbpath:\n",
    "        labels = np.frombuffer(lbpath.read(), dtype=np.uint8, offset=8)\n",
    "\n",
    "    with gzip.open(images_path, 'rb') as imgpath:\n",
    "        images = np.frombuffer(imgpath.read(), dtype=np.uint8, offset=16).reshape(len(labels), 28, 28)\n",
    "\n",
    "    return images, labels"
   ],
   "id": "1ed63a8b4011445f",
   "outputs": [],
   "execution_count": 4
  },
  {
   "metadata": {
    "ExecuteTime": {
     "end_time": "2024-10-19T17:51:30.126361Z",
     "start_time": "2024-10-19T17:51:29.940979Z"
    }
   },
   "cell_type": "code",
   "source": [
    "X_train, Y_train = load_data(kind='train')\n",
    "X_test, Y_test = load_data(kind='t10k')"
   ],
   "id": "3982cdc028f38a23",
   "outputs": [],
   "execution_count": 5
  },
  {
   "metadata": {
    "ExecuteTime": {
     "end_time": "2024-10-19T17:51:30.134620Z",
     "start_time": "2024-10-19T17:51:30.132498Z"
    }
   },
   "cell_type": "code",
   "source": [
    "print(\"Training data shape:\", X_train.shape)\n",
    "print(\"Training labels shape:\", Y_train.shape)\n",
    "print(\"Test data shape:\", X_test.shape)\n",
    "print(\"Test labels shape:\", Y_test.shape)"
   ],
   "id": "dda99fbdccf4b676",
   "outputs": [
    {
     "name": "stdout",
     "output_type": "stream",
     "text": [
      "Training data shape: (60000, 28, 28)\n",
      "Training labels shape: (60000,)\n",
      "Test data shape: (10000, 28, 28)\n",
      "Test labels shape: (10000,)\n"
     ]
    }
   ],
   "execution_count": 6
  },
  {
   "metadata": {
    "ExecuteTime": {
     "end_time": "2024-10-19T17:51:30.198497Z",
     "start_time": "2024-10-19T17:51:30.140280Z"
    }
   },
   "cell_type": "code",
   "source": "X_train, X_test = X_train / 255.0, X_test / 255.0",
   "id": "892b43b1f264c93c",
   "outputs": [],
   "execution_count": 7
  },
  {
   "metadata": {
    "ExecuteTime": {
     "end_time": "2024-10-19T17:51:30.237343Z",
     "start_time": "2024-10-19T17:51:30.204734Z"
    }
   },
   "cell_type": "code",
   "source": [
    "ind = 1\n",
    "fig, ax = plt.subplots(figsize=(1.5, 1.5))\n",
    "ax.imshow(X=X_train[ind], cmap=\"gray\")\n",
    "plt.show()\n",
    "print(f\"Y_train[{ind}]:{Y_train[ind]}: {M_LABEL[Y_train[ind]]}\")"
   ],
   "id": "3fbf8efcbcf65bd9",
   "outputs": [
    {
     "data": {
      "text/plain": [
       "<Figure size 150x150 with 1 Axes>"
      ],
      "image/png": "[encoded data removed]"
     },
     "metadata": {},
     "output_type": "display_data"
    },
    {
     "name": "stdout",
     "output_type": "stream",
     "text": [
      "Y_train[1]:0: T-shirt/top\n"
     ]
    }
   ],
   "execution_count": 8
  },
  {
   "metadata": {},
   "cell_type": "markdown",
   "source": "### 1. PyTorch",
   "id": "7c2a823bbf3db921"
  },
  {
   "metadata": {},
   "cell_type": "markdown",
   "source": "#### 1.1. Define model:",
   "id": "53c3a182046b0dd9"
  },
  {
   "metadata": {
    "ExecuteTime": {
     "end_time": "2024-10-19T17:51:30.247200Z",
     "start_time": "2024-10-19T17:51:30.244499Z"
    }
   },
   "cell_type": "code",
   "source": [
    "class NeuralNetwork(nn.Module):\n",
    "    def __init__(self):\n",
    "        super().__init__()\n",
    "        self.flatten = nn.Flatten()\n",
    "        self.linear_relu_stack = nn.Sequential(\n",
    "            nn.Linear(in_features=28 * 28, out_features=512),\n",
    "            nn.ReLU(),\n",
    "            nn.Linear(in_features=512, out_features=128),\n",
    "            nn.ReLU(),\n",
    "            nn.Linear(in_features=128, out_features=64),\n",
    "            nn.ReLU(),\n",
    "            nn.Linear(in_features=64, out_features=10),\n",
    "            # nn.Softmax(dim=1)\n",
    "        )\n",
    "        return\n",
    "\n",
    "    def forward(self, x):\n",
    "        \"\"\"\n",
    "        Override forward pass ()\n",
    "        :param x: x input data \n",
    "        :return: \n",
    "        \"\"\"\n",
    "        x = self.flatten(x)\n",
    "        logits = self.linear_relu_stack(x)\n",
    "        # return logits\n",
    "        return F.log_softmax(logits, dim=1)"
   ],
   "id": "4c227b1ec030f87f",
   "outputs": [],
   "execution_count": 9
  },
  {
   "metadata": {
    "ExecuteTime": {
     "end_time": "2024-10-19T17:51:30.263918Z",
     "start_time": "2024-10-19T17:51:30.254161Z"
    }
   },
   "cell_type": "code",
   "source": [
    "model_nn = NeuralNetwork().to(device)\n",
    "print(model_nn)"
   ],
   "id": "f3f3601f50f63d36",
   "outputs": [
    {
     "name": "stdout",
     "output_type": "stream",
     "text": [
      "NeuralNetwork(\n",
      "  (flatten): Flatten(start_dim=1, end_dim=-1)\n",
      "  (linear_relu_stack): Sequential(\n",
      "    (0): Linear(in_features=784, out_features=512, bias=True)\n",
      "    (1): ReLU()\n",
      "    (2): Linear(in_features=512, out_features=128, bias=True)\n",
      "    (3): ReLU()\n",
      "    (4): Linear(in_features=128, out_features=64, bias=True)\n",
      "    (5): ReLU()\n",
      "    (6): Linear(in_features=64, out_features=10, bias=True)\n",
      "  )\n",
      ")\n"
     ]
    }
   ],
   "execution_count": 10
  },
  {
   "metadata": {},
   "cell_type": "markdown",
   "source": "#### 1.2. Define Train and Test functions:",
   "id": "3e759740ebeb2d0e"
  },
  {
   "metadata": {
    "ExecuteTime": {
     "end_time": "2024-10-19T17:51:30.272589Z",
     "start_time": "2024-10-19T17:51:30.270429Z"
    }
   },
   "cell_type": "code",
   "source": [
    "loss_func = nn.CrossEntropyLoss()\n",
    "optimizer_g = torch.optim.Adam(params=model_nn.parameters(), lr=1e-3)"
   ],
   "id": "f86210c4ef1d2d3c",
   "outputs": [],
   "execution_count": 11
  },
  {
   "metadata": {
    "ExecuteTime": {
     "end_time": "2024-10-19T17:51:30.281583Z",
     "start_time": "2024-10-19T17:51:30.278849Z"
    }
   },
   "cell_type": "code",
   "source": [
    "def train_nn(dataloader: DataLoader, model: nn.Module, loss_fn: CrossEntropyLoss, optimizer: Optimizer) -> None:\n",
    "    size = len(dataloader.dataset)\n",
    "    model.train()\n",
    "    for batch, (X, y) in enumerate(dataloader):\n",
    "        X, y = X.to(device=device), y.to(device=device)\n",
    "        # reset grad before start new batch\n",
    "        optimizer.zero_grad()   \n",
    "        # Compute prediction error\n",
    "        pred:torch.Tensor = model(X)\n",
    "        loss:torch.Tensor = loss_fn(pred, y)\n",
    "        # Backpropagation\n",
    "        loss.backward()     # calculate the final grad to first grad\n",
    "        optimizer.step()    # update W and b\n",
    "        \n",
    "        if batch % 1000 == 0:\n",
    "            loss, current = loss.item(), (batch + 1) * len(X)\n",
    "            print(f\"loss: {loss:>7f}  [{current:>5d}/{size:>5d}]\")\n",
    "    return"
   ],
   "id": "592d86018ab1c0d4",
   "outputs": [],
   "execution_count": 12
  },
  {
   "metadata": {
    "ExecuteTime": {
     "end_time": "2024-10-19T17:51:30.290049Z",
     "start_time": "2024-10-19T17:51:30.287520Z"
    }
   },
   "cell_type": "code",
   "source": [
    "def test_nn(dataloader: DataLoader, model: nn.Module, loss_fn: CrossEntropyLoss) -> None:\n",
    "    size = len(dataloader.dataset)\n",
    "    num_batches = len(dataloader)\n",
    "    model.eval()\n",
    "    test_loss, correct = 0, 0\n",
    "    with torch.no_grad():\n",
    "        for X, y in dataloader:\n",
    "            X, y = X.to(device=device), y.to(device=device)\n",
    "            pred = model(X)\n",
    "            test_loss += loss_fn(pred, y).item()\n",
    "            pred_probab: torch.Tensor = nn.Softmax(dim=1)(pred)\n",
    "            correct += (pred_probab.argmax(dim=1) == y).type(torch.float).sum().item()\n",
    "    test_loss /= num_batches\n",
    "    correct /= size\n",
    "    print(f\"Test Error:\\nAccuracy: {(100*correct):>0.1f}%, Avg loss: {test_loss:>8f} \\n\")\n",
    "    return"
   ],
   "id": "22280b95484495b0",
   "outputs": [],
   "execution_count": 13
  },
  {
   "metadata": {
    "ExecuteTime": {
     "end_time": "2024-10-19T17:51:30.298777Z",
     "start_time": "2024-10-19T17:51:30.295705Z"
    }
   },
   "cell_type": "code",
   "source": [
    "class CNNModel(nn.Module):\n",
    "    def __init__(self):\n",
    "        super(CNNModel, self).__init__()\n",
    "        # self.conv1 = nn.Conv2d(1, 10, kernel_size=5)\n",
    "        # self.conv2 = nn.Conv2d(10, 20, kernel_size=5)\n",
    "        # self.fc1 = nn.Linear(320, 50)\n",
    "        # self.fc2 = nn.Linear(50, 10)\n",
    "        # self.sequence = nn.Sequential(\n",
    "        #     nn.Conv2d(in_channels=1, out_channels=16, kernel_size=5),   # by default: stride = 1\n",
    "        #     nn.ReLU(),\n",
    "        #     nn.MaxPool2d(kernel_size=2),\n",
    "        #     nn.Conv2d(in_channels=16, out_channels=128, kernel_size=5),\n",
    "        #     nn.MaxPool2d(kernel_size=2),    # by default: kernel_size = stride \n",
    "        #     nn.ReLU(),\n",
    "        #     nn.Flatten(),\n",
    "        #     nn.Linear(in_features=2048, out_features=64), # in_features = 2048 will be calculated automatically\n",
    "        #     nn.Linear(in_features=64, out_features=10),\n",
    "        #     # nn.LogSoftmax(dim=1), # ~ SparseCategoricalCrossEntropy\n",
    "        #     nn.LogSigmoid()\n",
    "        # )\n",
    "        self.conv_layers = nn.Sequential(\n",
    "            nn.Conv2d(in_channels=1, out_channels=16, kernel_size=5),   # (28-5+1) x (28-5+1) = 24 x 24\n",
    "            nn.ReLU(),\n",
    "            nn.MaxPool2d(kernel_size=2),  # (24/2) x (24/2) = 12 x 12\n",
    "            nn.Conv2d(in_channels=16, out_channels=32, kernel_size=5),  # (12-5+1) x (12-5+1) = 8 x 8\n",
    "            nn.ReLU(),\n",
    "            nn.MaxPool2d(kernel_size=2)   # (8/2) x (8/2) = 4 x 4\n",
    "        )\n",
    "        self.fc_layers = nn.Sequential(\n",
    "            nn.Flatten(),\n",
    "            nn.Linear(in_features=32 * 4 * 4, out_features=128),  # 32 kênh, kích thước 4x4\n",
    "            nn.ReLU(),\n",
    "            nn.Linear(in_features=128, out_features=10)  # 10 lớp (0-9) cho Fashion MNIST\n",
    "        )\n",
    "\n",
    "    def forward(self, x):\n",
    "        # x = F.relu(F.max_pool2d(self.conv1(x), 2))\n",
    "        # x = F.relu(F.max_pool2d(self.conv2(x), 2))\n",
    "        # x = x.view(-1, 320)\n",
    "        # print(f\"--x.shape: {x.shape}\")\n",
    "        # x = F.relu(self.fc1(x))\n",
    "        # x = self.fc2(x)\n",
    "        # return F.log_softmax(x, dim=1)\n",
    "        # return self.sequence(x)\n",
    "        # return F.log_softmax(x(self.sequence(x)), dim=1)\n",
    "        x = self.conv_layers(x)\n",
    "        x = self.fc_layers(x)\n",
    "        return x"
   ],
   "id": "fb08e5d9c7f730e2",
   "outputs": [],
   "execution_count": 14
  },
  {
   "metadata": {
    "ExecuteTime": {
     "end_time": "2024-10-19T17:51:30.311985Z",
     "start_time": "2024-10-19T17:51:30.304856Z"
    }
   },
   "cell_type": "code",
   "source": [
    "model_cnn = CNNModel().to(device)\n",
    "loss_func_cnn = nn.CrossEntropyLoss()\n",
    "optimizer_g_cnn = torch.optim.Adam(params=model_cnn.parameters(), lr=1e-3)"
   ],
   "id": "f15b53c2a6c52b35",
   "outputs": [],
   "execution_count": 15
  },
  {
   "metadata": {
    "ExecuteTime": {
     "end_time": "2024-10-19T17:51:30.321798Z",
     "start_time": "2024-10-19T17:51:30.317960Z"
    }
   },
   "cell_type": "code",
   "source": [
    "def train_cnn(train_loader, model, optimizer, epoch):\n",
    "    size = len(train_loader.dataset)\n",
    "    model.train()\n",
    "    for batch_idx, (data, target) in enumerate(train_loader):\n",
    "        data, target = data.to(device), target.to(device)\n",
    "        optimizer.zero_grad()  # Xóa gradient\n",
    "        output = model(data)  # Forward pass\n",
    "        # loss = F.nll_loss(output, target)  # Tính toán loss\n",
    "        loss = loss_func_cnn(output, target)\n",
    "        loss.backward()  # Backpropagation\n",
    "        optimizer.step()  # Cập nhật các tham số\n",
    "        if batch_idx % 1000 == 0:\n",
    "            loss, current = loss.item(), (batch_idx + 1) * len(data)\n",
    "            # print(f'Train Epoch: {epoch} [{batch_idx * len(data)}/{len(train_loader.dataset)}] Loss: {loss.item():.6f}')\n",
    "            print(f\"loss: {loss:>7f}  [{current:>5d}/{size:>5d}]\")\n",
    "\n",
    "# Kiểm tra mô hình trên tập test\n",
    "def test_cnn(test_loader, model):\n",
    "    model.eval()\n",
    "    test_loss = 0\n",
    "    correct = 0\n",
    "    with torch.no_grad():\n",
    "        for data, target in test_loader:\n",
    "            data, target = data.to(device), target.to(device)\n",
    "            output = model(data)\n",
    "            # test_loss += F.nll_loss(output, target, reduction='sum').item()\n",
    "            test_loss += loss_func(output, target)\n",
    "            pred = output.argmax(dim=1, keepdim=True)\n",
    "            correct += pred.eq(target.view_as(pred)).sum().item()\n",
    "\n",
    "    test_loss /= len(test_loader.dataset)\n",
    "    accuracy = correct / len(test_loader.dataset)\n",
    "    # print(f'\\nTest set: Average loss: {test_loss:.4f}, Accuracy: {correct}/{len(test_loader.dataset)} ({accuracy:.0f}%)\\n')\n",
    "    print(f\"Test Error:\\nAccuracy: {(100*accuracy):>0.1f}%, Avg loss: {test_loss:>8f} \\n\")"
   ],
   "id": "2258746510eb8252",
   "outputs": [],
   "execution_count": 16
  },
  {
   "metadata": {},
   "cell_type": "markdown",
   "source": "#### 1.3. Perform train:",
   "id": "7aea5ce0a0ee34bf"
  },
  {
   "metadata": {
    "ExecuteTime": {
     "end_time": "2024-10-19T17:51:30.454300Z",
     "start_time": "2024-10-19T17:51:30.327649Z"
    }
   },
   "cell_type": "code",
   "source": [
    "rand_seed = np.random.randint(low=0, high=1000)\n",
    "X_train_20 = train_test_split(X_train, test_size=0.2, random_state=rand_seed)[1]\n",
    "Y_train_20 = train_test_split(Y_train, test_size=0.2, random_state=rand_seed)[1]\n",
    "rand_seed = np.random.randint(low=0, high=1000)\n",
    "X_test_20 = train_test_split(X_train, test_size=0.1, random_state=rand_seed)[1]\n",
    "Y_test_20 = train_test_split(Y_train, test_size=0.1, random_state=rand_seed)[1]"
   ],
   "id": "5891aed74e3f3a1a",
   "outputs": [],
   "execution_count": 17
  },
  {
   "metadata": {
    "ExecuteTime": {
     "end_time": "2024-10-19T17:51:30.464719Z",
     "start_time": "2024-10-19T17:51:30.462235Z"
    }
   },
   "cell_type": "code",
   "source": [
    "class TransformedTensorDataset(Dataset):\n",
    "    def __init__(self, tensor_dataset, transform=None):\n",
    "        self.tensor_dataset = tensor_dataset\n",
    "        self.transform = transform\n",
    "    def __len__(self):\n",
    "        return len(self.tensor_dataset)\n",
    "    def __getitem__(self, idx):\n",
    "        sample, label = self.tensor_dataset[idx]\n",
    "        if self.transform:\n",
    "            sample = self.transform(sample)\n",
    "            pass\n",
    "        return sample, label"
   ],
   "id": "d2a2f796d4606579",
   "outputs": [],
   "execution_count": 18
  },
  {
   "metadata": {
    "ExecuteTime": {
     "end_time": "2024-10-19T17:51:32.866012Z",
     "start_time": "2024-10-19T17:51:30.472603Z"
    }
   },
   "cell_type": "code",
   "source": [
    "epochs = 50\n",
    "batch_size = 32\n",
    "transform = transforms.Compose([\n",
    "    # transforms.ToTensor(),\n",
    "    # transforms.ToPILImage(),\n",
    "    # transforms.PILToTensor(),\n",
    "    transforms.Normalize((0.5,), (0.5,))  # scale to [-1, 1]\n",
    "])\n",
    "X_train_tensor, Y_train_tensor = torch.from_numpy(X_train_20).unsqueeze(dim=1).to(dtype=torch.float32), torch.from_numpy(Y_train_20).to(dtype=torch.int64)\n",
    "X_test_tensor, Y_test_tensor = torch.from_numpy(X_test_20).float().unsqueeze(dim=1).to(dtype=torch.float32), torch.from_numpy(Y_test_20).to(dtype=torch.int64)\n",
    "train_dataset = torch.utils.data.TensorDataset(X_train_tensor, Y_train_tensor)\n",
    "test_dataset = torch.utils.data.TensorDataset(X_test_tensor, Y_test_tensor)\n",
    "# train_dataset = TransformedTensorDataset(train_dataset, transform=transform)\n",
    "# test_dataset = TransformedTensorDataset(test_dataset, transform=transform)\n",
    "train_dataloader = DataLoader(dataset=train_dataset, batch_size=batch_size, shuffle=False)\n",
    "test_dataloader = DataLoader(dataset=test_dataset, batch_size=batch_size, shuffle=False)\n",
    "for t in range(epochs):\n",
    "    print(f\"Epoch {t+1}\\n-------------------------------\")\n",
    "    # start_nn = datetime.now()\n",
    "    # train_nn(train_dataloader, model, loss_func, optimizer_g)\n",
    "    # end_nn = datetime.now()\n",
    "    # test_nn(test_dataloader, model, loss_func)\n",
    "    start_cnn = datetime.now()\n",
    "    train_cnn(train_dataloader, model_cnn, optimizer_g_cnn, t)\n",
    "    end_cnn = datetime.now()\n",
    "    test_cnn(test_dataloader, model_cnn)\n",
    "    # print(f\"NN: {(end_nn - start_nn).total_seconds()} CNN: {(end_cnn - start_cnn).total_seconds()}\")\n",
    "print(\"Done!\")"
   ],
   "id": "5394cc79ac77ed9e",
   "outputs": [
    {
     "name": "stdout",
     "output_type": "stream",
     "text": [
      "Epoch 1\n",
      "-------------------------------\n",
      "loss: 2.293019  [   32/12000]\n",
      "Test Error:\n",
      "Accuracy: 79.4%, Avg loss: 0.017459 \n",
      "\n",
      "Epoch 2\n",
      "-------------------------------\n",
      "loss: 0.670650  [   32/12000]\n"
     ]
    },
    {
     "ename": "KeyboardInterrupt",
     "evalue": "",
     "output_type": "error",
     "traceback": [
      "\u001B[0;31m---------------------------------------------------------------------------\u001B[0m",
      "\u001B[0;31mKeyboardInterrupt\u001B[0m                         Traceback (most recent call last)",
      "Cell \u001B[0;32mIn[19], line 24\u001B[0m\n\u001B[1;32m     19\u001B[0m \u001B[38;5;66;03m# start_nn = datetime.now()\u001B[39;00m\n\u001B[1;32m     20\u001B[0m \u001B[38;5;66;03m# train_nn(train_dataloader, model, loss_func, optimizer_g)\u001B[39;00m\n\u001B[1;32m     21\u001B[0m \u001B[38;5;66;03m# end_nn = datetime.now()\u001B[39;00m\n\u001B[1;32m     22\u001B[0m \u001B[38;5;66;03m# test_nn(test_dataloader, model, loss_func)\u001B[39;00m\n\u001B[1;32m     23\u001B[0m start_cnn \u001B[38;5;241m=\u001B[39m datetime\u001B[38;5;241m.\u001B[39mnow()\n\u001B[0;32m---> 24\u001B[0m \u001B[43mtrain_cnn\u001B[49m\u001B[43m(\u001B[49m\u001B[43mtrain_dataloader\u001B[49m\u001B[43m,\u001B[49m\u001B[43m \u001B[49m\u001B[43mmodel_cnn\u001B[49m\u001B[43m,\u001B[49m\u001B[43m \u001B[49m\u001B[43moptimizer_g_cnn\u001B[49m\u001B[43m,\u001B[49m\u001B[43m \u001B[49m\u001B[43mt\u001B[49m\u001B[43m)\u001B[49m\n\u001B[1;32m     25\u001B[0m end_cnn \u001B[38;5;241m=\u001B[39m datetime\u001B[38;5;241m.\u001B[39mnow()\n\u001B[1;32m     26\u001B[0m test_cnn(test_dataloader, model_cnn)\n",
      "Cell \u001B[0;32mIn[16], line 5\u001B[0m, in \u001B[0;36mtrain_cnn\u001B[0;34m(train_loader, model, optimizer, epoch)\u001B[0m\n\u001B[1;32m      3\u001B[0m model\u001B[38;5;241m.\u001B[39mtrain()\n\u001B[1;32m      4\u001B[0m \u001B[38;5;28;01mfor\u001B[39;00m batch_idx, (data, target) \u001B[38;5;129;01min\u001B[39;00m \u001B[38;5;28menumerate\u001B[39m(train_loader):\n\u001B[0;32m----> 5\u001B[0m     data, target \u001B[38;5;241m=\u001B[39m data\u001B[38;5;241m.\u001B[39mto(device), \u001B[43mtarget\u001B[49m\u001B[38;5;241;43m.\u001B[39;49m\u001B[43mto\u001B[49m\u001B[43m(\u001B[49m\u001B[43mdevice\u001B[49m\u001B[43m)\u001B[49m\n\u001B[1;32m      6\u001B[0m     optimizer\u001B[38;5;241m.\u001B[39mzero_grad()  \u001B[38;5;66;03m# Xóa gradient\u001B[39;00m\n\u001B[1;32m      7\u001B[0m     output \u001B[38;5;241m=\u001B[39m model(data)  \u001B[38;5;66;03m# Forward pass\u001B[39;00m\n",
      "\u001B[0;31mKeyboardInterrupt\u001B[0m: "
     ]
    }
   ],
   "execution_count": 19
  },
  {
   "metadata": {},
   "cell_type": "code",
   "source": [
    "summary(model=model_cnn)\n",
    "# X_train_tensor.shape"
   ],
   "id": "6d87644863f43116",
   "outputs": [],
   "execution_count": null
  },
  {
   "metadata": {},
   "cell_type": "code",
   "source": [
    "X = torch.rand(1, 28, 28, device=device)\n",
    "logits = model_nn(X)\n",
    "pred_probab: torch.Tensor = nn.Softmax(dim=1)(logits)\n",
    "y_pred = pred_probab.argmax(dim=1)\n",
    "print(f\"Predicted class: {y_pred}\")"
   ],
   "id": "3b7533a2513e4094",
   "outputs": [],
   "execution_count": null
  },
  {
   "metadata": {},
   "cell_type": "code",
   "source": "ts = torch.from_numpy(X_test).float()\n",
   "id": "a34f2e04149ef207",
   "outputs": [],
   "execution_count": null
  },
  {
   "metadata": {},
   "cell_type": "code",
   "source": [
    "torch.manual_seed(1729)\n",
    "r1 = torch.rand(2, 2)\n",
    "print('A random tensor:')\n",
    "print(r1)"
   ],
   "id": "ff80878179d77db5",
   "outputs": [],
   "execution_count": null
  },
  {
   "metadata": {},
   "cell_type": "code",
   "source": "",
   "id": "2b75cb0210219d08",
   "outputs": [],
   "execution_count": null
  }
 ],
 "metadata": {
  "kernelspec": {
   "display_name": "learn-ml",
   "language": "python",
   "name": "python3"
  },
  "language_info": {
   "codemirror_mode": {
    "name": "ipython",
    "version": 3
   },
   "file_extension": ".py",
   "mimetype": "text/x-python",
   "name": "python",
   "nbconvert_exporter": "python",
   "pygments_lexer": "ipython3",
   "version": "3.10.13"
  }
 },
 "nbformat": 4,
 "nbformat_minor": 5
}
