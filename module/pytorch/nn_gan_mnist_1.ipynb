{
 "cells": [
  {
   "cell_type": "code",
   "id": "initial_id",
   "metadata": {
    "collapsed": true,
    "ExecuteTime": {
     "end_time": "2024-11-05T11:53:14.846935Z",
     "start_time": "2024-11-05T11:53:13.716082Z"
    }
   },
   "source": [
    "import torch\n",
    "import torch.nn as nn\n",
    "import torch.optim as optim\n",
    "import torchvision\n",
    "import torchvision.transforms as transforms\n",
    "from torch.utils.data import DataLoader\n",
    "import matplotlib.pyplot as plt\n",
    "import numpy as np"
   ],
   "outputs": [],
   "execution_count": 1
  },
  {
   "cell_type": "code",
   "id": "30f3e774",
   "metadata": {
    "ExecuteTime": {
     "end_time": "2024-11-05T11:53:14.863256Z",
     "start_time": "2024-11-05T11:53:14.850743Z"
    }
   },
   "source": [
    "device = (\n",
    "    \"cuda\"\n",
    "    if torch.cuda.is_available()\n",
    "    else \"mps\"\n",
    "    if torch.backends.mps.is_available()\n",
    "    else \"cpu\"\n",
    ")\n",
    "print(f\"device: {device}\")\n",
    "torch.set_default_device(device)"
   ],
   "outputs": [
    {
     "name": "stdout",
     "output_type": "stream",
     "text": [
      "device: mps\n"
     ]
    }
   ],
   "execution_count": 2
  },
  {
   "cell_type": "code",
   "id": "e3663b92aa233c6",
   "metadata": {
    "ExecuteTime": {
     "end_time": "2024-11-05T11:53:14.895473Z",
     "start_time": "2024-11-05T11:53:14.891975Z"
    }
   },
   "source": [
    "class Generator(nn.Module):\n",
    "    def __init__(self, noise_dim=100, img_dim=784):  # 28*28=784 cho MNIST\n",
    "        super(Generator, self).__init__()\n",
    "        self.gen = nn.Sequential(\n",
    "            nn.Linear(noise_dim, 256),\n",
    "            nn.LeakyReLU(0.2),\n",
    "            nn.Linear(256, 512),\n",
    "            nn.LeakyReLU(0.2),\n",
    "            nn.Linear(512, 1024),\n",
    "            nn.LeakyReLU(0.2),\n",
    "            nn.Linear(1024, img_dim),\n",
    "            nn.Tanh()\n",
    "        )\n",
    "\n",
    "    def forward(self, x):\n",
    "        return self.gen(x)\n",
    "\n",
    "class Discriminator(nn.Module):\n",
    "    def __init__(self, img_dim=784):\n",
    "        super(Discriminator, self).__init__()\n",
    "        self.disc = nn.Sequential(\n",
    "            nn.Linear(img_dim, 1024),\n",
    "            nn.LeakyReLU(0.2),\n",
    "            nn.Dropout(0.3),\n",
    "            nn.Linear(1024, 512),\n",
    "            nn.LeakyReLU(0.2),\n",
    "            nn.Dropout(0.3),\n",
    "            nn.Linear(512, 256),\n",
    "            nn.LeakyReLU(0.2),\n",
    "            nn.Dropout(0.3),\n",
    "            nn.Linear(256, 1),\n",
    "            nn.Sigmoid()\n",
    "        )\n",
    "\n",
    "    def forward(self, x):\n",
    "        return self.disc(x)"
   ],
   "outputs": [],
   "execution_count": 3
  },
  {
   "cell_type": "code",
   "id": "27d1c3b1c64b9118",
   "metadata": {
    "ExecuteTime": {
     "end_time": "2024-11-05T11:53:14.964312Z",
     "start_time": "2024-11-05T11:53:14.899704Z"
    }
   },
   "source": [
    "# random noise vector\n",
    "noise_dim = 100\n",
    "\n",
    "# init Generator and Discriminator\n",
    "gen = Generator(noise_dim).to(device=device)\n",
    "disc = Discriminator().to(device=device)\n",
    "\n",
    "# loss and optimizers\n",
    "criterion = nn.BCELoss().to(device=device)\n",
    "optimizer_gen = optim.Adam(gen.parameters(), lr=0.0002)\n",
    "optimizer_disc = optim.Adam(disc.parameters(), lr=0.0002)"
   ],
   "outputs": [],
   "execution_count": 4
  },
  {
   "cell_type": "code",
   "id": "e40aa9ff8530ff6b",
   "metadata": {
    "ExecuteTime": {
     "end_time": "2024-11-05T11:53:14.984263Z",
     "start_time": "2024-11-05T11:53:14.969785Z"
    }
   },
   "source": [
    "transform = transforms.Compose([\n",
    "    transforms.ToTensor(),\n",
    "    transforms.Normalize((0.5,), (0.5,))  # Normalization để đưa ảnh về khoảng [-1, 1]\n",
    "])\n",
    "\n",
    "dataset = torchvision.datasets.MNIST(root='./data', train=True, transform=transform, download=True)\n",
    "dataloader = DataLoader(dataset, batch_size=64, shuffle=True, generator=torch.Generator(device=device))"
   ],
   "outputs": [],
   "execution_count": 5
  },
  {
   "cell_type": "code",
   "id": "b2790d0a4113b839",
   "metadata": {
    "ExecuteTime": {
     "end_time": "2024-11-05T12:06:57.850842Z",
     "start_time": "2024-11-05T11:53:14.989395Z"
    }
   },
   "source": [
    "num_epochs = 50\n",
    "for epoch in range(num_epochs):\n",
    "    for batch_idx, (real, _) in enumerate(dataloader):\n",
    "        batch_size = real.size(0)\n",
    "        real: torch.Tensor = real.view(batch_size, -1).to(device=device)\n",
    "\n",
    "        # Labels for real and fake\n",
    "        labels_real = torch.ones(batch_size, 1).to(device=device)\n",
    "        labels_fake = torch.zeros(batch_size, 1).to(device=device)\n",
    "\n",
    "        # train Discriminator for real\n",
    "        disc_real = disc(real)\n",
    "        loss_disc_real = criterion(disc_real, labels_real)\n",
    "\n",
    "        # train Discriminator for fake\n",
    "        noise = torch.randn(batch_size, noise_dim)\n",
    "        fake_images = gen(noise)\n",
    "        disc_fake = disc(fake_images.detach())\n",
    "        loss_disc_fake = criterion(disc_fake, labels_fake)\n",
    "\n",
    "        # total loss of Discriminator\n",
    "        loss_disc = (loss_disc_real + loss_disc_fake) / 2\n",
    "        optimizer_disc.zero_grad()\n",
    "        loss_disc.backward()\n",
    "        optimizer_disc.step()\n",
    "\n",
    "        # train Generator to fool Discriminator\n",
    "        output = disc(fake_images)\n",
    "        loss_gen = criterion(output, labels_real)\n",
    "        optimizer_gen.zero_grad()\n",
    "        loss_gen.backward()\n",
    "        optimizer_gen.step()\n",
    "\n",
    "    print(f\"Epoch [{epoch+1}/{num_epochs}] | Loss D: {loss_disc:.4f}, Loss G: {loss_gen:.4f}\")"
   ],
   "outputs": [
    {
     "name": "stdout",
     "output_type": "stream",
     "text": [
      "Epoch [1/50] | Loss D: 0.3031, Loss G: 1.6863\n",
      "Epoch [2/50] | Loss D: 0.1794, Loss G: 1.5775\n",
      "Epoch [3/50] | Loss D: 0.1119, Loss G: 3.8468\n",
      "Epoch [4/50] | Loss D: 0.1673, Loss G: 3.2769\n",
      "Epoch [5/50] | Loss D: 0.4402, Loss G: 2.0945\n",
      "Epoch [6/50] | Loss D: 0.5520, Loss G: 2.6965\n",
      "Epoch [7/50] | Loss D: 0.3263, Loss G: 2.0846\n",
      "Epoch [8/50] | Loss D: 0.4780, Loss G: 1.6321\n",
      "Epoch [9/50] | Loss D: 0.4200, Loss G: 1.6904\n",
      "Epoch [10/50] | Loss D: 0.4795, Loss G: 1.9828\n",
      "Epoch [11/50] | Loss D: 0.3975, Loss G: 1.9652\n",
      "Epoch [12/50] | Loss D: 0.4122, Loss G: 1.3313\n",
      "Epoch [13/50] | Loss D: 0.5720, Loss G: 1.3472\n",
      "Epoch [14/50] | Loss D: 0.5525, Loss G: 1.3218\n",
      "Epoch [15/50] | Loss D: 0.6974, Loss G: 1.2999\n",
      "Epoch [16/50] | Loss D: 0.4532, Loss G: 1.7933\n",
      "Epoch [17/50] | Loss D: 0.5598, Loss G: 2.0975\n",
      "Epoch [18/50] | Loss D: 0.5065, Loss G: 1.2869\n",
      "Epoch [19/50] | Loss D: 0.5755, Loss G: 1.7295\n",
      "Epoch [20/50] | Loss D: 0.5054, Loss G: 1.3014\n",
      "Epoch [21/50] | Loss D: 0.6409, Loss G: 1.4698\n",
      "Epoch [22/50] | Loss D: 0.4133, Loss G: 1.7763\n",
      "Epoch [23/50] | Loss D: 0.4558, Loss G: 1.5521\n",
      "Epoch [24/50] | Loss D: 0.5871, Loss G: 1.2241\n",
      "Epoch [25/50] | Loss D: 0.5422, Loss G: 1.0564\n",
      "Epoch [26/50] | Loss D: 0.5918, Loss G: 1.0896\n",
      "Epoch [27/50] | Loss D: 0.5789, Loss G: 1.2016\n",
      "Epoch [28/50] | Loss D: 0.6721, Loss G: 0.9404\n",
      "Epoch [29/50] | Loss D: 0.7072, Loss G: 1.0656\n",
      "Epoch [30/50] | Loss D: 0.4922, Loss G: 1.0506\n",
      "Epoch [31/50] | Loss D: 0.5976, Loss G: 1.2480\n",
      "Epoch [32/50] | Loss D: 0.6211, Loss G: 1.1016\n",
      "Epoch [33/50] | Loss D: 0.6078, Loss G: 0.9712\n",
      "Epoch [34/50] | Loss D: 0.5494, Loss G: 0.9951\n",
      "Epoch [35/50] | Loss D: 0.5327, Loss G: 1.2604\n",
      "Epoch [36/50] | Loss D: 0.6313, Loss G: 1.0353\n",
      "Epoch [37/50] | Loss D: 0.6636, Loss G: 0.9744\n",
      "Epoch [38/50] | Loss D: 0.6610, Loss G: 1.2682\n",
      "Epoch [39/50] | Loss D: 0.7324, Loss G: 0.9660\n",
      "Epoch [40/50] | Loss D: 0.5708, Loss G: 0.9419\n",
      "Epoch [41/50] | Loss D: 0.6432, Loss G: 1.0332\n",
      "Epoch [42/50] | Loss D: 0.6246, Loss G: 0.9530\n",
      "Epoch [43/50] | Loss D: 0.5880, Loss G: 1.2312\n",
      "Epoch [44/50] | Loss D: 0.6677, Loss G: 0.8275\n",
      "Epoch [45/50] | Loss D: 0.5805, Loss G: 1.0244\n",
      "Epoch [46/50] | Loss D: 0.6695, Loss G: 1.0794\n",
      "Epoch [47/50] | Loss D: 0.6513, Loss G: 0.8748\n",
      "Epoch [48/50] | Loss D: 0.6493, Loss G: 0.9588\n",
      "Epoch [49/50] | Loss D: 0.5554, Loss G: 0.8808\n",
      "Epoch [50/50] | Loss D: 0.6602, Loss G: 1.2140\n"
     ]
    }
   ],
   "execution_count": 6
  },
  {
   "cell_type": "code",
   "id": "61b85317dd52a11b",
   "metadata": {
    "ExecuteTime": {
     "end_time": "2024-11-05T12:06:58.341549Z",
     "start_time": "2024-11-05T12:06:58.063968Z"
    }
   },
   "source": [
    "def generate_and_plot_images(generator, noise_dim, num_images=25):\n",
    "    noise = torch.randn(num_images, noise_dim)\n",
    "    fake_images = generator(noise).view(-1, 1, 28, 28)\n",
    "    fake_images = (fake_images + 1) / 2  # scale to khoảng [0, 1]\n",
    "\n",
    "    grid = torchvision.utils.make_grid(fake_images, nrow=5)\n",
    "    plt.figure(figsize=(10, 10))\n",
    "    plt.imshow(np.transpose(grid.detach().cpu().numpy(), (1, 2, 0)))\n",
    "    plt.axis(\"off\")\n",
    "    plt.show()\n",
    "\n",
    "# generate\n",
    "generate_and_plot_images(gen, noise_dim)"
   ],
   "outputs": [
    {
     "data": {
      "text/plain": [
       "<Figure size 1000x1000 with 1 Axes>"
      ],
      "image/png": "[encoded data removed]"
     },
     "metadata": {},
     "output_type": "display_data"
    }
   ],
   "execution_count": 7
  }
 ],
 "metadata": {
  "kernelspec": {
   "display_name": "learn-ml",
   "language": "python",
   "name": "python3"
  },
  "language_info": {
   "codemirror_mode": {
    "name": "ipython",
    "version": 3
   },
   "file_extension": ".py",
   "mimetype": "text/x-python",
   "name": "python",
   "nbconvert_exporter": "python",
   "pygments_lexer": "ipython3",
   "version": "3.10.13"
  }
 },
 "nbformat": 4,
 "nbformat_minor": 5
}
