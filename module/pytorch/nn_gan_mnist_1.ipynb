{
 "cells": [
  {
   "cell_type": "code",
   "id": "initial_id",
   "metadata": {
    "collapsed": true,
    "ExecuteTime": {
     "end_time": "2024-11-05T11:51:14.830035Z",
     "start_time": "2024-11-05T11:51:14.826193Z"
    }
   },
   "source": [
    "import torch\n",
    "import torch.nn as nn\n",
    "import torch.optim as optim\n",
    "import torchvision\n",
    "import torchvision.transforms as transforms\n",
    "from torch.utils.data import DataLoader\n",
    "import matplotlib.pyplot as plt\n",
    "import numpy as np"
   ],
   "outputs": [],
   "execution_count": 10
  },
  {
   "cell_type": "code",
   "id": "30f3e774",
   "metadata": {
    "ExecuteTime": {
     "end_time": "2024-11-05T11:51:15.902625Z",
     "start_time": "2024-11-05T11:51:15.897889Z"
    }
   },
   "source": [
    "device = (\n",
    "    \"cuda\"\n",
    "    if torch.cuda.is_available()\n",
    "    else \"mps\"\n",
    "    if torch.backends.mps.is_available()\n",
    "    else \"cpu\"\n",
    ")\n",
    "print(f\"device: {device}\")\n",
    "torch.set_default_device(device)"
   ],
   "outputs": [
    {
     "name": "stdout",
     "output_type": "stream",
     "text": [
      "device: mps\n"
     ]
    }
   ],
   "execution_count": 11
  },
  {
   "cell_type": "code",
   "id": "e3663b92aa233c6",
   "metadata": {
    "ExecuteTime": {
     "end_time": "2024-11-05T11:51:20.141396Z",
     "start_time": "2024-11-05T11:51:20.131802Z"
    }
   },
   "source": [
    "class Generator(nn.Module):\n",
    "    def __init__(self, noise_dim=100, img_dim=784):  # 28*28=784 cho MNIST\n",
    "        super(Generator, self).__init__()\n",
    "        self.gen = nn.Sequential(\n",
    "            nn.Linear(noise_dim, 256),\n",
    "            nn.LeakyReLU(0.2),\n",
    "            nn.Linear(256, 512),\n",
    "            nn.LeakyReLU(0.2),\n",
    "            nn.Linear(512, 1024),\n",
    "            nn.LeakyReLU(0.2),\n",
    "            nn.Linear(1024, img_dim),\n",
    "            nn.Tanh()\n",
    "        )\n",
    "\n",
    "    def forward(self, x):\n",
    "        return self.gen(x)\n",
    "\n",
    "class Discriminator(nn.Module):\n",
    "    def __init__(self, img_dim=784):\n",
    "        super(Discriminator, self).__init__()\n",
    "        self.disc = nn.Sequential(\n",
    "            nn.Linear(img_dim, 1024),\n",
    "            nn.LeakyReLU(0.2),\n",
    "            nn.Dropout(0.3),\n",
    "            nn.Linear(1024, 512),\n",
    "            nn.LeakyReLU(0.2),\n",
    "            nn.Dropout(0.3),\n",
    "            nn.Linear(512, 256),\n",
    "            nn.LeakyReLU(0.2),\n",
    "            nn.Dropout(0.3),\n",
    "            nn.Linear(256, 1),\n",
    "            nn.Sigmoid()\n",
    "        )\n",
    "\n",
    "    def forward(self, x):\n",
    "        return self.disc(x)"
   ],
   "outputs": [],
   "execution_count": 13
  },
  {
   "cell_type": "code",
   "id": "27d1c3b1c64b9118",
   "metadata": {
    "ExecuteTime": {
     "end_time": "2024-11-05T11:51:22.322665Z",
     "start_time": "2024-11-05T11:51:22.311321Z"
    }
   },
   "source": [
    "# random noise vector\n",
    "noise_dim = 100\n",
    "\n",
    "# init Generator and Discriminator\n",
    "gen = Generator(noise_dim).to(device=device)\n",
    "disc = Discriminator().to(device=device)\n",
    "\n",
    "# loss and optimizers\n",
    "criterion = nn.BCELoss().to(device=device)\n",
    "optimizer_gen = optim.Adam(gen.parameters(), lr=0.0002)\n",
    "optimizer_disc = optim.Adam(disc.parameters(), lr=0.0002)"
   ],
   "outputs": [],
   "execution_count": 14
  },
  {
   "cell_type": "code",
   "id": "e40aa9ff8530ff6b",
   "metadata": {
    "ExecuteTime": {
     "end_time": "2024-11-05T11:51:24.138882Z",
     "start_time": "2024-11-05T11:51:24.118643Z"
    }
   },
   "source": [
    "transform = transforms.Compose([\n",
    "    transforms.ToTensor(),\n",
    "    transforms.Normalize((0.5,), (0.5,))  # Normalization để đưa ảnh về khoảng [-1, 1]\n",
    "])\n",
    "\n",
    "dataset = torchvision.datasets.MNIST(root='./data', train=True, transform=transform, download=True)\n",
    "dataloader = DataLoader(dataset, batch_size=64, shuffle=True, generator=torch.Generator(device=device))"
   ],
   "outputs": [],
   "execution_count": 15
  },
  {
   "cell_type": "code",
   "id": "b2790d0a4113b839",
   "metadata": {
    "jupyter": {
     "is_executing": true
    },
    "ExecuteTime": {
     "start_time": "2024-11-05T11:51:28.314741Z"
    }
   },
   "source": [
    "num_epochs = 5 #50\n",
    "for epoch in range(num_epochs):\n",
    "    for batch_idx, (real, _) in enumerate(dataloader):\n",
    "        batch_size = real.size(0)\n",
    "        real: torch.Tensor = real.view(batch_size, -1).to(device=device)\n",
    "\n",
    "        # Labels for real and fake\n",
    "        labels_real = torch.ones(batch_size, 1).to(device=device)\n",
    "        labels_fake = torch.zeros(batch_size, 1).to(device=device)\n",
    "\n",
    "        # train Discriminator for real\n",
    "        disc_real = disc(real)\n",
    "        loss_disc_real = criterion(disc_real, labels_real)\n",
    "\n",
    "        # train Discriminator for fake\n",
    "        noise = torch.randn(batch_size, noise_dim)\n",
    "        fake_images = gen(noise)\n",
    "        disc_fake = disc(fake_images.detach())\n",
    "        loss_disc_fake = criterion(disc_fake, labels_fake)\n",
    "\n",
    "        # total loss of Discriminator\n",
    "        loss_disc = (loss_disc_real + loss_disc_fake) / 2\n",
    "        optimizer_disc.zero_grad()\n",
    "        loss_disc.backward()\n",
    "        optimizer_disc.step()\n",
    "\n",
    "        # train Generator to fool Discriminator\n",
    "        output = disc(fake_images)\n",
    "        loss_gen = criterion(output, labels_real)\n",
    "        optimizer_gen.zero_grad()\n",
    "        loss_gen.backward()\n",
    "        optimizer_gen.step()\n",
    "\n",
    "    print(f\"Epoch [{epoch+1}/{num_epochs}] | Loss D: {loss_disc:.4f}, Loss G: {loss_gen:.4f}\")"
   ],
   "outputs": [],
   "execution_count": null
  },
  {
   "cell_type": "code",
   "id": "61b85317dd52a11b",
   "metadata": {},
   "source": [
    "def generate_and_plot_images(generator, noise_dim, num_images=25):\n",
    "    noise = torch.randn(num_images, noise_dim)\n",
    "    fake_images = generator(noise).view(-1, 1, 28, 28)\n",
    "    fake_images = (fake_images + 1) / 2  # scale to khoảng [0, 1]\n",
    "\n",
    "    grid = torchvision.utils.make_grid(fake_images, nrow=5)\n",
    "    plt.figure(figsize=(10, 10))\n",
    "    plt.imshow(np.transpose(grid.detach().cpu().numpy(), (1, 2, 0)))\n",
    "    plt.axis(\"off\")\n",
    "    plt.show()\n",
    "\n",
    "# generate\n",
    "generate_and_plot_images(gen, noise_dim)"
   ],
   "outputs": [],
   "execution_count": null
  }
 ],
 "metadata": {
  "kernelspec": {
   "display_name": "learn-ml",
   "language": "python",
   "name": "python3"
  },
  "language_info": {
   "codemirror_mode": {
    "name": "ipython",
    "version": 3
   },
   "file_extension": ".py",
   "mimetype": "text/x-python",
   "name": "python",
   "nbconvert_exporter": "python",
   "pygments_lexer": "ipython3",
   "version": "3.10.13"
  }
 },
 "nbformat": 4,
 "nbformat_minor": 5
}
