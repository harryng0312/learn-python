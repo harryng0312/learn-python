{
 "cells": [
  {
   "cell_type": "code",
   "id": "initial_id",
   "metadata": {
    "collapsed": true,
    "ExecuteTime": {
     "end_time": "2024-11-05T15:11:02.217747Z",
     "start_time": "2024-11-05T15:11:00.784413Z"
    }
   },
   "source": [
    "import torch\n",
    "import torch.nn as nn\n",
    "import torch.optim as optim\n",
    "import torchvision\n",
    "import torchvision.transforms as transforms\n",
    "from torch.utils.data import DataLoader, TensorDataset\n",
    "import matplotlib.pyplot as plt\n",
    "import numpy as np"
   ],
   "outputs": [],
   "execution_count": 2
  },
  {
   "cell_type": "code",
   "id": "30f3e774",
   "metadata": {
    "ExecuteTime": {
     "end_time": "2024-11-05T15:11:02.236174Z",
     "start_time": "2024-11-05T15:11:02.221081Z"
    }
   },
   "source": [
    "device = (\n",
    "    \"cuda\"\n",
    "    if torch.cuda.is_available()\n",
    "    else \"mps\"\n",
    "    if torch.backends.mps.is_available()\n",
    "    else \"cpu\"\n",
    ")\n",
    "print(f\"device: {device}\")\n",
    "torch.set_default_device(device)"
   ],
   "outputs": [
    {
     "name": "stdout",
     "output_type": "stream",
     "text": [
      "device: mps\n"
     ]
    }
   ],
   "execution_count": 3
  },
  {
   "metadata": {
    "ExecuteTime": {
     "end_time": "2024-11-05T15:11:02.390115Z",
     "start_time": "2024-11-05T15:11:02.241196Z"
    }
   },
   "cell_type": "code",
   "source": [
    "from module.conf import PROJECT_DIR\n",
    "import struct\n",
    "from array import array \n",
    "\n",
    "mnist_path = \"/data/sample/mnist\"\n",
    "training_images_filepath = \"\".join([PROJECT_DIR, mnist_path, \"/train-images.idx3-ubyte\"])\n",
    "training_labels_filepath = \"\".join([PROJECT_DIR, mnist_path, \"/train-labels.idx1-ubyte\"])\n",
    "test_images_filepath = \"\".join([PROJECT_DIR, mnist_path, \"/t10k-images.idx3-ubyte\"])\n",
    "test_labels_filepath = \"\".join([PROJECT_DIR, mnist_path, \"/t10k-labels.idx1-ubyte\"])\n",
    "\n",
    "def read_images_labels(images_filepath, labels_filepath) -> tuple:\n",
    "    labels = []\n",
    "    with open(labels_filepath, 'rb') as file:\n",
    "        magic, size = struct.unpack(\">II\", file.read(8))\n",
    "        if magic != 2049:\n",
    "            raise ValueError('Magic number mismatch, expected 2049, got {}'.format(magic))\n",
    "        # labels = array(\"B\", file.read())\n",
    "        labels = array(\"B\", file.read())\n",
    "\n",
    "    with open(images_filepath, 'rb') as file:\n",
    "        magic, size, rows, cols = struct.unpack(\">IIII\", file.read(16))\n",
    "        if magic != 2051:\n",
    "            raise ValueError('Magic number mismatch, expected 2051, got {}'.format(magic))\n",
    "        image_data = array(\"B\", file.read())\n",
    "\n",
    "    images = []\n",
    "    # for i in range(size):\n",
    "    #     images.append([0] * rows * cols)\n",
    "    for i in range(size):\n",
    "        img = np.array(image_data[i * rows * cols:(i + 1) * rows * cols])\n",
    "        img = img.reshape(28, 28)\n",
    "        # images[i][:] = img\n",
    "        images.append(img)\n",
    "\n",
    "    return images, labels\n",
    "\n",
    "def load_data() -> ((np.ndarray, np.ndarray),(np.ndarray, np.ndarray)):\n",
    "    x_train, y_train = read_images_labels(training_images_filepath, training_labels_filepath)\n",
    "    x_test, y_test = read_images_labels(test_images_filepath, test_labels_filepath)\n",
    "    return (np.array(x_train, dtype=np.float32), np.array(y_train)),(np.array(x_test, dtype=np.float32), np.array(y_test))\n",
    "\n",
    "(X_train, y_train), (X_test, y_test) = load_data()\n",
    "# X_train, X_test = X_train / 255.0, X_test / 255.0"
   ],
   "id": "a5b3b34223bd2009",
   "outputs": [],
   "execution_count": 4
  },
  {
   "cell_type": "code",
   "id": "e3663b92aa233c6",
   "metadata": {
    "ExecuteTime": {
     "end_time": "2024-11-05T15:11:02.399921Z",
     "start_time": "2024-11-05T15:11:02.396436Z"
    }
   },
   "source": [
    "class Generator(nn.Module):\n",
    "    def __init__(self, noise_dim=100, img_dim=784):  # 28*28=784 fors MNIST\n",
    "        super(Generator, self).__init__()\n",
    "        self.gen = nn.Sequential(\n",
    "            nn.Linear(noise_dim, 256),\n",
    "            nn.LeakyReLU(0.2),\n",
    "            nn.Linear(256, 512),\n",
    "            nn.LeakyReLU(0.2),\n",
    "            nn.Linear(512, 1024),\n",
    "            nn.LeakyReLU(0.2),\n",
    "            nn.Linear(1024, img_dim),\n",
    "            nn.Tanh()\n",
    "        )\n",
    "\n",
    "    def forward(self, x):\n",
    "        return self.gen(x)\n",
    "\n",
    "class Discriminator(nn.Module):\n",
    "    def __init__(self, img_dim=784):\n",
    "        super(Discriminator, self).__init__()\n",
    "        self.disc = nn.Sequential(\n",
    "            nn.Linear(img_dim, 1024),\n",
    "            nn.LeakyReLU(0.2),\n",
    "            nn.Dropout(0.3),\n",
    "            nn.Linear(1024, 512),\n",
    "            nn.LeakyReLU(0.2),\n",
    "            nn.Dropout(0.3),\n",
    "            nn.Linear(512, 256),\n",
    "            nn.LeakyReLU(0.2),\n",
    "            nn.Dropout(0.3),\n",
    "            nn.Linear(256, 1),\n",
    "            nn.Sigmoid()\n",
    "        )\n",
    "\n",
    "    def forward(self, x):\n",
    "        return self.disc(x)"
   ],
   "outputs": [],
   "execution_count": 5
  },
  {
   "cell_type": "code",
   "id": "27d1c3b1c64b9118",
   "metadata": {
    "ExecuteTime": {
     "end_time": "2024-11-05T15:11:02.473466Z",
     "start_time": "2024-11-05T15:11:02.406311Z"
    }
   },
   "source": [
    "# random noise vector\n",
    "noise_dim = 100\n",
    "\n",
    "# init Generator and Discriminator\n",
    "gen = Generator(noise_dim).to(device=device)\n",
    "disc = Discriminator().to(device=device)\n",
    "\n",
    "# loss and optimizers\n",
    "criterion = nn.BCELoss().to(device=device)\n",
    "optimizer_gen = optim.Adam(gen.parameters(), lr=0.0002)\n",
    "optimizer_disc = optim.Adam(disc.parameters(), lr=0.0002)"
   ],
   "outputs": [],
   "execution_count": 6
  },
  {
   "metadata": {
    "ExecuteTime": {
     "end_time": "2024-11-05T15:11:02.481793Z",
     "start_time": "2024-11-05T15:11:02.479585Z"
    }
   },
   "cell_type": "code",
   "source": [
    "from torch.utils.data import Dataset\n",
    "\n",
    "\n",
    "class TransformedTensorDataset(Dataset):\n",
    "    def __init__(self, tensor_dataset, transform=None):\n",
    "        self.tensor_dataset = tensor_dataset\n",
    "        self.transform = transform\n",
    "    def __len__(self):\n",
    "        return len(self.tensor_dataset)\n",
    "    def __getitem__(self, idx):\n",
    "        sample, label = self.tensor_dataset[idx]\n",
    "        if self.transform:\n",
    "            sample = self.transform(sample)\n",
    "            pass\n",
    "        return sample, label"
   ],
   "id": "14f186ac5eb52e07",
   "outputs": [],
   "execution_count": 7
  },
  {
   "cell_type": "code",
   "id": "e40aa9ff8530ff6b",
   "metadata": {
    "ExecuteTime": {
     "end_time": "2024-11-05T15:30:24.597391Z",
     "start_time": "2024-11-05T15:30:24.555301Z"
    }
   },
   "source": [
    "from torchvision.transforms import v2\n",
    "transform = v2.Compose([\n",
    "    # v2.ToTensor(),\n",
    "    v2.ToImage(),\n",
    "    v2.ToDtype(torch.float32, scale=True),\n",
    "    v2.Normalize((0.5,), (0.5,))  # Normalization to [-1, 1]\n",
    "])\n",
    "\n",
    "# dataset = torchvision.datasets.MNIST(root='./data', train=True, transform=transform, download=False)\n",
    "train, test = torch.from_numpy(X_train).float()/127.5 - 1, torch.from_numpy(y_train).int()\n",
    "# dataloader = DataLoader((train, test), batch_size=64, shuffle=True, generator=torch.Generator(device=device))\n",
    "dataset = torch.utils.data.TensorDataset(train, test)\n",
    "dataloader = DataLoader(dataset, batch_size=64, shuffle=True, generator=torch.Generator(device=device))\n",
    "# dataloader = TransformedTensorDataset(dataset, transform=transform)"
   ],
   "outputs": [],
   "execution_count": 27
  },
  {
   "cell_type": "code",
   "id": "b2790d0a4113b839",
   "metadata": {
    "ExecuteTime": {
     "end_time": "2024-11-05T15:32:47.282722Z",
     "start_time": "2024-11-05T15:30:34.129552Z"
    }
   },
   "source": [
    "num_epochs = 10 #50\n",
    "for epoch in range(num_epochs):\n",
    "    for batch_idx, (real, _) in enumerate(dataloader):\n",
    "        batch_size = real.size(0)   # batch_size\n",
    "        real: torch.Tensor = real.view(batch_size, -1).to(device=device)    # reshape\n",
    "        \n",
    "        # Labels for real and fake\n",
    "        labels_real = torch.ones(batch_size, 1).to(device=device)\n",
    "        labels_fake = torch.zeros(batch_size, 1).to(device=device)\n",
    "\n",
    "        # train Discriminator for real\n",
    "        disc_real = disc(real)\n",
    "        loss_disc_real = criterion(disc_real, labels_real)\n",
    "\n",
    "        # train Discriminator for fake\n",
    "        noise = torch.randn(batch_size, noise_dim)\n",
    "        fake_images = gen(noise)\n",
    "        disc_fake = disc(fake_images.detach())\n",
    "        loss_disc_fake = criterion(disc_fake, labels_fake)\n",
    "\n",
    "        # total loss of Discriminator\n",
    "        loss_disc: torch.Tensor = (loss_disc_real + loss_disc_fake) / 2\n",
    "        optimizer_disc.zero_grad()\n",
    "        loss_disc.backward()\n",
    "        optimizer_disc.step()\n",
    "\n",
    "        # train Generator to fool Discriminator\n",
    "        output = disc(fake_images)\n",
    "        loss_gen = criterion(output, labels_real)\n",
    "        optimizer_gen.zero_grad()\n",
    "        loss_gen.backward()\n",
    "        optimizer_gen.step()\n",
    "\n",
    "    print(f\"Epoch [{epoch+1}/{num_epochs}] | Loss D: {loss_disc:.4f}, Loss G: {loss_gen:.4f}\")"
   ],
   "outputs": [
    {
     "name": "stdout",
     "output_type": "stream",
     "text": [
      "Epoch [1/10] | Loss D: 0.4132, Loss G: 2.0428\n",
      "Epoch [2/10] | Loss D: 0.2971, Loss G: 1.5478\n",
      "Epoch [3/10] | Loss D: 0.4221, Loss G: 2.2056\n",
      "Epoch [4/10] | Loss D: 0.4298, Loss G: 1.8214\n",
      "Epoch [5/10] | Loss D: 0.5227, Loss G: 1.0401\n",
      "Epoch [6/10] | Loss D: 0.4775, Loss G: 1.7065\n",
      "Epoch [7/10] | Loss D: 0.4609, Loss G: 1.4400\n",
      "Epoch [8/10] | Loss D: 0.5563, Loss G: 1.2151\n",
      "Epoch [9/10] | Loss D: 0.5441, Loss G: 1.2382\n",
      "Epoch [10/10] | Loss D: 0.5794, Loss G: 1.2732\n"
     ]
    }
   ],
   "execution_count": 29
  },
  {
   "cell_type": "code",
   "id": "61b85317dd52a11b",
   "metadata": {
    "ExecuteTime": {
     "end_time": "2024-11-05T15:32:51.506961Z",
     "start_time": "2024-11-05T15:32:51.432648Z"
    }
   },
   "source": [
    "def generate_and_plot_images(generator, noise_dim, num_images=25):\n",
    "    noise = torch.randn(num_images, noise_dim)\n",
    "    fake_images = generator(noise).view(-1, 1, 28, 28)\n",
    "    fake_images = (fake_images ) / 2 + 0.5 # scale to [0, 1]\n",
    "\n",
    "    grid = torchvision.utils.make_grid(fake_images, nrow=5)\n",
    "    plt.figure(figsize=(10, 10))\n",
    "    plt.imshow(np.transpose(grid.detach().cpu().numpy(), (1, 2, 0)))\n",
    "    plt.axis(\"off\")\n",
    "    plt.show()\n",
    "\n",
    "# generate\n",
    "generate_and_plot_images(gen, noise_dim)"
   ],
   "outputs": [
    {
     "data": {
      "text/plain": [
       "<Figure size 1000x1000 with 1 Axes>"
      ],
      "image/png": "[encoded data removed]"
     },
     "metadata": {},
     "output_type": "display_data"
    }
   ],
   "execution_count": 30
  },
  {
   "metadata": {
    "ExecuteTime": {
     "end_time": "2024-11-05T15:19:34.561661Z",
     "start_time": "2024-11-05T15:19:34.560246Z"
    }
   },
   "cell_type": "code",
   "source": "",
   "id": "562ec0ada31bd483",
   "outputs": [],
   "execution_count": null
  }
 ],
 "metadata": {
  "kernelspec": {
   "display_name": "learn-ml",
   "language": "python",
   "name": "python3"
  },
  "language_info": {
   "codemirror_mode": {
    "name": "ipython",
    "version": 3
   },
   "file_extension": ".py",
   "mimetype": "text/x-python",
   "name": "python",
   "nbconvert_exporter": "python",
   "pygments_lexer": "ipython3",
   "version": "3.10.13"
  }
 },
 "nbformat": 4,
 "nbformat_minor": 5
}
