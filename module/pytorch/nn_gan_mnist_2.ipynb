{
 "cells": [
  {
   "cell_type": "code",
   "id": "initial_id",
   "metadata": {
    "collapsed": true,
    "ExecuteTime": {
     "end_time": "2024-11-05T16:58:11.821881Z",
     "start_time": "2024-11-05T16:58:10.772721Z"
    }
   },
   "source": [
    "import torch\n",
    "import torch.nn as nn\n",
    "import torch.optim as optim\n",
    "import torchvision\n",
    "import torchvision.transforms as transforms\n",
    "from torch.utils.data import DataLoader, TensorDataset\n",
    "import matplotlib.pyplot as plt\n",
    "import numpy as np"
   ],
   "outputs": [],
   "execution_count": 1
  },
  {
   "cell_type": "code",
   "id": "30f3e774",
   "metadata": {
    "ExecuteTime": {
     "end_time": "2024-11-05T16:58:11.838327Z",
     "start_time": "2024-11-05T16:58:11.825838Z"
    }
   },
   "source": [
    "device = (\n",
    "    \"cuda\"\n",
    "    if torch.cuda.is_available()\n",
    "    else \"mps\"\n",
    "    if torch.backends.mps.is_available()\n",
    "    else \"cpu\"\n",
    ")\n",
    "print(f\"device: {device}\")\n",
    "torch.set_default_device(device)"
   ],
   "outputs": [
    {
     "name": "stdout",
     "output_type": "stream",
     "text": [
      "device: mps\n"
     ]
    }
   ],
   "execution_count": 2
  },
  {
   "metadata": {
    "ExecuteTime": {
     "end_time": "2024-11-05T16:58:12.005345Z",
     "start_time": "2024-11-05T16:58:11.867155Z"
    }
   },
   "cell_type": "code",
   "source": [
    "from module.conf import PROJECT_DIR\n",
    "import struct\n",
    "from array import array \n",
    "\n",
    "mnist_path = \"/data/sample/mnist\"\n",
    "training_images_filepath = \"\".join([PROJECT_DIR, mnist_path, \"/train-images.idx3-ubyte\"])\n",
    "training_labels_filepath = \"\".join([PROJECT_DIR, mnist_path, \"/train-labels.idx1-ubyte\"])\n",
    "test_images_filepath = \"\".join([PROJECT_DIR, mnist_path, \"/t10k-images.idx3-ubyte\"])\n",
    "test_labels_filepath = \"\".join([PROJECT_DIR, mnist_path, \"/t10k-labels.idx1-ubyte\"])\n",
    "\n",
    "def read_images_labels(images_filepath, labels_filepath) -> tuple:\n",
    "    labels = []\n",
    "    with open(labels_filepath, 'rb') as file:\n",
    "        magic, size = struct.unpack(\">II\", file.read(8))\n",
    "        if magic != 2049:\n",
    "            raise ValueError('Magic number mismatch, expected 2049, got {}'.format(magic))\n",
    "        # labels = array(\"B\", file.read())\n",
    "        labels = array(\"B\", file.read())\n",
    "\n",
    "    with open(images_filepath, 'rb') as file:\n",
    "        magic, size, rows, cols = struct.unpack(\">IIII\", file.read(16))\n",
    "        if magic != 2051:\n",
    "            raise ValueError('Magic number mismatch, expected 2051, got {}'.format(magic))\n",
    "        image_data = array(\"B\", file.read())\n",
    "\n",
    "    images = []\n",
    "    # for i in range(size):\n",
    "    #     images.append([0] * rows * cols)\n",
    "    for i in range(size):\n",
    "        img = np.array(image_data[i * rows * cols:(i + 1) * rows * cols])\n",
    "        img = img.reshape(28, 28)\n",
    "        # images[i][:] = img\n",
    "        images.append(img)\n",
    "\n",
    "    return images, labels\n",
    "\n",
    "def load_data() -> ((np.ndarray, np.ndarray),(np.ndarray, np.ndarray)):\n",
    "    x_train, y_train = read_images_labels(training_images_filepath, training_labels_filepath)\n",
    "    x_test, y_test = read_images_labels(test_images_filepath, test_labels_filepath)\n",
    "    return (np.array(x_train, dtype=np.float32), np.array(y_train)),(np.array(x_test, dtype=np.float32), np.array(y_test))\n",
    "\n",
    "(X_train, y_train), (X_test, y_test) = load_data()\n",
    "# X_train, X_test = X_train / 255.0, X_test / 255.0"
   ],
   "id": "a5b3b34223bd2009",
   "outputs": [],
   "execution_count": 3
  },
  {
   "cell_type": "code",
   "id": "e3663b92aa233c6",
   "metadata": {
    "ExecuteTime": {
     "end_time": "2024-11-05T16:58:12.016019Z",
     "start_time": "2024-11-05T16:58:12.012459Z"
    }
   },
   "source": [
    "class Generator(nn.Module):\n",
    "    def __init__(self, noise_dim=100, img_dim=784):  # 28*28=784 fors MNIST\n",
    "        super(Generator, self).__init__()\n",
    "        self.gen = nn.Sequential(\n",
    "            nn.Linear(noise_dim, 256),\n",
    "            nn.LeakyReLU(0.2),\n",
    "            nn.Linear(256, 512),\n",
    "            nn.LeakyReLU(0.2),\n",
    "            nn.Linear(512, 1024),\n",
    "            nn.LeakyReLU(0.2),\n",
    "            nn.Linear(1024, img_dim),\n",
    "            nn.Tanh()\n",
    "        )\n",
    "\n",
    "    def forward(self, x):\n",
    "        return self.gen(x)\n",
    "\n",
    "class Discriminator(nn.Module):\n",
    "    def __init__(self, img_dim=784):\n",
    "        super(Discriminator, self).__init__()\n",
    "        self.disc = nn.Sequential(\n",
    "            nn.Linear(img_dim, 1024),\n",
    "            nn.LeakyReLU(0.2),\n",
    "            nn.Dropout(0.3),\n",
    "            nn.Linear(1024, 512),\n",
    "            nn.LeakyReLU(0.2),\n",
    "            nn.Dropout(0.3),\n",
    "            nn.Linear(512, 256),\n",
    "            nn.LeakyReLU(0.2),\n",
    "            nn.Dropout(0.3),\n",
    "            nn.Linear(256, 1),\n",
    "            nn.Sigmoid()\n",
    "        )\n",
    "\n",
    "    def forward(self, x):\n",
    "        return self.disc(x)"
   ],
   "outputs": [],
   "execution_count": 4
  },
  {
   "cell_type": "code",
   "id": "27d1c3b1c64b9118",
   "metadata": {
    "ExecuteTime": {
     "end_time": "2024-11-05T16:58:12.088825Z",
     "start_time": "2024-11-05T16:58:12.021758Z"
    }
   },
   "source": [
    "# random noise vector\n",
    "noise_dim = 100\n",
    "\n",
    "# init Generator and Discriminator\n",
    "gen = Generator(noise_dim).to(device=device)\n",
    "disc = Discriminator().to(device=device)\n",
    "\n",
    "# loss and optimizers\n",
    "criterion = nn.BCELoss().to(device=device)\n",
    "optimizer_gen = optim.Adam(gen.parameters(), lr=0.0002)\n",
    "optimizer_disc = optim.Adam(disc.parameters(), lr=0.0002)"
   ],
   "outputs": [],
   "execution_count": 5
  },
  {
   "metadata": {
    "ExecuteTime": {
     "end_time": "2024-11-05T16:58:12.097682Z",
     "start_time": "2024-11-05T16:58:12.095170Z"
    }
   },
   "cell_type": "code",
   "source": [
    "from torch.utils.data import Dataset\n",
    "\n",
    "\n",
    "class TransformedTensorDataset(Dataset):\n",
    "    def __init__(self, tensor_dataset, transform=None):\n",
    "        self.tensor_dataset = tensor_dataset\n",
    "        self.transform = transform\n",
    "    def __len__(self):\n",
    "        return len(self.tensor_dataset)\n",
    "    def __getitem__(self, idx):\n",
    "        sample, label = self.tensor_dataset[idx]\n",
    "        if self.transform:\n",
    "            sample = self.transform(sample)\n",
    "            pass\n",
    "        return sample, label"
   ],
   "id": "14f186ac5eb52e07",
   "outputs": [],
   "execution_count": 6
  },
  {
   "cell_type": "code",
   "id": "e40aa9ff8530ff6b",
   "metadata": {
    "ExecuteTime": {
     "end_time": "2024-11-05T16:58:12.141087Z",
     "start_time": "2024-11-05T16:58:12.104071Z"
    }
   },
   "source": [
    "from torchvision.transforms import v2\n",
    "transform = v2.Compose([\n",
    "    # v2.ToTensor(),\n",
    "    v2.ToImage(),\n",
    "    v2.ToDtype(torch.float32, scale=True),\n",
    "    v2.Normalize((0.5,), (0.5,))  # Normalization to [-1, 1]\n",
    "])\n",
    "\n",
    "# dataset = torchvision.datasets.MNIST(root='./data', train=True, transform=transform, download=False)\n",
    "train, test = torch.from_numpy(X_train).float()/127.5 - 1, torch.from_numpy(y_train).int()\n",
    "# dataloader = DataLoader((train, test), batch_size=64, shuffle=True, generator=torch.Generator(device=device))\n",
    "dataset = torch.utils.data.TensorDataset(train, test)\n",
    "dataloader = DataLoader(dataset, batch_size=64, shuffle=True, generator=torch.Generator(device=device))\n",
    "# dataloader = TransformedTensorDataset(dataset, transform=transform)"
   ],
   "outputs": [],
   "execution_count": 7
  },
  {
   "cell_type": "code",
   "id": "b2790d0a4113b839",
   "metadata": {
    "ExecuteTime": {
     "end_time": "2024-11-05T16:58:12.153462Z",
     "start_time": "2024-11-05T16:58:12.149884Z"
    }
   },
   "source": [
    "def train_gan_1():\n",
    "    num_epochs = 20 #50\n",
    "    for epoch in range(num_epochs):\n",
    "        for batch_idx, (real, _) in enumerate(dataloader):\n",
    "            batch_size = real.size(0)   # batch_size\n",
    "            real: torch.Tensor = real.view(batch_size, -1).to(device=device)    # reshape\n",
    "            \n",
    "            # Labels for real and fake\n",
    "            labels_real = torch.ones(batch_size, 1).to(device=device)\n",
    "            labels_fake = torch.zeros(batch_size, 1).to(device=device)\n",
    "    \n",
    "            # train Discriminator for real\n",
    "            disc_real: torch.Tensor = disc(real)\n",
    "            loss_disc_real: torch.Tensor = criterion(disc_real, labels_real)\n",
    "    \n",
    "            # train Discriminator for fake\n",
    "            noise = torch.randn(batch_size, noise_dim)\n",
    "            fake_images: torch.Tensor = gen(noise)\n",
    "            disc_fake: torch.Tensor = disc(fake_images.detach())\n",
    "            loss_disc_fake: torch.Tensor = criterion(disc_fake, labels_fake)\n",
    "    \n",
    "            # total loss of Discriminator\n",
    "            loss_disc: torch.Tensor = (loss_disc_real + loss_disc_fake) # / 2\n",
    "            # loss_disc: torch.Tensor = -disc_real + loss_disc_fake\n",
    "            optimizer_disc.zero_grad()\n",
    "            loss_disc.backward()\n",
    "            optimizer_disc.step()\n",
    "    \n",
    "            # train Generator to fool Discriminator\n",
    "            output = disc(fake_images)\n",
    "            loss_gen = criterion(output, labels_real)\n",
    "            optimizer_gen.zero_grad()\n",
    "            loss_gen.backward()\n",
    "            optimizer_gen.step()\n",
    "    \n",
    "        print(f\"Epoch [{epoch+1}/{num_epochs}] | Loss D: {loss_disc:.4f}, Loss G: {loss_gen:.4f}\")\n",
    "# train_gan_1()"
   ],
   "outputs": [],
   "execution_count": 8
  },
  {
   "metadata": {
    "ExecuteTime": {
     "end_time": "2024-11-05T17:02:43.283849Z",
     "start_time": "2024-11-05T16:58:12.161332Z"
    }
   },
   "cell_type": "code",
   "source": [
    "def train_gan_2():\n",
    "    num_epochs = 20 #50\n",
    "    for epoch in range(num_epochs):\n",
    "        for batch_idx, (real, _) in enumerate(dataloader):\n",
    "            batch_size = real.size(0)   # batch_size\n",
    "            real: torch.Tensor = real.view(batch_size, -1).to(device=device)    # reshape\n",
    "\n",
    "            # Labels for real and fake\n",
    "            labels_real = torch.ones(batch_size, 1).to(device=device)\n",
    "            labels_fake = torch.zeros(batch_size, 1).to(device=device)\n",
    "\n",
    "            # train Discriminator for real\n",
    "            optimizer_disc.zero_grad()\n",
    "            disc_real: torch.Tensor = disc(real)\n",
    "            loss_disc_real: torch.Tensor = criterion(disc_real, labels_real)\n",
    "            # loss_disc_real.backward()\n",
    "\n",
    "            # train Discriminator for fake\n",
    "            noise = torch.randn(batch_size, noise_dim)\n",
    "            fake_images: torch.Tensor = gen(noise)\n",
    "            disc_fake: torch.Tensor = disc(fake_images.detach())\n",
    "            loss_disc_fake: torch.Tensor = criterion(disc_fake, labels_fake)\n",
    "            # loss_disc_fake.backward()\n",
    "            # optimizer_disc.step()\n",
    "            \n",
    "            # total loss of Discriminator\n",
    "            loss_disc: torch.Tensor = (loss_disc_real + loss_disc_fake) # / 2\n",
    "            loss_disc.backward()\n",
    "            optimizer_disc.step()\n",
    "            \n",
    "            # train Generator to fool Discriminator\n",
    "            optimizer_gen.zero_grad()\n",
    "            output = disc(fake_images)\n",
    "            loss_gen = criterion(output, labels_real)\n",
    "            loss_gen.backward()\n",
    "            optimizer_gen.step()\n",
    "\n",
    "        print(f\"Epoch [{epoch+1}/{num_epochs}] | Loss D: {loss_disc:.4f}, Loss G: {loss_gen:.4f}\")\n",
    "train_gan_2()"
   ],
   "id": "66257bd6c9a97819",
   "outputs": [
    {
     "name": "stdout",
     "output_type": "stream",
     "text": [
      "Epoch [1/20] | Loss D: 0.6866, Loss G: 3.1212\n",
      "Epoch [2/20] | Loss D: 0.1850, Loss G: 4.9780\n",
      "Epoch [3/20] | Loss D: 0.8712, Loss G: 2.1829\n",
      "Epoch [4/20] | Loss D: 0.7557, Loss G: 3.6684\n",
      "Epoch [5/20] | Loss D: 0.4253, Loss G: 3.4836\n",
      "Epoch [6/20] | Loss D: 0.2902, Loss G: 4.2003\n",
      "Epoch [7/20] | Loss D: 0.3230, Loss G: 2.7840\n",
      "Epoch [8/20] | Loss D: 0.5913, Loss G: 2.2437\n",
      "Epoch [9/20] | Loss D: 1.0675, Loss G: 1.9205\n",
      "Epoch [10/20] | Loss D: 0.7381, Loss G: 1.8340\n",
      "Epoch [11/20] | Loss D: 0.6529, Loss G: 1.7063\n",
      "Epoch [12/20] | Loss D: 0.7143, Loss G: 1.4830\n",
      "Epoch [13/20] | Loss D: 0.6048, Loss G: 1.6239\n",
      "Epoch [14/20] | Loss D: 0.9751, Loss G: 1.3673\n",
      "Epoch [15/20] | Loss D: 0.7690, Loss G: 1.3700\n",
      "Epoch [16/20] | Loss D: 0.8138, Loss G: 1.5636\n",
      "Epoch [17/20] | Loss D: 0.6728, Loss G: 2.1492\n",
      "Epoch [18/20] | Loss D: 0.8801, Loss G: 1.7040\n",
      "Epoch [19/20] | Loss D: 0.9300, Loss G: 1.9465\n",
      "Epoch [20/20] | Loss D: 0.9749, Loss G: 1.2398\n"
     ]
    }
   ],
   "execution_count": 9
  },
  {
   "cell_type": "code",
   "id": "61b85317dd52a11b",
   "metadata": {
    "ExecuteTime": {
     "end_time": "2024-11-05T17:03:08.049742Z",
     "start_time": "2024-11-05T17:03:08.001131Z"
    }
   },
   "source": [
    "def generate_and_plot_images(generator, noise_dim, num_images=25):\n",
    "    noise = torch.randn(num_images, noise_dim)\n",
    "    fake_images = generator(noise).view(-1, 1, 28, 28)\n",
    "    fake_images = (fake_images ) / 2 + 0.5 # scale to [0, 1]\n",
    "\n",
    "    grid = torchvision.utils.make_grid(fake_images, nrow=5)\n",
    "    plt.figure(figsize=(10, 10))\n",
    "    plt.imshow(np.transpose(grid.detach().cpu().numpy(), (1, 2, 0)))\n",
    "    plt.axis(\"off\")\n",
    "    plt.show()\n",
    "\n",
    "# generate\n",
    "generate_and_plot_images(gen, noise_dim)"
   ],
   "outputs": [
    {
     "data": {
      "text/plain": [
       "<Figure size 1000x1000 with 1 Axes>"
      ],
      "image/png": "[encoded data removed]"
     },
     "metadata": {},
     "output_type": "display_data"
    }
   ],
   "execution_count": 19
  },
  {
   "metadata": {
    "ExecuteTime": {
     "end_time": "2024-11-05T17:03:27.776988Z",
     "start_time": "2024-11-05T17:03:12.902239Z"
    }
   },
   "cell_type": "code",
   "source": [
    "import torch\n",
    "import torch.nn as nn\n",
    "import torch.optim as optim\n",
    "import numpy as np\n",
    "import matplotlib.pyplot as plt\n",
    "\n",
    "# Thiết lập seed\n",
    "torch.manual_seed(0)\n",
    "\n",
    "# Cấu trúc Generator\n",
    "class Generator(nn.Module):\n",
    "    def __init__(self, input_dim):\n",
    "        super(Generator, self).__init__()\n",
    "        self.model = nn.Sequential(\n",
    "            nn.Linear(input_dim, 128),\n",
    "            nn.ReLU(),\n",
    "            nn.Linear(128, 256),\n",
    "            nn.ReLU(),\n",
    "            nn.Linear(256, 1),  # Đầu ra là một giá trị\n",
    "        )\n",
    "\n",
    "    def forward(self, x):\n",
    "        return self.model(x)\n",
    "\n",
    "# Cấu trúc Discriminator\n",
    "class Discriminator(nn.Module):\n",
    "    def __init__(self):\n",
    "        super(Discriminator, self).__init__()\n",
    "        self.model = nn.Sequential(\n",
    "            nn.Linear(1, 256),\n",
    "            nn.ReLU(),\n",
    "            nn.Linear(256, 128),\n",
    "            nn.ReLU(),\n",
    "            nn.Linear(128, 1),  # Đầu ra là giá trị không bị giới hạn\n",
    "        )\n",
    "\n",
    "    def forward(self, x):\n",
    "        return self.model(x)\n",
    "\n",
    "# Hàm huấn luyện WGAN\n",
    "def train_wgan(generator, discriminator, num_epochs=1000, batch_size=64, noise_dim=10):\n",
    "    d_optimizer = optim.RMSprop(discriminator.parameters(), lr=0.00005)\n",
    "    g_optimizer = optim.RMSprop(generator.parameters(), lr=0.00005)\n",
    "\n",
    "    for epoch in range(num_epochs):\n",
    "        for _ in range(5):  # Huấn luyện Discriminator nhiều lần\n",
    "            # Tạo dữ liệu thật từ phân phối chuẩn\n",
    "            real_data = torch.randn(batch_size, 1) * 0.5 + 2  # Giả sử dữ liệu thật đến từ phân phối N(2, 0.5)\n",
    "\n",
    "            # Tạo noise cho Generator\n",
    "            noise = torch.randn(batch_size, noise_dim)\n",
    "\n",
    "            # Đầu ra từ Generator\n",
    "            fake_data = generator(noise)\n",
    "\n",
    "            # Tính toán giá trị Discriminator cho dữ liệu thật và giả\n",
    "            d_loss_real = discriminator(real_data)\n",
    "            d_loss_fake = discriminator(fake_data)\n",
    "\n",
    "            # Tính toán Wasserstein Loss\n",
    "            d_loss = -torch.mean(d_loss_real) + torch.mean(d_loss_fake)\n",
    "\n",
    "            # Cập nhật Discriminator\n",
    "            d_optimizer.zero_grad()\n",
    "            d_loss.backward()\n",
    "            d_optimizer.step()\n",
    "\n",
    "            # Clip trọng số của Discriminator để đảm bảo tính khả thi\n",
    "            for p in discriminator.parameters():\n",
    "                p.data.clamp_(-0.01, 0.01)\n",
    "\n",
    "        # Huấn luyện Generator\n",
    "        noise = torch.randn(batch_size, noise_dim)\n",
    "        fake_data = generator(noise)\n",
    "        g_loss = -torch.mean(discriminator(fake_data))\n",
    "\n",
    "        g_optimizer.zero_grad()\n",
    "        g_loss.backward()\n",
    "        g_optimizer.step()\n",
    "\n",
    "        if epoch % 100 == 0:\n",
    "            print(f'Epoch [{epoch}/{num_epochs}], d_loss: {d_loss.item():.4f}, g_loss: {g_loss.item():.4f}')\n",
    "\n",
    "# Khởi tạo mô hình\n",
    "generator = Generator(input_dim=10)\n",
    "discriminator = Discriminator()\n",
    "\n",
    "# Huấn luyện WGAN\n",
    "train_wgan(generator, discriminator)\n",
    "\n",
    "# Vẽ kết quả\n",
    "z = torch.randn(1000, 10)\n",
    "fake_samples = generator(z).detach().numpy()\n",
    "plt.hist(fake_samples, bins=30, alpha=0.5, color='orange')\n",
    "plt.title(\"Generated Samples\")\n",
    "plt.show()"
   ],
   "id": "562ec0ada31bd483",
   "outputs": [
    {
     "name": "stdout",
     "output_type": "stream",
     "text": [
      "Epoch [0/1000], d_loss: -0.0004, g_loss: -0.0092\n",
      "Epoch [100/1000], d_loss: -0.0004, g_loss: -0.0054\n",
      "Epoch [200/1000], d_loss: 0.0001, g_loss: -0.0106\n",
      "Epoch [300/1000], d_loss: -0.0000, g_loss: -0.0073\n",
      "Epoch [400/1000], d_loss: 0.0000, g_loss: -0.0080\n",
      "Epoch [500/1000], d_loss: 0.0000, g_loss: -0.0067\n",
      "Epoch [600/1000], d_loss: 0.0000, g_loss: -0.0076\n",
      "Epoch [700/1000], d_loss: -0.0000, g_loss: -0.0073\n",
      "Epoch [800/1000], d_loss: -0.0001, g_loss: -0.0063\n",
      "Epoch [900/1000], d_loss: -0.0001, g_loss: -0.0075\n"
     ]
    },
    {
     "ename": "TypeError",
     "evalue": "can't convert mps:0 device type tensor to numpy. Use Tensor.cpu() to copy the tensor to host memory first.",
     "output_type": "error",
     "traceback": [
      "\u001B[0;31m---------------------------------------------------------------------------\u001B[0m",
      "\u001B[0;31mTypeError\u001B[0m                                 Traceback (most recent call last)",
      "Cell \u001B[0;32mIn[20], line 93\u001B[0m\n\u001B[1;32m     91\u001B[0m \u001B[38;5;66;03m# Vẽ kết quả\u001B[39;00m\n\u001B[1;32m     92\u001B[0m z \u001B[38;5;241m=\u001B[39m torch\u001B[38;5;241m.\u001B[39mrandn(\u001B[38;5;241m1000\u001B[39m, \u001B[38;5;241m10\u001B[39m)\n\u001B[0;32m---> 93\u001B[0m fake_samples \u001B[38;5;241m=\u001B[39m \u001B[43mgenerator\u001B[49m\u001B[43m(\u001B[49m\u001B[43mz\u001B[49m\u001B[43m)\u001B[49m\u001B[38;5;241;43m.\u001B[39;49m\u001B[43mdetach\u001B[49m\u001B[43m(\u001B[49m\u001B[43m)\u001B[49m\u001B[38;5;241;43m.\u001B[39;49m\u001B[43mnumpy\u001B[49m\u001B[43m(\u001B[49m\u001B[43m)\u001B[49m\n\u001B[1;32m     94\u001B[0m plt\u001B[38;5;241m.\u001B[39mhist(fake_samples, bins\u001B[38;5;241m=\u001B[39m\u001B[38;5;241m30\u001B[39m, alpha\u001B[38;5;241m=\u001B[39m\u001B[38;5;241m0.5\u001B[39m, color\u001B[38;5;241m=\u001B[39m\u001B[38;5;124m'\u001B[39m\u001B[38;5;124morange\u001B[39m\u001B[38;5;124m'\u001B[39m)\n\u001B[1;32m     95\u001B[0m plt\u001B[38;5;241m.\u001B[39mtitle(\u001B[38;5;124m\"\u001B[39m\u001B[38;5;124mGenerated Samples\u001B[39m\u001B[38;5;124m\"\u001B[39m)\n",
      "File \u001B[0;32m~/conda/envs/learn-ml/lib/python3.10/site-packages/torch/utils/_device.py:79\u001B[0m, in \u001B[0;36mDeviceContext.__torch_function__\u001B[0;34m(self, func, types, args, kwargs)\u001B[0m\n\u001B[1;32m     77\u001B[0m \u001B[38;5;28;01mif\u001B[39;00m func \u001B[38;5;129;01min\u001B[39;00m _device_constructors() \u001B[38;5;129;01mand\u001B[39;00m kwargs\u001B[38;5;241m.\u001B[39mget(\u001B[38;5;124m'\u001B[39m\u001B[38;5;124mdevice\u001B[39m\u001B[38;5;124m'\u001B[39m) \u001B[38;5;129;01mis\u001B[39;00m \u001B[38;5;28;01mNone\u001B[39;00m:\n\u001B[1;32m     78\u001B[0m     kwargs[\u001B[38;5;124m'\u001B[39m\u001B[38;5;124mdevice\u001B[39m\u001B[38;5;124m'\u001B[39m] \u001B[38;5;241m=\u001B[39m \u001B[38;5;28mself\u001B[39m\u001B[38;5;241m.\u001B[39mdevice\n\u001B[0;32m---> 79\u001B[0m \u001B[38;5;28;01mreturn\u001B[39;00m \u001B[43mfunc\u001B[49m\u001B[43m(\u001B[49m\u001B[38;5;241;43m*\u001B[39;49m\u001B[43margs\u001B[49m\u001B[43m,\u001B[49m\u001B[43m \u001B[49m\u001B[38;5;241;43m*\u001B[39;49m\u001B[38;5;241;43m*\u001B[39;49m\u001B[43mkwargs\u001B[49m\u001B[43m)\u001B[49m\n",
      "\u001B[0;31mTypeError\u001B[0m: can't convert mps:0 device type tensor to numpy. Use Tensor.cpu() to copy the tensor to host memory first."
     ]
    }
   ],
   "execution_count": 20
  }
 ],
 "metadata": {
  "kernelspec": {
   "display_name": "learn-ml",
   "language": "python",
   "name": "python3"
  },
  "language_info": {
   "codemirror_mode": {
    "name": "ipython",
    "version": 3
   },
   "file_extension": ".py",
   "mimetype": "text/x-python",
   "name": "python",
   "nbconvert_exporter": "python",
   "pygments_lexer": "ipython3",
   "version": "3.10.13"
  }
 },
 "nbformat": 4,
 "nbformat_minor": 5
}
