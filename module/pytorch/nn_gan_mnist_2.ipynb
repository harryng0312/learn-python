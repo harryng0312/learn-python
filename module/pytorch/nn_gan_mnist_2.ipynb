{
 "cells": [
  {
   "cell_type": "code",
   "execution_count": 1,
   "id": "initial_id",
   "metadata": {
    "ExecuteTime": {
     "end_time": "2024-11-05T16:58:11.821881Z",
     "start_time": "2024-11-05T16:58:10.772721Z"
    },
    "collapsed": true
   },
   "outputs": [],
   "source": [
    "import torch\n",
    "import torch.nn as nn\n",
    "import torch.optim as optim\n",
    "import torchvision\n",
    "import torchvision.transforms as transforms\n",
    "from torch.utils.data import DataLoader, TensorDataset\n",
    "import matplotlib.pyplot as plt\n",
    "import numpy as np"
   ]
  },
  {
   "cell_type": "code",
   "id": "30f3e774",
   "metadata": {
    "ExecuteTime": {
     "end_time": "2024-11-07T15:23:29.076102Z",
     "start_time": "2024-11-07T15:23:29.071025Z"
    }
   },
   "source": [
    "device = (\n",
    "    \"cuda\"\n",
    "    if torch.cuda.is_available()\n",
    "    else \"mps\"\n",
    "    if torch.backends.mps.is_available()\n",
    "    else \"cpu\"\n",
    ")\n",
    "print(f\"device: {device}\")\n",
    "torch.set_default_device(device)"
   ],
   "outputs": [
    {
     "ename": "SyntaxError",
     "evalue": "invalid syntax (4122199097.py, line 7)",
     "output_type": "error",
     "traceback": [
      "\u001B[0;36m  Cell \u001B[0;32mIn[1], line 7\u001B[0;36m\u001B[0m\n\u001B[0;31m    else \"cpu\"\u001B[0m\n\u001B[0m    ^\u001B[0m\n\u001B[0;31mSyntaxError\u001B[0m\u001B[0;31m:\u001B[0m invalid syntax\n"
     ]
    }
   ],
   "execution_count": 1
  },
  {
   "cell_type": "code",
   "execution_count": 3,
   "id": "a5b3b34223bd2009",
   "metadata": {
    "ExecuteTime": {
     "end_time": "2024-11-05T16:58:12.005345Z",
     "start_time": "2024-11-05T16:58:11.867155Z"
    }
   },
   "outputs": [],
   "source": [
    "from module.conf import PROJECT_DIR\n",
    "import struct\n",
    "from array import array \n",
    "\n",
    "mnist_path = \"/data/sample/mnist\"\n",
    "training_images_filepath = \"\".join([PROJECT_DIR, mnist_path, \"/train-images.idx3-ubyte\"])\n",
    "training_labels_filepath = \"\".join([PROJECT_DIR, mnist_path, \"/train-labels.idx1-ubyte\"])\n",
    "test_images_filepath = \"\".join([PROJECT_DIR, mnist_path, \"/t10k-images.idx3-ubyte\"])\n",
    "test_labels_filepath = \"\".join([PROJECT_DIR, mnist_path, \"/t10k-labels.idx1-ubyte\"])\n",
    "\n",
    "def read_images_labels(images_filepath, labels_filepath) -> tuple:\n",
    "    labels = []\n",
    "    with open(labels_filepath, 'rb') as file:\n",
    "        magic, size = struct.unpack(\">II\", file.read(8))\n",
    "        if magic != 2049:\n",
    "            raise ValueError('Magic number mismatch, expected 2049, got {}'.format(magic))\n",
    "        # labels = array(\"B\", file.read())\n",
    "        labels = array(\"B\", file.read())\n",
    "\n",
    "    with open(images_filepath, 'rb') as file:\n",
    "        magic, size, rows, cols = struct.unpack(\">IIII\", file.read(16))\n",
    "        if magic != 2051:\n",
    "            raise ValueError('Magic number mismatch, expected 2051, got {}'.format(magic))\n",
    "        image_data = array(\"B\", file.read())\n",
    "\n",
    "    images = []\n",
    "    # for i in range(size):\n",
    "    #     images.append([0] * rows * cols)\n",
    "    for i in range(size):\n",
    "        img = np.array(image_data[i * rows * cols:(i + 1) * rows * cols])\n",
    "        img = img.reshape(28, 28)\n",
    "        # images[i][:] = img\n",
    "        images.append(img)\n",
    "\n",
    "    return images, labels\n",
    "\n",
    "def load_data() -> ((np.ndarray, np.ndarray),(np.ndarray, np.ndarray)):\n",
    "    x_train, y_train = read_images_labels(training_images_filepath, training_labels_filepath)\n",
    "    x_test, y_test = read_images_labels(test_images_filepath, test_labels_filepath)\n",
    "    return (np.array(x_train, dtype=np.float32), np.array(y_train)),(np.array(x_test, dtype=np.float32), np.array(y_test))\n",
    "\n",
    "(X_train, y_train), (X_test, y_test) = load_data()\n",
    "# X_train, X_test = X_train / 255.0, X_test / 255.0"
   ]
  },
  {
   "cell_type": "code",
   "execution_count": 4,
   "id": "e3663b92aa233c6",
   "metadata": {
    "ExecuteTime": {
     "end_time": "2024-11-05T16:58:12.016019Z",
     "start_time": "2024-11-05T16:58:12.012459Z"
    }
   },
   "outputs": [],
   "source": [
    "class Generator(nn.Module):\n",
    "    def __init__(self, noise_dim=100, img_dim=784):  # 28*28=784 fors MNIST\n",
    "        super(Generator, self).__init__()\n",
    "        self.gen = nn.Sequential(\n",
    "            nn.Linear(noise_dim, 256),\n",
    "            nn.LeakyReLU(0.2),\n",
    "            nn.Linear(256, 512),\n",
    "            nn.LeakyReLU(0.2),\n",
    "            nn.Linear(512, 1024),\n",
    "            nn.LeakyReLU(0.2),\n",
    "            nn.Linear(1024, img_dim),\n",
    "            nn.Tanh()\n",
    "        )\n",
    "\n",
    "    def forward(self, x):\n",
    "        return self.gen(x)\n",
    "\n",
    "class Discriminator(nn.Module):\n",
    "    def __init__(self, img_dim=784):\n",
    "        super(Discriminator, self).__init__()\n",
    "        self.disc = nn.Sequential(\n",
    "            nn.Linear(img_dim, 1024),\n",
    "            nn.LeakyReLU(0.2),\n",
    "            nn.Dropout(0.3),\n",
    "            nn.Linear(1024, 512),\n",
    "            nn.LeakyReLU(0.2),\n",
    "            nn.Dropout(0.3),\n",
    "            nn.Linear(512, 256),\n",
    "            nn.LeakyReLU(0.2),\n",
    "            nn.Dropout(0.3),\n",
    "            nn.Linear(256, 1),\n",
    "            nn.Sigmoid()\n",
    "        )\n",
    "\n",
    "    def forward(self, x):\n",
    "        return self.disc(x)"
   ]
  },
  {
   "cell_type": "code",
   "execution_count": 5,
   "id": "27d1c3b1c64b9118",
   "metadata": {
    "ExecuteTime": {
     "end_time": "2024-11-05T16:58:12.088825Z",
     "start_time": "2024-11-05T16:58:12.021758Z"
    }
   },
   "outputs": [],
   "source": [
    "# random noise vector\n",
    "noise_dim = 100\n",
    "\n",
    "# init Generator and Discriminator\n",
    "gen = Generator(noise_dim).to(device=device)\n",
    "disc = Discriminator().to(device=device)\n",
    "\n",
    "# loss and optimizers\n",
    "criterion = nn.BCELoss().to(device=device)\n",
    "optimizer_gen = optim.Adam(gen.parameters(), lr=0.0002)\n",
    "optimizer_disc = optim.Adam(disc.parameters(), lr=0.0002)"
   ]
  },
  {
   "cell_type": "code",
   "execution_count": 6,
   "id": "14f186ac5eb52e07",
   "metadata": {
    "ExecuteTime": {
     "end_time": "2024-11-05T16:58:12.097682Z",
     "start_time": "2024-11-05T16:58:12.095170Z"
    }
   },
   "outputs": [],
   "source": [
    "from torch.utils.data import Dataset\n",
    "\n",
    "\n",
    "class TransformedTensorDataset(Dataset):\n",
    "    def __init__(self, tensor_dataset, transform=None):\n",
    "        self.tensor_dataset = tensor_dataset\n",
    "        self.transform = transform\n",
    "    def __len__(self):\n",
    "        return len(self.tensor_dataset)\n",
    "    def __getitem__(self, idx):\n",
    "        sample, label = self.tensor_dataset[idx]\n",
    "        if self.transform:\n",
    "            sample = self.transform(sample)\n",
    "            pass\n",
    "        return sample, label"
   ]
  },
  {
   "cell_type": "code",
   "execution_count": 7,
   "id": "e40aa9ff8530ff6b",
   "metadata": {
    "ExecuteTime": {
     "end_time": "2024-11-05T16:58:12.141087Z",
     "start_time": "2024-11-05T16:58:12.104071Z"
    }
   },
   "outputs": [],
   "source": [
    "from torchvision.transforms import v2\n",
    "transform = v2.Compose([\n",
    "    # v2.ToTensor(),\n",
    "    v2.ToImage(),\n",
    "    v2.ToDtype(torch.float32, scale=True),\n",
    "    v2.Normalize((0.5,), (0.5,))  # Normalization to [-1, 1]\n",
    "])\n",
    "\n",
    "# dataset = torchvision.datasets.MNIST(root='./data', train=True, transform=transform, download=False)\n",
    "train, test = (torch.from_numpy(X_train).float()/127.5 - 1).to(device=device), torch.from_numpy(y_train).long().to(device=device)\n",
    "# dataloader = DataLoader((train, test), batch_size=64, shuffle=True, generator=torch.Generator(device=device))\n",
    "dataset = torch.utils.data.TensorDataset(train, test)\n",
    "dataloader = DataLoader(dataset, batch_size=64, shuffle=True, generator=torch.Generator(device=device))\n",
    "# dataloader = TransformedTensorDataset(dataset, transform=transform)"
   ]
  },
  {
   "cell_type": "code",
   "execution_count": 8,
   "id": "b2790d0a4113b839",
   "metadata": {
    "ExecuteTime": {
     "end_time": "2024-11-05T16:58:12.153462Z",
     "start_time": "2024-11-05T16:58:12.149884Z"
    }
   },
   "outputs": [],
   "source": [
    "def train_gan_1():\n",
    "    num_epochs = 50 #50\n",
    "    for epoch in range(num_epochs):\n",
    "        for batch_idx, (real, _) in enumerate(dataloader):\n",
    "            batch_size = real.size(0)   # batch_size\n",
    "            real: torch.Tensor = real.view(batch_size, -1).to(device=device)    # reshape\n",
    "            \n",
    "            # Labels for real and fake\n",
    "            labels_real = torch.ones(batch_size, 1).to(device=device)\n",
    "            labels_fake = torch.zeros(batch_size, 1).to(device=device)\n",
    "    \n",
    "            # train Discriminator for real\n",
    "            disc_real: torch.Tensor = disc(real)\n",
    "            loss_disc_real: torch.Tensor = criterion(disc_real, labels_real)\n",
    "    \n",
    "            # train Discriminator for fake\n",
    "            noise = torch.randn(batch_size, noise_dim).to(device=device)\n",
    "            fake_images: torch.Tensor = gen(noise)\n",
    "            disc_fake: torch.Tensor = disc(fake_images.detach())\n",
    "            loss_disc_fake: torch.Tensor = criterion(disc_fake, labels_fake)\n",
    "    \n",
    "            # total loss of Discriminator\n",
    "            loss_disc: torch.Tensor = (loss_disc_real + loss_disc_fake) # / 2\n",
    "            # loss_disc: torch.Tensor = -disc_real + loss_disc_fake\n",
    "            optimizer_disc.zero_grad()\n",
    "            loss_disc.backward()\n",
    "            optimizer_disc.step()\n",
    "    \n",
    "            # train Generator to fool Discriminator\n",
    "            output = disc(fake_images)\n",
    "            loss_gen = criterion(output, labels_real)\n",
    "            optimizer_gen.zero_grad()\n",
    "            loss_gen.backward()\n",
    "            optimizer_gen.step()\n",
    "    \n",
    "        print(f\"Epoch [{epoch+1}/{num_epochs}] | Loss D: {loss_disc:.4f}, Loss G: {loss_gen:.4f}\")\n",
    "# train_gan_1()"
   ]
  },
  {
   "cell_type": "code",
   "execution_count": null,
   "id": "66257bd6c9a97819",
   "metadata": {
    "ExecuteTime": {
     "end_time": "2024-11-05T17:02:43.283849Z",
     "start_time": "2024-11-05T16:58:12.161332Z"
    }
   },
   "outputs": [
    {
     "name": "stdout",
     "output_type": "stream",
     "text": [
      "Epoch [1/50] | Loss D: 1.4667, Loss G: 0.7138\n",
      "Epoch [2/50] | Loss D: 1.7195, Loss G: 0.9151\n",
      "Epoch [3/50] | Loss D: 1.0700, Loss G: 1.7883\n",
      "Epoch [4/50] | Loss D: 0.7577, Loss G: 2.0837\n",
      "Epoch [5/50] | Loss D: 0.4047, Loss G: 2.5224\n",
      "Epoch [6/50] | Loss D: 0.3899, Loss G: 2.6472\n",
      "Epoch [7/50] | Loss D: 1.1453, Loss G: 1.9179\n",
      "Epoch [8/50] | Loss D: 0.9325, Loss G: 1.4921\n",
      "Epoch [9/50] | Loss D: 0.8106, Loss G: 1.5796\n",
      "Epoch [10/50] | Loss D: 0.8007, Loss G: 1.8016\n",
      "Epoch [11/50] | Loss D: 0.8985, Loss G: 1.2763\n",
      "Epoch [12/50] | Loss D: 1.0656, Loss G: 1.0501\n",
      "Epoch [13/50] | Loss D: 1.2290, Loss G: 1.2719\n",
      "Epoch [14/50] | Loss D: 0.8909, Loss G: 1.5495\n",
      "Epoch [15/50] | Loss D: 0.9253, Loss G: 1.6801\n",
      "Epoch [16/50] | Loss D: 0.9321, Loss G: 1.6306\n",
      "Epoch [17/50] | Loss D: 0.9739, Loss G: 1.3514\n",
      "Epoch [18/50] | Loss D: 0.9846, Loss G: 1.3011\n",
      "Epoch [19/50] | Loss D: 1.0248, Loss G: 1.2173\n",
      "Epoch [20/50] | Loss D: 1.0900, Loss G: 1.3930\n",
      "Epoch [21/50] | Loss D: 0.9182, Loss G: 1.3501\n",
      "Epoch [22/50] | Loss D: 0.8248, Loss G: 1.3478\n",
      "Epoch [23/50] | Loss D: 0.9385, Loss G: 1.4081\n",
      "Epoch [24/50] | Loss D: 1.0109, Loss G: 1.3236\n",
      "Epoch [25/50] | Loss D: 0.9062, Loss G: 1.4793\n",
      "Epoch [26/50] | Loss D: 1.0015, Loss G: 1.3513\n",
      "Epoch [27/50] | Loss D: 1.2416, Loss G: 0.8370\n",
      "Epoch [28/50] | Loss D: 1.1227, Loss G: 1.0846\n",
      "Epoch [29/50] | Loss D: 1.2387, Loss G: 1.1646\n",
      "Epoch [30/50] | Loss D: 1.0557, Loss G: 1.2412\n",
      "Epoch [31/50] | Loss D: 1.1341, Loss G: 1.0542\n",
      "Epoch [32/50] | Loss D: 1.2524, Loss G: 0.9544\n",
      "Epoch [33/50] | Loss D: 0.9808, Loss G: 1.1250\n",
      "Epoch [34/50] | Loss D: 1.3648, Loss G: 0.9172\n",
      "Epoch [35/50] | Loss D: 1.1974, Loss G: 1.2195\n",
      "Epoch [36/50] | Loss D: 1.0654, Loss G: 1.0585\n",
      "Epoch [37/50] | Loss D: 1.2757, Loss G: 1.0736\n",
      "Epoch [38/50] | Loss D: 1.1525, Loss G: 0.9358\n",
      "Epoch [39/50] | Loss D: 1.2226, Loss G: 1.0084\n",
      "Epoch [40/50] | Loss D: 1.1629, Loss G: 0.9120\n",
      "Epoch [41/50] | Loss D: 1.3596, Loss G: 0.9982\n",
      "Epoch [42/50] | Loss D: 1.1699, Loss G: 0.8617\n",
      "Epoch [43/50] | Loss D: 1.2462, Loss G: 0.7713\n",
      "Epoch [44/50] | Loss D: 1.3845, Loss G: 0.9739\n",
      "Epoch [45/50] | Loss D: 1.2114, Loss G: 0.9810\n",
      "Epoch [46/50] | Loss D: 1.1066, Loss G: 0.9906\n",
      "Epoch [47/50] | Loss D: 1.1059, Loss G: 1.1262\n",
      "Epoch [48/50] | Loss D: 1.1898, Loss G: 1.1586\n",
      "Epoch [49/50] | Loss D: 1.2879, Loss G: 0.8696\n",
      "Epoch [50/50] | Loss D: 1.2980, Loss G: 1.0596\n"
     ]
    }
   ],
   "source": [
    "def train_gan_2():\n",
    "    num_epochs = 50\n",
    "    for epoch in range(num_epochs):\n",
    "        for batch_idx, (real, _) in enumerate(dataloader):\n",
    "            batch_size = real.size(0)   # batch_size\n",
    "            real: torch.Tensor = real.view(batch_size, -1).to(device=device)    # reshape\n",
    "\n",
    "            # Labels for real and fake\n",
    "            labels_real = torch.ones(batch_size, 1).to(device=device)\n",
    "            labels_fake = torch.zeros(batch_size, 1).to(device=device)\n",
    "\n",
    "            # train Discriminator for real\n",
    "            optimizer_disc.zero_grad()\n",
    "            disc_real: torch.Tensor = disc(real)\n",
    "            loss_disc_real: torch.Tensor = criterion(disc_real, labels_real)\n",
    "            # loss_disc_real.backward()\n",
    "\n",
    "            # train Discriminator for fake\n",
    "            noise = torch.randn(batch_size, noise_dim)\n",
    "            fake_images: torch.Tensor = gen(noise)\n",
    "            disc_fake: torch.Tensor = disc(fake_images.detach())\n",
    "            loss_disc_fake: torch.Tensor = criterion(disc_fake, labels_fake)\n",
    "            # loss_disc_fake.backward()\n",
    "            # optimizer_disc.step()\n",
    "            \n",
    "            # total loss of Discriminator\n",
    "            loss_disc: torch.Tensor = (loss_disc_real + loss_disc_fake) # / 2\n",
    "            loss_disc.backward()\n",
    "            optimizer_disc.step()\n",
    "            \n",
    "            # train Generator to fool Discriminator\n",
    "            optimizer_gen.zero_grad()\n",
    "            output = disc(fake_images)\n",
    "            loss_gen = criterion(output, labels_real)\n",
    "            loss_gen.backward()\n",
    "            optimizer_gen.step()\n",
    "\n",
    "        print(f\"Epoch [{epoch+1}/{num_epochs}] | Loss D: {loss_disc:.4f}, Loss G: {loss_gen:.4f}\")\n",
    "train_gan_2()"
   ]
  },
  {
   "cell_type": "code",
   "execution_count": 10,
   "id": "61b85317dd52a11b",
   "metadata": {
    "ExecuteTime": {
     "end_time": "2024-11-05T17:03:08.049742Z",
     "start_time": "2024-11-05T17:03:08.001131Z"
    }
   },
   "outputs": [
    {
     "data": {
      "image/png": "[encoded data removed]",
      "text/plain": [
       "<Figure size 1000x1000 with 1 Axes>"
      ]
     },
     "metadata": {},
     "output_type": "display_data"
    }
   ],
   "source": [
    "def generate_and_plot_images(generator, noise_dim, num_images=25):\n",
    "    noise = torch.randn(num_images, noise_dim)\n",
    "    fake_images = generator(noise).view(-1, 1, 28, 28)\n",
    "    fake_images = (fake_images ) / 2 + 0.5 # scale to [0, 1]\n",
    "\n",
    "    grid = torchvision.utils.make_grid(fake_images, nrow=5)\n",
    "    plt.figure(figsize=(10, 10))\n",
    "    plt.imshow(np.transpose(grid.detach().cpu().numpy(), (1, 2, 0)))\n",
    "    plt.axis(\"off\")\n",
    "    plt.show()\n",
    "\n",
    "# generate\n",
    "generate_and_plot_images(gen, noise_dim)"
   ]
  },
  {
   "cell_type": "code",
   "execution_count": null,
   "id": "562ec0ada31bd483",
   "metadata": {
    "ExecuteTime": {
     "end_time": "2024-11-05T17:03:27.776988Z",
     "start_time": "2024-11-05T17:03:12.902239Z"
    }
   },
   "outputs": [],
   "source": [
    "import torch\n",
    "import torch.nn as nn\n",
    "import torch.optim as optim\n",
    "import numpy as np\n",
    "import matplotlib.pyplot as plt\n",
    "\n",
    "# Thiết lập seed\n",
    "torch.manual_seed(0)\n",
    "\n",
    "# Cấu trúc Generator\n",
    "class Generator(nn.Module):\n",
    "    def __init__(self, input_dim):\n",
    "        super(Generator, self).__init__()\n",
    "        self.model = nn.Sequential(\n",
    "            nn.Linear(input_dim, 128),\n",
    "            nn.ReLU(),\n",
    "            nn.Linear(128, 256),\n",
    "            nn.ReLU(),\n",
    "            nn.Linear(256, 1),  # Đầu ra là một giá trị\n",
    "        )\n",
    "\n",
    "    def forward(self, x):\n",
    "        return self.model(x)\n",
    "\n",
    "# Cấu trúc Discriminator\n",
    "class Discriminator(nn.Module):\n",
    "    def __init__(self):\n",
    "        super(Discriminator, self).__init__()\n",
    "        self.model = nn.Sequential(\n",
    "            nn.Linear(1, 256),\n",
    "            nn.ReLU(),\n",
    "            nn.Linear(256, 128),\n",
    "            nn.ReLU(),\n",
    "            nn.Linear(128, 1),  # Đầu ra là giá trị không bị giới hạn\n",
    "        )\n",
    "\n",
    "    def forward(self, x):\n",
    "        return self.model(x)\n",
    "\n",
    "# Hàm huấn luyện WGAN\n",
    "def train_wgan(generator, discriminator, num_epochs=1000, batch_size=64, noise_dim=10):\n",
    "    d_optimizer = optim.RMSprop(discriminator.parameters(), lr=0.00005)\n",
    "    g_optimizer = optim.RMSprop(generator.parameters(), lr=0.00005)\n",
    "\n",
    "    for epoch in range(num_epochs):\n",
    "        for _ in range(5):  # Huấn luyện Discriminator nhiều lần\n",
    "            # Tạo dữ liệu thật từ phân phối chuẩn\n",
    "            real_data = torch.randn(batch_size, 1) * 0.5 + 2  # Giả sử dữ liệu thật đến từ phân phối N(2, 0.5)\n",
    "\n",
    "            # Tạo noise cho Generator\n",
    "            noise = torch.randn(batch_size, noise_dim)\n",
    "\n",
    "            # Đầu ra từ Generator\n",
    "            fake_data = generator(noise)\n",
    "\n",
    "            # Tính toán giá trị Discriminator cho dữ liệu thật và giả\n",
    "            d_loss_real = discriminator(real_data)\n",
    "            d_loss_fake = discriminator(fake_data)\n",
    "\n",
    "            # Tính toán Wasserstein Loss\n",
    "            d_loss = -torch.mean(d_loss_real) + torch.mean(d_loss_fake)\n",
    "\n",
    "            # Cập nhật Discriminator\n",
    "            d_optimizer.zero_grad()\n",
    "            d_loss.backward()\n",
    "            d_optimizer.step()\n",
    "\n",
    "            # Clip trọng số của Discriminator để đảm bảo tính khả thi\n",
    "            for p in discriminator.parameters():\n",
    "                p.data.clamp_(-0.01, 0.01)\n",
    "\n",
    "        # Huấn luyện Generator\n",
    "        noise = torch.randn(batch_size, noise_dim)\n",
    "        fake_data = generator(noise)\n",
    "        g_loss = -torch.mean(discriminator(fake_data))\n",
    "\n",
    "        g_optimizer.zero_grad()\n",
    "        g_loss.backward()\n",
    "        g_optimizer.step()\n",
    "\n",
    "        if epoch % 100 == 0:\n",
    "            print(f'Epoch [{epoch}/{num_epochs}], d_loss: {d_loss.item():.4f}, g_loss: {g_loss.item():.4f}')\n",
    "\n",
    "# Khởi tạo mô hình\n",
    "generator = Generator(input_dim=10)\n",
    "discriminator = Discriminator()\n",
    "\n",
    "# Huấn luyện WGAN\n",
    "train_wgan(generator, discriminator)\n",
    "\n",
    "# Vẽ kết quả\n",
    "z = torch.randn(1000, 10)\n",
    "fake_samples = generator(z).detach().numpy()\n",
    "plt.hist(fake_samples, bins=30, alpha=0.5, color='orange')\n",
    "plt.title(\"Generated Samples\")\n",
    "plt.show()"
   ]
  }
 ],
 "metadata": {
  "kernelspec": {
   "display_name": "learn-ml",
   "language": "python",
   "name": "python3"
  },
  "language_info": {
   "codemirror_mode": {
    "name": "ipython",
    "version": 3
   },
   "file_extension": ".py",
   "mimetype": "text/x-python",
   "name": "python",
   "nbconvert_exporter": "python",
   "pygments_lexer": "ipython3",
   "version": "3.10.13"
  }
 },
 "nbformat": 4,
 "nbformat_minor": 5
}
