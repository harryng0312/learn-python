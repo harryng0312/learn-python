{
 "cells": [
  {
   "cell_type": "code",
   "id": "initial_id",
   "metadata": {
    "collapsed": true,
    "ExecuteTime": {
     "end_time": "2025-03-02T14:42:10.083510Z",
     "start_time": "2025-03-02T14:42:10.080218Z"
    }
   },
   "source": [
    "import numpy as np\n",
    "import torch\n",
    "import torchvision.datasets as datasets\n",
    "import torchvision.transforms as transforms"
   ],
   "outputs": [],
   "execution_count": 12
  },
  {
   "metadata": {
    "ExecuteTime": {
     "end_time": "2025-03-02T14:44:56.358946Z",
     "start_time": "2025-03-02T14:44:56.335742Z"
    }
   },
   "cell_type": "code",
   "source": [
    "# coco_train = datasets.CocoDetection(\n",
    "#     root=\"~/.torch/datasets/coco/train2018\",\n",
    "#     annFile=\"~/.torch/datasets/coco/annotations/instances_train2018.json\",\n",
    "# )\n",
    "coco_train = datasets.CocoDetection(\n",
    "    root=\"~/.torch/datasets/coco/train2017\",\n",
    "    annFile=\"~/.torch/datasets/coco/annotations/instances_train2017.json\")"
   ],
   "id": "4ffa03a0cfeb4964",
   "outputs": [
    {
     "name": "stdout",
     "output_type": "stream",
     "text": [
      "loading annotations into memory...\n"
     ]
    },
    {
     "ename": "FileNotFoundError",
     "evalue": "[Errno 2] No such file or directory: '~/.torch/datasets/coco/annotations/instances_train2017.json'",
     "output_type": "error",
     "traceback": [
      "\u001B[0;31m---------------------------------------------------------------------------\u001B[0m",
      "\u001B[0;31mFileNotFoundError\u001B[0m                         Traceback (most recent call last)",
      "Cell \u001B[0;32mIn[19], line 5\u001B[0m\n\u001B[1;32m      1\u001B[0m \u001B[38;5;66;03m# coco_train = datasets.CocoDetection(\u001B[39;00m\n\u001B[1;32m      2\u001B[0m \u001B[38;5;66;03m#     root=\"~/.torch/datasets/coco/train2018\",\u001B[39;00m\n\u001B[1;32m      3\u001B[0m \u001B[38;5;66;03m#     annFile=\"~/.torch/datasets/coco/annotations/instances_train2018.json\",\u001B[39;00m\n\u001B[1;32m      4\u001B[0m \u001B[38;5;66;03m# )\u001B[39;00m\n\u001B[0;32m----> 5\u001B[0m coco_train \u001B[38;5;241m=\u001B[39m \u001B[43mdatasets\u001B[49m\u001B[38;5;241;43m.\u001B[39;49m\u001B[43mCocoDetection\u001B[49m\u001B[43m(\u001B[49m\n\u001B[1;32m      6\u001B[0m \u001B[43m    \u001B[49m\u001B[43mroot\u001B[49m\u001B[38;5;241;43m=\u001B[39;49m\u001B[38;5;124;43m\"\u001B[39;49m\u001B[38;5;124;43m~/.torch/datasets/coco/train2017\u001B[39;49m\u001B[38;5;124;43m\"\u001B[39;49m\u001B[43m,\u001B[49m\n\u001B[1;32m      7\u001B[0m \u001B[43m    \u001B[49m\u001B[43mannFile\u001B[49m\u001B[38;5;241;43m=\u001B[39;49m\u001B[38;5;124;43m\"\u001B[39;49m\u001B[38;5;124;43m~/.torch/datasets/coco/annotations/instances_train2017.json\u001B[39;49m\u001B[38;5;124;43m\"\u001B[39;49m\u001B[43m)\u001B[49m\n",
      "File \u001B[0;32m~/conda/envs/learn-ml/lib/python3.10/site-packages/torchvision/datasets/coco.py:36\u001B[0m, in \u001B[0;36mCocoDetection.__init__\u001B[0;34m(self, root, annFile, transform, target_transform, transforms)\u001B[0m\n\u001B[1;32m     33\u001B[0m \u001B[38;5;28msuper\u001B[39m()\u001B[38;5;241m.\u001B[39m\u001B[38;5;21m__init__\u001B[39m(root, transforms, transform, target_transform)\n\u001B[1;32m     34\u001B[0m \u001B[38;5;28;01mfrom\u001B[39;00m \u001B[38;5;21;01mpycocotools\u001B[39;00m\u001B[38;5;21;01m.\u001B[39;00m\u001B[38;5;21;01mcoco\u001B[39;00m \u001B[38;5;28;01mimport\u001B[39;00m COCO\n\u001B[0;32m---> 36\u001B[0m \u001B[38;5;28mself\u001B[39m\u001B[38;5;241m.\u001B[39mcoco \u001B[38;5;241m=\u001B[39m \u001B[43mCOCO\u001B[49m\u001B[43m(\u001B[49m\u001B[43mannFile\u001B[49m\u001B[43m)\u001B[49m\n\u001B[1;32m     37\u001B[0m \u001B[38;5;28mself\u001B[39m\u001B[38;5;241m.\u001B[39mids \u001B[38;5;241m=\u001B[39m \u001B[38;5;28mlist\u001B[39m(\u001B[38;5;28msorted\u001B[39m(\u001B[38;5;28mself\u001B[39m\u001B[38;5;241m.\u001B[39mcoco\u001B[38;5;241m.\u001B[39mimgs\u001B[38;5;241m.\u001B[39mkeys()))\n",
      "File \u001B[0;32m~/conda/envs/learn-ml/lib/python3.10/site-packages/pycocotools/coco.py:81\u001B[0m, in \u001B[0;36mCOCO.__init__\u001B[0;34m(self, annotation_file)\u001B[0m\n\u001B[1;32m     79\u001B[0m \u001B[38;5;28mprint\u001B[39m(\u001B[38;5;124m'\u001B[39m\u001B[38;5;124mloading annotations into memory...\u001B[39m\u001B[38;5;124m'\u001B[39m)\n\u001B[1;32m     80\u001B[0m tic \u001B[38;5;241m=\u001B[39m time\u001B[38;5;241m.\u001B[39mtime()\n\u001B[0;32m---> 81\u001B[0m \u001B[38;5;28;01mwith\u001B[39;00m \u001B[38;5;28;43mopen\u001B[39;49m\u001B[43m(\u001B[49m\u001B[43mannotation_file\u001B[49m\u001B[43m,\u001B[49m\u001B[43m \u001B[49m\u001B[38;5;124;43m'\u001B[39;49m\u001B[38;5;124;43mr\u001B[39;49m\u001B[38;5;124;43m'\u001B[39;49m\u001B[43m)\u001B[49m \u001B[38;5;28;01mas\u001B[39;00m f:\n\u001B[1;32m     82\u001B[0m     dataset \u001B[38;5;241m=\u001B[39m json\u001B[38;5;241m.\u001B[39mload(f)\n\u001B[1;32m     83\u001B[0m \u001B[38;5;28;01massert\u001B[39;00m \u001B[38;5;28mtype\u001B[39m(dataset)\u001B[38;5;241m==\u001B[39m\u001B[38;5;28mdict\u001B[39m, \u001B[38;5;124m'\u001B[39m\u001B[38;5;124mannotation file format \u001B[39m\u001B[38;5;132;01m{}\u001B[39;00m\u001B[38;5;124m not supported\u001B[39m\u001B[38;5;124m'\u001B[39m\u001B[38;5;241m.\u001B[39mformat(\u001B[38;5;28mtype\u001B[39m(dataset))\n",
      "\u001B[0;31mFileNotFoundError\u001B[0m: [Errno 2] No such file or directory: '~/.torch/datasets/coco/annotations/instances_train2017.json'"
     ]
    }
   ],
   "execution_count": 19
  },
  {
   "metadata": {},
   "cell_type": "code",
   "outputs": [],
   "execution_count": null,
   "source": "",
   "id": "52ee08b6b747043b"
  }
 ],
 "metadata": {
  "kernelspec": {
   "display_name": "Python 3",
   "language": "python",
   "name": "python3"
  },
  "language_info": {
   "codemirror_mode": {
    "name": "ipython",
    "version": 2
   },
   "file_extension": ".py",
   "mimetype": "text/x-python",
   "name": "python",
   "nbconvert_exporter": "python",
   "pygments_lexer": "ipython2",
   "version": "2.7.6"
  }
 },
 "nbformat": 4,
 "nbformat_minor": 5
}
