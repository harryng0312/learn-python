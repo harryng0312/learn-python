{
 "cells": [
  {
   "cell_type": "code",
   "metadata": {
    "ExecuteTime": {
     "end_time": "2024-08-12T13:47:35.633732Z",
     "start_time": "2024-08-12T13:47:33.348627Z"
    }
   },
   "source": [
    "import platform\n",
    "import numpy as np\n",
    "import ctypes\n",
    "import time\n",
    "import math\n",
    "import time\n",
    "from sklearn.metrics.pairwise import cosine_similarity\n",
    "import matplotlib.pyplot as plt"
   ],
   "outputs": [],
   "execution_count": 1
  },
  {
   "cell_type": "code",
   "metadata": {
    "ExecuteTime": {
     "end_time": "2024-08-12T13:47:35.756662Z",
     "start_time": "2024-08-12T13:47:35.635011Z"
    }
   },
   "source": [
    "!python --version"
   ],
   "outputs": [
    {
     "name": "stdout",
     "output_type": "stream",
     "text": [
      "Python 3.10.13\r\n"
     ]
    }
   ],
   "execution_count": 2
  },
  {
   "cell_type": "markdown",
   "metadata": {},
   "source": [
    "## Code"
   ]
  },
  {
   "cell_type": "code",
   "metadata": {
    "ExecuteTime": {
     "end_time": "2024-08-12T13:47:35.917605Z",
     "start_time": "2024-08-12T13:47:35.757590Z"
    }
   },
   "source": [
    "input_array = np.random.uniform(-1, 1, 100).astype(\"float32\") # data type have to be float32 for GPU\n",
    "swift_result = swift_sigmoid_on_gpu(input_array)\n",
    "swift_result"
   ],
   "outputs": [
    {
     "ename": "NameError",
     "evalue": "name 'swift_sigmoid_on_gpu' is not defined",
     "output_type": "error",
     "traceback": [
      "\u001B[0;31m---------------------------------------------------------------------------\u001B[0m",
      "\u001B[0;31mNameError\u001B[0m                                 Traceback (most recent call last)",
      "Cell \u001B[0;32mIn[3], line 2\u001B[0m\n\u001B[1;32m      1\u001B[0m input_array \u001B[38;5;241m=\u001B[39m np\u001B[38;5;241m.\u001B[39mrandom\u001B[38;5;241m.\u001B[39muniform(\u001B[38;5;241m-\u001B[39m\u001B[38;5;241m1\u001B[39m, \u001B[38;5;241m1\u001B[39m, \u001B[38;5;241m100\u001B[39m)\u001B[38;5;241m.\u001B[39mastype(\u001B[38;5;124m\"\u001B[39m\u001B[38;5;124mfloat32\u001B[39m\u001B[38;5;124m\"\u001B[39m) \u001B[38;5;66;03m# data type have to be float32 for GPU\u001B[39;00m\n\u001B[0;32m----> 2\u001B[0m swift_result \u001B[38;5;241m=\u001B[39m \u001B[43mswift_sigmoid_on_gpu\u001B[49m(input_array)\n\u001B[1;32m      3\u001B[0m swift_result\n",
      "\u001B[0;31mNameError\u001B[0m: name 'swift_sigmoid_on_gpu' is not defined"
     ]
    }
   ],
   "execution_count": 3
  },
  {
   "cell_type": "code",
   "metadata": {},
   "source": [
    "def sigmoid(x):\n",
    "    return 1 / (1 + np.exp(-x))\n",
    "\n",
    "python_result = sigmoid(input_array).astype(\"float32\")"
   ],
   "outputs": [],
   "execution_count": null
  },
  {
   "cell_type": "code",
   "metadata": {},
   "source": [
    "# Returns a matrix whose elements are all 1, if the 2 vectors are same\n",
    "cosine_similarity([python_result, python_result])"
   ],
   "outputs": [],
   "execution_count": null
  },
  {
   "cell_type": "code",
   "metadata": {},
   "source": [
    "cosine_similarity([swift_result, python_result])"
   ],
   "outputs": [],
   "execution_count": null
  },
  {
   "cell_type": "markdown",
   "metadata": {},
   "source": [
    "## Benmark"
   ]
  },
  {
   "cell_type": "code",
   "metadata": {},
   "source": [
    "def f(x):\n",
    "    approximate = 0\n",
    "    for coeff in range(1, 10000, 2):\n",
    "        approximate += (1/coeff)*np.sin(coeff*x)\n",
    "        \n",
    "    return approximate"
   ],
   "outputs": [],
   "execution_count": null
  },
  {
   "cell_type": "code",
   "metadata": {},
   "source": [
    "def differential(f, x):\n",
    "    delta = 1e-4\n",
    "    return (f(x+delta) - f(x-delta)) / 2*delta"
   ],
   "outputs": [],
   "execution_count": null
  },
  {
   "cell_type": "markdown",
   "metadata": {},
   "source": [
    "### Numpy"
   ]
  },
  {
   "cell_type": "code",
   "metadata": {},
   "source": [
    "input_array = np.arange(-50, 50, 0.001).astype(\"float32\") # have to be float32 for GPU\n",
    "input_array.shape"
   ],
   "outputs": [],
   "execution_count": null
  },
  {
   "cell_type": "code",
   "metadata": {},
   "source": [
    "%%time\n",
    "python_result = np.apply_along_axis(lambda x: differential(f, x), 0, input_array)"
   ],
   "outputs": [],
   "execution_count": null
  },
  {
   "cell_type": "markdown",
   "metadata": {},
   "source": [
    "### Metal"
   ]
  },
  {
   "cell_type": "code",
   "metadata": {},
   "source": [
    "swift_fun = ctypes.CDLL(\"./PyMetalBridge/.build/release/libPyMetalBridge.dylib\")\n",
    "\n",
    "# decleare arguments type\n",
    "swift_fun.swift_differential_on_gpu.argtypes = [\n",
    "    ctypes.POINTER(ctypes.c_float), \n",
    "    ctypes.POINTER(ctypes.c_float),\n",
    "    ctypes.c_int\n",
    "]\n",
    "\n",
    "def swift_differential_on_gpu(input_array):\n",
    "    input_ptr = input_array.ctypes.data_as(ctypes.POINTER(ctypes.c_float))\n",
    "    output_mutable_ptr = (ctypes.c_float * len(input_array))()\n",
    "    swift_fun.swift_differential_on_gpu(input_ptr, output_mutable_ptr, len(input_array))\n",
    "    return np.array(output_mutable_ptr)"
   ],
   "outputs": [],
   "execution_count": null
  },
  {
   "cell_type": "code",
   "metadata": {},
   "source": [
    "%%time\n",
    "swift_result = swift_differential_on_gpu(input_array)"
   ],
   "outputs": [],
   "execution_count": null
  },
  {
   "cell_type": "code",
   "metadata": {},
   "source": [
    "%%time\n",
    "swift_result = swift_differential_on_gpu(input_array)"
   ],
   "outputs": [],
   "execution_count": null
  },
  {
   "cell_type": "markdown",
   "metadata": {},
   "source": [
    "### Validate result"
   ]
  },
  {
   "cell_type": "code",
   "metadata": {},
   "source": [
    "swift_result.shape, python_result.shape"
   ],
   "outputs": [],
   "execution_count": null
  },
  {
   "cell_type": "code",
   "metadata": {},
   "source": [
    "cosine_similarity([python_result, python_result])"
   ],
   "outputs": [],
   "execution_count": null
  },
  {
   "cell_type": "code",
   "metadata": {},
   "source": [
    "cosine_similarity([swift_result, python_result.astype(\"float32\")])"
   ],
   "outputs": [],
   "execution_count": null
  },
  {
   "cell_type": "markdown",
   "metadata": {},
   "source": [
    "### Performance comparison between Numpy and Metal"
   ]
  },
  {
   "cell_type": "code",
   "metadata": {},
   "source": [
    "def measure(f):\n",
    "    elapsed_logs = []\n",
    "    for i in range(10):\n",
    "        input_array = np.random.uniform(-50, 50, 100000).astype(\"float32\")\n",
    "        start = time.time()\n",
    "        f(input_array)\n",
    "        end = time.time()\n",
    "        elapsed_logs.append(end - start)\n",
    "        \n",
    "    return elapsed_logs"
   ],
   "outputs": [],
   "execution_count": null
  },
  {
   "cell_type": "code",
   "metadata": {},
   "source": [
    "# np.apply_along_axis\n",
    "python_results = measure(lambda input_array: np.apply_along_axis(lambda x: differential(f, x), 0, input_array))"
   ],
   "outputs": [],
   "execution_count": null
  },
  {
   "cell_type": "code",
   "metadata": {},
   "source": [
    "print(\"Python time elapsed (second)\")\n",
    "python_results"
   ],
   "outputs": [],
   "execution_count": null
  },
  {
   "cell_type": "code",
   "metadata": {},
   "source": [
    "# Metal\n",
    "swift_results = measure(swift_differential_on_gpu)"
   ],
   "outputs": [],
   "execution_count": null
  },
  {
   "cell_type": "code",
   "metadata": {},
   "source": [
    "print(\"Metal time elapsed (second)\")\n",
    "swift_results"
   ],
   "outputs": [],
   "execution_count": null
  },
  {
   "cell_type": "code",
   "metadata": {},
   "source": [
    "%matplotlib inline\n",
    "\n",
    "fig, ax = plt.subplots(figsize=(10, 4))\n",
    "\n",
    "ax.plot(range(10), swift_results, '-o', label='Python+Metal')\n",
    "ax.plot(range(10), python_results, '-o', label='Python + Numpy')\n",
    "ax.set_title('Numpy and Metal performance comprison')\n",
    "ax.set_xlabel('iteration')\n",
    "ax.set_ylabel('time elapsed (second)')\n",
    "ax.grid(True)\n",
    "ax.legend()"
   ],
   "outputs": [],
   "execution_count": null
  }
 ],
 "metadata": {
  "kernelspec": {
   "display_name": "learn-python",
   "language": "python",
   "name": "python3"
  },
  "language_info": {
   "codemirror_mode": {
    "name": "ipython",
    "version": 3
   },
   "file_extension": ".py",
   "mimetype": "text/x-python",
   "name": "python",
   "nbconvert_exporter": "python",
   "pygments_lexer": "ipython3",
   "version": "3.11.4"
  },
  "orig_nbformat": 4
 },
 "nbformat": 4,
 "nbformat_minor": 2
}
