{
 "cells": [
  {
   "metadata": {
    "ExecuteTime": {
     "end_time": "2025-03-26T15:23:23.249224Z",
     "start_time": "2025-03-26T15:23:23.246778Z"
    }
   },
   "cell_type": "code",
   "source": [
    "from math import log2\n",
    "from module.conf import PROJECT_DIR\n",
    "\n"
   ],
   "id": "c62fc548fc750248",
   "outputs": [],
   "execution_count": 14
  },
  {
   "cell_type": "code",
   "id": "a6efe924415f379f",
   "metadata": {
    "ExecuteTime": {
     "end_time": "2025-03-26T14:51:50.801499Z",
     "start_time": "2025-03-26T14:51:50.798581Z"
    }
   },
   "source": [
    "# Hàm đọc file CSV\n",
    "def load_csv(filename):\n",
    "    data = []\n",
    "    with open(filename, 'r', encoding='utf-8') as file:\n",
    "        lines = file.readlines()\n",
    "        for line in lines[1:]:  # Bỏ qua tiêu đề\n",
    "            category, message = line.strip().split(',', 1)\n",
    "            message = message.strip('\"')  # Xóa dấu ngoặc kép\n",
    "            data.append([category, message])\n",
    "    return data"
   ],
   "outputs": [],
   "execution_count": 8
  },
  {
   "metadata": {
    "ExecuteTime": {
     "end_time": "2025-03-26T14:51:50.812281Z",
     "start_time": "2025-03-26T14:51:50.808164Z"
    }
   },
   "cell_type": "code",
   "source": [
    "# Hàm trích xuất từ khóa phổ biến từ tất cả tin nhắn\n",
    "def extract_keywords(data, top_n=20):\n",
    "    word_freq = {}\n",
    "    for _, message in data:\n",
    "        words = message.lower().replace(',', ' ').replace('.', ' ').replace('!', ' ').split()\n",
    "        for word in words:\n",
    "            word_freq[word] = word_freq.get(word, 0) + 1\n",
    "\n",
    "    # Sắp xếp theo tần suất và lấy top N từ khóa\n",
    "    sorted_words = sorted(word_freq.items(), key=lambda x: x[1], reverse=True)\n",
    "    keywords = [word for word, _ in sorted_words[:top_n]]\n",
    "    return keywords\n",
    "\n",
    "# Hàm trích xuất đặc trưng từ một tin nhắn\n",
    "def extract_features(message, keywords):\n",
    "    message = message.lower()\n",
    "    features = []\n",
    "    for keyword in keywords:\n",
    "        count = message.count(keyword)\n",
    "        features.append(count)\n",
    "    return features\n",
    "\n",
    "# Hàm chuyển đổi dữ liệu thành định dạng số\n",
    "def preprocess_data(data, keywords):\n",
    "    processed_data = []\n",
    "    for category, message in data:\n",
    "        features = extract_features(message, keywords)\n",
    "        label = 1 if category == 'spam' else 0  # spam: 1, ham: 0\n",
    "        processed_data.append(features + [label])\n",
    "    return processed_data"
   ],
   "id": "bdf8d79ccef7a074",
   "outputs": [],
   "execution_count": 9
  },
  {
   "metadata": {
    "ExecuteTime": {
     "end_time": "2025-03-26T14:51:50.821752Z",
     "start_time": "2025-03-26T14:51:50.817385Z"
    }
   },
   "cell_type": "code",
   "source": [
    "# Hàm tính Entropy\n",
    "def calculate_entropy(labels):\n",
    "    n = len(labels)\n",
    "    if n == 0:\n",
    "        return 0\n",
    "    unique_labels = set(labels)\n",
    "    entropy = 0\n",
    "    for label in unique_labels:\n",
    "        p = labels.count(label) / n\n",
    "        if p > 0:\n",
    "            # entropy -= p * __import__('math').log2(p)\n",
    "            entropy -= p * log2(p)\n",
    "    return entropy\n",
    "\n",
    "# Hàm tính Information Gain\n",
    "def calculate_information_gain(data, feature_idx, threshold):\n",
    "    labels = [row[-1] for row in data]\n",
    "    total_entropy = calculate_entropy(labels)\n",
    "    n = len(data)\n",
    "\n",
    "    left = [row for row in data if row[feature_idx] <= threshold]\n",
    "    right = [row for row in data if row[feature_idx] > threshold]\n",
    "\n",
    "    left_entropy = calculate_entropy([row[-1] for row in left])\n",
    "    right_entropy = calculate_entropy([row[-1] for row in right])\n",
    "\n",
    "    weighted_entropy = (len(left) / n) * left_entropy + (len(right) / n) * right_entropy\n",
    "    gain = total_entropy - weighted_entropy\n",
    "    return gain, left, right\n",
    "\n",
    "# Hàm tìm đặc trưng và ngưỡng tốt nhất\n",
    "def find_best_split(data):\n",
    "    best_gain = -1\n",
    "    best_feature = None\n",
    "    best_threshold = None\n",
    "    best_left = None\n",
    "    best_right = None\n",
    "\n",
    "    n_features = len(data[0]) - 1  # Số đặc trưng (trừ nhãn)\n",
    "\n",
    "    for feature_idx in range(n_features):\n",
    "        values = sorted(set(row[feature_idx] for row in data))\n",
    "        for i in range(len(values) - 1):\n",
    "            threshold = (values[i] + values[i + 1]) / 2\n",
    "            gain, left, right = calculate_information_gain(data, feature_idx, threshold)\n",
    "            if gain > best_gain:\n",
    "                best_gain = gain\n",
    "                best_feature = feature_idx\n",
    "                best_threshold = threshold\n",
    "                best_left = left\n",
    "                best_right = right\n",
    "\n",
    "    return best_feature, best_threshold, best_gain, best_left, best_right"
   ],
   "id": "23735ea9a184f18a",
   "outputs": [],
   "execution_count": 10
  },
  {
   "metadata": {
    "ExecuteTime": {
     "end_time": "2025-03-26T14:51:50.829512Z",
     "start_time": "2025-03-26T14:51:50.826005Z"
    }
   },
   "cell_type": "code",
   "source": [
    "# Lớp Node đại diện cho nút trong cây\n",
    "class Node:\n",
    "    def __init__(self, feature=None, threshold=None, left=None, right=None, value=None):\n",
    "        self.feature = feature\n",
    "        self.threshold = threshold\n",
    "        self.left = left\n",
    "        self.right = right\n",
    "        self.value = value\n",
    "\n",
    "# Hàm xây dựng cây quyết định\n",
    "def build_tree(data, max_depth, depth=0):\n",
    "    labels = [row[-1] for row in data]\n",
    "\n",
    "    if len(set(labels)) == 1:  # Tất cả cùng nhãn\n",
    "        return Node(value=labels[0])\n",
    "    if depth >= max_depth:  # Đạt độ sâu tối đa\n",
    "        majority_label = max(set(labels), key=labels.count)\n",
    "        return Node(value=majority_label)\n",
    "\n",
    "    feature, threshold, gain, left, right = find_best_split(data)\n",
    "\n",
    "    if gain <= 0:  # Không còn gain\n",
    "        majority_label = max(set(labels), key=labels.count)\n",
    "        return Node(value=majority_label)\n",
    "\n",
    "    left_node = build_tree(left, max_depth, depth + 1)\n",
    "    right_node = build_tree(right, max_depth, depth + 1)\n",
    "\n",
    "    return Node(feature=feature, threshold=threshold, left=left_node, right=right_node)\n",
    "\n",
    "# Hàm dự đoán\n",
    "def predict(tree, sample):\n",
    "    if tree.value is not None:\n",
    "        return tree.value\n",
    "\n",
    "    if sample[tree.feature] <= tree.threshold:\n",
    "        return predict(tree.left, sample)\n",
    "    else:\n",
    "        return predict(tree.right, sample)"
   ],
   "id": "9bcc61ccab709955",
   "outputs": [],
   "execution_count": 11
  },
  {
   "metadata": {
    "ExecuteTime": {
     "end_time": "2025-03-26T14:51:50.835862Z",
     "start_time": "2025-03-26T14:51:50.833693Z"
    }
   },
   "cell_type": "code",
   "source": [
    "# Hàm chia tập train/test\n",
    "def train_test_split(data, test_size=0.2):\n",
    "    n = len(data)\n",
    "    n_test = int(n * test_size)\n",
    "    test_indices = set(__import__('random').sample(range(n), n_test))\n",
    "    train_data = [data[i] for i in range(n) if i not in test_indices]\n",
    "    test_data = [data[i] for i in range(n) if i in test_indices]\n",
    "    return train_data, test_data"
   ],
   "id": "ca03f8144704974b",
   "outputs": [],
   "execution_count": 12
  },
  {
   "metadata": {
    "collapsed": true,
    "ExecuteTime": {
     "end_time": "2025-03-26T14:52:01.213961Z",
     "start_time": "2025-03-26T14:51:50.840272Z"
    }
   },
   "cell_type": "code",
   "source": [
    "# Chương trình chính\n",
    "def main():\n",
    "    # Đọc dữ liệu từ file\n",
    "    filename = f\"{PROJECT_DIR}/data/basic/email/spam.csv\"\n",
    "    raw_data = load_csv(filename)\n",
    "    print(f\"Đã tải {len(raw_data)} mẫu từ {filename}\")\n",
    "\n",
    "    # Trích xuất từ khóa phổ biến\n",
    "    keywords = extract_keywords(raw_data, top_n=2000)  # Lấy 20 từ khóa phổ biến\n",
    "    print(f\"Các từ khóa đặc trưng: {keywords}\")\n",
    "\n",
    "    # Chuyển đổi dữ liệu\n",
    "    data = preprocess_data(raw_data, keywords)\n",
    "\n",
    "    # Chia tập train/test\n",
    "    train_data, test_data = train_test_split(data, test_size=0.2)\n",
    "    print(f\"Tập huấn luyện: {len(train_data)} mẫu\")\n",
    "    print(f\"Tập kiểm tra: {len(test_data)} mẫu\")\n",
    "\n",
    "    # Xây dựng cây\n",
    "    max_depth = 3\n",
    "    tree = build_tree(train_data, max_depth)\n",
    "\n",
    "    # In cấu trúc cây\n",
    "    def print_tree(node, indent=\"\"):\n",
    "        if node.value is not None:\n",
    "            print(f\"{indent}Leaf: {int(node.value)}\")\n",
    "        else:\n",
    "            print(f\"{indent}Feature '{keywords[node.feature]}' count <= {node.threshold}\")\n",
    "            print_tree(node.left, indent + \"  Left: \")\n",
    "            print_tree(node.right, indent + \"  Right: \")\n",
    "\n",
    "    print(\"\\nCấu trúc cây quyết định:\")\n",
    "    print_tree(tree)\n",
    "\n",
    "    # Đánh giá trên tập kiểm tra\n",
    "    correct = 0\n",
    "    for sample in test_data:\n",
    "        pred = predict(tree, sample[:-1])\n",
    "        if pred == sample[-1]:\n",
    "            correct += 1\n",
    "    accuracy = correct / len(test_data)\n",
    "    print(f\"\\nĐộ chính xác trên tập kiểm tra: {accuracy * 100:.2f}%\")\n",
    "\n",
    "    # Dự đoán một tin nhắn mới\n",
    "    new_message = \"Free tickets to win a prize! Call now!\"\n",
    "    new_sample = extract_features(new_message, keywords)\n",
    "    prediction = predict(tree, new_sample)\n",
    "    print(f\"Dự đoán tin nhắn mới '{new_message}': {'spam' if prediction == 1 else 'ham'}\")\n",
    "\n",
    "if __name__ == \"__main__\":\n",
    "    main()"
   ],
   "id": "initial_id",
   "outputs": [
    {
     "name": "stdout",
     "output_type": "stream",
     "text": [
      "Đã tải 5574 mẫu từ /Users/hiepnq/Working/training/python/learn-python/data/basic/email/spam.csv\n",
      "Các từ khóa đặc trưng: ['i', 'to', 'you', 'a', 'the', 'u', 'and', 'is', 'in', 'me', 'my', 'for', 'your', 'it', 'of', 'call', 'have', 'on', 'that', 'are', '2', 'now', 'so', 'but', 'not', 'or', 'can', 'at', 'do', 'will', \"i'm\", 'ur', 'be', 'if', 'get', 'with', 'just', 'we', 'this', 'no', 'up', 'when', 'from', '4', 'go', '&lt;#&gt;', 'ok', 'free', 'all', 'how', 'out', 'what', 'know', 'like', 'then', 'good', 'got', 'was', 'come', 'am', 'its', 'love', 'time', 'only', '?', 'day', 'send', 'he', 'there', 'want', 'text', 'as', 'by', 'one', \"i'll\", 'need', 'ü', 'home', 'going', 'about', 'lor', 'sorry', 'see', 'still', 'txt', 'r', 'n', 'reply', 'dont', 'back', 'our', 'she', 'stop', \"don't\", 'tell', 'mobile', 'new', 'take', 'hi', 'da', 'any', 'today', 'please', 'pls', 'think', 'been', 'they', 'her', 'later', 'k', 'did', 'dear', 'phone', 'some', 'has', 'well', 'great', 'an', 'hey', 'here', 'claim', 'hope', '&', 'oh', 'who', 'much', 'too', 'night', 'week', 'him', 'had', 'where', 'happy', 'more', 'give', 'make', 'd', \"it's\", 'work', 'should', 'way', 'yes', 'say', '1', 'wat', 'prize', 'number', 'message', 'after', 'ask', 'e', '-', '&amp;', 'tomorrow', 'yeah', 'im', 'www', 'really', 'them', 'c', 'said', 'meet', 'very', 'miss', 'why', 'last', 'already', 'life', 'would', 'cos', 'right', 'doing', 'thanks', 'babe', 'cash', 'lol', 'let', 'anything', ':)', 'find', 'also', 'every', 'win', 'sure', 'msg', 'morning', 'pick', 'care', 'won', '3', 'urgent', 'nokia', 'keep', 'b', 'contact', 'sent', 'cant', \"i've\", 'com', 'gud', 'even', 'before', 'his', 'buy', 'us', 'something', 'went', 'next', 'feel', 'were', 'which', 'someone', 'over', 'wait', 'could', 'nice', 'thing', 'again', \"can't\", 'money', 'service', 'many', 'per', 'customer', 'gonna', 'first', 'place', 'off', 'always', 'uk', 'late', 'ya', 'sleep', 'co', 'soon', \"that's\", 'chat', 'dun', 'around', 'friends', 'other', 'leave', 's', 'wan', 'told', 'wish', 'down', 'waiting', 'may', 'x', 'things', \"you're\", 'haha', 'try', 'same', 'guaranteed', 'people', 'thk', 'year', '5', 'use', 'fine', 'getting', 'coming', 'tone', 'name', 'sms', 'friend', 'heart', 'v', 'done', 'holiday', 'help', 'live', 'talk', 'being', 'man', 'never', 'few', 'person', 'days', 'stuff', 'yup', 'trying', \"didn't\", 'bit', 'thought', 'best', 'special', 'thats', 'lunch', 'class', 'cool', 'better', 'draw', 'ill', 'ready', 'having', 'meeting', 'y', 'smile', 'long', 'line', 'mind', 'tonight', 'finish', 'car', 'hello', 'yet', 'mins', 'god', '6', 'latest', 'than', 'chance', 'lar', 'receive', 'half', 'play', 'check', 'awarded', 'job', 'box', 'nothing', 'guess', 'lot', 'account', 'sir', 'luv', 'dat', 'end', 'wanna', 'another', 'guys', 'min', '7', '1st', 'enjoy', '*', '50', 'camera', 'eat', 'real', 'shows', 'because', 'liao', 'yo', 'big', '£1000', 'po', 'jus', 'might', 'shit', 'start', 'xxx', 'wont', 'watching', 'sweet', 'landline', 'into', 'problem', 'ever', 'quite', '£1', 'speak', 'birthday', 'aight', 'called', 'g', 'watch', ':-)', 'probably', 'early', 'cost', 'remember', 'left', 'room', 'does', 'hear', 'once', 'forgot', 'girl', 'tv', 'll', 'thanx', 'shall', 'minutes', 'actually', 'den', 'apply', 'pay', 'dinner', 'look', 'maybe', 'part', 'month', 'between', '150ppm', 'easy', 'video', 'made', 'dunno', 'two', 'bad', 'world', 'fun', 'dis', 'pa', 'bed', 'anyway', 'little', 'house', 'reach', 'face', 'didnt', 'orange', 'network', '000', 'thank', 'you?', '2nd', \"how's\", '+', \"he's\", 'looking', 'award', 'offer', 'everything', 'shopping', 'office', 'put', 'selected', 'bus', \"there's\", 'most', 'now?', 'those', 'without', 'baby', 'hour', 'sat', 'while', 'fuck', 'dad', 'until', 'wif', 'though', 'ringtone', 'wanted', 'calls', 'since', 'came', 'afternoon', '16', 'says', 'must', 'join', 'bt', 'working', 'important', 'collect', 'asked', 'entry', 'goes', 'enough', 'pain', 'abt', 'u?', 'okay', 'sexy', 'xmas', 'able', 'hav', 'leh', 'wake', 'plan', 'tones', 'texts', 'bring', 'princess', 'details', 'town', 'collection', 'word', '16+', 'missed', 'means', 'price', 'juz', 'school', 'true', 'plz', 'wot', 'evening', 'wife', 'plus', 'valid', '£100', 'alright', 'till', 'weekend', 'messages', 'saw', 'hair', 'wen', 'havent', 'show', 'wk', 'worry', '4*', 'mail', 'years', 'm', '500', 'weekly', 'bored', 'away', 'guy', 'gift', 'times', 'yours', '\"\"', 'run', 'making', 'haf', 'til', '&lt;decimal&gt;', 'music', 'dude', 'stay', '8', 'attempt', 'these', 'makes', 'de', 'update', 'net', 'words', 'ard', \"we're\", \"won't\", 'tried', 'delivery', 'yourself', 'double', 'me?', \"haven't\", 'driving', 'top', 'coz', 'missing', 'oso', \"what's\", '18', 'hot', 'hurt', 'yesterday', 'change', '150p', '9', 'feeling', 'either', 'family', 'dreams', 'lei', 'hours', 'colour', 'mob', 'bonus', 'trip', '£5000', 'movie', 'busy', \"''\", 'food', 'todays', 'order', 'believe', 'id', 'shop', 'nite', 'wid', 'full', 'calling', 'tot', 'beautiful', 'sae', 'lose', 'sch', 'together', 'wants', 'boy', '8007', 'sad', 'set', 'comes', 'else', 'mean', 'old', 'points', '£2000', 'tonight?', 'tmr', 'both', 'happen', 'vouchers', 'ring', 't&cs', \"we'll\", 't', 'game', 'saying', 'goin', 'await', 'online', 'brother', 'pounds', 're', 'took', 'finished', 'started', 'test', 'private', 'answer', 'gr8', 'awesome', 'minute', 'sleeping', 'noe', 'wil', '86688', 'okie', 'book', 'post', 'ah', '£500', 'thinking', 'pics', 'final', 'news', 'aft', 'forget', 'congrats', 'cause', 'question', 'services', 'taking', 'everyone', 'smoke', 'walk', 'angry', '750', 'unsubscribe', 'charge', 'lets', 'head', 'land', '10', 'o', 'neva', 'drive', \"she's\", 'drop', 'available', 'no:', 'date', 'second', 'close', 'smiling', 'address', '12hrs', 'statement', 'expires', 'lots', 'leaving', 'each', 'worth', 'sis', 'touch', 'story', 'found', 'choose', 'card', 'games', 'sister', 'right?', 'chikku', 'drink', 'eve', 'simple', 'whatever', 'voucher', 'knw', 'it?', 'anyone', 'auction', 'winner', 'code', '100', 'pobox', 'wonderful', 'ha', 'smth', 'lesson', 'saturday', 'decided', '08000930705', 'girls', 'lucky', 'prob', 'search', 'identifier', 'type', 'open', 'ltd', 'today?', 'needs', 'break', 'sounds', 'company', 'takes', 'anytime', 'far', 'friendship', 'mobileupd8', 'bout', 'poly', 'gd', 'kind', 'rate', 'visit', 'mine', 'mum', 'hows', 'treat', 'tho', \"doesn't\", 'tomo', 'used', 'gone', 'operator', 'quiz', 'player', 'nt', 'ni8', 'hard', 'parents', 'frnd', 'content', 'wit', 'carlos', 'darlin', 'secret', 'hold', 'club', ':', 'read', 'light', '150p/msg', '08000839402', 'dating', 'fucking', 'nope', 'outside', 'pretty', 'kiss', 'email', 'sun', '18+', 'lovely', 'mates', 'wrong', ':-(', 'alone', 'crazy', 'wkly', 'already?', 'hungry', 'telling', 'whole', '@', 'ah?', 'hit', 'friday', 'hmm', 'code:', \"you'll\", 'yr', 'their', 'whats', 'fancy', \"you've\", 'log', 'boytoy', 'oredi', 'finally', '10p', 'thinks', 'case', 'tel', 'meant', 'unlimited', 'project', 'reason', '£250', 'ten', 'welcome', 'frm', 'offers', 'sea', 'listen', 'fast', 'snow', 'pub', 'weeks', 'rite', 'mate', 'least', 'don', 'nyt', 'w', 't&c', 'credit', 'almost', 'etc', 'hee', 'xx', 'download', '0800', 'mah', 'felt', 'caller', 'numbers', 'msgs', 'age', 'tired', 'mr', 'college', 'goodmorning', 'march', 'side', 'fr', 'congratulations', '87066', 'dnt', 'fone', 'stupid', 'bslvyl', 'lost', 'christmas', 'reading', 'hand', 'txts', 'seeing', 'ago', 'currently', 'motorola', 'talking', 'couple', 'phones', 'huh', 'cum', 'park', 'fri', '£2', 'savamob', 'within', '2003', '800', 'yar', 'happiness', '£350', 'opt', 'sex', 'b4', 'knew', 'ok?', 'earlier', 'party', 'support', 'pic', 'luck', 'enter', 'gas', '||', 'point', 'comp', \"i'd\", 'mobiles', 'national', 'correct', 'pass', 'cut', 'frnds', 'complimentary', 'gotta', 'mom', 'askd', 'uncle', 'mu', 'sending', 'direct', 'bank', 'hmmm', 'rs', 'bcoz', 'blue', 'swing', 'ends', 'die', 'st', 'seen', 'india', 'pm', 'th', 'supposed', 'ipod', 'un-redeemed', 'through', 'darren', 'area', 'ans', '…', 'mayb', 'picking', 'ugh', 'kiss*', 'extra', 'heard', 'information', 'surprise', '*grins*', 'john', 'valued', 'eh', 'eg', 'comin', 'charged', 'confirm', 'abiola', 'crave', 'camcorder', 'gets', 'wow', 'move', 'checking', 'loads', 'shower', 'computer', \"isn't\", 'entered', 'invited', 'dogging', 'txting', 'lovable', 'wine', 'dream', 'safe', 'muz', 'mrng', 'orchard', 'kate', 'semester', 'exam', 'course', 'txt:', 'wana', 'questions', 'somebody', 'pete', 'small', 'jay', 'met', 'discount', 'slow', 'rock', 'ass', 'yep', 'asking', 'remove', 'monday', 'http://www', '£3', 'blood', 'clean', 'noon', 'sell', 'store', 'wonder', 'whenever', 'sort', 'truth', 'feels', 'happened', 'loving', 'loved', 'difficult', \"wasn't\", 'father', 'slowly', '30', 'police', 'nah', 'usf', 'callertune', 'press', 'reward', '11', '20', 'sunday', 'wap', 'link', 'myself', 'worried', 'knows', 'oops', '=', 'hospital', 'reached', 'forever', 'song', 'rply', 'save', 'tickets', 'il', 'night?', 'representative', 'gave', \"b'day\", 'match', 'rates', 'del', 'sony', 'pray', 'doing?', 'spend', 'later?', 'bath', 'bathe', 'bill', 'street', 'admirer', 'laptop', 'own', 'leaves', 'hmv', 'usual', 'somewhere', 'merry', 'plans', 'immediately', 'via', 'tc', 'figure', 'weed', 'rakhesh', 'moment', 'woke', 'mm', 'ldn', 'booked', 'terms', 'water', 'near', 'less', '00', 'hoping', 'across', 'em', 'ts&cs', 'drugs', 'paper', 'fantastic', 'glad', 'wishing', 'gettin', 'understand', 'poor', 'asap', 'otherwise', 'ntt', 'na', 'convey', 'gal', 'nobody', 'write', 'empty', 'cup', 'copy', '12', 'info', 'word:', 'promise', 'england', 'seriously', 'catch', 'decide', 'red', 'ice', 'short', 'rain', 'up?', 'men', 'specially', 'ending', 'sunshine', 'lazy', 'lect', 'completely', 'staying', 'doesnt', 'especially', 'trust', 'using', '|', 'itself', 'ive', 'goodnight', 'cd', 'ldew', 'lover', 'disturb', 'credits', 'worries', 'yet?', 'tonite', 'unless', 'accept', '£200', '2day', 'normal', 'rest', ':(', 'access', 'ex', 'bluetooth', 'brings', 'starts', 'kinda', 'different', 'there?', 'rent', 'silent', '£150', 'cs', 'self', 'warm', 'cheap', 'gym', 'kids', 'train', '–', 'sound', 'starting', 'study', 'ho', 'laugh', 'seems', '£10', 'eyes', 'possible', 'summer', 'getzed', 'ones', 'comuk', 'charity', 'tampa', 'user', 'iam', 'against', '£800', 'hiya', 'chennai', 'mon', 'mode', 'wondering', 'others', 'ringtones', 'tht', 'fact', 'excellent', 'doin', 'thinkin', 'sitting', 'flag', 'colleagues', 'request', 'months', 'entitled', 'mark', 'sick', 'pizza', 'cheers', 'quick', 'replying', \"you'd\", 'nigeria', 'situation', 'stand', 'spent', 'hurts', 'loves', 'planning', 'coffee', 'ave', 'umma', 'wishes', 'weight', 'boss', 'apartment', 'paying', '2004', 'bak', 'dvd', 'swt', 'back?', 'stop?', 'goto', 'studying', \"where's\", 'freephone', 'joined', 'however', 'sign', 'road', 'kick', 'u-find', 'r*reveal', 'special-call', 'deep', 'lemme', 'rose', '4u', 'buying', 'cake', 'fixed', 'valentines', 'wiv', 'round', 'urself', 'hg/suite342/2lands', 'reference', 'mistake', 'rental', 'al', 'none', 'fullonsms', 'mrt', 'yahoo', '3030', 'funny', 'giving', 'din', 'loan', 'thru', 'realy', 'fingers', 'age16', 'workin', 'daddy', '150', 'day?', 'custcare', 'pound', 'future', 'longer', 'matches', 'pc', 'xy', 'bedroom', 'add', 'omg', 'no1', 'yrs', 'dead', 'sale', 'gay', ':/', 'registered', 'mo', 'medical', 'miracle', 'during', 'movies', 'digital', 'doctor', 'awaiting', 'cancel', 'film', 'complete', 'tmr?', 'picked', 'bb', 'vl', 'frens', 'reaching', '0870', 'south', 'inside', \"joy's\", 'bt-national-rate', 'wednesday', 'mood', 'sofa', 'wat?', 'bugis', 'la', 'cine', '£900', 'anymore', 'click', 'naughty', '87077', 'sucks', 'learn', 'kept', 'liked', 'cinema', 'wun', 'following', 'pleasure', 'trouble', 'password', 'changed', 'cuz', 'page', 'weekends', 'eatin', 'country', '82277', \"uk's\", 'persons', 'sometimes', 'become', '62468', 'menu', 'waste', 'hop', 'hell', '$', 'experience', 'towards', 'deal', 'bucks', 'slept', 'past', 'biz', 'appreciate', 'lessons', 'battery', 'showing', 'horny', 'naked', 'quality', 'definitely', 'sim', 'loyalty', \"t&c's\", 'high', ':v', 'imagine', 'kb', 'rcvd', 'insurance', 'cash-balance', 'maximize', 'cash-in', 'cold', 'forward', 'going?', 'facebook', 'week?', 'voice', 'lift', 'tough', 'style', 'notice', 'tenerife', 'depends', 'meh', 'opinion', 'mp3', \"today's\", '85023', 'member', 'sub', 'unsub', 'malaria', 'fat', 'rather', 'hotel', 'omw', 'hurry', 'gee', 'spree', 'present', 'imma', 'valentine', 'alex', 'paid', 'under', 'king', 'torch', 'bold', 'looks', 'idea', 'sit', 'dey', 'running', 'library', \"they're\", 'damn', 'space', 'slave', '&lt;time&gt;', '36504', 'bag', 'bid', 'model', 'hai', 'mid', 'midnight', 'january', '08712460324', 'photo', 'sk38xh', 'recently', \"u'll\", '3g', 'ge', 'p', 'black', 'onto', 'honey', 'dog', 'alrite', 'shd', '20p', '1327', 'croydon', 'cr9', '5wb', 'walking', 'msg:', 'players', 'share', 'lmao', 'arrive', 'buzz', 'sight', 'hw', 'holding', 'list', 'thnk', 'excuse', 'costa', 'sol', 'huh?', 'including', \"who's\", \"wat's\", 'vikky', \"god's\", 'tear', 'worse', 'sky', 'tuesday', 'murdered', 'murderer', 'happens', 'joking', 'freemsg', 'hl', 'team', 'eating', 'texting', 'ahead', 'usually', 'fyi', '150pm', 'pleased', 'review', 'something?', 'don‘t', 'simply', 'informed', 'directly', '08712300220', 'standard', 'bother', 'in?', 'local', 'qatar', 'arrange', 'inviting', 'turns', 'spoke', 'bye', 'personal', 'balance', 'straight', 'nights', 'system', 'died', 'flirt', 'here?', \"u've\", 'kallis', 'tncs', 'cal', 'mins?', 'dint', 'ended', 'sunny', 'sense', 'babes', 'sport', 'power', 'yoga', 'track', 'return', 'interested', 'num', 'fault', 'posted', 'willing', 'happening', 'relax', 'pilates', 'putting', 'aathi', 'wnt', 'vry', 'lacs', 'ticket', 'askin', 'group', 'ttyl', 'isnt', 'gives', 'princess?', 'weekend?', 'fb', 'activate', 'house?', 'jst', 'tat', '40gb', 'children', 'lady', 'l8r', 'aiyo', 'barely', 'scream', 'marriage', 'announcement', 'shuhui', 'weather', '25p', 'vodafone', 'holder', 'evng', 'envelope', \"'\", 'how?', \"u're\", 'gap', 'wer', 'aftr', 'students', 'exactly', 'yay', 'txtauction', 'yest', 'advance', 'closed', 'wats', 'plan?', 'door', 'pobox84', 'w45wq', 'norm150p/tone', 'boo', 'hunny', 'surely', 'five', 'wed', 'mother', 'fall', 'training', 'sup', 'murder', 'due', 'teach', 'wherever', 'expensive', '\"\"our', 'heavy', 'nxt', 'contract', 'kerala', 'j', 'loverboy', 'holla', 'flower', 'f', 'works', 'regards', 'fight', 'sipix', 'aiyah', 'o2', 'urawinner', 'howz', \"let's\", 'not?', 'station', 'energy', 'around?', 'over?', 'cell', 'thts', 'married', 'super', 'marry', 'fantasies', '08707509020', 'girlfrnd', '\"\"i', '4th', 'nature', 'keeping', 'except', 'internet', 'screaming', '86021', 'single', 'instead', 'tomorrow?', 'london', 'lookin', 'boys', 'arcade', 'created', 'exciting', 'rate)', '09050090044', 'toclaim', 'pobox334', 'stockport', 'cost£1', '50/pm', 'max10mins', 'said:', 'theatre', 'ahmad', 'freemsg:', 'official', 'nimya', 'sed', 'role', 'checked', 'added', 'pussy', 'budget', 'random', 'plenty', 'behind', 'amazing', 'hrs', 'aha', 'cancer', 'feb', 'tariffs', 'tick', 'planned', 'meds', 'darling', 'callers', '*9', 'searching', 'i‘m', 'stock', 'hopefully', 'tyler', 'weak', 'ride', 'joke', 'plane', 'respect', 'urgnt', '530', 'boston', 'truly', 'scared', 'happened?', 'cabin', 'voda', 'quoting', 'app', \"shouldn't\", 'q', 'locations', 'ec2a', 'rooms', 'replied', 'text?', 'begin', 'boy?', 'her:', 'discuss', 'connection', 'romantic', 'soon?', '25', 'argument', 'wins', 'website', 'fix', 'childish', 'handset?', 'singles', 'rays', 'bf', 'anybody', 'cry', 'selection', \"aren't\", \"he'll\", 'december', '11mths+?', 'cud', 'ppl', 'surfing', 'yijue', 'basically', 'allah', 'cc:', 'air', 'sonyericsson', 'geeee', \"did't\", '*sighs*', 'body', 'guide', 'dinner?', 'intro', 'current', 'pictures', 'yan', 'jiu', '=d', 'pobox36504w45wq', 'contacted', \"she'll\", 'hv', 'amt', 'respond', 'vary', 'dollars', 'woman', 'don\\x92t', 'flat', 'charges', 'moan', 'some1', 'village', 'spl', 'character', 'stylish', 'prabha', 'pin', 'returns', 'english', '2mrw', 'jazz', \"t's&c's\", '1x150p/wk', 'stopped', 'indian', 'ladies', 'somethin', 'euro2004', 'results', 'daily', 'drinks', 'forwarded', '80062', 'thursday', 'cartoon', 'listening', 'gentle', 'hella', 'drug', 'earth', 'fetch', ';)', 'belly', 'again?', 'timing', 'mad', 'opportunity', 'gals', 'tis', \"couldn't\", 'living', 'polyphonic', 'xxxx', 'zed', 'ages', 'playing', 'sn', 'cds', 'records', 'birds', 'ta', 'travel', 'unsold', 'cheaper', '(10p/min)', 'ym', 'pissed', 'campus', 'wear', 'places', 'photos', '08718720201', 'brand', 'site', 'ad', 'salary', 'videophones', 'videochat', 'java', 'dload', 'noline', 'rentl', 'dropped', 'yun', 'jesus', 'awake', 'is?', 'gn', 'april', 'revealed', 'xchat', 'phone?', 'hands', 'receipt', 'interesting', 'italian', '50p', 'raining', 'cute', 'adult', 'horrible', 'nw', 'jordan', 'choice', 'mite', '150p/tone', 'rite?', 'chinese', 'cbe', '10p/min', '80488', 'broke', 'original', 'way?', 'pple', 'problems', 'arrested', '1)', '2)', 'linerental', 'meaning', 'cafe', 'moon', 'tells', 'totally', 'rem', 'exams', 'optout', '2nite?', 'bought', 'google', 'vomit', 'aint', 'centre', 'airport', 'da:)', 'costs', 'eerie', 'waking', 'ran', 'rd', 'hook', 'bin', 'social', 'selling', 'buns', '(std', 'address?', '#', 'hate', 'season', 'nvm', 'moms', 'tea', 'obviously', 'inclusive', 'ip4', '5we', 'armand', 'looked', 'expecting', 'pix', \"did'nt\", \"''ok''\", 'minuts', 'latr', 'unable', 'remind', 'whether', 'spook', 'fantasy', 'polys', 'brilliant', 'cars', 'er', 'deliver', 'amount', 'advice', 'issues', 'asleep', 'hr', ')', 'ignore', '28', 'cover', 'thurs', \"wouldn't\", 'relation', 'lik', 'asks', '3510i', '£400', 'common', 'oni', 'fa', 'tkts', '87121', 'lives', 'tb', 'six', '87575', 'membership', 'wet', 'that\\x92s', 'egg', \"mom's\", 'like?', 'subscription', 'letter', 'inches', 'embarassed', 'seemed', 'ac', 'series', 'iq', 'wah', 'machan', 'kano', 'becoz', 'fml', 'hols', 'appointment', 'legal', 'nyc', 'considering', 'jokes', 'tt', '(flights', 'inc)', '(18+)', 'needed', '786', 'unredeemed', 'yetunde', \"hasn't\", 'ansr', 'sp:tyrone', 'laid', 'largest', 'befor', 'activities', 'biggest', 'us?', 'netcollex', 'deleted']\n",
      "Tập huấn luyện: 4460 mẫu\n",
      "Tập kiểm tra: 1114 mẫu\n",
      "\n",
      "Cấu trúc cây quyết định:\n",
      "Feature '1' count <= 0.5\n",
      "  Left: Feature '8' count <= 0.5\n",
      "  Left:   Left: Feature 'r' count <= 5.5\n",
      "  Left:   Left:   Left: Leaf: 0\n",
      "  Left:   Left:   Right: Leaf: 0\n",
      "  Left:   Right: Feature '00' count <= 0.5\n",
      "  Left:   Right:   Left: Leaf: 0\n",
      "  Left:   Right:   Right: Leaf: 1\n",
      "  Right: Feature '8' count <= 0.5\n",
      "  Right:   Left: Feature '9' count <= 0.5\n",
      "  Right:   Left:   Left: Leaf: 0\n",
      "  Right:   Left:   Right: Leaf: 1\n",
      "  Right:   Right: Feature '&lt;#&gt;' count <= 0.5\n",
      "  Right:   Right:   Left: Leaf: 1\n",
      "  Right:   Right:   Right: Leaf: 0\n",
      "\n",
      "Độ chính xác trên tập kiểm tra: 96.68%\n",
      "Dự đoán tin nhắn mới 'Free tickets to win a prize! Call now!': ham\n"
     ]
    }
   ],
   "execution_count": 13
  },
  {
   "metadata": {
    "ExecuteTime": {
     "end_time": "2025-03-26T14:52:01.220717Z",
     "start_time": "2025-03-26T14:52:01.219545Z"
    }
   },
   "cell_type": "code",
   "source": "",
   "id": "11ab14b67fd8fa1f",
   "outputs": [],
   "execution_count": null
  }
 ],
 "metadata": {
  "kernelspec": {
   "display_name": "Python 3",
   "language": "python",
   "name": "python3"
  },
  "language_info": {
   "codemirror_mode": {
    "name": "ipython",
    "version": 2
   },
   "file_extension": ".py",
   "mimetype": "text/x-python",
   "name": "python",
   "nbconvert_exporter": "python",
   "pygments_lexer": "ipython2",
   "version": "2.7.6"
  }
 },
 "nbformat": 4,
 "nbformat_minor": 5
}
