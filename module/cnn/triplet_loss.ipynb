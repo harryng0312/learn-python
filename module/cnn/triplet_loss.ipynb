{
 "cells": [
  {
   "metadata": {},
   "cell_type": "code",
   "source": [
    "import tensorflow as tf\n",
    "from tensorflow.keras import layers, Model\n",
    "import numpy as np\n",
    "from sklearn.metrics.pairwise import euclidean_distances\n",
    "import matplotlib.pyplot as plt"
   ],
   "id": "55d2b507daebd61",
   "outputs": [],
   "execution_count": null
  },
  {
   "metadata": {},
   "cell_type": "code",
   "source": [
    "# 1. Load MNIST\n",
    "(x_train, y_train), (x_test, y_test) = tf.keras.datasets.mnist.load_data()\n",
    "x_train = x_train.astype('float32') / 255.0  # normalize to [0, 1]\n",
    "x_test = x_test.astype('float32') / 255.0\n",
    "x_train = np.expand_dims(x_train, axis=-1)  # add channel dim: (60000, 28, 28, 1)\n",
    "x_test = np.expand_dims(x_test, axis=-1)    # (10000, 28, 28, 1)"
   ],
   "id": "1f873b23ddc8c33f",
   "outputs": [],
   "execution_count": null
  },
  {
   "metadata": {},
   "cell_type": "code",
   "source": [
    "# 2. Create CCN to extract features\n",
    "def create_base_network():\n",
    "    inputs = layers.Input(shape=(28, 28, 1))\n",
    "    x = layers.Conv2D(32, (3, 3), activation='relu')(inputs)\n",
    "    x = layers.MaxPooling2D((2, 2))(x)\n",
    "    x = layers.Conv2D(64, (3, 3), activation='relu')(x)\n",
    "    x = layers.MaxPooling2D((2, 2))(x)\n",
    "    x = layers.Flatten()(x)\n",
    "    x = layers.Dense(128, activation='relu')(x)\n",
    "    x = layers.Dense(64, name='embedding')(x)  # Embedding 64 dim\n",
    "    x = layers.Lambda(lambda x: tf.math.l2_normalize(x, axis=1))(x)  # L2\n",
    "    return Model(inputs, x)\n",
    "\n",
    "base_network = create_base_network()\n",
    "base_network.summary()"
   ],
   "id": "6d9fd1fff0b23f7e",
   "outputs": [],
   "execution_count": null
  },
  {
   "metadata": {},
   "cell_type": "code",
   "source": [
    "# 3. create triplet set\n",
    "def create_triplets(x, y, num_triplets=1000):\n",
    "    triplets = []\n",
    "    for _ in range(num_triplets):\n",
    "        # Random Anchor and Positive (same labels)\n",
    "        anchor_idx = np.random.randint(0, len(x))\n",
    "        positive_idx = np.random.choice(np.where(y == y[anchor_idx])[0])\n",
    "        # Random Negative (diff labels)\n",
    "        negative_idx = np.random.choice(np.where(y != y[anchor_idx])[0])\n",
    "        triplets.append((x[anchor_idx], x[positive_idx], x[negative_idx]))\n",
    "    return triplets\n",
    "\n",
    "# Create triplet set from training set\n",
    "triplets = create_triplets(x_train, y_train, num_triplets=5000)\n",
    "anchor_images = np.array([t[0] for t in triplets])\n",
    "positive_images = np.array([t[1] for t in triplets])\n",
    "negative_images = np.array([t[2] for t in triplets])"
   ],
   "id": "127a1a12182a5b4b",
   "outputs": [],
   "execution_count": null
  },
  {
   "metadata": {},
   "cell_type": "code",
   "source": [
    "# 4. Triplet Loss\n",
    "def triplet_loss(y_true, y_pred, alpha=0.2):\n",
    "    anchor, positive, negative = y_pred[:, 0:64], y_pred[:, 64:128], y_pred[:, 128:]\n",
    "    pos_dist = tf.reduce_sum(tf.square(anchor - positive), axis=1)\n",
    "    neg_dist = tf.reduce_sum(tf.square(anchor - negative), axis=1)\n",
    "    loss = tf.maximum(pos_dist - neg_dist + alpha, 0.0)\n",
    "    return tf.reduce_mean(loss)"
   ],
   "id": "766e30614fdffa61",
   "outputs": [],
   "execution_count": null
  },
  {
   "metadata": {},
   "cell_type": "code",
   "source": [
    "# 5. Create triplet model\n",
    "anchor_input = layers.Input(shape=(28, 28, 1), name='anchor')\n",
    "positive_input = layers.Input(shape=(28, 28, 1), name='positive')\n",
    "negative_input = layers.Input(shape=(28, 28, 1), name='negative')\n",
    "\n",
    "anchor_embedding = base_network(anchor_input)\n",
    "positive_embedding = base_network(positive_input)\n",
    "negative_embedding = base_network(negative_input)\n",
    "\n",
    "merged_output = layers.Concatenate(axis=1)([anchor_embedding, positive_embedding, negative_embedding])\n",
    "triplet_model = Model(inputs=[anchor_input, positive_input, negative_input], outputs=merged_output)\n",
    "triplet_model.compile(optimizer='adam', loss=triplet_loss)"
   ],
   "id": "d30ca78c9e4c8126",
   "outputs": [],
   "execution_count": null
  },
  {
   "metadata": {},
   "cell_type": "code",
   "source": [
    "# 6. train model\n",
    "triplet_model.fit(\n",
    "    [anchor_images, positive_images, negative_images],\n",
    "    np.zeros((len(anchor_images),)),  # y_true does not need, match to API only\n",
    "    epochs=10,\n",
    "    batch_size=32,\n",
    "    verbose=1\n",
    ")"
   ],
   "id": "6c7cb1b101096fd8",
   "outputs": [
    {
     "name": "stdout",
     "output_type": "stream",
     "text": [
      "\u001B[1m157/157\u001B[0m \u001B[32m━━━━━━━━━━━━━━━━━━━━\u001B[0m\u001B[37m\u001B[0m \u001B[1m2s\u001B[0m 13ms/step - loss: 0.0017\n"
     ]
    },
    {
     "data": {
      "text/plain": [
       "<keras.src.callbacks.history.History at 0x31d7a1780>"
      ]
     },
     "execution_count": 14,
     "metadata": {},
     "output_type": "execute_result"
    }
   ],
   "execution_count": 14
  },
  {
   "metadata": {
    "ExecuteTime": {
     "end_time": "2025-03-31T09:42:06.380665Z",
     "start_time": "2025-03-31T09:42:05.856657Z"
    }
   },
   "cell_type": "code",
   "source": [
    "# 7. save embedding of reference set\n",
    "reference_images = x_train[:100]  # get 100 samples to refer\n",
    "reference_labels = y_train[:100]\n",
    "reference_embeddings = base_network.predict(reference_images)"
   ],
   "id": "f44e0d492f611ebb",
   "outputs": [
    {
     "name": "stdout",
     "output_type": "stream",
     "text": [
      "\u001B[1m4/4\u001B[0m \u001B[32m━━━━━━━━━━━━━━━━━━━━\u001B[0m\u001B[37m\u001B[0m \u001B[1m0s\u001B[0m 144ms/step\n"
     ]
    }
   ],
   "execution_count": 15
  },
  {
   "metadata": {
    "ExecuteTime": {
     "end_time": "2025-03-31T09:42:08.195672Z",
     "start_time": "2025-03-31T09:42:08.191183Z"
    }
   },
   "cell_type": "code",
   "source": [
    "# 8. predict new one without re-train\n",
    "def recognize_digit(new_image, reference_embeddings, reference_labels):\n",
    "    new_embedding = base_network.predict(np.expand_dims(new_image, axis=0))\n",
    "    distances = euclidean_distances(new_embedding, reference_embeddings)[0]\n",
    "    nearest_idx = np.argmin(distances)\n",
    "    predicted_label = reference_labels[nearest_idx]\n",
    "    return predicted_label, distances[nearest_idx]\n"
   ],
   "id": "c873bb04d2d7fa8b",
   "outputs": [],
   "execution_count": 16
  },
  {
   "metadata": {
    "ExecuteTime": {
     "end_time": "2025-03-31T09:44:00.034232Z",
     "start_time": "2025-03-31T09:43:59.954842Z"
    }
   },
   "cell_type": "code",
   "source": [
    "# try to predict new from test set\n",
    "rand_idx = np.random.randint(0, len(x_test))\n",
    "new_image = x_test[rand_idx]\n",
    "true_label = y_test[rand_idx]\n",
    "predicted_label, distance = recognize_digit(new_image, reference_embeddings, reference_labels)\n",
    "print(f\"True Label: {true_label}, Predicted Label: {predicted_label}, Distance: {distance:.4f}\")\n",
    "\n",
    "# 9. visualize\n",
    "plt.imshow(new_image.squeeze(), cmap='gray')\n",
    "plt.title(f\"True: {true_label}, Predicted: {predicted_label}\")\n",
    "plt.show()"
   ],
   "id": "a76ae19c5eac4d3a",
   "outputs": [
    {
     "name": "stdout",
     "output_type": "stream",
     "text": [
      "\u001B[1m1/1\u001B[0m \u001B[32m━━━━━━━━━━━━━━━━━━━━\u001B[0m\u001B[37m\u001B[0m \u001B[1m0s\u001B[0m 15ms/step\n",
      "True Label: 2, Predicted Label: 2, Distance: 0.2422\n"
     ]
    },
    {
     "data": {
      "text/plain": [
       "<Figure size 640x480 with 1 Axes>"
      ],
      "image/png": "[encoded data removed]"
     },
     "metadata": {},
     "output_type": "display_data"
    }
   ],
   "execution_count": 64
  },
  {
   "metadata": {},
   "cell_type": "code",
   "outputs": [],
   "execution_count": null,
   "source": "",
   "id": "19aa2d0d68f80643"
  }
 ],
 "metadata": {
  "kernelspec": {
   "display_name": "Python 3",
   "language": "python",
   "name": "python3"
  },
  "language_info": {
   "codemirror_mode": {
    "name": "ipython",
    "version": 2
   },
   "file_extension": ".py",
   "mimetype": "text/x-python",
   "name": "python",
   "nbconvert_exporter": "python",
   "pygments_lexer": "ipython2",
   "version": "2.7.6"
  }
 },
 "nbformat": 4,
 "nbformat_minor": 5
}
