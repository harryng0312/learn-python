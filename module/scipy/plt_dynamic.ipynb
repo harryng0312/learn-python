{
 "cells": [
  {
   "cell_type": "code",
   "execution_count": 2,
   "metadata": {
    "ExecuteTime": {
     "end_time": "2023-07-08T04:51:52.984Z",
     "start_time": "2023-07-08T04:51:52.981691Z"
    }
   },
   "outputs": [],
   "source": [
    "import numpy as np\n",
    "import matplotlib\n",
    "import matplotlib.animation as animation\n",
    "# import matplotlib.image as img\n",
    "import matplotlib.pyplot as plt\n",
    "# import time\n",
    "# from IPython import display, DisplayHandle\n",
    "matplotlib.use(\"TkAgg\")"
   ]
  },
  {
   "cell_type": "code",
   "execution_count": 3,
   "metadata": {
    "ExecuteTime": {
     "end_time": "2023-07-08T04:46:53.097546Z",
     "start_time": "2023-07-08T04:46:53.093925Z"
    }
   },
   "outputs": [],
   "source": [
    "x = np.linspace(0, 2 * np.pi, 1000)\n",
    "y = np.sin(x**2)"
   ]
  },
  {
   "cell_type": "code",
   "execution_count": 7,
   "metadata": {
    "ExecuteTime": {
     "end_time": "2023-07-08T04:52:36.565715Z",
     "start_time": "2023-07-08T04:52:36.556729Z"
    }
   },
   "outputs": [],
   "source": [
    "\n",
    "fig, ax = plt.subplots(nrows=1, ncols=2, figsize=(12.80, 4.80))\n",
    "fig.suptitle(t=\"Sin of X\")\n",
    "ax[0].set_title(label=\"y=sin(x**2)\")\n",
    "ax[1].set_title(label=\"y=-sin(x**2)\")\n",
    "\n",
    "sin1 = ax[0].plot(x, y, \"b-\")[0]\n",
    "sin2 = ax[1].plot(x, -y, \"b-\")[0]\n",
    "# ax[0].legend()\n",
    "# ax[1].legend()\n",
    "plt.ion()\n",
    "# y_new = np.sin(x - 5*i)\n",
    "\n",
    "\n",
    "def update(i) -> None:\n",
    "    # print(f\"[{i}] step\")\n",
    "    y_new = np.sin(x - 5*i)\n",
    "    sin1.set_ydata(y_new)\n",
    "    sin2.set_ydata(-y_new)\n",
    "    return\n",
    "\n",
    "ani = animation.FuncAnimation(fig=fig, func=update, frames=100, interval=100, repeat=False)\n",
    "plt.show()\n",
    "# plt.close()"
   ]
  }
 ],
 "metadata": {
  "kernelspec": {
   "display_name": "learn-python",
   "language": "python",
   "name": "python3"
  },
  "language_info": {
   "codemirror_mode": {
    "name": "ipython",
    "version": 3
   },
   "file_extension": ".py",
   "mimetype": "text/x-python",
   "name": "python",
   "nbconvert_exporter": "python",
   "pygments_lexer": "ipython3",
   "version": "3.11.3"
  },
  "orig_nbformat": 4
 },
 "nbformat": 4,
 "nbformat_minor": 2
}
