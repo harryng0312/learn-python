{
 "cells": [
  {
   "cell_type": "code",
   "execution_count": 2,
   "metadata": {},
   "outputs": [],
   "source": [
    "import numpy as np\n",
    "import matplotlib\n",
    "import matplotlib.pyplot as plt\n",
    "\n",
    "from PIL import Image\n",
    "from sklearn import preprocessing as prep\n",
    "\n",
    "from module.conf import PROJECT_DIR\n",
    "\n",
    "matplotlib.use(\"QTCairo\")"
   ]
  },
  {
   "cell_type": "markdown",
   "metadata": {},
   "source": [
    "## 1. Read Image"
   ]
  },
  {
   "cell_type": "code",
   "execution_count": 3,
   "metadata": {},
   "outputs": [],
   "source": [
    "img: Image.Image = Image.open(PROJECT_DIR + \"/data/img/Cyprus.jpg\")\n",
    "mImg = np.asarray(img)\n",
    "fig, axes = plt.subplots()\n",
    "axes.imshow(mImg)\n",
    "plt.show()"
   ]
  },
  {
   "cell_type": "markdown",
   "metadata": {},
   "source": [
    "## 2. Write Image"
   ]
  },
  {
   "cell_type": "code",
   "execution_count": 6,
   "metadata": {},
   "outputs": [
    {
     "data": {
      "text/plain": [
       "<matplotlib.image.AxesImage at 0x17649df90>"
      ]
     },
     "execution_count": 6,
     "metadata": {},
     "output_type": "execute_result"
    }
   ],
   "source": [
    "min = np.min(mImg)\n",
    "max = np.max(mImg)\n",
    "mImgRescaled = (mImg - min)/(max - min)\n",
    "\n",
    "mImgRestore = np.dot(mImgRescaled, 255).astype(np.uint8)\n",
    "\n",
    "modImg: Image.Image = Image.fromarray(mImgRestore)\n",
    "\n",
    "fig, axes = plt.subplots()\n",
    "axes.imshow(modImg)\n",
    "plt.show()"
   ]
  }
 ],
 "metadata": {
  "kernelspec": {
   "display_name": "learn-python",
   "language": "python",
   "name": "python3"
  },
  "language_info": {
   "codemirror_mode": {
    "name": "ipython",
    "version": 3
   },
   "file_extension": ".py",
   "mimetype": "text/x-python",
   "name": "python",
   "nbconvert_exporter": "python",
   "pygments_lexer": "ipython3",
   "version": "3.11.4"
  },
  "orig_nbformat": 4
 },
 "nbformat": 4,
 "nbformat_minor": 2
}
